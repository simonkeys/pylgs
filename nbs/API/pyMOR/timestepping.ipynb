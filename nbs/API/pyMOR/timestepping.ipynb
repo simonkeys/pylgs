{
 "cells": [
  {
   "cell_type": "code",
   "execution_count": null,
   "metadata": {},
   "outputs": [],
   "source": [
    "#| default_exp pymor.timestepping"
   ]
  },
  {
   "cell_type": "markdown",
   "metadata": {},
   "source": [
    "# pymor.timestepping\n",
    "\n",
    "> Extended functionality for [pyMOR](https://pymor.org/) time steppers"
   ]
  },
  {
   "cell_type": "code",
   "execution_count": null,
   "metadata": {},
   "outputs": [],
   "source": [
    "#| export\n",
    "from fastcore.basics import patch\n",
    "import ipywidgets as widgets\n",
    "\n",
    "import numpy as np\n",
    "from scikits.odes.sundials import cvode\n",
    "import pymor\n",
    "from pymor.algorithms.to_matrix import to_matrix\n",
    "from pymor.algorithms.timestepping import TimeStepper\n",
    "\n",
    "from pylgs.utilities.sparse import sparse2d_identity, spilu, restrict_bandwidth\n",
    "from pylgs.pymor.vectorarrays import *\n",
    "from pylgs.pymor.operators import *"
   ]
  },
  {
   "cell_type": "code",
   "execution_count": null,
   "metadata": {},
   "outputs": [],
   "source": [
    "#| export\n",
    "try:\n",
    "    @pymor.defaults('cvode_bdf_rtol', 'cvode_bdf_atol', 'cvode_bdf_max_steps', 'cvode_stiff_switching_t_switch')\n",
    "    def cvode_solver_options(\n",
    "        cvode_bdf_rtol=1e-3,\n",
    "        cvode_bdf_atol=1e-6,\n",
    "        cvode_bdf_max_steps=1000,\n",
    "        cvode_bdf_inflection_times=None,\n",
    "        cvode_stiff_switching_t_switch=1e-7\n",
    "    ):\n",
    "        opts = {\n",
    "            'cvode_bdf': {'type': 'cvode_bdf', 'atol': cvode_bdf_atol, 'rtol': cvode_bdf_rtol, 'max_steps': cvode_bdf_max_steps, 'inflection_times': cvode_bdf_inflection_times},\n",
    "            'cvode_stiff_switching': {'type': 'cvode_stiff_switching', 't_switch': cvode_stiff_switching_t_switch}\n",
    "        }\n",
    "        return opts\n",
    "except ValueError: pass"
   ]
  },
  {
   "cell_type": "markdown",
   "metadata": {},
   "source": [
    "### solve -\n"
   ]
  },
  {
   "cell_type": "code",
   "execution_count": null,
   "metadata": {},
   "outputs": [],
   "source": [
    "#| export\n",
    "@patch\n",
    "def solve(self:TimeStepper, initial_time, end_time, initial_data, operator, rhs=None, mass=None, mu=None, num_values=None):\n",
    "    \"\"\"Apply time-stepper to the equation.\n",
    "\n",
    "    The equation is of the form ::\n",
    "\n",
    "        M(mu) * d_t u + A(u, mu, t) = F(mu, t),\n",
    "                         u(mu, t_0) = u_0(mu).\n",
    "\n",
    "    Parameters\n",
    "    ----------\n",
    "    initial_time\n",
    "        The time at which to begin time-stepping.\n",
    "    end_time\n",
    "        The time until which to perform time-stepping.\n",
    "    initial_data\n",
    "        The solution vector at initial_timeinitial_time.\n",
    "    operator\n",
    "        The |Operator| A.\n",
    "    rhs\n",
    "        The right-hand side F (either |VectorArray| of length 1 or |Operator| with\n",
    "        source.dim == 1source.dim == 1). If NoneNone, zero right-hand side is assumed.\n",
    "    mass\n",
    "        The |Operator| M. If NoneNone, the identity operator is assumed.\n",
    "    mu\n",
    "        |Parameter values| for which operatoroperator and rhsrhs are evaluated. The current\n",
    "        time is added to mumu with key tt.\n",
    "    num_values\n",
    "        The number of returned vectors of the solution trajectory. If NoneNone, each\n",
    "        intermediate vector that is calculated is returned.\n",
    "\n",
    "    Returns\n",
    "    -------\n",
    "    |VectorArray| containing the solution trajectory.\n",
    "    \"\"\"\n",
    "    try:\n",
    "        num_time_steps = self.estimate_time_step_count(initial_time, end_time)\n",
    "    except NotImplementedError:\n",
    "        num_time_steps = 0\n",
    "    iterator = self.iterate(initial_time, end_time, initial_data, operator, rhs=rhs, mass=mass, mu=mu,\n",
    "                            num_values=num_values)\n",
    "    iterator = list(iterator)\n",
    "    if isinstance(iterator[0], XarrayVectorArray):\n",
    "        return iterator[0]\n",
    "    U = operator.source.empty(reserve=num_values if num_values else num_time_steps + 1)\n",
    "    t = []\n",
    "    for U_n, t_n in iterator:\n",
    "        U.append(U_n)\n",
    "        t.append(t_n)\n",
    "    try: return operator.source.from_numpy(U.to_numpy(), l={\"Time\": t})\n",
    "    except: return U"
   ]
  },
  {
   "cell_type": "code",
   "execution_count": null,
   "metadata": {},
   "outputs": [],
   "source": [
    "#| export\n",
    "class AdamsTimeStepper(TimeStepper):\n",
    "    def __init__(self):\n",
    "        self.__auto_init(locals())\n",
    "        \n",
    "    def iterate(self, initial_time, end_time, initial_data, operator, rhs=None, mass=None, mu=None, num_values=None):\n",
    "        a = operator.assemble(mu.with_(t=0.)).matrix\n",
    "        b = rhs.to_numpy().ravel()\n",
    "        \n",
    "        def cvode_rhs(t, y, ydot):\n",
    "            np.copyto(ydot, (-a.dot(y) + b))\n",
    "        \n",
    "        self._solver = cvode.CVODE(cvode_rhs, lmm_type='Adams', nonlinsolver='fixedpoint', max_steps=1000000, one_step_compute=num_values is None)\n",
    "        if num_values is not None:\n",
    "            self._t_list = np.linspace(initial_time, end_time, num_values)\n",
    "            sol = self._solver.solve(self._t_list, initial_data.to_numpy()[0])\n",
    "            y = sol.values.y\n",
    "        else:\n",
    "            self._t_list = [initial_time]\n",
    "            y = list(initial_data.to_numpy())\n",
    "            self._solver.init_step(t0=self._t_list[0], y0=y[0])\n",
    "            while self._t_list[-1] < end_time:\n",
    "                sol = self._solver.step(t=end_time)\n",
    "                self._t_list.append(sol.values.t)\n",
    "                y.append(sol.values.y)\n",
    "        return ((operator.range.from_numpy(u), t) for u, t in zip(y, self._t_list))"
   ]
  },
  {
   "cell_type": "code",
   "execution_count": null,
   "metadata": {},
   "outputs": [],
   "source": [
    "#| export\n",
    "class BDFTimeStepper(TimeStepper):\n",
    "    def __init__(self):\n",
    "        # self.__auto_init(locals())\n",
    "        pass\n",
    "        \n",
    "    def iterate(self, initial_time, end_time, initial_data, operator, rhs=None, mass=None, mu=None, num_values=None, solver_options=None):\n",
    "        options = cvode_solver_options()['cvode_bdf']\n",
    "        if solver_options:\n",
    "            options.update(solver_options)\n",
    "\n",
    "        progress = widgets.FloatProgress(\n",
    "            value=initial_time,\n",
    "            min=initial_time,\n",
    "            max=end_time,\n",
    "            bar_style='info',\n",
    "            orientation='horizontal'\n",
    "        )\n",
    "        display(progress)\n",
    "        \n",
    "        def cvode_rhs(t, y, ydot):\n",
    "            progress.value = t\n",
    "            np.copyto(ydot, (-operator.assemble(mu.with_(t=t)).apply(operator.source.from_numpy(y)) + rhs.as_range_array(mu.with_(t=t))).to_numpy()[0])\n",
    "\n",
    "        def preconditioner_setup(t, y, jok, jcurPtr, gamma, user_data):\n",
    "            \"\"\"Generate P and do ILU decomposition.\"\"\"\n",
    "            if jok:\n",
    "                jcurPtr.value = False\n",
    "            else:\n",
    "                user_data['approximate_jacobian'] = -to_matrix(operator.assemble(mu.with_(t=t)))\n",
    "                user_data['approximate_jacobian'] = restrict_bandwidth(user_data['approximate_jacobian'], operator.solver_options['inverse']['preconditioner_bandwidth'])\n",
    "                jcurPtr.value = True\n",
    "            # Scale jacobian by -gamma, add identity matrix and do LU decomposition\n",
    "            p = -gamma*user_data['approximate_jacobian'] + sparse2d_identity(user_data['approximate_jacobian'].shape[0])\n",
    "            user_data['factored_preconditioner'] = spilu(p.tocsc()) # , permc_spec='NATURAL')\n",
    "            return 0\n",
    "\n",
    "        def preconditioner_solve(t, y, r, z, gamma, delta, lr, user_data):\n",
    "            \"\"\" Solve the block-diagonal system Pz = r. \"\"\"\n",
    "            np.copyto(z, user_data['factored_preconditioner'].solve(r))\n",
    "            return 0              \n",
    "        \n",
    "        self._solver = cvode.CVODE(\n",
    "            cvode_rhs,\n",
    "            lmm_type='BDF', \n",
    "            nonlinsolver='newton', \n",
    "            linsolver='spgmr',\n",
    "            precond_type='left',\n",
    "            prec_setupfn=preconditioner_setup, \n",
    "            prec_solvefn=preconditioner_solve,\n",
    "            rtol=options['rtol'], \n",
    "            atol=options['atol'], \n",
    "            max_steps=options['max_steps'],\n",
    "            user_data={}\n",
    "        )\n",
    "        t_list = np.linspace(initial_time, end_time, num_values)\n",
    "        sol = self._solver.solve(t_list, initial_data.to_numpy()[0])\n",
    "        progress.close()\n",
    "        if isinstance(operator.source, XarrayVectorSpace):\n",
    "            return [operator.source.from_numpy(sol.values.y, extended_dim={'Time': t_list})]\n",
    "        return ((operator.source.from_numpy(u), t) for u, t in zip(sol.values.y, t_list))"
   ]
  },
  {
   "cell_type": "code",
   "execution_count": null,
   "metadata": {},
   "outputs": [],
   "source": [
    "from pymor.basic import *"
   ]
  },
  {
   "cell_type": "code",
   "execution_count": null,
   "metadata": {},
   "outputs": [
    {
     "data": {
      "application/vnd.jupyter.widget-view+json": {
       "model_id": "b54495c796894c4d82f13f47d5006e86",
       "version_major": 2,
       "version_minor": 0
      },
      "text/plain": [
       "Accordion(children=(HTML(value='', layout=Layout(height='16em', width='100%')),), titles=('Log Output',))"
      ]
     },
     "metadata": {},
     "output_type": "display_data"
    }
   ],
   "source": [
    "p = thermal_block_problem([2,2])\n",
    "m, _ = discretize_stationary_cg(p)\n",
    "pp = InstationaryProblem(p, initial_data=ConstantFunction(0., 2), T=1.)\n",
    "mm, _ = discretize_instationary_cg(pp, nt=10)"
   ]
  },
  {
   "cell_type": "code",
   "execution_count": null,
   "metadata": {},
   "outputs": [],
   "source": [
    "solver_options={'inverse': {'type': 'scipy_lgmres_spilu', 'preconditioner_bandwidth': 2}}"
   ]
  },
  {
   "cell_type": "code",
   "execution_count": null,
   "metadata": {},
   "outputs": [],
   "source": [
    "mm = mm.with_(time_stepper=BDFTimeStepper(), num_values=200, operator=mm.operator.with_(solver_options=solver_options))"
   ]
  },
  {
   "cell_type": "code",
   "execution_count": null,
   "metadata": {},
   "outputs": [
    {
     "data": {
      "application/vnd.jupyter.widget-view+json": {
       "model_id": "fd38c30cb02c4c8fb94bfce738ce27a3",
       "version_major": 2,
       "version_minor": 0
      },
      "text/plain": [
       "Accordion(children=(HTML(value='', layout=Layout(height='16em', width='100%')),), titles=('Log Output',))"
      ]
     },
     "metadata": {},
     "output_type": "display_data"
    },
    {
     "data": {
      "application/vnd.jupyter.widget-view+json": {
       "model_id": "",
       "version_major": 2,
       "version_minor": 0
      },
      "text/plain": [
       "FloatProgress(value=0.0, bar_style='info', max=1.0)"
      ]
     },
     "metadata": {},
     "output_type": "display_data"
    },
    {
     "data": {
      "text/plain": [
       "NumpyVectorArray(\n",
       "    NumpyVectorSpace(20201, id='STATE'),\n",
       "    [[0.00000000e+00 0.00000000e+00 0.00000000e+00 ... 0.00000000e+00\n",
       "      0.00000000e+00 0.00000000e+00]\n",
       "     [0.00000000e+00 0.00000000e+00 0.00000000e+00 ... 1.67496868e-07\n",
       "      1.67496868e-07 1.65840032e-07]\n",
       "     [0.00000000e+00 0.00000000e+00 0.00000000e+00 ... 3.34985394e-07\n",
       "      3.34985394e-07 3.30310367e-07]\n",
       "     ...\n",
       "     [0.00000000e+00 0.00000000e+00 0.00000000e+00 ... 2.65871350e-05\n",
       "      2.59707286e-05 1.76848884e-05]\n",
       "     [0.00000000e+00 0.00000000e+00 0.00000000e+00 ... 2.66890353e-05\n",
       "      2.60647313e-05 1.77289256e-05]\n",
       "     [0.00000000e+00 0.00000000e+00 0.00000000e+00 ... 2.67906338e-05\n",
       "      2.61583773e-05 1.77726439e-05]],\n",
       "    _len=200)"
      ]
     },
     "execution_count": null,
     "metadata": {},
     "output_type": "execute_result"
    }
   ],
   "source": [
    "mm.solve({'diffusion': [.5, .6, .7, .8]})"
   ]
  },
  {
   "cell_type": "code",
   "execution_count": null,
   "metadata": {},
   "outputs": [],
   "source": [
    "#| hide\n",
    "# import matplotlib.pyplot as plt\n",
    "# import numpy as np\n",
    "# import scipy.sparse as sps\n",
    "# from pymor.models.iosys import LTIModel\n",
    "# import numpy as np\n",
    "# import scipy.sparse as sps\n",
    "# from pymor.core.logger import set_log_levels\n",
    "# from pymor.algorithms.timestepping import ImplicitEulerTimeStepper\n",
    "\n",
    "# set_log_levels({'pymor': 'WARNING'})\n",
    "\n",
    "# k = 50\n",
    "# n = 2 * k + 1\n",
    "\n",
    "# E = sps.eye(n, format='lil')\n",
    "# E[0, 0] = E[-1, -1] = 0.5\n",
    "# E = E.tocsc()\n",
    "\n",
    "# d0 = n * [-2 * (n - 1)**2]\n",
    "# d1 = (n - 1) * [(n - 1)**2]\n",
    "# A = sps.diags([d1, d0, d1], [-1, 0, 1], format='lil')\n",
    "# A[0, 0] = A[-1, -1] = -n * (n - 1)\n",
    "# A = A.tocsc()\n",
    "\n",
    "# B = np.zeros((n, 2))\n",
    "# B[:, 0] = 1\n",
    "# B[0, 0] = B[-1, 0] = 0.5\n",
    "# B[0, 1] = n - 1\n",
    "\n",
    "# C = np.zeros((3, n))\n",
    "# C[0, :n//3] = C[1, n//3:2*n//3] = C[2, 2*n//3:] = 1\n",
    "# C /= C.sum(axis=1)[:, np.newaxis]\n",
    "\n",
    "# fom = LTIModel.from_matrices(A, B, C, E=E)\n",
    "\n",
    "# fom = fom.with_(T=4, time_stepper=ImplicitEulerTimeStepper(200))\n",
    "\n",
    "# fom = fom.with_(solver_options=solver_options)\n",
    "\n",
    "# sol = fom.solve(input='[sin(4 * t[0]), sin(6 * t[0])]')\n",
    "# Y = fom.C.apply(sol).to_numpy()\n",
    "\n",
    "# # Y = fom.output(input='[sin(4 * t[0]), sin(6 * t[0])]')\n",
    "\n",
    "# fig, ax = plt.subplots()\n",
    "# for i, y in enumerate(Y.T):\n",
    "#     ax.plot(np.linspace(0, fom.T, fom.time_stepper.nt + 1), y, label=f'$y_{i+1}(t)$')\n",
    "# _ = ax.set(xlabel='$t$', ylabel='$y(t)$', title='Output')\n",
    "# _ = ax.legend()\n",
    "\n",
    "# fom = fom.with_(\n",
    "#     T=4, time_stepper=BDFTimeStepper(), num_values=200, \n",
    "#     A=fom.A.with_(solver_options=solver_options), \n",
    "#     B=fom.B.with_(solver_options=solver_options),\n",
    "#     C=fom.C.with_(solver_options=solver_options),\n",
    "#     E=fom.E.with_(solver_options=solver_options)\n",
    "# )\n",
    "\n",
    "# fom\n",
    "\n",
    "# sol = fom.solve(input='[sin(4 * t[0]), sin(6 * t[0])]')\n",
    "# Y = fom.C.apply(sol).to_numpy()\n",
    "\n",
    "# # Y = fom.output(input='[sin(4 * t[0]), sin(6 * t[0])]')\n",
    "\n",
    "# fig, ax = plt.subplots()\n",
    "# for i, y in enumerate(Y.T):\n",
    "#     ax.plot(np.linspace(0, fom.T, fom.num_values), y, label=f'$y_{i+1}(t)$')\n",
    "# _ = ax.set(xlabel='$t$', ylabel='$y(t)$', title='Output')\n",
    "# _ = ax.legend()"
   ]
  },
  {
   "cell_type": "code",
   "execution_count": null,
   "metadata": {},
   "outputs": [],
   "source": [
    "#| export\n",
    "class StiffSwitchingTimeStepper(TimeStepper):\n",
    "    def __init__(self):\n",
    "        # self.__auto_init(locals())\n",
    "        pass\n",
    "        \n",
    "    def iterate(self, initial_time, end_time, initial_data, operator, rhs=None, mass=None, mu=None, num_values=None, solver_options=None):\n",
    "        options = cvode_solver_options()['cvode_stiff_switching']\n",
    "        if solver_options:\n",
    "            options.update(solver_options)\n",
    "\n",
    "        if initial_time < options['t_switch']:\n",
    "            nonstiff_solver = AdamsTimeStepper()\n",
    "            nonstiff = list(nonstiff_solver.iterate(initial_time, options['t_switch'], initial_data, operator, rhs=rhs, mass=mass, mu=mu, num_values=num_values))\n",
    "            nonstiff_t_list = nonstiff_solver._t_list\n",
    "            initial_data = nonstiff[-1][0]\n",
    "            initial_time = nonstiff_t_list[-1]\n",
    "        else:\n",
    "            nonstiff = []\n",
    "            nonstiff_t_list = []\n",
    "\n",
    "        if end_time > options['t_switch']:\n",
    "            stiff_solver = BDFTimeStepper()\n",
    "            stiff = list(stiff_solver.iterate(options['t_switch'], end_time, initial_data, operator, rhs=rhs, mass=mass, mu=mu, num_values=num_values, solver_options=solver_options))\n",
    "            stiff_t_list = stiff_solver._t_list            \n",
    "        else:\n",
    "            stiff = []\n",
    "            stiff_t_list = []\n",
    "\n",
    "        self._t_list = np.concatenate([nonstiff_t_list, stiff_t_list])\n",
    "        \n",
    "        return nonstiff + stiff"
   ]
  },
  {
   "cell_type": "markdown",
   "metadata": {},
   "source": [
    "## Export - "
   ]
  },
  {
   "cell_type": "code",
   "execution_count": null,
   "metadata": {},
   "outputs": [],
   "source": [
    "#| hide\n",
    "import nbdev; nbdev.nbdev_export()"
   ]
  },
  {
   "cell_type": "code",
   "execution_count": null,
   "metadata": {},
   "outputs": [],
   "source": []
  }
 ],
 "metadata": {
  "kernelspec": {
   "display_name": "python3",
   "language": "python",
   "name": "python3"
  }
 },
 "nbformat": 4,
 "nbformat_minor": 4
}
