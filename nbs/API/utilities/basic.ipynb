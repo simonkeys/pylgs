{
 "cells": [
  {
   "cell_type": "code",
   "execution_count": null,
   "id": "bac0d15b-f88a-43b0-bd3a-1a03d984110e",
   "metadata": {},
   "outputs": [],
   "source": [
    "#| default_exp utilities.basic"
   ]
  },
  {
   "cell_type": "markdown",
   "id": "f1a1a8aa-19ab-4395-992f-3849c51d523c",
   "metadata": {},
   "source": [
    "# utilities.basic\n",
    "\n",
    "> Basic python utility functions"
   ]
  },
  {
   "cell_type": "markdown",
   "id": "21e6fbe3-b01d-4715-954a-7d6aa798c6a3",
   "metadata": {},
   "source": [
    "## Imports -"
   ]
  },
  {
   "cell_type": "code",
   "execution_count": null,
   "id": "7a8c77f6-abed-4ede-ab49-a69f53e74bba",
   "metadata": {},
   "outputs": [],
   "source": [
    "#| hide\n",
    "from fastcore.test import test_eq"
   ]
  },
  {
   "cell_type": "code",
   "execution_count": null,
   "id": "a32334b5-4b45-4571-843a-2485abb6f8eb",
   "metadata": {},
   "outputs": [],
   "source": [
    "#|export\n",
    "import inspect\n",
    "from typing import *"
   ]
  },
  {
   "cell_type": "markdown",
   "id": "8130f306-e57c-4272-9b55-40c9b52f5904",
   "metadata": {},
   "source": [
    "## API -"
   ]
  },
  {
   "cell_type": "code",
   "execution_count": null,
   "id": "047a67fc-bb8a-4d2b-8a3d-510215d9446a",
   "metadata": {},
   "outputs": [],
   "source": [
    "#|export\n",
    "def get_item(\n",
    "    l:Sequence,           # Sequence to get item of\n",
    "    i:int,                # Index of item to get\n",
    "    default:Optional=None # Default value to return if sequence does not contain item at index\n",
    ")->Any:                   # Item or default value\n",
    "    \"\"\"Return item at index `i` from sequence `l` or `default` if item does not exist.\"\"\"\n",
    "    try: return l[i]\n",
    "    except IndexError: return default"
   ]
  },
  {
   "cell_type": "code",
   "execution_count": null,
   "id": "78cfc9b1-576b-4042-8c5f-b33eabe751dc",
   "metadata": {},
   "outputs": [
    {
     "data": {
      "text/plain": [
       "'b'"
      ]
     },
     "execution_count": null,
     "metadata": {},
     "output_type": "execute_result"
    }
   ],
   "source": [
    "get_item('abc', 1)"
   ]
  },
  {
   "cell_type": "code",
   "execution_count": null,
   "id": "e6c9f34f-af5c-4c44-b244-1647634ec4d0",
   "metadata": {},
   "outputs": [],
   "source": [
    "#|hide\n",
    "test_eq(_, 'b')"
   ]
  },
  {
   "cell_type": "code",
   "execution_count": null,
   "id": "4cfd06b0-bb8c-49fd-8116-dbdf08f91394",
   "metadata": {},
   "outputs": [
    {
     "data": {
      "text/plain": [
       "'foo'"
      ]
     },
     "execution_count": null,
     "metadata": {},
     "output_type": "execute_result"
    }
   ],
   "source": [
    "get_item('abc', 4, \"foo\")"
   ]
  },
  {
   "cell_type": "code",
   "execution_count": null,
   "id": "39670b00-002c-406e-a7ee-4d3f34ad58e6",
   "metadata": {},
   "outputs": [],
   "source": [
    "#|hide\n",
    "test_eq(_, 'foo')"
   ]
  },
  {
   "cell_type": "code",
   "execution_count": null,
   "id": "dfc828f0-9c3a-4982-ab4a-f9386246bf14",
   "metadata": {},
   "outputs": [
    {
     "data": {
      "text/plain": [
       "'None'"
      ]
     },
     "execution_count": null,
     "metadata": {},
     "output_type": "execute_result"
    }
   ],
   "source": [
    "str(get_item('abc', 4))"
   ]
  },
  {
   "cell_type": "code",
   "execution_count": null,
   "id": "32073baf-b594-447e-a4d8-bbaebd7626bd",
   "metadata": {},
   "outputs": [],
   "source": [
    "#|hide\n",
    "test_eq(_, 'None')"
   ]
  },
  {
   "cell_type": "code",
   "execution_count": null,
   "id": "9e5b4ae4-eb8f-413a-bdce-d9836d9cb62c",
   "metadata": {},
   "outputs": [],
   "source": [
    "#|export\n",
    "def filter_args(\n",
    "    fnc:Callable, # Function to test keyword arguments against\n",
    "    **kwargs      # Keyword arguments to test\n",
    ")->dict:          # Keyword arguments defined in signature of `fnc` \n",
    "    \"\"\"Return only keyword arguments defined in signature of function `fnc`.\"\"\"\n",
    "    return {k: v for k, v in kwargs.items() if k in inspect.signature(fnc).parameters}"
   ]
  },
  {
   "cell_type": "code",
   "execution_count": null,
   "id": "038418a1-0868-46c9-8a41-1d88715838c7",
   "metadata": {},
   "outputs": [
    {
     "data": {
      "text/plain": [
       "{'default': 3}"
      ]
     },
     "execution_count": null,
     "metadata": {},
     "output_type": "execute_result"
    }
   ],
   "source": [
    "filter_args(get_item, default=3, foo='bar')"
   ]
  },
  {
   "cell_type": "code",
   "execution_count": null,
   "id": "e01e555f-7ae1-49bc-a009-3ac999254781",
   "metadata": {},
   "outputs": [],
   "source": [
    "#|hide\n",
    "test_eq(_, {'default': 3})"
   ]
  },
  {
   "cell_type": "code",
   "execution_count": null,
   "id": "faebedaa-2143-4240-866e-b672aad103d5",
   "metadata": {},
   "outputs": [],
   "source": [
    "#|export\n",
    "def filter_out_args(\n",
    "    fnc:Callable, # Function to test keyword arguments against\n",
    "    **kwargs      # Keyword arguments to test\n",
    ")->dict:          # Keyword arguments not defined in signature of `fnc` \n",
    "    \"\"\"Return only keyword arguments not defined in signature of function `fnc`.\"\"\"\n",
    "    return {k: v for k, v in kwargs.items() if k not in inspect.signature(fnc).parameters}"
   ]
  },
  {
   "cell_type": "code",
   "execution_count": null,
   "id": "dbe7a8d3-5ef9-4ad8-a0f6-b3636e0eb26a",
   "metadata": {},
   "outputs": [
    {
     "data": {
      "text/plain": [
       "{'foo': 'bar'}"
      ]
     },
     "execution_count": null,
     "metadata": {},
     "output_type": "execute_result"
    }
   ],
   "source": [
    "filter_out_args(get_item, default=3, foo='bar')"
   ]
  },
  {
   "cell_type": "code",
   "execution_count": null,
   "id": "8965b068-7093-4f60-a77b-f9f73a27115f",
   "metadata": {},
   "outputs": [],
   "source": [
    "#|hide\n",
    "test_eq(_, {'foo': 'bar'})"
   ]
  },
  {
   "cell_type": "markdown",
   "id": "bb800164-61b7-407c-b23f-bd13d746f12a",
   "metadata": {},
   "source": [
    "## Export -"
   ]
  },
  {
   "cell_type": "code",
   "execution_count": null,
   "id": "5da49fc4-c57b-44b7-b789-18f106200987",
   "metadata": {},
   "outputs": [],
   "source": [
    "#| hide\n",
    "import nbdev; nbdev.nbdev_export()"
   ]
  },
  {
   "cell_type": "code",
   "execution_count": null,
   "id": "86cfffa2-61d0-40d9-873c-82f8e8684fb4",
   "metadata": {},
   "outputs": [],
   "source": []
  }
 ],
 "metadata": {
  "kernelspec": {
   "display_name": "python3",
   "language": "python",
   "name": "python3"
  }
 },
 "nbformat": 4,
 "nbformat_minor": 5
}
