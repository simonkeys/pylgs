{
 "cells": [
  {
   "cell_type": "code",
   "execution_count": null,
   "id": "bac0d15b-f88a-43b0-bd3a-1a03d984110e",
   "metadata": {},
   "outputs": [],
   "source": [
    "#| default_exp utilities.numpy"
   ]
  },
  {
   "cell_type": "markdown",
   "id": "f1a1a8aa-19ab-4395-992f-3849c51d523c",
   "metadata": {},
   "source": [
    "# utilities.numpy\n",
    "\n",
    "> Extra functionality for [NumPy](https://numpy.org/)"
   ]
  },
  {
   "cell_type": "code",
   "execution_count": null,
   "id": "7a8c77f6-abed-4ede-ab49-a69f53e74bba",
   "metadata": {},
   "outputs": [],
   "source": [
    "#| hide\n",
    "from fastcore.test import test_eq"
   ]
  },
  {
   "cell_type": "code",
   "execution_count": null,
   "id": "867baa2c-2f84-440e-aff6-554889b83e45",
   "metadata": {},
   "outputs": [],
   "source": [
    "#| export\n",
    "import numpy as np\n",
    "from numpy import array, ndarray"
   ]
  },
  {
   "cell_type": "markdown",
   "id": "54de525a-e900-4f61-b40c-5b7b108e9c8f",
   "metadata": {},
   "source": [
    "### sym_range -\n"
   ]
  },
  {
   "cell_type": "code",
   "execution_count": null,
   "id": "adaa4377-9e8d-46c9-ac78-025a4f8721ec",
   "metadata": {},
   "outputs": [],
   "source": [
    "#| export\n",
    "def sym_range(\n",
    "    n # Half-length of the array\n",
    ")->ndarray: # An integer NumPy array running from -n to n\n",
    "    \"\"\"A symmetric `arange`.\"\"\"\n",
    "    return np.arange(-n, n+1)"
   ]
  },
  {
   "cell_type": "markdown",
   "id": "5c03f6ac-08e2-4c1b-87d3-beb172332ecc",
   "metadata": {},
   "source": [
    "Create an array ranging from -2 to 2:"
   ]
  },
  {
   "cell_type": "code",
   "execution_count": null,
   "id": "78fba137-813a-486c-8422-307b2c5eaefe",
   "metadata": {},
   "outputs": [
    {
     "data": {
      "text/plain": [
       "array([-2, -1,  0,  1,  2])"
      ]
     },
     "execution_count": null,
     "metadata": {},
     "output_type": "execute_result"
    }
   ],
   "source": [
    "sym_range(2)"
   ]
  },
  {
   "cell_type": "code",
   "execution_count": null,
   "id": "46b76393-8d8f-4c00-b9ef-9bd4765e4986",
   "metadata": {},
   "outputs": [],
   "source": [
    "#| hide\n",
    "test_eq(_, array([-2, -1,  0,  1,  2]))"
   ]
  },
  {
   "cell_type": "code",
   "execution_count": null,
   "id": "ab1fb0fb-8e24-46b5-b678-10a143848060",
   "metadata": {},
   "outputs": [],
   "source": [
    "#| hide\n",
    "# def array_map(\n",
    "#     func, # Function to be applied to elements of array `arr` \n",
    "#     arr, # Numpy array\n",
    "#     level:int=None # Level of array to apply function to -- default None means deepest level\n",
    "# ):\n",
    "#     \"\"\"Map a function over a numpy array. \"\"\"    \n",
    "#     if level is None: level = len(arr.shape)\n",
    "#     if level == 1:\n",
    "#         return array(list(map(func, arr)))\n",
    "#     result = array_map(func, arr.reshape(-1, *arr.shape[level:]), 1)\n",
    "#     shape = arr.shape[:level]\n",
    "#     if result.ndim == 1:\n",
    "#         return result.reshape(shape)\n",
    "#     return result.reshape(*shape, -1)\n",
    "\n",
    "# arr = np.arange(6).reshape(1, 2, 3)\n",
    "\n",
    "# array_map(str, arr)\n",
    "\n",
    "# array_map(str, arr, 2)\n",
    "\n",
    "# array_map(str, arr, 1)\n",
    "\n",
    "# array_map(lambda x: [str(x)], arr)"
   ]
  },
  {
   "cell_type": "code",
   "execution_count": null,
   "id": "3beed14a-8ea3-4b2e-9842-32ce898dee50",
   "metadata": {},
   "outputs": [],
   "source": [
    "#| hide\n",
    "# def toarray(\n",
    "#     a # Sparse or dense array\n",
    "# ):\n",
    "#     \"\"\"If a is a scipy sparse array, return a dense numpy array, otherwise return the argument unchanged.\"\"\"\n",
    "#     if sps.issparse(a): return a.toarray()\n",
    "#     return a"
   ]
  },
  {
   "cell_type": "markdown",
   "id": "bb800164-61b7-407c-b23f-bd13d746f12a",
   "metadata": {},
   "source": [
    "## Export -"
   ]
  },
  {
   "cell_type": "code",
   "execution_count": null,
   "id": "5da49fc4-c57b-44b7-b789-18f106200987",
   "metadata": {},
   "outputs": [],
   "source": [
    "#| hide\n",
    "import nbdev; nbdev.nbdev_export()"
   ]
  },
  {
   "cell_type": "code",
   "execution_count": null,
   "id": "86cfffa2-61d0-40d9-873c-82f8e8684fb4",
   "metadata": {},
   "outputs": [],
   "source": []
  }
 ],
 "metadata": {
  "kernelspec": {
   "display_name": "python3",
   "language": "python",
   "name": "python3"
  }
 },
 "nbformat": 4,
 "nbformat_minor": 5
}
