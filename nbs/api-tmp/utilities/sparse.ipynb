{
 "cells": [
  {
   "cell_type": "code",
   "execution_count": null,
   "id": "bac0d15b-f88a-43b0-bd3a-1a03d984110e",
   "metadata": {},
   "outputs": [],
   "source": [
    "#| default_exp utilities.sparse"
   ]
  },
  {
   "cell_type": "markdown",
   "id": "f1a1a8aa-19ab-4395-992f-3849c51d523c",
   "metadata": {},
   "source": [
    "# utilities.sparse\n",
    "\n",
    "> Extra functionality for [sparse](https://sparse.pydata.org) and [scipy.sparse](https://docs.scipy.org/doc/scipy/reference/sparse.html)"
   ]
  },
  {
   "cell_type": "code",
   "execution_count": null,
   "id": "7fa3df41-69c5-4b64-aa1e-d537959bf2f5",
   "metadata": {},
   "outputs": [],
   "source": [
    "#| hide\n",
    "from fastcore.test import test_eq\n",
    "from pylgs.utilities.testing import test_array"
   ]
  },
  {
   "cell_type": "code",
   "execution_count": null,
   "id": "867baa2c-2f84-440e-aff6-554889b83e45",
   "metadata": {},
   "outputs": [],
   "source": [
    "#| export\n",
    "import itertools as it\n",
    "\n",
    "from fastcore.meta import delegates\n",
    "\n",
    "import numpy as np\n",
    "from numpy import array, ndarray\n",
    "import scipy.sparse as sps\n",
    "from scipy.sparse import sparray\n",
    "import scipy.linalg as spl\n",
    "import scipy.sparse.linalg as spa\n",
    "from sparse import COO, GCXS, SparseArray\n",
    "import sparse as ss"
   ]
  },
  {
   "cell_type": "markdown",
   "id": "93b6b284-f6e4-4f28-994d-e6dfe9bcf440",
   "metadata": {},
   "source": [
    "### sparse -"
   ]
  },
  {
   "cell_type": "code",
   "execution_count": null,
   "id": "1570e7c1-212e-4c06-bdc4-f427e417aebd",
   "metadata": {},
   "outputs": [],
   "source": [
    "#|export\n",
    "def sparse2d(a):\n",
    "    \"\"\"Create a 2D sparse array in specified format.\"\"\"\n",
    "    if isinstance(a, SparseArray): a = a.to_scipy_sparse()\n",
    "    return sps.csr_array(a)"
   ]
  },
  {
   "cell_type": "code",
   "execution_count": null,
   "id": "ff901617-7bf5-4ef9-b610-8a35b266509d",
   "metadata": {},
   "outputs": [
    {
     "data": {
      "text/plain": [
       "[<2x2 sparse array of type '<class 'numpy.float64'>'\n",
       " \twith 2 stored elements in Compressed Sparse Row format>,\n",
       " <2x2 sparse array of type '<class 'numpy.float64'>'\n",
       " \twith 2 stored elements in Compressed Sparse Row format>,\n",
       " <2x2 sparse array of type '<class 'numpy.float64'>'\n",
       " \twith 2 stored elements in Compressed Sparse Row format>,\n",
       " <2x2 sparse array of type '<class 'numpy.float64'>'\n",
       " \twith 2 stored elements in Compressed Sparse Row format>]"
      ]
     },
     "execution_count": null,
     "metadata": {},
     "output_type": "execute_result"
    }
   ],
   "source": [
    "arrays = [np.identity(2), sps.eye(2), ss.eye(2), ss.eye(2, format='gcxs')]\n",
    "[sparse2d(args) for args in arrays]"
   ]
  },
  {
   "cell_type": "code",
   "execution_count": null,
   "id": "a55a9153-4587-4cf1-9981-217d51ee6c72",
   "metadata": {},
   "outputs": [],
   "source": [
    "#|hide\n",
    "test_eq([a.__class__.__name__ for a in _], ['csr_array', 'csr_array', 'csr_array', 'csr_array'])"
   ]
  },
  {
   "cell_type": "code",
   "execution_count": null,
   "id": "216f4a2d-c16c-4d4e-80bf-691c7b27738b",
   "metadata": {},
   "outputs": [],
   "source": [
    "#|export\n",
    "@delegates(COO, but='data')\n",
    "def sparse(a, format='coo', **kwargs)->SparseArray:\n",
    "    \"\"\"Create an N-D sparse array in specified format.\"\"\"\n",
    "    if format == 'gcxs': cls = GCXS\n",
    "    elif format == 'coo': cls = COO\n",
    "    if isinstance(a, ndarray): return cls.from_numpy(a)\n",
    "    if sps.issparse(a): return cls.from_scipy_sparse(a)\n",
    "    if isinstance(a, SparseArray): return cls(a)\n",
    "    return cls(COO(*a, **kwargs)) # Assume a is coords and data in COO format"
   ]
  },
  {
   "cell_type": "code",
   "execution_count": null,
   "id": "60ada4e3-f825-42f5-bbf3-227128b7d5f4",
   "metadata": {},
   "outputs": [
    {
     "data": {
      "text/plain": [
       "[<COO: shape=(2, 2), dtype=float64, nnz=2, fill_value=0.0>,\n",
       " <GCXS: shape=(2, 2), dtype=float64, nnz=2, fill_value=0.0, compressed_axes=(0,)>,\n",
       " <COO: shape=(2, 2), dtype=float64, nnz=2, fill_value=0.0>,\n",
       " <GCXS: shape=(2, 2), dtype=float64, nnz=2, fill_value=0, compressed_axes=(0,)>,\n",
       " <COO: shape=(2, 2), dtype=float64, nnz=2, fill_value=0.0>,\n",
       " <GCXS: shape=(2, 2), dtype=float64, nnz=2, fill_value=0.0, compressed_axes=(0,)>,\n",
       " <COO: shape=(2, 2), dtype=float64, nnz=2, fill_value=0.0>,\n",
       " <GCXS: shape=(2, 2), dtype=float64, nnz=2, fill_value=0.0, compressed_axes=(0,)>]"
      ]
     },
     "execution_count": null,
     "metadata": {},
     "output_type": "execute_result"
    }
   ],
   "source": [
    "arrays = [np.identity(2), sps.eye(2), ss.eye(2), [[[0, 1], [0, 1]], [1., 1.]]]\n",
    "[sparse(*args) for args in it.product(arrays, ['coo', 'gcxs'])]"
   ]
  },
  {
   "cell_type": "code",
   "execution_count": null,
   "id": "a96a7789-0b15-4139-9a07-008298dc5cd2",
   "metadata": {},
   "outputs": [],
   "source": [
    "#|hide\n",
    "test_eq([a.__class__.__name__ for a in _], ['COO', 'GCXS', 'COO', 'GCXS', 'COO', 'GCXS', 'COO', 'GCXS'])"
   ]
  },
  {
   "cell_type": "markdown",
   "id": "619b9aa3-9e1a-42a0-8275-4ca90b6b881f",
   "metadata": {},
   "source": [
    "### sparse_identity -"
   ]
  },
  {
   "cell_type": "code",
   "execution_count": null,
   "id": "7086e75b-0760-46aa-886e-6758814c0c1d",
   "metadata": {},
   "outputs": [],
   "source": [
    "#|export\n",
    "def sparse2d_identity(n):\n",
    "    return sps.eye_array(n)"
   ]
  },
  {
   "cell_type": "code",
   "execution_count": null,
   "id": "429d0fd0-ad69-414e-854b-e9b372fdd220",
   "metadata": {},
   "outputs": [
    {
     "data": {
      "text/plain": [
       "<2x2 sparse array of type '<class 'numpy.float64'>'\n",
       "\twith 2 stored elements (1 diagonals) in DIAgonal format>"
      ]
     },
     "execution_count": null,
     "metadata": {},
     "output_type": "execute_result"
    }
   ],
   "source": [
    "sparse2d_identity(2)"
   ]
  },
  {
   "cell_type": "code",
   "execution_count": null,
   "id": "8d87c46c-4ac4-486b-80d6-21ed93c0b7e5",
   "metadata": {},
   "outputs": [],
   "source": [
    "#|export\n",
    "def sparse_identity(n, format='coo')->SparseArray:\n",
    "    return ss.eye(n, format=format)"
   ]
  },
  {
   "cell_type": "code",
   "execution_count": null,
   "id": "80db0e92-977a-4291-8927-cd47b000fcb2",
   "metadata": {},
   "outputs": [
    {
     "data": {
      "text/plain": [
       "[<COO: shape=(2, 2), dtype=float64, nnz=2, fill_value=0.0>,\n",
       " <GCXS: shape=(2, 2), dtype=float64, nnz=2, fill_value=0.0, compressed_axes=(0,)>]"
      ]
     },
     "execution_count": null,
     "metadata": {},
     "output_type": "execute_result"
    }
   ],
   "source": [
    "[sparse_identity(2, format=fmt) for fmt in ['coo', 'gcxs']]"
   ]
  },
  {
   "cell_type": "markdown",
   "id": "ed238a61-efd3-4090-84ce-9c2ea26ea6a0",
   "metadata": {},
   "source": [
    "### sparse_diag -"
   ]
  },
  {
   "cell_type": "code",
   "execution_count": null,
   "id": "16ae675f-b27c-4803-991d-28112d0087f2",
   "metadata": {},
   "outputs": [],
   "source": [
    "#|export\n",
    "def sparse2d_diag(diags, offsets=0):\n",
    "    return sps.diags_array(diags, offsets=offsets)"
   ]
  },
  {
   "cell_type": "code",
   "execution_count": null,
   "id": "e52a1575-da6a-498e-8922-beb1d3ac56b9",
   "metadata": {},
   "outputs": [
    {
     "data": {
      "text/plain": [
       "<2x2 sparse array of type '<class 'numpy.float64'>'\n",
       "\twith 2 stored elements (1 diagonals) in DIAgonal format>"
      ]
     },
     "execution_count": null,
     "metadata": {},
     "output_type": "execute_result"
    }
   ],
   "source": [
    "sparse2d_diag([1, 1])"
   ]
  },
  {
   "cell_type": "code",
   "execution_count": null,
   "id": "2a5e0268-db2b-487f-b6c0-e91bc6774790",
   "metadata": {},
   "outputs": [],
   "source": [
    "#| export\n",
    "def sparse_diag(diag, format='coo')->SparseArray:\n",
    "    return sparse(sparse2d_diag(diag), format=format)"
   ]
  },
  {
   "cell_type": "code",
   "execution_count": null,
   "id": "6461a4f7-9da7-410d-b519-cdfd53a4097a",
   "metadata": {},
   "outputs": [
    {
     "data": {
      "text/html": [
       "<table><tbody><tr><th style=\"text-align: left\">Format</th><td style=\"text-align: left\">coo</td></tr><tr><th style=\"text-align: left\">Data Type</th><td style=\"text-align: left\">float64</td></tr><tr><th style=\"text-align: left\">Shape</th><td style=\"text-align: left\">(2, 2)</td></tr><tr><th style=\"text-align: left\">nnz</th><td style=\"text-align: left\">2</td></tr><tr><th style=\"text-align: left\">Density</th><td style=\"text-align: left\">0.5</td></tr><tr><th style=\"text-align: left\">Read-only</th><td style=\"text-align: left\">True</td></tr><tr><th style=\"text-align: left\">Size</th><td style=\"text-align: left\">32</td></tr><tr><th style=\"text-align: left\">Storage ratio</th><td style=\"text-align: left\">1.00</td></tr></tbody></table>"
      ],
      "text/plain": [
       "<COO: shape=(2, 2), dtype=float64, nnz=2, fill_value=0.0>"
      ]
     },
     "execution_count": null,
     "metadata": {},
     "output_type": "execute_result"
    }
   ],
   "source": [
    "sparse_diag([1, 1])"
   ]
  },
  {
   "cell_type": "markdown",
   "id": "f999eaa9-8782-4a5c-bd0f-d3345166fc11",
   "metadata": {},
   "source": [
    "### sparse_toeplitz -"
   ]
  },
  {
   "cell_type": "code",
   "execution_count": null,
   "id": "a78fc1e9-1768-474a-864e-4a96b4fa2c08",
   "metadata": {},
   "outputs": [],
   "source": [
    "#| export\n",
    "def dense_toeplitz(\n",
    "    diags:ndarray, # Value on each diagonal, starting at lower left.\n",
    "):\n",
    "    \"\"\"Return a toeplitz array given the value on each diagonal (starting at lower left).\"\"\"\n",
    "    n = (len(diags) - 1) // 2\n",
    "    return spl.toeplitz(diags[:n+1][::-1], diags[n:])"
   ]
  },
  {
   "cell_type": "code",
   "execution_count": null,
   "id": "720e0798-c784-4258-b313-84ce54e375f2",
   "metadata": {},
   "outputs": [
    {
     "data": {
      "text/plain": [
       "array([[2, 3],\n",
       "       [1, 2]])"
      ]
     },
     "execution_count": null,
     "metadata": {},
     "output_type": "execute_result"
    }
   ],
   "source": [
    "dense_toeplitz([1, 2, 3])"
   ]
  },
  {
   "cell_type": "code",
   "execution_count": null,
   "id": "7deac9c3-f8fc-4542-ad6e-6f620a61be64",
   "metadata": {},
   "outputs": [],
   "source": [
    "#| export\n",
    "def sparse_toeplitz(\n",
    "    diags:ndarray, # Value on each diagonal, starting at lower left.\n",
    "    format='coo'\n",
    ")->SparseArray:\n",
    "    \"\"\"Return a toeplitz sparse array in specified format given the value on each diagonal (starting at lower left).\"\"\"\n",
    "    return sparse(dense_toeplitz(diags), format=format)"
   ]
  },
  {
   "cell_type": "code",
   "execution_count": null,
   "id": "75efe708-2c78-4aea-87d5-f0cb65f2bac0",
   "metadata": {},
   "outputs": [
    {
     "data": {
      "text/html": [
       "<table><tbody><tr><th style=\"text-align: left\">Format</th><td style=\"text-align: left\">coo</td></tr><tr><th style=\"text-align: left\">Data Type</th><td style=\"text-align: left\">int64</td></tr><tr><th style=\"text-align: left\">Shape</th><td style=\"text-align: left\">(3, 3)</td></tr><tr><th style=\"text-align: left\">nnz</th><td style=\"text-align: left\">9</td></tr><tr><th style=\"text-align: left\">Density</th><td style=\"text-align: left\">1.0</td></tr><tr><th style=\"text-align: left\">Read-only</th><td style=\"text-align: left\">True</td></tr><tr><th style=\"text-align: left\">Size</th><td style=\"text-align: left\">216</td></tr><tr><th style=\"text-align: left\">Storage ratio</th><td style=\"text-align: left\">3.00</td></tr></tbody></table>"
      ],
      "text/plain": [
       "<COO: shape=(3, 3), dtype=int64, nnz=9, fill_value=0>"
      ]
     },
     "execution_count": null,
     "metadata": {},
     "output_type": "execute_result"
    }
   ],
   "source": [
    "sparse_toeplitz([1, 2, 3, 4, 5])"
   ]
  },
  {
   "cell_type": "code",
   "execution_count": null,
   "id": "93218677-c7e6-49df-8bad-eef59c7b99d5",
   "metadata": {},
   "outputs": [
    {
     "data": {
      "text/plain": [
       "array([[3, 4, 5],\n",
       "       [2, 3, 4],\n",
       "       [1, 2, 3]])"
      ]
     },
     "execution_count": null,
     "metadata": {},
     "output_type": "execute_result"
    }
   ],
   "source": [
    "_.todense()"
   ]
  },
  {
   "cell_type": "code",
   "execution_count": null,
   "id": "7a39785f-f29d-40b0-a6b2-0f7fa88ffb3c",
   "metadata": {},
   "outputs": [],
   "source": [
    "#| hide\n",
    "test_array('utilities', 'sparse_toeplitz', _)"
   ]
  },
  {
   "cell_type": "code",
   "execution_count": null,
   "id": "e7d86fe4-b01a-44ae-9d42-88a37dd23302",
   "metadata": {},
   "outputs": [],
   "source": [
    "#| export\n",
    "def sparse2d_kronecker_matrix(n, k=0):\n",
    "    \"\"\"The nxn sparse kronecker matrix delta_(i,j-k) in specified format.\"\"\"\n",
    "    return sparse2d_diag(np.ones(n - abs(k)), offsets=k)"
   ]
  },
  {
   "cell_type": "code",
   "execution_count": null,
   "id": "3db8f6a5-b52d-43c4-91e1-8d4e65040e07",
   "metadata": {},
   "outputs": [
    {
     "data": {
      "text/plain": [
       "<3x3 sparse array of type '<class 'numpy.float64'>'\n",
       "\twith 1 stored elements (1 diagonals) in DIAgonal format>"
      ]
     },
     "execution_count": null,
     "metadata": {},
     "output_type": "execute_result"
    }
   ],
   "source": [
    "sparse2d_kronecker_matrix(3, 2)"
   ]
  },
  {
   "cell_type": "code",
   "execution_count": null,
   "id": "22d264f4-32e4-47a5-aa78-63967f4eb873",
   "metadata": {},
   "outputs": [
    {
     "data": {
      "text/plain": [
       "array([[0., 0., 1.],\n",
       "       [0., 0., 0.],\n",
       "       [0., 0., 0.]])"
      ]
     },
     "execution_count": null,
     "metadata": {},
     "output_type": "execute_result"
    }
   ],
   "source": [
    "_.todense()"
   ]
  },
  {
   "cell_type": "code",
   "execution_count": null,
   "id": "ec8ec8e1-e00a-4730-831b-48491ad41cb4",
   "metadata": {},
   "outputs": [],
   "source": [
    "#| export\n",
    "def sparse_kronecker_matrix(n, k=0, format='coo')->SparseArray:\n",
    "    \"\"\"The nxn sparse kronecker matrix delta_(i,j-k) in specified format.\"\"\"\n",
    "    return sparse(sparse2d_kronecker_matrix(n, k), format=format)"
   ]
  },
  {
   "cell_type": "code",
   "execution_count": null,
   "id": "fce29241-111b-44c4-b3fe-6f2a79d652a7",
   "metadata": {},
   "outputs": [
    {
     "data": {
      "text/html": [
       "<table><tbody><tr><th style=\"text-align: left\">Format</th><td style=\"text-align: left\">coo</td></tr><tr><th style=\"text-align: left\">Data Type</th><td style=\"text-align: left\">float64</td></tr><tr><th style=\"text-align: left\">Shape</th><td style=\"text-align: left\">(3, 3)</td></tr><tr><th style=\"text-align: left\">nnz</th><td style=\"text-align: left\">1</td></tr><tr><th style=\"text-align: left\">Density</th><td style=\"text-align: left\">0.1111111111111111</td></tr><tr><th style=\"text-align: left\">Read-only</th><td style=\"text-align: left\">True</td></tr><tr><th style=\"text-align: left\">Size</th><td style=\"text-align: left\">16</td></tr><tr><th style=\"text-align: left\">Storage ratio</th><td style=\"text-align: left\">0.22</td></tr></tbody></table>"
      ],
      "text/plain": [
       "<COO: shape=(3, 3), dtype=float64, nnz=1, fill_value=0.0>"
      ]
     },
     "execution_count": null,
     "metadata": {},
     "output_type": "execute_result"
    }
   ],
   "source": [
    "sparse_kronecker_matrix(3, 2)"
   ]
  },
  {
   "cell_type": "code",
   "execution_count": null,
   "id": "6a9c6eb4-ba19-4164-9c48-108d9f06607a",
   "metadata": {},
   "outputs": [],
   "source": [
    "#| hide\n",
    "test_array('utilities', 'sparse_kron', _)"
   ]
  },
  {
   "cell_type": "code",
   "execution_count": null,
   "id": "e9b96a8e-59f0-4bbe-b3a3-d98db4f1bc92",
   "metadata": {},
   "outputs": [],
   "source": [
    "#| export \n",
    "def kron(a, b, *rest):\n",
    "    if not rest: \n",
    "        if sps.issparse(a) and sps.issparse(b): return sps.kron(a, b, format='csr')\n",
    "        return np.kron(a, b)\n",
    "    return kron(kron(a, b), *rest)"
   ]
  },
  {
   "cell_type": "code",
   "execution_count": null,
   "id": "2eecee79-353f-46f9-8420-8176fa13a5d6",
   "metadata": {},
   "outputs": [
    {
     "data": {
      "text/plain": [
       "array([[1., 0., 0., 0., 0., 0., 0., 0.],\n",
       "       [0., 1., 0., 0., 0., 0., 0., 0.],\n",
       "       [0., 0., 1., 0., 0., 0., 0., 0.],\n",
       "       [0., 0., 0., 1., 0., 0., 0., 0.],\n",
       "       [0., 0., 0., 0., 1., 0., 0., 0.],\n",
       "       [0., 0., 0., 0., 0., 1., 0., 0.],\n",
       "       [0., 0., 0., 0., 0., 0., 1., 0.],\n",
       "       [0., 0., 0., 0., 0., 0., 0., 1.]])"
      ]
     },
     "execution_count": null,
     "metadata": {},
     "output_type": "execute_result"
    }
   ],
   "source": [
    "kron(np.eye(2), np.eye(2), np.eye(2))"
   ]
  },
  {
   "cell_type": "code",
   "execution_count": null,
   "id": "a3dd094b-22a0-4f0a-bf8e-2b1e36c35ad3",
   "metadata": {},
   "outputs": [],
   "source": [
    "#| hide\n",
    "test_array('utilities', 'kron_1', _)"
   ]
  },
  {
   "cell_type": "code",
   "execution_count": null,
   "id": "4ad5453f-3af6-4fdd-9e8f-d91373294413",
   "metadata": {},
   "outputs": [
    {
     "data": {
      "text/plain": [
       "<8x8 sparse array of type '<class 'numpy.float64'>'\n",
       "\twith 8 stored elements in Compressed Sparse Row format>"
      ]
     },
     "execution_count": null,
     "metadata": {},
     "output_type": "execute_result"
    }
   ],
   "source": [
    "kron(*[sparse2d_identity(2)] * 3)"
   ]
  },
  {
   "cell_type": "code",
   "execution_count": null,
   "id": "f4542729-95fb-4241-8804-324b2db1ff66",
   "metadata": {},
   "outputs": [],
   "source": [
    "#| hide\n",
    "test_array('utilities', 'kron_1', _.todense())"
   ]
  },
  {
   "cell_type": "markdown",
   "id": "06570cc5-3034-4e98-8ac6-73ce1445bfd7",
   "metadata": {},
   "source": [
    "### sparse2d_rand -"
   ]
  },
  {
   "cell_type": "code",
   "execution_count": null,
   "id": "f2eecd9f-1433-4716-96e7-0d4edad7a5c0",
   "metadata": {},
   "outputs": [],
   "source": [
    "#|export\n",
    "sparse2d_rand = sps.random_array"
   ]
  },
  {
   "cell_type": "code",
   "execution_count": null,
   "id": "65e53af1-1497-43b9-8926-7302283797d3",
   "metadata": {},
   "outputs": [
    {
     "data": {
      "text/plain": [
       "<2x3 sparse array of type '<class 'numpy.float64'>'\n",
       "\twith 0 stored elements in COOrdinate format>"
      ]
     },
     "execution_count": null,
     "metadata": {},
     "output_type": "execute_result"
    }
   ],
   "source": [
    "sparse2d_rand([2, 3])"
   ]
  },
  {
   "cell_type": "markdown",
   "id": "f7863e27-09a9-4e85-9ff5-5979a6c769e1",
   "metadata": {},
   "source": [
    "### spilu -"
   ]
  },
  {
   "cell_type": "code",
   "execution_count": null,
   "id": "7638fadc-7bab-4ccc-9fa8-f1a431a1dc6f",
   "metadata": {},
   "outputs": [],
   "source": [
    "#|export\n",
    "spilu = spa.spilu"
   ]
  },
  {
   "cell_type": "markdown",
   "id": "ce5fa95f-6579-4f69-92a9-a9f423150209",
   "metadata": {},
   "source": [
    "### restrict_bandwidth -"
   ]
  },
  {
   "cell_type": "code",
   "execution_count": null,
   "id": "36e9391f-3316-4588-acf6-1c1448d5ee96",
   "metadata": {},
   "outputs": [],
   "source": [
    "#| export\n",
    "def restrict_bandwidth(a_sparray:sparray, width):\n",
    "    \"\"\"Make a scipy sparse array banded by setting all elements outside the bandwidth to zero.\"\"\"\n",
    "    result = a_sparray.copy()\n",
    "    i, j = result.nonzero()\n",
    "    result.data[np.abs(i - j) > width] = 0.\n",
    "    result.eliminate_zeros()\n",
    "    return result"
   ]
  },
  {
   "cell_type": "code",
   "execution_count": null,
   "id": "682ea929-f24c-4b8f-b39c-7fafd3cb2fe9",
   "metadata": {},
   "outputs": [
    {
     "data": {
      "text/plain": [
       "<5x5 sparse array of type '<class 'numpy.float64'>'\n",
       "\twith 13 stored elements in Compressed Sparse Row format>"
      ]
     },
     "execution_count": null,
     "metadata": {},
     "output_type": "execute_result"
    }
   ],
   "source": [
    "restrict_bandwidth(sps.csr_array(np.ones((5, 5))), 1)"
   ]
  },
  {
   "cell_type": "code",
   "execution_count": null,
   "id": "b92f8c6c-9b09-4a25-a48d-b9c4d2bd2c8d",
   "metadata": {},
   "outputs": [
    {
     "data": {
      "text/plain": [
       "array([[1., 1., 0., 0., 0.],\n",
       "       [1., 1., 1., 0., 0.],\n",
       "       [0., 1., 1., 1., 0.],\n",
       "       [0., 0., 1., 1., 1.],\n",
       "       [0., 0., 0., 1., 1.]])"
      ]
     },
     "execution_count": null,
     "metadata": {},
     "output_type": "execute_result"
    }
   ],
   "source": [
    "_.toarray()"
   ]
  },
  {
   "cell_type": "code",
   "execution_count": null,
   "id": "7de944e6",
   "metadata": {},
   "outputs": [],
   "source": [
    "#| hide\n",
    "test_array('utilities', 'restrict_bandwidth', _)"
   ]
  },
  {
   "cell_type": "markdown",
   "id": "bb800164-61b7-407c-b23f-bd13d746f12a",
   "metadata": {},
   "source": [
    "## Export -"
   ]
  },
  {
   "cell_type": "code",
   "execution_count": null,
   "id": "5da49fc4-c57b-44b7-b789-18f106200987",
   "metadata": {},
   "outputs": [],
   "source": [
    "#| hide\n",
    "import nbdev; nbdev.nbdev_export()"
   ]
  },
  {
   "cell_type": "code",
   "execution_count": null,
   "id": "86cfffa2-61d0-40d9-873c-82f8e8684fb4",
   "metadata": {},
   "outputs": [],
   "source": []
  }
 ],
 "metadata": {
  "kernelspec": {
   "display_name": "python3",
   "language": "python",
   "name": "python3"
  }
 },
 "nbformat": 4,
 "nbformat_minor": 5
}
