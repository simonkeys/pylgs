{
 "cells": [
  {
   "cell_type": "code",
   "execution_count": null,
   "id": "bac0d15b-f88a-43b0-bd3a-1a03d984110e",
   "metadata": {},
   "outputs": [],
   "source": [
    "#| default_exp utilities.xarray"
   ]
  },
  {
   "cell_type": "code",
   "execution_count": null,
   "id": "0388f585-70d8-4a3a-a276-e336d03ad0d0",
   "metadata": {},
   "outputs": [],
   "source": [
    "%%capture\n",
    "%load_ext autoreload\n",
    "%autoreload 2"
   ]
  },
  {
   "cell_type": "markdown",
   "id": "f1a1a8aa-19ab-4395-992f-3849c51d523c",
   "metadata": {},
   "source": [
    "# utilities.xarray\n",
    "\n",
    "> Extra functionality for [xarray](https://xarray.pydata.org/)"
   ]
  },
  {
   "cell_type": "code",
   "execution_count": null,
   "id": "7a8c77f6-abed-4ede-ab49-a69f53e74bba",
   "metadata": {},
   "outputs": [],
   "source": [
    "#| hide\n",
    "from fastcore.test import test_eq"
   ]
  },
  {
   "cell_type": "code",
   "execution_count": null,
   "id": "675def04-42c4-4275-8cec-2216deb605f0",
   "metadata": {},
   "outputs": [],
   "source": [
    "#| export\n",
    "from fastcore.basics import patch\n",
    "from xarray import Coordinates\n",
    "import numpy as np"
   ]
  },
  {
   "cell_type": "code",
   "execution_count": null,
   "id": "7a626789-58c0-43e4-8886-c1ed3b702b34",
   "metadata": {},
   "outputs": [],
   "source": [
    "#| export\n",
    "@patch\n",
    "def __add__(self:Coordinates, other):\n",
    "    \"\"\"Adding two `Coordinates` objects combines their coordinates.\"\"\"\n",
    "    if not isinstance(other, Coordinates): raise TypeError\n",
    "    result = self.copy()\n",
    "    result.update(other)\n",
    "    return result"
   ]
  },
  {
   "cell_type": "markdown",
   "id": "7dd825a4-1498-4017-845f-730eeb5f940d",
   "metadata": {},
   "source": [
    "Define the `+` operator for `Coordinates` to combine the coordinates: "
   ]
  },
  {
   "cell_type": "code",
   "execution_count": null,
   "id": "f9f12415-2038-456e-9ffd-4bbca6cdde48",
   "metadata": {},
   "outputs": [
    {
     "data": {
      "text/plain": [
       "Coordinates:\n",
       "  * foo      (foo) int64 16B 1 2\n",
       "  * bar      (bar) int64 24B 1 2 3"
      ]
     },
     "execution_count": null,
     "metadata": {},
     "output_type": "execute_result"
    }
   ],
   "source": [
    "coords = Coordinates({'foo': [1, 2]}) + Coordinates({'bar': [1, 2, 3]})\n",
    "coords"
   ]
  },
  {
   "cell_type": "code",
   "execution_count": null,
   "id": "cbd66ee5-3394-4bbb-b541-69b07618613d",
   "metadata": {},
   "outputs": [],
   "source": [
    "#|hide\n",
    "test_eq(coords, Coordinates({'foo': [1, 2], 'bar': [1, 2, 3]}))"
   ]
  },
  {
   "cell_type": "markdown",
   "id": "72b529a7-31b7-4ea3-97db-dadd5a605653",
   "metadata": {},
   "source": [
    "### complement -\n"
   ]
  },
  {
   "cell_type": "code",
   "execution_count": null,
   "id": "78997e7b-bdf1-4938-824c-24e469144216",
   "metadata": {},
   "outputs": [],
   "source": [
    "#| export\n",
    "@patch\n",
    "def complement(self:Coordinates, other:Coordinates):\n",
    "    \"\"\"Return coordinates not in other coordinates.\"\"\"\n",
    "    return Coordinates({k: v for k, v in self.items() if k not in other})"
   ]
  },
  {
   "cell_type": "code",
   "execution_count": null,
   "id": "3d869923-c907-49fe-ae44-f441be17f904",
   "metadata": {},
   "outputs": [
    {
     "data": {
      "text/plain": [
       "Coordinates:\n",
       "  * foo      (foo) int64 16B 1 2"
      ]
     },
     "execution_count": null,
     "metadata": {},
     "output_type": "execute_result"
    }
   ],
   "source": [
    "coords.complement(Coordinates({'bar': [1, 2, 3]}))"
   ]
  },
  {
   "cell_type": "code",
   "execution_count": null,
   "id": "fc6945b9-69f5-46f2-8469-ba5969daa7d2",
   "metadata": {},
   "outputs": [],
   "source": [
    "#|hide\n",
    "test_eq(_, Coordinates({'foo': [1, 2]}))"
   ]
  },
  {
   "cell_type": "markdown",
   "id": "1b7ecba7-fa76-40f0-91d7-be7f8962c8a2",
   "metadata": {},
   "source": [
    "### shape -\n"
   ]
  },
  {
   "cell_type": "code",
   "execution_count": null,
   "id": "06d0f3c0-00c0-4227-8458-dffbb9ca5c42",
   "metadata": {},
   "outputs": [],
   "source": [
    "#| export\n",
    "@patch(as_prop=True)\n",
    "def shape(self:Coordinates):\n",
    "    \"\"\"Return tuple of sizes of the coordinates.\"\"\"\n",
    "    return tuple(self.sizes.values())"
   ]
  },
  {
   "cell_type": "code",
   "execution_count": null,
   "id": "99f3e2b1-c96e-4508-a46c-56713d75b30a",
   "metadata": {},
   "outputs": [
    {
     "data": {
      "text/plain": [
       "(2, 3)"
      ]
     },
     "execution_count": null,
     "metadata": {},
     "output_type": "execute_result"
    }
   ],
   "source": [
    "coords.shape"
   ]
  },
  {
   "cell_type": "code",
   "execution_count": null,
   "id": "45aabebe-6c02-43e6-816b-67a90babeec6",
   "metadata": {},
   "outputs": [],
   "source": [
    "#|hide\n",
    "test_eq(_, (2, 3))"
   ]
  },
  {
   "cell_type": "markdown",
   "id": "6cd98445-0f1d-41c0-a85d-140647a17db6",
   "metadata": {},
   "source": [
    "### size -\n"
   ]
  },
  {
   "cell_type": "code",
   "execution_count": null,
   "id": "f66cc1f3-d860-4709-b628-2121f9130d43",
   "metadata": {},
   "outputs": [],
   "source": [
    "#| export\n",
    "@patch(as_prop=True)\n",
    "def size(self:Coordinates):\n",
    "    \"\"\"Return product of coordinate lengths.\"\"\"\n",
    "    return np.prod(self.shape)"
   ]
  },
  {
   "cell_type": "code",
   "execution_count": null,
   "id": "eb81a444-a992-4bc0-b4c8-062b3f4c35c6",
   "metadata": {},
   "outputs": [
    {
     "data": {
      "text/plain": [
       "6"
      ]
     },
     "execution_count": null,
     "metadata": {},
     "output_type": "execute_result"
    }
   ],
   "source": [
    "coords.size"
   ]
  },
  {
   "cell_type": "code",
   "execution_count": null,
   "id": "293be923-29bc-40e5-b645-439bb5f4995a",
   "metadata": {},
   "outputs": [],
   "source": [
    "#|hide\n",
    "test_eq(_, 6)"
   ]
  },
  {
   "cell_type": "markdown",
   "id": "5996f283-afc0-4b4a-b00f-48a0716e4e5d",
   "metadata": {},
   "source": [
    "### intersection -\n"
   ]
  },
  {
   "cell_type": "code",
   "execution_count": null,
   "id": "da572816-99b8-4dca-b6cd-b790054be195",
   "metadata": {},
   "outputs": [],
   "source": [
    "#| export\n",
    "@patch\n",
    "def intersection(self:Coordinates, other:Coordinates):\n",
    "    \"\"\"Return coordinates in self and other.\"\"\"\n",
    "    return Coordinates({k: v for k, v in self.items() if k in other and v.equals(other[k])})"
   ]
  },
  {
   "cell_type": "code",
   "execution_count": null,
   "id": "135a7cf9-1772-4552-a254-ac771136906f",
   "metadata": {},
   "outputs": [
    {
     "data": {
      "text/plain": [
       "Coordinates:\n",
       "  * foo      (foo) int64 16B 1 2"
      ]
     },
     "execution_count": null,
     "metadata": {},
     "output_type": "execute_result"
    }
   ],
   "source": [
    "coords.intersection(Coordinates({'foo': [1, 2]}))"
   ]
  },
  {
   "cell_type": "code",
   "execution_count": null,
   "id": "606beb57-d445-4ec2-86f7-2493caa9b6f5",
   "metadata": {},
   "outputs": [],
   "source": [
    "#|hide\n",
    "test_eq(_, Coordinates({'foo': [1, 2]}))"
   ]
  },
  {
   "cell_type": "markdown",
   "id": "a473518f-ccad-43ef-ba0c-97ee4f7b1d64",
   "metadata": {},
   "source": [
    "### contain -\n"
   ]
  },
  {
   "cell_type": "code",
   "execution_count": null,
   "id": "555da6b4-cbfe-44d2-bd9a-277495eb043c",
   "metadata": {},
   "outputs": [],
   "source": [
    "#| export\n",
    "@patch\n",
    "def contain(self:Coordinates, other:Coordinates):\n",
    "    \"\"\"Return true if all coordinates in `other` are in `self`, otherwise false.\"\"\"\n",
    "    return self.intersection(other).equals(other)"
   ]
  },
  {
   "cell_type": "code",
   "execution_count": null,
   "id": "295972bf-331c-475f-91f8-7cd90e5321ad",
   "metadata": {},
   "outputs": [
    {
     "data": {
      "text/plain": [
       "True"
      ]
     },
     "execution_count": null,
     "metadata": {},
     "output_type": "execute_result"
    }
   ],
   "source": [
    "coords.contain(Coordinates({'foo': [1, 2]}))"
   ]
  },
  {
   "cell_type": "code",
   "execution_count": null,
   "id": "1fbf9a8a-bd55-4215-a835-05b43a49d909",
   "metadata": {},
   "outputs": [],
   "source": [
    "#|hide\n",
    "test_eq(_, True)"
   ]
  },
  {
   "cell_type": "code",
   "execution_count": null,
   "id": "78ae5ad0-c508-461b-99df-e001b819a3e5",
   "metadata": {},
   "outputs": [
    {
     "data": {
      "text/plain": [
       "False"
      ]
     },
     "execution_count": null,
     "metadata": {},
     "output_type": "execute_result"
    }
   ],
   "source": [
    "coords.contain(Coordinates({'foo': [1, 2], 'baz': [4, 5]}))"
   ]
  },
  {
   "cell_type": "code",
   "execution_count": null,
   "id": "dc73382e-d59e-4323-b2ae-781b27a8a4b6",
   "metadata": {},
   "outputs": [],
   "source": [
    "#|hide\n",
    "test_eq(_, False)"
   ]
  },
  {
   "cell_type": "markdown",
   "id": "bb800164-61b7-407c-b23f-bd13d746f12a",
   "metadata": {},
   "source": [
    "## Export -"
   ]
  },
  {
   "cell_type": "code",
   "execution_count": null,
   "id": "5da49fc4-c57b-44b7-b789-18f106200987",
   "metadata": {},
   "outputs": [],
   "source": [
    "#| hide\n",
    "import nbdev; nbdev.nbdev_export()"
   ]
  },
  {
   "cell_type": "code",
   "execution_count": null,
   "id": "86cfffa2-61d0-40d9-873c-82f8e8684fb4",
   "metadata": {},
   "outputs": [],
   "source": []
  }
 ],
 "metadata": {
  "kernelspec": {
   "display_name": "python3",
   "language": "python",
   "name": "python3"
  }
 },
 "nbformat": 4,
 "nbformat_minor": 5
}
