{
 "cells": [
  {
   "cell_type": "code",
   "execution_count": null,
   "id": "48a0b28b-1fd9-499d-a960-3d1ff8260d95",
   "metadata": {},
   "outputs": [],
   "source": [
    "#| default_exp pymor.parameters"
   ]
  },
  {
   "cell_type": "markdown",
   "id": "ed30ebf8-3058-4e87-a5bd-50534572c599",
   "metadata": {},
   "source": [
    "# pymor.parameters\n",
    "\n",
    "> Extended functionality for [pyMOR](https://pymor.org/) parameters"
   ]
  },
  {
   "cell_type": "code",
   "execution_count": null,
   "id": "3a485cd3-ab56-420f-bf86-7030d32aa39b",
   "metadata": {},
   "outputs": [],
   "source": [
    "#| hide\n",
    "from fastcore.test import test_eq"
   ]
  },
  {
   "cell_type": "code",
   "execution_count": null,
   "id": "e86d8e15-a853-43ee-a73c-03045738293e",
   "metadata": {},
   "outputs": [],
   "source": [
    "#| export\n",
    "from numbers import Number\n",
    "from fastcore.basics import patch\n",
    "import sympy as sy\n",
    "from sympy.parsing.sympy_parser import parse_expr\n",
    "from pymor.parameters.functionals import ProductParameterFunctional, ExpressionParameterFunctional, ParameterFunctional\n",
    "from pymor.algorithms.rules import match_class, RuleTable, match_always\n",
    "from pymor.basic import LincombOperator\n",
    "from pymor.models.interface import Model\n",
    "from pymor.operators.interface import Operator"
   ]
  },
  {
   "cell_type": "code",
   "execution_count": null,
   "id": "a0d3a627-a8fc-4524-b1ea-6b60e8b7a684",
   "metadata": {},
   "outputs": [],
   "source": [
    "#| export\n",
    "@patch\n",
    "def __eq__(self:ExpressionParameterFunctional, other):\n",
    "    return (\n",
    "        isinstance(other, ExpressionParameterFunctional)\n",
    "        and self.expression == other.expression\n",
    "        and self.parameters == other.parameters\n",
    "    )"
   ]
  },
  {
   "cell_type": "code",
   "execution_count": null,
   "id": "ea580b96-6f85-42da-ac3f-75958925cb55",
   "metadata": {},
   "outputs": [],
   "source": [
    "functional = ProductParameterFunctional((ExpressionParameterFunctional('3890540.14*sqrt(IntensitySI1)', {'IntensitySI1': 1}), -1.0))"
   ]
  },
  {
   "cell_type": "code",
   "execution_count": null,
   "id": "12f9b327-5025-4fde-b9a0-c59c9463fccd",
   "metadata": {},
   "outputs": [
    {
     "data": {
      "text/plain": [
       "True"
      ]
     },
     "execution_count": null,
     "metadata": {},
     "output_type": "execute_result"
    }
   ],
   "source": [
    "functional == functional"
   ]
  },
  {
   "cell_type": "code",
   "execution_count": null,
   "id": "10a5ffea-38a3-44d3-a342-c22d55976a8c",
   "metadata": {},
   "outputs": [],
   "source": [
    "#| hide\n",
    "test_eq(_, True)"
   ]
  },
  {
   "cell_type": "code",
   "execution_count": null,
   "id": "ca8552af-7367-467b-a854-7aa9288d1a9a",
   "metadata": {},
   "outputs": [],
   "source": [
    "#| export\n",
    "@patch\n",
    "def __str__(self:ParameterFunctional):\n",
    "    return f'f({\", \".join(self.parameters)})'"
   ]
  },
  {
   "cell_type": "code",
   "execution_count": null,
   "id": "b5c750fe-c062-4d78-9d59-0e173f2eee57",
   "metadata": {},
   "outputs": [
    {
     "data": {
      "text/plain": [
       "'f(IntensitySI1)'"
      ]
     },
     "execution_count": null,
     "metadata": {},
     "output_type": "execute_result"
    }
   ],
   "source": [
    "str(functional)"
   ]
  },
  {
   "cell_type": "code",
   "execution_count": null,
   "id": "039fb186-9538-4f08-b70a-2e4807834e04",
   "metadata": {},
   "outputs": [],
   "source": [
    "#| hide\n",
    "test_eq(_, 'f(IntensitySI1)')"
   ]
  },
  {
   "cell_type": "markdown",
   "id": "12af11e8-8469-488e-a2ee-be117365feae",
   "metadata": {},
   "source": [
    "## Simplify functionals"
   ]
  },
  {
   "cell_type": "code",
   "execution_count": null,
   "id": "c6f7eeb6-269b-47f4-bcf1-94cde8f87a10",
   "metadata": {},
   "outputs": [],
   "source": [
    "#| export\n",
    "class SimplifyFunctionalRules(RuleTable):\n",
    "    \"\"\"|RuleTable| for the :func:`expand` algorithm.\"\"\"\n",
    "\n",
    "    def __init__(self):\n",
    "        super().__init__(use_caching=True)\n",
    "\n",
    "    @match_class(ProductParameterFunctional)\n",
    "    def action_ProductParameterFunctional(self, functional):\n",
    "        # merge child ProductParameterFunctional objects\n",
    "        if any(isinstance(factor, ProductParameterFunctional) for factor in functional.factors):\n",
    "            factors = []\n",
    "            for factor in functional_factors:\n",
    "                if isinstance(factor, ProductParameterFunctional):\n",
    "                    factors.extend(self.apply(factor).factors)\n",
    "                else:\n",
    "                    factors.append(factor)\n",
    "            functional = functional.with_(factors=factors)\n",
    "\n",
    "        # multiply together numbers and ExpressionParameterFunctional objects\n",
    "        if all(isinstance(factor, (ExpressionParameterFunctional, Number)) for factor in functional.factors):\n",
    "            product = sy.prod([\n",
    "                parse_expr(factor.expression) if isinstance(factor, ExpressionParameterFunctional) else factor \n",
    "                for factor in functional.factors\n",
    "            ])\n",
    "            if product.is_number:\n",
    "                functional = product\n",
    "            else:\n",
    "                functional = ExpressionParameterFunctional(str(product), parameters=functional.parameters)\n",
    "        \n",
    "        return functional\n",
    "    \n",
    "    @match_class(LincombOperator)\n",
    "    def action_LincombOperator(self, op):\n",
    "        return op.with_(coefficients=[self.apply(c) for c in op.coefficients])\n",
    "\n",
    "    @match_class(Model, Operator)\n",
    "    def action_recurse(self, op):\n",
    "        return self.replace_children(op)\n",
    "\n",
    "    @match_always\n",
    "    def action_generic(self, expr):\n",
    "        return expr"
   ]
  },
  {
   "cell_type": "markdown",
   "id": "5c1c1e06",
   "metadata": {},
   "source": [
    "### simplify_functionals -\n"
   ]
  },
  {
   "cell_type": "code",
   "execution_count": null,
   "id": "3b5f3a85-f306-4524-9bf2-564b6252dd3d",
   "metadata": {},
   "outputs": [],
   "source": [
    "#| export\n",
    "def simplify_functionals(obj):\n",
    "    return SimplifyFunctionalRules().apply(obj)"
   ]
  },
  {
   "cell_type": "code",
   "execution_count": null,
   "id": "94a0406b-c387-4e69-8572-9e52ad564208",
   "metadata": {},
   "outputs": [
    {
     "data": {
      "text/plain": [
       "ExpressionParameterFunctional('-3890540.14*sqrt(IntensitySI1)', {IntensitySI1: 1})"
      ]
     },
     "execution_count": null,
     "metadata": {},
     "output_type": "execute_result"
    }
   ],
   "source": [
    "simplify_functionals(functional)"
   ]
  },
  {
   "cell_type": "code",
   "execution_count": null,
   "id": "a2a47fe4-e795-473e-8c69-0b56184a3358",
   "metadata": {},
   "outputs": [],
   "source": [
    "#| hide\n",
    "test_eq(_, ExpressionParameterFunctional('-3890540.14*sqrt(IntensitySI1)', {'IntensitySI1': 1}))"
   ]
  },
  {
   "cell_type": "markdown",
   "id": "62341e5d-69f4-472f-9207-ee8023c1b755",
   "metadata": {},
   "source": [
    "## Export -"
   ]
  },
  {
   "cell_type": "code",
   "execution_count": null,
   "id": "ac007e14-02ed-4fc9-b95c-70ff9f1dc20d",
   "metadata": {},
   "outputs": [],
   "source": [
    "#| hide\n",
    "import nbdev; nbdev.nbdev_export()"
   ]
  },
  {
   "cell_type": "code",
   "execution_count": null,
   "id": "b78cacf1-922a-4cbb-a56b-d1f84f3d7f8c",
   "metadata": {},
   "outputs": [],
   "source": [
    "#| hide\n",
    "# #| export \n",
    "# # Allow 2D parameter values in `Mu` for broadcasting purposes.\n",
    "# class Mu(Mu):\n",
    "#     def __new__(cls, *args, **kwargs):\n",
    "#         raw_values = dict(*args, **kwargs)\n",
    "#         values_for_t = {}\n",
    "#         for k, v in sorted(raw_values.items()):\n",
    "#             assert isinstance(k, str)\n",
    "#             if callable(v):\n",
    "#                 # note: We can't import Function globally due to circular dependencies, so\n",
    "#                 # we import it locally in this branch to avoid executing the import statement\n",
    "#                 # each time a Mu is created (which would make instantiation of simple Mus without\n",
    "#                 # time dependency significantly more expensive).\n",
    "#                 # from pymor.analyticalproblems.functions import Function\n",
    "#                 assert k != 't'\n",
    "#                 assert isinstance(v, Function) and v.dim_domain == 1 and len(v.shape_range) == 1\n",
    "#                 vv = v(raw_values.get('t', 0))\n",
    "#             else:\n",
    "#                 vv = np.array(v, copy=False, ndmin=1)\n",
    "#                 # assert vv.ndim == 1\n",
    "#                 assert k != 't' or len(vv) == 1\n",
    "#             assert not vv.setflags(write=False)\n",
    "#             values_for_t[k] = vv\n",
    "\n",
    "#         mu = FrozenDict.__new__(cls, values_for_t)\n",
    "#         mu._raw_values = raw_values\n",
    "#         return mu\n",
    "\n",
    "# #| export \n",
    "# @patch\n",
    "# def broadcast(\n",
    "#     self:Mu, \n",
    "#     transpose=False # Transpose arrays of values before broadcasting\n",
    "# )->np.ndarray:\n",
    "#     \"\"\"Broadcast all parameter values together to create 2D array of `Mu` objects with scalar parameters.\"\"\"\n",
    "#     values = np.array(np.broadcast_arrays(*self.values())).transpose(1, 2, 0)\n",
    "#     if transpose:\n",
    "#         values = values.transpose(1, 0, 2)\n",
    "#     return array_map(lambda v: Mu(zip(self.keys(), v)), values, 2)\n",
    "\n",
    "# mu = Mu(A=[[.5, .8, 1.2]], B=.4)\n",
    "\n",
    "# mu.broadcast()\n",
    "\n",
    "# mu.broadcast(transpose=True)\n",
    "\n",
    "# #| export\n",
    "# @patch\n",
    "# def scalar_parameters(self:Mu):\n",
    "#     return Mu({k: v for k, v in self.items() if v.size == 1})"
   ]
  },
  {
   "cell_type": "code",
   "execution_count": null,
   "id": "52c765f3-2510-49fc-83b7-38bb0bb0e823",
   "metadata": {},
   "outputs": [],
   "source": []
  },
  {
   "cell_type": "code",
   "execution_count": null,
   "id": "7859e9ca-68d9-4d18-8327-b2d65954a8fc",
   "metadata": {},
   "outputs": [],
   "source": []
  }
 ],
 "metadata": {
  "kernelspec": {
   "display_name": "python3",
   "language": "python",
   "name": "python3"
  }
 },
 "nbformat": 4,
 "nbformat_minor": 5
}
