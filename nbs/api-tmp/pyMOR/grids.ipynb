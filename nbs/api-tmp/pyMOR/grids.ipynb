{
 "cells": [
  {
   "cell_type": "code",
   "execution_count": null,
   "metadata": {},
   "outputs": [],
   "source": [
    "#| default_exp pymor.grids"
   ]
  },
  {
   "cell_type": "markdown",
   "metadata": {},
   "source": [
    "# pymor.grids\n",
    "\n",
    "> Extended functionality for [pyMOR](https://pymor.org/) grids"
   ]
  },
  {
   "cell_type": "code",
   "execution_count": null,
   "metadata": {},
   "outputs": [],
   "source": [
    "# | hide\n",
    "from pylgs.utilities.testing import test_array"
   ]
  },
  {
   "cell_type": "code",
   "execution_count": null,
   "metadata": {},
   "outputs": [],
   "source": [
    "#| export\n",
    "from pymor.discretizers.builtin.grids.oned import OnedGrid\n",
    "import numpy as np"
   ]
  },
  {
   "cell_type": "code",
   "execution_count": null,
   "metadata": {},
   "outputs": [],
   "source": [
    "#| export\n",
    "class OnedUnstructuredGrid(OnedGrid):\n",
    "    \"\"\"One-dimensional |Grid| on an interval.\n",
    "\n",
    "    Parameters\n",
    "    ----------\n",
    "    edges\n",
    "        Sequence specifying the edges of the grid intervals.\n",
    "    identify_left_right\n",
    "        Whether the left and right edges of the grid should be identified.\n",
    "    \"\"\"\n",
    "\n",
    "    def __init__(self, edges, identify_left_right=False):\n",
    "        self.edges = np.array(edges)\n",
    "        self.domain = (self.edges[0], self.edges[-1])\n",
    "        assert self.edges.ndim == 1\n",
    "        assert np.all(self.edges[:-1] <= self.edges[1:])\n",
    "        self.__auto_init(locals())\n",
    "        num_intervals = len(self.edges) - 1\n",
    "        self._sizes = [num_intervals, num_intervals] if identify_left_right else [num_intervals, num_intervals + 1]\n",
    "        self._widths = np.diff(self.edges)\n",
    "        self._subentities = np.vstack((np.arange(num_intervals, dtype=np.int32),\n",
    "                                        np.arange(num_intervals, dtype=np.int32) + 1))\n",
    "        if identify_left_right:\n",
    "            self._subentities[-1, -1] = 0\n",
    "        self._A = self._widths[:, np.newaxis, np.newaxis]\n",
    "        self._B = np.cumsum(np.pad(self._widths[:-1], (1, 0)))[:, np.newaxis] + self.domain[0]\n",
    "\n",
    "    # The following methods would not need to be redefined from the parent class, \n",
    "    # except that name-mangling (double underscore) is used in the parent.\n",
    "    # Ask about that and/or submit PR?\n",
    "    \n",
    "    def subentities(self, codim, subentity_codim):\n",
    "        assert 0 <= codim <= 1, 'Invalid codimension'\n",
    "        assert codim <= subentity_codim <= self.dim, 'Invalid subentity codimension'\n",
    "        if codim == 0:\n",
    "            if subentity_codim == 0:\n",
    "                return np.arange(self.size(0), dtype='int32')[:, np.newaxis]\n",
    "            else:\n",
    "                return self._subentities.T\n",
    "        else:\n",
    "            return super().subentities(codim, subentity_codim)\n",
    "\n",
    "    def embeddings(self, codim):\n",
    "        if codim == 0:\n",
    "            return self._A, self._B\n",
    "        else:\n",
    "            return super().embeddings(codim)"
   ]
  },
  {
   "cell_type": "code",
   "execution_count": null,
   "metadata": {},
   "outputs": [],
   "source": [
    "grid = OnedUnstructuredGrid([1., 1.2, 1.7, 2.5])"
   ]
  },
  {
   "cell_type": "code",
   "execution_count": null,
   "metadata": {},
   "outputs": [
    {
     "data": {
      "text/plain": [
       "(array([[[0.2]],\n",
       " \n",
       "        [[0.5]],\n",
       " \n",
       "        [[0.8]]]),\n",
       " array([[1. ],\n",
       "        [1.2],\n",
       "        [1.7]]))"
      ]
     },
     "execution_count": null,
     "metadata": {},
     "output_type": "execute_result"
    }
   ],
   "source": [
    "grid.embeddings(0)"
   ]
  },
  {
   "cell_type": "code",
   "execution_count": null,
   "metadata": {},
   "outputs": [],
   "source": [
    "#| hide\n",
    "test_array('pymor', 'OnedUnstructuredGrid_embeddings_0_0', _[0])\n",
    "test_array('pymor', 'OnedUnstructuredGrid_embeddings_0_1', _[1])"
   ]
  },
  {
   "cell_type": "code",
   "execution_count": null,
   "metadata": {},
   "outputs": [
    {
     "data": {
      "text/plain": [
       "(array([], shape=(4, 1, 0), dtype=float64),\n",
       " array([[1. ],\n",
       "        [1.2],\n",
       "        [1.7],\n",
       "        [2.5]]))"
      ]
     },
     "execution_count": null,
     "metadata": {},
     "output_type": "execute_result"
    }
   ],
   "source": [
    "grid.embeddings(1)"
   ]
  },
  {
   "cell_type": "code",
   "execution_count": null,
   "metadata": {},
   "outputs": [],
   "source": [
    "#| hide\n",
    "test_array('pymor', 'OnedUnstructuredGrid_embeddings_1_0', _[0])\n",
    "test_array('pymor', 'OnedUnstructuredGrid_embeddings_1_1', _[1])"
   ]
  },
  {
   "cell_type": "code",
   "execution_count": null,
   "metadata": {},
   "outputs": [
    {
     "data": {
      "text/plain": [
       "array([[1.1 ],\n",
       "       [1.45],\n",
       "       [2.1 ]])"
      ]
     },
     "execution_count": null,
     "metadata": {},
     "output_type": "execute_result"
    }
   ],
   "source": [
    "grid.centers(0)"
   ]
  },
  {
   "cell_type": "code",
   "execution_count": null,
   "metadata": {},
   "outputs": [],
   "source": [
    "#| hide\n",
    "test_array('pymor', 'OnedUnstructuredGrid_centers_0', _)"
   ]
  },
  {
   "cell_type": "code",
   "execution_count": null,
   "metadata": {},
   "outputs": [
    {
     "data": {
      "text/plain": [
       "array([[1. ],\n",
       "       [1.2],\n",
       "       [1.7],\n",
       "       [2.5]])"
      ]
     },
     "execution_count": null,
     "metadata": {},
     "output_type": "execute_result"
    }
   ],
   "source": [
    "grid.centers(1)"
   ]
  },
  {
   "cell_type": "code",
   "execution_count": null,
   "metadata": {},
   "outputs": [],
   "source": [
    "#| hide\n",
    "test_array('pymor', 'OnedUnstructuredGrid_centers_1', _)"
   ]
  },
  {
   "cell_type": "code",
   "execution_count": null,
   "metadata": {},
   "outputs": [],
   "source": [
    "#| hide\n",
    "import nbdev; nbdev.nbdev_export()"
   ]
  },
  {
   "cell_type": "code",
   "execution_count": null,
   "metadata": {},
   "outputs": [],
   "source": []
  }
 ],
 "metadata": {
  "kernelspec": {
   "display_name": "python3",
   "language": "python",
   "name": "python3"
  }
 },
 "nbformat": 4,
 "nbformat_minor": 4
}
