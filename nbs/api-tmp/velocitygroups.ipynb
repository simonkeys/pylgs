{
 "cells": [
  {
   "cell_type": "code",
   "execution_count": null,
   "metadata": {},
   "outputs": [],
   "source": [
    "#| default_exp velocitygroups"
   ]
  },
  {
   "cell_type": "markdown",
   "metadata": {},
   "source": [
    "# velocitygroups\n",
    "> Create and manipulate a list of bins of the atomic velocity distribution for use in the LGS model"
   ]
  },
  {
   "cell_type": "markdown",
   "metadata": {},
   "source": [
    "## Imports -"
   ]
  },
  {
   "cell_type": "code",
   "execution_count": null,
   "metadata": {},
   "outputs": [],
   "source": [
    "#| hide\n",
    "from fastcore.test import test_close"
   ]
  },
  {
   "cell_type": "code",
   "execution_count": null,
   "metadata": {},
   "outputs": [],
   "source": [
    "#| export\n",
    "from pylgs.imports import *\n",
    "from pylgs.utilities.nbdev import DictTbl, AttributeTbl\n",
    "from pylgs.utilities.testing import test_array\n",
    "from pylgs.utilities.sparse import sparse_kronecker_matrix, sparse_toeplitz, sparse_identity, sparse_diag, sparse\n",
    "from pylgs.utilities.numpy import sym_range\n",
    "from pylgs.pymor.parameters import *\n",
    "from pylgs.pymor.vectorarrays import *\n",
    "from pylgs.pymor.operators import *\n",
    "from pylgs.pymor.grids import *\n",
    "from pymor.vectorarrays.interface import VectorArray\n",
    "from pymor.operators.interface import Operator"
   ]
  },
  {
   "cell_type": "code",
   "execution_count": null,
   "metadata": {},
   "outputs": [],
   "source": [
    "#| hide\n",
    "np.set_printoptions(formatter={'float': lambda x: f'{x:^ 8.2}' if x else f'{0:^ 8}'}, linewidth=140)"
   ]
  },
  {
   "cell_type": "markdown",
   "metadata": {},
   "source": [
    "## Velocity groups -"
   ]
  },
  {
   "cell_type": "code",
   "execution_count": null,
   "metadata": {},
   "outputs": [],
   "source": [
    "#| export\n",
    "class VelocityGroups(dict):\n",
    "    \"\"\"`VelocityGroups` contains informations about the centers, edges, and relative densities of a list of velocity group bins.\"\"\"\n",
    "    def __init__(self, \n",
    "                 bins:Iterable|int=6 # Iterable of velocity group edges or int specifying number of evenly spaced velocity groups\n",
    "                ):\n",
    "        super().__init__()\n",
    "        if isinstance(bins, VelocityGroups):\n",
    "            self.edges = bins.edges\n",
    "            for k, v in bins.items():\n",
    "                self[k] = v\n",
    "            return\n",
    "        self.edges = np.linspace(-3, 3, bins + 1) if isinstance(bins, int) else bins\n",
    "        self['VGCenter'] = np.mean(np.array(list(zip(self.edges[:-1], self.edges[1:]))), axis=1)\n",
    "        # self['VGBins'] = np.array(list(zip(bins[:-1], bins[1:])))\n",
    "        # self['VGCenter'] = np.mean(self['VGBins'], axis=1)\n",
    "        self['VGDensity'] = np.diff(erf(self.edges))/2\n",
    "        self['VGWidth'] = np.diff(self.edges)\n",
    "        # self['VGEdges'] = bins\n",
    "        self['VGInverseWidth'] = 1/self['VGWidth']\n",
    "        self['VGNumber'] = len(self['VGCenter'])\n",
    "        self['velocity_groups'] = np.ones(self['VGDensity'].shape)"
   ]
  },
  {
   "cell_type": "markdown",
   "metadata": {},
   "source": [
    "Create a list of two evenly spaced velocity groups:"
   ]
  },
  {
   "cell_type": "code",
   "execution_count": null,
   "metadata": {},
   "outputs": [
    {
     "data": {
      "text/plain": [
       "{'VGCenter': array([  -1.5  ,    1.5  ]),\n",
       " 'VGDensity': array([   0.5  ,    0.5  ]),\n",
       " 'VGWidth': array([   3.0  ,    3.0  ]),\n",
       " 'VGInverseWidth': array([  0.33  ,   0.33  ]),\n",
       " 'VGNumber': 2,\n",
       " 'velocity_groups': array([   1.0  ,    1.0  ])}"
      ]
     },
     "execution_count": null,
     "metadata": {},
     "output_type": "execute_result"
    }
   ],
   "source": [
    "vg = VelocityGroups(2)\n",
    "vg"
   ]
  },
  {
   "cell_type": "markdown",
   "metadata": {},
   "source": [
    "### subdivide -\n"
   ]
  },
  {
   "cell_type": "code",
   "execution_count": null,
   "metadata": {},
   "outputs": [],
   "source": [
    "#| export\n",
    "@patch\n",
    "def subdivide(\n",
    "    self:VelocityGroups, \n",
    "    indices:int|ndarray|slice=slice(None) # Indices, boolean array, or slice object specifying velocity groups to subdivide\n",
    "):\n",
    "    \"\"\"Divide the velocity groups with indices `indices` in two.\"\"\"\n",
    "    return VelocityGroups(np.union1d(self.edges, self[\"VGCenter\"][indices]))"
   ]
  },
  {
   "cell_type": "markdown",
   "metadata": {},
   "source": [
    "Return a new `VelocityGroups` object with the groups at index 1 divided in two:"
   ]
  },
  {
   "cell_type": "code",
   "execution_count": null,
   "metadata": {},
   "outputs": [
    {
     "data": {
      "text/plain": [
       "{'VGCenter': array([  -1.5  ,   0.75  ,    2.2  ]),\n",
       " 'VGDensity': array([   0.5  ,   0.48  ,   0.017 ]),\n",
       " 'VGWidth': array([   3.0  ,    1.5  ,    1.5  ]),\n",
       " 'VGInverseWidth': array([  0.33  ,   0.67  ,   0.67  ]),\n",
       " 'VGNumber': 3,\n",
       " 'velocity_groups': array([   1.0  ,    1.0  ,    1.0  ])}"
      ]
     },
     "execution_count": null,
     "metadata": {},
     "output_type": "execute_result"
    }
   ],
   "source": [
    "vg.subdivide([1])"
   ]
  },
  {
   "cell_type": "markdown",
   "metadata": {},
   "source": [
    "### _velocity_space -\n"
   ]
  },
  {
   "cell_type": "code",
   "execution_count": null,
   "metadata": {},
   "outputs": [],
   "source": [
    "#| export\n",
    "def _velocity_space(vg, ext=''):\n",
    "    return XarrayVectorSpace({'Atomic velocity' + ext: vg['VGCenter']})"
   ]
  },
  {
   "cell_type": "markdown",
   "metadata": {},
   "source": [
    "### _vg_identity -"
   ]
  },
  {
   "cell_type": "code",
   "execution_count": null,
   "metadata": {},
   "outputs": [],
   "source": [
    "#| export\n",
    "def _vg_identity(vg):\n",
    "    return XarrayMatrixOperator(\n",
    "        DataArray(sparse_identity(vg['VGNumber']), coords=[('Atomic velocity (range)', vg['VGCenter']), ('Atomic velocity', vg['VGCenter'])])\n",
    "    )"
   ]
  },
  {
   "cell_type": "markdown",
   "metadata": {},
   "source": [
    "### _vg_diagonal -"
   ]
  },
  {
   "cell_type": "code",
   "execution_count": null,
   "metadata": {},
   "outputs": [],
   "source": [
    "#| export\n",
    "def _vg_diagonal(vg, diags):\n",
    "    return XarrayMatrixOperator(\n",
    "        DataArray(sparse_diag(diags), coords=[('Atomic velocity (range)', vg['VGCenter']), ('Atomic velocity', vg['VGCenter'])])\n",
    "    )"
   ]
  },
  {
   "cell_type": "code",
   "execution_count": null,
   "metadata": {},
   "outputs": [
    {
     "data": {
      "text/html": [
       "S{AV(2)} → {AV(2)}"
      ],
      "text/plain": [
       "ScaleOperator(\n",
       "    <xarray.DataArray (Atomic velocity: 2)> Size: 16B\n",
       "    array([  -1.5  ,    1.5  ])\n",
       "    Coordinates:\n",
       "      * Atomic velocity  (Atomic velocity) float64 16B -1.5 1.5,\n",
       "    space=XarrayVectorSpace(\n",
       "              coords=Coordinates:\n",
       "                       * Atomic velocity  (Atomic velocity) float64 16B -1.5 1.5))"
      ]
     },
     "execution_count": null,
     "metadata": {},
     "output_type": "execute_result"
    }
   ],
   "source": [
    "#| hide\n",
    "ScaleOperator(vg['VGCenter'], space=_velocity_space(vg))"
   ]
  },
  {
   "cell_type": "markdown",
   "metadata": {},
   "source": [
    "### identity -"
   ]
  },
  {
   "cell_type": "code",
   "execution_count": null,
   "metadata": {},
   "outputs": [],
   "source": [
    "#| export\n",
    "@patch\n",
    "def identity(self:VelocityGroups)->Operator:\n",
    "    \"\"\"The velocity-space identity operator.\"\"\"\n",
    "    # Want to use IdentityOperator for this, but first need to extend XarrayMatrixOperator so that source and range can be the same space. \n",
    "    # return IdentityOperator(_velocity_space(vg))\n",
    "    return XarrayMatrixOperator(\n",
    "            sparse_identity(self['VGNumber']), \n",
    "            range=_velocity_space(self, ' (range)'), \n",
    "            source=_velocity_space(self)\n",
    "        )"
   ]
  },
  {
   "cell_type": "code",
   "execution_count": null,
   "metadata": {},
   "outputs": [
    {
     "data": {
      "text/html": [
       "X{AV(2)} → {AV(2)}"
      ],
      "text/plain": [
       "XarrayMatrixOperator(\n",
       "    <xarray.DataArray (Atomic velocity (range): 2, Atomic velocity: 2)> Size: 48B\n",
       "    <COO: shape=(2, 2), dtype=float64, nnz=2, fill_value=0.0>\n",
       "    Coordinates:\n",
       "      * Atomic velocity (range)  (Atomic velocity (range)) float64 16B -1.5 1.5\n",
       "      * Atomic velocity          (Atomic velocity) float64 16B -1.5 1.5,\n",
       "    source=XarrayVectorSpace(\n",
       "               coords=Coordinates:\n",
       "                        * Atomic velocity  (Atomic velocity) float64 16B -1.5 1.5),\n",
       "    range=XarrayVectorSpace(\n",
       "              coords=Coordinates:\n",
       "                       * Atomic velocity (range)  (Atomic velocity (range)) float64 16B -1.5 1.5))"
      ]
     },
     "execution_count": null,
     "metadata": {},
     "output_type": "execute_result"
    }
   ],
   "source": [
    "vg.identity()"
   ]
  },
  {
   "cell_type": "code",
   "execution_count": null,
   "metadata": {},
   "outputs": [
    {
     "data": {
      "text/plain": [
       "array([[   1.0  ,     0   ],\n",
       "       [    0   ,    1.0  ]])"
      ]
     },
     "execution_count": null,
     "metadata": {},
     "output_type": "execute_result"
    }
   ],
   "source": [
    "_.to_numpy()"
   ]
  },
  {
   "cell_type": "code",
   "execution_count": null,
   "metadata": {},
   "outputs": [],
   "source": [
    "#| hide\n",
    "test_array('core', 'VelocityGroups_identity', _)"
   ]
  },
  {
   "cell_type": "markdown",
   "metadata": {},
   "source": [
    "### velocity_diagonal -"
   ]
  },
  {
   "cell_type": "code",
   "execution_count": null,
   "metadata": {},
   "outputs": [],
   "source": [
    "#| export\n",
    "@patch\n",
    "def velocity_diagonal(self:VelocityGroups)->Operator:\n",
    "    \"\"\"A velocity-space operator with the velocity on the diagonal.\"\"\"\n",
    "    return _vg_diagonal(self, self['VGCenter'])"
   ]
  },
  {
   "cell_type": "code",
   "execution_count": null,
   "metadata": {},
   "outputs": [
    {
     "data": {
      "text/html": [
       "X{AV(2)} → {AV(2)}"
      ],
      "text/plain": [
       "XarrayMatrixOperator(\n",
       "    <xarray.DataArray (Atomic velocity (range): 2, Atomic velocity: 2)> Size: 32B\n",
       "    <COO: shape=(2, 2), dtype=float64, nnz=2, fill_value=0.0>\n",
       "    Coordinates:\n",
       "      * Atomic velocity (range)  (Atomic velocity (range)) float64 16B -1.5 1.5\n",
       "      * Atomic velocity          (Atomic velocity) float64 16B -1.5 1.5,\n",
       "    source=XarrayVectorSpace(\n",
       "               coords=Coordinates:\n",
       "                        * Atomic velocity  (Atomic velocity) float64 16B -1.5 1.5),\n",
       "    range=XarrayVectorSpace(\n",
       "              coords=Coordinates:\n",
       "                       * Atomic velocity (range)  (Atomic velocity (range)) float64 16B -1.5 1.5))"
      ]
     },
     "execution_count": null,
     "metadata": {},
     "output_type": "execute_result"
    }
   ],
   "source": [
    "vg.velocity_diagonal()"
   ]
  },
  {
   "cell_type": "code",
   "execution_count": null,
   "metadata": {},
   "outputs": [
    {
     "data": {
      "text/plain": [
       "array([[  -1.5  ,     0   ],\n",
       "       [    0   ,    1.5  ]])"
      ]
     },
     "execution_count": null,
     "metadata": {},
     "output_type": "execute_result"
    }
   ],
   "source": [
    "_.to_numpy()"
   ]
  },
  {
   "cell_type": "code",
   "execution_count": null,
   "metadata": {},
   "outputs": [],
   "source": [
    "#| hide\n",
    "test_array('core', 'VelocityGroups_velocity_digonal', _)"
   ]
  },
  {
   "cell_type": "markdown",
   "metadata": {},
   "source": [
    "### velocity_density_vector -"
   ]
  },
  {
   "cell_type": "code",
   "execution_count": null,
   "metadata": {},
   "outputs": [],
   "source": [
    "#| export\n",
    "def velocity_density_vector(vg):\n",
    "    return _velocity_space(vg).from_numpy(vg['VGDensity'])"
   ]
  },
  {
   "cell_type": "markdown",
   "metadata": {},
   "source": [
    "### n_times_1 -"
   ]
  },
  {
   "cell_type": "code",
   "execution_count": null,
   "metadata": {},
   "outputs": [],
   "source": [
    "#| export\n",
    "@patch\n",
    "def n_times_1(self:VelocityGroups)->Operator:\n",
    "    \"\"\"Operator that sums over all velocity groups then scales by the Maxwell-Boltzmann distribution.\"\"\"\n",
    "    return XarrayMatrixOperator(\n",
    "        sparse(self['VGDensity'][:, None] * np.ones((self['VGNumber']))),\n",
    "        range=_velocity_space(self, ' (range)'), \n",
    "        source=_velocity_space(self)\n",
    "    )"
   ]
  },
  {
   "cell_type": "code",
   "execution_count": null,
   "metadata": {},
   "outputs": [
    {
     "data": {
      "text/html": [
       "X{AV(2)} → {AV(2)}"
      ],
      "text/plain": [
       "XarrayMatrixOperator(\n",
       "    <xarray.DataArray (Atomic velocity (range): 2, Atomic velocity: 2)> Size: 96B\n",
       "    <COO: shape=(2, 2), dtype=float64, nnz=4, fill_value=0.0>\n",
       "    Coordinates:\n",
       "      * Atomic velocity (range)  (Atomic velocity (range)) float64 16B -1.5 1.5\n",
       "      * Atomic velocity          (Atomic velocity) float64 16B -1.5 1.5,\n",
       "    source=XarrayVectorSpace(\n",
       "               coords=Coordinates:\n",
       "                        * Atomic velocity  (Atomic velocity) float64 16B -1.5 1.5),\n",
       "    range=XarrayVectorSpace(\n",
       "              coords=Coordinates:\n",
       "                       * Atomic velocity (range)  (Atomic velocity (range)) float64 16B -1.5 1.5))"
      ]
     },
     "execution_count": null,
     "metadata": {},
     "output_type": "execute_result"
    }
   ],
   "source": [
    "vg.n_times_1()"
   ]
  },
  {
   "cell_type": "code",
   "execution_count": null,
   "metadata": {},
   "outputs": [
    {
     "data": {
      "text/plain": [
       "array([[   0.5  ,    0.5  ],\n",
       "       [   0.5  ,    0.5  ]])"
      ]
     },
     "execution_count": null,
     "metadata": {},
     "output_type": "execute_result"
    }
   ],
   "source": [
    "_.to_numpy()"
   ]
  },
  {
   "cell_type": "code",
   "execution_count": null,
   "metadata": {},
   "outputs": [],
   "source": [
    "#| hide\n",
    "test_array('core', 'VelocityGroups_n_times_1', _)"
   ]
  },
  {
   "cell_type": "code",
   "execution_count": null,
   "metadata": {},
   "outputs": [],
   "source": [
    "#| hide\n",
    "# This is really a product operator of velocity_sum followed by velocity_maxwell. Should refactor\n",
    "test_close(_, (_velocity_space(vg, ' (range)').ones() * velocity_density_vector(vg)).array.data)"
   ]
  },
  {
   "cell_type": "markdown",
   "metadata": {},
   "source": [
    "### drho_dv -"
   ]
  },
  {
   "cell_type": "code",
   "execution_count": null,
   "metadata": {},
   "outputs": [],
   "source": [
    "#| export\n",
    "@patch\n",
    "def drho_dv(self:VelocityGroups)->Operator:\n",
    "    \"\"\"Derivative with respect to velocity operator.$\"\"\"\n",
    "    return XarrayMatrixOperator(\n",
    "        self['VGInverseWidth'] * (sparse_kronecker_matrix(self['VGNumber'], 0) - sparse_kronecker_matrix(self['VGNumber'], -1)), \n",
    "        range=_velocity_space(self, ' (range)'), \n",
    "        source=_velocity_space(self)\n",
    "    )"
   ]
  },
  {
   "cell_type": "code",
   "execution_count": null,
   "metadata": {},
   "outputs": [
    {
     "data": {
      "text/html": [
       "X{AV(2)} → {AV(2)}"
      ],
      "text/plain": [
       "XarrayMatrixOperator(\n",
       "    <xarray.DataArray (Atomic velocity (range): 2, Atomic velocity: 2)> Size: 48B\n",
       "    <COO: shape=(2, 2), dtype=float64, nnz=3, fill_value=0.0>\n",
       "    Coordinates:\n",
       "      * Atomic velocity (range)  (Atomic velocity (range)) float64 16B -1.5 1.5\n",
       "      * Atomic velocity          (Atomic velocity) float64 16B -1.5 1.5,\n",
       "    source=XarrayVectorSpace(\n",
       "               coords=Coordinates:\n",
       "                        * Atomic velocity  (Atomic velocity) float64 16B -1.5 1.5),\n",
       "    range=XarrayVectorSpace(\n",
       "              coords=Coordinates:\n",
       "                       * Atomic velocity (range)  (Atomic velocity (range)) float64 16B -1.5 1.5))"
      ]
     },
     "execution_count": null,
     "metadata": {},
     "output_type": "execute_result"
    }
   ],
   "source": [
    "vg.drho_dv() "
   ]
  },
  {
   "cell_type": "code",
   "execution_count": null,
   "metadata": {},
   "outputs": [
    {
     "data": {
      "text/plain": [
       "array([[  0.33  ,     0   ],\n",
       "       [ -0.33  ,   0.33  ]])"
      ]
     },
     "execution_count": null,
     "metadata": {},
     "output_type": "execute_result"
    }
   ],
   "source": [
    "_.to_numpy()"
   ]
  },
  {
   "cell_type": "code",
   "execution_count": null,
   "metadata": {},
   "outputs": [],
   "source": [
    "#| hide\n",
    "test_array('core', 'VelocityGroups_drho_dv', _)"
   ]
  },
  {
   "cell_type": "code",
   "execution_count": null,
   "metadata": {},
   "outputs": [
    {
     "data": {
      "text/plain": [
       "-0.3333333333333333"
      ]
     },
     "execution_count": null,
     "metadata": {},
     "output_type": "execute_result"
    }
   ],
   "source": [
    "#| hide\n",
    "vg.drho_dv().matrix.sel({'Atomic velocity (range)': 1.5, 'Atomic velocity': -1.5}).data.item()"
   ]
  },
  {
   "cell_type": "markdown",
   "metadata": {},
   "source": [
    "### _vg_da -\n"
   ]
  },
  {
   "cell_type": "code",
   "execution_count": null,
   "metadata": {},
   "outputs": [],
   "source": [
    "#| export\n",
    "def _vg_da(a, vg):\n",
    "    range = ('Atomic velocity (range)', vg['VGCenter']) if a.shape[0] == vg['VGNumber'] else (\"none\", [\"none\"])\n",
    "    source = ('Atomic velocity', vg['VGCenter']) if a.shape[1] == vg['VGNumber'] else (\"none\", [\"none\"])\n",
    "    return DataArray(a, coords=[range, source])"
   ]
  },
  {
   "cell_type": "markdown",
   "metadata": {},
   "source": [
    "### normalize -\n"
   ]
  },
  {
   "cell_type": "code",
   "execution_count": null,
   "metadata": {},
   "outputs": [],
   "source": [
    "#| export\n",
    "@patch\n",
    "def normalize(self:VelocityGroups)->Operator:\n",
    "    \"\"\"Returns the operator that normalizes a vector by dividing each component by the width of the corresponding velocity group.\"\"\"\n",
    "    return ScaleOperator(DataArray(self['VGInverseWidth'], {'Atomic velocity': self['VGCenter']}))"
   ]
  },
  {
   "cell_type": "code",
   "execution_count": null,
   "metadata": {},
   "outputs": [
    {
     "data": {
      "text/html": [
       "S{AV(2)} → {AV(2)}"
      ],
      "text/plain": [
       "ScaleOperator(\n",
       "    <xarray.DataArray (Atomic velocity: 2)> Size: 16B\n",
       "    array([  0.33  ,   0.33  ])\n",
       "    Coordinates:\n",
       "      * Atomic velocity  (Atomic velocity) float64 16B -1.5 1.5,\n",
       "    space=XarrayVectorSpace(\n",
       "              coords=Coordinates:\n",
       "                       * Atomic velocity  (Atomic velocity) float64 16B -1.5 1.5))"
      ]
     },
     "execution_count": null,
     "metadata": {},
     "output_type": "execute_result"
    }
   ],
   "source": [
    "vg.normalize()"
   ]
  },
  {
   "cell_type": "markdown",
   "metadata": {},
   "source": [
    "### sum -\n"
   ]
  },
  {
   "cell_type": "code",
   "execution_count": null,
   "metadata": {},
   "outputs": [],
   "source": [
    "#| export\n",
    "@patch\n",
    "def sum(self:VelocityGroups)->Operator:\n",
    "    \"\"\"Returns the operator that sums a vector over velocity groups.\"\"\"\n",
    "    return SumOperator({'Atomic velocity': self['VGCenter']})"
   ]
  },
  {
   "cell_type": "code",
   "execution_count": null,
   "metadata": {},
   "outputs": [
    {
     "data": {
      "text/html": [
       "∑{AV(2)} → {1}"
      ],
      "text/plain": [
       "SumOperator({Atomic velocity: array([  -1.5  ,    1.5  ])})"
      ]
     },
     "execution_count": null,
     "metadata": {},
     "output_type": "execute_result"
    }
   ],
   "source": [
    "vg.sum()"
   ]
  },
  {
   "cell_type": "markdown",
   "metadata": {},
   "source": [
    "## Export -"
   ]
  },
  {
   "cell_type": "code",
   "execution_count": null,
   "metadata": {},
   "outputs": [],
   "source": [
    "#| hide\n",
    "import nbdev; nbdev.nbdev_export()"
   ]
  },
  {
   "cell_type": "code",
   "execution_count": null,
   "metadata": {},
   "outputs": [],
   "source": []
  }
 ],
 "metadata": {
  "kernelspec": {
   "display_name": "python3",
   "language": "python",
   "name": "python3"
  }
 },
 "nbformat": 4,
 "nbformat_minor": 4
}
