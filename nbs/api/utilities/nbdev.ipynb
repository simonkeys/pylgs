{
 "cells": [
  {
   "cell_type": "code",
   "execution_count": null,
   "id": "bac0d15b-f88a-43b0-bd3a-1a03d984110e",
   "metadata": {},
   "outputs": [],
   "source": [
    "#| default_exp utilities.nbdev"
   ]
  },
  {
   "cell_type": "markdown",
   "id": "f1a1a8aa-19ab-4395-992f-3849c51d523c",
   "metadata": {},
   "source": [
    "# utilities.nbdev\n",
    "\n",
    "> Extra functionality for [nbdev](https://nbdev.fast.ai/)"
   ]
  },
  {
   "cell_type": "code",
   "execution_count": null,
   "id": "7a8c77f6-abed-4ede-ab49-a69f53e74bba",
   "metadata": {},
   "outputs": [],
   "source": [
    "#| hide\n",
    "from fastcore.test import test_eq"
   ]
  },
  {
   "cell_type": "markdown",
   "id": "08aea4bc-b053-4d05-b338-7ea88822f7e0",
   "metadata": {},
   "source": [
    "### DictTbl -"
   ]
  },
  {
   "cell_type": "markdown",
   "id": "95a9beaf-c2fe-40da-9c89-734c52d09aff",
   "metadata": {},
   "source": [
    "Based on nbdev `DocmentTbl`."
   ]
  },
  {
   "cell_type": "code",
   "execution_count": null,
   "id": "43032a6a-460c-4176-b49e-2bd3560c846a",
   "metadata": {},
   "outputs": [],
   "source": [
    "#| export\n",
    "import inspect\n",
    "from fastcore.foundation import L"
   ]
  },
  {
   "cell_type": "code",
   "execution_count": null,
   "id": "84800161-c966-4daa-958a-e81103ce791b",
   "metadata": {},
   "outputs": [],
   "source": [
    "#| export\n",
    "def _split_at(s:str, *args, strip=False):\n",
    "    result = [s]\n",
    "    for arg in args:\n",
    "        strs = result.pop().split(arg)\n",
    "        if len(strs) == 2: result += strs\n",
    "        else: return None\n",
    "    if strip: result = [s.strip(strip) for s in result]\n",
    "    return result        "
   ]
  },
  {
   "cell_type": "code",
   "execution_count": null,
   "id": "e9cd0915-24b4-4bd5-927f-5b9f55f6a08b",
   "metadata": {},
   "outputs": [],
   "source": [
    "#| export\n",
    "def _bold(s): return f'**{s}**' if s.strip() else s"
   ]
  },
  {
   "cell_type": "code",
   "execution_count": null,
   "id": "be4300dd-7462-442e-855c-5deaed77790d",
   "metadata": {},
   "outputs": [],
   "source": [
    "#|export\n",
    "def _list2row(l:list): return '| '+' | '.join(l) + ' |'"
   ]
  },
  {
   "cell_type": "code",
   "execution_count": null,
   "id": "c6e81c98-2306-4e9c-93c2-059f25be1c83",
   "metadata": {},
   "outputs": [],
   "source": [
    "#| export\n",
    "class MarkdownTable:\n",
    "    \n",
    "    def __init__(self, data, headers):\n",
    "        self.data = data\n",
    "        self.headers = headers\n",
    "    \n",
    "    @property\n",
    "    def _columns(self):\n",
    "        return self._map\n",
    "\n",
    "    @property\n",
    "    def _hdr_list(self): return [_bold(l) for l in self.headers]\n",
    "\n",
    "    @property\n",
    "    def hdr_str(self):\n",
    "        \"The markdown string for the header portion of the table\"\n",
    "        md = _list2row(self._hdr_list)\n",
    "        return md + '\\n' + _list2row(['-' * len(l) for l in self._hdr_list])\n",
    "\n",
    "    @property\n",
    "    def params_str(self):\n",
    "        \"The markdown string for the parameters portion of the table.\"\n",
    "        return '\\n'.join(L(self.data).map(_list2row))\n",
    "\n",
    "    def _repr_markdown_(self):\n",
    "        _tbl = [self.hdr_str, self.params_str]\n",
    "        return '\\n'.join(_tbl)\n",
    "\n",
    "    def __eq__(self,other): return self.__str__() == str(other).strip()\n",
    "\n",
    "    __str__ = _repr_markdown_"
   ]
  },
  {
   "cell_type": "code",
   "execution_count": null,
   "id": "44cc19f7-5eb8-4fe7-9336-4e45fc306e52",
   "metadata": {},
   "outputs": [],
   "source": [
    "#| export\n",
    "class DictTbl(MarkdownTable):\n",
    "    def __init__(self, obj):\n",
    "        rows = []\n",
    "        for s in inspect.getsource(obj).split('\\n'):\n",
    "            line = L(_split_at(s, \":\", \"#\", strip=' '))\n",
    "            if len(line) == 3 and line[0][0] in \"\\'\\\"\": rows.append(s.strip('\\\"\\'') for s in line[[0, -1]])\n",
    "        super().__init__(rows, [' ', 'Description'])"
   ]
  },
  {
   "cell_type": "code",
   "execution_count": null,
   "id": "b2ba0510-6067-48af-9333-bf0d44ed22ae",
   "metadata": {},
   "outputs": [],
   "source": [
    "def _test_dict(): \n",
    "    return {\n",
    "        'foo': [1, 2], # First item description\n",
    "        'bar': [3, 4], # Item description No. 2\n",
    "        'baz': [5, 6], # The last description\n",
    "    }"
   ]
  },
  {
   "cell_type": "code",
   "execution_count": null,
   "id": "d6d6f171-eaa8-4d89-818b-7f6d2fbbce31",
   "metadata": {},
   "outputs": [
    {
     "data": {
      "text/markdown": [
       "|   | **Description** |\n",
       "| - | --------------- |\n",
       "| foo | First item description |\n",
       "| bar | Item description No. 2 |\n",
       "| baz | The last description |"
      ],
      "text/plain": [
       "<__main__.DictTbl>"
      ]
     },
     "execution_count": null,
     "metadata": {},
     "output_type": "execute_result"
    }
   ],
   "source": [
    "DictTbl(_test_dict)"
   ]
  },
  {
   "cell_type": "code",
   "execution_count": null,
   "id": "a5e01662-5c1f-4120-973c-280bf3b8efe5",
   "metadata": {},
   "outputs": [
    {
     "data": {
      "text/plain": [
       "'|   | **Description** |\\n| - | --------------- |\\n| foo | First item description |\\n| bar | Item description No. 2 |\\n| baz | The last description |'"
      ]
     },
     "execution_count": null,
     "metadata": {},
     "output_type": "execute_result"
    }
   ],
   "source": [
    "str(DictTbl(_test_dict))"
   ]
  },
  {
   "cell_type": "code",
   "execution_count": null,
   "id": "6a0061c7-c169-4f68-8522-9f0a9f076d56",
   "metadata": {},
   "outputs": [],
   "source": [
    "#| hide\n",
    "test_eq(\n",
    "    _, \n",
    "    '|   | **Description** |\\n| - | --------------- |\\n| foo | First item description |\\n| bar | Item description No. 2 |\\n| baz | The last description |'\n",
    ")"
   ]
  },
  {
   "cell_type": "markdown",
   "id": "1ea2e353-7351-4be1-86a9-9f2ff6f83c9a",
   "metadata": {},
   "source": [
    "### AttributeTbl -"
   ]
  },
  {
   "cell_type": "code",
   "execution_count": null,
   "id": "92d5ba2d-d3d2-4e6c-8455-f80e13dc8a68",
   "metadata": {},
   "outputs": [],
   "source": [
    "#| export\n",
    "class AttributeTbl(MarkdownTable):\n",
    "    def __init__(self, obj):\n",
    "        rows = []\n",
    "        for s in inspect.getsource(obj.__init__).split('\\n'):\n",
    "            line = L(_split_at(s, \" = \", \" # \", strip=' '))\n",
    "            if len(line) == 3 and line[0].startswith('self.'): rows.append([line[0][5:], line[2]])\n",
    "        super().__init__(rows, ['Attribute', 'Description'])"
   ]
  },
  {
   "cell_type": "code",
   "execution_count": null,
   "id": "94e4f6e7-0ac0-4afb-8e18-0c363b326852",
   "metadata": {},
   "outputs": [],
   "source": [
    "class _test_class:\n",
    "    \"\"\"A test class for the AttributeTbl class.\"\"\"\n",
    "    \n",
    "    class_variable = 'foo'\n",
    "    \n",
    "    def __init__(\n",
    "        self, \n",
    "        bar:str, # bar parameter\n",
    "        baz # baz parameter\n",
    "    ):\n",
    "        a = 3\n",
    "        self.b = 4 # An attribute\n",
    "        self.bing = 5 # Another attribute\n",
    "        c = 6"
   ]
  },
  {
   "cell_type": "code",
   "execution_count": null,
   "id": "1b754681-1093-4146-a26f-bfe429c4e250",
   "metadata": {},
   "outputs": [
    {
     "data": {
      "text/markdown": [
       "| **Attribute** | **Description** |\n",
       "| ------------- | --------------- |\n",
       "| b | An attribute |\n",
       "| bing | Another attribute |"
      ],
      "text/plain": [
       "<__main__.AttributeTbl>"
      ]
     },
     "execution_count": null,
     "metadata": {},
     "output_type": "execute_result"
    }
   ],
   "source": [
    "AttributeTbl(_test_class)"
   ]
  },
  {
   "cell_type": "code",
   "execution_count": null,
   "id": "2dff9f03-4880-435e-8be9-c0a9c224f4cd",
   "metadata": {},
   "outputs": [
    {
     "data": {
      "text/plain": [
       "'| **Attribute** | **Description** |\\n| ------------- | --------------- |\\n| b | An attribute |\\n| bing | Another attribute |'"
      ]
     },
     "execution_count": null,
     "metadata": {},
     "output_type": "execute_result"
    }
   ],
   "source": [
    "str(AttributeTbl(_test_class))"
   ]
  },
  {
   "cell_type": "code",
   "execution_count": null,
   "id": "341367de-0077-4242-952b-04707e0045f4",
   "metadata": {},
   "outputs": [],
   "source": [
    "#| hide\n",
    "test_eq(\n",
    "    _, \n",
    "    str(AttributeTbl(_test_class))\n",
    ")"
   ]
  },
  {
   "cell_type": "markdown",
   "id": "bb800164-61b7-407c-b23f-bd13d746f12a",
   "metadata": {},
   "source": [
    "## Export -"
   ]
  },
  {
   "cell_type": "code",
   "execution_count": null,
   "id": "5da49fc4-c57b-44b7-b789-18f106200987",
   "metadata": {},
   "outputs": [],
   "source": [
    "#| hide\n",
    "import nbdev; nbdev.nbdev_export()"
   ]
  },
  {
   "cell_type": "code",
   "execution_count": null,
   "id": "86cfffa2-61d0-40d9-873c-82f8e8684fb4",
   "metadata": {},
   "outputs": [],
   "source": []
  }
 ],
 "metadata": {
  "kernelspec": {
   "display_name": "python3",
   "language": "python",
   "name": "python3"
  }
 },
 "nbformat": 4,
 "nbformat_minor": 5
}
