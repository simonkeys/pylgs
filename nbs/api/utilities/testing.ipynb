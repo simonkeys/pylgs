{
 "cells": [
  {
   "cell_type": "code",
   "execution_count": null,
   "id": "bac0d15b-f88a-43b0-bd3a-1a03d984110e",
   "metadata": {},
   "outputs": [],
   "source": [
    "#| default_exp utilities.testing"
   ]
  },
  {
   "cell_type": "code",
   "execution_count": null,
   "id": "c0a02d18-865c-4496-822b-8eae9b01b636",
   "metadata": {},
   "outputs": [],
   "source": [
    "%%capture\n",
    "%load_ext autoreload\n",
    "%autoreload 2"
   ]
  },
  {
   "cell_type": "markdown",
   "id": "f1a1a8aa-19ab-4395-992f-3849c51d523c",
   "metadata": {},
   "source": [
    "# utilities.testing\n",
    "\n",
    "> Testing utilities"
   ]
  },
  {
   "cell_type": "code",
   "execution_count": null,
   "id": "7a8c77f6-abed-4ede-ab49-a69f53e74bba",
   "metadata": {},
   "outputs": [],
   "source": [
    "#| hide\n",
    "from fastcore.test import test_eq"
   ]
  },
  {
   "cell_type": "code",
   "execution_count": null,
   "id": "867baa2c-2f84-440e-aff6-554889b83e45",
   "metadata": {},
   "outputs": [],
   "source": [
    "#| export\n",
    "import numpy as np\n",
    "import xarray as xr\n",
    "from fastcore.test import test_close"
   ]
  },
  {
   "cell_type": "markdown",
   "id": "860f2d5e-81b8-4f92-93ca-03294d9be31d",
   "metadata": {},
   "source": [
    "### test_array -"
   ]
  },
  {
   "cell_type": "code",
   "execution_count": null,
   "id": "76f42ee8-77b9-4983-8b8d-980e3e2d0743",
   "metadata": {},
   "outputs": [],
   "source": [
    "#| export\n",
    "def test_array(file, name, arr, update='allow'):\n",
    "    file = file + '_test.npz'\n",
    "    try: arrays = dict(np.load(file))\n",
    "    except FileNotFoundError: \n",
    "        if update != 'forbid': arrays = {}\n",
    "        else: raise\n",
    "    if name in arrays and update != 'force': test_close(arrays[name], arr)\n",
    "    elif update != 'forbid':\n",
    "        print(f'adding {name} array')\n",
    "        np.savez(file, **(arrays | {name: arr}))\n",
    "    else: raise RuntimeError(f'Test array {name} not in .npz file {file}.')"
   ]
  },
  {
   "cell_type": "markdown",
   "id": "563a7142-5e2c-4254-b846-5b5470fa415e",
   "metadata": {},
   "source": [
    "### test_da -"
   ]
  },
  {
   "cell_type": "code",
   "execution_count": null,
   "id": "1502f472-35e9-4caf-bc58-7b1b7e8ae949",
   "metadata": {},
   "outputs": [],
   "source": [
    "#| export\n",
    "def test_da(file, name, da, update='forbid'):\n",
    "    file = file + '_test.cdf'\n",
    "    if update != 'force':\n",
    "        try:\n",
    "            with xr.open_dataarray(file, group=name) as saved: \n",
    "                assert saved.equals(da)\n",
    "                return\n",
    "        except AssertionError:\n",
    "            raise AssertionError(f'Saved DataArray\\n{saved}\\nnot equal to supplied DataArray\\n{da}.')\n",
    "        except FileNotFoundError: \n",
    "            if update != 'allow': raise\n",
    "        except OSError:\n",
    "            if update != 'allow': raise RuntimeError(f'Test array {name} not in file {file}.')\n",
    "    print(f'adding {name} DataArray to {file}')\n",
    "    da.to_netcdf(file, group=name, mode='a')"
   ]
  },
  {
   "cell_type": "markdown",
   "id": "bb800164-61b7-407c-b23f-bd13d746f12a",
   "metadata": {},
   "source": [
    "## Export -"
   ]
  },
  {
   "cell_type": "code",
   "execution_count": null,
   "id": "5da49fc4-c57b-44b7-b789-18f106200987",
   "metadata": {},
   "outputs": [],
   "source": [
    "#| hide\n",
    "import nbdev; nbdev.nbdev_export()"
   ]
  },
  {
   "cell_type": "code",
   "execution_count": null,
   "id": "86cfffa2-61d0-40d9-873c-82f8e8684fb4",
   "metadata": {},
   "outputs": [],
   "source": []
  }
 ],
 "metadata": {
  "kernelspec": {
   "display_name": "python3",
   "language": "python",
   "name": "python3"
  }
 },
 "nbformat": 4,
 "nbformat_minor": 5
}
