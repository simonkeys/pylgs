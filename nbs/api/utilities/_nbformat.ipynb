{
 "cells": [
  {
   "cell_type": "code",
   "execution_count": null,
   "id": "fd7d5104-8274-4694-8a77-4f7cd8f960ba",
   "metadata": {},
   "outputs": [],
   "source": [
    "import nbformat\n",
    "import glob"
   ]
  },
  {
   "cell_type": "code",
   "execution_count": null,
   "id": "575cc30b-6bdf-478c-a0fe-962fd07365c7",
   "metadata": {},
   "outputs": [],
   "source": [
    "def get_def_name(cell):\n",
    "    if cell.cell_type == 'code':\n",
    "        lines = cell.source.split('\\n')\n",
    "        if lines[0].replace(' ', '') == '#|export':\n",
    "            defs = [line for line in lines if line.startswith('def ')]\n",
    "            if defs: \n",
    "                return defs[0].split(' ')[1].split('(')[0]"
   ]
  },
  {
   "cell_type": "code",
   "execution_count": null,
   "id": "4e596b10-c766-44b7-8273-38703c49117a",
   "metadata": {},
   "outputs": [],
   "source": [
    "def heading_cell(heading):\n",
    "    cell = nbformat.v4.new_markdown_cell(f'#| hide\\n### {heading}')\n",
    "    del cell['id']\n",
    "    return cell"
   ]
  },
  {
   "cell_type": "code",
   "execution_count": null,
   "id": "3dc79312-344b-446b-84bb-27a6a5c6546c",
   "metadata": {},
   "outputs": [],
   "source": [
    "def get_heading(cell):\n",
    "    if cell.cell_type == 'markdown' and \"### \" in cell.source:\n",
    "        return cell.source.split('### ')[1].split()[0]"
   ]
  },
  {
   "cell_type": "code",
   "execution_count": null,
   "id": "815b201c-a9dc-4c3e-87a3-7efe2ae83daf",
   "metadata": {},
   "outputs": [],
   "source": [
    "def add_headings(nb):\n",
    "    cells = []\n",
    "    last_heading = ''\n",
    "    for cell in nb.cells:\n",
    "        if heading := get_heading(cell): last_heading = heading\n",
    "        elif (heading := get_def_name(cell)) and (heading != last_heading):\n",
    "            cells.append(heading_cell(heading))\n",
    "            last_heading = heading\n",
    "        cells.append(cell)\n",
    "    return nbformat.v4.new_notebook(**(nb | {'cells': cells}))"
   ]
  },
  {
   "cell_type": "code",
   "execution_count": null,
   "id": "e376f61a-4565-4f02-a5f7-731844b506de",
   "metadata": {},
   "outputs": [],
   "source": [
    "def exported(nb):\n",
    "    return nb.cells[0].source.replace(' ', '').startswith('#|default_exp')"
   ]
  },
  {
   "cell_type": "code",
   "execution_count": null,
   "id": "8d0380b2-6f26-4f54-997f-a981a3b86d2d",
   "metadata": {},
   "outputs": [],
   "source": [
    "def add_def_headings(files):\n",
    "    files = glob.glob(files, recursive=True)\n",
    "    for nb_file in files:\n",
    "        nb = nbformat.read(nb_file, as_version=4)\n",
    "        if exported(nb):\n",
    "            nbformat.write(new_nb := add_headings(nb), nb_file, version=4)\n",
    "            print(f'Added {len(new_nb.cells) - len(nb.cells)} headings to {nb_file}')"
   ]
  },
  {
   "cell_type": "code",
   "execution_count": null,
   "id": "94b3e4be-f0a2-4af4-aaeb-379336756528",
   "metadata": {},
   "outputs": [
    {
     "name": "stdout",
     "output_type": "stream",
     "text": [
      "Added 0 headings to ../_scratch/_03_operators-old.ipynb\n",
      "Added 0 headings to ../_scratch/02_vectorarrays-Copy1.ipynb\n",
      "Added 0 headings to ../_scratch/_01_pymor.ipynb\n",
      "Added 0 headings to ../_scratch/_02_vectorarrays-old.ipynb\n",
      "Added 0 headings to ../_scratch/_03_operators-old2.ipynb\n",
      "Added 0 headings to ../API/02_lgs_system.ipynb\n",
      "Added 0 headings to ../API/00_utilities.ipynb\n",
      "Added 0 headings to ../API/00_TableForm.ipynb\n",
      "Added 0 headings to ../API/pyMOR/05_timestepping.ipynb\n",
      "Added 0 headings to ../API/pyMOR/04_grids.ipynb\n",
      "Added 0 headings to ../API/pyMOR/01_parameters.ipynb\n",
      "Added 0 headings to ../API/pyMOR/02_vectorarrays.ipynb\n",
      "Added 0 headings to ../API/pyMOR/example_problems.ipynb\n",
      "Added 0 headings to ../API/pyMOR/03_operators.ipynb\n",
      "Added 0 headings to ../API/pyMOR/06_models.ipynb\n"
     ]
    }
   ],
   "source": [
    "# add_def_headings('../**/*.ipynb')"
   ]
  },
  {
   "cell_type": "code",
   "execution_count": null,
   "id": "4bfca8dc-d01d-43e7-b9d7-b65c70688400",
   "metadata": {},
   "outputs": [],
   "source": [
    "def trim_heading(cell):\n",
    "    if cell.cell_type == 'markdown' and cell.source.startswith(\"#| hide\\n### \"):\n",
    "        return cell.source.replace(\"#| hide\\n\", '')"
   ]
  },
  {
   "cell_type": "code",
   "execution_count": null,
   "id": "dda8494f-e4b9-4b86-a199-26d43cbdf017",
   "metadata": {},
   "outputs": [],
   "source": [
    "def trim_headings(nb):\n",
    "    cells = []\n",
    "    for cell in nb.cells:\n",
    "        if cell.cell_type == 'markdown' and cell.source.startswith(\"#| hide\\n### \"):\n",
    "            cell.source = cell.source.replace(\"#| hide\\n\", '').strip('\\n') + ' -\\n'\n",
    "        cells.append(cell)\n",
    "    return nbformat.v4.new_notebook(**(nb | {'cells': cells}))"
   ]
  },
  {
   "cell_type": "code",
   "execution_count": null,
   "id": "97a2e13e-b3a6-46c4-baf5-a905003a70cf",
   "metadata": {},
   "outputs": [
    {
     "data": {
      "text/plain": [
       "['index.ipynb',\n",
       " 'API/02_lgs_system.ipynb',\n",
       " 'API/00_utilities.ipynb',\n",
       " 'API/00_TableForm.ipynb',\n",
       " 'API/pyMOR/05_timestepping.ipynb',\n",
       " 'API/pyMOR/04_grids.ipynb',\n",
       " 'API/pyMOR/01_parameters.ipynb',\n",
       " 'API/pyMOR/02_vectorarrays.ipynb',\n",
       " 'API/pyMOR/03_operators.ipynb',\n",
       " 'API/pyMOR/06_models.ipynb',\n",
       " 'Tutorials/sodium_lgs.ipynb',\n",
       " 'Tutorials/polychromatic_lgs.ipynb']"
      ]
     },
     "execution_count": null,
     "metadata": {},
     "output_type": "execute_result"
    }
   ],
   "source": [
    "glob_('**/*.ipynb')"
   ]
  },
  {
   "cell_type": "code",
   "execution_count": null,
   "id": "54bc5d42-3699-453d-be17-a93c658bcfb2",
   "metadata": {},
   "outputs": [],
   "source": [
    "def convert_hidden_headings(files):\n",
    "    files = glob_('**/*.ipynb')\n",
    "    for nb_file in files:\n",
    "        nb = nbformat.read(nb_file, as_version=4)\n",
    "        if exported(nb):\n",
    "            nbformat.write(trim_headings(nb), nb_file, version=4)"
   ]
  },
  {
   "cell_type": "code",
   "execution_count": null,
   "id": "498c952f-e607-4e70-977a-13b16de26b9c",
   "metadata": {},
   "outputs": [],
   "source": [
    "# convert_hidden_headings('**/*.ipynb')"
   ]
  },
  {
   "cell_type": "code",
   "execution_count": null,
   "id": "da6fd0af-3033-495a-bae8-95aae8b330b2",
   "metadata": {},
   "outputs": [],
   "source": [
    "def glob_(glob_str):\n",
    "    return [f for f in glob.glob(glob_str, recursive=True) if not any(s.startswith('_') for s in f.split('/'))]"
   ]
  },
  {
   "cell_type": "code",
   "execution_count": null,
   "id": "bc077b9a-582e-4192-b13a-e5789a0dbb0f",
   "metadata": {},
   "outputs": [],
   "source": [
    "def filter_cells(nb, cell_types=('code',)):\n",
    "    cells = []\n",
    "    for cell in nb.cells:\n",
    "        if cell.cell_type in cell_types:\n",
    "            if cell.cell_type == 'code':\n",
    "                cells.append(nbformat.v4.new_code_cell(source=cell.source))\n",
    "    return nbformat.v4.new_notebook(cells=cells)"
   ]
  },
  {
   "cell_type": "code",
   "execution_count": null,
   "id": "52136960-c459-4a67-9bc0-edd5a678270d",
   "metadata": {},
   "outputs": [],
   "source": [
    "def copy_cells(infile, outfile, cell_types=('code',)):\n",
    "    nb = nbformat.read(infile, as_version=4)\n",
    "    nbformat.write(filter_cells(nb), outfile, version=4)"
   ]
  },
  {
   "cell_type": "code",
   "execution_count": null,
   "id": "e555546b-2e48-42a7-b1f5-0ea3dd663aea",
   "metadata": {},
   "outputs": [
    {
     "data": {
      "text/plain": [
       "'/Users/simon/Development/pyLGS/pylgs/nbs/API'"
      ]
     },
     "execution_count": null,
     "metadata": {},
     "output_type": "execute_result"
    }
   ],
   "source": [
    "pwd"
   ]
  },
  {
   "cell_type": "code",
   "execution_count": null,
   "id": "d5ce71e6-522a-47f7-bdb5-a28da4f5c0b2",
   "metadata": {},
   "outputs": [],
   "source": [
    "copy_cells('02_lgs_system.ipynb', 'test.ipynb')"
   ]
  },
  {
   "cell_type": "code",
   "execution_count": null,
   "id": "d8ef8297-a753-469a-891f-333ca6e44c4d",
   "metadata": {},
   "outputs": [],
   "source": []
  }
 ],
 "metadata": {
  "kernelspec": {
   "display_name": "python3",
   "language": "python",
   "name": "python3"
  }
 },
 "nbformat": 4,
 "nbformat_minor": 5
}
