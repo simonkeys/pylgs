{
 "cells": [
  {
   "cell_type": "code",
   "execution_count": null,
   "metadata": {},
   "outputs": [],
   "source": [
    "#| default_exp pymor.example_problems"
   ]
  },
  {
   "cell_type": "markdown",
   "metadata": {},
   "source": [
    "# pymor.example_problems\n",
    "\n",
    "> Extended functionality for pyMOR"
   ]
  },
  {
   "cell_type": "code",
   "execution_count": null,
   "metadata": {},
   "outputs": [],
   "source": [
    "# | hide\n",
    "from nbdev.showdoc import *\n",
    "from fastcore.test import test_eq, test_close"
   ]
  },
  {
   "cell_type": "code",
   "execution_count": null,
   "metadata": {},
   "outputs": [],
   "source": [
    "# #| export\n",
    "# from fastcore.basics import patch, first\n",
    "\n",
    "# from typing import Tuple, List\n",
    "# from numbers import Integral\n",
    "# from IPython.display import display, HTML\n",
    "\n",
    "# import pandas as pd\n",
    "# from pandas import Index\n",
    "\n",
    "# from numpy import array, ndarray\n",
    "# from einops import rearrange\n",
    "# import plotly\n",
    "# import plotly.express as px\n",
    "\n",
    "# from pymor.core.base import ImmutableObject\n",
    "# from pymor.basic import NumpyVectorSpace\n",
    "# from pymor.vectorarrays.block import BlockVectorArray, BlockVectorSpace, BlockVectorArrayImpl"
   ]
  },
  {
   "cell_type": "markdown",
   "metadata": {},
   "source": [
    "## LTI example problem"
   ]
  },
  {
   "cell_type": "code",
   "execution_count": null,
   "metadata": {},
   "outputs": [],
   "source": [
    "#| export\n",
    "import numpy as np\n",
    "import scipy.sparse as sps\n",
    "from pymor.models.iosys import LTIModel"
   ]
  },
  {
   "cell_type": "markdown",
   "metadata": {},
   "source": [
    "#| hide\n",
    "### lti_matrices"
   ]
  },
  {
   "cell_type": "code",
   "execution_count": null,
   "metadata": {},
   "outputs": [],
   "source": [
    "#| export\n",
    "def lti_matrices():\n",
    "    k = 50\n",
    "    n = 2 * k + 1\n",
    "    \n",
    "    E = sps.eye(n, format='lil')\n",
    "    E[0, 0] = E[-1, -1] = 0.5\n",
    "    E = E.tocsc()\n",
    "    \n",
    "    d0 = n * [-2 * (n - 1)**2]\n",
    "    d1 = (n - 1) * [(n - 1)**2]\n",
    "    A = sps.diags([d1, d0, d1], [-1, 0, 1], format='lil')\n",
    "    A[0, 0] = A[-1, -1] = -n * (n - 1)\n",
    "    A = A.tocsc()\n",
    "    \n",
    "    B = np.zeros((n, 2))\n",
    "    B[:, 0] = 1\n",
    "    B[0, 0] = B[-1, 0] = 0.5\n",
    "    B[0, 1] = n - 1\n",
    "    \n",
    "    C = np.zeros((3, n))\n",
    "    C[0, :n//3] = C[1, n//3:2*n//3] = C[2, 2*n//3:] = 1\n",
    "    C /= C.sum(axis=1)[:, np.newaxis]\n",
    "    return A, B, C, E"
   ]
  },
  {
   "cell_type": "code",
   "execution_count": null,
   "metadata": {},
   "outputs": [],
   "source": [
    "A, B, C, E = lti_matrices()"
   ]
  },
  {
   "cell_type": "code",
   "execution_count": null,
   "metadata": {},
   "outputs": [],
   "source": [
    "fom = LTIModel.from_matrices(A, B, C, E=E)"
   ]
  },
  {
   "cell_type": "code",
   "execution_count": null,
   "metadata": {},
   "outputs": [
    {
     "data": {
      "text/plain": [
       "LTIModel(\n",
       "    NumpyMatrixOperator(<101x101 sparse, 301 nnz>, source_id='STATE', range_id='STATE'),\n",
       "    NumpyMatrixOperator(<101x2 dense>, range_id='STATE'),\n",
       "    NumpyMatrixOperator(<3x101 dense>, source_id='STATE'),\n",
       "    D=ZeroOperator(NumpyVectorSpace(3), NumpyVectorSpace(2)),\n",
       "    E=NumpyMatrixOperator(<101x101 sparse, 101 nnz>, source_id='STATE', range_id='STATE'),\n",
       "    presets={})"
      ]
     },
     "execution_count": null,
     "metadata": {},
     "output_type": "execute_result"
    }
   ],
   "source": [
    "fom"
   ]
  },
  {
   "cell_type": "code",
   "execution_count": null,
   "metadata": {},
   "outputs": [
    {
     "data": {
      "text/plain": [
       "NumpyVectorSpace(2)"
      ]
     },
     "execution_count": null,
     "metadata": {},
     "output_type": "execute_result"
    }
   ],
   "source": [
    "fom.B.source"
   ]
  },
  {
   "cell_type": "markdown",
   "metadata": {},
   "source": [
    "The two inputs are $u_1$ (uniform heating), $u_2$ (heating the left end)"
   ]
  },
  {
   "cell_type": "code",
   "execution_count": null,
   "metadata": {},
   "outputs": [
    {
     "data": {
      "text/plain": [
       "NumpyVectorSpace(3)"
      ]
     },
     "execution_count": null,
     "metadata": {},
     "output_type": "execute_result"
    }
   ],
   "source": [
    "fom.C.range"
   ]
  },
  {
   "cell_type": "markdown",
   "metadata": {},
   "source": [
    "The three outputs are $y_1$ (left side temperature), $y_2$ (central temperature), $y_3$ (right side temperature)"
   ]
  },
  {
   "cell_type": "code",
   "execution_count": null,
   "metadata": {},
   "outputs": [
    {
     "data": {
      "text/plain": [
       "NumpyVectorSpace(101, id='STATE')"
      ]
     },
     "execution_count": null,
     "metadata": {},
     "output_type": "execute_result"
    }
   ],
   "source": [
    "fom.A.source"
   ]
  },
  {
   "cell_type": "markdown",
   "metadata": {},
   "source": [
    "There are 101 grid positions $\\xi = 0, ..., 1$"
   ]
  },
  {
   "cell_type": "code",
   "execution_count": null,
   "metadata": {},
   "outputs": [],
   "source": [
    "#| hide\n",
    "import nbdev; nbdev.nbdev_export()"
   ]
  },
  {
   "cell_type": "code",
   "execution_count": null,
   "metadata": {},
   "outputs": [],
   "source": []
  }
 ],
 "metadata": {
  "kernelspec": {
   "display_name": "python3",
   "language": "python",
   "name": "python3"
  }
 },
 "nbformat": 4,
 "nbformat_minor": 4
}
