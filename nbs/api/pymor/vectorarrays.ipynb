{
 "cells": [
  {
   "cell_type": "code",
   "execution_count": null,
   "metadata": {},
   "outputs": [],
   "source": [
    "#| default_exp pymor.vectorarrays"
   ]
  },
  {
   "cell_type": "code",
   "execution_count": null,
   "metadata": {},
   "outputs": [
    {
     "data": {
      "application/vnd.jupyter.widget-view+json": {
       "model_id": "3b81c92d674a4b9ba2db972952a21624",
       "version_major": 2,
       "version_minor": 0
      },
      "text/plain": [
       "Accordion(children=(HTML(value='', layout=Layout(height='16em', width='100%')),), titles=('Log Output',))"
      ]
     },
     "metadata": {},
     "output_type": "display_data"
    }
   ],
   "source": [
    "%%capture\n",
    "%load_ext autoreload\n",
    "%autoreload 2"
   ]
  },
  {
   "cell_type": "markdown",
   "metadata": {},
   "source": [
    "# pymor.vectorarrays\n",
    "\n",
    "> Extended functionality for [pyMOR](https://pymor.org/) vector arrays"
   ]
  },
  {
   "cell_type": "markdown",
   "metadata": {},
   "source": [
    "## Imports -"
   ]
  },
  {
   "cell_type": "code",
   "execution_count": null,
   "metadata": {},
   "outputs": [],
   "source": [
    "#| hide\n",
    "from fastcore.test import test_close, test_eq\n",
    "from nbdev.showdoc import show_doc\n",
    "\n",
    "from pylgs.utilities.testing import test_da"
   ]
  },
  {
   "cell_type": "code",
   "execution_count": null,
   "metadata": {},
   "outputs": [],
   "source": [
    "#| export\n",
    "from numbers import Number, Real\n",
    "from functools import partial\n",
    "import inspect\n",
    "from typing import Optional\n",
    "\n",
    "from fastcore.basics import patch, first\n",
    "from fastcore.meta import delegates\n",
    "\n",
    "import numpy as np\n",
    "from numpy import array, ndarray\n",
    "import xarray as xr\n",
    "from xarray import DataArray, Variable\n",
    "from pymor.basic import NumpyVectorSpace\n",
    "from pymor.core.base import classinstancemethod\n",
    "from pymor.vectorarrays.interface import VectorArray, VectorArrayImpl, VectorSpace\n",
    "\n",
    "from pylgs.utilities.basic import get_item, filter_args, filter_out_args\n",
    "from pylgs.utilities.xarray import Coordinates\n",
    "from pylgs.utilities.formatting import prefix_format"
   ]
  },
  {
   "cell_type": "code",
   "execution_count": null,
   "metadata": {},
   "outputs": [],
   "source": [
    "#|hide\n",
    "test_da = partial(test_da, 'test_data/vectorarrays', update='allow')"
   ]
  },
  {
   "cell_type": "markdown",
   "metadata": {},
   "source": [
    "## XarrayVectorSpace"
   ]
  },
  {
   "cell_type": "markdown",
   "metadata": {},
   "source": [
    "### XarrayVectorArrayImpl -"
   ]
  },
  {
   "cell_type": "code",
   "execution_count": null,
   "metadata": {},
   "outputs": [],
   "source": [
    "#| export\n",
    "#|hide\n",
    "class XarrayVectorArrayImpl(VectorArrayImpl):\n",
    "\n",
    "    def __init__(self, _array, space_array):\n",
    "        self.dims = tuple(set(_array.dims) - set(space_array.dims))\n",
    "        self.__auto_init(locals())\n",
    "\n",
    "    @property\n",
    "    def array(self): return self._array\n",
    "\n",
    "    @property\n",
    "    def coords(self): return self._array.coords\n",
    "\n",
    "    @property\n",
    "    def _len(self): return self._array.size // self.space_array.size\n",
    "    \n",
    "    def __len__(self): return self._len\n",
    "\n",
    "    def copy(self, deep, ind):\n",
    "        new_array = self._array if ind is None else self._array[ind].copy()\n",
    "        return XarrayVectorArrayImpl(new_array, self.space_array)\n",
    "\n",
    "    @property\n",
    "    def extended_dims(self):\n",
    "        return tuple(dim for dim in self._array.dims if dim not in self.space_array.dims)\n",
    "    \n",
    "    def to_numpy(self, ensure_copy, ind): raise NotImplementedError\n",
    "    def real(self, ind): raise NotImplementedError\n",
    "    def imag(self, ind): raise NotImplementedError\n",
    "    def conj(self, ind): raise NotImplementedError\n",
    "    def delete(self, ind): raise NotImplementedError\n",
    "    def append(self, other, remove_from_other, oind): raise NotImplementedError\n",
    "    def scal(self, alpha, ind): raise NotImplementedError\n",
    "    def scal_copy(self, alpha, ind): raise NotImplementedError\n",
    "    def axpy(self, alpha, x, ind, xind): raise NotImplementedError\n",
    "    def axpy_copy(self, alpha, x, ind, xind): raise NotImplementedError\n",
    "    def inner(self, other, ind, oind): raise NotImplementedError\n",
    "    def pairwise_inner(self, other, ind, oind): raise NotImplementedError\n",
    "    def lincomb(self, coefficients, ind): raise NotImplementedError\n",
    "    def norm(self, ind): raise NotImplementedError\n",
    "    def norm2(self, ind): raise NotImplementedError\n",
    "    def dofs(self, dof_indices, ind): raise NotImplementedError\n",
    "    def amax(self, ind): raise NotImplementedError"
   ]
  },
  {
   "cell_type": "code",
   "execution_count": null,
   "metadata": {},
   "outputs": [],
   "source": [
    "#| export\n",
    "#|hide\n",
    "def _abbreviate(s):\n",
    "    s = s.split('(')[0]\n",
    "    words = s.split()\n",
    "    if len(words) > 1: return ''.join(w[0].capitalize() for w in words)\n",
    "    return s[:2]"
   ]
  },
  {
   "cell_type": "code",
   "execution_count": null,
   "metadata": {},
   "outputs": [],
   "source": [
    "#| export\n",
    "#|hide\n",
    "def _coords_str(coords, dims=None):\n",
    "    if not coords: return '{1}'\n",
    "    if dims is None: dims = list(coords)\n",
    "    return '{' + ' ⨉ '.join(f'{dim}({len(coords[dim])})' for dim in dims) + '}'"
   ]
  },
  {
   "cell_type": "code",
   "execution_count": null,
   "metadata": {},
   "outputs": [],
   "source": [
    "#| export\n",
    "def _short_coords_str(coords, dims=None):\n",
    "    if not coords: return '{1}'\n",
    "    if dims is None: dims = list(coords)\n",
    "    return '{' + ' ⨉ '.join(f'{_abbreviate(dim)}({len(coords[dim])})' for dim in dims) + '}'"
   ]
  },
  {
   "cell_type": "markdown",
   "metadata": {},
   "source": [
    "### XarrayVectorArray -"
   ]
  },
  {
   "cell_type": "code",
   "execution_count": null,
   "metadata": {},
   "outputs": [],
   "source": [
    "#| export\n",
    "#|hide\n",
    "class XarrayVectorArray(VectorArray):\n",
    "    \"\"\"`VectorArray` implementation via xarray arrays.\"\"\"\n",
    "\n",
    "    impl_type = XarrayVectorArrayImpl\n",
    "\n",
    "    @property\n",
    "    def array(self): return self.impl.array\n",
    "\n",
    "    @property\n",
    "    def shape(self): return self.array.shape\n",
    "    \n",
    "    @property\n",
    "    def coords(self): return self.impl.coords\n",
    "\n",
    "    @property\n",
    "    def extended_dims(self):\n",
    "        return self.impl.extended_dims\n",
    "    \n",
    "    def __str__(self):\n",
    "        return str(self.space)[:-1] + \", \" + _coords_str(self.coords, self.extended_dims)[1:]\n",
    "    \n",
    "    def short_str(self):\n",
    "        return _short_coords_str(self.space)[:-1] + \", \" + _short_coords_str(self.coords, self.extended_dims)[1:]\n",
    "    \n",
    "    def _repr_html_(self):\n",
    "        return str(self)"
   ]
  },
  {
   "cell_type": "markdown",
   "metadata": {},
   "source": [
    "### XarrayVectorSpace -"
   ]
  },
  {
   "cell_type": "code",
   "execution_count": null,
   "metadata": {},
   "outputs": [],
   "source": [
    "#| export\n",
    "class XarrayVectorSpace(VectorSpace):\n",
    "    \"\"\"`VectorSpace` of `XarrayVectorArrays`.\"\"\"\n",
    "\n",
    "    def __init__(\n",
    "        self, \n",
    "        coords:Optional[Coordinates|dict|DataArray]=None, \n",
    "        name:Optional[str]=None, \n",
    "        attrs:Optional[dict]=None, \n",
    "        id=None      # See `~pymor.vectorarrays.interface.VectorSpace.id`.\n",
    "    ):\n",
    "        if isinstance(coords, dict):\n",
    "            coords = Coordinates(coords)\n",
    "        elif isinstance(coords, DataArray):\n",
    "            if name is None: name = coords.name\n",
    "            coords = Coordinates({dim: coords[dim] for dim in coords.dims})\n",
    "        # elif isinstance(coords, list):\n",
    "        #     coords = Coordinates({c.name: c.data for c in coords}) *** Do we need list input?        \n",
    "        self._array = DataArray(np.zeros(coords.shape if coords is not None else ()), coords=coords, name=name, attrs=attrs) \n",
    "\n",
    "        self.dims = self._array.dims\n",
    "        self.__auto_init(locals())\n",
    "\n",
    "    @property\n",
    "    def dim(self): return self._array.size\n",
    "\n",
    "    @property\n",
    "    def shape(self): return self._array.shape\n",
    "    \n",
    "    @classinstancemethod\n",
    "    def make_array(cls, obj, id=None):\n",
    "        vec = cls._array_factory(obj, id=id)\n",
    "        vec.name = obj.name\n",
    "        return vec\n",
    "\n",
    "    @make_array.instancemethod\n",
    "    def make_array(self, obj):\n",
    "        \"\"\":noindex:\"\"\" \n",
    "        vec = self._array_factory(obj, space=self)\n",
    "        vec.name = obj.name\n",
    "        return vec        \n",
    "\n",
    "    @classmethod\n",
    "    def _array_factory(cls, array:DataArray, space):\n",
    "        return XarrayVectorArray(space, XarrayVectorArrayImpl(array, space._array))\n",
    "\n",
    "    def zeros(\n",
    "        self, \n",
    "        coords:Optional[dict]=None # Coordinates to extend vector space over\n",
    "    )->XarrayVectorArray: # `XarrayVectorArray` with all elements equal to zero\n",
    "        \"\"\"Return `XarrayVectorArray` of null vectors in XarrayVectorSpace optionally extended to include supplied coordinates `coords`.\"\"\"\n",
    "        if coords is None: coords = {}\n",
    "        array = xr.zeros_like(self._array.expand_dims(coords))\n",
    "        return self._array_factory(array, space=self)\n",
    "\n",
    "    def ones(\n",
    "        self, \n",
    "        coords:Optional[dict]=None # Coordinates to extend vector space over\n",
    "    )->XarrayVectorArray: # `XarrayVectorArray` with all elements equal to one\n",
    "        \"\"\"Return `XarrayVectorArray` of vectors with each element equal to one in XarrayVectorSpace optionally extended to include supplied coordinates `coords`.\"\"\"\n",
    "        if coords is None: coords = {}\n",
    "        array = xr.ones_like(self._array.expand_dims(coords))\n",
    "        return self._array_factory(array, space=self)\n",
    "\n",
    "    def __str__(self):\n",
    "        return _coords_str(self.coords)\n",
    "\n",
    "    def short_str(self):\n",
    "        return _short_coords_str(self.coords)\n",
    "    \n",
    "    def _repr_html_(self):\n",
    "        return str(self)"
   ]
  },
  {
   "cell_type": "markdown",
   "metadata": {},
   "source": [
    "\"Empty\" `XarrayVectorSpace` with no coordinates (used, for example, for operators whose range is a scalar):"
   ]
  },
  {
   "cell_type": "code",
   "execution_count": null,
   "metadata": {},
   "outputs": [
    {
     "data": {
      "text/html": [
       "{1}"
      ],
      "text/plain": [
       "XarrayVectorSpace()"
      ]
     },
     "execution_count": null,
     "metadata": {},
     "output_type": "execute_result"
    }
   ],
   "source": [
    "XarrayVectorSpace()"
   ]
  },
  {
   "cell_type": "markdown",
   "metadata": {},
   "source": [
    "`XarrayVectorSpace` from dictionary of coordinates:"
   ]
  },
  {
   "cell_type": "code",
   "execution_count": null,
   "metadata": {},
   "outputs": [
    {
     "data": {
      "text/html": [
       "{foo(3) ⨉ bar(2)}"
      ],
      "text/plain": [
       "XarrayVectorSpace(\n",
       "    coords=Coordinates:\n",
       "             * foo      (foo) int64 24B 1 2 3\n",
       "             * bar      (bar) <U1 8B 'a' 'b')"
      ]
     },
     "execution_count": null,
     "metadata": {},
     "output_type": "execute_result"
    }
   ],
   "source": [
    "coords = {'foo': [1, 2, 3], 'bar': ['a', 'b']}\n",
    "XarrayVectorSpace(coords)"
   ]
  },
  {
   "cell_type": "code",
   "execution_count": null,
   "metadata": {},
   "outputs": [],
   "source": [
    "#|hide\n",
    "test_eq(_.shape, (3, 2))\n",
    "test_eq(_.dims, ('foo', 'bar'))\n",
    "test_eq(_.name, 'XarrayVectorSpace')"
   ]
  },
  {
   "cell_type": "markdown",
   "metadata": {},
   "source": [
    "From xarray `Coordinates`:"
   ]
  },
  {
   "cell_type": "code",
   "execution_count": null,
   "metadata": {},
   "outputs": [
    {
     "data": {
      "text/html": [
       "{foo(3) ⨉ bar(2)}"
      ],
      "text/plain": [
       "XarrayVectorSpace(\n",
       "    coords=Coordinates:\n",
       "             * foo      (foo) int64 24B 1 2 3\n",
       "             * bar      (bar) <U1 8B 'a' 'b')"
      ]
     },
     "execution_count": null,
     "metadata": {},
     "output_type": "execute_result"
    }
   ],
   "source": [
    "coords = Coordinates(coords)\n",
    "XarrayVectorSpace(coords)"
   ]
  },
  {
   "cell_type": "code",
   "execution_count": null,
   "metadata": {},
   "outputs": [],
   "source": [
    "#|hide\n",
    "test_eq(_.shape, (3, 2))\n",
    "test_eq(_.dims, ('foo', 'bar'))\n",
    "test_eq(_.name, 'XarrayVectorSpace')"
   ]
  },
  {
   "cell_type": "markdown",
   "metadata": {},
   "source": [
    "From `DataArray` with default dimensions and coordinates:"
   ]
  },
  {
   "cell_type": "code",
   "execution_count": null,
   "metadata": {},
   "outputs": [
    {
     "data": {
      "text/html": [
       "{dim_0(3) ⨉ dim_1(2)}"
      ],
      "text/plain": [
       "XarrayVectorSpace(\n",
       "    coords=Coordinates:\n",
       "             * dim_0    (dim_0) int64 24B 0 1 2\n",
       "             * dim_1    (dim_1) int64 16B 0 1)"
      ]
     },
     "execution_count": null,
     "metadata": {},
     "output_type": "execute_result"
    }
   ],
   "source": [
    "da = DataArray(np.ones(coords.shape))\n",
    "XarrayVectorSpace(da)"
   ]
  },
  {
   "cell_type": "code",
   "execution_count": null,
   "metadata": {},
   "outputs": [],
   "source": [
    "#|hide\n",
    "test_eq(_.shape, (3, 2))\n",
    "test_eq(_.dims, ('dim_0', 'dim_1'))\n",
    "test_eq(_.name, 'XarrayVectorSpace')"
   ]
  },
  {
   "cell_type": "markdown",
   "metadata": {},
   "source": [
    "From `DataArray`:"
   ]
  },
  {
   "cell_type": "code",
   "execution_count": null,
   "metadata": {},
   "outputs": [
    {
     "data": {
      "text/html": [
       "{foo(3) ⨉ bar(2)}"
      ],
      "text/plain": [
       "XarrayVectorSpace(\n",
       "    coords=Coordinates:\n",
       "             * foo      (foo) int64 24B 1 2 3\n",
       "             * bar      (bar) <U1 8B 'a' 'b',\n",
       "    name='baz')"
      ]
     },
     "execution_count": null,
     "metadata": {},
     "output_type": "execute_result"
    }
   ],
   "source": [
    "da = DataArray(np.ones(coords.shape), coords=coords, name='baz')\n",
    "space = XarrayVectorSpace(da)\n",
    "space"
   ]
  },
  {
   "cell_type": "code",
   "execution_count": null,
   "metadata": {},
   "outputs": [],
   "source": [
    "#|hide\n",
    "test_eq(_.shape, (3, 2))\n",
    "test_eq(_.dims, ('foo', 'bar'))\n",
    "test_eq(_.name, 'baz')"
   ]
  },
  {
   "cell_type": "code",
   "execution_count": null,
   "metadata": {},
   "outputs": [
    {
     "data": {
      "text/markdown": [
       "---\n",
       "\n",
       "[source](https://github.com/simonkeys/pylgs/blob/main/pylgs/pymor/vectorarrays.py#L166){target=\"_blank\" style=\"float:right; font-size:smaller\"}\n",
       "\n",
       "### XarrayVectorSpace.zeros\n",
       "\n",
       ">      XarrayVectorSpace.zeros (coords:Optional[dict]=None)\n",
       "\n",
       "*Return `XarrayVectorArray` of null vectors in XarrayVectorSpace optionally extended to include supplied coordinates `coords`.*\n",
       "\n",
       "|    | **Type** | **Default** | **Details** |\n",
       "| -- | -------- | ----------- | ----------- |\n",
       "| coords | Optional | None | Coordinates to extend vector space over |\n",
       "| **Returns** | **XarrayVectorArray** |  | **`XarrayVectorArray` with all elements equal to zero** |"
      ],
      "text/plain": [
       "---\n",
       "\n",
       "[source](https://github.com/simonkeys/pylgs/blob/main/pylgs/pymor/vectorarrays.py#L166){target=\"_blank\" style=\"float:right; font-size:smaller\"}\n",
       "\n",
       "### XarrayVectorSpace.zeros\n",
       "\n",
       ">      XarrayVectorSpace.zeros (coords:Optional[dict]=None)\n",
       "\n",
       "*Return `XarrayVectorArray` of null vectors in XarrayVectorSpace optionally extended to include supplied coordinates `coords`.*\n",
       "\n",
       "|    | **Type** | **Default** | **Details** |\n",
       "| -- | -------- | ----------- | ----------- |\n",
       "| coords | Optional | None | Coordinates to extend vector space over |\n",
       "| **Returns** | **XarrayVectorArray** |  | **`XarrayVectorArray` with all elements equal to zero** |"
      ]
     },
     "execution_count": null,
     "metadata": {},
     "output_type": "execute_result"
    }
   ],
   "source": [
    "show_doc(XarrayVectorSpace.zeros)"
   ]
  },
  {
   "cell_type": "code",
   "execution_count": null,
   "metadata": {},
   "outputs": [
    {
     "data": {
      "text/html": [
       "{foo(3) ⨉ bar(2), }"
      ],
      "text/plain": [
       "XarrayVectorArray(\n",
       "    XarrayVectorSpace(\n",
       "        coords=Coordinates:\n",
       "                 * foo      (foo) int64 24B 1 2 3\n",
       "                 * bar      (bar) <U1 8B 'a' 'b',\n",
       "        name='baz'),\n",
       "    XarrayVectorArrayImpl(\n",
       "        <xarray.DataArray 'baz' (foo: 3, bar: 2)> Size: 48B\n",
       "        array([[0., 0.],\n",
       "               [0., 0.],\n",
       "               [0., 0.]])\n",
       "        Coordinates:\n",
       "          * foo      (foo) int64 24B 1 2 3\n",
       "          * bar      (bar) <U1 8B 'a' 'b',\n",
       "        <xarray.DataArray 'baz' (foo: 3, bar: 2)> Size: 48B\n",
       "        array([[0., 0.],\n",
       "               [0., 0.],\n",
       "               [0., 0.]])\n",
       "        Coordinates:\n",
       "          * foo      (foo) int64 24B 1 2 3\n",
       "          * bar      (bar) <U1 8B 'a' 'b'),\n",
       "    _len=1)"
      ]
     },
     "execution_count": null,
     "metadata": {},
     "output_type": "execute_result"
    }
   ],
   "source": [
    "U = space.zeros()\n",
    "U"
   ]
  },
  {
   "cell_type": "code",
   "execution_count": null,
   "metadata": {},
   "outputs": [
    {
     "data": {
      "text/html": [
       "<div><svg style=\"position: absolute; width: 0; height: 0; overflow: hidden\">\n",
       "<defs>\n",
       "<symbol id=\"icon-database\" viewBox=\"0 0 32 32\">\n",
       "<path d=\"M16 0c-8.837 0-16 2.239-16 5v4c0 2.761 7.163 5 16 5s16-2.239 16-5v-4c0-2.761-7.163-5-16-5z\"></path>\n",
       "<path d=\"M16 17c-8.837 0-16-2.239-16-5v6c0 2.761 7.163 5 16 5s16-2.239 16-5v-6c0 2.761-7.163 5-16 5z\"></path>\n",
       "<path d=\"M16 26c-8.837 0-16-2.239-16-5v6c0 2.761 7.163 5 16 5s16-2.239 16-5v-6c0 2.761-7.163 5-16 5z\"></path>\n",
       "</symbol>\n",
       "<symbol id=\"icon-file-text2\" viewBox=\"0 0 32 32\">\n",
       "<path d=\"M28.681 7.159c-0.694-0.947-1.662-2.053-2.724-3.116s-2.169-2.030-3.116-2.724c-1.612-1.182-2.393-1.319-2.841-1.319h-15.5c-1.378 0-2.5 1.121-2.5 2.5v27c0 1.378 1.122 2.5 2.5 2.5h23c1.378 0 2.5-1.122 2.5-2.5v-19.5c0-0.448-0.137-1.23-1.319-2.841zM24.543 5.457c0.959 0.959 1.712 1.825 2.268 2.543h-4.811v-4.811c0.718 0.556 1.584 1.309 2.543 2.268zM28 29.5c0 0.271-0.229 0.5-0.5 0.5h-23c-0.271 0-0.5-0.229-0.5-0.5v-27c0-0.271 0.229-0.5 0.5-0.5 0 0 15.499-0 15.5 0v7c0 0.552 0.448 1 1 1h7v19.5z\"></path>\n",
       "<path d=\"M23 26h-14c-0.552 0-1-0.448-1-1s0.448-1 1-1h14c0.552 0 1 0.448 1 1s-0.448 1-1 1z\"></path>\n",
       "<path d=\"M23 22h-14c-0.552 0-1-0.448-1-1s0.448-1 1-1h14c0.552 0 1 0.448 1 1s-0.448 1-1 1z\"></path>\n",
       "<path d=\"M23 18h-14c-0.552 0-1-0.448-1-1s0.448-1 1-1h14c0.552 0 1 0.448 1 1s-0.448 1-1 1z\"></path>\n",
       "</symbol>\n",
       "</defs>\n",
       "</svg>\n",
       "<style>/* CSS stylesheet for displaying xarray objects in jupyterlab.\n",
       " *\n",
       " */\n",
       "\n",
       ":root {\n",
       "  --xr-font-color0: var(--jp-content-font-color0, rgba(0, 0, 0, 1));\n",
       "  --xr-font-color2: var(--jp-content-font-color2, rgba(0, 0, 0, 0.54));\n",
       "  --xr-font-color3: var(--jp-content-font-color3, rgba(0, 0, 0, 0.38));\n",
       "  --xr-border-color: var(--jp-border-color2, #e0e0e0);\n",
       "  --xr-disabled-color: var(--jp-layout-color3, #bdbdbd);\n",
       "  --xr-background-color: var(--jp-layout-color0, white);\n",
       "  --xr-background-color-row-even: var(--jp-layout-color1, white);\n",
       "  --xr-background-color-row-odd: var(--jp-layout-color2, #eeeeee);\n",
       "}\n",
       "\n",
       "html[theme=dark],\n",
       "html[data-theme=dark],\n",
       "body[data-theme=dark],\n",
       "body.vscode-dark {\n",
       "  --xr-font-color0: rgba(255, 255, 255, 1);\n",
       "  --xr-font-color2: rgba(255, 255, 255, 0.54);\n",
       "  --xr-font-color3: rgba(255, 255, 255, 0.38);\n",
       "  --xr-border-color: #1F1F1F;\n",
       "  --xr-disabled-color: #515151;\n",
       "  --xr-background-color: #111111;\n",
       "  --xr-background-color-row-even: #111111;\n",
       "  --xr-background-color-row-odd: #313131;\n",
       "}\n",
       "\n",
       ".xr-wrap {\n",
       "  display: block !important;\n",
       "  min-width: 300px;\n",
       "  max-width: 700px;\n",
       "}\n",
       "\n",
       ".xr-text-repr-fallback {\n",
       "  /* fallback to plain text repr when CSS is not injected (untrusted notebook) */\n",
       "  display: none;\n",
       "}\n",
       "\n",
       ".xr-header {\n",
       "  padding-top: 6px;\n",
       "  padding-bottom: 6px;\n",
       "  margin-bottom: 4px;\n",
       "  border-bottom: solid 1px var(--xr-border-color);\n",
       "}\n",
       "\n",
       ".xr-header > div,\n",
       ".xr-header > ul {\n",
       "  display: inline;\n",
       "  margin-top: 0;\n",
       "  margin-bottom: 0;\n",
       "}\n",
       "\n",
       ".xr-obj-type,\n",
       ".xr-array-name {\n",
       "  margin-left: 2px;\n",
       "  margin-right: 10px;\n",
       "}\n",
       "\n",
       ".xr-obj-type {\n",
       "  color: var(--xr-font-color2);\n",
       "}\n",
       "\n",
       ".xr-sections {\n",
       "  padding-left: 0 !important;\n",
       "  display: grid;\n",
       "  grid-template-columns: 150px auto auto 1fr 0 20px 0 20px;\n",
       "}\n",
       "\n",
       ".xr-section-item {\n",
       "  display: contents;\n",
       "}\n",
       "\n",
       ".xr-section-item input {\n",
       "  display: inline-block;\n",
       "  opacity: 0;\n",
       "}\n",
       "\n",
       ".xr-section-item input + label {\n",
       "  color: var(--xr-disabled-color);\n",
       "}\n",
       "\n",
       ".xr-section-item input:enabled + label {\n",
       "  cursor: pointer;\n",
       "  color: var(--xr-font-color2);\n",
       "}\n",
       "\n",
       ".xr-section-item input:focus + label {\n",
       "  border: 2px solid var(--xr-font-color0);\n",
       "}\n",
       "\n",
       ".xr-section-item input:enabled + label:hover {\n",
       "  color: var(--xr-font-color0);\n",
       "}\n",
       "\n",
       ".xr-section-summary {\n",
       "  grid-column: 1;\n",
       "  color: var(--xr-font-color2);\n",
       "  font-weight: 500;\n",
       "}\n",
       "\n",
       ".xr-section-summary > span {\n",
       "  display: inline-block;\n",
       "  padding-left: 0.5em;\n",
       "}\n",
       "\n",
       ".xr-section-summary-in:disabled + label {\n",
       "  color: var(--xr-font-color2);\n",
       "}\n",
       "\n",
       ".xr-section-summary-in + label:before {\n",
       "  display: inline-block;\n",
       "  content: '►';\n",
       "  font-size: 11px;\n",
       "  width: 15px;\n",
       "  text-align: center;\n",
       "}\n",
       "\n",
       ".xr-section-summary-in:disabled + label:before {\n",
       "  color: var(--xr-disabled-color);\n",
       "}\n",
       "\n",
       ".xr-section-summary-in:checked + label:before {\n",
       "  content: '▼';\n",
       "}\n",
       "\n",
       ".xr-section-summary-in:checked + label > span {\n",
       "  display: none;\n",
       "}\n",
       "\n",
       ".xr-section-summary,\n",
       ".xr-section-inline-details {\n",
       "  padding-top: 4px;\n",
       "  padding-bottom: 4px;\n",
       "}\n",
       "\n",
       ".xr-section-inline-details {\n",
       "  grid-column: 2 / -1;\n",
       "}\n",
       "\n",
       ".xr-section-details {\n",
       "  display: none;\n",
       "  grid-column: 1 / -1;\n",
       "  margin-bottom: 5px;\n",
       "}\n",
       "\n",
       ".xr-section-summary-in:checked ~ .xr-section-details {\n",
       "  display: contents;\n",
       "}\n",
       "\n",
       ".xr-array-wrap {\n",
       "  grid-column: 1 / -1;\n",
       "  display: grid;\n",
       "  grid-template-columns: 20px auto;\n",
       "}\n",
       "\n",
       ".xr-array-wrap > label {\n",
       "  grid-column: 1;\n",
       "  vertical-align: top;\n",
       "}\n",
       "\n",
       ".xr-preview {\n",
       "  color: var(--xr-font-color3);\n",
       "}\n",
       "\n",
       ".xr-array-preview,\n",
       ".xr-array-data {\n",
       "  padding: 0 5px !important;\n",
       "  grid-column: 2;\n",
       "}\n",
       "\n",
       ".xr-array-data,\n",
       ".xr-array-in:checked ~ .xr-array-preview {\n",
       "  display: none;\n",
       "}\n",
       "\n",
       ".xr-array-in:checked ~ .xr-array-data,\n",
       ".xr-array-preview {\n",
       "  display: inline-block;\n",
       "}\n",
       "\n",
       ".xr-dim-list {\n",
       "  display: inline-block !important;\n",
       "  list-style: none;\n",
       "  padding: 0 !important;\n",
       "  margin: 0;\n",
       "}\n",
       "\n",
       ".xr-dim-list li {\n",
       "  display: inline-block;\n",
       "  padding: 0;\n",
       "  margin: 0;\n",
       "}\n",
       "\n",
       ".xr-dim-list:before {\n",
       "  content: '(';\n",
       "}\n",
       "\n",
       ".xr-dim-list:after {\n",
       "  content: ')';\n",
       "}\n",
       "\n",
       ".xr-dim-list li:not(:last-child):after {\n",
       "  content: ',';\n",
       "  padding-right: 5px;\n",
       "}\n",
       "\n",
       ".xr-has-index {\n",
       "  font-weight: bold;\n",
       "}\n",
       "\n",
       ".xr-var-list,\n",
       ".xr-var-item {\n",
       "  display: contents;\n",
       "}\n",
       "\n",
       ".xr-var-item > div,\n",
       ".xr-var-item label,\n",
       ".xr-var-item > .xr-var-name span {\n",
       "  background-color: var(--xr-background-color-row-even);\n",
       "  margin-bottom: 0;\n",
       "}\n",
       "\n",
       ".xr-var-item > .xr-var-name:hover span {\n",
       "  padding-right: 5px;\n",
       "}\n",
       "\n",
       ".xr-var-list > li:nth-child(odd) > div,\n",
       ".xr-var-list > li:nth-child(odd) > label,\n",
       ".xr-var-list > li:nth-child(odd) > .xr-var-name span {\n",
       "  background-color: var(--xr-background-color-row-odd);\n",
       "}\n",
       "\n",
       ".xr-var-name {\n",
       "  grid-column: 1;\n",
       "}\n",
       "\n",
       ".xr-var-dims {\n",
       "  grid-column: 2;\n",
       "}\n",
       "\n",
       ".xr-var-dtype {\n",
       "  grid-column: 3;\n",
       "  text-align: right;\n",
       "  color: var(--xr-font-color2);\n",
       "}\n",
       "\n",
       ".xr-var-preview {\n",
       "  grid-column: 4;\n",
       "}\n",
       "\n",
       ".xr-index-preview {\n",
       "  grid-column: 2 / 5;\n",
       "  color: var(--xr-font-color2);\n",
       "}\n",
       "\n",
       ".xr-var-name,\n",
       ".xr-var-dims,\n",
       ".xr-var-dtype,\n",
       ".xr-preview,\n",
       ".xr-attrs dt {\n",
       "  white-space: nowrap;\n",
       "  overflow: hidden;\n",
       "  text-overflow: ellipsis;\n",
       "  padding-right: 10px;\n",
       "}\n",
       "\n",
       ".xr-var-name:hover,\n",
       ".xr-var-dims:hover,\n",
       ".xr-var-dtype:hover,\n",
       ".xr-attrs dt:hover {\n",
       "  overflow: visible;\n",
       "  width: auto;\n",
       "  z-index: 1;\n",
       "}\n",
       "\n",
       ".xr-var-attrs,\n",
       ".xr-var-data,\n",
       ".xr-index-data {\n",
       "  display: none;\n",
       "  background-color: var(--xr-background-color) !important;\n",
       "  padding-bottom: 5px !important;\n",
       "}\n",
       "\n",
       ".xr-var-attrs-in:checked ~ .xr-var-attrs,\n",
       ".xr-var-data-in:checked ~ .xr-var-data,\n",
       ".xr-index-data-in:checked ~ .xr-index-data {\n",
       "  display: block;\n",
       "}\n",
       "\n",
       ".xr-var-data > table {\n",
       "  float: right;\n",
       "}\n",
       "\n",
       ".xr-var-name span,\n",
       ".xr-var-data,\n",
       ".xr-index-name div,\n",
       ".xr-index-data,\n",
       ".xr-attrs {\n",
       "  padding-left: 25px !important;\n",
       "}\n",
       "\n",
       ".xr-attrs,\n",
       ".xr-var-attrs,\n",
       ".xr-var-data,\n",
       ".xr-index-data {\n",
       "  grid-column: 1 / -1;\n",
       "}\n",
       "\n",
       "dl.xr-attrs {\n",
       "  padding: 0;\n",
       "  margin: 0;\n",
       "  display: grid;\n",
       "  grid-template-columns: 125px auto;\n",
       "}\n",
       "\n",
       ".xr-attrs dt,\n",
       ".xr-attrs dd {\n",
       "  padding: 0;\n",
       "  margin: 0;\n",
       "  float: left;\n",
       "  padding-right: 10px;\n",
       "  width: auto;\n",
       "}\n",
       "\n",
       ".xr-attrs dt {\n",
       "  font-weight: normal;\n",
       "  grid-column: 1;\n",
       "}\n",
       "\n",
       ".xr-attrs dt:hover span {\n",
       "  display: inline-block;\n",
       "  background: var(--xr-background-color);\n",
       "  padding-right: 10px;\n",
       "}\n",
       "\n",
       ".xr-attrs dd {\n",
       "  grid-column: 2;\n",
       "  white-space: pre-wrap;\n",
       "  word-break: break-all;\n",
       "}\n",
       "\n",
       ".xr-icon-database,\n",
       ".xr-icon-file-text2,\n",
       ".xr-no-icon {\n",
       "  display: inline-block;\n",
       "  vertical-align: middle;\n",
       "  width: 1em;\n",
       "  height: 1.5em !important;\n",
       "  stroke-width: 0;\n",
       "  stroke: currentColor;\n",
       "  fill: currentColor;\n",
       "}\n",
       "</style><pre class='xr-text-repr-fallback'>&lt;xarray.DataArray &#x27;baz&#x27; (foo: 3, bar: 2)&gt; Size: 48B\n",
       "array([[0., 0.],\n",
       "       [0., 0.],\n",
       "       [0., 0.]])\n",
       "Coordinates:\n",
       "  * foo      (foo) int64 24B 1 2 3\n",
       "  * bar      (bar) &lt;U1 8B &#x27;a&#x27; &#x27;b&#x27;</pre><div class='xr-wrap' style='display:none'><div class='xr-header'><div class='xr-obj-type'>xarray.DataArray</div><div class='xr-array-name'>'baz'</div><ul class='xr-dim-list'><li><span class='xr-has-index'>foo</span>: 3</li><li><span class='xr-has-index'>bar</span>: 2</li></ul></div><ul class='xr-sections'><li class='xr-section-item'><div class='xr-array-wrap'><input id='section-f828ac0d-69b3-4e00-873e-a5f5eae4afa0' class='xr-array-in' type='checkbox' checked><label for='section-f828ac0d-69b3-4e00-873e-a5f5eae4afa0' title='Show/hide data repr'><svg class='icon xr-icon-database'><use xlink:href='#icon-database'></use></svg></label><div class='xr-array-preview xr-preview'><span>0.0 0.0 0.0 0.0 0.0 0.0</span></div><div class='xr-array-data'><pre>array([[0., 0.],\n",
       "       [0., 0.],\n",
       "       [0., 0.]])</pre></div></div></li><li class='xr-section-item'><input id='section-c8813019-3606-43dd-93a3-31464ef732d5' class='xr-section-summary-in' type='checkbox'  checked><label for='section-c8813019-3606-43dd-93a3-31464ef732d5' class='xr-section-summary' >Coordinates: <span>(2)</span></label><div class='xr-section-inline-details'></div><div class='xr-section-details'><ul class='xr-var-list'><li class='xr-var-item'><div class='xr-var-name'><span class='xr-has-index'>foo</span></div><div class='xr-var-dims'>(foo)</div><div class='xr-var-dtype'>int64</div><div class='xr-var-preview xr-preview'>1 2 3</div><input id='attrs-ee1f9f91-b324-41ed-b702-eb94af411c52' class='xr-var-attrs-in' type='checkbox' disabled><label for='attrs-ee1f9f91-b324-41ed-b702-eb94af411c52' title='Show/Hide attributes'><svg class='icon xr-icon-file-text2'><use xlink:href='#icon-file-text2'></use></svg></label><input id='data-5754a1fa-0dd9-4a67-9d91-5f50ee0788f5' class='xr-var-data-in' type='checkbox'><label for='data-5754a1fa-0dd9-4a67-9d91-5f50ee0788f5' title='Show/Hide data repr'><svg class='icon xr-icon-database'><use xlink:href='#icon-database'></use></svg></label><div class='xr-var-attrs'><dl class='xr-attrs'></dl></div><div class='xr-var-data'><pre>array([1, 2, 3])</pre></div></li><li class='xr-var-item'><div class='xr-var-name'><span class='xr-has-index'>bar</span></div><div class='xr-var-dims'>(bar)</div><div class='xr-var-dtype'>&lt;U1</div><div class='xr-var-preview xr-preview'>&#x27;a&#x27; &#x27;b&#x27;</div><input id='attrs-1d5d0290-14d8-4a1d-ba7c-e539cdca81b6' class='xr-var-attrs-in' type='checkbox' disabled><label for='attrs-1d5d0290-14d8-4a1d-ba7c-e539cdca81b6' title='Show/Hide attributes'><svg class='icon xr-icon-file-text2'><use xlink:href='#icon-file-text2'></use></svg></label><input id='data-986f8843-25f0-42c0-8088-e7f2f25ce614' class='xr-var-data-in' type='checkbox'><label for='data-986f8843-25f0-42c0-8088-e7f2f25ce614' title='Show/Hide data repr'><svg class='icon xr-icon-database'><use xlink:href='#icon-database'></use></svg></label><div class='xr-var-attrs'><dl class='xr-attrs'></dl></div><div class='xr-var-data'><pre>array([&#x27;a&#x27;, &#x27;b&#x27;], dtype=&#x27;&lt;U1&#x27;)</pre></div></li></ul></div></li><li class='xr-section-item'><input id='section-daaaa10f-509d-4f34-9b7f-cfe5fc065412' class='xr-section-summary-in' type='checkbox'  ><label for='section-daaaa10f-509d-4f34-9b7f-cfe5fc065412' class='xr-section-summary' >Indexes: <span>(2)</span></label><div class='xr-section-inline-details'></div><div class='xr-section-details'><ul class='xr-var-list'><li class='xr-var-item'><div class='xr-index-name'><div>foo</div></div><div class='xr-index-preview'>PandasIndex</div><div></div><input id='index-3b0d56b7-93ad-4fa9-869f-4630671f58b5' class='xr-index-data-in' type='checkbox'/><label for='index-3b0d56b7-93ad-4fa9-869f-4630671f58b5' title='Show/Hide index repr'><svg class='icon xr-icon-database'><use xlink:href='#icon-database'></use></svg></label><div class='xr-index-data'><pre>PandasIndex(Index([1, 2, 3], dtype=&#x27;int64&#x27;, name=&#x27;foo&#x27;))</pre></div></li><li class='xr-var-item'><div class='xr-index-name'><div>bar</div></div><div class='xr-index-preview'>PandasIndex</div><div></div><input id='index-601540bf-dc2e-4e30-ae04-8e690fd9f2c1' class='xr-index-data-in' type='checkbox'/><label for='index-601540bf-dc2e-4e30-ae04-8e690fd9f2c1' title='Show/Hide index repr'><svg class='icon xr-icon-database'><use xlink:href='#icon-database'></use></svg></label><div class='xr-index-data'><pre>PandasIndex(Index([&#x27;a&#x27;, &#x27;b&#x27;], dtype=&#x27;object&#x27;, name=&#x27;bar&#x27;))</pre></div></li></ul></div></li><li class='xr-section-item'><input id='section-f848b40f-674a-4a68-8bff-d58e6e68e386' class='xr-section-summary-in' type='checkbox' disabled ><label for='section-f848b40f-674a-4a68-8bff-d58e6e68e386' class='xr-section-summary'  title='Expand/collapse section'>Attributes: <span>(0)</span></label><div class='xr-section-inline-details'></div><div class='xr-section-details'><dl class='xr-attrs'></dl></div></li></ul></div></div>"
      ],
      "text/plain": [
       "<xarray.DataArray 'baz' (foo: 3, bar: 2)> Size: 48B\n",
       "array([[0., 0.],\n",
       "       [0., 0.],\n",
       "       [0., 0.]])\n",
       "Coordinates:\n",
       "  * foo      (foo) int64 24B 1 2 3\n",
       "  * bar      (bar) <U1 8B 'a' 'b'"
      ]
     },
     "execution_count": null,
     "metadata": {},
     "output_type": "execute_result"
    }
   ],
   "source": [
    "U.array"
   ]
  },
  {
   "cell_type": "code",
   "execution_count": null,
   "metadata": {},
   "outputs": [],
   "source": [
    "#|hide\n",
    "test_da('zeros1', _)"
   ]
  },
  {
   "cell_type": "code",
   "execution_count": null,
   "metadata": {},
   "outputs": [
    {
     "data": {
      "text/html": [
       "{foo(3) ⨉ bar(2), bam(3)}"
      ],
      "text/plain": [
       "XarrayVectorArray(\n",
       "    XarrayVectorSpace(\n",
       "        coords=Coordinates:\n",
       "                 * foo      (foo) int64 24B 1 2 3\n",
       "                 * bar      (bar) <U1 8B 'a' 'b',\n",
       "        name='baz'),\n",
       "    XarrayVectorArrayImpl(\n",
       "        <xarray.DataArray 'baz' (bam: 3, foo: 3, bar: 2)> Size: 144B\n",
       "        array([[[0., 0.],\n",
       "                [0., 0.],\n",
       "                [0., 0.]],\n",
       "\n",
       "               [[0., 0.],\n",
       "                [0., 0.],\n",
       "                [0., 0.]],\n",
       "\n",
       "               [[0., 0.],\n",
       "                [0., 0.],\n",
       "                [0., 0.]]])\n",
       "        Coordinates:\n",
       "          * bam      (bam) float64 24B 0.2 0.3 0.4\n",
       "          * foo      (foo) int64 24B 1 2 3\n",
       "          * bar      (bar) <U1 8B 'a' 'b',\n",
       "        <xarray.DataArray 'baz' (foo: 3, bar: 2)> Size: 48B\n",
       "        array([[0., 0.],\n",
       "               [0., 0.],\n",
       "               [0., 0.]])\n",
       "        Coordinates:\n",
       "          * foo      (foo) int64 24B 1 2 3\n",
       "          * bar      (bar) <U1 8B 'a' 'b'),\n",
       "    _len=3)"
      ]
     },
     "execution_count": null,
     "metadata": {},
     "output_type": "execute_result"
    }
   ],
   "source": [
    "space.zeros({'bam': [.2, .3, .4]})"
   ]
  },
  {
   "cell_type": "code",
   "execution_count": null,
   "metadata": {},
   "outputs": [],
   "source": [
    "#|hide\n",
    "test_da('zeros2', _.array)"
   ]
  },
  {
   "cell_type": "code",
   "execution_count": null,
   "metadata": {},
   "outputs": [
    {
     "data": {
      "text/markdown": [
       "---\n",
       "\n",
       "[source](https://github.com/simonkeys/pylgs/blob/main/pylgs/pymor/vectorarrays.py#L175){target=\"_blank\" style=\"float:right; font-size:smaller\"}\n",
       "\n",
       "### XarrayVectorSpace.ones\n",
       "\n",
       ">      XarrayVectorSpace.ones (coords:Optional[dict]=None)\n",
       "\n",
       "*Return `XarrayVectorArray` of vectors with each element equal to one in XarrayVectorSpace optionally extended to include supplied coordinates `coords`.*\n",
       "\n",
       "|    | **Type** | **Default** | **Details** |\n",
       "| -- | -------- | ----------- | ----------- |\n",
       "| coords | Optional | None | Coordinates to extend vector space over |\n",
       "| **Returns** | **XarrayVectorArray** |  | **`XarrayVectorArray` with all elements equal to one** |"
      ],
      "text/plain": [
       "---\n",
       "\n",
       "[source](https://github.com/simonkeys/pylgs/blob/main/pylgs/pymor/vectorarrays.py#L175){target=\"_blank\" style=\"float:right; font-size:smaller\"}\n",
       "\n",
       "### XarrayVectorSpace.ones\n",
       "\n",
       ">      XarrayVectorSpace.ones (coords:Optional[dict]=None)\n",
       "\n",
       "*Return `XarrayVectorArray` of vectors with each element equal to one in XarrayVectorSpace optionally extended to include supplied coordinates `coords`.*\n",
       "\n",
       "|    | **Type** | **Default** | **Details** |\n",
       "| -- | -------- | ----------- | ----------- |\n",
       "| coords | Optional | None | Coordinates to extend vector space over |\n",
       "| **Returns** | **XarrayVectorArray** |  | **`XarrayVectorArray` with all elements equal to one** |"
      ]
     },
     "execution_count": null,
     "metadata": {},
     "output_type": "execute_result"
    }
   ],
   "source": [
    "show_doc(XarrayVectorSpace.ones)"
   ]
  },
  {
   "cell_type": "code",
   "execution_count": null,
   "metadata": {},
   "outputs": [
    {
     "data": {
      "text/html": [
       "{foo(3) ⨉ bar(2), }"
      ],
      "text/plain": [
       "XarrayVectorArray(\n",
       "    XarrayVectorSpace(\n",
       "        coords=Coordinates:\n",
       "                 * foo      (foo) int64 24B 1 2 3\n",
       "                 * bar      (bar) <U1 8B 'a' 'b',\n",
       "        name='baz'),\n",
       "    XarrayVectorArrayImpl(\n",
       "        <xarray.DataArray 'baz' (foo: 3, bar: 2)> Size: 48B\n",
       "        array([[1., 1.],\n",
       "               [1., 1.],\n",
       "               [1., 1.]])\n",
       "        Coordinates:\n",
       "          * foo      (foo) int64 24B 1 2 3\n",
       "          * bar      (bar) <U1 8B 'a' 'b',\n",
       "        <xarray.DataArray 'baz' (foo: 3, bar: 2)> Size: 48B\n",
       "        array([[0., 0.],\n",
       "               [0., 0.],\n",
       "               [0., 0.]])\n",
       "        Coordinates:\n",
       "          * foo      (foo) int64 24B 1 2 3\n",
       "          * bar      (bar) <U1 8B 'a' 'b'),\n",
       "    _len=1)"
      ]
     },
     "execution_count": null,
     "metadata": {},
     "output_type": "execute_result"
    }
   ],
   "source": [
    "U = space.ones()\n",
    "U"
   ]
  },
  {
   "cell_type": "code",
   "execution_count": null,
   "metadata": {},
   "outputs": [
    {
     "data": {
      "text/html": [
       "<div><svg style=\"position: absolute; width: 0; height: 0; overflow: hidden\">\n",
       "<defs>\n",
       "<symbol id=\"icon-database\" viewBox=\"0 0 32 32\">\n",
       "<path d=\"M16 0c-8.837 0-16 2.239-16 5v4c0 2.761 7.163 5 16 5s16-2.239 16-5v-4c0-2.761-7.163-5-16-5z\"></path>\n",
       "<path d=\"M16 17c-8.837 0-16-2.239-16-5v6c0 2.761 7.163 5 16 5s16-2.239 16-5v-6c0 2.761-7.163 5-16 5z\"></path>\n",
       "<path d=\"M16 26c-8.837 0-16-2.239-16-5v6c0 2.761 7.163 5 16 5s16-2.239 16-5v-6c0 2.761-7.163 5-16 5z\"></path>\n",
       "</symbol>\n",
       "<symbol id=\"icon-file-text2\" viewBox=\"0 0 32 32\">\n",
       "<path d=\"M28.681 7.159c-0.694-0.947-1.662-2.053-2.724-3.116s-2.169-2.030-3.116-2.724c-1.612-1.182-2.393-1.319-2.841-1.319h-15.5c-1.378 0-2.5 1.121-2.5 2.5v27c0 1.378 1.122 2.5 2.5 2.5h23c1.378 0 2.5-1.122 2.5-2.5v-19.5c0-0.448-0.137-1.23-1.319-2.841zM24.543 5.457c0.959 0.959 1.712 1.825 2.268 2.543h-4.811v-4.811c0.718 0.556 1.584 1.309 2.543 2.268zM28 29.5c0 0.271-0.229 0.5-0.5 0.5h-23c-0.271 0-0.5-0.229-0.5-0.5v-27c0-0.271 0.229-0.5 0.5-0.5 0 0 15.499-0 15.5 0v7c0 0.552 0.448 1 1 1h7v19.5z\"></path>\n",
       "<path d=\"M23 26h-14c-0.552 0-1-0.448-1-1s0.448-1 1-1h14c0.552 0 1 0.448 1 1s-0.448 1-1 1z\"></path>\n",
       "<path d=\"M23 22h-14c-0.552 0-1-0.448-1-1s0.448-1 1-1h14c0.552 0 1 0.448 1 1s-0.448 1-1 1z\"></path>\n",
       "<path d=\"M23 18h-14c-0.552 0-1-0.448-1-1s0.448-1 1-1h14c0.552 0 1 0.448 1 1s-0.448 1-1 1z\"></path>\n",
       "</symbol>\n",
       "</defs>\n",
       "</svg>\n",
       "<style>/* CSS stylesheet for displaying xarray objects in jupyterlab.\n",
       " *\n",
       " */\n",
       "\n",
       ":root {\n",
       "  --xr-font-color0: var(--jp-content-font-color0, rgba(0, 0, 0, 1));\n",
       "  --xr-font-color2: var(--jp-content-font-color2, rgba(0, 0, 0, 0.54));\n",
       "  --xr-font-color3: var(--jp-content-font-color3, rgba(0, 0, 0, 0.38));\n",
       "  --xr-border-color: var(--jp-border-color2, #e0e0e0);\n",
       "  --xr-disabled-color: var(--jp-layout-color3, #bdbdbd);\n",
       "  --xr-background-color: var(--jp-layout-color0, white);\n",
       "  --xr-background-color-row-even: var(--jp-layout-color1, white);\n",
       "  --xr-background-color-row-odd: var(--jp-layout-color2, #eeeeee);\n",
       "}\n",
       "\n",
       "html[theme=dark],\n",
       "html[data-theme=dark],\n",
       "body[data-theme=dark],\n",
       "body.vscode-dark {\n",
       "  --xr-font-color0: rgba(255, 255, 255, 1);\n",
       "  --xr-font-color2: rgba(255, 255, 255, 0.54);\n",
       "  --xr-font-color3: rgba(255, 255, 255, 0.38);\n",
       "  --xr-border-color: #1F1F1F;\n",
       "  --xr-disabled-color: #515151;\n",
       "  --xr-background-color: #111111;\n",
       "  --xr-background-color-row-even: #111111;\n",
       "  --xr-background-color-row-odd: #313131;\n",
       "}\n",
       "\n",
       ".xr-wrap {\n",
       "  display: block !important;\n",
       "  min-width: 300px;\n",
       "  max-width: 700px;\n",
       "}\n",
       "\n",
       ".xr-text-repr-fallback {\n",
       "  /* fallback to plain text repr when CSS is not injected (untrusted notebook) */\n",
       "  display: none;\n",
       "}\n",
       "\n",
       ".xr-header {\n",
       "  padding-top: 6px;\n",
       "  padding-bottom: 6px;\n",
       "  margin-bottom: 4px;\n",
       "  border-bottom: solid 1px var(--xr-border-color);\n",
       "}\n",
       "\n",
       ".xr-header > div,\n",
       ".xr-header > ul {\n",
       "  display: inline;\n",
       "  margin-top: 0;\n",
       "  margin-bottom: 0;\n",
       "}\n",
       "\n",
       ".xr-obj-type,\n",
       ".xr-array-name {\n",
       "  margin-left: 2px;\n",
       "  margin-right: 10px;\n",
       "}\n",
       "\n",
       ".xr-obj-type {\n",
       "  color: var(--xr-font-color2);\n",
       "}\n",
       "\n",
       ".xr-sections {\n",
       "  padding-left: 0 !important;\n",
       "  display: grid;\n",
       "  grid-template-columns: 150px auto auto 1fr 0 20px 0 20px;\n",
       "}\n",
       "\n",
       ".xr-section-item {\n",
       "  display: contents;\n",
       "}\n",
       "\n",
       ".xr-section-item input {\n",
       "  display: inline-block;\n",
       "  opacity: 0;\n",
       "}\n",
       "\n",
       ".xr-section-item input + label {\n",
       "  color: var(--xr-disabled-color);\n",
       "}\n",
       "\n",
       ".xr-section-item input:enabled + label {\n",
       "  cursor: pointer;\n",
       "  color: var(--xr-font-color2);\n",
       "}\n",
       "\n",
       ".xr-section-item input:focus + label {\n",
       "  border: 2px solid var(--xr-font-color0);\n",
       "}\n",
       "\n",
       ".xr-section-item input:enabled + label:hover {\n",
       "  color: var(--xr-font-color0);\n",
       "}\n",
       "\n",
       ".xr-section-summary {\n",
       "  grid-column: 1;\n",
       "  color: var(--xr-font-color2);\n",
       "  font-weight: 500;\n",
       "}\n",
       "\n",
       ".xr-section-summary > span {\n",
       "  display: inline-block;\n",
       "  padding-left: 0.5em;\n",
       "}\n",
       "\n",
       ".xr-section-summary-in:disabled + label {\n",
       "  color: var(--xr-font-color2);\n",
       "}\n",
       "\n",
       ".xr-section-summary-in + label:before {\n",
       "  display: inline-block;\n",
       "  content: '►';\n",
       "  font-size: 11px;\n",
       "  width: 15px;\n",
       "  text-align: center;\n",
       "}\n",
       "\n",
       ".xr-section-summary-in:disabled + label:before {\n",
       "  color: var(--xr-disabled-color);\n",
       "}\n",
       "\n",
       ".xr-section-summary-in:checked + label:before {\n",
       "  content: '▼';\n",
       "}\n",
       "\n",
       ".xr-section-summary-in:checked + label > span {\n",
       "  display: none;\n",
       "}\n",
       "\n",
       ".xr-section-summary,\n",
       ".xr-section-inline-details {\n",
       "  padding-top: 4px;\n",
       "  padding-bottom: 4px;\n",
       "}\n",
       "\n",
       ".xr-section-inline-details {\n",
       "  grid-column: 2 / -1;\n",
       "}\n",
       "\n",
       ".xr-section-details {\n",
       "  display: none;\n",
       "  grid-column: 1 / -1;\n",
       "  margin-bottom: 5px;\n",
       "}\n",
       "\n",
       ".xr-section-summary-in:checked ~ .xr-section-details {\n",
       "  display: contents;\n",
       "}\n",
       "\n",
       ".xr-array-wrap {\n",
       "  grid-column: 1 / -1;\n",
       "  display: grid;\n",
       "  grid-template-columns: 20px auto;\n",
       "}\n",
       "\n",
       ".xr-array-wrap > label {\n",
       "  grid-column: 1;\n",
       "  vertical-align: top;\n",
       "}\n",
       "\n",
       ".xr-preview {\n",
       "  color: var(--xr-font-color3);\n",
       "}\n",
       "\n",
       ".xr-array-preview,\n",
       ".xr-array-data {\n",
       "  padding: 0 5px !important;\n",
       "  grid-column: 2;\n",
       "}\n",
       "\n",
       ".xr-array-data,\n",
       ".xr-array-in:checked ~ .xr-array-preview {\n",
       "  display: none;\n",
       "}\n",
       "\n",
       ".xr-array-in:checked ~ .xr-array-data,\n",
       ".xr-array-preview {\n",
       "  display: inline-block;\n",
       "}\n",
       "\n",
       ".xr-dim-list {\n",
       "  display: inline-block !important;\n",
       "  list-style: none;\n",
       "  padding: 0 !important;\n",
       "  margin: 0;\n",
       "}\n",
       "\n",
       ".xr-dim-list li {\n",
       "  display: inline-block;\n",
       "  padding: 0;\n",
       "  margin: 0;\n",
       "}\n",
       "\n",
       ".xr-dim-list:before {\n",
       "  content: '(';\n",
       "}\n",
       "\n",
       ".xr-dim-list:after {\n",
       "  content: ')';\n",
       "}\n",
       "\n",
       ".xr-dim-list li:not(:last-child):after {\n",
       "  content: ',';\n",
       "  padding-right: 5px;\n",
       "}\n",
       "\n",
       ".xr-has-index {\n",
       "  font-weight: bold;\n",
       "}\n",
       "\n",
       ".xr-var-list,\n",
       ".xr-var-item {\n",
       "  display: contents;\n",
       "}\n",
       "\n",
       ".xr-var-item > div,\n",
       ".xr-var-item label,\n",
       ".xr-var-item > .xr-var-name span {\n",
       "  background-color: var(--xr-background-color-row-even);\n",
       "  margin-bottom: 0;\n",
       "}\n",
       "\n",
       ".xr-var-item > .xr-var-name:hover span {\n",
       "  padding-right: 5px;\n",
       "}\n",
       "\n",
       ".xr-var-list > li:nth-child(odd) > div,\n",
       ".xr-var-list > li:nth-child(odd) > label,\n",
       ".xr-var-list > li:nth-child(odd) > .xr-var-name span {\n",
       "  background-color: var(--xr-background-color-row-odd);\n",
       "}\n",
       "\n",
       ".xr-var-name {\n",
       "  grid-column: 1;\n",
       "}\n",
       "\n",
       ".xr-var-dims {\n",
       "  grid-column: 2;\n",
       "}\n",
       "\n",
       ".xr-var-dtype {\n",
       "  grid-column: 3;\n",
       "  text-align: right;\n",
       "  color: var(--xr-font-color2);\n",
       "}\n",
       "\n",
       ".xr-var-preview {\n",
       "  grid-column: 4;\n",
       "}\n",
       "\n",
       ".xr-index-preview {\n",
       "  grid-column: 2 / 5;\n",
       "  color: var(--xr-font-color2);\n",
       "}\n",
       "\n",
       ".xr-var-name,\n",
       ".xr-var-dims,\n",
       ".xr-var-dtype,\n",
       ".xr-preview,\n",
       ".xr-attrs dt {\n",
       "  white-space: nowrap;\n",
       "  overflow: hidden;\n",
       "  text-overflow: ellipsis;\n",
       "  padding-right: 10px;\n",
       "}\n",
       "\n",
       ".xr-var-name:hover,\n",
       ".xr-var-dims:hover,\n",
       ".xr-var-dtype:hover,\n",
       ".xr-attrs dt:hover {\n",
       "  overflow: visible;\n",
       "  width: auto;\n",
       "  z-index: 1;\n",
       "}\n",
       "\n",
       ".xr-var-attrs,\n",
       ".xr-var-data,\n",
       ".xr-index-data {\n",
       "  display: none;\n",
       "  background-color: var(--xr-background-color) !important;\n",
       "  padding-bottom: 5px !important;\n",
       "}\n",
       "\n",
       ".xr-var-attrs-in:checked ~ .xr-var-attrs,\n",
       ".xr-var-data-in:checked ~ .xr-var-data,\n",
       ".xr-index-data-in:checked ~ .xr-index-data {\n",
       "  display: block;\n",
       "}\n",
       "\n",
       ".xr-var-data > table {\n",
       "  float: right;\n",
       "}\n",
       "\n",
       ".xr-var-name span,\n",
       ".xr-var-data,\n",
       ".xr-index-name div,\n",
       ".xr-index-data,\n",
       ".xr-attrs {\n",
       "  padding-left: 25px !important;\n",
       "}\n",
       "\n",
       ".xr-attrs,\n",
       ".xr-var-attrs,\n",
       ".xr-var-data,\n",
       ".xr-index-data {\n",
       "  grid-column: 1 / -1;\n",
       "}\n",
       "\n",
       "dl.xr-attrs {\n",
       "  padding: 0;\n",
       "  margin: 0;\n",
       "  display: grid;\n",
       "  grid-template-columns: 125px auto;\n",
       "}\n",
       "\n",
       ".xr-attrs dt,\n",
       ".xr-attrs dd {\n",
       "  padding: 0;\n",
       "  margin: 0;\n",
       "  float: left;\n",
       "  padding-right: 10px;\n",
       "  width: auto;\n",
       "}\n",
       "\n",
       ".xr-attrs dt {\n",
       "  font-weight: normal;\n",
       "  grid-column: 1;\n",
       "}\n",
       "\n",
       ".xr-attrs dt:hover span {\n",
       "  display: inline-block;\n",
       "  background: var(--xr-background-color);\n",
       "  padding-right: 10px;\n",
       "}\n",
       "\n",
       ".xr-attrs dd {\n",
       "  grid-column: 2;\n",
       "  white-space: pre-wrap;\n",
       "  word-break: break-all;\n",
       "}\n",
       "\n",
       ".xr-icon-database,\n",
       ".xr-icon-file-text2,\n",
       ".xr-no-icon {\n",
       "  display: inline-block;\n",
       "  vertical-align: middle;\n",
       "  width: 1em;\n",
       "  height: 1.5em !important;\n",
       "  stroke-width: 0;\n",
       "  stroke: currentColor;\n",
       "  fill: currentColor;\n",
       "}\n",
       "</style><pre class='xr-text-repr-fallback'>&lt;xarray.DataArray &#x27;baz&#x27; (foo: 3, bar: 2)&gt; Size: 48B\n",
       "array([[1., 1.],\n",
       "       [1., 1.],\n",
       "       [1., 1.]])\n",
       "Coordinates:\n",
       "  * foo      (foo) int64 24B 1 2 3\n",
       "  * bar      (bar) &lt;U1 8B &#x27;a&#x27; &#x27;b&#x27;</pre><div class='xr-wrap' style='display:none'><div class='xr-header'><div class='xr-obj-type'>xarray.DataArray</div><div class='xr-array-name'>'baz'</div><ul class='xr-dim-list'><li><span class='xr-has-index'>foo</span>: 3</li><li><span class='xr-has-index'>bar</span>: 2</li></ul></div><ul class='xr-sections'><li class='xr-section-item'><div class='xr-array-wrap'><input id='section-44b43ecf-8169-4a1f-8d4a-62c843614e47' class='xr-array-in' type='checkbox' checked><label for='section-44b43ecf-8169-4a1f-8d4a-62c843614e47' title='Show/hide data repr'><svg class='icon xr-icon-database'><use xlink:href='#icon-database'></use></svg></label><div class='xr-array-preview xr-preview'><span>1.0 1.0 1.0 1.0 1.0 1.0</span></div><div class='xr-array-data'><pre>array([[1., 1.],\n",
       "       [1., 1.],\n",
       "       [1., 1.]])</pre></div></div></li><li class='xr-section-item'><input id='section-b7e9f7ae-45c5-48c2-9951-bd6059a31ab4' class='xr-section-summary-in' type='checkbox'  checked><label for='section-b7e9f7ae-45c5-48c2-9951-bd6059a31ab4' class='xr-section-summary' >Coordinates: <span>(2)</span></label><div class='xr-section-inline-details'></div><div class='xr-section-details'><ul class='xr-var-list'><li class='xr-var-item'><div class='xr-var-name'><span class='xr-has-index'>foo</span></div><div class='xr-var-dims'>(foo)</div><div class='xr-var-dtype'>int64</div><div class='xr-var-preview xr-preview'>1 2 3</div><input id='attrs-bedfad5e-b180-4cd8-ac44-42224b062bd6' class='xr-var-attrs-in' type='checkbox' disabled><label for='attrs-bedfad5e-b180-4cd8-ac44-42224b062bd6' title='Show/Hide attributes'><svg class='icon xr-icon-file-text2'><use xlink:href='#icon-file-text2'></use></svg></label><input id='data-1a7edd71-a078-4740-9d51-d6bb9cbb7351' class='xr-var-data-in' type='checkbox'><label for='data-1a7edd71-a078-4740-9d51-d6bb9cbb7351' title='Show/Hide data repr'><svg class='icon xr-icon-database'><use xlink:href='#icon-database'></use></svg></label><div class='xr-var-attrs'><dl class='xr-attrs'></dl></div><div class='xr-var-data'><pre>array([1, 2, 3])</pre></div></li><li class='xr-var-item'><div class='xr-var-name'><span class='xr-has-index'>bar</span></div><div class='xr-var-dims'>(bar)</div><div class='xr-var-dtype'>&lt;U1</div><div class='xr-var-preview xr-preview'>&#x27;a&#x27; &#x27;b&#x27;</div><input id='attrs-4c66114a-25b7-498a-bb0e-3dcc66046c7a' class='xr-var-attrs-in' type='checkbox' disabled><label for='attrs-4c66114a-25b7-498a-bb0e-3dcc66046c7a' title='Show/Hide attributes'><svg class='icon xr-icon-file-text2'><use xlink:href='#icon-file-text2'></use></svg></label><input id='data-35e680ca-9c77-4602-879b-10f5ca16746e' class='xr-var-data-in' type='checkbox'><label for='data-35e680ca-9c77-4602-879b-10f5ca16746e' title='Show/Hide data repr'><svg class='icon xr-icon-database'><use xlink:href='#icon-database'></use></svg></label><div class='xr-var-attrs'><dl class='xr-attrs'></dl></div><div class='xr-var-data'><pre>array([&#x27;a&#x27;, &#x27;b&#x27;], dtype=&#x27;&lt;U1&#x27;)</pre></div></li></ul></div></li><li class='xr-section-item'><input id='section-6cf5df21-b298-44c9-ba63-a1491abb9602' class='xr-section-summary-in' type='checkbox'  ><label for='section-6cf5df21-b298-44c9-ba63-a1491abb9602' class='xr-section-summary' >Indexes: <span>(2)</span></label><div class='xr-section-inline-details'></div><div class='xr-section-details'><ul class='xr-var-list'><li class='xr-var-item'><div class='xr-index-name'><div>foo</div></div><div class='xr-index-preview'>PandasIndex</div><div></div><input id='index-5c0dcbed-41fe-48b6-976f-f121b2b47610' class='xr-index-data-in' type='checkbox'/><label for='index-5c0dcbed-41fe-48b6-976f-f121b2b47610' title='Show/Hide index repr'><svg class='icon xr-icon-database'><use xlink:href='#icon-database'></use></svg></label><div class='xr-index-data'><pre>PandasIndex(Index([1, 2, 3], dtype=&#x27;int64&#x27;, name=&#x27;foo&#x27;))</pre></div></li><li class='xr-var-item'><div class='xr-index-name'><div>bar</div></div><div class='xr-index-preview'>PandasIndex</div><div></div><input id='index-07e009ba-e616-4de5-b8fe-3702572338d7' class='xr-index-data-in' type='checkbox'/><label for='index-07e009ba-e616-4de5-b8fe-3702572338d7' title='Show/Hide index repr'><svg class='icon xr-icon-database'><use xlink:href='#icon-database'></use></svg></label><div class='xr-index-data'><pre>PandasIndex(Index([&#x27;a&#x27;, &#x27;b&#x27;], dtype=&#x27;object&#x27;, name=&#x27;bar&#x27;))</pre></div></li></ul></div></li><li class='xr-section-item'><input id='section-217a2c99-af20-4139-9753-ca6a5b037715' class='xr-section-summary-in' type='checkbox' disabled ><label for='section-217a2c99-af20-4139-9753-ca6a5b037715' class='xr-section-summary'  title='Expand/collapse section'>Attributes: <span>(0)</span></label><div class='xr-section-inline-details'></div><div class='xr-section-details'><dl class='xr-attrs'></dl></div></li></ul></div></div>"
      ],
      "text/plain": [
       "<xarray.DataArray 'baz' (foo: 3, bar: 2)> Size: 48B\n",
       "array([[1., 1.],\n",
       "       [1., 1.],\n",
       "       [1., 1.]])\n",
       "Coordinates:\n",
       "  * foo      (foo) int64 24B 1 2 3\n",
       "  * bar      (bar) <U1 8B 'a' 'b'"
      ]
     },
     "execution_count": null,
     "metadata": {},
     "output_type": "execute_result"
    }
   ],
   "source": [
    "U.array"
   ]
  },
  {
   "cell_type": "code",
   "execution_count": null,
   "metadata": {},
   "outputs": [],
   "source": [
    "#|hide\n",
    "test_da('ones1', _)"
   ]
  },
  {
   "cell_type": "code",
   "execution_count": null,
   "metadata": {},
   "outputs": [
    {
     "data": {
      "text/html": [
       "{foo(3) ⨉ bar(2), bam(3)}"
      ],
      "text/plain": [
       "XarrayVectorArray(\n",
       "    XarrayVectorSpace(\n",
       "        coords=Coordinates:\n",
       "                 * foo      (foo) int64 24B 1 2 3\n",
       "                 * bar      (bar) <U1 8B 'a' 'b',\n",
       "        name='baz'),\n",
       "    XarrayVectorArrayImpl(\n",
       "        <xarray.DataArray 'baz' (bam: 3, foo: 3, bar: 2)> Size: 144B\n",
       "        array([[[1., 1.],\n",
       "                [1., 1.],\n",
       "                [1., 1.]],\n",
       "\n",
       "               [[1., 1.],\n",
       "                [1., 1.],\n",
       "                [1., 1.]],\n",
       "\n",
       "               [[1., 1.],\n",
       "                [1., 1.],\n",
       "                [1., 1.]]])\n",
       "        Coordinates:\n",
       "          * bam      (bam) float64 24B 0.2 0.3 0.4\n",
       "          * foo      (foo) int64 24B 1 2 3\n",
       "          * bar      (bar) <U1 8B 'a' 'b',\n",
       "        <xarray.DataArray 'baz' (foo: 3, bar: 2)> Size: 48B\n",
       "        array([[0., 0.],\n",
       "               [0., 0.],\n",
       "               [0., 0.]])\n",
       "        Coordinates:\n",
       "          * foo      (foo) int64 24B 1 2 3\n",
       "          * bar      (bar) <U1 8B 'a' 'b'),\n",
       "    _len=3)"
      ]
     },
     "execution_count": null,
     "metadata": {},
     "output_type": "execute_result"
    }
   ],
   "source": [
    "space.ones({'bam': [.2, .3, .4]})"
   ]
  },
  {
   "cell_type": "code",
   "execution_count": null,
   "metadata": {},
   "outputs": [],
   "source": [
    "#|hide\n",
    "test_da('ones2', _.array)"
   ]
  },
  {
   "cell_type": "markdown",
   "metadata": {},
   "source": [
    "### random -"
   ]
  },
  {
   "cell_type": "code",
   "execution_count": null,
   "metadata": {},
   "outputs": [],
   "source": [
    "#| export\n",
    "from pymor.vectorarrays.interface import _create_random_values"
   ]
  },
  {
   "cell_type": "code",
   "execution_count": null,
   "metadata": {},
   "outputs": [],
   "source": [
    "#| export\n",
    "@patch\n",
    "def random(\n",
    "    self:XarrayVectorSpace, \n",
    "    coords=None, \n",
    "    distribution='uniform', \n",
    "    name=None\n",
    ")->XarrayVectorArray: # A random `XarrayVectorArray` in the vector space\n",
    "    array = self._array.expand_dims(coords)\n",
    "    if name is not None: array = array.rename(name)\n",
    "    values = _create_random_values(array.shape, distribution)\n",
    "    array.data = values\n",
    "    return self.make_array(array)"
   ]
  },
  {
   "cell_type": "code",
   "execution_count": null,
   "metadata": {},
   "outputs": [
    {
     "data": {
      "text/html": [
       "<div><svg style=\"position: absolute; width: 0; height: 0; overflow: hidden\">\n",
       "<defs>\n",
       "<symbol id=\"icon-database\" viewBox=\"0 0 32 32\">\n",
       "<path d=\"M16 0c-8.837 0-16 2.239-16 5v4c0 2.761 7.163 5 16 5s16-2.239 16-5v-4c0-2.761-7.163-5-16-5z\"></path>\n",
       "<path d=\"M16 17c-8.837 0-16-2.239-16-5v6c0 2.761 7.163 5 16 5s16-2.239 16-5v-6c0 2.761-7.163 5-16 5z\"></path>\n",
       "<path d=\"M16 26c-8.837 0-16-2.239-16-5v6c0 2.761 7.163 5 16 5s16-2.239 16-5v-6c0 2.761-7.163 5-16 5z\"></path>\n",
       "</symbol>\n",
       "<symbol id=\"icon-file-text2\" viewBox=\"0 0 32 32\">\n",
       "<path d=\"M28.681 7.159c-0.694-0.947-1.662-2.053-2.724-3.116s-2.169-2.030-3.116-2.724c-1.612-1.182-2.393-1.319-2.841-1.319h-15.5c-1.378 0-2.5 1.121-2.5 2.5v27c0 1.378 1.122 2.5 2.5 2.5h23c1.378 0 2.5-1.122 2.5-2.5v-19.5c0-0.448-0.137-1.23-1.319-2.841zM24.543 5.457c0.959 0.959 1.712 1.825 2.268 2.543h-4.811v-4.811c0.718 0.556 1.584 1.309 2.543 2.268zM28 29.5c0 0.271-0.229 0.5-0.5 0.5h-23c-0.271 0-0.5-0.229-0.5-0.5v-27c0-0.271 0.229-0.5 0.5-0.5 0 0 15.499-0 15.5 0v7c0 0.552 0.448 1 1 1h7v19.5z\"></path>\n",
       "<path d=\"M23 26h-14c-0.552 0-1-0.448-1-1s0.448-1 1-1h14c0.552 0 1 0.448 1 1s-0.448 1-1 1z\"></path>\n",
       "<path d=\"M23 22h-14c-0.552 0-1-0.448-1-1s0.448-1 1-1h14c0.552 0 1 0.448 1 1s-0.448 1-1 1z\"></path>\n",
       "<path d=\"M23 18h-14c-0.552 0-1-0.448-1-1s0.448-1 1-1h14c0.552 0 1 0.448 1 1s-0.448 1-1 1z\"></path>\n",
       "</symbol>\n",
       "</defs>\n",
       "</svg>\n",
       "<style>/* CSS stylesheet for displaying xarray objects in jupyterlab.\n",
       " *\n",
       " */\n",
       "\n",
       ":root {\n",
       "  --xr-font-color0: var(--jp-content-font-color0, rgba(0, 0, 0, 1));\n",
       "  --xr-font-color2: var(--jp-content-font-color2, rgba(0, 0, 0, 0.54));\n",
       "  --xr-font-color3: var(--jp-content-font-color3, rgba(0, 0, 0, 0.38));\n",
       "  --xr-border-color: var(--jp-border-color2, #e0e0e0);\n",
       "  --xr-disabled-color: var(--jp-layout-color3, #bdbdbd);\n",
       "  --xr-background-color: var(--jp-layout-color0, white);\n",
       "  --xr-background-color-row-even: var(--jp-layout-color1, white);\n",
       "  --xr-background-color-row-odd: var(--jp-layout-color2, #eeeeee);\n",
       "}\n",
       "\n",
       "html[theme=dark],\n",
       "html[data-theme=dark],\n",
       "body[data-theme=dark],\n",
       "body.vscode-dark {\n",
       "  --xr-font-color0: rgba(255, 255, 255, 1);\n",
       "  --xr-font-color2: rgba(255, 255, 255, 0.54);\n",
       "  --xr-font-color3: rgba(255, 255, 255, 0.38);\n",
       "  --xr-border-color: #1F1F1F;\n",
       "  --xr-disabled-color: #515151;\n",
       "  --xr-background-color: #111111;\n",
       "  --xr-background-color-row-even: #111111;\n",
       "  --xr-background-color-row-odd: #313131;\n",
       "}\n",
       "\n",
       ".xr-wrap {\n",
       "  display: block !important;\n",
       "  min-width: 300px;\n",
       "  max-width: 700px;\n",
       "}\n",
       "\n",
       ".xr-text-repr-fallback {\n",
       "  /* fallback to plain text repr when CSS is not injected (untrusted notebook) */\n",
       "  display: none;\n",
       "}\n",
       "\n",
       ".xr-header {\n",
       "  padding-top: 6px;\n",
       "  padding-bottom: 6px;\n",
       "  margin-bottom: 4px;\n",
       "  border-bottom: solid 1px var(--xr-border-color);\n",
       "}\n",
       "\n",
       ".xr-header > div,\n",
       ".xr-header > ul {\n",
       "  display: inline;\n",
       "  margin-top: 0;\n",
       "  margin-bottom: 0;\n",
       "}\n",
       "\n",
       ".xr-obj-type,\n",
       ".xr-array-name {\n",
       "  margin-left: 2px;\n",
       "  margin-right: 10px;\n",
       "}\n",
       "\n",
       ".xr-obj-type {\n",
       "  color: var(--xr-font-color2);\n",
       "}\n",
       "\n",
       ".xr-sections {\n",
       "  padding-left: 0 !important;\n",
       "  display: grid;\n",
       "  grid-template-columns: 150px auto auto 1fr 0 20px 0 20px;\n",
       "}\n",
       "\n",
       ".xr-section-item {\n",
       "  display: contents;\n",
       "}\n",
       "\n",
       ".xr-section-item input {\n",
       "  display: inline-block;\n",
       "  opacity: 0;\n",
       "}\n",
       "\n",
       ".xr-section-item input + label {\n",
       "  color: var(--xr-disabled-color);\n",
       "}\n",
       "\n",
       ".xr-section-item input:enabled + label {\n",
       "  cursor: pointer;\n",
       "  color: var(--xr-font-color2);\n",
       "}\n",
       "\n",
       ".xr-section-item input:focus + label {\n",
       "  border: 2px solid var(--xr-font-color0);\n",
       "}\n",
       "\n",
       ".xr-section-item input:enabled + label:hover {\n",
       "  color: var(--xr-font-color0);\n",
       "}\n",
       "\n",
       ".xr-section-summary {\n",
       "  grid-column: 1;\n",
       "  color: var(--xr-font-color2);\n",
       "  font-weight: 500;\n",
       "}\n",
       "\n",
       ".xr-section-summary > span {\n",
       "  display: inline-block;\n",
       "  padding-left: 0.5em;\n",
       "}\n",
       "\n",
       ".xr-section-summary-in:disabled + label {\n",
       "  color: var(--xr-font-color2);\n",
       "}\n",
       "\n",
       ".xr-section-summary-in + label:before {\n",
       "  display: inline-block;\n",
       "  content: '►';\n",
       "  font-size: 11px;\n",
       "  width: 15px;\n",
       "  text-align: center;\n",
       "}\n",
       "\n",
       ".xr-section-summary-in:disabled + label:before {\n",
       "  color: var(--xr-disabled-color);\n",
       "}\n",
       "\n",
       ".xr-section-summary-in:checked + label:before {\n",
       "  content: '▼';\n",
       "}\n",
       "\n",
       ".xr-section-summary-in:checked + label > span {\n",
       "  display: none;\n",
       "}\n",
       "\n",
       ".xr-section-summary,\n",
       ".xr-section-inline-details {\n",
       "  padding-top: 4px;\n",
       "  padding-bottom: 4px;\n",
       "}\n",
       "\n",
       ".xr-section-inline-details {\n",
       "  grid-column: 2 / -1;\n",
       "}\n",
       "\n",
       ".xr-section-details {\n",
       "  display: none;\n",
       "  grid-column: 1 / -1;\n",
       "  margin-bottom: 5px;\n",
       "}\n",
       "\n",
       ".xr-section-summary-in:checked ~ .xr-section-details {\n",
       "  display: contents;\n",
       "}\n",
       "\n",
       ".xr-array-wrap {\n",
       "  grid-column: 1 / -1;\n",
       "  display: grid;\n",
       "  grid-template-columns: 20px auto;\n",
       "}\n",
       "\n",
       ".xr-array-wrap > label {\n",
       "  grid-column: 1;\n",
       "  vertical-align: top;\n",
       "}\n",
       "\n",
       ".xr-preview {\n",
       "  color: var(--xr-font-color3);\n",
       "}\n",
       "\n",
       ".xr-array-preview,\n",
       ".xr-array-data {\n",
       "  padding: 0 5px !important;\n",
       "  grid-column: 2;\n",
       "}\n",
       "\n",
       ".xr-array-data,\n",
       ".xr-array-in:checked ~ .xr-array-preview {\n",
       "  display: none;\n",
       "}\n",
       "\n",
       ".xr-array-in:checked ~ .xr-array-data,\n",
       ".xr-array-preview {\n",
       "  display: inline-block;\n",
       "}\n",
       "\n",
       ".xr-dim-list {\n",
       "  display: inline-block !important;\n",
       "  list-style: none;\n",
       "  padding: 0 !important;\n",
       "  margin: 0;\n",
       "}\n",
       "\n",
       ".xr-dim-list li {\n",
       "  display: inline-block;\n",
       "  padding: 0;\n",
       "  margin: 0;\n",
       "}\n",
       "\n",
       ".xr-dim-list:before {\n",
       "  content: '(';\n",
       "}\n",
       "\n",
       ".xr-dim-list:after {\n",
       "  content: ')';\n",
       "}\n",
       "\n",
       ".xr-dim-list li:not(:last-child):after {\n",
       "  content: ',';\n",
       "  padding-right: 5px;\n",
       "}\n",
       "\n",
       ".xr-has-index {\n",
       "  font-weight: bold;\n",
       "}\n",
       "\n",
       ".xr-var-list,\n",
       ".xr-var-item {\n",
       "  display: contents;\n",
       "}\n",
       "\n",
       ".xr-var-item > div,\n",
       ".xr-var-item label,\n",
       ".xr-var-item > .xr-var-name span {\n",
       "  background-color: var(--xr-background-color-row-even);\n",
       "  margin-bottom: 0;\n",
       "}\n",
       "\n",
       ".xr-var-item > .xr-var-name:hover span {\n",
       "  padding-right: 5px;\n",
       "}\n",
       "\n",
       ".xr-var-list > li:nth-child(odd) > div,\n",
       ".xr-var-list > li:nth-child(odd) > label,\n",
       ".xr-var-list > li:nth-child(odd) > .xr-var-name span {\n",
       "  background-color: var(--xr-background-color-row-odd);\n",
       "}\n",
       "\n",
       ".xr-var-name {\n",
       "  grid-column: 1;\n",
       "}\n",
       "\n",
       ".xr-var-dims {\n",
       "  grid-column: 2;\n",
       "}\n",
       "\n",
       ".xr-var-dtype {\n",
       "  grid-column: 3;\n",
       "  text-align: right;\n",
       "  color: var(--xr-font-color2);\n",
       "}\n",
       "\n",
       ".xr-var-preview {\n",
       "  grid-column: 4;\n",
       "}\n",
       "\n",
       ".xr-index-preview {\n",
       "  grid-column: 2 / 5;\n",
       "  color: var(--xr-font-color2);\n",
       "}\n",
       "\n",
       ".xr-var-name,\n",
       ".xr-var-dims,\n",
       ".xr-var-dtype,\n",
       ".xr-preview,\n",
       ".xr-attrs dt {\n",
       "  white-space: nowrap;\n",
       "  overflow: hidden;\n",
       "  text-overflow: ellipsis;\n",
       "  padding-right: 10px;\n",
       "}\n",
       "\n",
       ".xr-var-name:hover,\n",
       ".xr-var-dims:hover,\n",
       ".xr-var-dtype:hover,\n",
       ".xr-attrs dt:hover {\n",
       "  overflow: visible;\n",
       "  width: auto;\n",
       "  z-index: 1;\n",
       "}\n",
       "\n",
       ".xr-var-attrs,\n",
       ".xr-var-data,\n",
       ".xr-index-data {\n",
       "  display: none;\n",
       "  background-color: var(--xr-background-color) !important;\n",
       "  padding-bottom: 5px !important;\n",
       "}\n",
       "\n",
       ".xr-var-attrs-in:checked ~ .xr-var-attrs,\n",
       ".xr-var-data-in:checked ~ .xr-var-data,\n",
       ".xr-index-data-in:checked ~ .xr-index-data {\n",
       "  display: block;\n",
       "}\n",
       "\n",
       ".xr-var-data > table {\n",
       "  float: right;\n",
       "}\n",
       "\n",
       ".xr-var-name span,\n",
       ".xr-var-data,\n",
       ".xr-index-name div,\n",
       ".xr-index-data,\n",
       ".xr-attrs {\n",
       "  padding-left: 25px !important;\n",
       "}\n",
       "\n",
       ".xr-attrs,\n",
       ".xr-var-attrs,\n",
       ".xr-var-data,\n",
       ".xr-index-data {\n",
       "  grid-column: 1 / -1;\n",
       "}\n",
       "\n",
       "dl.xr-attrs {\n",
       "  padding: 0;\n",
       "  margin: 0;\n",
       "  display: grid;\n",
       "  grid-template-columns: 125px auto;\n",
       "}\n",
       "\n",
       ".xr-attrs dt,\n",
       ".xr-attrs dd {\n",
       "  padding: 0;\n",
       "  margin: 0;\n",
       "  float: left;\n",
       "  padding-right: 10px;\n",
       "  width: auto;\n",
       "}\n",
       "\n",
       ".xr-attrs dt {\n",
       "  font-weight: normal;\n",
       "  grid-column: 1;\n",
       "}\n",
       "\n",
       ".xr-attrs dt:hover span {\n",
       "  display: inline-block;\n",
       "  background: var(--xr-background-color);\n",
       "  padding-right: 10px;\n",
       "}\n",
       "\n",
       ".xr-attrs dd {\n",
       "  grid-column: 2;\n",
       "  white-space: pre-wrap;\n",
       "  word-break: break-all;\n",
       "}\n",
       "\n",
       ".xr-icon-database,\n",
       ".xr-icon-file-text2,\n",
       ".xr-no-icon {\n",
       "  display: inline-block;\n",
       "  vertical-align: middle;\n",
       "  width: 1em;\n",
       "  height: 1.5em !important;\n",
       "  stroke-width: 0;\n",
       "  stroke: currentColor;\n",
       "  fill: currentColor;\n",
       "}\n",
       "</style><pre class='xr-text-repr-fallback'>&lt;xarray.DataArray &#x27;baz&#x27; (foo: 3, bar: 2)&gt; Size: 48B\n",
       "array([[0.67185419, 0.96058696],\n",
       "       [0.37091232, 0.42508177],\n",
       "       [0.81212296, 0.50576231]])\n",
       "Coordinates:\n",
       "  * foo      (foo) int64 24B 1 2 3\n",
       "  * bar      (bar) &lt;U1 8B &#x27;a&#x27; &#x27;b&#x27;</pre><div class='xr-wrap' style='display:none'><div class='xr-header'><div class='xr-obj-type'>xarray.DataArray</div><div class='xr-array-name'>'baz'</div><ul class='xr-dim-list'><li><span class='xr-has-index'>foo</span>: 3</li><li><span class='xr-has-index'>bar</span>: 2</li></ul></div><ul class='xr-sections'><li class='xr-section-item'><div class='xr-array-wrap'><input id='section-13293db0-7195-4bd9-8947-5392c9413e54' class='xr-array-in' type='checkbox' checked><label for='section-13293db0-7195-4bd9-8947-5392c9413e54' title='Show/hide data repr'><svg class='icon xr-icon-database'><use xlink:href='#icon-database'></use></svg></label><div class='xr-array-preview xr-preview'><span>0.6719 0.9606 0.3709 0.4251 0.8121 0.5058</span></div><div class='xr-array-data'><pre>array([[0.67185419, 0.96058696],\n",
       "       [0.37091232, 0.42508177],\n",
       "       [0.81212296, 0.50576231]])</pre></div></div></li><li class='xr-section-item'><input id='section-8380cb11-de25-47b9-add4-92a0c831b88d' class='xr-section-summary-in' type='checkbox'  checked><label for='section-8380cb11-de25-47b9-add4-92a0c831b88d' class='xr-section-summary' >Coordinates: <span>(2)</span></label><div class='xr-section-inline-details'></div><div class='xr-section-details'><ul class='xr-var-list'><li class='xr-var-item'><div class='xr-var-name'><span class='xr-has-index'>foo</span></div><div class='xr-var-dims'>(foo)</div><div class='xr-var-dtype'>int64</div><div class='xr-var-preview xr-preview'>1 2 3</div><input id='attrs-8c4a69c9-8e28-4285-be86-394b36a38d94' class='xr-var-attrs-in' type='checkbox' disabled><label for='attrs-8c4a69c9-8e28-4285-be86-394b36a38d94' title='Show/Hide attributes'><svg class='icon xr-icon-file-text2'><use xlink:href='#icon-file-text2'></use></svg></label><input id='data-520b183d-592d-4b40-9bde-50d56a473a36' class='xr-var-data-in' type='checkbox'><label for='data-520b183d-592d-4b40-9bde-50d56a473a36' title='Show/Hide data repr'><svg class='icon xr-icon-database'><use xlink:href='#icon-database'></use></svg></label><div class='xr-var-attrs'><dl class='xr-attrs'></dl></div><div class='xr-var-data'><pre>array([1, 2, 3])</pre></div></li><li class='xr-var-item'><div class='xr-var-name'><span class='xr-has-index'>bar</span></div><div class='xr-var-dims'>(bar)</div><div class='xr-var-dtype'>&lt;U1</div><div class='xr-var-preview xr-preview'>&#x27;a&#x27; &#x27;b&#x27;</div><input id='attrs-635012a3-3622-4ce9-95af-a787982e7210' class='xr-var-attrs-in' type='checkbox' disabled><label for='attrs-635012a3-3622-4ce9-95af-a787982e7210' title='Show/Hide attributes'><svg class='icon xr-icon-file-text2'><use xlink:href='#icon-file-text2'></use></svg></label><input id='data-77c74ad5-9d69-4106-81ab-8a351be86d2c' class='xr-var-data-in' type='checkbox'><label for='data-77c74ad5-9d69-4106-81ab-8a351be86d2c' title='Show/Hide data repr'><svg class='icon xr-icon-database'><use xlink:href='#icon-database'></use></svg></label><div class='xr-var-attrs'><dl class='xr-attrs'></dl></div><div class='xr-var-data'><pre>array([&#x27;a&#x27;, &#x27;b&#x27;], dtype=&#x27;&lt;U1&#x27;)</pre></div></li></ul></div></li><li class='xr-section-item'><input id='section-181b6888-e0d9-4980-8a74-e829bcef78b6' class='xr-section-summary-in' type='checkbox'  ><label for='section-181b6888-e0d9-4980-8a74-e829bcef78b6' class='xr-section-summary' >Indexes: <span>(2)</span></label><div class='xr-section-inline-details'></div><div class='xr-section-details'><ul class='xr-var-list'><li class='xr-var-item'><div class='xr-index-name'><div>foo</div></div><div class='xr-index-preview'>PandasIndex</div><div></div><input id='index-fad12f20-e136-4111-b842-330b1b9c63f3' class='xr-index-data-in' type='checkbox'/><label for='index-fad12f20-e136-4111-b842-330b1b9c63f3' title='Show/Hide index repr'><svg class='icon xr-icon-database'><use xlink:href='#icon-database'></use></svg></label><div class='xr-index-data'><pre>PandasIndex(Index([1, 2, 3], dtype=&#x27;int64&#x27;, name=&#x27;foo&#x27;))</pre></div></li><li class='xr-var-item'><div class='xr-index-name'><div>bar</div></div><div class='xr-index-preview'>PandasIndex</div><div></div><input id='index-592dfa3c-030b-4976-b571-6e481baee8f2' class='xr-index-data-in' type='checkbox'/><label for='index-592dfa3c-030b-4976-b571-6e481baee8f2' title='Show/Hide index repr'><svg class='icon xr-icon-database'><use xlink:href='#icon-database'></use></svg></label><div class='xr-index-data'><pre>PandasIndex(Index([&#x27;a&#x27;, &#x27;b&#x27;], dtype=&#x27;object&#x27;, name=&#x27;bar&#x27;))</pre></div></li></ul></div></li><li class='xr-section-item'><input id='section-3e44e121-5a4d-4a50-9dde-0c33907ffd4d' class='xr-section-summary-in' type='checkbox' disabled ><label for='section-3e44e121-5a4d-4a50-9dde-0c33907ffd4d' class='xr-section-summary'  title='Expand/collapse section'>Attributes: <span>(0)</span></label><div class='xr-section-inline-details'></div><div class='xr-section-details'><dl class='xr-attrs'></dl></div></li></ul></div></div>"
      ],
      "text/plain": [
       "<xarray.DataArray 'baz' (foo: 3, bar: 2)> Size: 48B\n",
       "array([[0.67185419, 0.96058696],\n",
       "       [0.37091232, 0.42508177],\n",
       "       [0.81212296, 0.50576231]])\n",
       "Coordinates:\n",
       "  * foo      (foo) int64 24B 1 2 3\n",
       "  * bar      (bar) <U1 8B 'a' 'b'"
      ]
     },
     "execution_count": null,
     "metadata": {},
     "output_type": "execute_result"
    }
   ],
   "source": [
    "space.random().array"
   ]
  },
  {
   "cell_type": "code",
   "execution_count": null,
   "metadata": {},
   "outputs": [
    {
     "data": {
      "text/html": [
       "<div><svg style=\"position: absolute; width: 0; height: 0; overflow: hidden\">\n",
       "<defs>\n",
       "<symbol id=\"icon-database\" viewBox=\"0 0 32 32\">\n",
       "<path d=\"M16 0c-8.837 0-16 2.239-16 5v4c0 2.761 7.163 5 16 5s16-2.239 16-5v-4c0-2.761-7.163-5-16-5z\"></path>\n",
       "<path d=\"M16 17c-8.837 0-16-2.239-16-5v6c0 2.761 7.163 5 16 5s16-2.239 16-5v-6c0 2.761-7.163 5-16 5z\"></path>\n",
       "<path d=\"M16 26c-8.837 0-16-2.239-16-5v6c0 2.761 7.163 5 16 5s16-2.239 16-5v-6c0 2.761-7.163 5-16 5z\"></path>\n",
       "</symbol>\n",
       "<symbol id=\"icon-file-text2\" viewBox=\"0 0 32 32\">\n",
       "<path d=\"M28.681 7.159c-0.694-0.947-1.662-2.053-2.724-3.116s-2.169-2.030-3.116-2.724c-1.612-1.182-2.393-1.319-2.841-1.319h-15.5c-1.378 0-2.5 1.121-2.5 2.5v27c0 1.378 1.122 2.5 2.5 2.5h23c1.378 0 2.5-1.122 2.5-2.5v-19.5c0-0.448-0.137-1.23-1.319-2.841zM24.543 5.457c0.959 0.959 1.712 1.825 2.268 2.543h-4.811v-4.811c0.718 0.556 1.584 1.309 2.543 2.268zM28 29.5c0 0.271-0.229 0.5-0.5 0.5h-23c-0.271 0-0.5-0.229-0.5-0.5v-27c0-0.271 0.229-0.5 0.5-0.5 0 0 15.499-0 15.5 0v7c0 0.552 0.448 1 1 1h7v19.5z\"></path>\n",
       "<path d=\"M23 26h-14c-0.552 0-1-0.448-1-1s0.448-1 1-1h14c0.552 0 1 0.448 1 1s-0.448 1-1 1z\"></path>\n",
       "<path d=\"M23 22h-14c-0.552 0-1-0.448-1-1s0.448-1 1-1h14c0.552 0 1 0.448 1 1s-0.448 1-1 1z\"></path>\n",
       "<path d=\"M23 18h-14c-0.552 0-1-0.448-1-1s0.448-1 1-1h14c0.552 0 1 0.448 1 1s-0.448 1-1 1z\"></path>\n",
       "</symbol>\n",
       "</defs>\n",
       "</svg>\n",
       "<style>/* CSS stylesheet for displaying xarray objects in jupyterlab.\n",
       " *\n",
       " */\n",
       "\n",
       ":root {\n",
       "  --xr-font-color0: var(--jp-content-font-color0, rgba(0, 0, 0, 1));\n",
       "  --xr-font-color2: var(--jp-content-font-color2, rgba(0, 0, 0, 0.54));\n",
       "  --xr-font-color3: var(--jp-content-font-color3, rgba(0, 0, 0, 0.38));\n",
       "  --xr-border-color: var(--jp-border-color2, #e0e0e0);\n",
       "  --xr-disabled-color: var(--jp-layout-color3, #bdbdbd);\n",
       "  --xr-background-color: var(--jp-layout-color0, white);\n",
       "  --xr-background-color-row-even: var(--jp-layout-color1, white);\n",
       "  --xr-background-color-row-odd: var(--jp-layout-color2, #eeeeee);\n",
       "}\n",
       "\n",
       "html[theme=dark],\n",
       "html[data-theme=dark],\n",
       "body[data-theme=dark],\n",
       "body.vscode-dark {\n",
       "  --xr-font-color0: rgba(255, 255, 255, 1);\n",
       "  --xr-font-color2: rgba(255, 255, 255, 0.54);\n",
       "  --xr-font-color3: rgba(255, 255, 255, 0.38);\n",
       "  --xr-border-color: #1F1F1F;\n",
       "  --xr-disabled-color: #515151;\n",
       "  --xr-background-color: #111111;\n",
       "  --xr-background-color-row-even: #111111;\n",
       "  --xr-background-color-row-odd: #313131;\n",
       "}\n",
       "\n",
       ".xr-wrap {\n",
       "  display: block !important;\n",
       "  min-width: 300px;\n",
       "  max-width: 700px;\n",
       "}\n",
       "\n",
       ".xr-text-repr-fallback {\n",
       "  /* fallback to plain text repr when CSS is not injected (untrusted notebook) */\n",
       "  display: none;\n",
       "}\n",
       "\n",
       ".xr-header {\n",
       "  padding-top: 6px;\n",
       "  padding-bottom: 6px;\n",
       "  margin-bottom: 4px;\n",
       "  border-bottom: solid 1px var(--xr-border-color);\n",
       "}\n",
       "\n",
       ".xr-header > div,\n",
       ".xr-header > ul {\n",
       "  display: inline;\n",
       "  margin-top: 0;\n",
       "  margin-bottom: 0;\n",
       "}\n",
       "\n",
       ".xr-obj-type,\n",
       ".xr-array-name {\n",
       "  margin-left: 2px;\n",
       "  margin-right: 10px;\n",
       "}\n",
       "\n",
       ".xr-obj-type {\n",
       "  color: var(--xr-font-color2);\n",
       "}\n",
       "\n",
       ".xr-sections {\n",
       "  padding-left: 0 !important;\n",
       "  display: grid;\n",
       "  grid-template-columns: 150px auto auto 1fr 0 20px 0 20px;\n",
       "}\n",
       "\n",
       ".xr-section-item {\n",
       "  display: contents;\n",
       "}\n",
       "\n",
       ".xr-section-item input {\n",
       "  display: inline-block;\n",
       "  opacity: 0;\n",
       "}\n",
       "\n",
       ".xr-section-item input + label {\n",
       "  color: var(--xr-disabled-color);\n",
       "}\n",
       "\n",
       ".xr-section-item input:enabled + label {\n",
       "  cursor: pointer;\n",
       "  color: var(--xr-font-color2);\n",
       "}\n",
       "\n",
       ".xr-section-item input:focus + label {\n",
       "  border: 2px solid var(--xr-font-color0);\n",
       "}\n",
       "\n",
       ".xr-section-item input:enabled + label:hover {\n",
       "  color: var(--xr-font-color0);\n",
       "}\n",
       "\n",
       ".xr-section-summary {\n",
       "  grid-column: 1;\n",
       "  color: var(--xr-font-color2);\n",
       "  font-weight: 500;\n",
       "}\n",
       "\n",
       ".xr-section-summary > span {\n",
       "  display: inline-block;\n",
       "  padding-left: 0.5em;\n",
       "}\n",
       "\n",
       ".xr-section-summary-in:disabled + label {\n",
       "  color: var(--xr-font-color2);\n",
       "}\n",
       "\n",
       ".xr-section-summary-in + label:before {\n",
       "  display: inline-block;\n",
       "  content: '►';\n",
       "  font-size: 11px;\n",
       "  width: 15px;\n",
       "  text-align: center;\n",
       "}\n",
       "\n",
       ".xr-section-summary-in:disabled + label:before {\n",
       "  color: var(--xr-disabled-color);\n",
       "}\n",
       "\n",
       ".xr-section-summary-in:checked + label:before {\n",
       "  content: '▼';\n",
       "}\n",
       "\n",
       ".xr-section-summary-in:checked + label > span {\n",
       "  display: none;\n",
       "}\n",
       "\n",
       ".xr-section-summary,\n",
       ".xr-section-inline-details {\n",
       "  padding-top: 4px;\n",
       "  padding-bottom: 4px;\n",
       "}\n",
       "\n",
       ".xr-section-inline-details {\n",
       "  grid-column: 2 / -1;\n",
       "}\n",
       "\n",
       ".xr-section-details {\n",
       "  display: none;\n",
       "  grid-column: 1 / -1;\n",
       "  margin-bottom: 5px;\n",
       "}\n",
       "\n",
       ".xr-section-summary-in:checked ~ .xr-section-details {\n",
       "  display: contents;\n",
       "}\n",
       "\n",
       ".xr-array-wrap {\n",
       "  grid-column: 1 / -1;\n",
       "  display: grid;\n",
       "  grid-template-columns: 20px auto;\n",
       "}\n",
       "\n",
       ".xr-array-wrap > label {\n",
       "  grid-column: 1;\n",
       "  vertical-align: top;\n",
       "}\n",
       "\n",
       ".xr-preview {\n",
       "  color: var(--xr-font-color3);\n",
       "}\n",
       "\n",
       ".xr-array-preview,\n",
       ".xr-array-data {\n",
       "  padding: 0 5px !important;\n",
       "  grid-column: 2;\n",
       "}\n",
       "\n",
       ".xr-array-data,\n",
       ".xr-array-in:checked ~ .xr-array-preview {\n",
       "  display: none;\n",
       "}\n",
       "\n",
       ".xr-array-in:checked ~ .xr-array-data,\n",
       ".xr-array-preview {\n",
       "  display: inline-block;\n",
       "}\n",
       "\n",
       ".xr-dim-list {\n",
       "  display: inline-block !important;\n",
       "  list-style: none;\n",
       "  padding: 0 !important;\n",
       "  margin: 0;\n",
       "}\n",
       "\n",
       ".xr-dim-list li {\n",
       "  display: inline-block;\n",
       "  padding: 0;\n",
       "  margin: 0;\n",
       "}\n",
       "\n",
       ".xr-dim-list:before {\n",
       "  content: '(';\n",
       "}\n",
       "\n",
       ".xr-dim-list:after {\n",
       "  content: ')';\n",
       "}\n",
       "\n",
       ".xr-dim-list li:not(:last-child):after {\n",
       "  content: ',';\n",
       "  padding-right: 5px;\n",
       "}\n",
       "\n",
       ".xr-has-index {\n",
       "  font-weight: bold;\n",
       "}\n",
       "\n",
       ".xr-var-list,\n",
       ".xr-var-item {\n",
       "  display: contents;\n",
       "}\n",
       "\n",
       ".xr-var-item > div,\n",
       ".xr-var-item label,\n",
       ".xr-var-item > .xr-var-name span {\n",
       "  background-color: var(--xr-background-color-row-even);\n",
       "  margin-bottom: 0;\n",
       "}\n",
       "\n",
       ".xr-var-item > .xr-var-name:hover span {\n",
       "  padding-right: 5px;\n",
       "}\n",
       "\n",
       ".xr-var-list > li:nth-child(odd) > div,\n",
       ".xr-var-list > li:nth-child(odd) > label,\n",
       ".xr-var-list > li:nth-child(odd) > .xr-var-name span {\n",
       "  background-color: var(--xr-background-color-row-odd);\n",
       "}\n",
       "\n",
       ".xr-var-name {\n",
       "  grid-column: 1;\n",
       "}\n",
       "\n",
       ".xr-var-dims {\n",
       "  grid-column: 2;\n",
       "}\n",
       "\n",
       ".xr-var-dtype {\n",
       "  grid-column: 3;\n",
       "  text-align: right;\n",
       "  color: var(--xr-font-color2);\n",
       "}\n",
       "\n",
       ".xr-var-preview {\n",
       "  grid-column: 4;\n",
       "}\n",
       "\n",
       ".xr-index-preview {\n",
       "  grid-column: 2 / 5;\n",
       "  color: var(--xr-font-color2);\n",
       "}\n",
       "\n",
       ".xr-var-name,\n",
       ".xr-var-dims,\n",
       ".xr-var-dtype,\n",
       ".xr-preview,\n",
       ".xr-attrs dt {\n",
       "  white-space: nowrap;\n",
       "  overflow: hidden;\n",
       "  text-overflow: ellipsis;\n",
       "  padding-right: 10px;\n",
       "}\n",
       "\n",
       ".xr-var-name:hover,\n",
       ".xr-var-dims:hover,\n",
       ".xr-var-dtype:hover,\n",
       ".xr-attrs dt:hover {\n",
       "  overflow: visible;\n",
       "  width: auto;\n",
       "  z-index: 1;\n",
       "}\n",
       "\n",
       ".xr-var-attrs,\n",
       ".xr-var-data,\n",
       ".xr-index-data {\n",
       "  display: none;\n",
       "  background-color: var(--xr-background-color) !important;\n",
       "  padding-bottom: 5px !important;\n",
       "}\n",
       "\n",
       ".xr-var-attrs-in:checked ~ .xr-var-attrs,\n",
       ".xr-var-data-in:checked ~ .xr-var-data,\n",
       ".xr-index-data-in:checked ~ .xr-index-data {\n",
       "  display: block;\n",
       "}\n",
       "\n",
       ".xr-var-data > table {\n",
       "  float: right;\n",
       "}\n",
       "\n",
       ".xr-var-name span,\n",
       ".xr-var-data,\n",
       ".xr-index-name div,\n",
       ".xr-index-data,\n",
       ".xr-attrs {\n",
       "  padding-left: 25px !important;\n",
       "}\n",
       "\n",
       ".xr-attrs,\n",
       ".xr-var-attrs,\n",
       ".xr-var-data,\n",
       ".xr-index-data {\n",
       "  grid-column: 1 / -1;\n",
       "}\n",
       "\n",
       "dl.xr-attrs {\n",
       "  padding: 0;\n",
       "  margin: 0;\n",
       "  display: grid;\n",
       "  grid-template-columns: 125px auto;\n",
       "}\n",
       "\n",
       ".xr-attrs dt,\n",
       ".xr-attrs dd {\n",
       "  padding: 0;\n",
       "  margin: 0;\n",
       "  float: left;\n",
       "  padding-right: 10px;\n",
       "  width: auto;\n",
       "}\n",
       "\n",
       ".xr-attrs dt {\n",
       "  font-weight: normal;\n",
       "  grid-column: 1;\n",
       "}\n",
       "\n",
       ".xr-attrs dt:hover span {\n",
       "  display: inline-block;\n",
       "  background: var(--xr-background-color);\n",
       "  padding-right: 10px;\n",
       "}\n",
       "\n",
       ".xr-attrs dd {\n",
       "  grid-column: 2;\n",
       "  white-space: pre-wrap;\n",
       "  word-break: break-all;\n",
       "}\n",
       "\n",
       ".xr-icon-database,\n",
       ".xr-icon-file-text2,\n",
       ".xr-no-icon {\n",
       "  display: inline-block;\n",
       "  vertical-align: middle;\n",
       "  width: 1em;\n",
       "  height: 1.5em !important;\n",
       "  stroke-width: 0;\n",
       "  stroke: currentColor;\n",
       "  fill: currentColor;\n",
       "}\n",
       "</style><pre class='xr-text-repr-fallback'>&lt;xarray.DataArray &#x27;baz&#x27; (bam: 3, foo: 3, bar: 2)&gt; Size: 144B\n",
       "array([[[0.73657309, 0.45970946],\n",
       "        [0.21549514, 0.74520384],\n",
       "        [0.13115517, 0.19858366]],\n",
       "\n",
       "       [[0.62682498, 0.7472698 ],\n",
       "        [0.89468789, 0.2725865 ],\n",
       "        [0.11072426, 0.95604666]],\n",
       "\n",
       "       [[0.15442309, 0.19766698],\n",
       "        [0.29132945, 0.52939135],\n",
       "        [0.88282557, 0.76054602]]])\n",
       "Coordinates:\n",
       "  * bam      (bam) int64 24B 1 2 3\n",
       "  * foo      (foo) int64 24B 1 2 3\n",
       "  * bar      (bar) &lt;U1 8B &#x27;a&#x27; &#x27;b&#x27;</pre><div class='xr-wrap' style='display:none'><div class='xr-header'><div class='xr-obj-type'>xarray.DataArray</div><div class='xr-array-name'>'baz'</div><ul class='xr-dim-list'><li><span class='xr-has-index'>bam</span>: 3</li><li><span class='xr-has-index'>foo</span>: 3</li><li><span class='xr-has-index'>bar</span>: 2</li></ul></div><ul class='xr-sections'><li class='xr-section-item'><div class='xr-array-wrap'><input id='section-beace734-39ed-4f57-bfc8-83045e94f31b' class='xr-array-in' type='checkbox' checked><label for='section-beace734-39ed-4f57-bfc8-83045e94f31b' title='Show/hide data repr'><svg class='icon xr-icon-database'><use xlink:href='#icon-database'></use></svg></label><div class='xr-array-preview xr-preview'><span>0.7366 0.4597 0.2155 0.7452 0.1312 ... 0.2913 0.5294 0.8828 0.7605</span></div><div class='xr-array-data'><pre>array([[[0.73657309, 0.45970946],\n",
       "        [0.21549514, 0.74520384],\n",
       "        [0.13115517, 0.19858366]],\n",
       "\n",
       "       [[0.62682498, 0.7472698 ],\n",
       "        [0.89468789, 0.2725865 ],\n",
       "        [0.11072426, 0.95604666]],\n",
       "\n",
       "       [[0.15442309, 0.19766698],\n",
       "        [0.29132945, 0.52939135],\n",
       "        [0.88282557, 0.76054602]]])</pre></div></div></li><li class='xr-section-item'><input id='section-a7dd8fc5-a2cd-4cfc-b217-a692fc7d08da' class='xr-section-summary-in' type='checkbox'  checked><label for='section-a7dd8fc5-a2cd-4cfc-b217-a692fc7d08da' class='xr-section-summary' >Coordinates: <span>(3)</span></label><div class='xr-section-inline-details'></div><div class='xr-section-details'><ul class='xr-var-list'><li class='xr-var-item'><div class='xr-var-name'><span class='xr-has-index'>bam</span></div><div class='xr-var-dims'>(bam)</div><div class='xr-var-dtype'>int64</div><div class='xr-var-preview xr-preview'>1 2 3</div><input id='attrs-a1ef975b-c137-4aaa-bc1a-d5e49af13959' class='xr-var-attrs-in' type='checkbox' disabled><label for='attrs-a1ef975b-c137-4aaa-bc1a-d5e49af13959' title='Show/Hide attributes'><svg class='icon xr-icon-file-text2'><use xlink:href='#icon-file-text2'></use></svg></label><input id='data-6432c1e5-1c08-487e-b720-899bf3adab53' class='xr-var-data-in' type='checkbox'><label for='data-6432c1e5-1c08-487e-b720-899bf3adab53' title='Show/Hide data repr'><svg class='icon xr-icon-database'><use xlink:href='#icon-database'></use></svg></label><div class='xr-var-attrs'><dl class='xr-attrs'></dl></div><div class='xr-var-data'><pre>array([1, 2, 3])</pre></div></li><li class='xr-var-item'><div class='xr-var-name'><span class='xr-has-index'>foo</span></div><div class='xr-var-dims'>(foo)</div><div class='xr-var-dtype'>int64</div><div class='xr-var-preview xr-preview'>1 2 3</div><input id='attrs-6a8e69c3-2746-4300-8b8d-cc084b61aefe' class='xr-var-attrs-in' type='checkbox' disabled><label for='attrs-6a8e69c3-2746-4300-8b8d-cc084b61aefe' title='Show/Hide attributes'><svg class='icon xr-icon-file-text2'><use xlink:href='#icon-file-text2'></use></svg></label><input id='data-cc391f50-6f7b-4f25-834c-92e88a107a1c' class='xr-var-data-in' type='checkbox'><label for='data-cc391f50-6f7b-4f25-834c-92e88a107a1c' title='Show/Hide data repr'><svg class='icon xr-icon-database'><use xlink:href='#icon-database'></use></svg></label><div class='xr-var-attrs'><dl class='xr-attrs'></dl></div><div class='xr-var-data'><pre>array([1, 2, 3])</pre></div></li><li class='xr-var-item'><div class='xr-var-name'><span class='xr-has-index'>bar</span></div><div class='xr-var-dims'>(bar)</div><div class='xr-var-dtype'>&lt;U1</div><div class='xr-var-preview xr-preview'>&#x27;a&#x27; &#x27;b&#x27;</div><input id='attrs-0f7738d0-9d7c-4b5b-8617-a1050259554e' class='xr-var-attrs-in' type='checkbox' disabled><label for='attrs-0f7738d0-9d7c-4b5b-8617-a1050259554e' title='Show/Hide attributes'><svg class='icon xr-icon-file-text2'><use xlink:href='#icon-file-text2'></use></svg></label><input id='data-9a1e5d30-2944-45c1-a9f0-59de0a538d07' class='xr-var-data-in' type='checkbox'><label for='data-9a1e5d30-2944-45c1-a9f0-59de0a538d07' title='Show/Hide data repr'><svg class='icon xr-icon-database'><use xlink:href='#icon-database'></use></svg></label><div class='xr-var-attrs'><dl class='xr-attrs'></dl></div><div class='xr-var-data'><pre>array([&#x27;a&#x27;, &#x27;b&#x27;], dtype=&#x27;&lt;U1&#x27;)</pre></div></li></ul></div></li><li class='xr-section-item'><input id='section-998375b5-ae70-4182-8c57-33b0185306fd' class='xr-section-summary-in' type='checkbox'  ><label for='section-998375b5-ae70-4182-8c57-33b0185306fd' class='xr-section-summary' >Indexes: <span>(3)</span></label><div class='xr-section-inline-details'></div><div class='xr-section-details'><ul class='xr-var-list'><li class='xr-var-item'><div class='xr-index-name'><div>foo</div></div><div class='xr-index-preview'>PandasIndex</div><div></div><input id='index-f29f6007-e48d-45bd-b053-a248d1875390' class='xr-index-data-in' type='checkbox'/><label for='index-f29f6007-e48d-45bd-b053-a248d1875390' title='Show/Hide index repr'><svg class='icon xr-icon-database'><use xlink:href='#icon-database'></use></svg></label><div class='xr-index-data'><pre>PandasIndex(Index([1, 2, 3], dtype=&#x27;int64&#x27;, name=&#x27;foo&#x27;))</pre></div></li><li class='xr-var-item'><div class='xr-index-name'><div>bar</div></div><div class='xr-index-preview'>PandasIndex</div><div></div><input id='index-0b1b975c-2387-46e0-bb99-c1158c17fe5a' class='xr-index-data-in' type='checkbox'/><label for='index-0b1b975c-2387-46e0-bb99-c1158c17fe5a' title='Show/Hide index repr'><svg class='icon xr-icon-database'><use xlink:href='#icon-database'></use></svg></label><div class='xr-index-data'><pre>PandasIndex(Index([&#x27;a&#x27;, &#x27;b&#x27;], dtype=&#x27;object&#x27;, name=&#x27;bar&#x27;))</pre></div></li><li class='xr-var-item'><div class='xr-index-name'><div>bam</div></div><div class='xr-index-preview'>PandasIndex</div><div></div><input id='index-1a8cb806-4f26-4393-bac0-4ca790df3a95' class='xr-index-data-in' type='checkbox'/><label for='index-1a8cb806-4f26-4393-bac0-4ca790df3a95' title='Show/Hide index repr'><svg class='icon xr-icon-database'><use xlink:href='#icon-database'></use></svg></label><div class='xr-index-data'><pre>PandasIndex(Index([1, 2, 3], dtype=&#x27;int64&#x27;, name=&#x27;bam&#x27;))</pre></div></li></ul></div></li><li class='xr-section-item'><input id='section-34db9ca0-3483-4cfb-a3b2-e898780cc8c0' class='xr-section-summary-in' type='checkbox' disabled ><label for='section-34db9ca0-3483-4cfb-a3b2-e898780cc8c0' class='xr-section-summary'  title='Expand/collapse section'>Attributes: <span>(0)</span></label><div class='xr-section-inline-details'></div><div class='xr-section-details'><dl class='xr-attrs'></dl></div></li></ul></div></div>"
      ],
      "text/plain": [
       "<xarray.DataArray 'baz' (bam: 3, foo: 3, bar: 2)> Size: 144B\n",
       "array([[[0.73657309, 0.45970946],\n",
       "        [0.21549514, 0.74520384],\n",
       "        [0.13115517, 0.19858366]],\n",
       "\n",
       "       [[0.62682498, 0.7472698 ],\n",
       "        [0.89468789, 0.2725865 ],\n",
       "        [0.11072426, 0.95604666]],\n",
       "\n",
       "       [[0.15442309, 0.19766698],\n",
       "        [0.29132945, 0.52939135],\n",
       "        [0.88282557, 0.76054602]]])\n",
       "Coordinates:\n",
       "  * bam      (bam) int64 24B 1 2 3\n",
       "  * foo      (foo) int64 24B 1 2 3\n",
       "  * bar      (bar) <U1 8B 'a' 'b'"
      ]
     },
     "execution_count": null,
     "metadata": {},
     "output_type": "execute_result"
    }
   ],
   "source": [
    "space.random({'bam': [1, 2, 3]}).array"
   ]
  },
  {
   "cell_type": "code",
   "execution_count": null,
   "metadata": {},
   "outputs": [
    {
     "data": {
      "text/plain": [
       "'baz'"
      ]
     },
     "execution_count": null,
     "metadata": {},
     "output_type": "execute_result"
    }
   ],
   "source": [
    "space.random().name"
   ]
  },
  {
   "cell_type": "code",
   "execution_count": null,
   "metadata": {},
   "outputs": [
    {
     "data": {
      "text/plain": [
       "'boo'"
      ]
     },
     "execution_count": null,
     "metadata": {},
     "output_type": "execute_result"
    }
   ],
   "source": [
    "space.random(name='boo').name"
   ]
  },
  {
   "cell_type": "markdown",
   "metadata": {},
   "source": [
    "### ndim -\n"
   ]
  },
  {
   "cell_type": "code",
   "execution_count": null,
   "metadata": {},
   "outputs": [],
   "source": [
    "#| export\n",
    "@patch(as_prop=True)\n",
    "def ndim(self:XarrayVectorSpace): \n",
    "    \"\"\"Number of dimensions of the vector space.\"\"\"\n",
    "    return self._array.ndim"
   ]
  },
  {
   "cell_type": "code",
   "execution_count": null,
   "metadata": {},
   "outputs": [
    {
     "data": {
      "text/plain": [
       "2"
      ]
     },
     "execution_count": null,
     "metadata": {},
     "output_type": "execute_result"
    }
   ],
   "source": [
    "space.ndim"
   ]
  },
  {
   "cell_type": "code",
   "execution_count": null,
   "metadata": {},
   "outputs": [],
   "source": [
    "#|hide\n",
    "test_eq(_, 2)"
   ]
  },
  {
   "cell_type": "code",
   "execution_count": null,
   "metadata": {},
   "outputs": [],
   "source": [
    "# #| export\n",
    "# @patch(as_prop=True)\n",
    "# def ndim(self:XarrayVectorArray): return self.array.ndim"
   ]
  },
  {
   "cell_type": "markdown",
   "metadata": {},
   "source": [
    "### from_xarray -\n"
   ]
  },
  {
   "cell_type": "code",
   "execution_count": null,
   "metadata": {},
   "outputs": [],
   "source": [
    "#| export\n",
    "@patch\n",
    "def from_xarray(\n",
    "    self:XarrayVectorSpace, \n",
    "    data:DataArray\n",
    ")->XarrayVectorArray:\n",
    "    \"\"\"Return an `XarrayVectorArray` containing data from `DataArray` `data`.\"\"\"\n",
    "    return self.make_array(data)"
   ]
  },
  {
   "cell_type": "markdown",
   "metadata": {},
   "source": [
    "A `DataArray` with the same coordinates as `space`:"
   ]
  },
  {
   "cell_type": "code",
   "execution_count": null,
   "metadata": {},
   "outputs": [
    {
     "data": {
      "text/html": [
       "<div><svg style=\"position: absolute; width: 0; height: 0; overflow: hidden\">\n",
       "<defs>\n",
       "<symbol id=\"icon-database\" viewBox=\"0 0 32 32\">\n",
       "<path d=\"M16 0c-8.837 0-16 2.239-16 5v4c0 2.761 7.163 5 16 5s16-2.239 16-5v-4c0-2.761-7.163-5-16-5z\"></path>\n",
       "<path d=\"M16 17c-8.837 0-16-2.239-16-5v6c0 2.761 7.163 5 16 5s16-2.239 16-5v-6c0 2.761-7.163 5-16 5z\"></path>\n",
       "<path d=\"M16 26c-8.837 0-16-2.239-16-5v6c0 2.761 7.163 5 16 5s16-2.239 16-5v-6c0 2.761-7.163 5-16 5z\"></path>\n",
       "</symbol>\n",
       "<symbol id=\"icon-file-text2\" viewBox=\"0 0 32 32\">\n",
       "<path d=\"M28.681 7.159c-0.694-0.947-1.662-2.053-2.724-3.116s-2.169-2.030-3.116-2.724c-1.612-1.182-2.393-1.319-2.841-1.319h-15.5c-1.378 0-2.5 1.121-2.5 2.5v27c0 1.378 1.122 2.5 2.5 2.5h23c1.378 0 2.5-1.122 2.5-2.5v-19.5c0-0.448-0.137-1.23-1.319-2.841zM24.543 5.457c0.959 0.959 1.712 1.825 2.268 2.543h-4.811v-4.811c0.718 0.556 1.584 1.309 2.543 2.268zM28 29.5c0 0.271-0.229 0.5-0.5 0.5h-23c-0.271 0-0.5-0.229-0.5-0.5v-27c0-0.271 0.229-0.5 0.5-0.5 0 0 15.499-0 15.5 0v7c0 0.552 0.448 1 1 1h7v19.5z\"></path>\n",
       "<path d=\"M23 26h-14c-0.552 0-1-0.448-1-1s0.448-1 1-1h14c0.552 0 1 0.448 1 1s-0.448 1-1 1z\"></path>\n",
       "<path d=\"M23 22h-14c-0.552 0-1-0.448-1-1s0.448-1 1-1h14c0.552 0 1 0.448 1 1s-0.448 1-1 1z\"></path>\n",
       "<path d=\"M23 18h-14c-0.552 0-1-0.448-1-1s0.448-1 1-1h14c0.552 0 1 0.448 1 1s-0.448 1-1 1z\"></path>\n",
       "</symbol>\n",
       "</defs>\n",
       "</svg>\n",
       "<style>/* CSS stylesheet for displaying xarray objects in jupyterlab.\n",
       " *\n",
       " */\n",
       "\n",
       ":root {\n",
       "  --xr-font-color0: var(--jp-content-font-color0, rgba(0, 0, 0, 1));\n",
       "  --xr-font-color2: var(--jp-content-font-color2, rgba(0, 0, 0, 0.54));\n",
       "  --xr-font-color3: var(--jp-content-font-color3, rgba(0, 0, 0, 0.38));\n",
       "  --xr-border-color: var(--jp-border-color2, #e0e0e0);\n",
       "  --xr-disabled-color: var(--jp-layout-color3, #bdbdbd);\n",
       "  --xr-background-color: var(--jp-layout-color0, white);\n",
       "  --xr-background-color-row-even: var(--jp-layout-color1, white);\n",
       "  --xr-background-color-row-odd: var(--jp-layout-color2, #eeeeee);\n",
       "}\n",
       "\n",
       "html[theme=dark],\n",
       "html[data-theme=dark],\n",
       "body[data-theme=dark],\n",
       "body.vscode-dark {\n",
       "  --xr-font-color0: rgba(255, 255, 255, 1);\n",
       "  --xr-font-color2: rgba(255, 255, 255, 0.54);\n",
       "  --xr-font-color3: rgba(255, 255, 255, 0.38);\n",
       "  --xr-border-color: #1F1F1F;\n",
       "  --xr-disabled-color: #515151;\n",
       "  --xr-background-color: #111111;\n",
       "  --xr-background-color-row-even: #111111;\n",
       "  --xr-background-color-row-odd: #313131;\n",
       "}\n",
       "\n",
       ".xr-wrap {\n",
       "  display: block !important;\n",
       "  min-width: 300px;\n",
       "  max-width: 700px;\n",
       "}\n",
       "\n",
       ".xr-text-repr-fallback {\n",
       "  /* fallback to plain text repr when CSS is not injected (untrusted notebook) */\n",
       "  display: none;\n",
       "}\n",
       "\n",
       ".xr-header {\n",
       "  padding-top: 6px;\n",
       "  padding-bottom: 6px;\n",
       "  margin-bottom: 4px;\n",
       "  border-bottom: solid 1px var(--xr-border-color);\n",
       "}\n",
       "\n",
       ".xr-header > div,\n",
       ".xr-header > ul {\n",
       "  display: inline;\n",
       "  margin-top: 0;\n",
       "  margin-bottom: 0;\n",
       "}\n",
       "\n",
       ".xr-obj-type,\n",
       ".xr-array-name {\n",
       "  margin-left: 2px;\n",
       "  margin-right: 10px;\n",
       "}\n",
       "\n",
       ".xr-obj-type {\n",
       "  color: var(--xr-font-color2);\n",
       "}\n",
       "\n",
       ".xr-sections {\n",
       "  padding-left: 0 !important;\n",
       "  display: grid;\n",
       "  grid-template-columns: 150px auto auto 1fr 0 20px 0 20px;\n",
       "}\n",
       "\n",
       ".xr-section-item {\n",
       "  display: contents;\n",
       "}\n",
       "\n",
       ".xr-section-item input {\n",
       "  display: inline-block;\n",
       "  opacity: 0;\n",
       "}\n",
       "\n",
       ".xr-section-item input + label {\n",
       "  color: var(--xr-disabled-color);\n",
       "}\n",
       "\n",
       ".xr-section-item input:enabled + label {\n",
       "  cursor: pointer;\n",
       "  color: var(--xr-font-color2);\n",
       "}\n",
       "\n",
       ".xr-section-item input:focus + label {\n",
       "  border: 2px solid var(--xr-font-color0);\n",
       "}\n",
       "\n",
       ".xr-section-item input:enabled + label:hover {\n",
       "  color: var(--xr-font-color0);\n",
       "}\n",
       "\n",
       ".xr-section-summary {\n",
       "  grid-column: 1;\n",
       "  color: var(--xr-font-color2);\n",
       "  font-weight: 500;\n",
       "}\n",
       "\n",
       ".xr-section-summary > span {\n",
       "  display: inline-block;\n",
       "  padding-left: 0.5em;\n",
       "}\n",
       "\n",
       ".xr-section-summary-in:disabled + label {\n",
       "  color: var(--xr-font-color2);\n",
       "}\n",
       "\n",
       ".xr-section-summary-in + label:before {\n",
       "  display: inline-block;\n",
       "  content: '►';\n",
       "  font-size: 11px;\n",
       "  width: 15px;\n",
       "  text-align: center;\n",
       "}\n",
       "\n",
       ".xr-section-summary-in:disabled + label:before {\n",
       "  color: var(--xr-disabled-color);\n",
       "}\n",
       "\n",
       ".xr-section-summary-in:checked + label:before {\n",
       "  content: '▼';\n",
       "}\n",
       "\n",
       ".xr-section-summary-in:checked + label > span {\n",
       "  display: none;\n",
       "}\n",
       "\n",
       ".xr-section-summary,\n",
       ".xr-section-inline-details {\n",
       "  padding-top: 4px;\n",
       "  padding-bottom: 4px;\n",
       "}\n",
       "\n",
       ".xr-section-inline-details {\n",
       "  grid-column: 2 / -1;\n",
       "}\n",
       "\n",
       ".xr-section-details {\n",
       "  display: none;\n",
       "  grid-column: 1 / -1;\n",
       "  margin-bottom: 5px;\n",
       "}\n",
       "\n",
       ".xr-section-summary-in:checked ~ .xr-section-details {\n",
       "  display: contents;\n",
       "}\n",
       "\n",
       ".xr-array-wrap {\n",
       "  grid-column: 1 / -1;\n",
       "  display: grid;\n",
       "  grid-template-columns: 20px auto;\n",
       "}\n",
       "\n",
       ".xr-array-wrap > label {\n",
       "  grid-column: 1;\n",
       "  vertical-align: top;\n",
       "}\n",
       "\n",
       ".xr-preview {\n",
       "  color: var(--xr-font-color3);\n",
       "}\n",
       "\n",
       ".xr-array-preview,\n",
       ".xr-array-data {\n",
       "  padding: 0 5px !important;\n",
       "  grid-column: 2;\n",
       "}\n",
       "\n",
       ".xr-array-data,\n",
       ".xr-array-in:checked ~ .xr-array-preview {\n",
       "  display: none;\n",
       "}\n",
       "\n",
       ".xr-array-in:checked ~ .xr-array-data,\n",
       ".xr-array-preview {\n",
       "  display: inline-block;\n",
       "}\n",
       "\n",
       ".xr-dim-list {\n",
       "  display: inline-block !important;\n",
       "  list-style: none;\n",
       "  padding: 0 !important;\n",
       "  margin: 0;\n",
       "}\n",
       "\n",
       ".xr-dim-list li {\n",
       "  display: inline-block;\n",
       "  padding: 0;\n",
       "  margin: 0;\n",
       "}\n",
       "\n",
       ".xr-dim-list:before {\n",
       "  content: '(';\n",
       "}\n",
       "\n",
       ".xr-dim-list:after {\n",
       "  content: ')';\n",
       "}\n",
       "\n",
       ".xr-dim-list li:not(:last-child):after {\n",
       "  content: ',';\n",
       "  padding-right: 5px;\n",
       "}\n",
       "\n",
       ".xr-has-index {\n",
       "  font-weight: bold;\n",
       "}\n",
       "\n",
       ".xr-var-list,\n",
       ".xr-var-item {\n",
       "  display: contents;\n",
       "}\n",
       "\n",
       ".xr-var-item > div,\n",
       ".xr-var-item label,\n",
       ".xr-var-item > .xr-var-name span {\n",
       "  background-color: var(--xr-background-color-row-even);\n",
       "  margin-bottom: 0;\n",
       "}\n",
       "\n",
       ".xr-var-item > .xr-var-name:hover span {\n",
       "  padding-right: 5px;\n",
       "}\n",
       "\n",
       ".xr-var-list > li:nth-child(odd) > div,\n",
       ".xr-var-list > li:nth-child(odd) > label,\n",
       ".xr-var-list > li:nth-child(odd) > .xr-var-name span {\n",
       "  background-color: var(--xr-background-color-row-odd);\n",
       "}\n",
       "\n",
       ".xr-var-name {\n",
       "  grid-column: 1;\n",
       "}\n",
       "\n",
       ".xr-var-dims {\n",
       "  grid-column: 2;\n",
       "}\n",
       "\n",
       ".xr-var-dtype {\n",
       "  grid-column: 3;\n",
       "  text-align: right;\n",
       "  color: var(--xr-font-color2);\n",
       "}\n",
       "\n",
       ".xr-var-preview {\n",
       "  grid-column: 4;\n",
       "}\n",
       "\n",
       ".xr-index-preview {\n",
       "  grid-column: 2 / 5;\n",
       "  color: var(--xr-font-color2);\n",
       "}\n",
       "\n",
       ".xr-var-name,\n",
       ".xr-var-dims,\n",
       ".xr-var-dtype,\n",
       ".xr-preview,\n",
       ".xr-attrs dt {\n",
       "  white-space: nowrap;\n",
       "  overflow: hidden;\n",
       "  text-overflow: ellipsis;\n",
       "  padding-right: 10px;\n",
       "}\n",
       "\n",
       ".xr-var-name:hover,\n",
       ".xr-var-dims:hover,\n",
       ".xr-var-dtype:hover,\n",
       ".xr-attrs dt:hover {\n",
       "  overflow: visible;\n",
       "  width: auto;\n",
       "  z-index: 1;\n",
       "}\n",
       "\n",
       ".xr-var-attrs,\n",
       ".xr-var-data,\n",
       ".xr-index-data {\n",
       "  display: none;\n",
       "  background-color: var(--xr-background-color) !important;\n",
       "  padding-bottom: 5px !important;\n",
       "}\n",
       "\n",
       ".xr-var-attrs-in:checked ~ .xr-var-attrs,\n",
       ".xr-var-data-in:checked ~ .xr-var-data,\n",
       ".xr-index-data-in:checked ~ .xr-index-data {\n",
       "  display: block;\n",
       "}\n",
       "\n",
       ".xr-var-data > table {\n",
       "  float: right;\n",
       "}\n",
       "\n",
       ".xr-var-name span,\n",
       ".xr-var-data,\n",
       ".xr-index-name div,\n",
       ".xr-index-data,\n",
       ".xr-attrs {\n",
       "  padding-left: 25px !important;\n",
       "}\n",
       "\n",
       ".xr-attrs,\n",
       ".xr-var-attrs,\n",
       ".xr-var-data,\n",
       ".xr-index-data {\n",
       "  grid-column: 1 / -1;\n",
       "}\n",
       "\n",
       "dl.xr-attrs {\n",
       "  padding: 0;\n",
       "  margin: 0;\n",
       "  display: grid;\n",
       "  grid-template-columns: 125px auto;\n",
       "}\n",
       "\n",
       ".xr-attrs dt,\n",
       ".xr-attrs dd {\n",
       "  padding: 0;\n",
       "  margin: 0;\n",
       "  float: left;\n",
       "  padding-right: 10px;\n",
       "  width: auto;\n",
       "}\n",
       "\n",
       ".xr-attrs dt {\n",
       "  font-weight: normal;\n",
       "  grid-column: 1;\n",
       "}\n",
       "\n",
       ".xr-attrs dt:hover span {\n",
       "  display: inline-block;\n",
       "  background: var(--xr-background-color);\n",
       "  padding-right: 10px;\n",
       "}\n",
       "\n",
       ".xr-attrs dd {\n",
       "  grid-column: 2;\n",
       "  white-space: pre-wrap;\n",
       "  word-break: break-all;\n",
       "}\n",
       "\n",
       ".xr-icon-database,\n",
       ".xr-icon-file-text2,\n",
       ".xr-no-icon {\n",
       "  display: inline-block;\n",
       "  vertical-align: middle;\n",
       "  width: 1em;\n",
       "  height: 1.5em !important;\n",
       "  stroke-width: 0;\n",
       "  stroke: currentColor;\n",
       "  fill: currentColor;\n",
       "}\n",
       "</style><pre class='xr-text-repr-fallback'>&lt;xarray.DataArray &#x27;baz&#x27; (foo: 3, bar: 2)&gt; Size: 48B\n",
       "array([[0.7822112 , 0.74799013],\n",
       "       [0.8150731 , 0.44824063],\n",
       "       [0.82055708, 0.24075307]])\n",
       "Coordinates:\n",
       "  * foo      (foo) int64 24B 1 2 3\n",
       "  * bar      (bar) &lt;U1 8B &#x27;a&#x27; &#x27;b&#x27;</pre><div class='xr-wrap' style='display:none'><div class='xr-header'><div class='xr-obj-type'>xarray.DataArray</div><div class='xr-array-name'>'baz'</div><ul class='xr-dim-list'><li><span class='xr-has-index'>foo</span>: 3</li><li><span class='xr-has-index'>bar</span>: 2</li></ul></div><ul class='xr-sections'><li class='xr-section-item'><div class='xr-array-wrap'><input id='section-243f76d4-6ae7-4348-99ca-4c282ba30445' class='xr-array-in' type='checkbox' checked><label for='section-243f76d4-6ae7-4348-99ca-4c282ba30445' title='Show/hide data repr'><svg class='icon xr-icon-database'><use xlink:href='#icon-database'></use></svg></label><div class='xr-array-preview xr-preview'><span>0.7822 0.748 0.8151 0.4482 0.8206 0.2408</span></div><div class='xr-array-data'><pre>array([[0.7822112 , 0.74799013],\n",
       "       [0.8150731 , 0.44824063],\n",
       "       [0.82055708, 0.24075307]])</pre></div></div></li><li class='xr-section-item'><input id='section-d04fe8a9-8c96-4029-8a5e-794e91fada39' class='xr-section-summary-in' type='checkbox'  checked><label for='section-d04fe8a9-8c96-4029-8a5e-794e91fada39' class='xr-section-summary' >Coordinates: <span>(2)</span></label><div class='xr-section-inline-details'></div><div class='xr-section-details'><ul class='xr-var-list'><li class='xr-var-item'><div class='xr-var-name'><span class='xr-has-index'>foo</span></div><div class='xr-var-dims'>(foo)</div><div class='xr-var-dtype'>int64</div><div class='xr-var-preview xr-preview'>1 2 3</div><input id='attrs-76ef956c-55d1-4fb1-ad0f-4581c2e58078' class='xr-var-attrs-in' type='checkbox' disabled><label for='attrs-76ef956c-55d1-4fb1-ad0f-4581c2e58078' title='Show/Hide attributes'><svg class='icon xr-icon-file-text2'><use xlink:href='#icon-file-text2'></use></svg></label><input id='data-0cd9eb88-9d05-4e95-8e0c-585270b2e3f7' class='xr-var-data-in' type='checkbox'><label for='data-0cd9eb88-9d05-4e95-8e0c-585270b2e3f7' title='Show/Hide data repr'><svg class='icon xr-icon-database'><use xlink:href='#icon-database'></use></svg></label><div class='xr-var-attrs'><dl class='xr-attrs'></dl></div><div class='xr-var-data'><pre>array([1, 2, 3])</pre></div></li><li class='xr-var-item'><div class='xr-var-name'><span class='xr-has-index'>bar</span></div><div class='xr-var-dims'>(bar)</div><div class='xr-var-dtype'>&lt;U1</div><div class='xr-var-preview xr-preview'>&#x27;a&#x27; &#x27;b&#x27;</div><input id='attrs-b78ce0f3-67a7-452c-a680-c9292eeb5437' class='xr-var-attrs-in' type='checkbox' disabled><label for='attrs-b78ce0f3-67a7-452c-a680-c9292eeb5437' title='Show/Hide attributes'><svg class='icon xr-icon-file-text2'><use xlink:href='#icon-file-text2'></use></svg></label><input id='data-5ee9daf8-7d9d-4033-8baf-35e0c33b859c' class='xr-var-data-in' type='checkbox'><label for='data-5ee9daf8-7d9d-4033-8baf-35e0c33b859c' title='Show/Hide data repr'><svg class='icon xr-icon-database'><use xlink:href='#icon-database'></use></svg></label><div class='xr-var-attrs'><dl class='xr-attrs'></dl></div><div class='xr-var-data'><pre>array([&#x27;a&#x27;, &#x27;b&#x27;], dtype=&#x27;&lt;U1&#x27;)</pre></div></li></ul></div></li><li class='xr-section-item'><input id='section-3c7881c4-454f-4bf3-bda3-f7753c484e9e' class='xr-section-summary-in' type='checkbox'  ><label for='section-3c7881c4-454f-4bf3-bda3-f7753c484e9e' class='xr-section-summary' >Indexes: <span>(2)</span></label><div class='xr-section-inline-details'></div><div class='xr-section-details'><ul class='xr-var-list'><li class='xr-var-item'><div class='xr-index-name'><div>foo</div></div><div class='xr-index-preview'>PandasIndex</div><div></div><input id='index-25ccea2a-0896-402d-89ff-87a0d40f5fd9' class='xr-index-data-in' type='checkbox'/><label for='index-25ccea2a-0896-402d-89ff-87a0d40f5fd9' title='Show/Hide index repr'><svg class='icon xr-icon-database'><use xlink:href='#icon-database'></use></svg></label><div class='xr-index-data'><pre>PandasIndex(Index([1, 2, 3], dtype=&#x27;int64&#x27;, name=&#x27;foo&#x27;))</pre></div></li><li class='xr-var-item'><div class='xr-index-name'><div>bar</div></div><div class='xr-index-preview'>PandasIndex</div><div></div><input id='index-41f775d7-764d-4e7f-85ae-f5bd242cb0c9' class='xr-index-data-in' type='checkbox'/><label for='index-41f775d7-764d-4e7f-85ae-f5bd242cb0c9' title='Show/Hide index repr'><svg class='icon xr-icon-database'><use xlink:href='#icon-database'></use></svg></label><div class='xr-index-data'><pre>PandasIndex(Index([&#x27;a&#x27;, &#x27;b&#x27;], dtype=&#x27;object&#x27;, name=&#x27;bar&#x27;))</pre></div></li></ul></div></li><li class='xr-section-item'><input id='section-200ef0bb-5cf1-4d71-a96c-8c1f12d8d503' class='xr-section-summary-in' type='checkbox' disabled ><label for='section-200ef0bb-5cf1-4d71-a96c-8c1f12d8d503' class='xr-section-summary'  title='Expand/collapse section'>Attributes: <span>(0)</span></label><div class='xr-section-inline-details'></div><div class='xr-section-details'><dl class='xr-attrs'></dl></div></li></ul></div></div>"
      ],
      "text/plain": [
       "<xarray.DataArray 'baz' (foo: 3, bar: 2)> Size: 48B\n",
       "array([[0.7822112 , 0.74799013],\n",
       "       [0.8150731 , 0.44824063],\n",
       "       [0.82055708, 0.24075307]])\n",
       "Coordinates:\n",
       "  * foo      (foo) int64 24B 1 2 3\n",
       "  * bar      (bar) <U1 8B 'a' 'b'"
      ]
     },
     "execution_count": null,
     "metadata": {},
     "output_type": "execute_result"
    }
   ],
   "source": [
    "da = space.random().array\n",
    "da"
   ]
  },
  {
   "cell_type": "markdown",
   "metadata": {},
   "source": [
    "An `XarrayVectorArray` in `space` with data from `da`:"
   ]
  },
  {
   "cell_type": "code",
   "execution_count": null,
   "metadata": {},
   "outputs": [
    {
     "data": {
      "text/html": [
       "{foo(3) ⨉ bar(2), }"
      ],
      "text/plain": [
       "XarrayVectorArray(\n",
       "    XarrayVectorSpace(\n",
       "        coords=Coordinates:\n",
       "                 * foo      (foo) int64 24B 1 2 3\n",
       "                 * bar      (bar) <U1 8B 'a' 'b',\n",
       "        name='baz'),\n",
       "    XarrayVectorArrayImpl(\n",
       "        <xarray.DataArray 'baz' (foo: 3, bar: 2)> Size: 48B\n",
       "        array([[0.7822112 , 0.74799013],\n",
       "               [0.8150731 , 0.44824063],\n",
       "               [0.82055708, 0.24075307]])\n",
       "        Coordinates:\n",
       "          * foo      (foo) int64 24B 1 2 3\n",
       "          * bar      (bar) <U1 8B 'a' 'b',\n",
       "        <xarray.DataArray 'baz' (foo: 3, bar: 2)> Size: 48B\n",
       "        array([[0., 0.],\n",
       "               [0., 0.],\n",
       "               [0., 0.]])\n",
       "        Coordinates:\n",
       "          * foo      (foo) int64 24B 1 2 3\n",
       "          * bar      (bar) <U1 8B 'a' 'b'),\n",
       "    _len=1)"
      ]
     },
     "execution_count": null,
     "metadata": {},
     "output_type": "execute_result"
    }
   ],
   "source": [
    "space.from_xarray(da)"
   ]
  },
  {
   "cell_type": "markdown",
   "metadata": {},
   "source": [
    "An `XarrayVectorArray` from an array in `space` plus extended dimensions:"
   ]
  },
  {
   "cell_type": "code",
   "execution_count": null,
   "metadata": {},
   "outputs": [
    {
     "data": {
      "text/html": [
       "{foo(3) ⨉ bar(2), bam(3)}"
      ],
      "text/plain": [
       "XarrayVectorArray(\n",
       "    XarrayVectorSpace(\n",
       "        coords=Coordinates:\n",
       "                 * foo      (foo) int64 24B 1 2 3\n",
       "                 * bar      (bar) <U1 8B 'a' 'b',\n",
       "        name='baz'),\n",
       "    XarrayVectorArrayImpl(\n",
       "        <xarray.DataArray 'baz' (bam: 3, foo: 3, bar: 2)> Size: 144B\n",
       "        array([[[0.36081056, 0.17635558],\n",
       "                [0.46748454, 0.39206002],\n",
       "                [0.24092712, 0.75178071]],\n",
       "\n",
       "               [[0.31384677, 0.27280433],\n",
       "                [0.13089033, 0.4388217 ],\n",
       "                [0.30296463, 0.36927284]],\n",
       "\n",
       "               [[0.23599726, 0.76315549],\n",
       "                [0.93000335, 0.49793185],\n",
       "                [0.64299842, 0.86717228]]])\n",
       "        Coordinates:\n",
       "          * bam      (bam) int64 24B 1 2 3\n",
       "          * foo      (foo) int64 24B 1 2 3\n",
       "          * bar      (bar) <U1 8B 'a' 'b',\n",
       "        <xarray.DataArray 'baz' (foo: 3, bar: 2)> Size: 48B\n",
       "        array([[0., 0.],\n",
       "               [0., 0.],\n",
       "               [0., 0.]])\n",
       "        Coordinates:\n",
       "          * foo      (foo) int64 24B 1 2 3\n",
       "          * bar      (bar) <U1 8B 'a' 'b'),\n",
       "    _len=3)"
      ]
     },
     "execution_count": null,
     "metadata": {},
     "output_type": "execute_result"
    }
   ],
   "source": [
    "space.from_xarray(space.random({'bam': [1, 2, 3]}).array)"
   ]
  },
  {
   "cell_type": "markdown",
   "metadata": {},
   "source": [
    "### from_numpy -\n"
   ]
  },
  {
   "cell_type": "code",
   "execution_count": null,
   "metadata": {},
   "outputs": [],
   "source": [
    "#| export\n",
    "@patch\n",
    "def from_numpy(\n",
    "    self:XarrayVectorSpace, \n",
    "    data:ndarray, \n",
    "    coords=None, \n",
    "    extended_dim=None, \n",
    "    id=None, \n",
    "    ensure_copy=False\n",
    ")->XarrayVectorArray: # A vector array with data from the numpy array\n",
    "    \"\"\"Return an `XarrayVectorArray` in the vector space with data from the `ndarray` `data`.\"\"\"\n",
    "    if ensure_copy: data = data.copy()\n",
    "    if data.size == self.dim and extended_dim is None:\n",
    "        shape = self.shape\n",
    "        coords = self.coords\n",
    "        dims = self.dims\n",
    "    else:\n",
    "        if coords is None:\n",
    "            if extended_dim is None: extended_dim = 'len'\n",
    "            if isinstance(extended_dim, str):\n",
    "                extended_dim = {extended_dim: np.arange(data.size // self.dim)}\n",
    "            coords = self.coords.copy()\n",
    "            coords.update(extended_dim)\n",
    "            dims = list(extended_dim) + list(self.dims)\n",
    "            shape = [len(coords[dim]) for dim in dims]\n",
    "        else: \n",
    "            coords = Coordinates(coords)\n",
    "            dims = coords.dims\n",
    "            shape = coords.shape\n",
    "    array = DataArray(\n",
    "        data.reshape(shape),\n",
    "        coords=coords,\n",
    "        dims=dims,\n",
    "        attrs=self._array.attrs\n",
    "    )\n",
    "    return self._array_factory(array, space=self)"
   ]
  },
  {
   "cell_type": "code",
   "execution_count": null,
   "metadata": {},
   "outputs": [
    {
     "data": {
      "text/html": [
       "{foo(3) ⨉ bar(2), len(2)}"
      ],
      "text/plain": [
       "XarrayVectorArray(\n",
       "    XarrayVectorSpace(\n",
       "        coords=Coordinates:\n",
       "                 * foo      (foo) int64 24B 1 2 3\n",
       "                 * bar      (bar) <U1 8B 'a' 'b',\n",
       "        name='baz'),\n",
       "    XarrayVectorArrayImpl(\n",
       "        <xarray.DataArray (len: 2, foo: 3, bar: 2)> Size: 96B\n",
       "        array([[[0.923492  , 0.3996791 ],\n",
       "                [0.17201775, 0.64397635],\n",
       "                [0.7543588 , 0.33183856]],\n",
       "\n",
       "               [[0.21263591, 0.09656027],\n",
       "                [0.05580018, 0.45084774],\n",
       "                [0.79418151, 0.91474573]]])\n",
       "        Coordinates:\n",
       "          * foo      (foo) int64 24B 1 2 3\n",
       "          * bar      (bar) <U1 8B 'a' 'b'\n",
       "          * len      (len) int64 16B 0 1,\n",
       "        <xarray.DataArray 'baz' (foo: 3, bar: 2)> Size: 48B\n",
       "        array([[0., 0.],\n",
       "               [0., 0.],\n",
       "               [0., 0.]])\n",
       "        Coordinates:\n",
       "          * foo      (foo) int64 24B 1 2 3\n",
       "          * bar      (bar) <U1 8B 'a' 'b'),\n",
       "    _len=2)"
      ]
     },
     "execution_count": null,
     "metadata": {},
     "output_type": "execute_result"
    }
   ],
   "source": [
    "space.from_numpy(np.random.rand(space.dim * 2))"
   ]
  },
  {
   "cell_type": "code",
   "execution_count": null,
   "metadata": {},
   "outputs": [
    {
     "data": {
      "text/html": [
       "<div><svg style=\"position: absolute; width: 0; height: 0; overflow: hidden\">\n",
       "<defs>\n",
       "<symbol id=\"icon-database\" viewBox=\"0 0 32 32\">\n",
       "<path d=\"M16 0c-8.837 0-16 2.239-16 5v4c0 2.761 7.163 5 16 5s16-2.239 16-5v-4c0-2.761-7.163-5-16-5z\"></path>\n",
       "<path d=\"M16 17c-8.837 0-16-2.239-16-5v6c0 2.761 7.163 5 16 5s16-2.239 16-5v-6c0 2.761-7.163 5-16 5z\"></path>\n",
       "<path d=\"M16 26c-8.837 0-16-2.239-16-5v6c0 2.761 7.163 5 16 5s16-2.239 16-5v-6c0 2.761-7.163 5-16 5z\"></path>\n",
       "</symbol>\n",
       "<symbol id=\"icon-file-text2\" viewBox=\"0 0 32 32\">\n",
       "<path d=\"M28.681 7.159c-0.694-0.947-1.662-2.053-2.724-3.116s-2.169-2.030-3.116-2.724c-1.612-1.182-2.393-1.319-2.841-1.319h-15.5c-1.378 0-2.5 1.121-2.5 2.5v27c0 1.378 1.122 2.5 2.5 2.5h23c1.378 0 2.5-1.122 2.5-2.5v-19.5c0-0.448-0.137-1.23-1.319-2.841zM24.543 5.457c0.959 0.959 1.712 1.825 2.268 2.543h-4.811v-4.811c0.718 0.556 1.584 1.309 2.543 2.268zM28 29.5c0 0.271-0.229 0.5-0.5 0.5h-23c-0.271 0-0.5-0.229-0.5-0.5v-27c0-0.271 0.229-0.5 0.5-0.5 0 0 15.499-0 15.5 0v7c0 0.552 0.448 1 1 1h7v19.5z\"></path>\n",
       "<path d=\"M23 26h-14c-0.552 0-1-0.448-1-1s0.448-1 1-1h14c0.552 0 1 0.448 1 1s-0.448 1-1 1z\"></path>\n",
       "<path d=\"M23 22h-14c-0.552 0-1-0.448-1-1s0.448-1 1-1h14c0.552 0 1 0.448 1 1s-0.448 1-1 1z\"></path>\n",
       "<path d=\"M23 18h-14c-0.552 0-1-0.448-1-1s0.448-1 1-1h14c0.552 0 1 0.448 1 1s-0.448 1-1 1z\"></path>\n",
       "</symbol>\n",
       "</defs>\n",
       "</svg>\n",
       "<style>/* CSS stylesheet for displaying xarray objects in jupyterlab.\n",
       " *\n",
       " */\n",
       "\n",
       ":root {\n",
       "  --xr-font-color0: var(--jp-content-font-color0, rgba(0, 0, 0, 1));\n",
       "  --xr-font-color2: var(--jp-content-font-color2, rgba(0, 0, 0, 0.54));\n",
       "  --xr-font-color3: var(--jp-content-font-color3, rgba(0, 0, 0, 0.38));\n",
       "  --xr-border-color: var(--jp-border-color2, #e0e0e0);\n",
       "  --xr-disabled-color: var(--jp-layout-color3, #bdbdbd);\n",
       "  --xr-background-color: var(--jp-layout-color0, white);\n",
       "  --xr-background-color-row-even: var(--jp-layout-color1, white);\n",
       "  --xr-background-color-row-odd: var(--jp-layout-color2, #eeeeee);\n",
       "}\n",
       "\n",
       "html[theme=dark],\n",
       "html[data-theme=dark],\n",
       "body[data-theme=dark],\n",
       "body.vscode-dark {\n",
       "  --xr-font-color0: rgba(255, 255, 255, 1);\n",
       "  --xr-font-color2: rgba(255, 255, 255, 0.54);\n",
       "  --xr-font-color3: rgba(255, 255, 255, 0.38);\n",
       "  --xr-border-color: #1F1F1F;\n",
       "  --xr-disabled-color: #515151;\n",
       "  --xr-background-color: #111111;\n",
       "  --xr-background-color-row-even: #111111;\n",
       "  --xr-background-color-row-odd: #313131;\n",
       "}\n",
       "\n",
       ".xr-wrap {\n",
       "  display: block !important;\n",
       "  min-width: 300px;\n",
       "  max-width: 700px;\n",
       "}\n",
       "\n",
       ".xr-text-repr-fallback {\n",
       "  /* fallback to plain text repr when CSS is not injected (untrusted notebook) */\n",
       "  display: none;\n",
       "}\n",
       "\n",
       ".xr-header {\n",
       "  padding-top: 6px;\n",
       "  padding-bottom: 6px;\n",
       "  margin-bottom: 4px;\n",
       "  border-bottom: solid 1px var(--xr-border-color);\n",
       "}\n",
       "\n",
       ".xr-header > div,\n",
       ".xr-header > ul {\n",
       "  display: inline;\n",
       "  margin-top: 0;\n",
       "  margin-bottom: 0;\n",
       "}\n",
       "\n",
       ".xr-obj-type,\n",
       ".xr-array-name {\n",
       "  margin-left: 2px;\n",
       "  margin-right: 10px;\n",
       "}\n",
       "\n",
       ".xr-obj-type {\n",
       "  color: var(--xr-font-color2);\n",
       "}\n",
       "\n",
       ".xr-sections {\n",
       "  padding-left: 0 !important;\n",
       "  display: grid;\n",
       "  grid-template-columns: 150px auto auto 1fr 0 20px 0 20px;\n",
       "}\n",
       "\n",
       ".xr-section-item {\n",
       "  display: contents;\n",
       "}\n",
       "\n",
       ".xr-section-item input {\n",
       "  display: inline-block;\n",
       "  opacity: 0;\n",
       "}\n",
       "\n",
       ".xr-section-item input + label {\n",
       "  color: var(--xr-disabled-color);\n",
       "}\n",
       "\n",
       ".xr-section-item input:enabled + label {\n",
       "  cursor: pointer;\n",
       "  color: var(--xr-font-color2);\n",
       "}\n",
       "\n",
       ".xr-section-item input:focus + label {\n",
       "  border: 2px solid var(--xr-font-color0);\n",
       "}\n",
       "\n",
       ".xr-section-item input:enabled + label:hover {\n",
       "  color: var(--xr-font-color0);\n",
       "}\n",
       "\n",
       ".xr-section-summary {\n",
       "  grid-column: 1;\n",
       "  color: var(--xr-font-color2);\n",
       "  font-weight: 500;\n",
       "}\n",
       "\n",
       ".xr-section-summary > span {\n",
       "  display: inline-block;\n",
       "  padding-left: 0.5em;\n",
       "}\n",
       "\n",
       ".xr-section-summary-in:disabled + label {\n",
       "  color: var(--xr-font-color2);\n",
       "}\n",
       "\n",
       ".xr-section-summary-in + label:before {\n",
       "  display: inline-block;\n",
       "  content: '►';\n",
       "  font-size: 11px;\n",
       "  width: 15px;\n",
       "  text-align: center;\n",
       "}\n",
       "\n",
       ".xr-section-summary-in:disabled + label:before {\n",
       "  color: var(--xr-disabled-color);\n",
       "}\n",
       "\n",
       ".xr-section-summary-in:checked + label:before {\n",
       "  content: '▼';\n",
       "}\n",
       "\n",
       ".xr-section-summary-in:checked + label > span {\n",
       "  display: none;\n",
       "}\n",
       "\n",
       ".xr-section-summary,\n",
       ".xr-section-inline-details {\n",
       "  padding-top: 4px;\n",
       "  padding-bottom: 4px;\n",
       "}\n",
       "\n",
       ".xr-section-inline-details {\n",
       "  grid-column: 2 / -1;\n",
       "}\n",
       "\n",
       ".xr-section-details {\n",
       "  display: none;\n",
       "  grid-column: 1 / -1;\n",
       "  margin-bottom: 5px;\n",
       "}\n",
       "\n",
       ".xr-section-summary-in:checked ~ .xr-section-details {\n",
       "  display: contents;\n",
       "}\n",
       "\n",
       ".xr-array-wrap {\n",
       "  grid-column: 1 / -1;\n",
       "  display: grid;\n",
       "  grid-template-columns: 20px auto;\n",
       "}\n",
       "\n",
       ".xr-array-wrap > label {\n",
       "  grid-column: 1;\n",
       "  vertical-align: top;\n",
       "}\n",
       "\n",
       ".xr-preview {\n",
       "  color: var(--xr-font-color3);\n",
       "}\n",
       "\n",
       ".xr-array-preview,\n",
       ".xr-array-data {\n",
       "  padding: 0 5px !important;\n",
       "  grid-column: 2;\n",
       "}\n",
       "\n",
       ".xr-array-data,\n",
       ".xr-array-in:checked ~ .xr-array-preview {\n",
       "  display: none;\n",
       "}\n",
       "\n",
       ".xr-array-in:checked ~ .xr-array-data,\n",
       ".xr-array-preview {\n",
       "  display: inline-block;\n",
       "}\n",
       "\n",
       ".xr-dim-list {\n",
       "  display: inline-block !important;\n",
       "  list-style: none;\n",
       "  padding: 0 !important;\n",
       "  margin: 0;\n",
       "}\n",
       "\n",
       ".xr-dim-list li {\n",
       "  display: inline-block;\n",
       "  padding: 0;\n",
       "  margin: 0;\n",
       "}\n",
       "\n",
       ".xr-dim-list:before {\n",
       "  content: '(';\n",
       "}\n",
       "\n",
       ".xr-dim-list:after {\n",
       "  content: ')';\n",
       "}\n",
       "\n",
       ".xr-dim-list li:not(:last-child):after {\n",
       "  content: ',';\n",
       "  padding-right: 5px;\n",
       "}\n",
       "\n",
       ".xr-has-index {\n",
       "  font-weight: bold;\n",
       "}\n",
       "\n",
       ".xr-var-list,\n",
       ".xr-var-item {\n",
       "  display: contents;\n",
       "}\n",
       "\n",
       ".xr-var-item > div,\n",
       ".xr-var-item label,\n",
       ".xr-var-item > .xr-var-name span {\n",
       "  background-color: var(--xr-background-color-row-even);\n",
       "  margin-bottom: 0;\n",
       "}\n",
       "\n",
       ".xr-var-item > .xr-var-name:hover span {\n",
       "  padding-right: 5px;\n",
       "}\n",
       "\n",
       ".xr-var-list > li:nth-child(odd) > div,\n",
       ".xr-var-list > li:nth-child(odd) > label,\n",
       ".xr-var-list > li:nth-child(odd) > .xr-var-name span {\n",
       "  background-color: var(--xr-background-color-row-odd);\n",
       "}\n",
       "\n",
       ".xr-var-name {\n",
       "  grid-column: 1;\n",
       "}\n",
       "\n",
       ".xr-var-dims {\n",
       "  grid-column: 2;\n",
       "}\n",
       "\n",
       ".xr-var-dtype {\n",
       "  grid-column: 3;\n",
       "  text-align: right;\n",
       "  color: var(--xr-font-color2);\n",
       "}\n",
       "\n",
       ".xr-var-preview {\n",
       "  grid-column: 4;\n",
       "}\n",
       "\n",
       ".xr-index-preview {\n",
       "  grid-column: 2 / 5;\n",
       "  color: var(--xr-font-color2);\n",
       "}\n",
       "\n",
       ".xr-var-name,\n",
       ".xr-var-dims,\n",
       ".xr-var-dtype,\n",
       ".xr-preview,\n",
       ".xr-attrs dt {\n",
       "  white-space: nowrap;\n",
       "  overflow: hidden;\n",
       "  text-overflow: ellipsis;\n",
       "  padding-right: 10px;\n",
       "}\n",
       "\n",
       ".xr-var-name:hover,\n",
       ".xr-var-dims:hover,\n",
       ".xr-var-dtype:hover,\n",
       ".xr-attrs dt:hover {\n",
       "  overflow: visible;\n",
       "  width: auto;\n",
       "  z-index: 1;\n",
       "}\n",
       "\n",
       ".xr-var-attrs,\n",
       ".xr-var-data,\n",
       ".xr-index-data {\n",
       "  display: none;\n",
       "  background-color: var(--xr-background-color) !important;\n",
       "  padding-bottom: 5px !important;\n",
       "}\n",
       "\n",
       ".xr-var-attrs-in:checked ~ .xr-var-attrs,\n",
       ".xr-var-data-in:checked ~ .xr-var-data,\n",
       ".xr-index-data-in:checked ~ .xr-index-data {\n",
       "  display: block;\n",
       "}\n",
       "\n",
       ".xr-var-data > table {\n",
       "  float: right;\n",
       "}\n",
       "\n",
       ".xr-var-name span,\n",
       ".xr-var-data,\n",
       ".xr-index-name div,\n",
       ".xr-index-data,\n",
       ".xr-attrs {\n",
       "  padding-left: 25px !important;\n",
       "}\n",
       "\n",
       ".xr-attrs,\n",
       ".xr-var-attrs,\n",
       ".xr-var-data,\n",
       ".xr-index-data {\n",
       "  grid-column: 1 / -1;\n",
       "}\n",
       "\n",
       "dl.xr-attrs {\n",
       "  padding: 0;\n",
       "  margin: 0;\n",
       "  display: grid;\n",
       "  grid-template-columns: 125px auto;\n",
       "}\n",
       "\n",
       ".xr-attrs dt,\n",
       ".xr-attrs dd {\n",
       "  padding: 0;\n",
       "  margin: 0;\n",
       "  float: left;\n",
       "  padding-right: 10px;\n",
       "  width: auto;\n",
       "}\n",
       "\n",
       ".xr-attrs dt {\n",
       "  font-weight: normal;\n",
       "  grid-column: 1;\n",
       "}\n",
       "\n",
       ".xr-attrs dt:hover span {\n",
       "  display: inline-block;\n",
       "  background: var(--xr-background-color);\n",
       "  padding-right: 10px;\n",
       "}\n",
       "\n",
       ".xr-attrs dd {\n",
       "  grid-column: 2;\n",
       "  white-space: pre-wrap;\n",
       "  word-break: break-all;\n",
       "}\n",
       "\n",
       ".xr-icon-database,\n",
       ".xr-icon-file-text2,\n",
       ".xr-no-icon {\n",
       "  display: inline-block;\n",
       "  vertical-align: middle;\n",
       "  width: 1em;\n",
       "  height: 1.5em !important;\n",
       "  stroke-width: 0;\n",
       "  stroke: currentColor;\n",
       "  fill: currentColor;\n",
       "}\n",
       "</style><pre class='xr-text-repr-fallback'>&lt;xarray.DataArray (len: 2, foo: 3, bar: 2)&gt; Size: 96B\n",
       "array([[[0.923492  , 0.3996791 ],\n",
       "        [0.17201775, 0.64397635],\n",
       "        [0.7543588 , 0.33183856]],\n",
       "\n",
       "       [[0.21263591, 0.09656027],\n",
       "        [0.05580018, 0.45084774],\n",
       "        [0.79418151, 0.91474573]]])\n",
       "Coordinates:\n",
       "  * foo      (foo) int64 24B 1 2 3\n",
       "  * bar      (bar) &lt;U1 8B &#x27;a&#x27; &#x27;b&#x27;\n",
       "  * len      (len) int64 16B 0 1</pre><div class='xr-wrap' style='display:none'><div class='xr-header'><div class='xr-obj-type'>xarray.DataArray</div><div class='xr-array-name'></div><ul class='xr-dim-list'><li><span class='xr-has-index'>len</span>: 2</li><li><span class='xr-has-index'>foo</span>: 3</li><li><span class='xr-has-index'>bar</span>: 2</li></ul></div><ul class='xr-sections'><li class='xr-section-item'><div class='xr-array-wrap'><input id='section-e35a00d5-40ed-4d00-a3f1-810871cc3b1a' class='xr-array-in' type='checkbox' checked><label for='section-e35a00d5-40ed-4d00-a3f1-810871cc3b1a' title='Show/hide data repr'><svg class='icon xr-icon-database'><use xlink:href='#icon-database'></use></svg></label><div class='xr-array-preview xr-preview'><span>0.9235 0.3997 0.172 0.644 0.7544 ... 0.0558 0.4508 0.7942 0.9147</span></div><div class='xr-array-data'><pre>array([[[0.923492  , 0.3996791 ],\n",
       "        [0.17201775, 0.64397635],\n",
       "        [0.7543588 , 0.33183856]],\n",
       "\n",
       "       [[0.21263591, 0.09656027],\n",
       "        [0.05580018, 0.45084774],\n",
       "        [0.79418151, 0.91474573]]])</pre></div></div></li><li class='xr-section-item'><input id='section-0ba8f1f9-b604-4956-bbff-2d6205d65a54' class='xr-section-summary-in' type='checkbox'  checked><label for='section-0ba8f1f9-b604-4956-bbff-2d6205d65a54' class='xr-section-summary' >Coordinates: <span>(3)</span></label><div class='xr-section-inline-details'></div><div class='xr-section-details'><ul class='xr-var-list'><li class='xr-var-item'><div class='xr-var-name'><span class='xr-has-index'>foo</span></div><div class='xr-var-dims'>(foo)</div><div class='xr-var-dtype'>int64</div><div class='xr-var-preview xr-preview'>1 2 3</div><input id='attrs-1148f87b-37b1-48a3-a509-9aee0297f478' class='xr-var-attrs-in' type='checkbox' disabled><label for='attrs-1148f87b-37b1-48a3-a509-9aee0297f478' title='Show/Hide attributes'><svg class='icon xr-icon-file-text2'><use xlink:href='#icon-file-text2'></use></svg></label><input id='data-949181ce-1ad3-4fd3-9117-c33e879836ab' class='xr-var-data-in' type='checkbox'><label for='data-949181ce-1ad3-4fd3-9117-c33e879836ab' title='Show/Hide data repr'><svg class='icon xr-icon-database'><use xlink:href='#icon-database'></use></svg></label><div class='xr-var-attrs'><dl class='xr-attrs'></dl></div><div class='xr-var-data'><pre>array([1, 2, 3])</pre></div></li><li class='xr-var-item'><div class='xr-var-name'><span class='xr-has-index'>bar</span></div><div class='xr-var-dims'>(bar)</div><div class='xr-var-dtype'>&lt;U1</div><div class='xr-var-preview xr-preview'>&#x27;a&#x27; &#x27;b&#x27;</div><input id='attrs-76e85cd9-70b6-4753-b0e9-7364329a3f6b' class='xr-var-attrs-in' type='checkbox' disabled><label for='attrs-76e85cd9-70b6-4753-b0e9-7364329a3f6b' title='Show/Hide attributes'><svg class='icon xr-icon-file-text2'><use xlink:href='#icon-file-text2'></use></svg></label><input id='data-302e2a02-5563-463c-a70e-d5abe1c93402' class='xr-var-data-in' type='checkbox'><label for='data-302e2a02-5563-463c-a70e-d5abe1c93402' title='Show/Hide data repr'><svg class='icon xr-icon-database'><use xlink:href='#icon-database'></use></svg></label><div class='xr-var-attrs'><dl class='xr-attrs'></dl></div><div class='xr-var-data'><pre>array([&#x27;a&#x27;, &#x27;b&#x27;], dtype=&#x27;&lt;U1&#x27;)</pre></div></li><li class='xr-var-item'><div class='xr-var-name'><span class='xr-has-index'>len</span></div><div class='xr-var-dims'>(len)</div><div class='xr-var-dtype'>int64</div><div class='xr-var-preview xr-preview'>0 1</div><input id='attrs-e5c35f27-693f-4b15-8363-e486ab71aef1' class='xr-var-attrs-in' type='checkbox' disabled><label for='attrs-e5c35f27-693f-4b15-8363-e486ab71aef1' title='Show/Hide attributes'><svg class='icon xr-icon-file-text2'><use xlink:href='#icon-file-text2'></use></svg></label><input id='data-38410675-6c73-4834-a8ca-7c2caff7e0e5' class='xr-var-data-in' type='checkbox'><label for='data-38410675-6c73-4834-a8ca-7c2caff7e0e5' title='Show/Hide data repr'><svg class='icon xr-icon-database'><use xlink:href='#icon-database'></use></svg></label><div class='xr-var-attrs'><dl class='xr-attrs'></dl></div><div class='xr-var-data'><pre>array([0, 1])</pre></div></li></ul></div></li><li class='xr-section-item'><input id='section-aa035ddd-2ee1-4d06-aede-f1891e9afd43' class='xr-section-summary-in' type='checkbox'  ><label for='section-aa035ddd-2ee1-4d06-aede-f1891e9afd43' class='xr-section-summary' >Indexes: <span>(3)</span></label><div class='xr-section-inline-details'></div><div class='xr-section-details'><ul class='xr-var-list'><li class='xr-var-item'><div class='xr-index-name'><div>foo</div></div><div class='xr-index-preview'>PandasIndex</div><div></div><input id='index-e08d7b84-70ce-4596-b143-855b5853c49d' class='xr-index-data-in' type='checkbox'/><label for='index-e08d7b84-70ce-4596-b143-855b5853c49d' title='Show/Hide index repr'><svg class='icon xr-icon-database'><use xlink:href='#icon-database'></use></svg></label><div class='xr-index-data'><pre>PandasIndex(Index([1, 2, 3], dtype=&#x27;int64&#x27;, name=&#x27;foo&#x27;))</pre></div></li><li class='xr-var-item'><div class='xr-index-name'><div>bar</div></div><div class='xr-index-preview'>PandasIndex</div><div></div><input id='index-ec1c8c90-eb7b-4904-a059-a3ed69513486' class='xr-index-data-in' type='checkbox'/><label for='index-ec1c8c90-eb7b-4904-a059-a3ed69513486' title='Show/Hide index repr'><svg class='icon xr-icon-database'><use xlink:href='#icon-database'></use></svg></label><div class='xr-index-data'><pre>PandasIndex(Index([&#x27;a&#x27;, &#x27;b&#x27;], dtype=&#x27;object&#x27;, name=&#x27;bar&#x27;))</pre></div></li><li class='xr-var-item'><div class='xr-index-name'><div>len</div></div><div class='xr-index-preview'>PandasIndex</div><div></div><input id='index-287e0811-b8c9-4851-90f8-586fa9f35719' class='xr-index-data-in' type='checkbox'/><label for='index-287e0811-b8c9-4851-90f8-586fa9f35719' title='Show/Hide index repr'><svg class='icon xr-icon-database'><use xlink:href='#icon-database'></use></svg></label><div class='xr-index-data'><pre>PandasIndex(Index([0, 1], dtype=&#x27;int64&#x27;, name=&#x27;len&#x27;))</pre></div></li></ul></div></li><li class='xr-section-item'><input id='section-98930d63-2b01-4efb-861c-aad6a2170abe' class='xr-section-summary-in' type='checkbox' disabled ><label for='section-98930d63-2b01-4efb-861c-aad6a2170abe' class='xr-section-summary'  title='Expand/collapse section'>Attributes: <span>(0)</span></label><div class='xr-section-inline-details'></div><div class='xr-section-details'><dl class='xr-attrs'></dl></div></li></ul></div></div>"
      ],
      "text/plain": [
       "<xarray.DataArray (len: 2, foo: 3, bar: 2)> Size: 96B\n",
       "array([[[0.923492  , 0.3996791 ],\n",
       "        [0.17201775, 0.64397635],\n",
       "        [0.7543588 , 0.33183856]],\n",
       "\n",
       "       [[0.21263591, 0.09656027],\n",
       "        [0.05580018, 0.45084774],\n",
       "        [0.79418151, 0.91474573]]])\n",
       "Coordinates:\n",
       "  * foo      (foo) int64 24B 1 2 3\n",
       "  * bar      (bar) <U1 8B 'a' 'b'\n",
       "  * len      (len) int64 16B 0 1"
      ]
     },
     "execution_count": null,
     "metadata": {},
     "output_type": "execute_result"
    }
   ],
   "source": [
    "_.array"
   ]
  },
  {
   "cell_type": "code",
   "execution_count": null,
   "metadata": {},
   "outputs": [
    {
     "data": {
      "text/html": [
       "{foo(3) ⨉ bar(2), time(2)}"
      ],
      "text/plain": [
       "XarrayVectorArray(\n",
       "    XarrayVectorSpace(\n",
       "        coords=Coordinates:\n",
       "                 * foo      (foo) int64 24B 1 2 3\n",
       "                 * bar      (bar) <U1 8B 'a' 'b',\n",
       "        name='baz'),\n",
       "    XarrayVectorArrayImpl(\n",
       "        <xarray.DataArray (time: 2, foo: 3, bar: 2)> Size: 96B\n",
       "        array([[[0.03698541, 0.14551635],\n",
       "                [0.06159524, 0.37300236],\n",
       "                [0.38861432, 0.28252291]],\n",
       "\n",
       "               [[0.65541593, 0.8470817 ],\n",
       "                [0.76857619, 0.51632566],\n",
       "                [0.57151238, 0.88109368]]])\n",
       "        Coordinates:\n",
       "          * foo      (foo) int64 24B 1 2 3\n",
       "          * bar      (bar) <U1 8B 'a' 'b'\n",
       "          * time     (time) int64 16B 5 7,\n",
       "        <xarray.DataArray 'baz' (foo: 3, bar: 2)> Size: 48B\n",
       "        array([[0., 0.],\n",
       "               [0., 0.],\n",
       "               [0., 0.]])\n",
       "        Coordinates:\n",
       "          * foo      (foo) int64 24B 1 2 3\n",
       "          * bar      (bar) <U1 8B 'a' 'b'),\n",
       "    _len=2)"
      ]
     },
     "execution_count": null,
     "metadata": {},
     "output_type": "execute_result"
    }
   ],
   "source": [
    "space.from_numpy(np.random.rand(space.dim * 2), extended_dim={'time': [5, 7]})"
   ]
  },
  {
   "cell_type": "code",
   "execution_count": null,
   "metadata": {},
   "outputs": [
    {
     "data": {
      "text/html": [
       "<div><svg style=\"position: absolute; width: 0; height: 0; overflow: hidden\">\n",
       "<defs>\n",
       "<symbol id=\"icon-database\" viewBox=\"0 0 32 32\">\n",
       "<path d=\"M16 0c-8.837 0-16 2.239-16 5v4c0 2.761 7.163 5 16 5s16-2.239 16-5v-4c0-2.761-7.163-5-16-5z\"></path>\n",
       "<path d=\"M16 17c-8.837 0-16-2.239-16-5v6c0 2.761 7.163 5 16 5s16-2.239 16-5v-6c0 2.761-7.163 5-16 5z\"></path>\n",
       "<path d=\"M16 26c-8.837 0-16-2.239-16-5v6c0 2.761 7.163 5 16 5s16-2.239 16-5v-6c0 2.761-7.163 5-16 5z\"></path>\n",
       "</symbol>\n",
       "<symbol id=\"icon-file-text2\" viewBox=\"0 0 32 32\">\n",
       "<path d=\"M28.681 7.159c-0.694-0.947-1.662-2.053-2.724-3.116s-2.169-2.030-3.116-2.724c-1.612-1.182-2.393-1.319-2.841-1.319h-15.5c-1.378 0-2.5 1.121-2.5 2.5v27c0 1.378 1.122 2.5 2.5 2.5h23c1.378 0 2.5-1.122 2.5-2.5v-19.5c0-0.448-0.137-1.23-1.319-2.841zM24.543 5.457c0.959 0.959 1.712 1.825 2.268 2.543h-4.811v-4.811c0.718 0.556 1.584 1.309 2.543 2.268zM28 29.5c0 0.271-0.229 0.5-0.5 0.5h-23c-0.271 0-0.5-0.229-0.5-0.5v-27c0-0.271 0.229-0.5 0.5-0.5 0 0 15.499-0 15.5 0v7c0 0.552 0.448 1 1 1h7v19.5z\"></path>\n",
       "<path d=\"M23 26h-14c-0.552 0-1-0.448-1-1s0.448-1 1-1h14c0.552 0 1 0.448 1 1s-0.448 1-1 1z\"></path>\n",
       "<path d=\"M23 22h-14c-0.552 0-1-0.448-1-1s0.448-1 1-1h14c0.552 0 1 0.448 1 1s-0.448 1-1 1z\"></path>\n",
       "<path d=\"M23 18h-14c-0.552 0-1-0.448-1-1s0.448-1 1-1h14c0.552 0 1 0.448 1 1s-0.448 1-1 1z\"></path>\n",
       "</symbol>\n",
       "</defs>\n",
       "</svg>\n",
       "<style>/* CSS stylesheet for displaying xarray objects in jupyterlab.\n",
       " *\n",
       " */\n",
       "\n",
       ":root {\n",
       "  --xr-font-color0: var(--jp-content-font-color0, rgba(0, 0, 0, 1));\n",
       "  --xr-font-color2: var(--jp-content-font-color2, rgba(0, 0, 0, 0.54));\n",
       "  --xr-font-color3: var(--jp-content-font-color3, rgba(0, 0, 0, 0.38));\n",
       "  --xr-border-color: var(--jp-border-color2, #e0e0e0);\n",
       "  --xr-disabled-color: var(--jp-layout-color3, #bdbdbd);\n",
       "  --xr-background-color: var(--jp-layout-color0, white);\n",
       "  --xr-background-color-row-even: var(--jp-layout-color1, white);\n",
       "  --xr-background-color-row-odd: var(--jp-layout-color2, #eeeeee);\n",
       "}\n",
       "\n",
       "html[theme=dark],\n",
       "html[data-theme=dark],\n",
       "body[data-theme=dark],\n",
       "body.vscode-dark {\n",
       "  --xr-font-color0: rgba(255, 255, 255, 1);\n",
       "  --xr-font-color2: rgba(255, 255, 255, 0.54);\n",
       "  --xr-font-color3: rgba(255, 255, 255, 0.38);\n",
       "  --xr-border-color: #1F1F1F;\n",
       "  --xr-disabled-color: #515151;\n",
       "  --xr-background-color: #111111;\n",
       "  --xr-background-color-row-even: #111111;\n",
       "  --xr-background-color-row-odd: #313131;\n",
       "}\n",
       "\n",
       ".xr-wrap {\n",
       "  display: block !important;\n",
       "  min-width: 300px;\n",
       "  max-width: 700px;\n",
       "}\n",
       "\n",
       ".xr-text-repr-fallback {\n",
       "  /* fallback to plain text repr when CSS is not injected (untrusted notebook) */\n",
       "  display: none;\n",
       "}\n",
       "\n",
       ".xr-header {\n",
       "  padding-top: 6px;\n",
       "  padding-bottom: 6px;\n",
       "  margin-bottom: 4px;\n",
       "  border-bottom: solid 1px var(--xr-border-color);\n",
       "}\n",
       "\n",
       ".xr-header > div,\n",
       ".xr-header > ul {\n",
       "  display: inline;\n",
       "  margin-top: 0;\n",
       "  margin-bottom: 0;\n",
       "}\n",
       "\n",
       ".xr-obj-type,\n",
       ".xr-array-name {\n",
       "  margin-left: 2px;\n",
       "  margin-right: 10px;\n",
       "}\n",
       "\n",
       ".xr-obj-type {\n",
       "  color: var(--xr-font-color2);\n",
       "}\n",
       "\n",
       ".xr-sections {\n",
       "  padding-left: 0 !important;\n",
       "  display: grid;\n",
       "  grid-template-columns: 150px auto auto 1fr 0 20px 0 20px;\n",
       "}\n",
       "\n",
       ".xr-section-item {\n",
       "  display: contents;\n",
       "}\n",
       "\n",
       ".xr-section-item input {\n",
       "  display: inline-block;\n",
       "  opacity: 0;\n",
       "}\n",
       "\n",
       ".xr-section-item input + label {\n",
       "  color: var(--xr-disabled-color);\n",
       "}\n",
       "\n",
       ".xr-section-item input:enabled + label {\n",
       "  cursor: pointer;\n",
       "  color: var(--xr-font-color2);\n",
       "}\n",
       "\n",
       ".xr-section-item input:focus + label {\n",
       "  border: 2px solid var(--xr-font-color0);\n",
       "}\n",
       "\n",
       ".xr-section-item input:enabled + label:hover {\n",
       "  color: var(--xr-font-color0);\n",
       "}\n",
       "\n",
       ".xr-section-summary {\n",
       "  grid-column: 1;\n",
       "  color: var(--xr-font-color2);\n",
       "  font-weight: 500;\n",
       "}\n",
       "\n",
       ".xr-section-summary > span {\n",
       "  display: inline-block;\n",
       "  padding-left: 0.5em;\n",
       "}\n",
       "\n",
       ".xr-section-summary-in:disabled + label {\n",
       "  color: var(--xr-font-color2);\n",
       "}\n",
       "\n",
       ".xr-section-summary-in + label:before {\n",
       "  display: inline-block;\n",
       "  content: '►';\n",
       "  font-size: 11px;\n",
       "  width: 15px;\n",
       "  text-align: center;\n",
       "}\n",
       "\n",
       ".xr-section-summary-in:disabled + label:before {\n",
       "  color: var(--xr-disabled-color);\n",
       "}\n",
       "\n",
       ".xr-section-summary-in:checked + label:before {\n",
       "  content: '▼';\n",
       "}\n",
       "\n",
       ".xr-section-summary-in:checked + label > span {\n",
       "  display: none;\n",
       "}\n",
       "\n",
       ".xr-section-summary,\n",
       ".xr-section-inline-details {\n",
       "  padding-top: 4px;\n",
       "  padding-bottom: 4px;\n",
       "}\n",
       "\n",
       ".xr-section-inline-details {\n",
       "  grid-column: 2 / -1;\n",
       "}\n",
       "\n",
       ".xr-section-details {\n",
       "  display: none;\n",
       "  grid-column: 1 / -1;\n",
       "  margin-bottom: 5px;\n",
       "}\n",
       "\n",
       ".xr-section-summary-in:checked ~ .xr-section-details {\n",
       "  display: contents;\n",
       "}\n",
       "\n",
       ".xr-array-wrap {\n",
       "  grid-column: 1 / -1;\n",
       "  display: grid;\n",
       "  grid-template-columns: 20px auto;\n",
       "}\n",
       "\n",
       ".xr-array-wrap > label {\n",
       "  grid-column: 1;\n",
       "  vertical-align: top;\n",
       "}\n",
       "\n",
       ".xr-preview {\n",
       "  color: var(--xr-font-color3);\n",
       "}\n",
       "\n",
       ".xr-array-preview,\n",
       ".xr-array-data {\n",
       "  padding: 0 5px !important;\n",
       "  grid-column: 2;\n",
       "}\n",
       "\n",
       ".xr-array-data,\n",
       ".xr-array-in:checked ~ .xr-array-preview {\n",
       "  display: none;\n",
       "}\n",
       "\n",
       ".xr-array-in:checked ~ .xr-array-data,\n",
       ".xr-array-preview {\n",
       "  display: inline-block;\n",
       "}\n",
       "\n",
       ".xr-dim-list {\n",
       "  display: inline-block !important;\n",
       "  list-style: none;\n",
       "  padding: 0 !important;\n",
       "  margin: 0;\n",
       "}\n",
       "\n",
       ".xr-dim-list li {\n",
       "  display: inline-block;\n",
       "  padding: 0;\n",
       "  margin: 0;\n",
       "}\n",
       "\n",
       ".xr-dim-list:before {\n",
       "  content: '(';\n",
       "}\n",
       "\n",
       ".xr-dim-list:after {\n",
       "  content: ')';\n",
       "}\n",
       "\n",
       ".xr-dim-list li:not(:last-child):after {\n",
       "  content: ',';\n",
       "  padding-right: 5px;\n",
       "}\n",
       "\n",
       ".xr-has-index {\n",
       "  font-weight: bold;\n",
       "}\n",
       "\n",
       ".xr-var-list,\n",
       ".xr-var-item {\n",
       "  display: contents;\n",
       "}\n",
       "\n",
       ".xr-var-item > div,\n",
       ".xr-var-item label,\n",
       ".xr-var-item > .xr-var-name span {\n",
       "  background-color: var(--xr-background-color-row-even);\n",
       "  margin-bottom: 0;\n",
       "}\n",
       "\n",
       ".xr-var-item > .xr-var-name:hover span {\n",
       "  padding-right: 5px;\n",
       "}\n",
       "\n",
       ".xr-var-list > li:nth-child(odd) > div,\n",
       ".xr-var-list > li:nth-child(odd) > label,\n",
       ".xr-var-list > li:nth-child(odd) > .xr-var-name span {\n",
       "  background-color: var(--xr-background-color-row-odd);\n",
       "}\n",
       "\n",
       ".xr-var-name {\n",
       "  grid-column: 1;\n",
       "}\n",
       "\n",
       ".xr-var-dims {\n",
       "  grid-column: 2;\n",
       "}\n",
       "\n",
       ".xr-var-dtype {\n",
       "  grid-column: 3;\n",
       "  text-align: right;\n",
       "  color: var(--xr-font-color2);\n",
       "}\n",
       "\n",
       ".xr-var-preview {\n",
       "  grid-column: 4;\n",
       "}\n",
       "\n",
       ".xr-index-preview {\n",
       "  grid-column: 2 / 5;\n",
       "  color: var(--xr-font-color2);\n",
       "}\n",
       "\n",
       ".xr-var-name,\n",
       ".xr-var-dims,\n",
       ".xr-var-dtype,\n",
       ".xr-preview,\n",
       ".xr-attrs dt {\n",
       "  white-space: nowrap;\n",
       "  overflow: hidden;\n",
       "  text-overflow: ellipsis;\n",
       "  padding-right: 10px;\n",
       "}\n",
       "\n",
       ".xr-var-name:hover,\n",
       ".xr-var-dims:hover,\n",
       ".xr-var-dtype:hover,\n",
       ".xr-attrs dt:hover {\n",
       "  overflow: visible;\n",
       "  width: auto;\n",
       "  z-index: 1;\n",
       "}\n",
       "\n",
       ".xr-var-attrs,\n",
       ".xr-var-data,\n",
       ".xr-index-data {\n",
       "  display: none;\n",
       "  background-color: var(--xr-background-color) !important;\n",
       "  padding-bottom: 5px !important;\n",
       "}\n",
       "\n",
       ".xr-var-attrs-in:checked ~ .xr-var-attrs,\n",
       ".xr-var-data-in:checked ~ .xr-var-data,\n",
       ".xr-index-data-in:checked ~ .xr-index-data {\n",
       "  display: block;\n",
       "}\n",
       "\n",
       ".xr-var-data > table {\n",
       "  float: right;\n",
       "}\n",
       "\n",
       ".xr-var-name span,\n",
       ".xr-var-data,\n",
       ".xr-index-name div,\n",
       ".xr-index-data,\n",
       ".xr-attrs {\n",
       "  padding-left: 25px !important;\n",
       "}\n",
       "\n",
       ".xr-attrs,\n",
       ".xr-var-attrs,\n",
       ".xr-var-data,\n",
       ".xr-index-data {\n",
       "  grid-column: 1 / -1;\n",
       "}\n",
       "\n",
       "dl.xr-attrs {\n",
       "  padding: 0;\n",
       "  margin: 0;\n",
       "  display: grid;\n",
       "  grid-template-columns: 125px auto;\n",
       "}\n",
       "\n",
       ".xr-attrs dt,\n",
       ".xr-attrs dd {\n",
       "  padding: 0;\n",
       "  margin: 0;\n",
       "  float: left;\n",
       "  padding-right: 10px;\n",
       "  width: auto;\n",
       "}\n",
       "\n",
       ".xr-attrs dt {\n",
       "  font-weight: normal;\n",
       "  grid-column: 1;\n",
       "}\n",
       "\n",
       ".xr-attrs dt:hover span {\n",
       "  display: inline-block;\n",
       "  background: var(--xr-background-color);\n",
       "  padding-right: 10px;\n",
       "}\n",
       "\n",
       ".xr-attrs dd {\n",
       "  grid-column: 2;\n",
       "  white-space: pre-wrap;\n",
       "  word-break: break-all;\n",
       "}\n",
       "\n",
       ".xr-icon-database,\n",
       ".xr-icon-file-text2,\n",
       ".xr-no-icon {\n",
       "  display: inline-block;\n",
       "  vertical-align: middle;\n",
       "  width: 1em;\n",
       "  height: 1.5em !important;\n",
       "  stroke-width: 0;\n",
       "  stroke: currentColor;\n",
       "  fill: currentColor;\n",
       "}\n",
       "</style><pre class='xr-text-repr-fallback'>&lt;xarray.DataArray (time: 2, foo: 3, bar: 2)&gt; Size: 96B\n",
       "array([[[0.03698541, 0.14551635],\n",
       "        [0.06159524, 0.37300236],\n",
       "        [0.38861432, 0.28252291]],\n",
       "\n",
       "       [[0.65541593, 0.8470817 ],\n",
       "        [0.76857619, 0.51632566],\n",
       "        [0.57151238, 0.88109368]]])\n",
       "Coordinates:\n",
       "  * foo      (foo) int64 24B 1 2 3\n",
       "  * bar      (bar) &lt;U1 8B &#x27;a&#x27; &#x27;b&#x27;\n",
       "  * time     (time) int64 16B 5 7</pre><div class='xr-wrap' style='display:none'><div class='xr-header'><div class='xr-obj-type'>xarray.DataArray</div><div class='xr-array-name'></div><ul class='xr-dim-list'><li><span class='xr-has-index'>time</span>: 2</li><li><span class='xr-has-index'>foo</span>: 3</li><li><span class='xr-has-index'>bar</span>: 2</li></ul></div><ul class='xr-sections'><li class='xr-section-item'><div class='xr-array-wrap'><input id='section-642ca7ba-61ad-4862-8f1a-fdd83fda8c39' class='xr-array-in' type='checkbox' checked><label for='section-642ca7ba-61ad-4862-8f1a-fdd83fda8c39' title='Show/hide data repr'><svg class='icon xr-icon-database'><use xlink:href='#icon-database'></use></svg></label><div class='xr-array-preview xr-preview'><span>0.03699 0.1455 0.0616 0.373 0.3886 ... 0.7686 0.5163 0.5715 0.8811</span></div><div class='xr-array-data'><pre>array([[[0.03698541, 0.14551635],\n",
       "        [0.06159524, 0.37300236],\n",
       "        [0.38861432, 0.28252291]],\n",
       "\n",
       "       [[0.65541593, 0.8470817 ],\n",
       "        [0.76857619, 0.51632566],\n",
       "        [0.57151238, 0.88109368]]])</pre></div></div></li><li class='xr-section-item'><input id='section-6205ee5b-d727-469b-9a6a-6bab59bb55ff' class='xr-section-summary-in' type='checkbox'  checked><label for='section-6205ee5b-d727-469b-9a6a-6bab59bb55ff' class='xr-section-summary' >Coordinates: <span>(3)</span></label><div class='xr-section-inline-details'></div><div class='xr-section-details'><ul class='xr-var-list'><li class='xr-var-item'><div class='xr-var-name'><span class='xr-has-index'>foo</span></div><div class='xr-var-dims'>(foo)</div><div class='xr-var-dtype'>int64</div><div class='xr-var-preview xr-preview'>1 2 3</div><input id='attrs-08adac7f-2d3e-479c-8600-770988aec719' class='xr-var-attrs-in' type='checkbox' disabled><label for='attrs-08adac7f-2d3e-479c-8600-770988aec719' title='Show/Hide attributes'><svg class='icon xr-icon-file-text2'><use xlink:href='#icon-file-text2'></use></svg></label><input id='data-572acbe5-02bf-41dc-862b-fff31d3dc790' class='xr-var-data-in' type='checkbox'><label for='data-572acbe5-02bf-41dc-862b-fff31d3dc790' title='Show/Hide data repr'><svg class='icon xr-icon-database'><use xlink:href='#icon-database'></use></svg></label><div class='xr-var-attrs'><dl class='xr-attrs'></dl></div><div class='xr-var-data'><pre>array([1, 2, 3])</pre></div></li><li class='xr-var-item'><div class='xr-var-name'><span class='xr-has-index'>bar</span></div><div class='xr-var-dims'>(bar)</div><div class='xr-var-dtype'>&lt;U1</div><div class='xr-var-preview xr-preview'>&#x27;a&#x27; &#x27;b&#x27;</div><input id='attrs-c03b7f3f-7817-4681-b0d6-d892f47815e3' class='xr-var-attrs-in' type='checkbox' disabled><label for='attrs-c03b7f3f-7817-4681-b0d6-d892f47815e3' title='Show/Hide attributes'><svg class='icon xr-icon-file-text2'><use xlink:href='#icon-file-text2'></use></svg></label><input id='data-09884ca1-ca84-4dfb-b919-5b395109f91e' class='xr-var-data-in' type='checkbox'><label for='data-09884ca1-ca84-4dfb-b919-5b395109f91e' title='Show/Hide data repr'><svg class='icon xr-icon-database'><use xlink:href='#icon-database'></use></svg></label><div class='xr-var-attrs'><dl class='xr-attrs'></dl></div><div class='xr-var-data'><pre>array([&#x27;a&#x27;, &#x27;b&#x27;], dtype=&#x27;&lt;U1&#x27;)</pre></div></li><li class='xr-var-item'><div class='xr-var-name'><span class='xr-has-index'>time</span></div><div class='xr-var-dims'>(time)</div><div class='xr-var-dtype'>int64</div><div class='xr-var-preview xr-preview'>5 7</div><input id='attrs-b26cdd89-3c38-439b-842e-32abb4503ad4' class='xr-var-attrs-in' type='checkbox' disabled><label for='attrs-b26cdd89-3c38-439b-842e-32abb4503ad4' title='Show/Hide attributes'><svg class='icon xr-icon-file-text2'><use xlink:href='#icon-file-text2'></use></svg></label><input id='data-080fb93b-e0ae-472a-8335-c20b7dd67e65' class='xr-var-data-in' type='checkbox'><label for='data-080fb93b-e0ae-472a-8335-c20b7dd67e65' title='Show/Hide data repr'><svg class='icon xr-icon-database'><use xlink:href='#icon-database'></use></svg></label><div class='xr-var-attrs'><dl class='xr-attrs'></dl></div><div class='xr-var-data'><pre>array([5, 7])</pre></div></li></ul></div></li><li class='xr-section-item'><input id='section-4169b896-157d-4393-b7f7-682b3c0058c9' class='xr-section-summary-in' type='checkbox'  ><label for='section-4169b896-157d-4393-b7f7-682b3c0058c9' class='xr-section-summary' >Indexes: <span>(3)</span></label><div class='xr-section-inline-details'></div><div class='xr-section-details'><ul class='xr-var-list'><li class='xr-var-item'><div class='xr-index-name'><div>foo</div></div><div class='xr-index-preview'>PandasIndex</div><div></div><input id='index-62b87acc-ad79-463d-a1a2-335df9d726b7' class='xr-index-data-in' type='checkbox'/><label for='index-62b87acc-ad79-463d-a1a2-335df9d726b7' title='Show/Hide index repr'><svg class='icon xr-icon-database'><use xlink:href='#icon-database'></use></svg></label><div class='xr-index-data'><pre>PandasIndex(Index([1, 2, 3], dtype=&#x27;int64&#x27;, name=&#x27;foo&#x27;))</pre></div></li><li class='xr-var-item'><div class='xr-index-name'><div>bar</div></div><div class='xr-index-preview'>PandasIndex</div><div></div><input id='index-40732ea0-12f1-4a21-b396-7535b7679177' class='xr-index-data-in' type='checkbox'/><label for='index-40732ea0-12f1-4a21-b396-7535b7679177' title='Show/Hide index repr'><svg class='icon xr-icon-database'><use xlink:href='#icon-database'></use></svg></label><div class='xr-index-data'><pre>PandasIndex(Index([&#x27;a&#x27;, &#x27;b&#x27;], dtype=&#x27;object&#x27;, name=&#x27;bar&#x27;))</pre></div></li><li class='xr-var-item'><div class='xr-index-name'><div>time</div></div><div class='xr-index-preview'>PandasIndex</div><div></div><input id='index-62458075-d4dd-4c64-ba5a-506094ac64d7' class='xr-index-data-in' type='checkbox'/><label for='index-62458075-d4dd-4c64-ba5a-506094ac64d7' title='Show/Hide index repr'><svg class='icon xr-icon-database'><use xlink:href='#icon-database'></use></svg></label><div class='xr-index-data'><pre>PandasIndex(Index([5, 7], dtype=&#x27;int64&#x27;, name=&#x27;time&#x27;))</pre></div></li></ul></div></li><li class='xr-section-item'><input id='section-6a8c6652-2b8b-4b22-bada-34992807c3ff' class='xr-section-summary-in' type='checkbox' disabled ><label for='section-6a8c6652-2b8b-4b22-bada-34992807c3ff' class='xr-section-summary'  title='Expand/collapse section'>Attributes: <span>(0)</span></label><div class='xr-section-inline-details'></div><div class='xr-section-details'><dl class='xr-attrs'></dl></div></li></ul></div></div>"
      ],
      "text/plain": [
       "<xarray.DataArray (time: 2, foo: 3, bar: 2)> Size: 96B\n",
       "array([[[0.03698541, 0.14551635],\n",
       "        [0.06159524, 0.37300236],\n",
       "        [0.38861432, 0.28252291]],\n",
       "\n",
       "       [[0.65541593, 0.8470817 ],\n",
       "        [0.76857619, 0.51632566],\n",
       "        [0.57151238, 0.88109368]]])\n",
       "Coordinates:\n",
       "  * foo      (foo) int64 24B 1 2 3\n",
       "  * bar      (bar) <U1 8B 'a' 'b'\n",
       "  * time     (time) int64 16B 5 7"
      ]
     },
     "execution_count": null,
     "metadata": {},
     "output_type": "execute_result"
    }
   ],
   "source": [
    "_.array"
   ]
  },
  {
   "cell_type": "markdown",
   "metadata": {},
   "source": [
    "### rename -\n"
   ]
  },
  {
   "cell_type": "code",
   "execution_count": null,
   "metadata": {},
   "outputs": [],
   "source": [
    "#| export\n",
    "@patch\n",
    "def rename(\n",
    "    self:XarrayVectorSpace,\n",
    "    new_name_or_name_dict=None,\n",
    "    **names,\n",
    "):\n",
    "    return XarrayVectorSpace(self._array.rename(new_name_or_name_dict, **names))"
   ]
  },
  {
   "cell_type": "code",
   "execution_count": null,
   "metadata": {},
   "outputs": [
    {
     "data": {
      "text/html": [
       "{A(2) ⨉ B(3)}"
      ],
      "text/plain": [
       "XarrayVectorSpace(\n",
       "    coords=Coordinates:\n",
       "             * A        (A) int64 16B 1 2\n",
       "             * B        (B) <U1 12B 'a' 'b' 'c',\n",
       "    name='boo')"
      ]
     },
     "execution_count": null,
     "metadata": {},
     "output_type": "execute_result"
    }
   ],
   "source": [
    "space = XarrayVectorSpace({'A': [1, 2], 'B': ['a', 'b', 'c']}, name='boo')\n",
    "space"
   ]
  },
  {
   "cell_type": "code",
   "execution_count": null,
   "metadata": {},
   "outputs": [
    {
     "data": {
      "text/plain": [
       "'boo'"
      ]
     },
     "execution_count": null,
     "metadata": {},
     "output_type": "execute_result"
    }
   ],
   "source": [
    "space.name"
   ]
  },
  {
   "cell_type": "code",
   "execution_count": null,
   "metadata": {},
   "outputs": [],
   "source": [
    "#|hide\n",
    "test_eq(_, 'boo')"
   ]
  },
  {
   "cell_type": "code",
   "execution_count": null,
   "metadata": {},
   "outputs": [
    {
     "data": {
      "text/plain": [
       "'foo'"
      ]
     },
     "execution_count": null,
     "metadata": {},
     "output_type": "execute_result"
    }
   ],
   "source": [
    "space.rename('foo').name"
   ]
  },
  {
   "cell_type": "code",
   "execution_count": null,
   "metadata": {},
   "outputs": [],
   "source": [
    "#|hide\n",
    "test_eq(_, 'foo')"
   ]
  },
  {
   "cell_type": "markdown",
   "metadata": {},
   "source": [
    "### concatenate -\n"
   ]
  },
  {
   "cell_type": "code",
   "execution_count": null,
   "metadata": {},
   "outputs": [],
   "source": [
    "#| export\n",
    "@patch\n",
    "def concatenate(self:XarrayVectorSpace, arrays, dim):\n",
    "    return self.from_xarray(xr.concat([array.array for array in arrays], Variable(first(dim), first(dim.values()))))"
   ]
  },
  {
   "cell_type": "markdown",
   "metadata": {},
   "source": [
    "### __eq__ -\n"
   ]
  },
  {
   "cell_type": "code",
   "execution_count": null,
   "metadata": {},
   "outputs": [],
   "source": [
    "#| export\n",
    "@patch\n",
    "def __eq__(self:XarrayVectorSpace, other):\n",
    "    return type(other) is type(self) and self._array.equals(other._array)"
   ]
  },
  {
   "cell_type": "code",
   "execution_count": null,
   "metadata": {},
   "outputs": [
    {
     "data": {
      "text/plain": [
       "True"
      ]
     },
     "execution_count": null,
     "metadata": {},
     "output_type": "execute_result"
    }
   ],
   "source": [
    "space == space"
   ]
  },
  {
   "cell_type": "code",
   "execution_count": null,
   "metadata": {},
   "outputs": [],
   "source": [
    "#|hide\n",
    "test_eq(_, True)"
   ]
  },
  {
   "cell_type": "code",
   "execution_count": null,
   "metadata": {},
   "outputs": [
    {
     "data": {
      "text/plain": [
       "True"
      ]
     },
     "execution_count": null,
     "metadata": {},
     "output_type": "execute_result"
    }
   ],
   "source": [
    "space == space.rename('foo')"
   ]
  },
  {
   "cell_type": "code",
   "execution_count": null,
   "metadata": {},
   "outputs": [],
   "source": [
    "#|hide\n",
    "test_eq(_, True)"
   ]
  },
  {
   "cell_type": "markdown",
   "metadata": {},
   "source": [
    "### __mul__ -\n"
   ]
  },
  {
   "cell_type": "code",
   "execution_count": null,
   "metadata": {},
   "outputs": [],
   "source": [
    "#| export\n",
    "@patch\n",
    "def __mul__(self:XarrayVectorSpace, other):\n",
    "    if not isinstance(other, XarrayVectorSpace): raise NotImplementedError\n",
    "    return XarrayVectorSpace((self._array * other._array).coords, name=other._array.name)"
   ]
  },
  {
   "cell_type": "code",
   "execution_count": null,
   "metadata": {},
   "outputs": [],
   "source": [
    "space2 = XarrayVectorSpace({'C': [1, 2], 'D': ['a', 'b', 'c']}, name='foo')"
   ]
  },
  {
   "cell_type": "code",
   "execution_count": null,
   "metadata": {},
   "outputs": [
    {
     "data": {
      "text/html": [
       "{A(2) ⨉ B(3) ⨉ C(2) ⨉ D(3)}"
      ],
      "text/plain": [
       "XarrayVectorSpace(\n",
       "    coords=Coordinates:\n",
       "             * A        (A) int64 16B 1 2\n",
       "             * B        (B) <U1 12B 'a' 'b' 'c'\n",
       "             * C        (C) int64 16B 1 2\n",
       "             * D        (D) <U1 12B 'a' 'b' 'c',\n",
       "    name='foo')"
      ]
     },
     "execution_count": null,
     "metadata": {},
     "output_type": "execute_result"
    }
   ],
   "source": [
    "space3 = space * space2\n",
    "space3"
   ]
  },
  {
   "cell_type": "code",
   "execution_count": null,
   "metadata": {},
   "outputs": [
    {
     "data": {
      "text/plain": [
       "True"
      ]
     },
     "execution_count": null,
     "metadata": {},
     "output_type": "execute_result"
    }
   ],
   "source": [
    "space3 == XarrayVectorSpace(space.coords + space2.coords)"
   ]
  },
  {
   "cell_type": "code",
   "execution_count": null,
   "metadata": {},
   "outputs": [],
   "source": [
    "#|hide\n",
    "test_eq(_, True)"
   ]
  },
  {
   "cell_type": "code",
   "execution_count": null,
   "metadata": {},
   "outputs": [
    {
     "data": {
      "text/plain": [
       "'foo'"
      ]
     },
     "execution_count": null,
     "metadata": {},
     "output_type": "execute_result"
    }
   ],
   "source": [
    "space3.name"
   ]
  },
  {
   "cell_type": "code",
   "execution_count": null,
   "metadata": {},
   "outputs": [],
   "source": [
    "#|hide\n",
    "test_eq(_, 'foo')"
   ]
  },
  {
   "cell_type": "code",
   "execution_count": null,
   "metadata": {},
   "outputs": [
    {
     "data": {
      "text/plain": [
       "True"
      ]
     },
     "execution_count": null,
     "metadata": {},
     "output_type": "execute_result"
    }
   ],
   "source": [
    "space2 * space2 == space2"
   ]
  },
  {
   "cell_type": "code",
   "execution_count": null,
   "metadata": {},
   "outputs": [],
   "source": [
    "#|hide\n",
    "test_eq(_, True)"
   ]
  },
  {
   "cell_type": "markdown",
   "metadata": {},
   "source": [
    "### __contains__ -\n"
   ]
  },
  {
   "cell_type": "code",
   "execution_count": null,
   "metadata": {},
   "outputs": [],
   "source": [
    "#| export\n",
    "@patch\n",
    "def __contains__(self:XarrayVectorSpace, other):\n",
    "    if isinstance(other, XarrayVectorSpace):\n",
    "        return self._array.coords.contain(other._array.coords)\n",
    "    elif isinstance(other, XarrayVectorArray):\n",
    "        return self._array.coords.contain(other.space._array.coords)\n",
    "    return False"
   ]
  },
  {
   "cell_type": "code",
   "execution_count": null,
   "metadata": {},
   "outputs": [
    {
     "data": {
      "text/plain": [
       "False"
      ]
     },
     "execution_count": null,
     "metadata": {},
     "output_type": "execute_result"
    }
   ],
   "source": [
    "space in space2"
   ]
  },
  {
   "cell_type": "code",
   "execution_count": null,
   "metadata": {},
   "outputs": [],
   "source": [
    "#|hide\n",
    "test_eq(_, False)"
   ]
  },
  {
   "cell_type": "code",
   "execution_count": null,
   "metadata": {},
   "outputs": [
    {
     "data": {
      "text/plain": [
       "True"
      ]
     },
     "execution_count": null,
     "metadata": {},
     "output_type": "execute_result"
    }
   ],
   "source": [
    "space in space"
   ]
  },
  {
   "cell_type": "code",
   "execution_count": null,
   "metadata": {},
   "outputs": [],
   "source": [
    "#|hide\n",
    "test_eq(_, True)"
   ]
  },
  {
   "cell_type": "code",
   "execution_count": null,
   "metadata": {},
   "outputs": [
    {
     "data": {
      "text/html": [
       "{A(2) ⨉ B(3), foo(2)}"
      ],
      "text/plain": [
       "XarrayVectorArray(\n",
       "    XarrayVectorSpace(\n",
       "        coords=Coordinates:\n",
       "                 * A        (A) int64 16B 1 2\n",
       "                 * B        (B) <U1 12B 'a' 'b' 'c',\n",
       "        name='boo'),\n",
       "    XarrayVectorArrayImpl(\n",
       "        <xarray.DataArray 'boo' (foo: 2, A: 2, B: 3)> Size: 96B\n",
       "        array([[[0., 0., 0.],\n",
       "                [0., 0., 0.]],\n",
       "\n",
       "               [[0., 0., 0.],\n",
       "                [0., 0., 0.]]])\n",
       "        Coordinates:\n",
       "          * foo      (foo) int64 16B 0 1\n",
       "          * A        (A) int64 16B 1 2\n",
       "          * B        (B) <U1 12B 'a' 'b' 'c',\n",
       "        <xarray.DataArray 'boo' (A: 2, B: 3)> Size: 48B\n",
       "        array([[0., 0., 0.],\n",
       "               [0., 0., 0.]])\n",
       "        Coordinates:\n",
       "          * A        (A) int64 16B 1 2\n",
       "          * B        (B) <U1 12B 'a' 'b' 'c'),\n",
       "    _len=2)"
      ]
     },
     "execution_count": null,
     "metadata": {},
     "output_type": "execute_result"
    }
   ],
   "source": [
    "U = space.zeros({'foo': range(2)})\n",
    "U"
   ]
  },
  {
   "cell_type": "code",
   "execution_count": null,
   "metadata": {},
   "outputs": [
    {
     "data": {
      "text/plain": [
       "True"
      ]
     },
     "execution_count": null,
     "metadata": {},
     "output_type": "execute_result"
    }
   ],
   "source": [
    "U in space"
   ]
  },
  {
   "cell_type": "code",
   "execution_count": null,
   "metadata": {},
   "outputs": [],
   "source": [
    "#|hide\n",
    "test_eq(_, True)"
   ]
  },
  {
   "cell_type": "markdown",
   "metadata": {},
   "source": [
    "## XarrayVectorArray"
   ]
  },
  {
   "cell_type": "markdown",
   "metadata": {},
   "source": [
    "### item -"
   ]
  },
  {
   "cell_type": "code",
   "execution_count": null,
   "metadata": {},
   "outputs": [],
   "source": [
    "#| export\n",
    "@patch\n",
    "def item(self:XarrayVectorArray):\n",
    "    \"\"\"Return the single value stored in the array if there is only one value.\"\"\"\n",
    "    return self.array.item()"
   ]
  },
  {
   "cell_type": "code",
   "execution_count": null,
   "metadata": {},
   "outputs": [
    {
     "data": {
      "text/plain": [
       "1.0"
      ]
     },
     "execution_count": null,
     "metadata": {},
     "output_type": "execute_result"
    }
   ],
   "source": [
    "XarrayVectorSpace({'i': [0]}).ones().item()"
   ]
  },
  {
   "cell_type": "code",
   "execution_count": null,
   "metadata": {},
   "outputs": [],
   "source": [
    "#| hide\n",
    "test_close(_, 1)"
   ]
  },
  {
   "cell_type": "markdown",
   "metadata": {},
   "source": [
    "### dims -\n"
   ]
  },
  {
   "cell_type": "code",
   "execution_count": null,
   "metadata": {},
   "outputs": [],
   "source": [
    "# #| export\n",
    "# @patch(as_prop=True)\n",
    "# def dims(self:XarrayVectorArray): return self.array.dims"
   ]
  },
  {
   "cell_type": "markdown",
   "metadata": {},
   "source": [
    "### extended_dims -\n"
   ]
  },
  {
   "cell_type": "code",
   "execution_count": null,
   "metadata": {},
   "outputs": [],
   "source": [
    "# #| export\n",
    "# @patch(as_prop=True)\n",
    "# def extended_dims(self:XarrayVectorArrayImpl):\n",
    "#     return tuple(dim for dim in self._array.dims if dim not in self.space_array.dims)\n",
    "\n",
    "# @patch(as_prop=True)\n",
    "# def extended_dims(self:XarrayVectorArray):\n",
    "#     return self.impl.extended_dims"
   ]
  },
  {
   "cell_type": "code",
   "execution_count": null,
   "metadata": {},
   "outputs": [
    {
     "data": {
      "text/markdown": [
       "---\n",
       "\n",
       "[source](https://github.com/simonkeys/pylgs/blob/main/pylgs/pymor/vectorarrays.py#L108){target=\"_blank\" style=\"float:right; font-size:smaller\"}\n",
       "\n",
       "### XarrayVectorArray.extended_dims\n",
       "\n",
       ">      XarrayVectorArray.extended_dims ()"
      ],
      "text/plain": [
       "---\n",
       "\n",
       "[source](https://github.com/simonkeys/pylgs/blob/main/pylgs/pymor/vectorarrays.py#L108){target=\"_blank\" style=\"float:right; font-size:smaller\"}\n",
       "\n",
       "### XarrayVectorArray.extended_dims\n",
       "\n",
       ">      XarrayVectorArray.extended_dims ()"
      ]
     },
     "execution_count": null,
     "metadata": {},
     "output_type": "execute_result"
    }
   ],
   "source": [
    "show_doc(XarrayVectorArray.extended_dims)"
   ]
  },
  {
   "cell_type": "code",
   "execution_count": null,
   "metadata": {},
   "outputs": [
    {
     "data": {
      "text/html": [
       "{A(2) ⨉ B(3), foo(2)}"
      ],
      "text/plain": [
       "XarrayVectorArray(\n",
       "    XarrayVectorSpace(\n",
       "        coords=Coordinates:\n",
       "                 * A        (A) int64 16B 1 2\n",
       "                 * B        (B) <U1 12B 'a' 'b' 'c',\n",
       "        name='boo'),\n",
       "    XarrayVectorArrayImpl(\n",
       "        <xarray.DataArray 'boo' (foo: 2, A: 2, B: 3)> Size: 96B\n",
       "        array([[[0., 0., 0.],\n",
       "                [0., 0., 0.]],\n",
       "\n",
       "               [[0., 0., 0.],\n",
       "                [0., 0., 0.]]])\n",
       "        Coordinates:\n",
       "          * foo      (foo) int64 16B 0 1\n",
       "          * A        (A) int64 16B 1 2\n",
       "          * B        (B) <U1 12B 'a' 'b' 'c',\n",
       "        <xarray.DataArray 'boo' (A: 2, B: 3)> Size: 48B\n",
       "        array([[0., 0., 0.],\n",
       "               [0., 0., 0.]])\n",
       "        Coordinates:\n",
       "          * A        (A) int64 16B 1 2\n",
       "          * B        (B) <U1 12B 'a' 'b' 'c'),\n",
       "    _len=2)"
      ]
     },
     "execution_count": null,
     "metadata": {},
     "output_type": "execute_result"
    }
   ],
   "source": [
    "U = space.zeros({'foo': range(2)})\n",
    "U"
   ]
  },
  {
   "cell_type": "code",
   "execution_count": null,
   "metadata": {},
   "outputs": [
    {
     "data": {
      "text/plain": [
       "('foo',)"
      ]
     },
     "execution_count": null,
     "metadata": {},
     "output_type": "execute_result"
    }
   ],
   "source": [
    "U.extended_dims"
   ]
  },
  {
   "cell_type": "code",
   "execution_count": null,
   "metadata": {},
   "outputs": [
    {
     "data": {
      "text/plain": [
       "('A', 'B')"
      ]
     },
     "execution_count": null,
     "metadata": {},
     "output_type": "execute_result"
    }
   ],
   "source": [
    "U.space.dims"
   ]
  },
  {
   "cell_type": "markdown",
   "metadata": {},
   "source": [
    "### stacked_array -\n"
   ]
  },
  {
   "cell_type": "code",
   "execution_count": null,
   "metadata": {},
   "outputs": [],
   "source": [
    "#| export\n",
    "#|hide\n",
    "@patch(as_prop=True)\n",
    "def stacked_array(self:XarrayVectorArrayImpl):\n",
    "    core = {'core': self.space_array.dims} if self.space_array.dims else {}\n",
    "    extended = {'extended': self.extended_dims} if self.extended_dims else {}\n",
    "    return self._array.stack(extended | core)"
   ]
  },
  {
   "cell_type": "code",
   "execution_count": null,
   "metadata": {},
   "outputs": [
    {
     "data": {
      "text/html": [
       "<div><svg style=\"position: absolute; width: 0; height: 0; overflow: hidden\">\n",
       "<defs>\n",
       "<symbol id=\"icon-database\" viewBox=\"0 0 32 32\">\n",
       "<path d=\"M16 0c-8.837 0-16 2.239-16 5v4c0 2.761 7.163 5 16 5s16-2.239 16-5v-4c0-2.761-7.163-5-16-5z\"></path>\n",
       "<path d=\"M16 17c-8.837 0-16-2.239-16-5v6c0 2.761 7.163 5 16 5s16-2.239 16-5v-6c0 2.761-7.163 5-16 5z\"></path>\n",
       "<path d=\"M16 26c-8.837 0-16-2.239-16-5v6c0 2.761 7.163 5 16 5s16-2.239 16-5v-6c0 2.761-7.163 5-16 5z\"></path>\n",
       "</symbol>\n",
       "<symbol id=\"icon-file-text2\" viewBox=\"0 0 32 32\">\n",
       "<path d=\"M28.681 7.159c-0.694-0.947-1.662-2.053-2.724-3.116s-2.169-2.030-3.116-2.724c-1.612-1.182-2.393-1.319-2.841-1.319h-15.5c-1.378 0-2.5 1.121-2.5 2.5v27c0 1.378 1.122 2.5 2.5 2.5h23c1.378 0 2.5-1.122 2.5-2.5v-19.5c0-0.448-0.137-1.23-1.319-2.841zM24.543 5.457c0.959 0.959 1.712 1.825 2.268 2.543h-4.811v-4.811c0.718 0.556 1.584 1.309 2.543 2.268zM28 29.5c0 0.271-0.229 0.5-0.5 0.5h-23c-0.271 0-0.5-0.229-0.5-0.5v-27c0-0.271 0.229-0.5 0.5-0.5 0 0 15.499-0 15.5 0v7c0 0.552 0.448 1 1 1h7v19.5z\"></path>\n",
       "<path d=\"M23 26h-14c-0.552 0-1-0.448-1-1s0.448-1 1-1h14c0.552 0 1 0.448 1 1s-0.448 1-1 1z\"></path>\n",
       "<path d=\"M23 22h-14c-0.552 0-1-0.448-1-1s0.448-1 1-1h14c0.552 0 1 0.448 1 1s-0.448 1-1 1z\"></path>\n",
       "<path d=\"M23 18h-14c-0.552 0-1-0.448-1-1s0.448-1 1-1h14c0.552 0 1 0.448 1 1s-0.448 1-1 1z\"></path>\n",
       "</symbol>\n",
       "</defs>\n",
       "</svg>\n",
       "<style>/* CSS stylesheet for displaying xarray objects in jupyterlab.\n",
       " *\n",
       " */\n",
       "\n",
       ":root {\n",
       "  --xr-font-color0: var(--jp-content-font-color0, rgba(0, 0, 0, 1));\n",
       "  --xr-font-color2: var(--jp-content-font-color2, rgba(0, 0, 0, 0.54));\n",
       "  --xr-font-color3: var(--jp-content-font-color3, rgba(0, 0, 0, 0.38));\n",
       "  --xr-border-color: var(--jp-border-color2, #e0e0e0);\n",
       "  --xr-disabled-color: var(--jp-layout-color3, #bdbdbd);\n",
       "  --xr-background-color: var(--jp-layout-color0, white);\n",
       "  --xr-background-color-row-even: var(--jp-layout-color1, white);\n",
       "  --xr-background-color-row-odd: var(--jp-layout-color2, #eeeeee);\n",
       "}\n",
       "\n",
       "html[theme=dark],\n",
       "html[data-theme=dark],\n",
       "body[data-theme=dark],\n",
       "body.vscode-dark {\n",
       "  --xr-font-color0: rgba(255, 255, 255, 1);\n",
       "  --xr-font-color2: rgba(255, 255, 255, 0.54);\n",
       "  --xr-font-color3: rgba(255, 255, 255, 0.38);\n",
       "  --xr-border-color: #1F1F1F;\n",
       "  --xr-disabled-color: #515151;\n",
       "  --xr-background-color: #111111;\n",
       "  --xr-background-color-row-even: #111111;\n",
       "  --xr-background-color-row-odd: #313131;\n",
       "}\n",
       "\n",
       ".xr-wrap {\n",
       "  display: block !important;\n",
       "  min-width: 300px;\n",
       "  max-width: 700px;\n",
       "}\n",
       "\n",
       ".xr-text-repr-fallback {\n",
       "  /* fallback to plain text repr when CSS is not injected (untrusted notebook) */\n",
       "  display: none;\n",
       "}\n",
       "\n",
       ".xr-header {\n",
       "  padding-top: 6px;\n",
       "  padding-bottom: 6px;\n",
       "  margin-bottom: 4px;\n",
       "  border-bottom: solid 1px var(--xr-border-color);\n",
       "}\n",
       "\n",
       ".xr-header > div,\n",
       ".xr-header > ul {\n",
       "  display: inline;\n",
       "  margin-top: 0;\n",
       "  margin-bottom: 0;\n",
       "}\n",
       "\n",
       ".xr-obj-type,\n",
       ".xr-array-name {\n",
       "  margin-left: 2px;\n",
       "  margin-right: 10px;\n",
       "}\n",
       "\n",
       ".xr-obj-type {\n",
       "  color: var(--xr-font-color2);\n",
       "}\n",
       "\n",
       ".xr-sections {\n",
       "  padding-left: 0 !important;\n",
       "  display: grid;\n",
       "  grid-template-columns: 150px auto auto 1fr 0 20px 0 20px;\n",
       "}\n",
       "\n",
       ".xr-section-item {\n",
       "  display: contents;\n",
       "}\n",
       "\n",
       ".xr-section-item input {\n",
       "  display: inline-block;\n",
       "  opacity: 0;\n",
       "}\n",
       "\n",
       ".xr-section-item input + label {\n",
       "  color: var(--xr-disabled-color);\n",
       "}\n",
       "\n",
       ".xr-section-item input:enabled + label {\n",
       "  cursor: pointer;\n",
       "  color: var(--xr-font-color2);\n",
       "}\n",
       "\n",
       ".xr-section-item input:focus + label {\n",
       "  border: 2px solid var(--xr-font-color0);\n",
       "}\n",
       "\n",
       ".xr-section-item input:enabled + label:hover {\n",
       "  color: var(--xr-font-color0);\n",
       "}\n",
       "\n",
       ".xr-section-summary {\n",
       "  grid-column: 1;\n",
       "  color: var(--xr-font-color2);\n",
       "  font-weight: 500;\n",
       "}\n",
       "\n",
       ".xr-section-summary > span {\n",
       "  display: inline-block;\n",
       "  padding-left: 0.5em;\n",
       "}\n",
       "\n",
       ".xr-section-summary-in:disabled + label {\n",
       "  color: var(--xr-font-color2);\n",
       "}\n",
       "\n",
       ".xr-section-summary-in + label:before {\n",
       "  display: inline-block;\n",
       "  content: '►';\n",
       "  font-size: 11px;\n",
       "  width: 15px;\n",
       "  text-align: center;\n",
       "}\n",
       "\n",
       ".xr-section-summary-in:disabled + label:before {\n",
       "  color: var(--xr-disabled-color);\n",
       "}\n",
       "\n",
       ".xr-section-summary-in:checked + label:before {\n",
       "  content: '▼';\n",
       "}\n",
       "\n",
       ".xr-section-summary-in:checked + label > span {\n",
       "  display: none;\n",
       "}\n",
       "\n",
       ".xr-section-summary,\n",
       ".xr-section-inline-details {\n",
       "  padding-top: 4px;\n",
       "  padding-bottom: 4px;\n",
       "}\n",
       "\n",
       ".xr-section-inline-details {\n",
       "  grid-column: 2 / -1;\n",
       "}\n",
       "\n",
       ".xr-section-details {\n",
       "  display: none;\n",
       "  grid-column: 1 / -1;\n",
       "  margin-bottom: 5px;\n",
       "}\n",
       "\n",
       ".xr-section-summary-in:checked ~ .xr-section-details {\n",
       "  display: contents;\n",
       "}\n",
       "\n",
       ".xr-array-wrap {\n",
       "  grid-column: 1 / -1;\n",
       "  display: grid;\n",
       "  grid-template-columns: 20px auto;\n",
       "}\n",
       "\n",
       ".xr-array-wrap > label {\n",
       "  grid-column: 1;\n",
       "  vertical-align: top;\n",
       "}\n",
       "\n",
       ".xr-preview {\n",
       "  color: var(--xr-font-color3);\n",
       "}\n",
       "\n",
       ".xr-array-preview,\n",
       ".xr-array-data {\n",
       "  padding: 0 5px !important;\n",
       "  grid-column: 2;\n",
       "}\n",
       "\n",
       ".xr-array-data,\n",
       ".xr-array-in:checked ~ .xr-array-preview {\n",
       "  display: none;\n",
       "}\n",
       "\n",
       ".xr-array-in:checked ~ .xr-array-data,\n",
       ".xr-array-preview {\n",
       "  display: inline-block;\n",
       "}\n",
       "\n",
       ".xr-dim-list {\n",
       "  display: inline-block !important;\n",
       "  list-style: none;\n",
       "  padding: 0 !important;\n",
       "  margin: 0;\n",
       "}\n",
       "\n",
       ".xr-dim-list li {\n",
       "  display: inline-block;\n",
       "  padding: 0;\n",
       "  margin: 0;\n",
       "}\n",
       "\n",
       ".xr-dim-list:before {\n",
       "  content: '(';\n",
       "}\n",
       "\n",
       ".xr-dim-list:after {\n",
       "  content: ')';\n",
       "}\n",
       "\n",
       ".xr-dim-list li:not(:last-child):after {\n",
       "  content: ',';\n",
       "  padding-right: 5px;\n",
       "}\n",
       "\n",
       ".xr-has-index {\n",
       "  font-weight: bold;\n",
       "}\n",
       "\n",
       ".xr-var-list,\n",
       ".xr-var-item {\n",
       "  display: contents;\n",
       "}\n",
       "\n",
       ".xr-var-item > div,\n",
       ".xr-var-item label,\n",
       ".xr-var-item > .xr-var-name span {\n",
       "  background-color: var(--xr-background-color-row-even);\n",
       "  margin-bottom: 0;\n",
       "}\n",
       "\n",
       ".xr-var-item > .xr-var-name:hover span {\n",
       "  padding-right: 5px;\n",
       "}\n",
       "\n",
       ".xr-var-list > li:nth-child(odd) > div,\n",
       ".xr-var-list > li:nth-child(odd) > label,\n",
       ".xr-var-list > li:nth-child(odd) > .xr-var-name span {\n",
       "  background-color: var(--xr-background-color-row-odd);\n",
       "}\n",
       "\n",
       ".xr-var-name {\n",
       "  grid-column: 1;\n",
       "}\n",
       "\n",
       ".xr-var-dims {\n",
       "  grid-column: 2;\n",
       "}\n",
       "\n",
       ".xr-var-dtype {\n",
       "  grid-column: 3;\n",
       "  text-align: right;\n",
       "  color: var(--xr-font-color2);\n",
       "}\n",
       "\n",
       ".xr-var-preview {\n",
       "  grid-column: 4;\n",
       "}\n",
       "\n",
       ".xr-index-preview {\n",
       "  grid-column: 2 / 5;\n",
       "  color: var(--xr-font-color2);\n",
       "}\n",
       "\n",
       ".xr-var-name,\n",
       ".xr-var-dims,\n",
       ".xr-var-dtype,\n",
       ".xr-preview,\n",
       ".xr-attrs dt {\n",
       "  white-space: nowrap;\n",
       "  overflow: hidden;\n",
       "  text-overflow: ellipsis;\n",
       "  padding-right: 10px;\n",
       "}\n",
       "\n",
       ".xr-var-name:hover,\n",
       ".xr-var-dims:hover,\n",
       ".xr-var-dtype:hover,\n",
       ".xr-attrs dt:hover {\n",
       "  overflow: visible;\n",
       "  width: auto;\n",
       "  z-index: 1;\n",
       "}\n",
       "\n",
       ".xr-var-attrs,\n",
       ".xr-var-data,\n",
       ".xr-index-data {\n",
       "  display: none;\n",
       "  background-color: var(--xr-background-color) !important;\n",
       "  padding-bottom: 5px !important;\n",
       "}\n",
       "\n",
       ".xr-var-attrs-in:checked ~ .xr-var-attrs,\n",
       ".xr-var-data-in:checked ~ .xr-var-data,\n",
       ".xr-index-data-in:checked ~ .xr-index-data {\n",
       "  display: block;\n",
       "}\n",
       "\n",
       ".xr-var-data > table {\n",
       "  float: right;\n",
       "}\n",
       "\n",
       ".xr-var-name span,\n",
       ".xr-var-data,\n",
       ".xr-index-name div,\n",
       ".xr-index-data,\n",
       ".xr-attrs {\n",
       "  padding-left: 25px !important;\n",
       "}\n",
       "\n",
       ".xr-attrs,\n",
       ".xr-var-attrs,\n",
       ".xr-var-data,\n",
       ".xr-index-data {\n",
       "  grid-column: 1 / -1;\n",
       "}\n",
       "\n",
       "dl.xr-attrs {\n",
       "  padding: 0;\n",
       "  margin: 0;\n",
       "  display: grid;\n",
       "  grid-template-columns: 125px auto;\n",
       "}\n",
       "\n",
       ".xr-attrs dt,\n",
       ".xr-attrs dd {\n",
       "  padding: 0;\n",
       "  margin: 0;\n",
       "  float: left;\n",
       "  padding-right: 10px;\n",
       "  width: auto;\n",
       "}\n",
       "\n",
       ".xr-attrs dt {\n",
       "  font-weight: normal;\n",
       "  grid-column: 1;\n",
       "}\n",
       "\n",
       ".xr-attrs dt:hover span {\n",
       "  display: inline-block;\n",
       "  background: var(--xr-background-color);\n",
       "  padding-right: 10px;\n",
       "}\n",
       "\n",
       ".xr-attrs dd {\n",
       "  grid-column: 2;\n",
       "  white-space: pre-wrap;\n",
       "  word-break: break-all;\n",
       "}\n",
       "\n",
       ".xr-icon-database,\n",
       ".xr-icon-file-text2,\n",
       ".xr-no-icon {\n",
       "  display: inline-block;\n",
       "  vertical-align: middle;\n",
       "  width: 1em;\n",
       "  height: 1.5em !important;\n",
       "  stroke-width: 0;\n",
       "  stroke: currentColor;\n",
       "  fill: currentColor;\n",
       "}\n",
       "</style><pre class='xr-text-repr-fallback'>&lt;xarray.DataArray &#x27;boo&#x27; (extended: 2, core: 6)&gt; Size: 96B\n",
       "array([[0., 0., 0., 0., 0., 0.],\n",
       "       [0., 0., 0., 0., 0., 0.]])\n",
       "Coordinates:\n",
       "  * extended  (extended) object 16B MultiIndex\n",
       "  * foo       (extended) int64 16B 0 1\n",
       "  * core      (core) object 48B MultiIndex\n",
       "  * A         (core) int64 48B 1 1 1 2 2 2\n",
       "  * B         (core) &lt;U1 24B &#x27;a&#x27; &#x27;b&#x27; &#x27;c&#x27; &#x27;a&#x27; &#x27;b&#x27; &#x27;c&#x27;</pre><div class='xr-wrap' style='display:none'><div class='xr-header'><div class='xr-obj-type'>xarray.DataArray</div><div class='xr-array-name'>'boo'</div><ul class='xr-dim-list'><li><span class='xr-has-index'>extended</span>: 2</li><li><span class='xr-has-index'>core</span>: 6</li></ul></div><ul class='xr-sections'><li class='xr-section-item'><div class='xr-array-wrap'><input id='section-7f0a44fd-369b-4ced-803f-fd396bdd90fe' class='xr-array-in' type='checkbox' checked><label for='section-7f0a44fd-369b-4ced-803f-fd396bdd90fe' title='Show/hide data repr'><svg class='icon xr-icon-database'><use xlink:href='#icon-database'></use></svg></label><div class='xr-array-preview xr-preview'><span>0.0 0.0 0.0 0.0 0.0 0.0 0.0 0.0 0.0 0.0 0.0 0.0</span></div><div class='xr-array-data'><pre>array([[0., 0., 0., 0., 0., 0.],\n",
       "       [0., 0., 0., 0., 0., 0.]])</pre></div></div></li><li class='xr-section-item'><input id='section-f7f41ac7-1ee1-4b80-ab7e-3500d82865f8' class='xr-section-summary-in' type='checkbox'  checked><label for='section-f7f41ac7-1ee1-4b80-ab7e-3500d82865f8' class='xr-section-summary' >Coordinates: <span>(5)</span></label><div class='xr-section-inline-details'></div><div class='xr-section-details'><ul class='xr-var-list'><li class='xr-var-item'><div class='xr-var-name'><span class='xr-has-index'>extended</span></div><div class='xr-var-dims'>(extended)</div><div class='xr-var-dtype'>object</div><div class='xr-var-preview xr-preview'>MultiIndex</div><input id='attrs-516f6e0e-2b4b-4ea6-84c0-1029d6625665' class='xr-var-attrs-in' type='checkbox' disabled><label for='attrs-516f6e0e-2b4b-4ea6-84c0-1029d6625665' title='Show/Hide attributes'><svg class='icon xr-icon-file-text2'><use xlink:href='#icon-file-text2'></use></svg></label><input id='data-cc48ec99-13b6-4088-a100-a9cee2085b18' class='xr-var-data-in' type='checkbox'><label for='data-cc48ec99-13b6-4088-a100-a9cee2085b18' title='Show/Hide data repr'><svg class='icon xr-icon-database'><use xlink:href='#icon-database'></use></svg></label><div class='xr-var-attrs'><dl class='xr-attrs'></dl></div><div class='xr-var-data'><pre>array([(0,), (1,)], dtype=object)</pre></div></li><li class='xr-var-item'><div class='xr-var-name'><span class='xr-has-index'>foo</span></div><div class='xr-var-dims'>(extended)</div><div class='xr-var-dtype'>int64</div><div class='xr-var-preview xr-preview'>0 1</div><input id='attrs-8c6dc13b-064a-4213-8bc2-b0c9475a07e5' class='xr-var-attrs-in' type='checkbox' disabled><label for='attrs-8c6dc13b-064a-4213-8bc2-b0c9475a07e5' title='Show/Hide attributes'><svg class='icon xr-icon-file-text2'><use xlink:href='#icon-file-text2'></use></svg></label><input id='data-4497d956-702e-4c69-8776-6912a8968b55' class='xr-var-data-in' type='checkbox'><label for='data-4497d956-702e-4c69-8776-6912a8968b55' title='Show/Hide data repr'><svg class='icon xr-icon-database'><use xlink:href='#icon-database'></use></svg></label><div class='xr-var-attrs'><dl class='xr-attrs'></dl></div><div class='xr-var-data'><pre>array([0, 1])</pre></div></li><li class='xr-var-item'><div class='xr-var-name'><span class='xr-has-index'>core</span></div><div class='xr-var-dims'>(core)</div><div class='xr-var-dtype'>object</div><div class='xr-var-preview xr-preview'>MultiIndex</div><input id='attrs-f20cf9f8-8b80-4423-847a-018498f4f664' class='xr-var-attrs-in' type='checkbox' disabled><label for='attrs-f20cf9f8-8b80-4423-847a-018498f4f664' title='Show/Hide attributes'><svg class='icon xr-icon-file-text2'><use xlink:href='#icon-file-text2'></use></svg></label><input id='data-ebf5f046-ffd0-4c43-a4b3-a2365f67a625' class='xr-var-data-in' type='checkbox'><label for='data-ebf5f046-ffd0-4c43-a4b3-a2365f67a625' title='Show/Hide data repr'><svg class='icon xr-icon-database'><use xlink:href='#icon-database'></use></svg></label><div class='xr-var-attrs'><dl class='xr-attrs'></dl></div><div class='xr-var-data'><pre>array([(1, &#x27;a&#x27;), (1, &#x27;b&#x27;), (1, &#x27;c&#x27;), (2, &#x27;a&#x27;), (2, &#x27;b&#x27;), (2, &#x27;c&#x27;)],\n",
       "      dtype=object)</pre></div></li><li class='xr-var-item'><div class='xr-var-name'><span class='xr-has-index'>A</span></div><div class='xr-var-dims'>(core)</div><div class='xr-var-dtype'>int64</div><div class='xr-var-preview xr-preview'>1 1 1 2 2 2</div><input id='attrs-22fe07a0-6146-46d3-b811-6060591e2b16' class='xr-var-attrs-in' type='checkbox' disabled><label for='attrs-22fe07a0-6146-46d3-b811-6060591e2b16' title='Show/Hide attributes'><svg class='icon xr-icon-file-text2'><use xlink:href='#icon-file-text2'></use></svg></label><input id='data-b23c97c1-813e-4e43-a303-31a52798f30e' class='xr-var-data-in' type='checkbox'><label for='data-b23c97c1-813e-4e43-a303-31a52798f30e' title='Show/Hide data repr'><svg class='icon xr-icon-database'><use xlink:href='#icon-database'></use></svg></label><div class='xr-var-attrs'><dl class='xr-attrs'></dl></div><div class='xr-var-data'><pre>array([1, 1, 1, 2, 2, 2])</pre></div></li><li class='xr-var-item'><div class='xr-var-name'><span class='xr-has-index'>B</span></div><div class='xr-var-dims'>(core)</div><div class='xr-var-dtype'>&lt;U1</div><div class='xr-var-preview xr-preview'>&#x27;a&#x27; &#x27;b&#x27; &#x27;c&#x27; &#x27;a&#x27; &#x27;b&#x27; &#x27;c&#x27;</div><input id='attrs-bcfe8585-d38b-4fdd-8344-29722d439c92' class='xr-var-attrs-in' type='checkbox' disabled><label for='attrs-bcfe8585-d38b-4fdd-8344-29722d439c92' title='Show/Hide attributes'><svg class='icon xr-icon-file-text2'><use xlink:href='#icon-file-text2'></use></svg></label><input id='data-c8b0830c-0110-403e-a7be-c28c9e504676' class='xr-var-data-in' type='checkbox'><label for='data-c8b0830c-0110-403e-a7be-c28c9e504676' title='Show/Hide data repr'><svg class='icon xr-icon-database'><use xlink:href='#icon-database'></use></svg></label><div class='xr-var-attrs'><dl class='xr-attrs'></dl></div><div class='xr-var-data'><pre>array([&#x27;a&#x27;, &#x27;b&#x27;, &#x27;c&#x27;, &#x27;a&#x27;, &#x27;b&#x27;, &#x27;c&#x27;], dtype=&#x27;&lt;U1&#x27;)</pre></div></li></ul></div></li><li class='xr-section-item'><input id='section-241b4b5c-8769-42a8-a0cc-7fc9be560551' class='xr-section-summary-in' type='checkbox'  ><label for='section-241b4b5c-8769-42a8-a0cc-7fc9be560551' class='xr-section-summary' >Indexes: <span>(2)</span></label><div class='xr-section-inline-details'></div><div class='xr-section-details'><ul class='xr-var-list'><li class='xr-var-item'><div class='xr-index-name'><div>extended<br>foo</div></div><div class='xr-index-preview'>PandasMultiIndex</div><div></div><input id='index-5c6685a7-8b62-42f1-9a02-bff0b0d28cff' class='xr-index-data-in' type='checkbox'/><label for='index-5c6685a7-8b62-42f1-9a02-bff0b0d28cff' title='Show/Hide index repr'><svg class='icon xr-icon-database'><use xlink:href='#icon-database'></use></svg></label><div class='xr-index-data'><pre>PandasIndex(MultiIndex([(0,),\n",
       "            (1,)],\n",
       "           name=&#x27;extended&#x27;))</pre></div></li><li class='xr-var-item'><div class='xr-index-name'><div>core<br>A<br>B</div></div><div class='xr-index-preview'>PandasMultiIndex</div><div></div><input id='index-9448b978-f3b1-4776-87c9-c2ce8516dc38' class='xr-index-data-in' type='checkbox'/><label for='index-9448b978-f3b1-4776-87c9-c2ce8516dc38' title='Show/Hide index repr'><svg class='icon xr-icon-database'><use xlink:href='#icon-database'></use></svg></label><div class='xr-index-data'><pre>PandasIndex(MultiIndex([(1, &#x27;a&#x27;),\n",
       "            (1, &#x27;b&#x27;),\n",
       "            (1, &#x27;c&#x27;),\n",
       "            (2, &#x27;a&#x27;),\n",
       "            (2, &#x27;b&#x27;),\n",
       "            (2, &#x27;c&#x27;)],\n",
       "           name=&#x27;core&#x27;))</pre></div></li></ul></div></li><li class='xr-section-item'><input id='section-e8568400-ce21-43c5-b6fb-75f1c7749c3b' class='xr-section-summary-in' type='checkbox' disabled ><label for='section-e8568400-ce21-43c5-b6fb-75f1c7749c3b' class='xr-section-summary'  title='Expand/collapse section'>Attributes: <span>(0)</span></label><div class='xr-section-inline-details'></div><div class='xr-section-details'><dl class='xr-attrs'></dl></div></li></ul></div></div>"
      ],
      "text/plain": [
       "<xarray.DataArray 'boo' (extended: 2, core: 6)> Size: 96B\n",
       "array([[0., 0., 0., 0., 0., 0.],\n",
       "       [0., 0., 0., 0., 0., 0.]])\n",
       "Coordinates:\n",
       "  * extended  (extended) object 16B MultiIndex\n",
       "  * foo       (extended) int64 16B 0 1\n",
       "  * core      (core) object 48B MultiIndex\n",
       "  * A         (core) int64 48B 1 1 1 2 2 2\n",
       "  * B         (core) <U1 24B 'a' 'b' 'c' 'a' 'b' 'c'"
      ]
     },
     "execution_count": null,
     "metadata": {},
     "output_type": "execute_result"
    }
   ],
   "source": [
    "#|hide\n",
    "U.impl.stacked_array"
   ]
  },
  {
   "cell_type": "code",
   "execution_count": null,
   "metadata": {},
   "outputs": [],
   "source": [
    "#|hide\n",
    "test_da(\"stacked_array1\", _.reset_index([\"extended\", \"core\"]))"
   ]
  },
  {
   "cell_type": "code",
   "execution_count": null,
   "metadata": {},
   "outputs": [
    {
     "data": {
      "text/html": [
       "<div><svg style=\"position: absolute; width: 0; height: 0; overflow: hidden\">\n",
       "<defs>\n",
       "<symbol id=\"icon-database\" viewBox=\"0 0 32 32\">\n",
       "<path d=\"M16 0c-8.837 0-16 2.239-16 5v4c0 2.761 7.163 5 16 5s16-2.239 16-5v-4c0-2.761-7.163-5-16-5z\"></path>\n",
       "<path d=\"M16 17c-8.837 0-16-2.239-16-5v6c0 2.761 7.163 5 16 5s16-2.239 16-5v-6c0 2.761-7.163 5-16 5z\"></path>\n",
       "<path d=\"M16 26c-8.837 0-16-2.239-16-5v6c0 2.761 7.163 5 16 5s16-2.239 16-5v-6c0 2.761-7.163 5-16 5z\"></path>\n",
       "</symbol>\n",
       "<symbol id=\"icon-file-text2\" viewBox=\"0 0 32 32\">\n",
       "<path d=\"M28.681 7.159c-0.694-0.947-1.662-2.053-2.724-3.116s-2.169-2.030-3.116-2.724c-1.612-1.182-2.393-1.319-2.841-1.319h-15.5c-1.378 0-2.5 1.121-2.5 2.5v27c0 1.378 1.122 2.5 2.5 2.5h23c1.378 0 2.5-1.122 2.5-2.5v-19.5c0-0.448-0.137-1.23-1.319-2.841zM24.543 5.457c0.959 0.959 1.712 1.825 2.268 2.543h-4.811v-4.811c0.718 0.556 1.584 1.309 2.543 2.268zM28 29.5c0 0.271-0.229 0.5-0.5 0.5h-23c-0.271 0-0.5-0.229-0.5-0.5v-27c0-0.271 0.229-0.5 0.5-0.5 0 0 15.499-0 15.5 0v7c0 0.552 0.448 1 1 1h7v19.5z\"></path>\n",
       "<path d=\"M23 26h-14c-0.552 0-1-0.448-1-1s0.448-1 1-1h14c0.552 0 1 0.448 1 1s-0.448 1-1 1z\"></path>\n",
       "<path d=\"M23 22h-14c-0.552 0-1-0.448-1-1s0.448-1 1-1h14c0.552 0 1 0.448 1 1s-0.448 1-1 1z\"></path>\n",
       "<path d=\"M23 18h-14c-0.552 0-1-0.448-1-1s0.448-1 1-1h14c0.552 0 1 0.448 1 1s-0.448 1-1 1z\"></path>\n",
       "</symbol>\n",
       "</defs>\n",
       "</svg>\n",
       "<style>/* CSS stylesheet for displaying xarray objects in jupyterlab.\n",
       " *\n",
       " */\n",
       "\n",
       ":root {\n",
       "  --xr-font-color0: var(--jp-content-font-color0, rgba(0, 0, 0, 1));\n",
       "  --xr-font-color2: var(--jp-content-font-color2, rgba(0, 0, 0, 0.54));\n",
       "  --xr-font-color3: var(--jp-content-font-color3, rgba(0, 0, 0, 0.38));\n",
       "  --xr-border-color: var(--jp-border-color2, #e0e0e0);\n",
       "  --xr-disabled-color: var(--jp-layout-color3, #bdbdbd);\n",
       "  --xr-background-color: var(--jp-layout-color0, white);\n",
       "  --xr-background-color-row-even: var(--jp-layout-color1, white);\n",
       "  --xr-background-color-row-odd: var(--jp-layout-color2, #eeeeee);\n",
       "}\n",
       "\n",
       "html[theme=dark],\n",
       "html[data-theme=dark],\n",
       "body[data-theme=dark],\n",
       "body.vscode-dark {\n",
       "  --xr-font-color0: rgba(255, 255, 255, 1);\n",
       "  --xr-font-color2: rgba(255, 255, 255, 0.54);\n",
       "  --xr-font-color3: rgba(255, 255, 255, 0.38);\n",
       "  --xr-border-color: #1F1F1F;\n",
       "  --xr-disabled-color: #515151;\n",
       "  --xr-background-color: #111111;\n",
       "  --xr-background-color-row-even: #111111;\n",
       "  --xr-background-color-row-odd: #313131;\n",
       "}\n",
       "\n",
       ".xr-wrap {\n",
       "  display: block !important;\n",
       "  min-width: 300px;\n",
       "  max-width: 700px;\n",
       "}\n",
       "\n",
       ".xr-text-repr-fallback {\n",
       "  /* fallback to plain text repr when CSS is not injected (untrusted notebook) */\n",
       "  display: none;\n",
       "}\n",
       "\n",
       ".xr-header {\n",
       "  padding-top: 6px;\n",
       "  padding-bottom: 6px;\n",
       "  margin-bottom: 4px;\n",
       "  border-bottom: solid 1px var(--xr-border-color);\n",
       "}\n",
       "\n",
       ".xr-header > div,\n",
       ".xr-header > ul {\n",
       "  display: inline;\n",
       "  margin-top: 0;\n",
       "  margin-bottom: 0;\n",
       "}\n",
       "\n",
       ".xr-obj-type,\n",
       ".xr-array-name {\n",
       "  margin-left: 2px;\n",
       "  margin-right: 10px;\n",
       "}\n",
       "\n",
       ".xr-obj-type {\n",
       "  color: var(--xr-font-color2);\n",
       "}\n",
       "\n",
       ".xr-sections {\n",
       "  padding-left: 0 !important;\n",
       "  display: grid;\n",
       "  grid-template-columns: 150px auto auto 1fr 0 20px 0 20px;\n",
       "}\n",
       "\n",
       ".xr-section-item {\n",
       "  display: contents;\n",
       "}\n",
       "\n",
       ".xr-section-item input {\n",
       "  display: inline-block;\n",
       "  opacity: 0;\n",
       "}\n",
       "\n",
       ".xr-section-item input + label {\n",
       "  color: var(--xr-disabled-color);\n",
       "}\n",
       "\n",
       ".xr-section-item input:enabled + label {\n",
       "  cursor: pointer;\n",
       "  color: var(--xr-font-color2);\n",
       "}\n",
       "\n",
       ".xr-section-item input:focus + label {\n",
       "  border: 2px solid var(--xr-font-color0);\n",
       "}\n",
       "\n",
       ".xr-section-item input:enabled + label:hover {\n",
       "  color: var(--xr-font-color0);\n",
       "}\n",
       "\n",
       ".xr-section-summary {\n",
       "  grid-column: 1;\n",
       "  color: var(--xr-font-color2);\n",
       "  font-weight: 500;\n",
       "}\n",
       "\n",
       ".xr-section-summary > span {\n",
       "  display: inline-block;\n",
       "  padding-left: 0.5em;\n",
       "}\n",
       "\n",
       ".xr-section-summary-in:disabled + label {\n",
       "  color: var(--xr-font-color2);\n",
       "}\n",
       "\n",
       ".xr-section-summary-in + label:before {\n",
       "  display: inline-block;\n",
       "  content: '►';\n",
       "  font-size: 11px;\n",
       "  width: 15px;\n",
       "  text-align: center;\n",
       "}\n",
       "\n",
       ".xr-section-summary-in:disabled + label:before {\n",
       "  color: var(--xr-disabled-color);\n",
       "}\n",
       "\n",
       ".xr-section-summary-in:checked + label:before {\n",
       "  content: '▼';\n",
       "}\n",
       "\n",
       ".xr-section-summary-in:checked + label > span {\n",
       "  display: none;\n",
       "}\n",
       "\n",
       ".xr-section-summary,\n",
       ".xr-section-inline-details {\n",
       "  padding-top: 4px;\n",
       "  padding-bottom: 4px;\n",
       "}\n",
       "\n",
       ".xr-section-inline-details {\n",
       "  grid-column: 2 / -1;\n",
       "}\n",
       "\n",
       ".xr-section-details {\n",
       "  display: none;\n",
       "  grid-column: 1 / -1;\n",
       "  margin-bottom: 5px;\n",
       "}\n",
       "\n",
       ".xr-section-summary-in:checked ~ .xr-section-details {\n",
       "  display: contents;\n",
       "}\n",
       "\n",
       ".xr-array-wrap {\n",
       "  grid-column: 1 / -1;\n",
       "  display: grid;\n",
       "  grid-template-columns: 20px auto;\n",
       "}\n",
       "\n",
       ".xr-array-wrap > label {\n",
       "  grid-column: 1;\n",
       "  vertical-align: top;\n",
       "}\n",
       "\n",
       ".xr-preview {\n",
       "  color: var(--xr-font-color3);\n",
       "}\n",
       "\n",
       ".xr-array-preview,\n",
       ".xr-array-data {\n",
       "  padding: 0 5px !important;\n",
       "  grid-column: 2;\n",
       "}\n",
       "\n",
       ".xr-array-data,\n",
       ".xr-array-in:checked ~ .xr-array-preview {\n",
       "  display: none;\n",
       "}\n",
       "\n",
       ".xr-array-in:checked ~ .xr-array-data,\n",
       ".xr-array-preview {\n",
       "  display: inline-block;\n",
       "}\n",
       "\n",
       ".xr-dim-list {\n",
       "  display: inline-block !important;\n",
       "  list-style: none;\n",
       "  padding: 0 !important;\n",
       "  margin: 0;\n",
       "}\n",
       "\n",
       ".xr-dim-list li {\n",
       "  display: inline-block;\n",
       "  padding: 0;\n",
       "  margin: 0;\n",
       "}\n",
       "\n",
       ".xr-dim-list:before {\n",
       "  content: '(';\n",
       "}\n",
       "\n",
       ".xr-dim-list:after {\n",
       "  content: ')';\n",
       "}\n",
       "\n",
       ".xr-dim-list li:not(:last-child):after {\n",
       "  content: ',';\n",
       "  padding-right: 5px;\n",
       "}\n",
       "\n",
       ".xr-has-index {\n",
       "  font-weight: bold;\n",
       "}\n",
       "\n",
       ".xr-var-list,\n",
       ".xr-var-item {\n",
       "  display: contents;\n",
       "}\n",
       "\n",
       ".xr-var-item > div,\n",
       ".xr-var-item label,\n",
       ".xr-var-item > .xr-var-name span {\n",
       "  background-color: var(--xr-background-color-row-even);\n",
       "  margin-bottom: 0;\n",
       "}\n",
       "\n",
       ".xr-var-item > .xr-var-name:hover span {\n",
       "  padding-right: 5px;\n",
       "}\n",
       "\n",
       ".xr-var-list > li:nth-child(odd) > div,\n",
       ".xr-var-list > li:nth-child(odd) > label,\n",
       ".xr-var-list > li:nth-child(odd) > .xr-var-name span {\n",
       "  background-color: var(--xr-background-color-row-odd);\n",
       "}\n",
       "\n",
       ".xr-var-name {\n",
       "  grid-column: 1;\n",
       "}\n",
       "\n",
       ".xr-var-dims {\n",
       "  grid-column: 2;\n",
       "}\n",
       "\n",
       ".xr-var-dtype {\n",
       "  grid-column: 3;\n",
       "  text-align: right;\n",
       "  color: var(--xr-font-color2);\n",
       "}\n",
       "\n",
       ".xr-var-preview {\n",
       "  grid-column: 4;\n",
       "}\n",
       "\n",
       ".xr-index-preview {\n",
       "  grid-column: 2 / 5;\n",
       "  color: var(--xr-font-color2);\n",
       "}\n",
       "\n",
       ".xr-var-name,\n",
       ".xr-var-dims,\n",
       ".xr-var-dtype,\n",
       ".xr-preview,\n",
       ".xr-attrs dt {\n",
       "  white-space: nowrap;\n",
       "  overflow: hidden;\n",
       "  text-overflow: ellipsis;\n",
       "  padding-right: 10px;\n",
       "}\n",
       "\n",
       ".xr-var-name:hover,\n",
       ".xr-var-dims:hover,\n",
       ".xr-var-dtype:hover,\n",
       ".xr-attrs dt:hover {\n",
       "  overflow: visible;\n",
       "  width: auto;\n",
       "  z-index: 1;\n",
       "}\n",
       "\n",
       ".xr-var-attrs,\n",
       ".xr-var-data,\n",
       ".xr-index-data {\n",
       "  display: none;\n",
       "  background-color: var(--xr-background-color) !important;\n",
       "  padding-bottom: 5px !important;\n",
       "}\n",
       "\n",
       ".xr-var-attrs-in:checked ~ .xr-var-attrs,\n",
       ".xr-var-data-in:checked ~ .xr-var-data,\n",
       ".xr-index-data-in:checked ~ .xr-index-data {\n",
       "  display: block;\n",
       "}\n",
       "\n",
       ".xr-var-data > table {\n",
       "  float: right;\n",
       "}\n",
       "\n",
       ".xr-var-name span,\n",
       ".xr-var-data,\n",
       ".xr-index-name div,\n",
       ".xr-index-data,\n",
       ".xr-attrs {\n",
       "  padding-left: 25px !important;\n",
       "}\n",
       "\n",
       ".xr-attrs,\n",
       ".xr-var-attrs,\n",
       ".xr-var-data,\n",
       ".xr-index-data {\n",
       "  grid-column: 1 / -1;\n",
       "}\n",
       "\n",
       "dl.xr-attrs {\n",
       "  padding: 0;\n",
       "  margin: 0;\n",
       "  display: grid;\n",
       "  grid-template-columns: 125px auto;\n",
       "}\n",
       "\n",
       ".xr-attrs dt,\n",
       ".xr-attrs dd {\n",
       "  padding: 0;\n",
       "  margin: 0;\n",
       "  float: left;\n",
       "  padding-right: 10px;\n",
       "  width: auto;\n",
       "}\n",
       "\n",
       ".xr-attrs dt {\n",
       "  font-weight: normal;\n",
       "  grid-column: 1;\n",
       "}\n",
       "\n",
       ".xr-attrs dt:hover span {\n",
       "  display: inline-block;\n",
       "  background: var(--xr-background-color);\n",
       "  padding-right: 10px;\n",
       "}\n",
       "\n",
       ".xr-attrs dd {\n",
       "  grid-column: 2;\n",
       "  white-space: pre-wrap;\n",
       "  word-break: break-all;\n",
       "}\n",
       "\n",
       ".xr-icon-database,\n",
       ".xr-icon-file-text2,\n",
       ".xr-no-icon {\n",
       "  display: inline-block;\n",
       "  vertical-align: middle;\n",
       "  width: 1em;\n",
       "  height: 1.5em !important;\n",
       "  stroke-width: 0;\n",
       "  stroke: currentColor;\n",
       "  fill: currentColor;\n",
       "}\n",
       "</style><pre class='xr-text-repr-fallback'>&lt;xarray.DataArray &#x27;boo&#x27; (core: 6)&gt; Size: 48B\n",
       "array([0., 0., 0., 0., 0., 0.])\n",
       "Coordinates:\n",
       "  * core     (core) object 48B MultiIndex\n",
       "  * A        (core) int64 48B 1 1 1 2 2 2\n",
       "  * B        (core) &lt;U1 24B &#x27;a&#x27; &#x27;b&#x27; &#x27;c&#x27; &#x27;a&#x27; &#x27;b&#x27; &#x27;c&#x27;</pre><div class='xr-wrap' style='display:none'><div class='xr-header'><div class='xr-obj-type'>xarray.DataArray</div><div class='xr-array-name'>'boo'</div><ul class='xr-dim-list'><li><span class='xr-has-index'>core</span>: 6</li></ul></div><ul class='xr-sections'><li class='xr-section-item'><div class='xr-array-wrap'><input id='section-fa0453c4-921d-48f2-b206-2a412f0c6443' class='xr-array-in' type='checkbox' checked><label for='section-fa0453c4-921d-48f2-b206-2a412f0c6443' title='Show/hide data repr'><svg class='icon xr-icon-database'><use xlink:href='#icon-database'></use></svg></label><div class='xr-array-preview xr-preview'><span>0.0 0.0 0.0 0.0 0.0 0.0</span></div><div class='xr-array-data'><pre>array([0., 0., 0., 0., 0., 0.])</pre></div></div></li><li class='xr-section-item'><input id='section-38312ce4-7db8-4e8a-8bfb-97df6c1d034d' class='xr-section-summary-in' type='checkbox'  checked><label for='section-38312ce4-7db8-4e8a-8bfb-97df6c1d034d' class='xr-section-summary' >Coordinates: <span>(3)</span></label><div class='xr-section-inline-details'></div><div class='xr-section-details'><ul class='xr-var-list'><li class='xr-var-item'><div class='xr-var-name'><span class='xr-has-index'>core</span></div><div class='xr-var-dims'>(core)</div><div class='xr-var-dtype'>object</div><div class='xr-var-preview xr-preview'>MultiIndex</div><input id='attrs-b659f3bb-2f7f-4525-bb91-085c72fd0bd2' class='xr-var-attrs-in' type='checkbox' disabled><label for='attrs-b659f3bb-2f7f-4525-bb91-085c72fd0bd2' title='Show/Hide attributes'><svg class='icon xr-icon-file-text2'><use xlink:href='#icon-file-text2'></use></svg></label><input id='data-cb48ec26-5842-433a-8a1c-732958eec0fb' class='xr-var-data-in' type='checkbox'><label for='data-cb48ec26-5842-433a-8a1c-732958eec0fb' title='Show/Hide data repr'><svg class='icon xr-icon-database'><use xlink:href='#icon-database'></use></svg></label><div class='xr-var-attrs'><dl class='xr-attrs'></dl></div><div class='xr-var-data'><pre>array([(1, &#x27;a&#x27;), (1, &#x27;b&#x27;), (1, &#x27;c&#x27;), (2, &#x27;a&#x27;), (2, &#x27;b&#x27;), (2, &#x27;c&#x27;)],\n",
       "      dtype=object)</pre></div></li><li class='xr-var-item'><div class='xr-var-name'><span class='xr-has-index'>A</span></div><div class='xr-var-dims'>(core)</div><div class='xr-var-dtype'>int64</div><div class='xr-var-preview xr-preview'>1 1 1 2 2 2</div><input id='attrs-c0bf17e0-9f97-4b83-a90e-42a13e74da84' class='xr-var-attrs-in' type='checkbox' disabled><label for='attrs-c0bf17e0-9f97-4b83-a90e-42a13e74da84' title='Show/Hide attributes'><svg class='icon xr-icon-file-text2'><use xlink:href='#icon-file-text2'></use></svg></label><input id='data-568e0847-6ba0-4453-8e24-64e696c1b01f' class='xr-var-data-in' type='checkbox'><label for='data-568e0847-6ba0-4453-8e24-64e696c1b01f' title='Show/Hide data repr'><svg class='icon xr-icon-database'><use xlink:href='#icon-database'></use></svg></label><div class='xr-var-attrs'><dl class='xr-attrs'></dl></div><div class='xr-var-data'><pre>array([1, 1, 1, 2, 2, 2])</pre></div></li><li class='xr-var-item'><div class='xr-var-name'><span class='xr-has-index'>B</span></div><div class='xr-var-dims'>(core)</div><div class='xr-var-dtype'>&lt;U1</div><div class='xr-var-preview xr-preview'>&#x27;a&#x27; &#x27;b&#x27; &#x27;c&#x27; &#x27;a&#x27; &#x27;b&#x27; &#x27;c&#x27;</div><input id='attrs-007425b3-dcb9-446c-9991-e4500f5d9ba7' class='xr-var-attrs-in' type='checkbox' disabled><label for='attrs-007425b3-dcb9-446c-9991-e4500f5d9ba7' title='Show/Hide attributes'><svg class='icon xr-icon-file-text2'><use xlink:href='#icon-file-text2'></use></svg></label><input id='data-3804d14f-7a6f-486e-b220-3ab83786deed' class='xr-var-data-in' type='checkbox'><label for='data-3804d14f-7a6f-486e-b220-3ab83786deed' title='Show/Hide data repr'><svg class='icon xr-icon-database'><use xlink:href='#icon-database'></use></svg></label><div class='xr-var-attrs'><dl class='xr-attrs'></dl></div><div class='xr-var-data'><pre>array([&#x27;a&#x27;, &#x27;b&#x27;, &#x27;c&#x27;, &#x27;a&#x27;, &#x27;b&#x27;, &#x27;c&#x27;], dtype=&#x27;&lt;U1&#x27;)</pre></div></li></ul></div></li><li class='xr-section-item'><input id='section-809f9c78-7869-4dbc-807a-ca00d84aad8d' class='xr-section-summary-in' type='checkbox'  ><label for='section-809f9c78-7869-4dbc-807a-ca00d84aad8d' class='xr-section-summary' >Indexes: <span>(1)</span></label><div class='xr-section-inline-details'></div><div class='xr-section-details'><ul class='xr-var-list'><li class='xr-var-item'><div class='xr-index-name'><div>core<br>A<br>B</div></div><div class='xr-index-preview'>PandasMultiIndex</div><div></div><input id='index-f12806c8-e88d-4795-94f3-4f7fbf8322b0' class='xr-index-data-in' type='checkbox'/><label for='index-f12806c8-e88d-4795-94f3-4f7fbf8322b0' title='Show/Hide index repr'><svg class='icon xr-icon-database'><use xlink:href='#icon-database'></use></svg></label><div class='xr-index-data'><pre>PandasIndex(MultiIndex([(1, &#x27;a&#x27;),\n",
       "            (1, &#x27;b&#x27;),\n",
       "            (1, &#x27;c&#x27;),\n",
       "            (2, &#x27;a&#x27;),\n",
       "            (2, &#x27;b&#x27;),\n",
       "            (2, &#x27;c&#x27;)],\n",
       "           name=&#x27;core&#x27;))</pre></div></li></ul></div></li><li class='xr-section-item'><input id='section-60f8b908-b54b-4c84-a062-0097a4c7b4a3' class='xr-section-summary-in' type='checkbox' disabled ><label for='section-60f8b908-b54b-4c84-a062-0097a4c7b4a3' class='xr-section-summary'  title='Expand/collapse section'>Attributes: <span>(0)</span></label><div class='xr-section-inline-details'></div><div class='xr-section-details'><dl class='xr-attrs'></dl></div></li></ul></div></div>"
      ],
      "text/plain": [
       "<xarray.DataArray 'boo' (core: 6)> Size: 48B\n",
       "array([0., 0., 0., 0., 0., 0.])\n",
       "Coordinates:\n",
       "  * core     (core) object 48B MultiIndex\n",
       "  * A        (core) int64 48B 1 1 1 2 2 2\n",
       "  * B        (core) <U1 24B 'a' 'b' 'c' 'a' 'b' 'c'"
      ]
     },
     "execution_count": null,
     "metadata": {},
     "output_type": "execute_result"
    }
   ],
   "source": [
    "#|hide\n",
    "space.zeros().impl.stacked_array"
   ]
  },
  {
   "cell_type": "code",
   "execution_count": null,
   "metadata": {},
   "outputs": [],
   "source": [
    "#|hide\n",
    "test_da(\"stacked_array2\", _.reset_index([\"core\"]))"
   ]
  },
  {
   "cell_type": "markdown",
   "metadata": {},
   "source": [
    "### to_numpy -\n"
   ]
  },
  {
   "cell_type": "code",
   "execution_count": null,
   "metadata": {},
   "outputs": [],
   "source": [
    "#| export\n",
    "#|hide\n",
    "@patch\n",
    "def to_numpy(self:XarrayVectorArrayImpl, ensure_copy, ind):\n",
    "    if ind is not None: raise NotImplementedError\n",
    "    array = self.stacked_array.to_numpy()\n",
    "    if not self.space_array.dims: array = array[None, :]\n",
    "    if not self.extended_dims: array = array[:, None]\n",
    "    if ensure_copy and not array.flags['OWNDATA']:\n",
    "        return array.copy()\n",
    "    else:\n",
    "        return array"
   ]
  },
  {
   "cell_type": "code",
   "execution_count": null,
   "metadata": {},
   "outputs": [
    {
     "data": {
      "text/markdown": [
       "---\n",
       "\n",
       "### VectorArray.to_numpy\n",
       "\n",
       ">      VectorArray.to_numpy (ensure_copy=False)\n",
       "\n",
       "*Return (len(self), self.dim) NumPy Array with the data stored in the array.*\n",
       "\n",
       "|    | **Type** | **Default** | **Details** |\n",
       "| -- | -------- | ----------- | ----------- |\n",
       "| ensure_copy | bool | False | If `False`, modifying the returned \\|NumPy array\\| might alter the original<br>\\|VectorArray\\|. If `True` always a copy of the array data is made. |"
      ],
      "text/plain": [
       "---\n",
       "\n",
       "### VectorArray.to_numpy\n",
       "\n",
       ">      VectorArray.to_numpy (ensure_copy=False)\n",
       "\n",
       "*Return (len(self), self.dim) NumPy Array with the data stored in the array.*\n",
       "\n",
       "|    | **Type** | **Default** | **Details** |\n",
       "| -- | -------- | ----------- | ----------- |\n",
       "| ensure_copy | bool | False | If `False`, modifying the returned \\|NumPy array\\| might alter the original<br>\\|VectorArray\\|. If `True` always a copy of the array data is made. |"
      ]
     },
     "execution_count": null,
     "metadata": {},
     "output_type": "execute_result"
    }
   ],
   "source": [
    "show_doc(XarrayVectorArray.to_numpy)"
   ]
  },
  {
   "cell_type": "code",
   "execution_count": null,
   "metadata": {},
   "outputs": [
    {
     "data": {
      "text/html": [
       "<div><svg style=\"position: absolute; width: 0; height: 0; overflow: hidden\">\n",
       "<defs>\n",
       "<symbol id=\"icon-database\" viewBox=\"0 0 32 32\">\n",
       "<path d=\"M16 0c-8.837 0-16 2.239-16 5v4c0 2.761 7.163 5 16 5s16-2.239 16-5v-4c0-2.761-7.163-5-16-5z\"></path>\n",
       "<path d=\"M16 17c-8.837 0-16-2.239-16-5v6c0 2.761 7.163 5 16 5s16-2.239 16-5v-6c0 2.761-7.163 5-16 5z\"></path>\n",
       "<path d=\"M16 26c-8.837 0-16-2.239-16-5v6c0 2.761 7.163 5 16 5s16-2.239 16-5v-6c0 2.761-7.163 5-16 5z\"></path>\n",
       "</symbol>\n",
       "<symbol id=\"icon-file-text2\" viewBox=\"0 0 32 32\">\n",
       "<path d=\"M28.681 7.159c-0.694-0.947-1.662-2.053-2.724-3.116s-2.169-2.030-3.116-2.724c-1.612-1.182-2.393-1.319-2.841-1.319h-15.5c-1.378 0-2.5 1.121-2.5 2.5v27c0 1.378 1.122 2.5 2.5 2.5h23c1.378 0 2.5-1.122 2.5-2.5v-19.5c0-0.448-0.137-1.23-1.319-2.841zM24.543 5.457c0.959 0.959 1.712 1.825 2.268 2.543h-4.811v-4.811c0.718 0.556 1.584 1.309 2.543 2.268zM28 29.5c0 0.271-0.229 0.5-0.5 0.5h-23c-0.271 0-0.5-0.229-0.5-0.5v-27c0-0.271 0.229-0.5 0.5-0.5 0 0 15.499-0 15.5 0v7c0 0.552 0.448 1 1 1h7v19.5z\"></path>\n",
       "<path d=\"M23 26h-14c-0.552 0-1-0.448-1-1s0.448-1 1-1h14c0.552 0 1 0.448 1 1s-0.448 1-1 1z\"></path>\n",
       "<path d=\"M23 22h-14c-0.552 0-1-0.448-1-1s0.448-1 1-1h14c0.552 0 1 0.448 1 1s-0.448 1-1 1z\"></path>\n",
       "<path d=\"M23 18h-14c-0.552 0-1-0.448-1-1s0.448-1 1-1h14c0.552 0 1 0.448 1 1s-0.448 1-1 1z\"></path>\n",
       "</symbol>\n",
       "</defs>\n",
       "</svg>\n",
       "<style>/* CSS stylesheet for displaying xarray objects in jupyterlab.\n",
       " *\n",
       " */\n",
       "\n",
       ":root {\n",
       "  --xr-font-color0: var(--jp-content-font-color0, rgba(0, 0, 0, 1));\n",
       "  --xr-font-color2: var(--jp-content-font-color2, rgba(0, 0, 0, 0.54));\n",
       "  --xr-font-color3: var(--jp-content-font-color3, rgba(0, 0, 0, 0.38));\n",
       "  --xr-border-color: var(--jp-border-color2, #e0e0e0);\n",
       "  --xr-disabled-color: var(--jp-layout-color3, #bdbdbd);\n",
       "  --xr-background-color: var(--jp-layout-color0, white);\n",
       "  --xr-background-color-row-even: var(--jp-layout-color1, white);\n",
       "  --xr-background-color-row-odd: var(--jp-layout-color2, #eeeeee);\n",
       "}\n",
       "\n",
       "html[theme=dark],\n",
       "html[data-theme=dark],\n",
       "body[data-theme=dark],\n",
       "body.vscode-dark {\n",
       "  --xr-font-color0: rgba(255, 255, 255, 1);\n",
       "  --xr-font-color2: rgba(255, 255, 255, 0.54);\n",
       "  --xr-font-color3: rgba(255, 255, 255, 0.38);\n",
       "  --xr-border-color: #1F1F1F;\n",
       "  --xr-disabled-color: #515151;\n",
       "  --xr-background-color: #111111;\n",
       "  --xr-background-color-row-even: #111111;\n",
       "  --xr-background-color-row-odd: #313131;\n",
       "}\n",
       "\n",
       ".xr-wrap {\n",
       "  display: block !important;\n",
       "  min-width: 300px;\n",
       "  max-width: 700px;\n",
       "}\n",
       "\n",
       ".xr-text-repr-fallback {\n",
       "  /* fallback to plain text repr when CSS is not injected (untrusted notebook) */\n",
       "  display: none;\n",
       "}\n",
       "\n",
       ".xr-header {\n",
       "  padding-top: 6px;\n",
       "  padding-bottom: 6px;\n",
       "  margin-bottom: 4px;\n",
       "  border-bottom: solid 1px var(--xr-border-color);\n",
       "}\n",
       "\n",
       ".xr-header > div,\n",
       ".xr-header > ul {\n",
       "  display: inline;\n",
       "  margin-top: 0;\n",
       "  margin-bottom: 0;\n",
       "}\n",
       "\n",
       ".xr-obj-type,\n",
       ".xr-array-name {\n",
       "  margin-left: 2px;\n",
       "  margin-right: 10px;\n",
       "}\n",
       "\n",
       ".xr-obj-type {\n",
       "  color: var(--xr-font-color2);\n",
       "}\n",
       "\n",
       ".xr-sections {\n",
       "  padding-left: 0 !important;\n",
       "  display: grid;\n",
       "  grid-template-columns: 150px auto auto 1fr 0 20px 0 20px;\n",
       "}\n",
       "\n",
       ".xr-section-item {\n",
       "  display: contents;\n",
       "}\n",
       "\n",
       ".xr-section-item input {\n",
       "  display: inline-block;\n",
       "  opacity: 0;\n",
       "}\n",
       "\n",
       ".xr-section-item input + label {\n",
       "  color: var(--xr-disabled-color);\n",
       "}\n",
       "\n",
       ".xr-section-item input:enabled + label {\n",
       "  cursor: pointer;\n",
       "  color: var(--xr-font-color2);\n",
       "}\n",
       "\n",
       ".xr-section-item input:focus + label {\n",
       "  border: 2px solid var(--xr-font-color0);\n",
       "}\n",
       "\n",
       ".xr-section-item input:enabled + label:hover {\n",
       "  color: var(--xr-font-color0);\n",
       "}\n",
       "\n",
       ".xr-section-summary {\n",
       "  grid-column: 1;\n",
       "  color: var(--xr-font-color2);\n",
       "  font-weight: 500;\n",
       "}\n",
       "\n",
       ".xr-section-summary > span {\n",
       "  display: inline-block;\n",
       "  padding-left: 0.5em;\n",
       "}\n",
       "\n",
       ".xr-section-summary-in:disabled + label {\n",
       "  color: var(--xr-font-color2);\n",
       "}\n",
       "\n",
       ".xr-section-summary-in + label:before {\n",
       "  display: inline-block;\n",
       "  content: '►';\n",
       "  font-size: 11px;\n",
       "  width: 15px;\n",
       "  text-align: center;\n",
       "}\n",
       "\n",
       ".xr-section-summary-in:disabled + label:before {\n",
       "  color: var(--xr-disabled-color);\n",
       "}\n",
       "\n",
       ".xr-section-summary-in:checked + label:before {\n",
       "  content: '▼';\n",
       "}\n",
       "\n",
       ".xr-section-summary-in:checked + label > span {\n",
       "  display: none;\n",
       "}\n",
       "\n",
       ".xr-section-summary,\n",
       ".xr-section-inline-details {\n",
       "  padding-top: 4px;\n",
       "  padding-bottom: 4px;\n",
       "}\n",
       "\n",
       ".xr-section-inline-details {\n",
       "  grid-column: 2 / -1;\n",
       "}\n",
       "\n",
       ".xr-section-details {\n",
       "  display: none;\n",
       "  grid-column: 1 / -1;\n",
       "  margin-bottom: 5px;\n",
       "}\n",
       "\n",
       ".xr-section-summary-in:checked ~ .xr-section-details {\n",
       "  display: contents;\n",
       "}\n",
       "\n",
       ".xr-array-wrap {\n",
       "  grid-column: 1 / -1;\n",
       "  display: grid;\n",
       "  grid-template-columns: 20px auto;\n",
       "}\n",
       "\n",
       ".xr-array-wrap > label {\n",
       "  grid-column: 1;\n",
       "  vertical-align: top;\n",
       "}\n",
       "\n",
       ".xr-preview {\n",
       "  color: var(--xr-font-color3);\n",
       "}\n",
       "\n",
       ".xr-array-preview,\n",
       ".xr-array-data {\n",
       "  padding: 0 5px !important;\n",
       "  grid-column: 2;\n",
       "}\n",
       "\n",
       ".xr-array-data,\n",
       ".xr-array-in:checked ~ .xr-array-preview {\n",
       "  display: none;\n",
       "}\n",
       "\n",
       ".xr-array-in:checked ~ .xr-array-data,\n",
       ".xr-array-preview {\n",
       "  display: inline-block;\n",
       "}\n",
       "\n",
       ".xr-dim-list {\n",
       "  display: inline-block !important;\n",
       "  list-style: none;\n",
       "  padding: 0 !important;\n",
       "  margin: 0;\n",
       "}\n",
       "\n",
       ".xr-dim-list li {\n",
       "  display: inline-block;\n",
       "  padding: 0;\n",
       "  margin: 0;\n",
       "}\n",
       "\n",
       ".xr-dim-list:before {\n",
       "  content: '(';\n",
       "}\n",
       "\n",
       ".xr-dim-list:after {\n",
       "  content: ')';\n",
       "}\n",
       "\n",
       ".xr-dim-list li:not(:last-child):after {\n",
       "  content: ',';\n",
       "  padding-right: 5px;\n",
       "}\n",
       "\n",
       ".xr-has-index {\n",
       "  font-weight: bold;\n",
       "}\n",
       "\n",
       ".xr-var-list,\n",
       ".xr-var-item {\n",
       "  display: contents;\n",
       "}\n",
       "\n",
       ".xr-var-item > div,\n",
       ".xr-var-item label,\n",
       ".xr-var-item > .xr-var-name span {\n",
       "  background-color: var(--xr-background-color-row-even);\n",
       "  margin-bottom: 0;\n",
       "}\n",
       "\n",
       ".xr-var-item > .xr-var-name:hover span {\n",
       "  padding-right: 5px;\n",
       "}\n",
       "\n",
       ".xr-var-list > li:nth-child(odd) > div,\n",
       ".xr-var-list > li:nth-child(odd) > label,\n",
       ".xr-var-list > li:nth-child(odd) > .xr-var-name span {\n",
       "  background-color: var(--xr-background-color-row-odd);\n",
       "}\n",
       "\n",
       ".xr-var-name {\n",
       "  grid-column: 1;\n",
       "}\n",
       "\n",
       ".xr-var-dims {\n",
       "  grid-column: 2;\n",
       "}\n",
       "\n",
       ".xr-var-dtype {\n",
       "  grid-column: 3;\n",
       "  text-align: right;\n",
       "  color: var(--xr-font-color2);\n",
       "}\n",
       "\n",
       ".xr-var-preview {\n",
       "  grid-column: 4;\n",
       "}\n",
       "\n",
       ".xr-index-preview {\n",
       "  grid-column: 2 / 5;\n",
       "  color: var(--xr-font-color2);\n",
       "}\n",
       "\n",
       ".xr-var-name,\n",
       ".xr-var-dims,\n",
       ".xr-var-dtype,\n",
       ".xr-preview,\n",
       ".xr-attrs dt {\n",
       "  white-space: nowrap;\n",
       "  overflow: hidden;\n",
       "  text-overflow: ellipsis;\n",
       "  padding-right: 10px;\n",
       "}\n",
       "\n",
       ".xr-var-name:hover,\n",
       ".xr-var-dims:hover,\n",
       ".xr-var-dtype:hover,\n",
       ".xr-attrs dt:hover {\n",
       "  overflow: visible;\n",
       "  width: auto;\n",
       "  z-index: 1;\n",
       "}\n",
       "\n",
       ".xr-var-attrs,\n",
       ".xr-var-data,\n",
       ".xr-index-data {\n",
       "  display: none;\n",
       "  background-color: var(--xr-background-color) !important;\n",
       "  padding-bottom: 5px !important;\n",
       "}\n",
       "\n",
       ".xr-var-attrs-in:checked ~ .xr-var-attrs,\n",
       ".xr-var-data-in:checked ~ .xr-var-data,\n",
       ".xr-index-data-in:checked ~ .xr-index-data {\n",
       "  display: block;\n",
       "}\n",
       "\n",
       ".xr-var-data > table {\n",
       "  float: right;\n",
       "}\n",
       "\n",
       ".xr-var-name span,\n",
       ".xr-var-data,\n",
       ".xr-index-name div,\n",
       ".xr-index-data,\n",
       ".xr-attrs {\n",
       "  padding-left: 25px !important;\n",
       "}\n",
       "\n",
       ".xr-attrs,\n",
       ".xr-var-attrs,\n",
       ".xr-var-data,\n",
       ".xr-index-data {\n",
       "  grid-column: 1 / -1;\n",
       "}\n",
       "\n",
       "dl.xr-attrs {\n",
       "  padding: 0;\n",
       "  margin: 0;\n",
       "  display: grid;\n",
       "  grid-template-columns: 125px auto;\n",
       "}\n",
       "\n",
       ".xr-attrs dt,\n",
       ".xr-attrs dd {\n",
       "  padding: 0;\n",
       "  margin: 0;\n",
       "  float: left;\n",
       "  padding-right: 10px;\n",
       "  width: auto;\n",
       "}\n",
       "\n",
       ".xr-attrs dt {\n",
       "  font-weight: normal;\n",
       "  grid-column: 1;\n",
       "}\n",
       "\n",
       ".xr-attrs dt:hover span {\n",
       "  display: inline-block;\n",
       "  background: var(--xr-background-color);\n",
       "  padding-right: 10px;\n",
       "}\n",
       "\n",
       ".xr-attrs dd {\n",
       "  grid-column: 2;\n",
       "  white-space: pre-wrap;\n",
       "  word-break: break-all;\n",
       "}\n",
       "\n",
       ".xr-icon-database,\n",
       ".xr-icon-file-text2,\n",
       ".xr-no-icon {\n",
       "  display: inline-block;\n",
       "  vertical-align: middle;\n",
       "  width: 1em;\n",
       "  height: 1.5em !important;\n",
       "  stroke-width: 0;\n",
       "  stroke: currentColor;\n",
       "  fill: currentColor;\n",
       "}\n",
       "</style><pre class='xr-text-repr-fallback'>&lt;xarray.DataArray &#x27;boo&#x27; (foo: 2, A: 2, B: 3)&gt; Size: 96B\n",
       "array([[[0., 0., 0.],\n",
       "        [0., 0., 0.]],\n",
       "\n",
       "       [[0., 0., 0.],\n",
       "        [0., 0., 0.]]])\n",
       "Coordinates:\n",
       "  * foo      (foo) int64 16B 0 1\n",
       "  * A        (A) int64 16B 1 2\n",
       "  * B        (B) &lt;U1 12B &#x27;a&#x27; &#x27;b&#x27; &#x27;c&#x27;</pre><div class='xr-wrap' style='display:none'><div class='xr-header'><div class='xr-obj-type'>xarray.DataArray</div><div class='xr-array-name'>'boo'</div><ul class='xr-dim-list'><li><span class='xr-has-index'>foo</span>: 2</li><li><span class='xr-has-index'>A</span>: 2</li><li><span class='xr-has-index'>B</span>: 3</li></ul></div><ul class='xr-sections'><li class='xr-section-item'><div class='xr-array-wrap'><input id='section-569c64eb-2ac1-4aa7-a46e-df6c818d83c3' class='xr-array-in' type='checkbox' checked><label for='section-569c64eb-2ac1-4aa7-a46e-df6c818d83c3' title='Show/hide data repr'><svg class='icon xr-icon-database'><use xlink:href='#icon-database'></use></svg></label><div class='xr-array-preview xr-preview'><span>0.0 0.0 0.0 0.0 0.0 0.0 0.0 0.0 0.0 0.0 0.0 0.0</span></div><div class='xr-array-data'><pre>array([[[0., 0., 0.],\n",
       "        [0., 0., 0.]],\n",
       "\n",
       "       [[0., 0., 0.],\n",
       "        [0., 0., 0.]]])</pre></div></div></li><li class='xr-section-item'><input id='section-35c40944-034f-44bc-922c-e88372340226' class='xr-section-summary-in' type='checkbox'  checked><label for='section-35c40944-034f-44bc-922c-e88372340226' class='xr-section-summary' >Coordinates: <span>(3)</span></label><div class='xr-section-inline-details'></div><div class='xr-section-details'><ul class='xr-var-list'><li class='xr-var-item'><div class='xr-var-name'><span class='xr-has-index'>foo</span></div><div class='xr-var-dims'>(foo)</div><div class='xr-var-dtype'>int64</div><div class='xr-var-preview xr-preview'>0 1</div><input id='attrs-517b39a4-2fc5-44e3-b8d5-24509c866376' class='xr-var-attrs-in' type='checkbox' disabled><label for='attrs-517b39a4-2fc5-44e3-b8d5-24509c866376' title='Show/Hide attributes'><svg class='icon xr-icon-file-text2'><use xlink:href='#icon-file-text2'></use></svg></label><input id='data-06e800f8-6a98-427c-a845-23284d487b17' class='xr-var-data-in' type='checkbox'><label for='data-06e800f8-6a98-427c-a845-23284d487b17' title='Show/Hide data repr'><svg class='icon xr-icon-database'><use xlink:href='#icon-database'></use></svg></label><div class='xr-var-attrs'><dl class='xr-attrs'></dl></div><div class='xr-var-data'><pre>array([0, 1])</pre></div></li><li class='xr-var-item'><div class='xr-var-name'><span class='xr-has-index'>A</span></div><div class='xr-var-dims'>(A)</div><div class='xr-var-dtype'>int64</div><div class='xr-var-preview xr-preview'>1 2</div><input id='attrs-3c6b1294-6a29-41ad-8929-68052baddbd9' class='xr-var-attrs-in' type='checkbox' disabled><label for='attrs-3c6b1294-6a29-41ad-8929-68052baddbd9' title='Show/Hide attributes'><svg class='icon xr-icon-file-text2'><use xlink:href='#icon-file-text2'></use></svg></label><input id='data-38aa04bf-f9ca-49a0-b699-7dd4ceadd14a' class='xr-var-data-in' type='checkbox'><label for='data-38aa04bf-f9ca-49a0-b699-7dd4ceadd14a' title='Show/Hide data repr'><svg class='icon xr-icon-database'><use xlink:href='#icon-database'></use></svg></label><div class='xr-var-attrs'><dl class='xr-attrs'></dl></div><div class='xr-var-data'><pre>array([1, 2])</pre></div></li><li class='xr-var-item'><div class='xr-var-name'><span class='xr-has-index'>B</span></div><div class='xr-var-dims'>(B)</div><div class='xr-var-dtype'>&lt;U1</div><div class='xr-var-preview xr-preview'>&#x27;a&#x27; &#x27;b&#x27; &#x27;c&#x27;</div><input id='attrs-1fb8035e-ca8e-43b3-bd4c-6161084ff58c' class='xr-var-attrs-in' type='checkbox' disabled><label for='attrs-1fb8035e-ca8e-43b3-bd4c-6161084ff58c' title='Show/Hide attributes'><svg class='icon xr-icon-file-text2'><use xlink:href='#icon-file-text2'></use></svg></label><input id='data-a6037339-3e5f-4efa-8b37-46687ee718ff' class='xr-var-data-in' type='checkbox'><label for='data-a6037339-3e5f-4efa-8b37-46687ee718ff' title='Show/Hide data repr'><svg class='icon xr-icon-database'><use xlink:href='#icon-database'></use></svg></label><div class='xr-var-attrs'><dl class='xr-attrs'></dl></div><div class='xr-var-data'><pre>array([&#x27;a&#x27;, &#x27;b&#x27;, &#x27;c&#x27;], dtype=&#x27;&lt;U1&#x27;)</pre></div></li></ul></div></li><li class='xr-section-item'><input id='section-d9ba182f-e420-47ea-8c28-3fb7cad82b95' class='xr-section-summary-in' type='checkbox'  ><label for='section-d9ba182f-e420-47ea-8c28-3fb7cad82b95' class='xr-section-summary' >Indexes: <span>(3)</span></label><div class='xr-section-inline-details'></div><div class='xr-section-details'><ul class='xr-var-list'><li class='xr-var-item'><div class='xr-index-name'><div>A</div></div><div class='xr-index-preview'>PandasIndex</div><div></div><input id='index-09791bf4-9680-4524-9381-71c55e9c3e93' class='xr-index-data-in' type='checkbox'/><label for='index-09791bf4-9680-4524-9381-71c55e9c3e93' title='Show/Hide index repr'><svg class='icon xr-icon-database'><use xlink:href='#icon-database'></use></svg></label><div class='xr-index-data'><pre>PandasIndex(Index([1, 2], dtype=&#x27;int64&#x27;, name=&#x27;A&#x27;))</pre></div></li><li class='xr-var-item'><div class='xr-index-name'><div>B</div></div><div class='xr-index-preview'>PandasIndex</div><div></div><input id='index-5ed04b36-ff7c-43ec-b792-a4cb1e62bfb8' class='xr-index-data-in' type='checkbox'/><label for='index-5ed04b36-ff7c-43ec-b792-a4cb1e62bfb8' title='Show/Hide index repr'><svg class='icon xr-icon-database'><use xlink:href='#icon-database'></use></svg></label><div class='xr-index-data'><pre>PandasIndex(Index([&#x27;a&#x27;, &#x27;b&#x27;, &#x27;c&#x27;], dtype=&#x27;object&#x27;, name=&#x27;B&#x27;))</pre></div></li><li class='xr-var-item'><div class='xr-index-name'><div>foo</div></div><div class='xr-index-preview'>PandasIndex</div><div></div><input id='index-5f35841a-9213-46d7-a0e4-d19fc64c433b' class='xr-index-data-in' type='checkbox'/><label for='index-5f35841a-9213-46d7-a0e4-d19fc64c433b' title='Show/Hide index repr'><svg class='icon xr-icon-database'><use xlink:href='#icon-database'></use></svg></label><div class='xr-index-data'><pre>PandasIndex(Index([0, 1], dtype=&#x27;int64&#x27;, name=&#x27;foo&#x27;))</pre></div></li></ul></div></li><li class='xr-section-item'><input id='section-eb4fb869-ec71-4f27-ad40-7b31b2e852f5' class='xr-section-summary-in' type='checkbox' disabled ><label for='section-eb4fb869-ec71-4f27-ad40-7b31b2e852f5' class='xr-section-summary'  title='Expand/collapse section'>Attributes: <span>(0)</span></label><div class='xr-section-inline-details'></div><div class='xr-section-details'><dl class='xr-attrs'></dl></div></li></ul></div></div>"
      ],
      "text/plain": [
       "<xarray.DataArray 'boo' (foo: 2, A: 2, B: 3)> Size: 96B\n",
       "array([[[0., 0., 0.],\n",
       "        [0., 0., 0.]],\n",
       "\n",
       "       [[0., 0., 0.],\n",
       "        [0., 0., 0.]]])\n",
       "Coordinates:\n",
       "  * foo      (foo) int64 16B 0 1\n",
       "  * A        (A) int64 16B 1 2\n",
       "  * B        (B) <U1 12B 'a' 'b' 'c'"
      ]
     },
     "execution_count": null,
     "metadata": {},
     "output_type": "execute_result"
    }
   ],
   "source": [
    "U.array"
   ]
  },
  {
   "cell_type": "code",
   "execution_count": null,
   "metadata": {},
   "outputs": [
    {
     "data": {
      "text/plain": [
       "array([[0., 0., 0., 0., 0., 0.],\n",
       "       [0., 0., 0., 0., 0., 0.]])"
      ]
     },
     "execution_count": null,
     "metadata": {},
     "output_type": "execute_result"
    }
   ],
   "source": [
    "U.to_numpy()"
   ]
  },
  {
   "cell_type": "code",
   "execution_count": null,
   "metadata": {},
   "outputs": [],
   "source": [
    "#|hide\n",
    "# Check that result is the same as if we were using `NumpyVectorSpace`.\n",
    "test_eq(\n",
    "    _, \n",
    "    NumpyVectorSpace(np.prod(space.shape)).zeros(len(U)).to_numpy()\n",
    ")"
   ]
  },
  {
   "cell_type": "code",
   "execution_count": null,
   "metadata": {},
   "outputs": [],
   "source": [
    "#|hide\n",
    "test_eq(\n",
    "    XarrayVectorSpace({'x': np.arange(6)}).zeros().to_numpy(),\n",
    "    NumpyVectorSpace(6).zeros().to_numpy()\n",
    ")"
   ]
  },
  {
   "cell_type": "code",
   "execution_count": null,
   "metadata": {},
   "outputs": [
    {
     "data": {
      "text/plain": [
       "(2, 3, 2, 3)"
      ]
     },
     "execution_count": null,
     "metadata": {},
     "output_type": "execute_result"
    }
   ],
   "source": [
    "space.zeros(space2.coords).shape"
   ]
  },
  {
   "cell_type": "code",
   "execution_count": null,
   "metadata": {},
   "outputs": [
    {
     "data": {
      "text/plain": [
       "(6, 6)"
      ]
     },
     "execution_count": null,
     "metadata": {},
     "output_type": "execute_result"
    }
   ],
   "source": [
    "space.zeros(space2.coords).to_numpy().shape"
   ]
  },
  {
   "cell_type": "code",
   "execution_count": null,
   "metadata": {},
   "outputs": [],
   "source": [
    "#|hide\n",
    "test_eq(_, (6, 6))"
   ]
  },
  {
   "cell_type": "markdown",
   "metadata": {},
   "source": [
    "### rename -\n"
   ]
  },
  {
   "cell_type": "code",
   "execution_count": null,
   "metadata": {},
   "outputs": [],
   "source": [
    "#| export\n",
    "@patch\n",
    "def rename(\n",
    "    self:XarrayVectorArray,\n",
    "    new_name_or_name_dict=None,\n",
    "    **names,\n",
    "):\n",
    "    \"\"\"Rename the vector array and/or any of its dimensions.\"\"\"\n",
    "    vec = self.space.rename(new_name_or_name_dict, **names).from_xarray(self.array.rename(new_name_or_name_dict, **names))\n",
    "    if isinstance(new_name_or_name_dict, str): vec.name = new_name_or_name_dict\n",
    "    return vec"
   ]
  },
  {
   "cell_type": "code",
   "execution_count": null,
   "metadata": {},
   "outputs": [
    {
     "data": {
      "text/html": [
       "{bar(2) ⨉ B(3), foo(2)}"
      ],
      "text/plain": [
       "XarrayVectorArray(\n",
       "    XarrayVectorSpace(\n",
       "        coords=Coordinates:\n",
       "                 * bar      (bar) int64 16B 1 2\n",
       "                 * B        (B) <U1 12B 'a' 'b' 'c',\n",
       "        name='baz'),\n",
       "    XarrayVectorArrayImpl(\n",
       "        <xarray.DataArray 'baz' (foo: 2, bar: 2, B: 3)> Size: 96B\n",
       "        array([[[0., 0., 0.],\n",
       "                [0., 0., 0.]],\n",
       "\n",
       "               [[0., 0., 0.],\n",
       "                [0., 0., 0.]]])\n",
       "        Coordinates:\n",
       "          * foo      (foo) int64 16B 0 1\n",
       "          * bar      (bar) int64 16B 1 2\n",
       "          * B        (B) <U1 12B 'a' 'b' 'c',\n",
       "        <xarray.DataArray 'baz' (bar: 2, B: 3)> Size: 48B\n",
       "        array([[0., 0., 0.],\n",
       "               [0., 0., 0.]])\n",
       "        Coordinates:\n",
       "          * bar      (bar) int64 16B 1 2\n",
       "          * B        (B) <U1 12B 'a' 'b' 'c'),\n",
       "    _len=2)"
      ]
     },
     "execution_count": null,
     "metadata": {},
     "output_type": "execute_result"
    }
   ],
   "source": [
    "U.rename('baz', A='bar')"
   ]
  },
  {
   "cell_type": "code",
   "execution_count": null,
   "metadata": {},
   "outputs": [],
   "source": [
    "#|hide\n",
    "test_eq(_.space.dims, ('bar', 'B'))\n",
    "test_eq(_.name, 'baz')"
   ]
  },
  {
   "cell_type": "markdown",
   "metadata": {},
   "source": [
    "### mul -"
   ]
  },
  {
   "cell_type": "code",
   "execution_count": null,
   "metadata": {},
   "outputs": [],
   "source": [
    "#| export\n",
    "@patch\n",
    "def __mul__(self:XarrayVectorArray, other):\n",
    "    if isinstance(other, DataArray) and self.coords.contain(other.coords): \n",
    "        return self.space.from_xarray(self.array * other).rename(self.name)\n",
    "    elif isinstance(other, XarrayVectorArray): \n",
    "        return (self.space * other.space).from_xarray(self.array * other.array).rename(self.name)\n",
    "    return super().__mul__(other)"
   ]
  },
  {
   "cell_type": "code",
   "execution_count": null,
   "metadata": {},
   "outputs": [],
   "source": [
    "U1 = space.ones({'foo': [0, 1]})"
   ]
  },
  {
   "cell_type": "code",
   "execution_count": null,
   "metadata": {},
   "outputs": [],
   "source": [
    "da = DataArray(np.arange(3), {'B': U1.array.B})"
   ]
  },
  {
   "cell_type": "code",
   "execution_count": null,
   "metadata": {},
   "outputs": [
    {
     "data": {
      "text/html": [
       "{A(2) ⨉ B(3), foo(2)}"
      ],
      "text/plain": [
       "XarrayVectorArray(\n",
       "    XarrayVectorSpace(\n",
       "        coords=Coordinates:\n",
       "                 * A        (A) int64 16B 1 2\n",
       "                 * B        (B) <U1 12B 'a' 'b' 'c',\n",
       "        name='XarrayVectorArray'),\n",
       "    XarrayVectorArrayImpl(\n",
       "        <xarray.DataArray 'XarrayVectorArray' (foo: 2, A: 2, B: 3)> Size: 96B\n",
       "        array([[[0., 1., 2.],\n",
       "                [0., 1., 2.]],\n",
       "\n",
       "               [[0., 1., 2.],\n",
       "                [0., 1., 2.]]])\n",
       "        Coordinates:\n",
       "          * foo      (foo) int64 16B 0 1\n",
       "          * A        (A) int64 16B 1 2\n",
       "          * B        (B) <U1 12B 'a' 'b' 'c',\n",
       "        <xarray.DataArray 'XarrayVectorArray' (A: 2, B: 3)> Size: 48B\n",
       "        array([[0., 0., 0.],\n",
       "               [0., 0., 0.]])\n",
       "        Coordinates:\n",
       "          * A        (A) int64 16B 1 2\n",
       "          * B        (B) <U1 12B 'a' 'b' 'c'),\n",
       "    _len=2)"
      ]
     },
     "execution_count": null,
     "metadata": {},
     "output_type": "execute_result"
    }
   ],
   "source": [
    "U1 * da"
   ]
  },
  {
   "cell_type": "code",
   "execution_count": null,
   "metadata": {},
   "outputs": [
    {
     "data": {
      "text/html": [
       "<div><svg style=\"position: absolute; width: 0; height: 0; overflow: hidden\">\n",
       "<defs>\n",
       "<symbol id=\"icon-database\" viewBox=\"0 0 32 32\">\n",
       "<path d=\"M16 0c-8.837 0-16 2.239-16 5v4c0 2.761 7.163 5 16 5s16-2.239 16-5v-4c0-2.761-7.163-5-16-5z\"></path>\n",
       "<path d=\"M16 17c-8.837 0-16-2.239-16-5v6c0 2.761 7.163 5 16 5s16-2.239 16-5v-6c0 2.761-7.163 5-16 5z\"></path>\n",
       "<path d=\"M16 26c-8.837 0-16-2.239-16-5v6c0 2.761 7.163 5 16 5s16-2.239 16-5v-6c0 2.761-7.163 5-16 5z\"></path>\n",
       "</symbol>\n",
       "<symbol id=\"icon-file-text2\" viewBox=\"0 0 32 32\">\n",
       "<path d=\"M28.681 7.159c-0.694-0.947-1.662-2.053-2.724-3.116s-2.169-2.030-3.116-2.724c-1.612-1.182-2.393-1.319-2.841-1.319h-15.5c-1.378 0-2.5 1.121-2.5 2.5v27c0 1.378 1.122 2.5 2.5 2.5h23c1.378 0 2.5-1.122 2.5-2.5v-19.5c0-0.448-0.137-1.23-1.319-2.841zM24.543 5.457c0.959 0.959 1.712 1.825 2.268 2.543h-4.811v-4.811c0.718 0.556 1.584 1.309 2.543 2.268zM28 29.5c0 0.271-0.229 0.5-0.5 0.5h-23c-0.271 0-0.5-0.229-0.5-0.5v-27c0-0.271 0.229-0.5 0.5-0.5 0 0 15.499-0 15.5 0v7c0 0.552 0.448 1 1 1h7v19.5z\"></path>\n",
       "<path d=\"M23 26h-14c-0.552 0-1-0.448-1-1s0.448-1 1-1h14c0.552 0 1 0.448 1 1s-0.448 1-1 1z\"></path>\n",
       "<path d=\"M23 22h-14c-0.552 0-1-0.448-1-1s0.448-1 1-1h14c0.552 0 1 0.448 1 1s-0.448 1-1 1z\"></path>\n",
       "<path d=\"M23 18h-14c-0.552 0-1-0.448-1-1s0.448-1 1-1h14c0.552 0 1 0.448 1 1s-0.448 1-1 1z\"></path>\n",
       "</symbol>\n",
       "</defs>\n",
       "</svg>\n",
       "<style>/* CSS stylesheet for displaying xarray objects in jupyterlab.\n",
       " *\n",
       " */\n",
       "\n",
       ":root {\n",
       "  --xr-font-color0: var(--jp-content-font-color0, rgba(0, 0, 0, 1));\n",
       "  --xr-font-color2: var(--jp-content-font-color2, rgba(0, 0, 0, 0.54));\n",
       "  --xr-font-color3: var(--jp-content-font-color3, rgba(0, 0, 0, 0.38));\n",
       "  --xr-border-color: var(--jp-border-color2, #e0e0e0);\n",
       "  --xr-disabled-color: var(--jp-layout-color3, #bdbdbd);\n",
       "  --xr-background-color: var(--jp-layout-color0, white);\n",
       "  --xr-background-color-row-even: var(--jp-layout-color1, white);\n",
       "  --xr-background-color-row-odd: var(--jp-layout-color2, #eeeeee);\n",
       "}\n",
       "\n",
       "html[theme=dark],\n",
       "html[data-theme=dark],\n",
       "body[data-theme=dark],\n",
       "body.vscode-dark {\n",
       "  --xr-font-color0: rgba(255, 255, 255, 1);\n",
       "  --xr-font-color2: rgba(255, 255, 255, 0.54);\n",
       "  --xr-font-color3: rgba(255, 255, 255, 0.38);\n",
       "  --xr-border-color: #1F1F1F;\n",
       "  --xr-disabled-color: #515151;\n",
       "  --xr-background-color: #111111;\n",
       "  --xr-background-color-row-even: #111111;\n",
       "  --xr-background-color-row-odd: #313131;\n",
       "}\n",
       "\n",
       ".xr-wrap {\n",
       "  display: block !important;\n",
       "  min-width: 300px;\n",
       "  max-width: 700px;\n",
       "}\n",
       "\n",
       ".xr-text-repr-fallback {\n",
       "  /* fallback to plain text repr when CSS is not injected (untrusted notebook) */\n",
       "  display: none;\n",
       "}\n",
       "\n",
       ".xr-header {\n",
       "  padding-top: 6px;\n",
       "  padding-bottom: 6px;\n",
       "  margin-bottom: 4px;\n",
       "  border-bottom: solid 1px var(--xr-border-color);\n",
       "}\n",
       "\n",
       ".xr-header > div,\n",
       ".xr-header > ul {\n",
       "  display: inline;\n",
       "  margin-top: 0;\n",
       "  margin-bottom: 0;\n",
       "}\n",
       "\n",
       ".xr-obj-type,\n",
       ".xr-array-name {\n",
       "  margin-left: 2px;\n",
       "  margin-right: 10px;\n",
       "}\n",
       "\n",
       ".xr-obj-type {\n",
       "  color: var(--xr-font-color2);\n",
       "}\n",
       "\n",
       ".xr-sections {\n",
       "  padding-left: 0 !important;\n",
       "  display: grid;\n",
       "  grid-template-columns: 150px auto auto 1fr 0 20px 0 20px;\n",
       "}\n",
       "\n",
       ".xr-section-item {\n",
       "  display: contents;\n",
       "}\n",
       "\n",
       ".xr-section-item input {\n",
       "  display: inline-block;\n",
       "  opacity: 0;\n",
       "}\n",
       "\n",
       ".xr-section-item input + label {\n",
       "  color: var(--xr-disabled-color);\n",
       "}\n",
       "\n",
       ".xr-section-item input:enabled + label {\n",
       "  cursor: pointer;\n",
       "  color: var(--xr-font-color2);\n",
       "}\n",
       "\n",
       ".xr-section-item input:focus + label {\n",
       "  border: 2px solid var(--xr-font-color0);\n",
       "}\n",
       "\n",
       ".xr-section-item input:enabled + label:hover {\n",
       "  color: var(--xr-font-color0);\n",
       "}\n",
       "\n",
       ".xr-section-summary {\n",
       "  grid-column: 1;\n",
       "  color: var(--xr-font-color2);\n",
       "  font-weight: 500;\n",
       "}\n",
       "\n",
       ".xr-section-summary > span {\n",
       "  display: inline-block;\n",
       "  padding-left: 0.5em;\n",
       "}\n",
       "\n",
       ".xr-section-summary-in:disabled + label {\n",
       "  color: var(--xr-font-color2);\n",
       "}\n",
       "\n",
       ".xr-section-summary-in + label:before {\n",
       "  display: inline-block;\n",
       "  content: '►';\n",
       "  font-size: 11px;\n",
       "  width: 15px;\n",
       "  text-align: center;\n",
       "}\n",
       "\n",
       ".xr-section-summary-in:disabled + label:before {\n",
       "  color: var(--xr-disabled-color);\n",
       "}\n",
       "\n",
       ".xr-section-summary-in:checked + label:before {\n",
       "  content: '▼';\n",
       "}\n",
       "\n",
       ".xr-section-summary-in:checked + label > span {\n",
       "  display: none;\n",
       "}\n",
       "\n",
       ".xr-section-summary,\n",
       ".xr-section-inline-details {\n",
       "  padding-top: 4px;\n",
       "  padding-bottom: 4px;\n",
       "}\n",
       "\n",
       ".xr-section-inline-details {\n",
       "  grid-column: 2 / -1;\n",
       "}\n",
       "\n",
       ".xr-section-details {\n",
       "  display: none;\n",
       "  grid-column: 1 / -1;\n",
       "  margin-bottom: 5px;\n",
       "}\n",
       "\n",
       ".xr-section-summary-in:checked ~ .xr-section-details {\n",
       "  display: contents;\n",
       "}\n",
       "\n",
       ".xr-array-wrap {\n",
       "  grid-column: 1 / -1;\n",
       "  display: grid;\n",
       "  grid-template-columns: 20px auto;\n",
       "}\n",
       "\n",
       ".xr-array-wrap > label {\n",
       "  grid-column: 1;\n",
       "  vertical-align: top;\n",
       "}\n",
       "\n",
       ".xr-preview {\n",
       "  color: var(--xr-font-color3);\n",
       "}\n",
       "\n",
       ".xr-array-preview,\n",
       ".xr-array-data {\n",
       "  padding: 0 5px !important;\n",
       "  grid-column: 2;\n",
       "}\n",
       "\n",
       ".xr-array-data,\n",
       ".xr-array-in:checked ~ .xr-array-preview {\n",
       "  display: none;\n",
       "}\n",
       "\n",
       ".xr-array-in:checked ~ .xr-array-data,\n",
       ".xr-array-preview {\n",
       "  display: inline-block;\n",
       "}\n",
       "\n",
       ".xr-dim-list {\n",
       "  display: inline-block !important;\n",
       "  list-style: none;\n",
       "  padding: 0 !important;\n",
       "  margin: 0;\n",
       "}\n",
       "\n",
       ".xr-dim-list li {\n",
       "  display: inline-block;\n",
       "  padding: 0;\n",
       "  margin: 0;\n",
       "}\n",
       "\n",
       ".xr-dim-list:before {\n",
       "  content: '(';\n",
       "}\n",
       "\n",
       ".xr-dim-list:after {\n",
       "  content: ')';\n",
       "}\n",
       "\n",
       ".xr-dim-list li:not(:last-child):after {\n",
       "  content: ',';\n",
       "  padding-right: 5px;\n",
       "}\n",
       "\n",
       ".xr-has-index {\n",
       "  font-weight: bold;\n",
       "}\n",
       "\n",
       ".xr-var-list,\n",
       ".xr-var-item {\n",
       "  display: contents;\n",
       "}\n",
       "\n",
       ".xr-var-item > div,\n",
       ".xr-var-item label,\n",
       ".xr-var-item > .xr-var-name span {\n",
       "  background-color: var(--xr-background-color-row-even);\n",
       "  margin-bottom: 0;\n",
       "}\n",
       "\n",
       ".xr-var-item > .xr-var-name:hover span {\n",
       "  padding-right: 5px;\n",
       "}\n",
       "\n",
       ".xr-var-list > li:nth-child(odd) > div,\n",
       ".xr-var-list > li:nth-child(odd) > label,\n",
       ".xr-var-list > li:nth-child(odd) > .xr-var-name span {\n",
       "  background-color: var(--xr-background-color-row-odd);\n",
       "}\n",
       "\n",
       ".xr-var-name {\n",
       "  grid-column: 1;\n",
       "}\n",
       "\n",
       ".xr-var-dims {\n",
       "  grid-column: 2;\n",
       "}\n",
       "\n",
       ".xr-var-dtype {\n",
       "  grid-column: 3;\n",
       "  text-align: right;\n",
       "  color: var(--xr-font-color2);\n",
       "}\n",
       "\n",
       ".xr-var-preview {\n",
       "  grid-column: 4;\n",
       "}\n",
       "\n",
       ".xr-index-preview {\n",
       "  grid-column: 2 / 5;\n",
       "  color: var(--xr-font-color2);\n",
       "}\n",
       "\n",
       ".xr-var-name,\n",
       ".xr-var-dims,\n",
       ".xr-var-dtype,\n",
       ".xr-preview,\n",
       ".xr-attrs dt {\n",
       "  white-space: nowrap;\n",
       "  overflow: hidden;\n",
       "  text-overflow: ellipsis;\n",
       "  padding-right: 10px;\n",
       "}\n",
       "\n",
       ".xr-var-name:hover,\n",
       ".xr-var-dims:hover,\n",
       ".xr-var-dtype:hover,\n",
       ".xr-attrs dt:hover {\n",
       "  overflow: visible;\n",
       "  width: auto;\n",
       "  z-index: 1;\n",
       "}\n",
       "\n",
       ".xr-var-attrs,\n",
       ".xr-var-data,\n",
       ".xr-index-data {\n",
       "  display: none;\n",
       "  background-color: var(--xr-background-color) !important;\n",
       "  padding-bottom: 5px !important;\n",
       "}\n",
       "\n",
       ".xr-var-attrs-in:checked ~ .xr-var-attrs,\n",
       ".xr-var-data-in:checked ~ .xr-var-data,\n",
       ".xr-index-data-in:checked ~ .xr-index-data {\n",
       "  display: block;\n",
       "}\n",
       "\n",
       ".xr-var-data > table {\n",
       "  float: right;\n",
       "}\n",
       "\n",
       ".xr-var-name span,\n",
       ".xr-var-data,\n",
       ".xr-index-name div,\n",
       ".xr-index-data,\n",
       ".xr-attrs {\n",
       "  padding-left: 25px !important;\n",
       "}\n",
       "\n",
       ".xr-attrs,\n",
       ".xr-var-attrs,\n",
       ".xr-var-data,\n",
       ".xr-index-data {\n",
       "  grid-column: 1 / -1;\n",
       "}\n",
       "\n",
       "dl.xr-attrs {\n",
       "  padding: 0;\n",
       "  margin: 0;\n",
       "  display: grid;\n",
       "  grid-template-columns: 125px auto;\n",
       "}\n",
       "\n",
       ".xr-attrs dt,\n",
       ".xr-attrs dd {\n",
       "  padding: 0;\n",
       "  margin: 0;\n",
       "  float: left;\n",
       "  padding-right: 10px;\n",
       "  width: auto;\n",
       "}\n",
       "\n",
       ".xr-attrs dt {\n",
       "  font-weight: normal;\n",
       "  grid-column: 1;\n",
       "}\n",
       "\n",
       ".xr-attrs dt:hover span {\n",
       "  display: inline-block;\n",
       "  background: var(--xr-background-color);\n",
       "  padding-right: 10px;\n",
       "}\n",
       "\n",
       ".xr-attrs dd {\n",
       "  grid-column: 2;\n",
       "  white-space: pre-wrap;\n",
       "  word-break: break-all;\n",
       "}\n",
       "\n",
       ".xr-icon-database,\n",
       ".xr-icon-file-text2,\n",
       ".xr-no-icon {\n",
       "  display: inline-block;\n",
       "  vertical-align: middle;\n",
       "  width: 1em;\n",
       "  height: 1.5em !important;\n",
       "  stroke-width: 0;\n",
       "  stroke: currentColor;\n",
       "  fill: currentColor;\n",
       "}\n",
       "</style><pre class='xr-text-repr-fallback'>&lt;xarray.DataArray &#x27;XarrayVectorArray&#x27; (foo: 2, A: 2, B: 3)&gt; Size: 96B\n",
       "array([[[0., 1., 2.],\n",
       "        [0., 1., 2.]],\n",
       "\n",
       "       [[0., 1., 2.],\n",
       "        [0., 1., 2.]]])\n",
       "Coordinates:\n",
       "  * foo      (foo) int64 16B 0 1\n",
       "  * A        (A) int64 16B 1 2\n",
       "  * B        (B) &lt;U1 12B &#x27;a&#x27; &#x27;b&#x27; &#x27;c&#x27;</pre><div class='xr-wrap' style='display:none'><div class='xr-header'><div class='xr-obj-type'>xarray.DataArray</div><div class='xr-array-name'>'XarrayVectorArray'</div><ul class='xr-dim-list'><li><span class='xr-has-index'>foo</span>: 2</li><li><span class='xr-has-index'>A</span>: 2</li><li><span class='xr-has-index'>B</span>: 3</li></ul></div><ul class='xr-sections'><li class='xr-section-item'><div class='xr-array-wrap'><input id='section-21858477-937a-47ce-ac62-c70e53bddada' class='xr-array-in' type='checkbox' checked><label for='section-21858477-937a-47ce-ac62-c70e53bddada' title='Show/hide data repr'><svg class='icon xr-icon-database'><use xlink:href='#icon-database'></use></svg></label><div class='xr-array-preview xr-preview'><span>0.0 1.0 2.0 0.0 1.0 2.0 0.0 1.0 2.0 0.0 1.0 2.0</span></div><div class='xr-array-data'><pre>array([[[0., 1., 2.],\n",
       "        [0., 1., 2.]],\n",
       "\n",
       "       [[0., 1., 2.],\n",
       "        [0., 1., 2.]]])</pre></div></div></li><li class='xr-section-item'><input id='section-58503511-8224-4849-8f2e-bcd5aef7475a' class='xr-section-summary-in' type='checkbox'  checked><label for='section-58503511-8224-4849-8f2e-bcd5aef7475a' class='xr-section-summary' >Coordinates: <span>(3)</span></label><div class='xr-section-inline-details'></div><div class='xr-section-details'><ul class='xr-var-list'><li class='xr-var-item'><div class='xr-var-name'><span class='xr-has-index'>foo</span></div><div class='xr-var-dims'>(foo)</div><div class='xr-var-dtype'>int64</div><div class='xr-var-preview xr-preview'>0 1</div><input id='attrs-649450f3-161a-4522-b87a-b08736619eb3' class='xr-var-attrs-in' type='checkbox' disabled><label for='attrs-649450f3-161a-4522-b87a-b08736619eb3' title='Show/Hide attributes'><svg class='icon xr-icon-file-text2'><use xlink:href='#icon-file-text2'></use></svg></label><input id='data-424b1420-9dd1-49e4-9867-f4accc248e38' class='xr-var-data-in' type='checkbox'><label for='data-424b1420-9dd1-49e4-9867-f4accc248e38' title='Show/Hide data repr'><svg class='icon xr-icon-database'><use xlink:href='#icon-database'></use></svg></label><div class='xr-var-attrs'><dl class='xr-attrs'></dl></div><div class='xr-var-data'><pre>array([0, 1])</pre></div></li><li class='xr-var-item'><div class='xr-var-name'><span class='xr-has-index'>A</span></div><div class='xr-var-dims'>(A)</div><div class='xr-var-dtype'>int64</div><div class='xr-var-preview xr-preview'>1 2</div><input id='attrs-52d7fc78-0ed5-4013-b9cc-7ae06f755291' class='xr-var-attrs-in' type='checkbox' disabled><label for='attrs-52d7fc78-0ed5-4013-b9cc-7ae06f755291' title='Show/Hide attributes'><svg class='icon xr-icon-file-text2'><use xlink:href='#icon-file-text2'></use></svg></label><input id='data-65b0ea7b-cf3d-4b8e-889b-150204eed20f' class='xr-var-data-in' type='checkbox'><label for='data-65b0ea7b-cf3d-4b8e-889b-150204eed20f' title='Show/Hide data repr'><svg class='icon xr-icon-database'><use xlink:href='#icon-database'></use></svg></label><div class='xr-var-attrs'><dl class='xr-attrs'></dl></div><div class='xr-var-data'><pre>array([1, 2])</pre></div></li><li class='xr-var-item'><div class='xr-var-name'><span class='xr-has-index'>B</span></div><div class='xr-var-dims'>(B)</div><div class='xr-var-dtype'>&lt;U1</div><div class='xr-var-preview xr-preview'>&#x27;a&#x27; &#x27;b&#x27; &#x27;c&#x27;</div><input id='attrs-a0c1a9a9-a86c-4a43-a9d8-fb466a6664c8' class='xr-var-attrs-in' type='checkbox' disabled><label for='attrs-a0c1a9a9-a86c-4a43-a9d8-fb466a6664c8' title='Show/Hide attributes'><svg class='icon xr-icon-file-text2'><use xlink:href='#icon-file-text2'></use></svg></label><input id='data-619b8e48-5a79-49b1-83f1-b69adb108dc5' class='xr-var-data-in' type='checkbox'><label for='data-619b8e48-5a79-49b1-83f1-b69adb108dc5' title='Show/Hide data repr'><svg class='icon xr-icon-database'><use xlink:href='#icon-database'></use></svg></label><div class='xr-var-attrs'><dl class='xr-attrs'></dl></div><div class='xr-var-data'><pre>array([&#x27;a&#x27;, &#x27;b&#x27;, &#x27;c&#x27;], dtype=&#x27;&lt;U1&#x27;)</pre></div></li></ul></div></li><li class='xr-section-item'><input id='section-6864c860-1be0-445e-ae90-35da8a2c55be' class='xr-section-summary-in' type='checkbox'  ><label for='section-6864c860-1be0-445e-ae90-35da8a2c55be' class='xr-section-summary' >Indexes: <span>(3)</span></label><div class='xr-section-inline-details'></div><div class='xr-section-details'><ul class='xr-var-list'><li class='xr-var-item'><div class='xr-index-name'><div>foo</div></div><div class='xr-index-preview'>PandasIndex</div><div></div><input id='index-6fbf92e9-5c67-471a-9a92-c3ea065269cb' class='xr-index-data-in' type='checkbox'/><label for='index-6fbf92e9-5c67-471a-9a92-c3ea065269cb' title='Show/Hide index repr'><svg class='icon xr-icon-database'><use xlink:href='#icon-database'></use></svg></label><div class='xr-index-data'><pre>PandasIndex(Index([0, 1], dtype=&#x27;int64&#x27;, name=&#x27;foo&#x27;))</pre></div></li><li class='xr-var-item'><div class='xr-index-name'><div>A</div></div><div class='xr-index-preview'>PandasIndex</div><div></div><input id='index-a8f7255c-bca2-400e-a594-dd1cde5f9333' class='xr-index-data-in' type='checkbox'/><label for='index-a8f7255c-bca2-400e-a594-dd1cde5f9333' title='Show/Hide index repr'><svg class='icon xr-icon-database'><use xlink:href='#icon-database'></use></svg></label><div class='xr-index-data'><pre>PandasIndex(Index([1, 2], dtype=&#x27;int64&#x27;, name=&#x27;A&#x27;))</pre></div></li><li class='xr-var-item'><div class='xr-index-name'><div>B</div></div><div class='xr-index-preview'>PandasIndex</div><div></div><input id='index-0f4f1a32-4e0a-4fcb-b1af-d6393d955c11' class='xr-index-data-in' type='checkbox'/><label for='index-0f4f1a32-4e0a-4fcb-b1af-d6393d955c11' title='Show/Hide index repr'><svg class='icon xr-icon-database'><use xlink:href='#icon-database'></use></svg></label><div class='xr-index-data'><pre>PandasIndex(Index([&#x27;a&#x27;, &#x27;b&#x27;, &#x27;c&#x27;], dtype=&#x27;object&#x27;, name=&#x27;B&#x27;))</pre></div></li></ul></div></li><li class='xr-section-item'><input id='section-5b2399bc-39e7-44a9-80ca-08b9d49a579c' class='xr-section-summary-in' type='checkbox' disabled ><label for='section-5b2399bc-39e7-44a9-80ca-08b9d49a579c' class='xr-section-summary'  title='Expand/collapse section'>Attributes: <span>(0)</span></label><div class='xr-section-inline-details'></div><div class='xr-section-details'><dl class='xr-attrs'></dl></div></li></ul></div></div>"
      ],
      "text/plain": [
       "<xarray.DataArray 'XarrayVectorArray' (foo: 2, A: 2, B: 3)> Size: 96B\n",
       "array([[[0., 1., 2.],\n",
       "        [0., 1., 2.]],\n",
       "\n",
       "       [[0., 1., 2.],\n",
       "        [0., 1., 2.]]])\n",
       "Coordinates:\n",
       "  * foo      (foo) int64 16B 0 1\n",
       "  * A        (A) int64 16B 1 2\n",
       "  * B        (B) <U1 12B 'a' 'b' 'c'"
      ]
     },
     "execution_count": null,
     "metadata": {},
     "output_type": "execute_result"
    }
   ],
   "source": [
    "_.array"
   ]
  },
  {
   "cell_type": "code",
   "execution_count": null,
   "metadata": {},
   "outputs": [],
   "source": [
    "#|hide\n",
    "test_da(\"mul1\", _)"
   ]
  },
  {
   "cell_type": "code",
   "execution_count": null,
   "metadata": {},
   "outputs": [
    {
     "data": {
      "text/html": [
       "{A(2) ⨉ B(3), }"
      ],
      "text/plain": [
       "XarrayVectorArray(\n",
       "    XarrayVectorSpace(\n",
       "        coords=Coordinates:\n",
       "                 * A        (A) int64 16B 1 2\n",
       "                 * B        (B) <U1 12B 'a' 'b' 'c',\n",
       "        name='boo'),\n",
       "    XarrayVectorArrayImpl(\n",
       "        <xarray.DataArray 'boo' (A: 2, B: 3)> Size: 48B\n",
       "        array([[1., 1., 1.],\n",
       "               [1., 1., 1.]])\n",
       "        Coordinates:\n",
       "          * A        (A) int64 16B 1 2\n",
       "          * B        (B) <U1 12B 'a' 'b' 'c',\n",
       "        <xarray.DataArray 'boo' (A: 2, B: 3)> Size: 48B\n",
       "        array([[0., 0., 0.],\n",
       "               [0., 0., 0.]])\n",
       "        Coordinates:\n",
       "          * A        (A) int64 16B 1 2\n",
       "          * B        (B) <U1 12B 'a' 'b' 'c'),\n",
       "    _len=1)"
      ]
     },
     "execution_count": null,
     "metadata": {},
     "output_type": "execute_result"
    }
   ],
   "source": [
    "space.ones()"
   ]
  },
  {
   "cell_type": "code",
   "execution_count": null,
   "metadata": {},
   "outputs": [
    {
     "data": {
      "text/html": [
       "{C(2) ⨉ D(3), }"
      ],
      "text/plain": [
       "XarrayVectorArray(\n",
       "    XarrayVectorSpace(\n",
       "        coords=Coordinates:\n",
       "                 * C        (C) int64 16B 1 2\n",
       "                 * D        (D) <U1 12B 'a' 'b' 'c',\n",
       "        name='foo'),\n",
       "    XarrayVectorArrayImpl(\n",
       "        <xarray.DataArray 'foo' (C: 2, D: 3)> Size: 48B\n",
       "        array([[0., 0., 0.],\n",
       "               [0., 0., 0.]])\n",
       "        Coordinates:\n",
       "          * C        (C) int64 16B 1 2\n",
       "          * D        (D) <U1 12B 'a' 'b' 'c',\n",
       "        <xarray.DataArray 'foo' (C: 2, D: 3)> Size: 48B\n",
       "        array([[0., 0., 0.],\n",
       "               [0., 0., 0.]])\n",
       "        Coordinates:\n",
       "          * C        (C) int64 16B 1 2\n",
       "          * D        (D) <U1 12B 'a' 'b' 'c'),\n",
       "    _len=1)"
      ]
     },
     "execution_count": null,
     "metadata": {},
     "output_type": "execute_result"
    }
   ],
   "source": [
    "space2.zeros()"
   ]
  },
  {
   "cell_type": "code",
   "execution_count": null,
   "metadata": {},
   "outputs": [
    {
     "data": {
      "text/html": [
       "{A(2) ⨉ B(3) ⨉ C(2) ⨉ D(3), }"
      ],
      "text/plain": [
       "XarrayVectorArray(\n",
       "    XarrayVectorSpace(\n",
       "        coords=Coordinates:\n",
       "                 * A        (A) int64 16B 1 2\n",
       "                 * B        (B) <U1 12B 'a' 'b' 'c'\n",
       "                 * C        (C) int64 16B 1 2\n",
       "                 * D        (D) <U1 12B 'a' 'b' 'c',\n",
       "        name='XarrayVectorArray'),\n",
       "    XarrayVectorArrayImpl(\n",
       "        <xarray.DataArray 'XarrayVectorArray' (A: 2, B: 3, C: 2, D: 3)> Size: 288B\n",
       "        array([[[[0., 0., 0.],\n",
       "                 [0., 0., 0.]],\n",
       "\n",
       "                [[0., 0., 0.],\n",
       "                 [0., 0., 0.]],\n",
       "\n",
       "                [[0., 0., 0.],\n",
       "                 [0., 0., 0.]]],\n",
       "\n",
       "\n",
       "               [[[0., 0., 0.],\n",
       "                 [0., 0., 0.]],\n",
       "\n",
       "                [[0., 0., 0.],\n",
       "                 [0., 0., 0.]],\n",
       "\n",
       "                [[0., 0., 0.],\n",
       "                 [0., 0., 0.]]]])\n",
       "        Coordinates:\n",
       "          * A        (A) int64 16B 1 2\n",
       "          * B        (B) <U1 12B 'a' 'b' 'c'\n",
       "          * C        (C) int64 16B 1 2\n",
       "          * D        (D) <U1 12B 'a' 'b' 'c',\n",
       "        <xarray.DataArray 'XarrayVectorArray' (A: 2, B: 3, C: 2, D: 3)> Size: 288B\n",
       "        array([[[[0., 0., 0.],\n",
       "                 [0., 0., 0.]],\n",
       "\n",
       "                [[0., 0., 0.],\n",
       "                 [0., 0., 0.]],\n",
       "\n",
       "                [[0., 0., 0.],\n",
       "                 [0., 0., 0.]]],\n",
       "\n",
       "\n",
       "               [[[0., 0., 0.],\n",
       "                 [0., 0., 0.]],\n",
       "\n",
       "                [[0., 0., 0.],\n",
       "                 [0., 0., 0.]],\n",
       "\n",
       "                [[0., 0., 0.],\n",
       "                 [0., 0., 0.]]]])\n",
       "        Coordinates:\n",
       "          * A        (A) int64 16B 1 2\n",
       "          * B        (B) <U1 12B 'a' 'b' 'c'\n",
       "          * C        (C) int64 16B 1 2\n",
       "          * D        (D) <U1 12B 'a' 'b' 'c'),\n",
       "    _len=1)"
      ]
     },
     "execution_count": null,
     "metadata": {},
     "output_type": "execute_result"
    }
   ],
   "source": [
    "space.ones() * space2.zeros()"
   ]
  },
  {
   "cell_type": "code",
   "execution_count": null,
   "metadata": {},
   "outputs": [],
   "source": [
    "#|hide\n",
    "test_da(\"mul2\", _.array)"
   ]
  },
  {
   "cell_type": "markdown",
   "metadata": {},
   "source": [
    "### real -\n"
   ]
  },
  {
   "cell_type": "code",
   "execution_count": null,
   "metadata": {},
   "outputs": [],
   "source": [
    "#| export\n",
    "#|hide\n",
    "def _reim(da:DataArray):\n",
    "    return xr.concat([da.real, da.imag], dim=xr.Variable('Part', ['Re', 'Im'])).transpose(*da.dims, 'Part')"
   ]
  },
  {
   "cell_type": "code",
   "execution_count": null,
   "metadata": {},
   "outputs": [],
   "source": [
    "#| export\n",
    "#|hide\n",
    "@patch\n",
    "def real(self:XarrayVectorArrayImpl, ind):\n",
    "    return XarrayVectorArrayImpl(self.copy(False, ind).array.real, self.space_array)\n",
    "@patch\n",
    "def imag(self:XarrayVectorArrayImpl, ind):\n",
    "    return XarrayVectorArrayImpl(self.copy(False, ind).array.imag, self.space_array)\n",
    "@patch\n",
    "def conj(self:XarrayVectorArrayImpl, ind):\n",
    "    if np.isrealobj(self._array):\n",
    "        return self.copy(False, ind)\n",
    "    return XarrayVectorArrayImpl(np.conj(self.copy(False, ind).array), self.space_array)\n",
    "@patch\n",
    "def reim(self:XarrayVectorArrayImpl):\n",
    "    return XarrayVectorArrayImpl(_reim(self.array), self.space_array)\n",
    "@patch(as_prop=True)\n",
    "def reim(self:XarrayVectorArray):\n",
    "    impl = self.impl.reim()\n",
    "    if impl is self.impl:\n",
    "        return self.copy()\n",
    "    else:\n",
    "        return type(self)(self.space, impl)"
   ]
  },
  {
   "cell_type": "code",
   "execution_count": null,
   "metadata": {},
   "outputs": [
    {
     "data": {
      "text/html": [
       "{A(2) ⨉ B(3)}"
      ],
      "text/plain": [
       "XarrayVectorSpace(\n",
       "    coords=Coordinates:\n",
       "             * A        (A) int64 16B 1 2\n",
       "             * B        (B) <U1 12B 'a' 'b' 'c',\n",
       "    name='boo')"
      ]
     },
     "execution_count": null,
     "metadata": {},
     "output_type": "execute_result"
    }
   ],
   "source": [
    "space = XarrayVectorSpace({'A': [1, 2], 'B': ['a', 'b', 'c']}, name='boo')\n",
    "space"
   ]
  },
  {
   "cell_type": "code",
   "execution_count": null,
   "metadata": {},
   "outputs": [
    {
     "data": {
      "text/html": [
       "{A(2) ⨉ B(3), foo(2)}"
      ],
      "text/plain": [
       "XarrayVectorArray(\n",
       "    XarrayVectorSpace(\n",
       "        coords=Coordinates:\n",
       "                 * A        (A) int64 16B 1 2\n",
       "                 * B        (B) <U1 12B 'a' 'b' 'c',\n",
       "        name='boo'),\n",
       "    XarrayVectorArrayImpl(\n",
       "        <xarray.DataArray 'boo' (foo: 2, A: 2, B: 3)> Size: 96B\n",
       "        array([[[0., 0., 0.],\n",
       "                [0., 0., 0.]],\n",
       "\n",
       "               [[0., 0., 0.],\n",
       "                [0., 0., 0.]]])\n",
       "        Coordinates:\n",
       "          * foo      (foo) int64 16B 0 1\n",
       "          * A        (A) int64 16B 1 2\n",
       "          * B        (B) <U1 12B 'a' 'b' 'c',\n",
       "        <xarray.DataArray 'boo' (A: 2, B: 3)> Size: 48B\n",
       "        array([[0., 0., 0.],\n",
       "               [0., 0., 0.]])\n",
       "        Coordinates:\n",
       "          * A        (A) int64 16B 1 2\n",
       "          * B        (B) <U1 12B 'a' 'b' 'c'),\n",
       "    _len=2)"
      ]
     },
     "execution_count": null,
     "metadata": {},
     "output_type": "execute_result"
    }
   ],
   "source": [
    "U = space.zeros({'foo': range(2)})\n",
    "U"
   ]
  },
  {
   "cell_type": "code",
   "execution_count": null,
   "metadata": {},
   "outputs": [
    {
     "data": {
      "text/html": [
       "{A(2) ⨉ B(3), foo(2)}"
      ],
      "text/plain": [
       "XarrayVectorArray(\n",
       "    XarrayVectorSpace(\n",
       "        coords=Coordinates:\n",
       "                 * A        (A) int64 16B 1 2\n",
       "                 * B        (B) <U1 12B 'a' 'b' 'c',\n",
       "        name='boo'),\n",
       "    XarrayVectorArrayImpl(\n",
       "        <xarray.DataArray 'boo' (foo: 2, A: 2, B: 3)> Size: 96B\n",
       "        array([[[0., 0., 0.],\n",
       "                [0., 0., 0.]],\n",
       "\n",
       "               [[0., 0., 0.],\n",
       "                [0., 0., 0.]]])\n",
       "        Coordinates:\n",
       "          * foo      (foo) int64 16B 0 1\n",
       "          * A        (A) int64 16B 1 2\n",
       "          * B        (B) <U1 12B 'a' 'b' 'c',\n",
       "        <xarray.DataArray 'boo' (A: 2, B: 3)> Size: 48B\n",
       "        array([[0., 0., 0.],\n",
       "               [0., 0., 0.]])\n",
       "        Coordinates:\n",
       "          * A        (A) int64 16B 1 2\n",
       "          * B        (B) <U1 12B 'a' 'b' 'c'),\n",
       "    _len=2)"
      ]
     },
     "execution_count": null,
     "metadata": {},
     "output_type": "execute_result"
    }
   ],
   "source": [
    "U"
   ]
  },
  {
   "cell_type": "code",
   "execution_count": null,
   "metadata": {},
   "outputs": [
    {
     "data": {
      "text/html": [
       "{A(2) ⨉ B(3), foo(2) ⨉ Part(2)}"
      ],
      "text/plain": [
       "XarrayVectorArray(\n",
       "    XarrayVectorSpace(\n",
       "        coords=Coordinates:\n",
       "                 * A        (A) int64 16B 1 2\n",
       "                 * B        (B) <U1 12B 'a' 'b' 'c',\n",
       "        name='boo'),\n",
       "    XarrayVectorArrayImpl(\n",
       "        <xarray.DataArray 'boo' (foo: 2, A: 2, B: 3, Part: 2)> Size: 192B\n",
       "        array([[[[0., 0.],\n",
       "                 [0., 0.],\n",
       "                 [0., 0.]],\n",
       "\n",
       "                [[0., 0.],\n",
       "                 [0., 0.],\n",
       "                 [0., 0.]]],\n",
       "\n",
       "\n",
       "               [[[0., 0.],\n",
       "                 [0., 0.],\n",
       "                 [0., 0.]],\n",
       "\n",
       "                [[0., 0.],\n",
       "                 [0., 0.],\n",
       "                 [0., 0.]]]])\n",
       "        Coordinates:\n",
       "          * foo      (foo) int64 16B 0 1\n",
       "          * A        (A) int64 16B 1 2\n",
       "          * B        (B) <U1 12B 'a' 'b' 'c'\n",
       "          * Part     (Part) <U2 16B 'Re' 'Im',\n",
       "        <xarray.DataArray 'boo' (A: 2, B: 3)> Size: 48B\n",
       "        array([[0., 0., 0.],\n",
       "               [0., 0., 0.]])\n",
       "        Coordinates:\n",
       "          * A        (A) int64 16B 1 2\n",
       "          * B        (B) <U1 12B 'a' 'b' 'c'),\n",
       "    _len=4)"
      ]
     },
     "execution_count": null,
     "metadata": {},
     "output_type": "execute_result"
    }
   ],
   "source": [
    "U.reim"
   ]
  },
  {
   "cell_type": "code",
   "execution_count": null,
   "metadata": {},
   "outputs": [
    {
     "data": {
      "text/html": [
       "{A(2) ⨉ B(3), foo(2)}"
      ],
      "text/plain": [
       "XarrayVectorArray(\n",
       "    XarrayVectorSpace(\n",
       "        coords=Coordinates:\n",
       "                 * A        (A) int64 16B 1 2\n",
       "                 * B        (B) <U1 12B 'a' 'b' 'c',\n",
       "        name='boo'),\n",
       "    XarrayVectorArrayImpl(\n",
       "        <xarray.DataArray 'boo' (foo: 2, A: 2, B: 3)> Size: 96B\n",
       "        array([[[0., 0., 0.],\n",
       "                [0., 0., 0.]],\n",
       "\n",
       "               [[0., 0., 0.],\n",
       "                [0., 0., 0.]]])\n",
       "        Coordinates:\n",
       "          * foo      (foo) int64 16B 0 1\n",
       "          * A        (A) int64 16B 1 2\n",
       "          * B        (B) <U1 12B 'a' 'b' 'c',\n",
       "        <xarray.DataArray 'boo' (A: 2, B: 3)> Size: 48B\n",
       "        array([[0., 0., 0.],\n",
       "               [0., 0., 0.]])\n",
       "        Coordinates:\n",
       "          * A        (A) int64 16B 1 2\n",
       "          * B        (B) <U1 12B 'a' 'b' 'c'),\n",
       "    _len=2)"
      ]
     },
     "execution_count": null,
     "metadata": {},
     "output_type": "execute_result"
    }
   ],
   "source": [
    "U.real"
   ]
  },
  {
   "cell_type": "code",
   "execution_count": null,
   "metadata": {},
   "outputs": [
    {
     "data": {
      "text/html": [
       "{A(2) ⨉ B(3), foo(2)}"
      ],
      "text/plain": [
       "XarrayVectorArray(\n",
       "    XarrayVectorSpace(\n",
       "        coords=Coordinates:\n",
       "                 * A        (A) int64 16B 1 2\n",
       "                 * B        (B) <U1 12B 'a' 'b' 'c',\n",
       "        name='boo'),\n",
       "    XarrayVectorArrayImpl(\n",
       "        <xarray.DataArray 'boo' (foo: 2, A: 2, B: 3)> Size: 96B\n",
       "        array([[[0., 0., 0.],\n",
       "                [0., 0., 0.]],\n",
       "\n",
       "               [[0., 0., 0.],\n",
       "                [0., 0., 0.]]])\n",
       "        Coordinates:\n",
       "          * foo      (foo) int64 16B 0 1\n",
       "          * A        (A) int64 16B 1 2\n",
       "          * B        (B) <U1 12B 'a' 'b' 'c',\n",
       "        <xarray.DataArray 'boo' (A: 2, B: 3)> Size: 48B\n",
       "        array([[0., 0., 0.],\n",
       "               [0., 0., 0.]])\n",
       "        Coordinates:\n",
       "          * A        (A) int64 16B 1 2\n",
       "          * B        (B) <U1 12B 'a' 'b' 'c'),\n",
       "    _len=2)"
      ]
     },
     "execution_count": null,
     "metadata": {},
     "output_type": "execute_result"
    }
   ],
   "source": [
    "U.imag"
   ]
  },
  {
   "cell_type": "code",
   "execution_count": null,
   "metadata": {},
   "outputs": [
    {
     "data": {
      "text/html": [
       "{A(2) ⨉ B(3), foo(2)}"
      ],
      "text/plain": [
       "XarrayVectorArray(\n",
       "    XarrayVectorSpace(\n",
       "        coords=Coordinates:\n",
       "                 * A        (A) int64 16B 1 2\n",
       "                 * B        (B) <U1 12B 'a' 'b' 'c',\n",
       "        name='boo'),\n",
       "    XarrayVectorArrayImpl(\n",
       "        <xarray.DataArray 'boo' (foo: 2, A: 2, B: 3)> Size: 96B\n",
       "        array([[[0., 0., 0.],\n",
       "                [0., 0., 0.]],\n",
       "\n",
       "               [[0., 0., 0.],\n",
       "                [0., 0., 0.]]])\n",
       "        Coordinates:\n",
       "          * foo      (foo) int64 16B 0 1\n",
       "          * A        (A) int64 16B 1 2\n",
       "          * B        (B) <U1 12B 'a' 'b' 'c',\n",
       "        <xarray.DataArray 'boo' (A: 2, B: 3)> Size: 48B\n",
       "        array([[0., 0., 0.],\n",
       "               [0., 0., 0.]])\n",
       "        Coordinates:\n",
       "          * A        (A) int64 16B 1 2\n",
       "          * B        (B) <U1 12B 'a' 'b' 'c'),\n",
       "    _len=2)"
      ]
     },
     "execution_count": null,
     "metadata": {},
     "output_type": "execute_result"
    }
   ],
   "source": [
    "U.conj()"
   ]
  },
  {
   "cell_type": "markdown",
   "metadata": {},
   "source": [
    "### scal -\n"
   ]
  },
  {
   "cell_type": "code",
   "execution_count": null,
   "metadata": {},
   "outputs": [],
   "source": [
    "#| export\n",
    "#|hide\n",
    "@patch\n",
    "def scal(self:XarrayVectorArrayImpl, alpha, ind):\n",
    "    if ind is not None: raise NotImplementedError\n",
    "    self._array *= alpha"
   ]
  },
  {
   "cell_type": "code",
   "execution_count": null,
   "metadata": {},
   "outputs": [
    {
     "data": {
      "text/html": [
       "{A(2) ⨉ B(3)}"
      ],
      "text/plain": [
       "XarrayVectorSpace(\n",
       "    coords=Coordinates:\n",
       "             * A        (A) int64 16B 1 2\n",
       "             * B        (B) <U1 12B 'a' 'b' 'c',\n",
       "    name='boo')"
      ]
     },
     "execution_count": null,
     "metadata": {},
     "output_type": "execute_result"
    }
   ],
   "source": [
    "space = XarrayVectorSpace({'A': [1, 2], 'B': ['a', 'b', 'c']}, name='boo')\n",
    "space"
   ]
  },
  {
   "cell_type": "code",
   "execution_count": null,
   "metadata": {},
   "outputs": [
    {
     "data": {
      "text/html": [
       "{A(2) ⨉ B(3), foo(2)}"
      ],
      "text/plain": [
       "XarrayVectorArray(\n",
       "    XarrayVectorSpace(\n",
       "        coords=Coordinates:\n",
       "                 * A        (A) int64 16B 1 2\n",
       "                 * B        (B) <U1 12B 'a' 'b' 'c',\n",
       "        name='boo'),\n",
       "    XarrayVectorArrayImpl(\n",
       "        <xarray.DataArray 'boo' (foo: 2, A: 2, B: 3)> Size: 96B\n",
       "        array([[[0., 0., 0.],\n",
       "                [0., 0., 0.]],\n",
       "\n",
       "               [[0., 0., 0.],\n",
       "                [0., 0., 0.]]])\n",
       "        Coordinates:\n",
       "          * foo      (foo) int64 16B 0 1\n",
       "          * A        (A) int64 16B 1 2\n",
       "          * B        (B) <U1 12B 'a' 'b' 'c',\n",
       "        <xarray.DataArray 'boo' (A: 2, B: 3)> Size: 48B\n",
       "        array([[0., 0., 0.],\n",
       "               [0., 0., 0.]])\n",
       "        Coordinates:\n",
       "          * A        (A) int64 16B 1 2\n",
       "          * B        (B) <U1 12B 'a' 'b' 'c'),\n",
       "    _len=2)"
      ]
     },
     "execution_count": null,
     "metadata": {},
     "output_type": "execute_result"
    }
   ],
   "source": [
    "U = space.zeros({'foo': range(2)})\n",
    "U"
   ]
  },
  {
   "cell_type": "code",
   "execution_count": null,
   "metadata": {},
   "outputs": [],
   "source": [
    "U.scal(0.)"
   ]
  },
  {
   "cell_type": "code",
   "execution_count": null,
   "metadata": {},
   "outputs": [
    {
     "data": {
      "text/html": [
       "{A(2) ⨉ B(3), foo(2)}"
      ],
      "text/plain": [
       "XarrayVectorArray(\n",
       "    XarrayVectorSpace(\n",
       "        coords=Coordinates:\n",
       "                 * A        (A) int64 16B 1 2\n",
       "                 * B        (B) <U1 12B 'a' 'b' 'c',\n",
       "        name='boo'),\n",
       "    XarrayVectorArrayImpl(\n",
       "        <xarray.DataArray 'boo' (foo: 2, A: 2, B: 3)> Size: 96B\n",
       "        array([[[0., 0., 0.],\n",
       "                [0., 0., 0.]],\n",
       "\n",
       "               [[0., 0., 0.],\n",
       "                [0., 0., 0.]]])\n",
       "        Coordinates:\n",
       "          * foo      (foo) int64 16B 0 1\n",
       "          * A        (A) int64 16B 1 2\n",
       "          * B        (B) <U1 12B 'a' 'b' 'c',\n",
       "        <xarray.DataArray 'boo' (A: 2, B: 3)> Size: 48B\n",
       "        array([[0., 0., 0.],\n",
       "               [0., 0., 0.]])\n",
       "        Coordinates:\n",
       "          * A        (A) int64 16B 1 2\n",
       "          * B        (B) <U1 12B 'a' 'b' 'c'),\n",
       "    _len=2)"
      ]
     },
     "execution_count": null,
     "metadata": {},
     "output_type": "execute_result"
    }
   ],
   "source": [
    "U"
   ]
  },
  {
   "cell_type": "markdown",
   "metadata": {},
   "source": [
    "### axpy -\n"
   ]
  },
  {
   "cell_type": "code",
   "execution_count": null,
   "metadata": {},
   "outputs": [],
   "source": [
    "#| export\n",
    "#|hide\n",
    "@patch\n",
    "def axpy(self:XarrayVectorArrayImpl, alpha, x, ind, xind):\n",
    "    if ind is not None: raise NotImplementedError\n",
    "    B = x._array\n",
    "    if isinstance(alpha, Number):\n",
    "        if alpha == 1:\n",
    "            self._array += B\n",
    "            return\n",
    "        elif alpha == -1:\n",
    "            self._array -= B\n",
    "            return\n",
    "\n",
    "    self._array += B * alpha"
   ]
  },
  {
   "cell_type": "markdown",
   "metadata": {},
   "source": [
    "### scal_copy -\n"
   ]
  },
  {
   "cell_type": "code",
   "execution_count": null,
   "metadata": {},
   "outputs": [],
   "source": [
    "#| export\n",
    "#|hide\n",
    "@patch\n",
    "def scal_copy(self:XarrayVectorArrayImpl, alpha, ind):\n",
    "    if ind is not None: raise NotImplementedError\n",
    "\n",
    "    if isinstance(alpha, Number) and alpha == -1:\n",
    "        return type(self)(-self._array, self.space_array)\n",
    "\n",
    "    return type(self)(self._array * alpha, self.space_array)"
   ]
  },
  {
   "cell_type": "markdown",
   "metadata": {},
   "source": [
    "### axpy_copy -\n"
   ]
  },
  {
   "cell_type": "code",
   "execution_count": null,
   "metadata": {},
   "outputs": [],
   "source": [
    "#| export\n",
    "#|hide\n",
    "@patch\n",
    "def axpy_copy(self:XarrayVectorArrayImpl, alpha, x, ind, xind):\n",
    "    if ind is not None: raise NotImplementedError\n",
    "    B = x._array\n",
    "    if isinstance(alpha, Number):\n",
    "        if alpha == 1:\n",
    "            return type(self)(self._array + B, self.space_array)\n",
    "        elif alpha == -1:\n",
    "            return type(self)(self._array - B, self.space_array)\n",
    "    return type(self)(self._array + B * alpha, self.space_array)"
   ]
  },
  {
   "cell_type": "markdown",
   "metadata": {},
   "source": [
    "## Visualization -"
   ]
  },
  {
   "cell_type": "code",
   "execution_count": null,
   "metadata": {},
   "outputs": [],
   "source": [
    "#|export\n",
    "import pandas as pd\n",
    "import plotly.express as px\n",
    "import plotly"
   ]
  },
  {
   "cell_type": "markdown",
   "metadata": {},
   "source": [
    "### defaults -"
   ]
  },
  {
   "cell_type": "code",
   "execution_count": null,
   "metadata": {},
   "outputs": [],
   "source": [
    "#|export\n",
    "plotly.io.templates.default = \"plotly_white\"\n",
    "plotly.io.templates['plotly_white'].layout.legend = plotly.graph_objects.layout.Legend(tracegroupgap=0)\n",
    "plotly.io.templates[\"plotly_white\"].layout.width = 700\n",
    "plotly.io.templates[\"plotly_white\"].layout.height = 400\n",
    "plotly.io.templates[\"plotly_white\"].layout.autosize = False\n",
    "plotly.io.templates[\"plotly_white\"].layout.colorway = array([\n",
    "       '#2fa1da', '#fb4f2f', '#e4ae38', '#6d904f', '#8a8a8a', '#16bdcf',\n",
    "       '#9367bc', '#d62628', '#1f77b3', '#e277c1', '#8c564b', '#bcbc21',\n",
    "       '#3a0182', '#004200', '#0fffa8', '#5d003f', '#c6bcff', '#424f52',\n",
    "       '#b80080', '#ffb6b3', '#7c0100', '#6026ff', '#ffff9a', '#aec8aa',\n",
    "       '#00857c', '#543a00', '#93fbff', '#00bf00', '#7c00a0', '#aa7200',\n",
    "       '#90ff00', '#01bd89', '#00447b', '#c8826e', '#ff1f82', '#dd00ff',\n",
    "       '#057400', '#644460', '#878eff', '#ffb5f4', '#526236', '#cd85ff',\n",
    "       '#676983', '#bdb3bd', '#a56089', '#95d3ff', '#0100f7', '#ff8001',\n",
    "       '#8a2844', '#aca06d', '#52448a', '#c8ffd8', '#aa4600', '#ff798e',\n",
    "       '#82d370', '#909ebf', '#9300f4', '#ebcf9a', '#ac8ab1', '#006249',\n",
    "       '#ffdb00', '#877750', '#7eaaa3', '#000097', '#f400c6', '#643328',\n",
    "       '#006677', '#03e2c8', '#a736ae', '#c4dbe1', '#4d6eff', '#9a9301',\n",
    "       '#cd576b', '#efddfd', '#795900', '#5e879a', '#b3ff91', '#5d726b',\n",
    "       '#520066', '#058750', '#831f6e', '#3b9505', '#647200', '#f0a06b',\n",
    "       '#5e4f44', '#bc0049', '#cf6726', '#d695aa', '#895dff', '#826b75',\n",
    "       '#2a54b8', '#6e7cba', '#e6d4d3', '#5d0018', '#7c3b01', '#80b17c',\n",
    "       '#c8d87c', '#00e83b', '#7cb1ff', '#ff54ff', '#a32621', '#1ce4ff',\n",
    "       '#7caf3b', '#7b4b90', '#dfff48', '#6b00c3', '#cda897', '#bd62c3',\n",
    "       '#89cdcd', '#4603c8', '#5d9179', '#414901', '#05a79c', '#cf8c36',\n",
    "       '#fff7cf', '#425470', '#b544ff', '#cf4993', '#cfa3df', '#93d400',\n",
    "       '#a793da', '#2da557', '#8ce2b5', '#a3a89c', '#6b5bb6', '#ff7e5d',\n",
    "       '#a78289', '#afbdd8', '#2ac3ff', '#a5673d', '#f690fd', '#874b64',\n",
    "       '#ff0c4b', '#215d23', '#4291ff', '#87829c', '#672d44', '#b14f41',\n",
    "       '#004d52', '#5e1a00', '#ac4167', '#4f3167', '#d6fffd', '#7eb5d1',\n",
    "       '#a8b869', '#ff95ca', '#c87495', '#364f38', '#ffcf62', '#5d5762',\n",
    "       '#879375', '#a877ff', '#03c862', '#e6bdd4', '#d4e2cf', '#876790',\n",
    "       '#897c26', '#cddbff', '#aa676b', '#313474', '#ff5da8', '#009aaf',\n",
    "       '#70ffdd', '#775b38', '#4f649a', '#cc00b3', '#567b54', '#506e7b',\n",
    "       '#015e91', '#aabcbd', '#017e99', '#03dd97', '#873a2b', '#ef958e',\n",
    "       '#75c6aa', '#70695d', '#ccdb08', '#af8556', '#d80075', '#9c3f80',\n",
    "       '#d84400', '#dd6754', '#5eff79', '#d4b172', '#62265d', '#baa13d',\n",
    "       '#d8f2b3', '#56018e', '#a19aaa', '#4d4926', '#a3a8ff', '#ace8db',\n",
    "       '#995901', '#ac00e2', '#46822f', '#cac3ac', '#00c4b5', '#605277',\n",
    "       '#336d67', '#a59180', '#8399a1', '#fd5664', '#7095d1', '#728c07',\n",
    "       '#7e004b', '#152fa0', '#d1c1e2', '#c885cf', '#6b444b', '#7e0023',\n",
    "       '#00a179', '#b1a8cf', '#f90000', '#afe8ff', '#939e4f', '#727982',\n",
    "       '#d82d54', '#466001', '#0059ff', '#773fb5', '#ace460', '#674424',\n",
    "       '#525d50', '#957267', '#a8e49a', '#a30057', '#d862f6', '#8e7ccf',\n",
    "       '#ffbc93', '#a30091', '#9affb8', '#a7c1ff', '#f46200', '#e4efff',\n",
    "       '#b89ca3', '#609593', '#ff9e34', '#8c2800', '#726b31', '#df824d',\n",
    "       '#af7bd4', '#bc2d00', '#7b6ea3', '#484262', '#c6a3ff', '#004d28',\n",
    "       '#c3c68e', '#df48d6', '#e6e864', '#e4c10a', '#00f4f0', '#9e5ba1',\n",
    "       '#4b41b6', '#64338e', '#757e6b', '#a88936'])"
   ]
  },
  {
   "cell_type": "markdown",
   "metadata": {},
   "source": [
    "### plotly_dataarray -\n"
   ]
  },
  {
   "cell_type": "code",
   "execution_count": null,
   "metadata": {},
   "outputs": [],
   "source": [
    "# #| export\n",
    "# def _plotly_automargin(plot, element):\n",
    "#     plot.state['layout']['yaxis']['automargin'] = True\n",
    "#     plot.state['layout']['xaxis']['automargin'] = True"
   ]
  },
  {
   "cell_type": "code",
   "execution_count": null,
   "metadata": {},
   "outputs": [],
   "source": [
    "# #| export\n",
    "# def _delete(string, strings):\n",
    "#     for s in strings: string = string.replace(s, '')\n",
    "#     return string"
   ]
  },
  {
   "cell_type": "code",
   "execution_count": null,
   "metadata": {},
   "outputs": [],
   "source": [
    "#| export\n",
    "def _categorical_dims(array:DataArray): return [dim for dim in array.dims if not isinstance(array[dim][0].item(), Number)]\n",
    "def _numerical_dims(array:DataArray):   return [dim for dim in array.dims if     isinstance(array[dim][0].item(), Number)]"
   ]
  },
  {
   "cell_type": "code",
   "execution_count": null,
   "metadata": {},
   "outputs": [],
   "source": [
    "# #| export\n",
    "# def _set_scrubber_fractional_value(column, fraction): \n",
    "#     scrubber = column.objects[1].objects[0]\n",
    "#     scrubber.value = round(scrubber.end * fraction)"
   ]
  },
  {
   "cell_type": "code",
   "execution_count": null,
   "metadata": {},
   "outputs": [],
   "source": [
    "# #| export\n",
    "# def _scaled_loc(arr, fraction):\n",
    "#     return arr[int(len(arr) * fraction)]"
   ]
  },
  {
   "cell_type": "code",
   "execution_count": null,
   "metadata": {},
   "outputs": [],
   "source": [
    "#|export\n",
    "def _numerical_dim_sort_order(da, dim):\n",
    "    \"\"\"Assign priority for each dimension to be put on the x axis.\n",
    "    Lower number is higher priority. Time is preferred on a scrubber, velocity preferred on the x-axis.\n",
    "    \"\"\"\n",
    "    if \"time\" in dim.lower(): return 2\n",
    "    if \"velocity\" in dim.lower(): return 0\n",
    "    if isinstance(da[dim][0].item(), Real): return 1\n",
    "    return 0"
   ]
  },
  {
   "cell_type": "code",
   "execution_count": null,
   "metadata": {},
   "outputs": [],
   "source": [
    "#|export\n",
    "def _set_plotly_frame(fig, n):\n",
    "    fig.update_layout(sliders=[dict(active=n)])\n",
    "    for i in range(len(fig.data)):\n",
    "        fig.data[i].y = fig.frames[n].data[i].y"
   ]
  },
  {
   "cell_type": "code",
   "execution_count": null,
   "metadata": {},
   "outputs": [],
   "source": [
    "#|export\n",
    "def _format_slider_labels(fig, slider_label_precision=2):\n",
    "    for step in fig.layout.sliders[0].steps:\n",
    "        step.label = prefix_format(float(step.label), slider_label_precision)"
   ]
  },
  {
   "cell_type": "code",
   "execution_count": null,
   "metadata": {},
   "outputs": [],
   "source": [
    "#|export\n",
    "#|hide\n",
    "def plotly_dataarray(da:DataArray, slider_label_precision=2, **kwargs):\n",
    "    \"\"\"Visualize the data contained in the `XarrayVectorArray`.\n",
    "    Put the first dimension with numerical coordinates on the x axis, and include a scrubber if there is a second numerical dimension. \n",
    "    Put categorical dimensions in the legend. If the data are complex, add the real and imaginary parts as a categorical dimension.\n",
    "    If there are no numerical dimensions, plot the categorical dimension(s) as a horizontal bar plot.\n",
    "    \"\"\"\n",
    "    da = da.copy()\n",
    "    if np.any(np.iscomplex(da)): da = _reim(da)\n",
    "    if da.name is None: da = da.rename('Value')\n",
    "    df = da.to_dataframe().reset_index()\n",
    "    num = _numerical_dims(da)\n",
    "    cat = _categorical_dims(da)\n",
    "    if not num and da.ndim <= 2: \n",
    "        return px.bar(\n",
    "            df, \n",
    "            y=cat[0], \n",
    "            x=da.name, \n",
    "            color=get_item(cat, 1), \n",
    "            orientation='h', \n",
    "            **filter_args(px.bar, **kwargs)\n",
    "        ).update_layout(\n",
    "            legend_title=None\n",
    "        )\n",
    "    if da.ndim > 4: raise NotImplementedError\n",
    "    if len(num) > 2: num, cat = num[:2], cat + num[2:]\n",
    "    if len(cat) > 2: cat, num = cat[:2], num + cat[2:]\n",
    "    num = sorted(num, key=partial(_numerical_dim_sort_order, da))\n",
    "    fig = px.line(\n",
    "        df,\n",
    "        x=get_item(num, 0),\n",
    "        y=da.name,\n",
    "        animation_frame=get_item(num, 1),\n",
    "        color=get_item(cat, 0),\n",
    "        line_dash=get_item(cat, 1),\n",
    "        **filter_args(px.line, **kwargs)\n",
    "    ).update_layout(\n",
    "        legend_title=None\n",
    "    )\n",
    "    if len(num) == 2:\n",
    "        padding = .05\n",
    "        ymin, ymax = da.min(), da.max()\n",
    "        yrange = (ymax - ymin)\n",
    "        fig.update_layout(\n",
    "            yaxis_range=(ymin - padding * yrange, ymax + padding * yrange)\n",
    "        )\n",
    "        _format_slider_labels(fig, slider_label_precision=slider_label_precision)\n",
    "        _set_plotly_frame(fig, len(da[num[1]])//3)\n",
    "        # Set total animation time to 3s, unless that would make individual frames shorter than 100ms, which seems to be performance limit\n",
    "        fig.layout.updatemenus[0].buttons[0].args[1]['frame']['duration'] = max(3000/len(da[num[1]]), 100) \n",
    "        fig.layout.updatemenus[0].buttons[0].args[1]['transition']['duration'] = 0\n",
    "    kwargs = filter_out_args(px.line, **kwargs)\n",
    "    for k in kwargs:\n",
    "        try: fig.update_layout({k: kwargs[k]})\n",
    "        except ValueError: pass\n",
    "        try: fig.update_traces({k: kwargs[k]})\n",
    "        except ValueError: pass\n",
    "    return fig"
   ]
  },
  {
   "cell_type": "code",
   "execution_count": null,
   "metadata": {},
   "outputs": [],
   "source": [
    "#|hide\n",
    "space = XarrayVectorSpace(coords={'foo': ['aaaaaaaaaaaaaaaaaa', 'b', 'c']})\n",
    "U1 = space.random(name='bar')\n",
    "U2 = 1j * space.random(name='bar')\n",
    "U3 = space.random({'baz': np.arange(5)}, name='bar')\n",
    "U4 = 1j * space.random({'baz': np.arange(5)}, name='bar')\n",
    "U5 = space.random({'baz': np.arange(5), 'bing': .000123456 * np.linspace(0, 5, 6)}, name='bar')"
   ]
  },
  {
   "cell_type": "code",
   "execution_count": null,
   "metadata": {},
   "outputs": [
    {
     "data": {
      "application/vnd.plotly.v1+json": {
       "config": {
        "plotlyServerURL": "https://plot.ly"
       },
       "data": [
        {
         "alignmentgroup": "True",
         "hovertemplate": "bar=%{x}<br>foo=%{y}<extra></extra>",
         "legendgroup": "",
         "marker": {
          "color": "#2fa1da",
          "pattern": {
           "shape": ""
          }
         },
         "name": "",
         "offsetgroup": "",
         "orientation": "h",
         "showlegend": false,
         "textposition": "auto",
         "type": "bar",
         "x": [
          0.9988296373336586,
          0.6135164847298321,
          0.8897794665398687
         ],
         "xaxis": "x",
         "y": [
          "aaaaaaaaaaaaaaaaaa",
          "b",
          "c"
         ],
         "yaxis": "y"
        }
       ],
       "layout": {
        "barmode": "relative",
        "height": 360,
        "legend": {
         "title": {},
         "tracegroupgap": 0
        },
        "margin": {
         "t": 60
        },
        "template": {
         "data": {
          "bar": [
           {
            "error_x": {
             "color": "#2a3f5f"
            },
            "error_y": {
             "color": "#2a3f5f"
            },
            "marker": {
             "line": {
              "color": "white",
              "width": 0.5
             },
             "pattern": {
              "fillmode": "overlay",
              "size": 10,
              "solidity": 0.2
             }
            },
            "type": "bar"
           }
          ],
          "barpolar": [
           {
            "marker": {
             "line": {
              "color": "white",
              "width": 0.5
             },
             "pattern": {
              "fillmode": "overlay",
              "size": 10,
              "solidity": 0.2
             }
            },
            "type": "barpolar"
           }
          ],
          "carpet": [
           {
            "aaxis": {
             "endlinecolor": "#2a3f5f",
             "gridcolor": "#C8D4E3",
             "linecolor": "#C8D4E3",
             "minorgridcolor": "#C8D4E3",
             "startlinecolor": "#2a3f5f"
            },
            "baxis": {
             "endlinecolor": "#2a3f5f",
             "gridcolor": "#C8D4E3",
             "linecolor": "#C8D4E3",
             "minorgridcolor": "#C8D4E3",
             "startlinecolor": "#2a3f5f"
            },
            "type": "carpet"
           }
          ],
          "choropleth": [
           {
            "colorbar": {
             "outlinewidth": 0,
             "ticks": ""
            },
            "type": "choropleth"
           }
          ],
          "contour": [
           {
            "colorbar": {
             "outlinewidth": 0,
             "ticks": ""
            },
            "colorscale": [
             [
              0,
              "#0d0887"
             ],
             [
              0.1111111111111111,
              "#46039f"
             ],
             [
              0.2222222222222222,
              "#7201a8"
             ],
             [
              0.3333333333333333,
              "#9c179e"
             ],
             [
              0.4444444444444444,
              "#bd3786"
             ],
             [
              0.5555555555555556,
              "#d8576b"
             ],
             [
              0.6666666666666666,
              "#ed7953"
             ],
             [
              0.7777777777777778,
              "#fb9f3a"
             ],
             [
              0.8888888888888888,
              "#fdca26"
             ],
             [
              1,
              "#f0f921"
             ]
            ],
            "type": "contour"
           }
          ],
          "contourcarpet": [
           {
            "colorbar": {
             "outlinewidth": 0,
             "ticks": ""
            },
            "type": "contourcarpet"
           }
          ],
          "heatmap": [
           {
            "colorbar": {
             "outlinewidth": 0,
             "ticks": ""
            },
            "colorscale": [
             [
              0,
              "#0d0887"
             ],
             [
              0.1111111111111111,
              "#46039f"
             ],
             [
              0.2222222222222222,
              "#7201a8"
             ],
             [
              0.3333333333333333,
              "#9c179e"
             ],
             [
              0.4444444444444444,
              "#bd3786"
             ],
             [
              0.5555555555555556,
              "#d8576b"
             ],
             [
              0.6666666666666666,
              "#ed7953"
             ],
             [
              0.7777777777777778,
              "#fb9f3a"
             ],
             [
              0.8888888888888888,
              "#fdca26"
             ],
             [
              1,
              "#f0f921"
             ]
            ],
            "type": "heatmap"
           }
          ],
          "heatmapgl": [
           {
            "colorbar": {
             "outlinewidth": 0,
             "ticks": ""
            },
            "colorscale": [
             [
              0,
              "#0d0887"
             ],
             [
              0.1111111111111111,
              "#46039f"
             ],
             [
              0.2222222222222222,
              "#7201a8"
             ],
             [
              0.3333333333333333,
              "#9c179e"
             ],
             [
              0.4444444444444444,
              "#bd3786"
             ],
             [
              0.5555555555555556,
              "#d8576b"
             ],
             [
              0.6666666666666666,
              "#ed7953"
             ],
             [
              0.7777777777777778,
              "#fb9f3a"
             ],
             [
              0.8888888888888888,
              "#fdca26"
             ],
             [
              1,
              "#f0f921"
             ]
            ],
            "type": "heatmapgl"
           }
          ],
          "histogram": [
           {
            "marker": {
             "pattern": {
              "fillmode": "overlay",
              "size": 10,
              "solidity": 0.2
             }
            },
            "type": "histogram"
           }
          ],
          "histogram2d": [
           {
            "colorbar": {
             "outlinewidth": 0,
             "ticks": ""
            },
            "colorscale": [
             [
              0,
              "#0d0887"
             ],
             [
              0.1111111111111111,
              "#46039f"
             ],
             [
              0.2222222222222222,
              "#7201a8"
             ],
             [
              0.3333333333333333,
              "#9c179e"
             ],
             [
              0.4444444444444444,
              "#bd3786"
             ],
             [
              0.5555555555555556,
              "#d8576b"
             ],
             [
              0.6666666666666666,
              "#ed7953"
             ],
             [
              0.7777777777777778,
              "#fb9f3a"
             ],
             [
              0.8888888888888888,
              "#fdca26"
             ],
             [
              1,
              "#f0f921"
             ]
            ],
            "type": "histogram2d"
           }
          ],
          "histogram2dcontour": [
           {
            "colorbar": {
             "outlinewidth": 0,
             "ticks": ""
            },
            "colorscale": [
             [
              0,
              "#0d0887"
             ],
             [
              0.1111111111111111,
              "#46039f"
             ],
             [
              0.2222222222222222,
              "#7201a8"
             ],
             [
              0.3333333333333333,
              "#9c179e"
             ],
             [
              0.4444444444444444,
              "#bd3786"
             ],
             [
              0.5555555555555556,
              "#d8576b"
             ],
             [
              0.6666666666666666,
              "#ed7953"
             ],
             [
              0.7777777777777778,
              "#fb9f3a"
             ],
             [
              0.8888888888888888,
              "#fdca26"
             ],
             [
              1,
              "#f0f921"
             ]
            ],
            "type": "histogram2dcontour"
           }
          ],
          "mesh3d": [
           {
            "colorbar": {
             "outlinewidth": 0,
             "ticks": ""
            },
            "type": "mesh3d"
           }
          ],
          "parcoords": [
           {
            "line": {
             "colorbar": {
              "outlinewidth": 0,
              "ticks": ""
             }
            },
            "type": "parcoords"
           }
          ],
          "pie": [
           {
            "automargin": true,
            "type": "pie"
           }
          ],
          "scatter": [
           {
            "fillpattern": {
             "fillmode": "overlay",
             "size": 10,
             "solidity": 0.2
            },
            "type": "scatter"
           }
          ],
          "scatter3d": [
           {
            "line": {
             "colorbar": {
              "outlinewidth": 0,
              "ticks": ""
             }
            },
            "marker": {
             "colorbar": {
              "outlinewidth": 0,
              "ticks": ""
             }
            },
            "type": "scatter3d"
           }
          ],
          "scattercarpet": [
           {
            "marker": {
             "colorbar": {
              "outlinewidth": 0,
              "ticks": ""
             }
            },
            "type": "scattercarpet"
           }
          ],
          "scattergeo": [
           {
            "marker": {
             "colorbar": {
              "outlinewidth": 0,
              "ticks": ""
             }
            },
            "type": "scattergeo"
           }
          ],
          "scattergl": [
           {
            "marker": {
             "colorbar": {
              "outlinewidth": 0,
              "ticks": ""
             }
            },
            "type": "scattergl"
           }
          ],
          "scattermapbox": [
           {
            "marker": {
             "colorbar": {
              "outlinewidth": 0,
              "ticks": ""
             }
            },
            "type": "scattermapbox"
           }
          ],
          "scatterpolar": [
           {
            "marker": {
             "colorbar": {
              "outlinewidth": 0,
              "ticks": ""
             }
            },
            "type": "scatterpolar"
           }
          ],
          "scatterpolargl": [
           {
            "marker": {
             "colorbar": {
              "outlinewidth": 0,
              "ticks": ""
             }
            },
            "type": "scatterpolargl"
           }
          ],
          "scatterternary": [
           {
            "marker": {
             "colorbar": {
              "outlinewidth": 0,
              "ticks": ""
             }
            },
            "type": "scatterternary"
           }
          ],
          "surface": [
           {
            "colorbar": {
             "outlinewidth": 0,
             "ticks": ""
            },
            "colorscale": [
             [
              0,
              "#0d0887"
             ],
             [
              0.1111111111111111,
              "#46039f"
             ],
             [
              0.2222222222222222,
              "#7201a8"
             ],
             [
              0.3333333333333333,
              "#9c179e"
             ],
             [
              0.4444444444444444,
              "#bd3786"
             ],
             [
              0.5555555555555556,
              "#d8576b"
             ],
             [
              0.6666666666666666,
              "#ed7953"
             ],
             [
              0.7777777777777778,
              "#fb9f3a"
             ],
             [
              0.8888888888888888,
              "#fdca26"
             ],
             [
              1,
              "#f0f921"
             ]
            ],
            "type": "surface"
           }
          ],
          "table": [
           {
            "cells": {
             "fill": {
              "color": "#EBF0F8"
             },
             "line": {
              "color": "white"
             }
            },
            "header": {
             "fill": {
              "color": "#C8D4E3"
             },
             "line": {
              "color": "white"
             }
            },
            "type": "table"
           }
          ]
         },
         "layout": {
          "annotationdefaults": {
           "arrowcolor": "#2a3f5f",
           "arrowhead": 0,
           "arrowwidth": 1
          },
          "autosize": false,
          "autotypenumbers": "strict",
          "coloraxis": {
           "colorbar": {
            "outlinewidth": 0,
            "ticks": ""
           }
          },
          "colorscale": {
           "diverging": [
            [
             0,
             "#8e0152"
            ],
            [
             0.1,
             "#c51b7d"
            ],
            [
             0.2,
             "#de77ae"
            ],
            [
             0.3,
             "#f1b6da"
            ],
            [
             0.4,
             "#fde0ef"
            ],
            [
             0.5,
             "#f7f7f7"
            ],
            [
             0.6,
             "#e6f5d0"
            ],
            [
             0.7,
             "#b8e186"
            ],
            [
             0.8,
             "#7fbc41"
            ],
            [
             0.9,
             "#4d9221"
            ],
            [
             1,
             "#276419"
            ]
           ],
           "sequential": [
            [
             0,
             "#0d0887"
            ],
            [
             0.1111111111111111,
             "#46039f"
            ],
            [
             0.2222222222222222,
             "#7201a8"
            ],
            [
             0.3333333333333333,
             "#9c179e"
            ],
            [
             0.4444444444444444,
             "#bd3786"
            ],
            [
             0.5555555555555556,
             "#d8576b"
            ],
            [
             0.6666666666666666,
             "#ed7953"
            ],
            [
             0.7777777777777778,
             "#fb9f3a"
            ],
            [
             0.8888888888888888,
             "#fdca26"
            ],
            [
             1,
             "#f0f921"
            ]
           ],
           "sequentialminus": [
            [
             0,
             "#0d0887"
            ],
            [
             0.1111111111111111,
             "#46039f"
            ],
            [
             0.2222222222222222,
             "#7201a8"
            ],
            [
             0.3333333333333333,
             "#9c179e"
            ],
            [
             0.4444444444444444,
             "#bd3786"
            ],
            [
             0.5555555555555556,
             "#d8576b"
            ],
            [
             0.6666666666666666,
             "#ed7953"
            ],
            [
             0.7777777777777778,
             "#fb9f3a"
            ],
            [
             0.8888888888888888,
             "#fdca26"
            ],
            [
             1,
             "#f0f921"
            ]
           ]
          },
          "colorway": [
           "#2fa1da",
           "#fb4f2f",
           "#e4ae38",
           "#6d904f",
           "#8a8a8a",
           "#16bdcf",
           "#9367bc",
           "#d62628",
           "#1f77b3",
           "#e277c1",
           "#8c564b",
           "#bcbc21",
           "#3a0182",
           "#004200",
           "#0fffa8",
           "#5d003f",
           "#c6bcff",
           "#424f52",
           "#b80080",
           "#ffb6b3",
           "#7c0100",
           "#6026ff",
           "#ffff9a",
           "#aec8aa",
           "#00857c",
           "#543a00",
           "#93fbff",
           "#00bf00",
           "#7c00a0",
           "#aa7200",
           "#90ff00",
           "#01bd89",
           "#00447b",
           "#c8826e",
           "#ff1f82",
           "#dd00ff",
           "#057400",
           "#644460",
           "#878eff",
           "#ffb5f4",
           "#526236",
           "#cd85ff",
           "#676983",
           "#bdb3bd",
           "#a56089",
           "#95d3ff",
           "#0100f7",
           "#ff8001",
           "#8a2844",
           "#aca06d",
           "#52448a",
           "#c8ffd8",
           "#aa4600",
           "#ff798e",
           "#82d370",
           "#909ebf",
           "#9300f4",
           "#ebcf9a",
           "#ac8ab1",
           "#006249",
           "#ffdb00",
           "#877750",
           "#7eaaa3",
           "#000097",
           "#f400c6",
           "#643328",
           "#006677",
           "#03e2c8",
           "#a736ae",
           "#c4dbe1",
           "#4d6eff",
           "#9a9301",
           "#cd576b",
           "#efddfd",
           "#795900",
           "#5e879a",
           "#b3ff91",
           "#5d726b",
           "#520066",
           "#058750",
           "#831f6e",
           "#3b9505",
           "#647200",
           "#f0a06b",
           "#5e4f44",
           "#bc0049",
           "#cf6726",
           "#d695aa",
           "#895dff",
           "#826b75",
           "#2a54b8",
           "#6e7cba",
           "#e6d4d3",
           "#5d0018",
           "#7c3b01",
           "#80b17c",
           "#c8d87c",
           "#00e83b",
           "#7cb1ff",
           "#ff54ff",
           "#a32621",
           "#1ce4ff",
           "#7caf3b",
           "#7b4b90",
           "#dfff48",
           "#6b00c3",
           "#cda897",
           "#bd62c3",
           "#89cdcd",
           "#4603c8",
           "#5d9179",
           "#414901",
           "#05a79c",
           "#cf8c36",
           "#fff7cf",
           "#425470",
           "#b544ff",
           "#cf4993",
           "#cfa3df",
           "#93d400",
           "#a793da",
           "#2da557",
           "#8ce2b5",
           "#a3a89c",
           "#6b5bb6",
           "#ff7e5d",
           "#a78289",
           "#afbdd8",
           "#2ac3ff",
           "#a5673d",
           "#f690fd",
           "#874b64",
           "#ff0c4b",
           "#215d23",
           "#4291ff",
           "#87829c",
           "#672d44",
           "#b14f41",
           "#004d52",
           "#5e1a00",
           "#ac4167",
           "#4f3167",
           "#d6fffd",
           "#7eb5d1",
           "#a8b869",
           "#ff95ca",
           "#c87495",
           "#364f38",
           "#ffcf62",
           "#5d5762",
           "#879375",
           "#a877ff",
           "#03c862",
           "#e6bdd4",
           "#d4e2cf",
           "#876790",
           "#897c26",
           "#cddbff",
           "#aa676b",
           "#313474",
           "#ff5da8",
           "#009aaf",
           "#70ffdd",
           "#775b38",
           "#4f649a",
           "#cc00b3",
           "#567b54",
           "#506e7b",
           "#015e91",
           "#aabcbd",
           "#017e99",
           "#03dd97",
           "#873a2b",
           "#ef958e",
           "#75c6aa",
           "#70695d",
           "#ccdb08",
           "#af8556",
           "#d80075",
           "#9c3f80",
           "#d84400",
           "#dd6754",
           "#5eff79",
           "#d4b172",
           "#62265d",
           "#baa13d",
           "#d8f2b3",
           "#56018e",
           "#a19aaa",
           "#4d4926",
           "#a3a8ff",
           "#ace8db",
           "#995901",
           "#ac00e2",
           "#46822f",
           "#cac3ac",
           "#00c4b5",
           "#605277",
           "#336d67",
           "#a59180",
           "#8399a1",
           "#fd5664",
           "#7095d1",
           "#728c07",
           "#7e004b",
           "#152fa0",
           "#d1c1e2",
           "#c885cf",
           "#6b444b",
           "#7e0023",
           "#00a179",
           "#b1a8cf",
           "#f90000",
           "#afe8ff",
           "#939e4f",
           "#727982",
           "#d82d54",
           "#466001",
           "#0059ff",
           "#773fb5",
           "#ace460",
           "#674424",
           "#525d50",
           "#957267",
           "#a8e49a",
           "#a30057",
           "#d862f6",
           "#8e7ccf",
           "#ffbc93",
           "#a30091",
           "#9affb8",
           "#a7c1ff",
           "#f46200",
           "#e4efff",
           "#b89ca3",
           "#609593",
           "#ff9e34",
           "#8c2800",
           "#726b31",
           "#df824d",
           "#af7bd4",
           "#bc2d00",
           "#7b6ea3",
           "#484262",
           "#c6a3ff",
           "#004d28",
           "#c3c68e",
           "#df48d6",
           "#e6e864",
           "#e4c10a",
           "#00f4f0",
           "#9e5ba1",
           "#4b41b6",
           "#64338e",
           "#757e6b",
           "#a88936"
          ],
          "font": {
           "color": "#2a3f5f"
          },
          "geo": {
           "bgcolor": "white",
           "lakecolor": "white",
           "landcolor": "white",
           "showlakes": true,
           "showland": true,
           "subunitcolor": "#C8D4E3"
          },
          "height": 400,
          "hoverlabel": {
           "align": "left"
          },
          "hovermode": "closest",
          "legend": {
           "tracegroupgap": 0
          },
          "mapbox": {
           "style": "light"
          },
          "paper_bgcolor": "white",
          "plot_bgcolor": "white",
          "polar": {
           "angularaxis": {
            "gridcolor": "#EBF0F8",
            "linecolor": "#EBF0F8",
            "ticks": ""
           },
           "bgcolor": "white",
           "radialaxis": {
            "gridcolor": "#EBF0F8",
            "linecolor": "#EBF0F8",
            "ticks": ""
           }
          },
          "scene": {
           "xaxis": {
            "backgroundcolor": "white",
            "gridcolor": "#DFE8F3",
            "gridwidth": 2,
            "linecolor": "#EBF0F8",
            "showbackground": true,
            "ticks": "",
            "zerolinecolor": "#EBF0F8"
           },
           "yaxis": {
            "backgroundcolor": "white",
            "gridcolor": "#DFE8F3",
            "gridwidth": 2,
            "linecolor": "#EBF0F8",
            "showbackground": true,
            "ticks": "",
            "zerolinecolor": "#EBF0F8"
           },
           "zaxis": {
            "backgroundcolor": "white",
            "gridcolor": "#DFE8F3",
            "gridwidth": 2,
            "linecolor": "#EBF0F8",
            "showbackground": true,
            "ticks": "",
            "zerolinecolor": "#EBF0F8"
           }
          },
          "shapedefaults": {
           "line": {
            "color": "#2a3f5f"
           }
          },
          "ternary": {
           "aaxis": {
            "gridcolor": "#DFE8F3",
            "linecolor": "#A2B1C6",
            "ticks": ""
           },
           "baxis": {
            "gridcolor": "#DFE8F3",
            "linecolor": "#A2B1C6",
            "ticks": ""
           },
           "bgcolor": "white",
           "caxis": {
            "gridcolor": "#DFE8F3",
            "linecolor": "#A2B1C6",
            "ticks": ""
           }
          },
          "title": {
           "x": 0.05
          },
          "width": 700,
          "xaxis": {
           "automargin": true,
           "gridcolor": "#EBF0F8",
           "linecolor": "#EBF0F8",
           "ticks": "",
           "title": {
            "standoff": 15
           },
           "zerolinecolor": "#EBF0F8",
           "zerolinewidth": 2
          },
          "yaxis": {
           "automargin": true,
           "gridcolor": "#EBF0F8",
           "linecolor": "#EBF0F8",
           "ticks": "",
           "title": {
            "standoff": 15
           },
           "zerolinecolor": "#EBF0F8",
           "zerolinewidth": 2
          }
         }
        },
        "width": 700,
        "xaxis": {
         "anchor": "y",
         "autorange": true,
         "domain": [
          0,
          1
         ],
         "range": [
          0,
          1.0513996182459564
         ],
         "title": {
          "text": "bar"
         },
         "type": "linear"
        },
        "yaxis": {
         "anchor": "x",
         "autorange": true,
         "domain": [
          0,
          1
         ],
         "range": [
          -0.5,
          2.5
         ],
         "title": {
          "text": "foo"
         },
         "type": "category"
        }
       }
      },
      "text/html": [
       "<div>                            <div id=\"7a00bec8-0404-4af2-9d07-4470502ec3a3\" class=\"plotly-graph-div\" style=\"height:400px; width:700px;\"></div>            <script type=\"text/javascript\">                require([\"plotly\"], function(Plotly) {                    window.PLOTLYENV=window.PLOTLYENV || {};                                    if (document.getElementById(\"7a00bec8-0404-4af2-9d07-4470502ec3a3\")) {                    Plotly.newPlot(                        \"7a00bec8-0404-4af2-9d07-4470502ec3a3\",                        [{\"alignmentgroup\":\"True\",\"hovertemplate\":\"bar=%{x}\\u003cbr\\u003efoo=%{y}\\u003cextra\\u003e\\u003c\\u002fextra\\u003e\",\"legendgroup\":\"\",\"marker\":{\"color\":\"#2fa1da\",\"pattern\":{\"shape\":\"\"}},\"name\":\"\",\"offsetgroup\":\"\",\"orientation\":\"h\",\"showlegend\":false,\"textposition\":\"auto\",\"x\":[0.9988296373336586,0.6135164847298321,0.8897794665398687],\"xaxis\":\"x\",\"y\":[\"aaaaaaaaaaaaaaaaaa\",\"b\",\"c\"],\"yaxis\":\"y\",\"type\":\"bar\"}],                        {\"template\":{\"data\":{\"histogram2dcontour\":[{\"type\":\"histogram2dcontour\",\"colorbar\":{\"outlinewidth\":0,\"ticks\":\"\"},\"colorscale\":[[0.0,\"#0d0887\"],[0.1111111111111111,\"#46039f\"],[0.2222222222222222,\"#7201a8\"],[0.3333333333333333,\"#9c179e\"],[0.4444444444444444,\"#bd3786\"],[0.5555555555555556,\"#d8576b\"],[0.6666666666666666,\"#ed7953\"],[0.7777777777777778,\"#fb9f3a\"],[0.8888888888888888,\"#fdca26\"],[1.0,\"#f0f921\"]]}],\"choropleth\":[{\"type\":\"choropleth\",\"colorbar\":{\"outlinewidth\":0,\"ticks\":\"\"}}],\"histogram2d\":[{\"type\":\"histogram2d\",\"colorbar\":{\"outlinewidth\":0,\"ticks\":\"\"},\"colorscale\":[[0.0,\"#0d0887\"],[0.1111111111111111,\"#46039f\"],[0.2222222222222222,\"#7201a8\"],[0.3333333333333333,\"#9c179e\"],[0.4444444444444444,\"#bd3786\"],[0.5555555555555556,\"#d8576b\"],[0.6666666666666666,\"#ed7953\"],[0.7777777777777778,\"#fb9f3a\"],[0.8888888888888888,\"#fdca26\"],[1.0,\"#f0f921\"]]}],\"heatmap\":[{\"type\":\"heatmap\",\"colorbar\":{\"outlinewidth\":0,\"ticks\":\"\"},\"colorscale\":[[0.0,\"#0d0887\"],[0.1111111111111111,\"#46039f\"],[0.2222222222222222,\"#7201a8\"],[0.3333333333333333,\"#9c179e\"],[0.4444444444444444,\"#bd3786\"],[0.5555555555555556,\"#d8576b\"],[0.6666666666666666,\"#ed7953\"],[0.7777777777777778,\"#fb9f3a\"],[0.8888888888888888,\"#fdca26\"],[1.0,\"#f0f921\"]]}],\"heatmapgl\":[{\"type\":\"heatmapgl\",\"colorbar\":{\"outlinewidth\":0,\"ticks\":\"\"},\"colorscale\":[[0.0,\"#0d0887\"],[0.1111111111111111,\"#46039f\"],[0.2222222222222222,\"#7201a8\"],[0.3333333333333333,\"#9c179e\"],[0.4444444444444444,\"#bd3786\"],[0.5555555555555556,\"#d8576b\"],[0.6666666666666666,\"#ed7953\"],[0.7777777777777778,\"#fb9f3a\"],[0.8888888888888888,\"#fdca26\"],[1.0,\"#f0f921\"]]}],\"contourcarpet\":[{\"type\":\"contourcarpet\",\"colorbar\":{\"outlinewidth\":0,\"ticks\":\"\"}}],\"contour\":[{\"type\":\"contour\",\"colorbar\":{\"outlinewidth\":0,\"ticks\":\"\"},\"colorscale\":[[0.0,\"#0d0887\"],[0.1111111111111111,\"#46039f\"],[0.2222222222222222,\"#7201a8\"],[0.3333333333333333,\"#9c179e\"],[0.4444444444444444,\"#bd3786\"],[0.5555555555555556,\"#d8576b\"],[0.6666666666666666,\"#ed7953\"],[0.7777777777777778,\"#fb9f3a\"],[0.8888888888888888,\"#fdca26\"],[1.0,\"#f0f921\"]]}],\"surface\":[{\"type\":\"surface\",\"colorbar\":{\"outlinewidth\":0,\"ticks\":\"\"},\"colorscale\":[[0.0,\"#0d0887\"],[0.1111111111111111,\"#46039f\"],[0.2222222222222222,\"#7201a8\"],[0.3333333333333333,\"#9c179e\"],[0.4444444444444444,\"#bd3786\"],[0.5555555555555556,\"#d8576b\"],[0.6666666666666666,\"#ed7953\"],[0.7777777777777778,\"#fb9f3a\"],[0.8888888888888888,\"#fdca26\"],[1.0,\"#f0f921\"]]}],\"mesh3d\":[{\"type\":\"mesh3d\",\"colorbar\":{\"outlinewidth\":0,\"ticks\":\"\"}}],\"scatter\":[{\"fillpattern\":{\"fillmode\":\"overlay\",\"size\":10,\"solidity\":0.2},\"type\":\"scatter\"}],\"parcoords\":[{\"type\":\"parcoords\",\"line\":{\"colorbar\":{\"outlinewidth\":0,\"ticks\":\"\"}}}],\"scatterpolargl\":[{\"type\":\"scatterpolargl\",\"marker\":{\"colorbar\":{\"outlinewidth\":0,\"ticks\":\"\"}}}],\"bar\":[{\"error_x\":{\"color\":\"#2a3f5f\"},\"error_y\":{\"color\":\"#2a3f5f\"},\"marker\":{\"line\":{\"color\":\"white\",\"width\":0.5},\"pattern\":{\"fillmode\":\"overlay\",\"size\":10,\"solidity\":0.2}},\"type\":\"bar\"}],\"scattergeo\":[{\"type\":\"scattergeo\",\"marker\":{\"colorbar\":{\"outlinewidth\":0,\"ticks\":\"\"}}}],\"scatterpolar\":[{\"type\":\"scatterpolar\",\"marker\":{\"colorbar\":{\"outlinewidth\":0,\"ticks\":\"\"}}}],\"histogram\":[{\"marker\":{\"pattern\":{\"fillmode\":\"overlay\",\"size\":10,\"solidity\":0.2}},\"type\":\"histogram\"}],\"scattergl\":[{\"type\":\"scattergl\",\"marker\":{\"colorbar\":{\"outlinewidth\":0,\"ticks\":\"\"}}}],\"scatter3d\":[{\"type\":\"scatter3d\",\"line\":{\"colorbar\":{\"outlinewidth\":0,\"ticks\":\"\"}},\"marker\":{\"colorbar\":{\"outlinewidth\":0,\"ticks\":\"\"}}}],\"scattermapbox\":[{\"type\":\"scattermapbox\",\"marker\":{\"colorbar\":{\"outlinewidth\":0,\"ticks\":\"\"}}}],\"scatterternary\":[{\"type\":\"scatterternary\",\"marker\":{\"colorbar\":{\"outlinewidth\":0,\"ticks\":\"\"}}}],\"scattercarpet\":[{\"type\":\"scattercarpet\",\"marker\":{\"colorbar\":{\"outlinewidth\":0,\"ticks\":\"\"}}}],\"carpet\":[{\"aaxis\":{\"endlinecolor\":\"#2a3f5f\",\"gridcolor\":\"#C8D4E3\",\"linecolor\":\"#C8D4E3\",\"minorgridcolor\":\"#C8D4E3\",\"startlinecolor\":\"#2a3f5f\"},\"baxis\":{\"endlinecolor\":\"#2a3f5f\",\"gridcolor\":\"#C8D4E3\",\"linecolor\":\"#C8D4E3\",\"minorgridcolor\":\"#C8D4E3\",\"startlinecolor\":\"#2a3f5f\"},\"type\":\"carpet\"}],\"table\":[{\"cells\":{\"fill\":{\"color\":\"#EBF0F8\"},\"line\":{\"color\":\"white\"}},\"header\":{\"fill\":{\"color\":\"#C8D4E3\"},\"line\":{\"color\":\"white\"}},\"type\":\"table\"}],\"barpolar\":[{\"marker\":{\"line\":{\"color\":\"white\",\"width\":0.5},\"pattern\":{\"fillmode\":\"overlay\",\"size\":10,\"solidity\":0.2}},\"type\":\"barpolar\"}],\"pie\":[{\"automargin\":true,\"type\":\"pie\"}]},\"layout\":{\"autotypenumbers\":\"strict\",\"colorway\":[\"#2fa1da\",\"#fb4f2f\",\"#e4ae38\",\"#6d904f\",\"#8a8a8a\",\"#16bdcf\",\"#9367bc\",\"#d62628\",\"#1f77b3\",\"#e277c1\",\"#8c564b\",\"#bcbc21\",\"#3a0182\",\"#004200\",\"#0fffa8\",\"#5d003f\",\"#c6bcff\",\"#424f52\",\"#b80080\",\"#ffb6b3\",\"#7c0100\",\"#6026ff\",\"#ffff9a\",\"#aec8aa\",\"#00857c\",\"#543a00\",\"#93fbff\",\"#00bf00\",\"#7c00a0\",\"#aa7200\",\"#90ff00\",\"#01bd89\",\"#00447b\",\"#c8826e\",\"#ff1f82\",\"#dd00ff\",\"#057400\",\"#644460\",\"#878eff\",\"#ffb5f4\",\"#526236\",\"#cd85ff\",\"#676983\",\"#bdb3bd\",\"#a56089\",\"#95d3ff\",\"#0100f7\",\"#ff8001\",\"#8a2844\",\"#aca06d\",\"#52448a\",\"#c8ffd8\",\"#aa4600\",\"#ff798e\",\"#82d370\",\"#909ebf\",\"#9300f4\",\"#ebcf9a\",\"#ac8ab1\",\"#006249\",\"#ffdb00\",\"#877750\",\"#7eaaa3\",\"#000097\",\"#f400c6\",\"#643328\",\"#006677\",\"#03e2c8\",\"#a736ae\",\"#c4dbe1\",\"#4d6eff\",\"#9a9301\",\"#cd576b\",\"#efddfd\",\"#795900\",\"#5e879a\",\"#b3ff91\",\"#5d726b\",\"#520066\",\"#058750\",\"#831f6e\",\"#3b9505\",\"#647200\",\"#f0a06b\",\"#5e4f44\",\"#bc0049\",\"#cf6726\",\"#d695aa\",\"#895dff\",\"#826b75\",\"#2a54b8\",\"#6e7cba\",\"#e6d4d3\",\"#5d0018\",\"#7c3b01\",\"#80b17c\",\"#c8d87c\",\"#00e83b\",\"#7cb1ff\",\"#ff54ff\",\"#a32621\",\"#1ce4ff\",\"#7caf3b\",\"#7b4b90\",\"#dfff48\",\"#6b00c3\",\"#cda897\",\"#bd62c3\",\"#89cdcd\",\"#4603c8\",\"#5d9179\",\"#414901\",\"#05a79c\",\"#cf8c36\",\"#fff7cf\",\"#425470\",\"#b544ff\",\"#cf4993\",\"#cfa3df\",\"#93d400\",\"#a793da\",\"#2da557\",\"#8ce2b5\",\"#a3a89c\",\"#6b5bb6\",\"#ff7e5d\",\"#a78289\",\"#afbdd8\",\"#2ac3ff\",\"#a5673d\",\"#f690fd\",\"#874b64\",\"#ff0c4b\",\"#215d23\",\"#4291ff\",\"#87829c\",\"#672d44\",\"#b14f41\",\"#004d52\",\"#5e1a00\",\"#ac4167\",\"#4f3167\",\"#d6fffd\",\"#7eb5d1\",\"#a8b869\",\"#ff95ca\",\"#c87495\",\"#364f38\",\"#ffcf62\",\"#5d5762\",\"#879375\",\"#a877ff\",\"#03c862\",\"#e6bdd4\",\"#d4e2cf\",\"#876790\",\"#897c26\",\"#cddbff\",\"#aa676b\",\"#313474\",\"#ff5da8\",\"#009aaf\",\"#70ffdd\",\"#775b38\",\"#4f649a\",\"#cc00b3\",\"#567b54\",\"#506e7b\",\"#015e91\",\"#aabcbd\",\"#017e99\",\"#03dd97\",\"#873a2b\",\"#ef958e\",\"#75c6aa\",\"#70695d\",\"#ccdb08\",\"#af8556\",\"#d80075\",\"#9c3f80\",\"#d84400\",\"#dd6754\",\"#5eff79\",\"#d4b172\",\"#62265d\",\"#baa13d\",\"#d8f2b3\",\"#56018e\",\"#a19aaa\",\"#4d4926\",\"#a3a8ff\",\"#ace8db\",\"#995901\",\"#ac00e2\",\"#46822f\",\"#cac3ac\",\"#00c4b5\",\"#605277\",\"#336d67\",\"#a59180\",\"#8399a1\",\"#fd5664\",\"#7095d1\",\"#728c07\",\"#7e004b\",\"#152fa0\",\"#d1c1e2\",\"#c885cf\",\"#6b444b\",\"#7e0023\",\"#00a179\",\"#b1a8cf\",\"#f90000\",\"#afe8ff\",\"#939e4f\",\"#727982\",\"#d82d54\",\"#466001\",\"#0059ff\",\"#773fb5\",\"#ace460\",\"#674424\",\"#525d50\",\"#957267\",\"#a8e49a\",\"#a30057\",\"#d862f6\",\"#8e7ccf\",\"#ffbc93\",\"#a30091\",\"#9affb8\",\"#a7c1ff\",\"#f46200\",\"#e4efff\",\"#b89ca3\",\"#609593\",\"#ff9e34\",\"#8c2800\",\"#726b31\",\"#df824d\",\"#af7bd4\",\"#bc2d00\",\"#7b6ea3\",\"#484262\",\"#c6a3ff\",\"#004d28\",\"#c3c68e\",\"#df48d6\",\"#e6e864\",\"#e4c10a\",\"#00f4f0\",\"#9e5ba1\",\"#4b41b6\",\"#64338e\",\"#757e6b\",\"#a88936\"],\"font\":{\"color\":\"#2a3f5f\"},\"hovermode\":\"closest\",\"hoverlabel\":{\"align\":\"left\"},\"paper_bgcolor\":\"white\",\"plot_bgcolor\":\"white\",\"polar\":{\"bgcolor\":\"white\",\"angularaxis\":{\"gridcolor\":\"#EBF0F8\",\"linecolor\":\"#EBF0F8\",\"ticks\":\"\"},\"radialaxis\":{\"gridcolor\":\"#EBF0F8\",\"linecolor\":\"#EBF0F8\",\"ticks\":\"\"}},\"ternary\":{\"bgcolor\":\"white\",\"aaxis\":{\"gridcolor\":\"#DFE8F3\",\"linecolor\":\"#A2B1C6\",\"ticks\":\"\"},\"baxis\":{\"gridcolor\":\"#DFE8F3\",\"linecolor\":\"#A2B1C6\",\"ticks\":\"\"},\"caxis\":{\"gridcolor\":\"#DFE8F3\",\"linecolor\":\"#A2B1C6\",\"ticks\":\"\"}},\"coloraxis\":{\"colorbar\":{\"outlinewidth\":0,\"ticks\":\"\"}},\"colorscale\":{\"sequential\":[[0.0,\"#0d0887\"],[0.1111111111111111,\"#46039f\"],[0.2222222222222222,\"#7201a8\"],[0.3333333333333333,\"#9c179e\"],[0.4444444444444444,\"#bd3786\"],[0.5555555555555556,\"#d8576b\"],[0.6666666666666666,\"#ed7953\"],[0.7777777777777778,\"#fb9f3a\"],[0.8888888888888888,\"#fdca26\"],[1.0,\"#f0f921\"]],\"sequentialminus\":[[0.0,\"#0d0887\"],[0.1111111111111111,\"#46039f\"],[0.2222222222222222,\"#7201a8\"],[0.3333333333333333,\"#9c179e\"],[0.4444444444444444,\"#bd3786\"],[0.5555555555555556,\"#d8576b\"],[0.6666666666666666,\"#ed7953\"],[0.7777777777777778,\"#fb9f3a\"],[0.8888888888888888,\"#fdca26\"],[1.0,\"#f0f921\"]],\"diverging\":[[0,\"#8e0152\"],[0.1,\"#c51b7d\"],[0.2,\"#de77ae\"],[0.3,\"#f1b6da\"],[0.4,\"#fde0ef\"],[0.5,\"#f7f7f7\"],[0.6,\"#e6f5d0\"],[0.7,\"#b8e186\"],[0.8,\"#7fbc41\"],[0.9,\"#4d9221\"],[1,\"#276419\"]]},\"xaxis\":{\"gridcolor\":\"#EBF0F8\",\"linecolor\":\"#EBF0F8\",\"ticks\":\"\",\"title\":{\"standoff\":15},\"zerolinecolor\":\"#EBF0F8\",\"automargin\":true,\"zerolinewidth\":2},\"yaxis\":{\"gridcolor\":\"#EBF0F8\",\"linecolor\":\"#EBF0F8\",\"ticks\":\"\",\"title\":{\"standoff\":15},\"zerolinecolor\":\"#EBF0F8\",\"automargin\":true,\"zerolinewidth\":2},\"scene\":{\"xaxis\":{\"backgroundcolor\":\"white\",\"gridcolor\":\"#DFE8F3\",\"linecolor\":\"#EBF0F8\",\"showbackground\":true,\"ticks\":\"\",\"zerolinecolor\":\"#EBF0F8\",\"gridwidth\":2},\"yaxis\":{\"backgroundcolor\":\"white\",\"gridcolor\":\"#DFE8F3\",\"linecolor\":\"#EBF0F8\",\"showbackground\":true,\"ticks\":\"\",\"zerolinecolor\":\"#EBF0F8\",\"gridwidth\":2},\"zaxis\":{\"backgroundcolor\":\"white\",\"gridcolor\":\"#DFE8F3\",\"linecolor\":\"#EBF0F8\",\"showbackground\":true,\"ticks\":\"\",\"zerolinecolor\":\"#EBF0F8\",\"gridwidth\":2}},\"shapedefaults\":{\"line\":{\"color\":\"#2a3f5f\"}},\"annotationdefaults\":{\"arrowcolor\":\"#2a3f5f\",\"arrowhead\":0,\"arrowwidth\":1},\"geo\":{\"bgcolor\":\"white\",\"landcolor\":\"white\",\"subunitcolor\":\"#C8D4E3\",\"showland\":true,\"showlakes\":true,\"lakecolor\":\"white\"},\"title\":{\"x\":0.05},\"mapbox\":{\"style\":\"light\"},\"legend\":{\"tracegroupgap\":0},\"width\":700,\"height\":400,\"autosize\":false}},\"xaxis\":{\"anchor\":\"y\",\"domain\":[0.0,1.0],\"title\":{\"text\":\"bar\"}},\"yaxis\":{\"anchor\":\"x\",\"domain\":[0.0,1.0],\"title\":{\"text\":\"foo\"}},\"legend\":{\"tracegroupgap\":0,\"title\":{}},\"margin\":{\"t\":60},\"barmode\":\"relative\"},                        {\"responsive\": true}                    ).then(function(){\n",
       "                            \n",
       "var gd = document.getElementById('7a00bec8-0404-4af2-9d07-4470502ec3a3');\n",
       "var x = new MutationObserver(function (mutations, observer) {{\n",
       "        var display = window.getComputedStyle(gd).display;\n",
       "        if (!display || display === 'none') {{\n",
       "            console.log([gd, 'removed!']);\n",
       "            Plotly.purge(gd);\n",
       "            observer.disconnect();\n",
       "        }}\n",
       "}});\n",
       "\n",
       "// Listen for the removal of the full notebook cells\n",
       "var notebookContainer = gd.closest('#notebook-container');\n",
       "if (notebookContainer) {{\n",
       "    x.observe(notebookContainer, {childList: true});\n",
       "}}\n",
       "\n",
       "// Listen for the clearing of the current output cell\n",
       "var outputEl = gd.closest('.output');\n",
       "if (outputEl) {{\n",
       "    x.observe(outputEl, {childList: true});\n",
       "}}\n",
       "\n",
       "                        })                };                });            </script>        </div>"
      ]
     },
     "metadata": {},
     "output_type": "display_data"
    }
   ],
   "source": [
    "#|hide\n",
    "plotly_dataarray(U1.array)"
   ]
  },
  {
   "cell_type": "code",
   "execution_count": null,
   "metadata": {},
   "outputs": [
    {
     "data": {
      "application/vnd.plotly.v1+json": {
       "config": {
        "plotlyServerURL": "https://plot.ly"
       },
       "data": [
        {
         "alignmentgroup": "True",
         "hovertemplate": "Part=Re<br>bar=%{x}<br>foo=%{y}<extra></extra>",
         "legendgroup": "Re",
         "marker": {
          "color": "#2fa1da",
          "pattern": {
           "shape": ""
          }
         },
         "name": "Re",
         "offsetgroup": "Re",
         "orientation": "h",
         "showlegend": true,
         "textposition": "auto",
         "type": "bar",
         "x": [
          0.9988296373336586,
          0.6135164847298321,
          0.8897794665398687
         ],
         "xaxis": "x",
         "y": [
          "aaaaaaaaaaaaaaaaaa",
          "b",
          "c"
         ],
         "yaxis": "y"
        },
        {
         "alignmentgroup": "True",
         "hovertemplate": "Part=Im<br>bar=%{x}<br>foo=%{y}<extra></extra>",
         "legendgroup": "Im",
         "marker": {
          "color": "#fb4f2f",
          "pattern": {
           "shape": ""
          }
         },
         "name": "Im",
         "offsetgroup": "Im",
         "orientation": "h",
         "showlegend": true,
         "textposition": "auto",
         "type": "bar",
         "x": [
          0.908608246555642,
          0.7914514878076223,
          0.4609313910731102
         ],
         "xaxis": "x",
         "y": [
          "aaaaaaaaaaaaaaaaaa",
          "b",
          "c"
         ],
         "yaxis": "y"
        }
       ],
       "layout": {
        "barmode": "relative",
        "height": 360,
        "legend": {
         "title": {},
         "tracegroupgap": 0
        },
        "margin": {
         "t": 60
        },
        "template": {
         "data": {
          "bar": [
           {
            "error_x": {
             "color": "#2a3f5f"
            },
            "error_y": {
             "color": "#2a3f5f"
            },
            "marker": {
             "line": {
              "color": "white",
              "width": 0.5
             },
             "pattern": {
              "fillmode": "overlay",
              "size": 10,
              "solidity": 0.2
             }
            },
            "type": "bar"
           }
          ],
          "barpolar": [
           {
            "marker": {
             "line": {
              "color": "white",
              "width": 0.5
             },
             "pattern": {
              "fillmode": "overlay",
              "size": 10,
              "solidity": 0.2
             }
            },
            "type": "barpolar"
           }
          ],
          "carpet": [
           {
            "aaxis": {
             "endlinecolor": "#2a3f5f",
             "gridcolor": "#C8D4E3",
             "linecolor": "#C8D4E3",
             "minorgridcolor": "#C8D4E3",
             "startlinecolor": "#2a3f5f"
            },
            "baxis": {
             "endlinecolor": "#2a3f5f",
             "gridcolor": "#C8D4E3",
             "linecolor": "#C8D4E3",
             "minorgridcolor": "#C8D4E3",
             "startlinecolor": "#2a3f5f"
            },
            "type": "carpet"
           }
          ],
          "choropleth": [
           {
            "colorbar": {
             "outlinewidth": 0,
             "ticks": ""
            },
            "type": "choropleth"
           }
          ],
          "contour": [
           {
            "colorbar": {
             "outlinewidth": 0,
             "ticks": ""
            },
            "colorscale": [
             [
              0,
              "#0d0887"
             ],
             [
              0.1111111111111111,
              "#46039f"
             ],
             [
              0.2222222222222222,
              "#7201a8"
             ],
             [
              0.3333333333333333,
              "#9c179e"
             ],
             [
              0.4444444444444444,
              "#bd3786"
             ],
             [
              0.5555555555555556,
              "#d8576b"
             ],
             [
              0.6666666666666666,
              "#ed7953"
             ],
             [
              0.7777777777777778,
              "#fb9f3a"
             ],
             [
              0.8888888888888888,
              "#fdca26"
             ],
             [
              1,
              "#f0f921"
             ]
            ],
            "type": "contour"
           }
          ],
          "contourcarpet": [
           {
            "colorbar": {
             "outlinewidth": 0,
             "ticks": ""
            },
            "type": "contourcarpet"
           }
          ],
          "heatmap": [
           {
            "colorbar": {
             "outlinewidth": 0,
             "ticks": ""
            },
            "colorscale": [
             [
              0,
              "#0d0887"
             ],
             [
              0.1111111111111111,
              "#46039f"
             ],
             [
              0.2222222222222222,
              "#7201a8"
             ],
             [
              0.3333333333333333,
              "#9c179e"
             ],
             [
              0.4444444444444444,
              "#bd3786"
             ],
             [
              0.5555555555555556,
              "#d8576b"
             ],
             [
              0.6666666666666666,
              "#ed7953"
             ],
             [
              0.7777777777777778,
              "#fb9f3a"
             ],
             [
              0.8888888888888888,
              "#fdca26"
             ],
             [
              1,
              "#f0f921"
             ]
            ],
            "type": "heatmap"
           }
          ],
          "heatmapgl": [
           {
            "colorbar": {
             "outlinewidth": 0,
             "ticks": ""
            },
            "colorscale": [
             [
              0,
              "#0d0887"
             ],
             [
              0.1111111111111111,
              "#46039f"
             ],
             [
              0.2222222222222222,
              "#7201a8"
             ],
             [
              0.3333333333333333,
              "#9c179e"
             ],
             [
              0.4444444444444444,
              "#bd3786"
             ],
             [
              0.5555555555555556,
              "#d8576b"
             ],
             [
              0.6666666666666666,
              "#ed7953"
             ],
             [
              0.7777777777777778,
              "#fb9f3a"
             ],
             [
              0.8888888888888888,
              "#fdca26"
             ],
             [
              1,
              "#f0f921"
             ]
            ],
            "type": "heatmapgl"
           }
          ],
          "histogram": [
           {
            "marker": {
             "pattern": {
              "fillmode": "overlay",
              "size": 10,
              "solidity": 0.2
             }
            },
            "type": "histogram"
           }
          ],
          "histogram2d": [
           {
            "colorbar": {
             "outlinewidth": 0,
             "ticks": ""
            },
            "colorscale": [
             [
              0,
              "#0d0887"
             ],
             [
              0.1111111111111111,
              "#46039f"
             ],
             [
              0.2222222222222222,
              "#7201a8"
             ],
             [
              0.3333333333333333,
              "#9c179e"
             ],
             [
              0.4444444444444444,
              "#bd3786"
             ],
             [
              0.5555555555555556,
              "#d8576b"
             ],
             [
              0.6666666666666666,
              "#ed7953"
             ],
             [
              0.7777777777777778,
              "#fb9f3a"
             ],
             [
              0.8888888888888888,
              "#fdca26"
             ],
             [
              1,
              "#f0f921"
             ]
            ],
            "type": "histogram2d"
           }
          ],
          "histogram2dcontour": [
           {
            "colorbar": {
             "outlinewidth": 0,
             "ticks": ""
            },
            "colorscale": [
             [
              0,
              "#0d0887"
             ],
             [
              0.1111111111111111,
              "#46039f"
             ],
             [
              0.2222222222222222,
              "#7201a8"
             ],
             [
              0.3333333333333333,
              "#9c179e"
             ],
             [
              0.4444444444444444,
              "#bd3786"
             ],
             [
              0.5555555555555556,
              "#d8576b"
             ],
             [
              0.6666666666666666,
              "#ed7953"
             ],
             [
              0.7777777777777778,
              "#fb9f3a"
             ],
             [
              0.8888888888888888,
              "#fdca26"
             ],
             [
              1,
              "#f0f921"
             ]
            ],
            "type": "histogram2dcontour"
           }
          ],
          "mesh3d": [
           {
            "colorbar": {
             "outlinewidth": 0,
             "ticks": ""
            },
            "type": "mesh3d"
           }
          ],
          "parcoords": [
           {
            "line": {
             "colorbar": {
              "outlinewidth": 0,
              "ticks": ""
             }
            },
            "type": "parcoords"
           }
          ],
          "pie": [
           {
            "automargin": true,
            "type": "pie"
           }
          ],
          "scatter": [
           {
            "fillpattern": {
             "fillmode": "overlay",
             "size": 10,
             "solidity": 0.2
            },
            "type": "scatter"
           }
          ],
          "scatter3d": [
           {
            "line": {
             "colorbar": {
              "outlinewidth": 0,
              "ticks": ""
             }
            },
            "marker": {
             "colorbar": {
              "outlinewidth": 0,
              "ticks": ""
             }
            },
            "type": "scatter3d"
           }
          ],
          "scattercarpet": [
           {
            "marker": {
             "colorbar": {
              "outlinewidth": 0,
              "ticks": ""
             }
            },
            "type": "scattercarpet"
           }
          ],
          "scattergeo": [
           {
            "marker": {
             "colorbar": {
              "outlinewidth": 0,
              "ticks": ""
             }
            },
            "type": "scattergeo"
           }
          ],
          "scattergl": [
           {
            "marker": {
             "colorbar": {
              "outlinewidth": 0,
              "ticks": ""
             }
            },
            "type": "scattergl"
           }
          ],
          "scattermapbox": [
           {
            "marker": {
             "colorbar": {
              "outlinewidth": 0,
              "ticks": ""
             }
            },
            "type": "scattermapbox"
           }
          ],
          "scatterpolar": [
           {
            "marker": {
             "colorbar": {
              "outlinewidth": 0,
              "ticks": ""
             }
            },
            "type": "scatterpolar"
           }
          ],
          "scatterpolargl": [
           {
            "marker": {
             "colorbar": {
              "outlinewidth": 0,
              "ticks": ""
             }
            },
            "type": "scatterpolargl"
           }
          ],
          "scatterternary": [
           {
            "marker": {
             "colorbar": {
              "outlinewidth": 0,
              "ticks": ""
             }
            },
            "type": "scatterternary"
           }
          ],
          "surface": [
           {
            "colorbar": {
             "outlinewidth": 0,
             "ticks": ""
            },
            "colorscale": [
             [
              0,
              "#0d0887"
             ],
             [
              0.1111111111111111,
              "#46039f"
             ],
             [
              0.2222222222222222,
              "#7201a8"
             ],
             [
              0.3333333333333333,
              "#9c179e"
             ],
             [
              0.4444444444444444,
              "#bd3786"
             ],
             [
              0.5555555555555556,
              "#d8576b"
             ],
             [
              0.6666666666666666,
              "#ed7953"
             ],
             [
              0.7777777777777778,
              "#fb9f3a"
             ],
             [
              0.8888888888888888,
              "#fdca26"
             ],
             [
              1,
              "#f0f921"
             ]
            ],
            "type": "surface"
           }
          ],
          "table": [
           {
            "cells": {
             "fill": {
              "color": "#EBF0F8"
             },
             "line": {
              "color": "white"
             }
            },
            "header": {
             "fill": {
              "color": "#C8D4E3"
             },
             "line": {
              "color": "white"
             }
            },
            "type": "table"
           }
          ]
         },
         "layout": {
          "annotationdefaults": {
           "arrowcolor": "#2a3f5f",
           "arrowhead": 0,
           "arrowwidth": 1
          },
          "autosize": false,
          "autotypenumbers": "strict",
          "coloraxis": {
           "colorbar": {
            "outlinewidth": 0,
            "ticks": ""
           }
          },
          "colorscale": {
           "diverging": [
            [
             0,
             "#8e0152"
            ],
            [
             0.1,
             "#c51b7d"
            ],
            [
             0.2,
             "#de77ae"
            ],
            [
             0.3,
             "#f1b6da"
            ],
            [
             0.4,
             "#fde0ef"
            ],
            [
             0.5,
             "#f7f7f7"
            ],
            [
             0.6,
             "#e6f5d0"
            ],
            [
             0.7,
             "#b8e186"
            ],
            [
             0.8,
             "#7fbc41"
            ],
            [
             0.9,
             "#4d9221"
            ],
            [
             1,
             "#276419"
            ]
           ],
           "sequential": [
            [
             0,
             "#0d0887"
            ],
            [
             0.1111111111111111,
             "#46039f"
            ],
            [
             0.2222222222222222,
             "#7201a8"
            ],
            [
             0.3333333333333333,
             "#9c179e"
            ],
            [
             0.4444444444444444,
             "#bd3786"
            ],
            [
             0.5555555555555556,
             "#d8576b"
            ],
            [
             0.6666666666666666,
             "#ed7953"
            ],
            [
             0.7777777777777778,
             "#fb9f3a"
            ],
            [
             0.8888888888888888,
             "#fdca26"
            ],
            [
             1,
             "#f0f921"
            ]
           ],
           "sequentialminus": [
            [
             0,
             "#0d0887"
            ],
            [
             0.1111111111111111,
             "#46039f"
            ],
            [
             0.2222222222222222,
             "#7201a8"
            ],
            [
             0.3333333333333333,
             "#9c179e"
            ],
            [
             0.4444444444444444,
             "#bd3786"
            ],
            [
             0.5555555555555556,
             "#d8576b"
            ],
            [
             0.6666666666666666,
             "#ed7953"
            ],
            [
             0.7777777777777778,
             "#fb9f3a"
            ],
            [
             0.8888888888888888,
             "#fdca26"
            ],
            [
             1,
             "#f0f921"
            ]
           ]
          },
          "colorway": [
           "#2fa1da",
           "#fb4f2f",
           "#e4ae38",
           "#6d904f",
           "#8a8a8a",
           "#16bdcf",
           "#9367bc",
           "#d62628",
           "#1f77b3",
           "#e277c1",
           "#8c564b",
           "#bcbc21",
           "#3a0182",
           "#004200",
           "#0fffa8",
           "#5d003f",
           "#c6bcff",
           "#424f52",
           "#b80080",
           "#ffb6b3",
           "#7c0100",
           "#6026ff",
           "#ffff9a",
           "#aec8aa",
           "#00857c",
           "#543a00",
           "#93fbff",
           "#00bf00",
           "#7c00a0",
           "#aa7200",
           "#90ff00",
           "#01bd89",
           "#00447b",
           "#c8826e",
           "#ff1f82",
           "#dd00ff",
           "#057400",
           "#644460",
           "#878eff",
           "#ffb5f4",
           "#526236",
           "#cd85ff",
           "#676983",
           "#bdb3bd",
           "#a56089",
           "#95d3ff",
           "#0100f7",
           "#ff8001",
           "#8a2844",
           "#aca06d",
           "#52448a",
           "#c8ffd8",
           "#aa4600",
           "#ff798e",
           "#82d370",
           "#909ebf",
           "#9300f4",
           "#ebcf9a",
           "#ac8ab1",
           "#006249",
           "#ffdb00",
           "#877750",
           "#7eaaa3",
           "#000097",
           "#f400c6",
           "#643328",
           "#006677",
           "#03e2c8",
           "#a736ae",
           "#c4dbe1",
           "#4d6eff",
           "#9a9301",
           "#cd576b",
           "#efddfd",
           "#795900",
           "#5e879a",
           "#b3ff91",
           "#5d726b",
           "#520066",
           "#058750",
           "#831f6e",
           "#3b9505",
           "#647200",
           "#f0a06b",
           "#5e4f44",
           "#bc0049",
           "#cf6726",
           "#d695aa",
           "#895dff",
           "#826b75",
           "#2a54b8",
           "#6e7cba",
           "#e6d4d3",
           "#5d0018",
           "#7c3b01",
           "#80b17c",
           "#c8d87c",
           "#00e83b",
           "#7cb1ff",
           "#ff54ff",
           "#a32621",
           "#1ce4ff",
           "#7caf3b",
           "#7b4b90",
           "#dfff48",
           "#6b00c3",
           "#cda897",
           "#bd62c3",
           "#89cdcd",
           "#4603c8",
           "#5d9179",
           "#414901",
           "#05a79c",
           "#cf8c36",
           "#fff7cf",
           "#425470",
           "#b544ff",
           "#cf4993",
           "#cfa3df",
           "#93d400",
           "#a793da",
           "#2da557",
           "#8ce2b5",
           "#a3a89c",
           "#6b5bb6",
           "#ff7e5d",
           "#a78289",
           "#afbdd8",
           "#2ac3ff",
           "#a5673d",
           "#f690fd",
           "#874b64",
           "#ff0c4b",
           "#215d23",
           "#4291ff",
           "#87829c",
           "#672d44",
           "#b14f41",
           "#004d52",
           "#5e1a00",
           "#ac4167",
           "#4f3167",
           "#d6fffd",
           "#7eb5d1",
           "#a8b869",
           "#ff95ca",
           "#c87495",
           "#364f38",
           "#ffcf62",
           "#5d5762",
           "#879375",
           "#a877ff",
           "#03c862",
           "#e6bdd4",
           "#d4e2cf",
           "#876790",
           "#897c26",
           "#cddbff",
           "#aa676b",
           "#313474",
           "#ff5da8",
           "#009aaf",
           "#70ffdd",
           "#775b38",
           "#4f649a",
           "#cc00b3",
           "#567b54",
           "#506e7b",
           "#015e91",
           "#aabcbd",
           "#017e99",
           "#03dd97",
           "#873a2b",
           "#ef958e",
           "#75c6aa",
           "#70695d",
           "#ccdb08",
           "#af8556",
           "#d80075",
           "#9c3f80",
           "#d84400",
           "#dd6754",
           "#5eff79",
           "#d4b172",
           "#62265d",
           "#baa13d",
           "#d8f2b3",
           "#56018e",
           "#a19aaa",
           "#4d4926",
           "#a3a8ff",
           "#ace8db",
           "#995901",
           "#ac00e2",
           "#46822f",
           "#cac3ac",
           "#00c4b5",
           "#605277",
           "#336d67",
           "#a59180",
           "#8399a1",
           "#fd5664",
           "#7095d1",
           "#728c07",
           "#7e004b",
           "#152fa0",
           "#d1c1e2",
           "#c885cf",
           "#6b444b",
           "#7e0023",
           "#00a179",
           "#b1a8cf",
           "#f90000",
           "#afe8ff",
           "#939e4f",
           "#727982",
           "#d82d54",
           "#466001",
           "#0059ff",
           "#773fb5",
           "#ace460",
           "#674424",
           "#525d50",
           "#957267",
           "#a8e49a",
           "#a30057",
           "#d862f6",
           "#8e7ccf",
           "#ffbc93",
           "#a30091",
           "#9affb8",
           "#a7c1ff",
           "#f46200",
           "#e4efff",
           "#b89ca3",
           "#609593",
           "#ff9e34",
           "#8c2800",
           "#726b31",
           "#df824d",
           "#af7bd4",
           "#bc2d00",
           "#7b6ea3",
           "#484262",
           "#c6a3ff",
           "#004d28",
           "#c3c68e",
           "#df48d6",
           "#e6e864",
           "#e4c10a",
           "#00f4f0",
           "#9e5ba1",
           "#4b41b6",
           "#64338e",
           "#757e6b",
           "#a88936"
          ],
          "font": {
           "color": "#2a3f5f"
          },
          "geo": {
           "bgcolor": "white",
           "lakecolor": "white",
           "landcolor": "white",
           "showlakes": true,
           "showland": true,
           "subunitcolor": "#C8D4E3"
          },
          "height": 400,
          "hoverlabel": {
           "align": "left"
          },
          "hovermode": "closest",
          "legend": {
           "tracegroupgap": 0
          },
          "mapbox": {
           "style": "light"
          },
          "paper_bgcolor": "white",
          "plot_bgcolor": "white",
          "polar": {
           "angularaxis": {
            "gridcolor": "#EBF0F8",
            "linecolor": "#EBF0F8",
            "ticks": ""
           },
           "bgcolor": "white",
           "radialaxis": {
            "gridcolor": "#EBF0F8",
            "linecolor": "#EBF0F8",
            "ticks": ""
           }
          },
          "scene": {
           "xaxis": {
            "backgroundcolor": "white",
            "gridcolor": "#DFE8F3",
            "gridwidth": 2,
            "linecolor": "#EBF0F8",
            "showbackground": true,
            "ticks": "",
            "zerolinecolor": "#EBF0F8"
           },
           "yaxis": {
            "backgroundcolor": "white",
            "gridcolor": "#DFE8F3",
            "gridwidth": 2,
            "linecolor": "#EBF0F8",
            "showbackground": true,
            "ticks": "",
            "zerolinecolor": "#EBF0F8"
           },
           "zaxis": {
            "backgroundcolor": "white",
            "gridcolor": "#DFE8F3",
            "gridwidth": 2,
            "linecolor": "#EBF0F8",
            "showbackground": true,
            "ticks": "",
            "zerolinecolor": "#EBF0F8"
           }
          },
          "shapedefaults": {
           "line": {
            "color": "#2a3f5f"
           }
          },
          "ternary": {
           "aaxis": {
            "gridcolor": "#DFE8F3",
            "linecolor": "#A2B1C6",
            "ticks": ""
           },
           "baxis": {
            "gridcolor": "#DFE8F3",
            "linecolor": "#A2B1C6",
            "ticks": ""
           },
           "bgcolor": "white",
           "caxis": {
            "gridcolor": "#DFE8F3",
            "linecolor": "#A2B1C6",
            "ticks": ""
           }
          },
          "title": {
           "x": 0.05
          },
          "width": 700,
          "xaxis": {
           "automargin": true,
           "gridcolor": "#EBF0F8",
           "linecolor": "#EBF0F8",
           "ticks": "",
           "title": {
            "standoff": 15
           },
           "zerolinecolor": "#EBF0F8",
           "zerolinewidth": 2
          },
          "yaxis": {
           "automargin": true,
           "gridcolor": "#EBF0F8",
           "linecolor": "#EBF0F8",
           "ticks": "",
           "title": {
            "standoff": 15
           },
           "zerolinecolor": "#EBF0F8",
           "zerolinewidth": 2
          }
         }
        },
        "width": 700,
        "xaxis": {
         "anchor": "y",
         "autorange": true,
         "domain": [
          0,
          1
         ],
         "range": [
          0,
          2.007829351462422
         ],
         "title": {
          "text": "bar"
         },
         "type": "linear"
        },
        "yaxis": {
         "anchor": "x",
         "autorange": true,
         "domain": [
          0,
          1
         ],
         "range": [
          -0.5,
          2.5
         ],
         "title": {
          "text": "foo"
         },
         "type": "category"
        }
       }
      },
      "text/html": [
       "<div>                            <div id=\"6a024a7a-a5f0-444c-a965-bf3ec8b553f0\" class=\"plotly-graph-div\" style=\"height:400px; width:700px;\"></div>            <script type=\"text/javascript\">                require([\"plotly\"], function(Plotly) {                    window.PLOTLYENV=window.PLOTLYENV || {};                                    if (document.getElementById(\"6a024a7a-a5f0-444c-a965-bf3ec8b553f0\")) {                    Plotly.newPlot(                        \"6a024a7a-a5f0-444c-a965-bf3ec8b553f0\",                        [{\"alignmentgroup\":\"True\",\"hovertemplate\":\"Part=Re\\u003cbr\\u003ebar=%{x}\\u003cbr\\u003efoo=%{y}\\u003cextra\\u003e\\u003c\\u002fextra\\u003e\",\"legendgroup\":\"Re\",\"marker\":{\"color\":\"#2fa1da\",\"pattern\":{\"shape\":\"\"}},\"name\":\"Re\",\"offsetgroup\":\"Re\",\"orientation\":\"h\",\"showlegend\":true,\"textposition\":\"auto\",\"x\":[0.9988296373336586,0.6135164847298321,0.8897794665398687],\"xaxis\":\"x\",\"y\":[\"aaaaaaaaaaaaaaaaaa\",\"b\",\"c\"],\"yaxis\":\"y\",\"type\":\"bar\"},{\"alignmentgroup\":\"True\",\"hovertemplate\":\"Part=Im\\u003cbr\\u003ebar=%{x}\\u003cbr\\u003efoo=%{y}\\u003cextra\\u003e\\u003c\\u002fextra\\u003e\",\"legendgroup\":\"Im\",\"marker\":{\"color\":\"#fb4f2f\",\"pattern\":{\"shape\":\"\"}},\"name\":\"Im\",\"offsetgroup\":\"Im\",\"orientation\":\"h\",\"showlegend\":true,\"textposition\":\"auto\",\"x\":[0.908608246555642,0.7914514878076223,0.4609313910731102],\"xaxis\":\"x\",\"y\":[\"aaaaaaaaaaaaaaaaaa\",\"b\",\"c\"],\"yaxis\":\"y\",\"type\":\"bar\"}],                        {\"template\":{\"data\":{\"histogram2dcontour\":[{\"type\":\"histogram2dcontour\",\"colorbar\":{\"outlinewidth\":0,\"ticks\":\"\"},\"colorscale\":[[0.0,\"#0d0887\"],[0.1111111111111111,\"#46039f\"],[0.2222222222222222,\"#7201a8\"],[0.3333333333333333,\"#9c179e\"],[0.4444444444444444,\"#bd3786\"],[0.5555555555555556,\"#d8576b\"],[0.6666666666666666,\"#ed7953\"],[0.7777777777777778,\"#fb9f3a\"],[0.8888888888888888,\"#fdca26\"],[1.0,\"#f0f921\"]]}],\"choropleth\":[{\"type\":\"choropleth\",\"colorbar\":{\"outlinewidth\":0,\"ticks\":\"\"}}],\"histogram2d\":[{\"type\":\"histogram2d\",\"colorbar\":{\"outlinewidth\":0,\"ticks\":\"\"},\"colorscale\":[[0.0,\"#0d0887\"],[0.1111111111111111,\"#46039f\"],[0.2222222222222222,\"#7201a8\"],[0.3333333333333333,\"#9c179e\"],[0.4444444444444444,\"#bd3786\"],[0.5555555555555556,\"#d8576b\"],[0.6666666666666666,\"#ed7953\"],[0.7777777777777778,\"#fb9f3a\"],[0.8888888888888888,\"#fdca26\"],[1.0,\"#f0f921\"]]}],\"heatmap\":[{\"type\":\"heatmap\",\"colorbar\":{\"outlinewidth\":0,\"ticks\":\"\"},\"colorscale\":[[0.0,\"#0d0887\"],[0.1111111111111111,\"#46039f\"],[0.2222222222222222,\"#7201a8\"],[0.3333333333333333,\"#9c179e\"],[0.4444444444444444,\"#bd3786\"],[0.5555555555555556,\"#d8576b\"],[0.6666666666666666,\"#ed7953\"],[0.7777777777777778,\"#fb9f3a\"],[0.8888888888888888,\"#fdca26\"],[1.0,\"#f0f921\"]]}],\"heatmapgl\":[{\"type\":\"heatmapgl\",\"colorbar\":{\"outlinewidth\":0,\"ticks\":\"\"},\"colorscale\":[[0.0,\"#0d0887\"],[0.1111111111111111,\"#46039f\"],[0.2222222222222222,\"#7201a8\"],[0.3333333333333333,\"#9c179e\"],[0.4444444444444444,\"#bd3786\"],[0.5555555555555556,\"#d8576b\"],[0.6666666666666666,\"#ed7953\"],[0.7777777777777778,\"#fb9f3a\"],[0.8888888888888888,\"#fdca26\"],[1.0,\"#f0f921\"]]}],\"contourcarpet\":[{\"type\":\"contourcarpet\",\"colorbar\":{\"outlinewidth\":0,\"ticks\":\"\"}}],\"contour\":[{\"type\":\"contour\",\"colorbar\":{\"outlinewidth\":0,\"ticks\":\"\"},\"colorscale\":[[0.0,\"#0d0887\"],[0.1111111111111111,\"#46039f\"],[0.2222222222222222,\"#7201a8\"],[0.3333333333333333,\"#9c179e\"],[0.4444444444444444,\"#bd3786\"],[0.5555555555555556,\"#d8576b\"],[0.6666666666666666,\"#ed7953\"],[0.7777777777777778,\"#fb9f3a\"],[0.8888888888888888,\"#fdca26\"],[1.0,\"#f0f921\"]]}],\"surface\":[{\"type\":\"surface\",\"colorbar\":{\"outlinewidth\":0,\"ticks\":\"\"},\"colorscale\":[[0.0,\"#0d0887\"],[0.1111111111111111,\"#46039f\"],[0.2222222222222222,\"#7201a8\"],[0.3333333333333333,\"#9c179e\"],[0.4444444444444444,\"#bd3786\"],[0.5555555555555556,\"#d8576b\"],[0.6666666666666666,\"#ed7953\"],[0.7777777777777778,\"#fb9f3a\"],[0.8888888888888888,\"#fdca26\"],[1.0,\"#f0f921\"]]}],\"mesh3d\":[{\"type\":\"mesh3d\",\"colorbar\":{\"outlinewidth\":0,\"ticks\":\"\"}}],\"scatter\":[{\"fillpattern\":{\"fillmode\":\"overlay\",\"size\":10,\"solidity\":0.2},\"type\":\"scatter\"}],\"parcoords\":[{\"type\":\"parcoords\",\"line\":{\"colorbar\":{\"outlinewidth\":0,\"ticks\":\"\"}}}],\"scatterpolargl\":[{\"type\":\"scatterpolargl\",\"marker\":{\"colorbar\":{\"outlinewidth\":0,\"ticks\":\"\"}}}],\"bar\":[{\"error_x\":{\"color\":\"#2a3f5f\"},\"error_y\":{\"color\":\"#2a3f5f\"},\"marker\":{\"line\":{\"color\":\"white\",\"width\":0.5},\"pattern\":{\"fillmode\":\"overlay\",\"size\":10,\"solidity\":0.2}},\"type\":\"bar\"}],\"scattergeo\":[{\"type\":\"scattergeo\",\"marker\":{\"colorbar\":{\"outlinewidth\":0,\"ticks\":\"\"}}}],\"scatterpolar\":[{\"type\":\"scatterpolar\",\"marker\":{\"colorbar\":{\"outlinewidth\":0,\"ticks\":\"\"}}}],\"histogram\":[{\"marker\":{\"pattern\":{\"fillmode\":\"overlay\",\"size\":10,\"solidity\":0.2}},\"type\":\"histogram\"}],\"scattergl\":[{\"type\":\"scattergl\",\"marker\":{\"colorbar\":{\"outlinewidth\":0,\"ticks\":\"\"}}}],\"scatter3d\":[{\"type\":\"scatter3d\",\"line\":{\"colorbar\":{\"outlinewidth\":0,\"ticks\":\"\"}},\"marker\":{\"colorbar\":{\"outlinewidth\":0,\"ticks\":\"\"}}}],\"scattermapbox\":[{\"type\":\"scattermapbox\",\"marker\":{\"colorbar\":{\"outlinewidth\":0,\"ticks\":\"\"}}}],\"scatterternary\":[{\"type\":\"scatterternary\",\"marker\":{\"colorbar\":{\"outlinewidth\":0,\"ticks\":\"\"}}}],\"scattercarpet\":[{\"type\":\"scattercarpet\",\"marker\":{\"colorbar\":{\"outlinewidth\":0,\"ticks\":\"\"}}}],\"carpet\":[{\"aaxis\":{\"endlinecolor\":\"#2a3f5f\",\"gridcolor\":\"#C8D4E3\",\"linecolor\":\"#C8D4E3\",\"minorgridcolor\":\"#C8D4E3\",\"startlinecolor\":\"#2a3f5f\"},\"baxis\":{\"endlinecolor\":\"#2a3f5f\",\"gridcolor\":\"#C8D4E3\",\"linecolor\":\"#C8D4E3\",\"minorgridcolor\":\"#C8D4E3\",\"startlinecolor\":\"#2a3f5f\"},\"type\":\"carpet\"}],\"table\":[{\"cells\":{\"fill\":{\"color\":\"#EBF0F8\"},\"line\":{\"color\":\"white\"}},\"header\":{\"fill\":{\"color\":\"#C8D4E3\"},\"line\":{\"color\":\"white\"}},\"type\":\"table\"}],\"barpolar\":[{\"marker\":{\"line\":{\"color\":\"white\",\"width\":0.5},\"pattern\":{\"fillmode\":\"overlay\",\"size\":10,\"solidity\":0.2}},\"type\":\"barpolar\"}],\"pie\":[{\"automargin\":true,\"type\":\"pie\"}]},\"layout\":{\"autotypenumbers\":\"strict\",\"colorway\":[\"#2fa1da\",\"#fb4f2f\",\"#e4ae38\",\"#6d904f\",\"#8a8a8a\",\"#16bdcf\",\"#9367bc\",\"#d62628\",\"#1f77b3\",\"#e277c1\",\"#8c564b\",\"#bcbc21\",\"#3a0182\",\"#004200\",\"#0fffa8\",\"#5d003f\",\"#c6bcff\",\"#424f52\",\"#b80080\",\"#ffb6b3\",\"#7c0100\",\"#6026ff\",\"#ffff9a\",\"#aec8aa\",\"#00857c\",\"#543a00\",\"#93fbff\",\"#00bf00\",\"#7c00a0\",\"#aa7200\",\"#90ff00\",\"#01bd89\",\"#00447b\",\"#c8826e\",\"#ff1f82\",\"#dd00ff\",\"#057400\",\"#644460\",\"#878eff\",\"#ffb5f4\",\"#526236\",\"#cd85ff\",\"#676983\",\"#bdb3bd\",\"#a56089\",\"#95d3ff\",\"#0100f7\",\"#ff8001\",\"#8a2844\",\"#aca06d\",\"#52448a\",\"#c8ffd8\",\"#aa4600\",\"#ff798e\",\"#82d370\",\"#909ebf\",\"#9300f4\",\"#ebcf9a\",\"#ac8ab1\",\"#006249\",\"#ffdb00\",\"#877750\",\"#7eaaa3\",\"#000097\",\"#f400c6\",\"#643328\",\"#006677\",\"#03e2c8\",\"#a736ae\",\"#c4dbe1\",\"#4d6eff\",\"#9a9301\",\"#cd576b\",\"#efddfd\",\"#795900\",\"#5e879a\",\"#b3ff91\",\"#5d726b\",\"#520066\",\"#058750\",\"#831f6e\",\"#3b9505\",\"#647200\",\"#f0a06b\",\"#5e4f44\",\"#bc0049\",\"#cf6726\",\"#d695aa\",\"#895dff\",\"#826b75\",\"#2a54b8\",\"#6e7cba\",\"#e6d4d3\",\"#5d0018\",\"#7c3b01\",\"#80b17c\",\"#c8d87c\",\"#00e83b\",\"#7cb1ff\",\"#ff54ff\",\"#a32621\",\"#1ce4ff\",\"#7caf3b\",\"#7b4b90\",\"#dfff48\",\"#6b00c3\",\"#cda897\",\"#bd62c3\",\"#89cdcd\",\"#4603c8\",\"#5d9179\",\"#414901\",\"#05a79c\",\"#cf8c36\",\"#fff7cf\",\"#425470\",\"#b544ff\",\"#cf4993\",\"#cfa3df\",\"#93d400\",\"#a793da\",\"#2da557\",\"#8ce2b5\",\"#a3a89c\",\"#6b5bb6\",\"#ff7e5d\",\"#a78289\",\"#afbdd8\",\"#2ac3ff\",\"#a5673d\",\"#f690fd\",\"#874b64\",\"#ff0c4b\",\"#215d23\",\"#4291ff\",\"#87829c\",\"#672d44\",\"#b14f41\",\"#004d52\",\"#5e1a00\",\"#ac4167\",\"#4f3167\",\"#d6fffd\",\"#7eb5d1\",\"#a8b869\",\"#ff95ca\",\"#c87495\",\"#364f38\",\"#ffcf62\",\"#5d5762\",\"#879375\",\"#a877ff\",\"#03c862\",\"#e6bdd4\",\"#d4e2cf\",\"#876790\",\"#897c26\",\"#cddbff\",\"#aa676b\",\"#313474\",\"#ff5da8\",\"#009aaf\",\"#70ffdd\",\"#775b38\",\"#4f649a\",\"#cc00b3\",\"#567b54\",\"#506e7b\",\"#015e91\",\"#aabcbd\",\"#017e99\",\"#03dd97\",\"#873a2b\",\"#ef958e\",\"#75c6aa\",\"#70695d\",\"#ccdb08\",\"#af8556\",\"#d80075\",\"#9c3f80\",\"#d84400\",\"#dd6754\",\"#5eff79\",\"#d4b172\",\"#62265d\",\"#baa13d\",\"#d8f2b3\",\"#56018e\",\"#a19aaa\",\"#4d4926\",\"#a3a8ff\",\"#ace8db\",\"#995901\",\"#ac00e2\",\"#46822f\",\"#cac3ac\",\"#00c4b5\",\"#605277\",\"#336d67\",\"#a59180\",\"#8399a1\",\"#fd5664\",\"#7095d1\",\"#728c07\",\"#7e004b\",\"#152fa0\",\"#d1c1e2\",\"#c885cf\",\"#6b444b\",\"#7e0023\",\"#00a179\",\"#b1a8cf\",\"#f90000\",\"#afe8ff\",\"#939e4f\",\"#727982\",\"#d82d54\",\"#466001\",\"#0059ff\",\"#773fb5\",\"#ace460\",\"#674424\",\"#525d50\",\"#957267\",\"#a8e49a\",\"#a30057\",\"#d862f6\",\"#8e7ccf\",\"#ffbc93\",\"#a30091\",\"#9affb8\",\"#a7c1ff\",\"#f46200\",\"#e4efff\",\"#b89ca3\",\"#609593\",\"#ff9e34\",\"#8c2800\",\"#726b31\",\"#df824d\",\"#af7bd4\",\"#bc2d00\",\"#7b6ea3\",\"#484262\",\"#c6a3ff\",\"#004d28\",\"#c3c68e\",\"#df48d6\",\"#e6e864\",\"#e4c10a\",\"#00f4f0\",\"#9e5ba1\",\"#4b41b6\",\"#64338e\",\"#757e6b\",\"#a88936\"],\"font\":{\"color\":\"#2a3f5f\"},\"hovermode\":\"closest\",\"hoverlabel\":{\"align\":\"left\"},\"paper_bgcolor\":\"white\",\"plot_bgcolor\":\"white\",\"polar\":{\"bgcolor\":\"white\",\"angularaxis\":{\"gridcolor\":\"#EBF0F8\",\"linecolor\":\"#EBF0F8\",\"ticks\":\"\"},\"radialaxis\":{\"gridcolor\":\"#EBF0F8\",\"linecolor\":\"#EBF0F8\",\"ticks\":\"\"}},\"ternary\":{\"bgcolor\":\"white\",\"aaxis\":{\"gridcolor\":\"#DFE8F3\",\"linecolor\":\"#A2B1C6\",\"ticks\":\"\"},\"baxis\":{\"gridcolor\":\"#DFE8F3\",\"linecolor\":\"#A2B1C6\",\"ticks\":\"\"},\"caxis\":{\"gridcolor\":\"#DFE8F3\",\"linecolor\":\"#A2B1C6\",\"ticks\":\"\"}},\"coloraxis\":{\"colorbar\":{\"outlinewidth\":0,\"ticks\":\"\"}},\"colorscale\":{\"sequential\":[[0.0,\"#0d0887\"],[0.1111111111111111,\"#46039f\"],[0.2222222222222222,\"#7201a8\"],[0.3333333333333333,\"#9c179e\"],[0.4444444444444444,\"#bd3786\"],[0.5555555555555556,\"#d8576b\"],[0.6666666666666666,\"#ed7953\"],[0.7777777777777778,\"#fb9f3a\"],[0.8888888888888888,\"#fdca26\"],[1.0,\"#f0f921\"]],\"sequentialminus\":[[0.0,\"#0d0887\"],[0.1111111111111111,\"#46039f\"],[0.2222222222222222,\"#7201a8\"],[0.3333333333333333,\"#9c179e\"],[0.4444444444444444,\"#bd3786\"],[0.5555555555555556,\"#d8576b\"],[0.6666666666666666,\"#ed7953\"],[0.7777777777777778,\"#fb9f3a\"],[0.8888888888888888,\"#fdca26\"],[1.0,\"#f0f921\"]],\"diverging\":[[0,\"#8e0152\"],[0.1,\"#c51b7d\"],[0.2,\"#de77ae\"],[0.3,\"#f1b6da\"],[0.4,\"#fde0ef\"],[0.5,\"#f7f7f7\"],[0.6,\"#e6f5d0\"],[0.7,\"#b8e186\"],[0.8,\"#7fbc41\"],[0.9,\"#4d9221\"],[1,\"#276419\"]]},\"xaxis\":{\"gridcolor\":\"#EBF0F8\",\"linecolor\":\"#EBF0F8\",\"ticks\":\"\",\"title\":{\"standoff\":15},\"zerolinecolor\":\"#EBF0F8\",\"automargin\":true,\"zerolinewidth\":2},\"yaxis\":{\"gridcolor\":\"#EBF0F8\",\"linecolor\":\"#EBF0F8\",\"ticks\":\"\",\"title\":{\"standoff\":15},\"zerolinecolor\":\"#EBF0F8\",\"automargin\":true,\"zerolinewidth\":2},\"scene\":{\"xaxis\":{\"backgroundcolor\":\"white\",\"gridcolor\":\"#DFE8F3\",\"linecolor\":\"#EBF0F8\",\"showbackground\":true,\"ticks\":\"\",\"zerolinecolor\":\"#EBF0F8\",\"gridwidth\":2},\"yaxis\":{\"backgroundcolor\":\"white\",\"gridcolor\":\"#DFE8F3\",\"linecolor\":\"#EBF0F8\",\"showbackground\":true,\"ticks\":\"\",\"zerolinecolor\":\"#EBF0F8\",\"gridwidth\":2},\"zaxis\":{\"backgroundcolor\":\"white\",\"gridcolor\":\"#DFE8F3\",\"linecolor\":\"#EBF0F8\",\"showbackground\":true,\"ticks\":\"\",\"zerolinecolor\":\"#EBF0F8\",\"gridwidth\":2}},\"shapedefaults\":{\"line\":{\"color\":\"#2a3f5f\"}},\"annotationdefaults\":{\"arrowcolor\":\"#2a3f5f\",\"arrowhead\":0,\"arrowwidth\":1},\"geo\":{\"bgcolor\":\"white\",\"landcolor\":\"white\",\"subunitcolor\":\"#C8D4E3\",\"showland\":true,\"showlakes\":true,\"lakecolor\":\"white\"},\"title\":{\"x\":0.05},\"mapbox\":{\"style\":\"light\"},\"legend\":{\"tracegroupgap\":0},\"width\":700,\"height\":400,\"autosize\":false}},\"xaxis\":{\"anchor\":\"y\",\"domain\":[0.0,1.0],\"title\":{\"text\":\"bar\"}},\"yaxis\":{\"anchor\":\"x\",\"domain\":[0.0,1.0],\"title\":{\"text\":\"foo\"}},\"legend\":{\"title\":{},\"tracegroupgap\":0},\"margin\":{\"t\":60},\"barmode\":\"relative\"},                        {\"responsive\": true}                    ).then(function(){\n",
       "                            \n",
       "var gd = document.getElementById('6a024a7a-a5f0-444c-a965-bf3ec8b553f0');\n",
       "var x = new MutationObserver(function (mutations, observer) {{\n",
       "        var display = window.getComputedStyle(gd).display;\n",
       "        if (!display || display === 'none') {{\n",
       "            console.log([gd, 'removed!']);\n",
       "            Plotly.purge(gd);\n",
       "            observer.disconnect();\n",
       "        }}\n",
       "}});\n",
       "\n",
       "// Listen for the removal of the full notebook cells\n",
       "var notebookContainer = gd.closest('#notebook-container');\n",
       "if (notebookContainer) {{\n",
       "    x.observe(notebookContainer, {childList: true});\n",
       "}}\n",
       "\n",
       "// Listen for the clearing of the current output cell\n",
       "var outputEl = gd.closest('.output');\n",
       "if (outputEl) {{\n",
       "    x.observe(outputEl, {childList: true});\n",
       "}}\n",
       "\n",
       "                        })                };                });            </script>        </div>"
      ]
     },
     "metadata": {},
     "output_type": "display_data"
    }
   ],
   "source": [
    "#|hide\n",
    "plotly_dataarray(U1.array + U2.array)"
   ]
  },
  {
   "cell_type": "code",
   "execution_count": null,
   "metadata": {},
   "outputs": [
    {
     "data": {
      "application/vnd.plotly.v1+json": {
       "config": {
        "plotlyServerURL": "https://plot.ly"
       },
       "data": [
        {
         "hovertemplate": "foo=aaaaaaaaaaaaaaaaaa<br>baz=%{x}<br>bar=%{y}<extra></extra>",
         "legendgroup": "aaaaaaaaaaaaaaaaaa",
         "line": {
          "color": "#2fa1da",
          "dash": "solid"
         },
         "marker": {
          "symbol": "circle"
         },
         "mode": "lines",
         "name": "aaaaaaaaaaaaaaaaaa",
         "orientation": "v",
         "showlegend": true,
         "type": "scatter",
         "x": [
          0,
          1,
          2,
          3,
          4
         ],
         "xaxis": "x",
         "y": [
          0.08115400042389931,
          0.49431453353461774,
          0.5521627033044271,
          0.22517766610554546,
          0.9948242136208678
         ],
         "yaxis": "y"
        },
        {
         "hovertemplate": "foo=b<br>baz=%{x}<br>bar=%{y}<extra></extra>",
         "legendgroup": "b",
         "line": {
          "color": "#fb4f2f",
          "dash": "solid"
         },
         "marker": {
          "symbol": "circle"
         },
         "mode": "lines",
         "name": "b",
         "orientation": "v",
         "showlegend": true,
         "type": "scatter",
         "x": [
          0,
          1,
          2,
          3,
          4
         ],
         "xaxis": "x",
         "y": [
          0.015805555440133845,
          0.4073623878629723,
          0.836613041032693,
          0.7930049789596304,
          0.8729120163870842
         ],
         "yaxis": "y"
        },
        {
         "hovertemplate": "foo=c<br>baz=%{x}<br>bar=%{y}<extra></extra>",
         "legendgroup": "c",
         "line": {
          "color": "#e4ae38",
          "dash": "solid"
         },
         "marker": {
          "symbol": "circle"
         },
         "mode": "lines",
         "name": "c",
         "orientation": "v",
         "showlegend": true,
         "type": "scatter",
         "x": [
          0,
          1,
          2,
          3,
          4
         ],
         "xaxis": "x",
         "y": [
          0.4772006332829246,
          0.5681673512913645,
          0.10865710326226241,
          0.8478368672236546,
          0.889899007072331
         ],
         "yaxis": "y"
        }
       ],
       "layout": {
        "height": 360,
        "legend": {
         "title": {},
         "tracegroupgap": 0
        },
        "margin": {
         "t": 60
        },
        "template": {
         "data": {
          "bar": [
           {
            "error_x": {
             "color": "#2a3f5f"
            },
            "error_y": {
             "color": "#2a3f5f"
            },
            "marker": {
             "line": {
              "color": "white",
              "width": 0.5
             },
             "pattern": {
              "fillmode": "overlay",
              "size": 10,
              "solidity": 0.2
             }
            },
            "type": "bar"
           }
          ],
          "barpolar": [
           {
            "marker": {
             "line": {
              "color": "white",
              "width": 0.5
             },
             "pattern": {
              "fillmode": "overlay",
              "size": 10,
              "solidity": 0.2
             }
            },
            "type": "barpolar"
           }
          ],
          "carpet": [
           {
            "aaxis": {
             "endlinecolor": "#2a3f5f",
             "gridcolor": "#C8D4E3",
             "linecolor": "#C8D4E3",
             "minorgridcolor": "#C8D4E3",
             "startlinecolor": "#2a3f5f"
            },
            "baxis": {
             "endlinecolor": "#2a3f5f",
             "gridcolor": "#C8D4E3",
             "linecolor": "#C8D4E3",
             "minorgridcolor": "#C8D4E3",
             "startlinecolor": "#2a3f5f"
            },
            "type": "carpet"
           }
          ],
          "choropleth": [
           {
            "colorbar": {
             "outlinewidth": 0,
             "ticks": ""
            },
            "type": "choropleth"
           }
          ],
          "contour": [
           {
            "colorbar": {
             "outlinewidth": 0,
             "ticks": ""
            },
            "colorscale": [
             [
              0,
              "#0d0887"
             ],
             [
              0.1111111111111111,
              "#46039f"
             ],
             [
              0.2222222222222222,
              "#7201a8"
             ],
             [
              0.3333333333333333,
              "#9c179e"
             ],
             [
              0.4444444444444444,
              "#bd3786"
             ],
             [
              0.5555555555555556,
              "#d8576b"
             ],
             [
              0.6666666666666666,
              "#ed7953"
             ],
             [
              0.7777777777777778,
              "#fb9f3a"
             ],
             [
              0.8888888888888888,
              "#fdca26"
             ],
             [
              1,
              "#f0f921"
             ]
            ],
            "type": "contour"
           }
          ],
          "contourcarpet": [
           {
            "colorbar": {
             "outlinewidth": 0,
             "ticks": ""
            },
            "type": "contourcarpet"
           }
          ],
          "heatmap": [
           {
            "colorbar": {
             "outlinewidth": 0,
             "ticks": ""
            },
            "colorscale": [
             [
              0,
              "#0d0887"
             ],
             [
              0.1111111111111111,
              "#46039f"
             ],
             [
              0.2222222222222222,
              "#7201a8"
             ],
             [
              0.3333333333333333,
              "#9c179e"
             ],
             [
              0.4444444444444444,
              "#bd3786"
             ],
             [
              0.5555555555555556,
              "#d8576b"
             ],
             [
              0.6666666666666666,
              "#ed7953"
             ],
             [
              0.7777777777777778,
              "#fb9f3a"
             ],
             [
              0.8888888888888888,
              "#fdca26"
             ],
             [
              1,
              "#f0f921"
             ]
            ],
            "type": "heatmap"
           }
          ],
          "heatmapgl": [
           {
            "colorbar": {
             "outlinewidth": 0,
             "ticks": ""
            },
            "colorscale": [
             [
              0,
              "#0d0887"
             ],
             [
              0.1111111111111111,
              "#46039f"
             ],
             [
              0.2222222222222222,
              "#7201a8"
             ],
             [
              0.3333333333333333,
              "#9c179e"
             ],
             [
              0.4444444444444444,
              "#bd3786"
             ],
             [
              0.5555555555555556,
              "#d8576b"
             ],
             [
              0.6666666666666666,
              "#ed7953"
             ],
             [
              0.7777777777777778,
              "#fb9f3a"
             ],
             [
              0.8888888888888888,
              "#fdca26"
             ],
             [
              1,
              "#f0f921"
             ]
            ],
            "type": "heatmapgl"
           }
          ],
          "histogram": [
           {
            "marker": {
             "pattern": {
              "fillmode": "overlay",
              "size": 10,
              "solidity": 0.2
             }
            },
            "type": "histogram"
           }
          ],
          "histogram2d": [
           {
            "colorbar": {
             "outlinewidth": 0,
             "ticks": ""
            },
            "colorscale": [
             [
              0,
              "#0d0887"
             ],
             [
              0.1111111111111111,
              "#46039f"
             ],
             [
              0.2222222222222222,
              "#7201a8"
             ],
             [
              0.3333333333333333,
              "#9c179e"
             ],
             [
              0.4444444444444444,
              "#bd3786"
             ],
             [
              0.5555555555555556,
              "#d8576b"
             ],
             [
              0.6666666666666666,
              "#ed7953"
             ],
             [
              0.7777777777777778,
              "#fb9f3a"
             ],
             [
              0.8888888888888888,
              "#fdca26"
             ],
             [
              1,
              "#f0f921"
             ]
            ],
            "type": "histogram2d"
           }
          ],
          "histogram2dcontour": [
           {
            "colorbar": {
             "outlinewidth": 0,
             "ticks": ""
            },
            "colorscale": [
             [
              0,
              "#0d0887"
             ],
             [
              0.1111111111111111,
              "#46039f"
             ],
             [
              0.2222222222222222,
              "#7201a8"
             ],
             [
              0.3333333333333333,
              "#9c179e"
             ],
             [
              0.4444444444444444,
              "#bd3786"
             ],
             [
              0.5555555555555556,
              "#d8576b"
             ],
             [
              0.6666666666666666,
              "#ed7953"
             ],
             [
              0.7777777777777778,
              "#fb9f3a"
             ],
             [
              0.8888888888888888,
              "#fdca26"
             ],
             [
              1,
              "#f0f921"
             ]
            ],
            "type": "histogram2dcontour"
           }
          ],
          "mesh3d": [
           {
            "colorbar": {
             "outlinewidth": 0,
             "ticks": ""
            },
            "type": "mesh3d"
           }
          ],
          "parcoords": [
           {
            "line": {
             "colorbar": {
              "outlinewidth": 0,
              "ticks": ""
             }
            },
            "type": "parcoords"
           }
          ],
          "pie": [
           {
            "automargin": true,
            "type": "pie"
           }
          ],
          "scatter": [
           {
            "fillpattern": {
             "fillmode": "overlay",
             "size": 10,
             "solidity": 0.2
            },
            "type": "scatter"
           }
          ],
          "scatter3d": [
           {
            "line": {
             "colorbar": {
              "outlinewidth": 0,
              "ticks": ""
             }
            },
            "marker": {
             "colorbar": {
              "outlinewidth": 0,
              "ticks": ""
             }
            },
            "type": "scatter3d"
           }
          ],
          "scattercarpet": [
           {
            "marker": {
             "colorbar": {
              "outlinewidth": 0,
              "ticks": ""
             }
            },
            "type": "scattercarpet"
           }
          ],
          "scattergeo": [
           {
            "marker": {
             "colorbar": {
              "outlinewidth": 0,
              "ticks": ""
             }
            },
            "type": "scattergeo"
           }
          ],
          "scattergl": [
           {
            "marker": {
             "colorbar": {
              "outlinewidth": 0,
              "ticks": ""
             }
            },
            "type": "scattergl"
           }
          ],
          "scattermapbox": [
           {
            "marker": {
             "colorbar": {
              "outlinewidth": 0,
              "ticks": ""
             }
            },
            "type": "scattermapbox"
           }
          ],
          "scatterpolar": [
           {
            "marker": {
             "colorbar": {
              "outlinewidth": 0,
              "ticks": ""
             }
            },
            "type": "scatterpolar"
           }
          ],
          "scatterpolargl": [
           {
            "marker": {
             "colorbar": {
              "outlinewidth": 0,
              "ticks": ""
             }
            },
            "type": "scatterpolargl"
           }
          ],
          "scatterternary": [
           {
            "marker": {
             "colorbar": {
              "outlinewidth": 0,
              "ticks": ""
             }
            },
            "type": "scatterternary"
           }
          ],
          "surface": [
           {
            "colorbar": {
             "outlinewidth": 0,
             "ticks": ""
            },
            "colorscale": [
             [
              0,
              "#0d0887"
             ],
             [
              0.1111111111111111,
              "#46039f"
             ],
             [
              0.2222222222222222,
              "#7201a8"
             ],
             [
              0.3333333333333333,
              "#9c179e"
             ],
             [
              0.4444444444444444,
              "#bd3786"
             ],
             [
              0.5555555555555556,
              "#d8576b"
             ],
             [
              0.6666666666666666,
              "#ed7953"
             ],
             [
              0.7777777777777778,
              "#fb9f3a"
             ],
             [
              0.8888888888888888,
              "#fdca26"
             ],
             [
              1,
              "#f0f921"
             ]
            ],
            "type": "surface"
           }
          ],
          "table": [
           {
            "cells": {
             "fill": {
              "color": "#EBF0F8"
             },
             "line": {
              "color": "white"
             }
            },
            "header": {
             "fill": {
              "color": "#C8D4E3"
             },
             "line": {
              "color": "white"
             }
            },
            "type": "table"
           }
          ]
         },
         "layout": {
          "annotationdefaults": {
           "arrowcolor": "#2a3f5f",
           "arrowhead": 0,
           "arrowwidth": 1
          },
          "autosize": false,
          "autotypenumbers": "strict",
          "coloraxis": {
           "colorbar": {
            "outlinewidth": 0,
            "ticks": ""
           }
          },
          "colorscale": {
           "diverging": [
            [
             0,
             "#8e0152"
            ],
            [
             0.1,
             "#c51b7d"
            ],
            [
             0.2,
             "#de77ae"
            ],
            [
             0.3,
             "#f1b6da"
            ],
            [
             0.4,
             "#fde0ef"
            ],
            [
             0.5,
             "#f7f7f7"
            ],
            [
             0.6,
             "#e6f5d0"
            ],
            [
             0.7,
             "#b8e186"
            ],
            [
             0.8,
             "#7fbc41"
            ],
            [
             0.9,
             "#4d9221"
            ],
            [
             1,
             "#276419"
            ]
           ],
           "sequential": [
            [
             0,
             "#0d0887"
            ],
            [
             0.1111111111111111,
             "#46039f"
            ],
            [
             0.2222222222222222,
             "#7201a8"
            ],
            [
             0.3333333333333333,
             "#9c179e"
            ],
            [
             0.4444444444444444,
             "#bd3786"
            ],
            [
             0.5555555555555556,
             "#d8576b"
            ],
            [
             0.6666666666666666,
             "#ed7953"
            ],
            [
             0.7777777777777778,
             "#fb9f3a"
            ],
            [
             0.8888888888888888,
             "#fdca26"
            ],
            [
             1,
             "#f0f921"
            ]
           ],
           "sequentialminus": [
            [
             0,
             "#0d0887"
            ],
            [
             0.1111111111111111,
             "#46039f"
            ],
            [
             0.2222222222222222,
             "#7201a8"
            ],
            [
             0.3333333333333333,
             "#9c179e"
            ],
            [
             0.4444444444444444,
             "#bd3786"
            ],
            [
             0.5555555555555556,
             "#d8576b"
            ],
            [
             0.6666666666666666,
             "#ed7953"
            ],
            [
             0.7777777777777778,
             "#fb9f3a"
            ],
            [
             0.8888888888888888,
             "#fdca26"
            ],
            [
             1,
             "#f0f921"
            ]
           ]
          },
          "colorway": [
           "#2fa1da",
           "#fb4f2f",
           "#e4ae38",
           "#6d904f",
           "#8a8a8a",
           "#16bdcf",
           "#9367bc",
           "#d62628",
           "#1f77b3",
           "#e277c1",
           "#8c564b",
           "#bcbc21",
           "#3a0182",
           "#004200",
           "#0fffa8",
           "#5d003f",
           "#c6bcff",
           "#424f52",
           "#b80080",
           "#ffb6b3",
           "#7c0100",
           "#6026ff",
           "#ffff9a",
           "#aec8aa",
           "#00857c",
           "#543a00",
           "#93fbff",
           "#00bf00",
           "#7c00a0",
           "#aa7200",
           "#90ff00",
           "#01bd89",
           "#00447b",
           "#c8826e",
           "#ff1f82",
           "#dd00ff",
           "#057400",
           "#644460",
           "#878eff",
           "#ffb5f4",
           "#526236",
           "#cd85ff",
           "#676983",
           "#bdb3bd",
           "#a56089",
           "#95d3ff",
           "#0100f7",
           "#ff8001",
           "#8a2844",
           "#aca06d",
           "#52448a",
           "#c8ffd8",
           "#aa4600",
           "#ff798e",
           "#82d370",
           "#909ebf",
           "#9300f4",
           "#ebcf9a",
           "#ac8ab1",
           "#006249",
           "#ffdb00",
           "#877750",
           "#7eaaa3",
           "#000097",
           "#f400c6",
           "#643328",
           "#006677",
           "#03e2c8",
           "#a736ae",
           "#c4dbe1",
           "#4d6eff",
           "#9a9301",
           "#cd576b",
           "#efddfd",
           "#795900",
           "#5e879a",
           "#b3ff91",
           "#5d726b",
           "#520066",
           "#058750",
           "#831f6e",
           "#3b9505",
           "#647200",
           "#f0a06b",
           "#5e4f44",
           "#bc0049",
           "#cf6726",
           "#d695aa",
           "#895dff",
           "#826b75",
           "#2a54b8",
           "#6e7cba",
           "#e6d4d3",
           "#5d0018",
           "#7c3b01",
           "#80b17c",
           "#c8d87c",
           "#00e83b",
           "#7cb1ff",
           "#ff54ff",
           "#a32621",
           "#1ce4ff",
           "#7caf3b",
           "#7b4b90",
           "#dfff48",
           "#6b00c3",
           "#cda897",
           "#bd62c3",
           "#89cdcd",
           "#4603c8",
           "#5d9179",
           "#414901",
           "#05a79c",
           "#cf8c36",
           "#fff7cf",
           "#425470",
           "#b544ff",
           "#cf4993",
           "#cfa3df",
           "#93d400",
           "#a793da",
           "#2da557",
           "#8ce2b5",
           "#a3a89c",
           "#6b5bb6",
           "#ff7e5d",
           "#a78289",
           "#afbdd8",
           "#2ac3ff",
           "#a5673d",
           "#f690fd",
           "#874b64",
           "#ff0c4b",
           "#215d23",
           "#4291ff",
           "#87829c",
           "#672d44",
           "#b14f41",
           "#004d52",
           "#5e1a00",
           "#ac4167",
           "#4f3167",
           "#d6fffd",
           "#7eb5d1",
           "#a8b869",
           "#ff95ca",
           "#c87495",
           "#364f38",
           "#ffcf62",
           "#5d5762",
           "#879375",
           "#a877ff",
           "#03c862",
           "#e6bdd4",
           "#d4e2cf",
           "#876790",
           "#897c26",
           "#cddbff",
           "#aa676b",
           "#313474",
           "#ff5da8",
           "#009aaf",
           "#70ffdd",
           "#775b38",
           "#4f649a",
           "#cc00b3",
           "#567b54",
           "#506e7b",
           "#015e91",
           "#aabcbd",
           "#017e99",
           "#03dd97",
           "#873a2b",
           "#ef958e",
           "#75c6aa",
           "#70695d",
           "#ccdb08",
           "#af8556",
           "#d80075",
           "#9c3f80",
           "#d84400",
           "#dd6754",
           "#5eff79",
           "#d4b172",
           "#62265d",
           "#baa13d",
           "#d8f2b3",
           "#56018e",
           "#a19aaa",
           "#4d4926",
           "#a3a8ff",
           "#ace8db",
           "#995901",
           "#ac00e2",
           "#46822f",
           "#cac3ac",
           "#00c4b5",
           "#605277",
           "#336d67",
           "#a59180",
           "#8399a1",
           "#fd5664",
           "#7095d1",
           "#728c07",
           "#7e004b",
           "#152fa0",
           "#d1c1e2",
           "#c885cf",
           "#6b444b",
           "#7e0023",
           "#00a179",
           "#b1a8cf",
           "#f90000",
           "#afe8ff",
           "#939e4f",
           "#727982",
           "#d82d54",
           "#466001",
           "#0059ff",
           "#773fb5",
           "#ace460",
           "#674424",
           "#525d50",
           "#957267",
           "#a8e49a",
           "#a30057",
           "#d862f6",
           "#8e7ccf",
           "#ffbc93",
           "#a30091",
           "#9affb8",
           "#a7c1ff",
           "#f46200",
           "#e4efff",
           "#b89ca3",
           "#609593",
           "#ff9e34",
           "#8c2800",
           "#726b31",
           "#df824d",
           "#af7bd4",
           "#bc2d00",
           "#7b6ea3",
           "#484262",
           "#c6a3ff",
           "#004d28",
           "#c3c68e",
           "#df48d6",
           "#e6e864",
           "#e4c10a",
           "#00f4f0",
           "#9e5ba1",
           "#4b41b6",
           "#64338e",
           "#757e6b",
           "#a88936"
          ],
          "font": {
           "color": "#2a3f5f"
          },
          "geo": {
           "bgcolor": "white",
           "lakecolor": "white",
           "landcolor": "white",
           "showlakes": true,
           "showland": true,
           "subunitcolor": "#C8D4E3"
          },
          "height": 400,
          "hoverlabel": {
           "align": "left"
          },
          "hovermode": "closest",
          "legend": {
           "tracegroupgap": 0
          },
          "mapbox": {
           "style": "light"
          },
          "paper_bgcolor": "white",
          "plot_bgcolor": "white",
          "polar": {
           "angularaxis": {
            "gridcolor": "#EBF0F8",
            "linecolor": "#EBF0F8",
            "ticks": ""
           },
           "bgcolor": "white",
           "radialaxis": {
            "gridcolor": "#EBF0F8",
            "linecolor": "#EBF0F8",
            "ticks": ""
           }
          },
          "scene": {
           "xaxis": {
            "backgroundcolor": "white",
            "gridcolor": "#DFE8F3",
            "gridwidth": 2,
            "linecolor": "#EBF0F8",
            "showbackground": true,
            "ticks": "",
            "zerolinecolor": "#EBF0F8"
           },
           "yaxis": {
            "backgroundcolor": "white",
            "gridcolor": "#DFE8F3",
            "gridwidth": 2,
            "linecolor": "#EBF0F8",
            "showbackground": true,
            "ticks": "",
            "zerolinecolor": "#EBF0F8"
           },
           "zaxis": {
            "backgroundcolor": "white",
            "gridcolor": "#DFE8F3",
            "gridwidth": 2,
            "linecolor": "#EBF0F8",
            "showbackground": true,
            "ticks": "",
            "zerolinecolor": "#EBF0F8"
           }
          },
          "shapedefaults": {
           "line": {
            "color": "#2a3f5f"
           }
          },
          "ternary": {
           "aaxis": {
            "gridcolor": "#DFE8F3",
            "linecolor": "#A2B1C6",
            "ticks": ""
           },
           "baxis": {
            "gridcolor": "#DFE8F3",
            "linecolor": "#A2B1C6",
            "ticks": ""
           },
           "bgcolor": "white",
           "caxis": {
            "gridcolor": "#DFE8F3",
            "linecolor": "#A2B1C6",
            "ticks": ""
           }
          },
          "title": {
           "x": 0.05
          },
          "width": 700,
          "xaxis": {
           "automargin": true,
           "gridcolor": "#EBF0F8",
           "linecolor": "#EBF0F8",
           "ticks": "",
           "title": {
            "standoff": 15
           },
           "zerolinecolor": "#EBF0F8",
           "zerolinewidth": 2
          },
          "yaxis": {
           "automargin": true,
           "gridcolor": "#EBF0F8",
           "linecolor": "#EBF0F8",
           "ticks": "",
           "title": {
            "standoff": 15
           },
           "zerolinecolor": "#EBF0F8",
           "zerolinewidth": 2
          }
         }
        },
        "width": 700,
        "xaxis": {
         "anchor": "y",
         "autorange": true,
         "domain": [
          0,
          1
         ],
         "range": [
          0,
          4
         ],
         "title": {
          "text": "baz"
         },
         "type": "linear"
        },
        "yaxis": {
         "anchor": "x",
         "autorange": true,
         "domain": [
          0,
          1
         ],
         "range": [
          -0.038584370014351374,
          1.049214139075353
         ],
         "title": {
          "text": "bar"
         },
         "type": "linear"
        }
       }
      },
      "text/html": [
       "<div>                            <div id=\"207d1089-d5af-422d-8889-f615027d0634\" class=\"plotly-graph-div\" style=\"height:400px; width:700px;\"></div>            <script type=\"text/javascript\">                require([\"plotly\"], function(Plotly) {                    window.PLOTLYENV=window.PLOTLYENV || {};                                    if (document.getElementById(\"207d1089-d5af-422d-8889-f615027d0634\")) {                    Plotly.newPlot(                        \"207d1089-d5af-422d-8889-f615027d0634\",                        [{\"hovertemplate\":\"foo=aaaaaaaaaaaaaaaaaa\\u003cbr\\u003ebaz=%{x}\\u003cbr\\u003ebar=%{y}\\u003cextra\\u003e\\u003c\\u002fextra\\u003e\",\"legendgroup\":\"aaaaaaaaaaaaaaaaaa\",\"line\":{\"color\":\"#2fa1da\",\"dash\":\"solid\"},\"marker\":{\"symbol\":\"circle\"},\"mode\":\"lines\",\"name\":\"aaaaaaaaaaaaaaaaaa\",\"orientation\":\"v\",\"showlegend\":true,\"x\":[0,1,2,3,4],\"xaxis\":\"x\",\"y\":[0.08115400042389931,0.49431453353461774,0.5521627033044271,0.22517766610554546,0.9948242136208678],\"yaxis\":\"y\",\"type\":\"scatter\"},{\"hovertemplate\":\"foo=b\\u003cbr\\u003ebaz=%{x}\\u003cbr\\u003ebar=%{y}\\u003cextra\\u003e\\u003c\\u002fextra\\u003e\",\"legendgroup\":\"b\",\"line\":{\"color\":\"#fb4f2f\",\"dash\":\"solid\"},\"marker\":{\"symbol\":\"circle\"},\"mode\":\"lines\",\"name\":\"b\",\"orientation\":\"v\",\"showlegend\":true,\"x\":[0,1,2,3,4],\"xaxis\":\"x\",\"y\":[0.015805555440133845,0.4073623878629723,0.836613041032693,0.7930049789596304,0.8729120163870842],\"yaxis\":\"y\",\"type\":\"scatter\"},{\"hovertemplate\":\"foo=c\\u003cbr\\u003ebaz=%{x}\\u003cbr\\u003ebar=%{y}\\u003cextra\\u003e\\u003c\\u002fextra\\u003e\",\"legendgroup\":\"c\",\"line\":{\"color\":\"#e4ae38\",\"dash\":\"solid\"},\"marker\":{\"symbol\":\"circle\"},\"mode\":\"lines\",\"name\":\"c\",\"orientation\":\"v\",\"showlegend\":true,\"x\":[0,1,2,3,4],\"xaxis\":\"x\",\"y\":[0.4772006332829246,0.5681673512913645,0.10865710326226241,0.8478368672236546,0.889899007072331],\"yaxis\":\"y\",\"type\":\"scatter\"}],                        {\"template\":{\"data\":{\"histogram2dcontour\":[{\"type\":\"histogram2dcontour\",\"colorbar\":{\"outlinewidth\":0,\"ticks\":\"\"},\"colorscale\":[[0.0,\"#0d0887\"],[0.1111111111111111,\"#46039f\"],[0.2222222222222222,\"#7201a8\"],[0.3333333333333333,\"#9c179e\"],[0.4444444444444444,\"#bd3786\"],[0.5555555555555556,\"#d8576b\"],[0.6666666666666666,\"#ed7953\"],[0.7777777777777778,\"#fb9f3a\"],[0.8888888888888888,\"#fdca26\"],[1.0,\"#f0f921\"]]}],\"choropleth\":[{\"type\":\"choropleth\",\"colorbar\":{\"outlinewidth\":0,\"ticks\":\"\"}}],\"histogram2d\":[{\"type\":\"histogram2d\",\"colorbar\":{\"outlinewidth\":0,\"ticks\":\"\"},\"colorscale\":[[0.0,\"#0d0887\"],[0.1111111111111111,\"#46039f\"],[0.2222222222222222,\"#7201a8\"],[0.3333333333333333,\"#9c179e\"],[0.4444444444444444,\"#bd3786\"],[0.5555555555555556,\"#d8576b\"],[0.6666666666666666,\"#ed7953\"],[0.7777777777777778,\"#fb9f3a\"],[0.8888888888888888,\"#fdca26\"],[1.0,\"#f0f921\"]]}],\"heatmap\":[{\"type\":\"heatmap\",\"colorbar\":{\"outlinewidth\":0,\"ticks\":\"\"},\"colorscale\":[[0.0,\"#0d0887\"],[0.1111111111111111,\"#46039f\"],[0.2222222222222222,\"#7201a8\"],[0.3333333333333333,\"#9c179e\"],[0.4444444444444444,\"#bd3786\"],[0.5555555555555556,\"#d8576b\"],[0.6666666666666666,\"#ed7953\"],[0.7777777777777778,\"#fb9f3a\"],[0.8888888888888888,\"#fdca26\"],[1.0,\"#f0f921\"]]}],\"heatmapgl\":[{\"type\":\"heatmapgl\",\"colorbar\":{\"outlinewidth\":0,\"ticks\":\"\"},\"colorscale\":[[0.0,\"#0d0887\"],[0.1111111111111111,\"#46039f\"],[0.2222222222222222,\"#7201a8\"],[0.3333333333333333,\"#9c179e\"],[0.4444444444444444,\"#bd3786\"],[0.5555555555555556,\"#d8576b\"],[0.6666666666666666,\"#ed7953\"],[0.7777777777777778,\"#fb9f3a\"],[0.8888888888888888,\"#fdca26\"],[1.0,\"#f0f921\"]]}],\"contourcarpet\":[{\"type\":\"contourcarpet\",\"colorbar\":{\"outlinewidth\":0,\"ticks\":\"\"}}],\"contour\":[{\"type\":\"contour\",\"colorbar\":{\"outlinewidth\":0,\"ticks\":\"\"},\"colorscale\":[[0.0,\"#0d0887\"],[0.1111111111111111,\"#46039f\"],[0.2222222222222222,\"#7201a8\"],[0.3333333333333333,\"#9c179e\"],[0.4444444444444444,\"#bd3786\"],[0.5555555555555556,\"#d8576b\"],[0.6666666666666666,\"#ed7953\"],[0.7777777777777778,\"#fb9f3a\"],[0.8888888888888888,\"#fdca26\"],[1.0,\"#f0f921\"]]}],\"surface\":[{\"type\":\"surface\",\"colorbar\":{\"outlinewidth\":0,\"ticks\":\"\"},\"colorscale\":[[0.0,\"#0d0887\"],[0.1111111111111111,\"#46039f\"],[0.2222222222222222,\"#7201a8\"],[0.3333333333333333,\"#9c179e\"],[0.4444444444444444,\"#bd3786\"],[0.5555555555555556,\"#d8576b\"],[0.6666666666666666,\"#ed7953\"],[0.7777777777777778,\"#fb9f3a\"],[0.8888888888888888,\"#fdca26\"],[1.0,\"#f0f921\"]]}],\"mesh3d\":[{\"type\":\"mesh3d\",\"colorbar\":{\"outlinewidth\":0,\"ticks\":\"\"}}],\"scatter\":[{\"fillpattern\":{\"fillmode\":\"overlay\",\"size\":10,\"solidity\":0.2},\"type\":\"scatter\"}],\"parcoords\":[{\"type\":\"parcoords\",\"line\":{\"colorbar\":{\"outlinewidth\":0,\"ticks\":\"\"}}}],\"scatterpolargl\":[{\"type\":\"scatterpolargl\",\"marker\":{\"colorbar\":{\"outlinewidth\":0,\"ticks\":\"\"}}}],\"bar\":[{\"error_x\":{\"color\":\"#2a3f5f\"},\"error_y\":{\"color\":\"#2a3f5f\"},\"marker\":{\"line\":{\"color\":\"white\",\"width\":0.5},\"pattern\":{\"fillmode\":\"overlay\",\"size\":10,\"solidity\":0.2}},\"type\":\"bar\"}],\"scattergeo\":[{\"type\":\"scattergeo\",\"marker\":{\"colorbar\":{\"outlinewidth\":0,\"ticks\":\"\"}}}],\"scatterpolar\":[{\"type\":\"scatterpolar\",\"marker\":{\"colorbar\":{\"outlinewidth\":0,\"ticks\":\"\"}}}],\"histogram\":[{\"marker\":{\"pattern\":{\"fillmode\":\"overlay\",\"size\":10,\"solidity\":0.2}},\"type\":\"histogram\"}],\"scattergl\":[{\"type\":\"scattergl\",\"marker\":{\"colorbar\":{\"outlinewidth\":0,\"ticks\":\"\"}}}],\"scatter3d\":[{\"type\":\"scatter3d\",\"line\":{\"colorbar\":{\"outlinewidth\":0,\"ticks\":\"\"}},\"marker\":{\"colorbar\":{\"outlinewidth\":0,\"ticks\":\"\"}}}],\"scattermapbox\":[{\"type\":\"scattermapbox\",\"marker\":{\"colorbar\":{\"outlinewidth\":0,\"ticks\":\"\"}}}],\"scatterternary\":[{\"type\":\"scatterternary\",\"marker\":{\"colorbar\":{\"outlinewidth\":0,\"ticks\":\"\"}}}],\"scattercarpet\":[{\"type\":\"scattercarpet\",\"marker\":{\"colorbar\":{\"outlinewidth\":0,\"ticks\":\"\"}}}],\"carpet\":[{\"aaxis\":{\"endlinecolor\":\"#2a3f5f\",\"gridcolor\":\"#C8D4E3\",\"linecolor\":\"#C8D4E3\",\"minorgridcolor\":\"#C8D4E3\",\"startlinecolor\":\"#2a3f5f\"},\"baxis\":{\"endlinecolor\":\"#2a3f5f\",\"gridcolor\":\"#C8D4E3\",\"linecolor\":\"#C8D4E3\",\"minorgridcolor\":\"#C8D4E3\",\"startlinecolor\":\"#2a3f5f\"},\"type\":\"carpet\"}],\"table\":[{\"cells\":{\"fill\":{\"color\":\"#EBF0F8\"},\"line\":{\"color\":\"white\"}},\"header\":{\"fill\":{\"color\":\"#C8D4E3\"},\"line\":{\"color\":\"white\"}},\"type\":\"table\"}],\"barpolar\":[{\"marker\":{\"line\":{\"color\":\"white\",\"width\":0.5},\"pattern\":{\"fillmode\":\"overlay\",\"size\":10,\"solidity\":0.2}},\"type\":\"barpolar\"}],\"pie\":[{\"automargin\":true,\"type\":\"pie\"}]},\"layout\":{\"autotypenumbers\":\"strict\",\"colorway\":[\"#2fa1da\",\"#fb4f2f\",\"#e4ae38\",\"#6d904f\",\"#8a8a8a\",\"#16bdcf\",\"#9367bc\",\"#d62628\",\"#1f77b3\",\"#e277c1\",\"#8c564b\",\"#bcbc21\",\"#3a0182\",\"#004200\",\"#0fffa8\",\"#5d003f\",\"#c6bcff\",\"#424f52\",\"#b80080\",\"#ffb6b3\",\"#7c0100\",\"#6026ff\",\"#ffff9a\",\"#aec8aa\",\"#00857c\",\"#543a00\",\"#93fbff\",\"#00bf00\",\"#7c00a0\",\"#aa7200\",\"#90ff00\",\"#01bd89\",\"#00447b\",\"#c8826e\",\"#ff1f82\",\"#dd00ff\",\"#057400\",\"#644460\",\"#878eff\",\"#ffb5f4\",\"#526236\",\"#cd85ff\",\"#676983\",\"#bdb3bd\",\"#a56089\",\"#95d3ff\",\"#0100f7\",\"#ff8001\",\"#8a2844\",\"#aca06d\",\"#52448a\",\"#c8ffd8\",\"#aa4600\",\"#ff798e\",\"#82d370\",\"#909ebf\",\"#9300f4\",\"#ebcf9a\",\"#ac8ab1\",\"#006249\",\"#ffdb00\",\"#877750\",\"#7eaaa3\",\"#000097\",\"#f400c6\",\"#643328\",\"#006677\",\"#03e2c8\",\"#a736ae\",\"#c4dbe1\",\"#4d6eff\",\"#9a9301\",\"#cd576b\",\"#efddfd\",\"#795900\",\"#5e879a\",\"#b3ff91\",\"#5d726b\",\"#520066\",\"#058750\",\"#831f6e\",\"#3b9505\",\"#647200\",\"#f0a06b\",\"#5e4f44\",\"#bc0049\",\"#cf6726\",\"#d695aa\",\"#895dff\",\"#826b75\",\"#2a54b8\",\"#6e7cba\",\"#e6d4d3\",\"#5d0018\",\"#7c3b01\",\"#80b17c\",\"#c8d87c\",\"#00e83b\",\"#7cb1ff\",\"#ff54ff\",\"#a32621\",\"#1ce4ff\",\"#7caf3b\",\"#7b4b90\",\"#dfff48\",\"#6b00c3\",\"#cda897\",\"#bd62c3\",\"#89cdcd\",\"#4603c8\",\"#5d9179\",\"#414901\",\"#05a79c\",\"#cf8c36\",\"#fff7cf\",\"#425470\",\"#b544ff\",\"#cf4993\",\"#cfa3df\",\"#93d400\",\"#a793da\",\"#2da557\",\"#8ce2b5\",\"#a3a89c\",\"#6b5bb6\",\"#ff7e5d\",\"#a78289\",\"#afbdd8\",\"#2ac3ff\",\"#a5673d\",\"#f690fd\",\"#874b64\",\"#ff0c4b\",\"#215d23\",\"#4291ff\",\"#87829c\",\"#672d44\",\"#b14f41\",\"#004d52\",\"#5e1a00\",\"#ac4167\",\"#4f3167\",\"#d6fffd\",\"#7eb5d1\",\"#a8b869\",\"#ff95ca\",\"#c87495\",\"#364f38\",\"#ffcf62\",\"#5d5762\",\"#879375\",\"#a877ff\",\"#03c862\",\"#e6bdd4\",\"#d4e2cf\",\"#876790\",\"#897c26\",\"#cddbff\",\"#aa676b\",\"#313474\",\"#ff5da8\",\"#009aaf\",\"#70ffdd\",\"#775b38\",\"#4f649a\",\"#cc00b3\",\"#567b54\",\"#506e7b\",\"#015e91\",\"#aabcbd\",\"#017e99\",\"#03dd97\",\"#873a2b\",\"#ef958e\",\"#75c6aa\",\"#70695d\",\"#ccdb08\",\"#af8556\",\"#d80075\",\"#9c3f80\",\"#d84400\",\"#dd6754\",\"#5eff79\",\"#d4b172\",\"#62265d\",\"#baa13d\",\"#d8f2b3\",\"#56018e\",\"#a19aaa\",\"#4d4926\",\"#a3a8ff\",\"#ace8db\",\"#995901\",\"#ac00e2\",\"#46822f\",\"#cac3ac\",\"#00c4b5\",\"#605277\",\"#336d67\",\"#a59180\",\"#8399a1\",\"#fd5664\",\"#7095d1\",\"#728c07\",\"#7e004b\",\"#152fa0\",\"#d1c1e2\",\"#c885cf\",\"#6b444b\",\"#7e0023\",\"#00a179\",\"#b1a8cf\",\"#f90000\",\"#afe8ff\",\"#939e4f\",\"#727982\",\"#d82d54\",\"#466001\",\"#0059ff\",\"#773fb5\",\"#ace460\",\"#674424\",\"#525d50\",\"#957267\",\"#a8e49a\",\"#a30057\",\"#d862f6\",\"#8e7ccf\",\"#ffbc93\",\"#a30091\",\"#9affb8\",\"#a7c1ff\",\"#f46200\",\"#e4efff\",\"#b89ca3\",\"#609593\",\"#ff9e34\",\"#8c2800\",\"#726b31\",\"#df824d\",\"#af7bd4\",\"#bc2d00\",\"#7b6ea3\",\"#484262\",\"#c6a3ff\",\"#004d28\",\"#c3c68e\",\"#df48d6\",\"#e6e864\",\"#e4c10a\",\"#00f4f0\",\"#9e5ba1\",\"#4b41b6\",\"#64338e\",\"#757e6b\",\"#a88936\"],\"font\":{\"color\":\"#2a3f5f\"},\"hovermode\":\"closest\",\"hoverlabel\":{\"align\":\"left\"},\"paper_bgcolor\":\"white\",\"plot_bgcolor\":\"white\",\"polar\":{\"bgcolor\":\"white\",\"angularaxis\":{\"gridcolor\":\"#EBF0F8\",\"linecolor\":\"#EBF0F8\",\"ticks\":\"\"},\"radialaxis\":{\"gridcolor\":\"#EBF0F8\",\"linecolor\":\"#EBF0F8\",\"ticks\":\"\"}},\"ternary\":{\"bgcolor\":\"white\",\"aaxis\":{\"gridcolor\":\"#DFE8F3\",\"linecolor\":\"#A2B1C6\",\"ticks\":\"\"},\"baxis\":{\"gridcolor\":\"#DFE8F3\",\"linecolor\":\"#A2B1C6\",\"ticks\":\"\"},\"caxis\":{\"gridcolor\":\"#DFE8F3\",\"linecolor\":\"#A2B1C6\",\"ticks\":\"\"}},\"coloraxis\":{\"colorbar\":{\"outlinewidth\":0,\"ticks\":\"\"}},\"colorscale\":{\"sequential\":[[0.0,\"#0d0887\"],[0.1111111111111111,\"#46039f\"],[0.2222222222222222,\"#7201a8\"],[0.3333333333333333,\"#9c179e\"],[0.4444444444444444,\"#bd3786\"],[0.5555555555555556,\"#d8576b\"],[0.6666666666666666,\"#ed7953\"],[0.7777777777777778,\"#fb9f3a\"],[0.8888888888888888,\"#fdca26\"],[1.0,\"#f0f921\"]],\"sequentialminus\":[[0.0,\"#0d0887\"],[0.1111111111111111,\"#46039f\"],[0.2222222222222222,\"#7201a8\"],[0.3333333333333333,\"#9c179e\"],[0.4444444444444444,\"#bd3786\"],[0.5555555555555556,\"#d8576b\"],[0.6666666666666666,\"#ed7953\"],[0.7777777777777778,\"#fb9f3a\"],[0.8888888888888888,\"#fdca26\"],[1.0,\"#f0f921\"]],\"diverging\":[[0,\"#8e0152\"],[0.1,\"#c51b7d\"],[0.2,\"#de77ae\"],[0.3,\"#f1b6da\"],[0.4,\"#fde0ef\"],[0.5,\"#f7f7f7\"],[0.6,\"#e6f5d0\"],[0.7,\"#b8e186\"],[0.8,\"#7fbc41\"],[0.9,\"#4d9221\"],[1,\"#276419\"]]},\"xaxis\":{\"gridcolor\":\"#EBF0F8\",\"linecolor\":\"#EBF0F8\",\"ticks\":\"\",\"title\":{\"standoff\":15},\"zerolinecolor\":\"#EBF0F8\",\"automargin\":true,\"zerolinewidth\":2},\"yaxis\":{\"gridcolor\":\"#EBF0F8\",\"linecolor\":\"#EBF0F8\",\"ticks\":\"\",\"title\":{\"standoff\":15},\"zerolinecolor\":\"#EBF0F8\",\"automargin\":true,\"zerolinewidth\":2},\"scene\":{\"xaxis\":{\"backgroundcolor\":\"white\",\"gridcolor\":\"#DFE8F3\",\"linecolor\":\"#EBF0F8\",\"showbackground\":true,\"ticks\":\"\",\"zerolinecolor\":\"#EBF0F8\",\"gridwidth\":2},\"yaxis\":{\"backgroundcolor\":\"white\",\"gridcolor\":\"#DFE8F3\",\"linecolor\":\"#EBF0F8\",\"showbackground\":true,\"ticks\":\"\",\"zerolinecolor\":\"#EBF0F8\",\"gridwidth\":2},\"zaxis\":{\"backgroundcolor\":\"white\",\"gridcolor\":\"#DFE8F3\",\"linecolor\":\"#EBF0F8\",\"showbackground\":true,\"ticks\":\"\",\"zerolinecolor\":\"#EBF0F8\",\"gridwidth\":2}},\"shapedefaults\":{\"line\":{\"color\":\"#2a3f5f\"}},\"annotationdefaults\":{\"arrowcolor\":\"#2a3f5f\",\"arrowhead\":0,\"arrowwidth\":1},\"geo\":{\"bgcolor\":\"white\",\"landcolor\":\"white\",\"subunitcolor\":\"#C8D4E3\",\"showland\":true,\"showlakes\":true,\"lakecolor\":\"white\"},\"title\":{\"x\":0.05},\"mapbox\":{\"style\":\"light\"},\"legend\":{\"tracegroupgap\":0},\"width\":700,\"height\":400,\"autosize\":false}},\"xaxis\":{\"anchor\":\"y\",\"domain\":[0.0,1.0],\"title\":{\"text\":\"baz\"}},\"yaxis\":{\"anchor\":\"x\",\"domain\":[0.0,1.0],\"title\":{\"text\":\"bar\"}},\"legend\":{\"title\":{},\"tracegroupgap\":0},\"margin\":{\"t\":60}},                        {\"responsive\": true}                    ).then(function(){\n",
       "                            \n",
       "var gd = document.getElementById('207d1089-d5af-422d-8889-f615027d0634');\n",
       "var x = new MutationObserver(function (mutations, observer) {{\n",
       "        var display = window.getComputedStyle(gd).display;\n",
       "        if (!display || display === 'none') {{\n",
       "            console.log([gd, 'removed!']);\n",
       "            Plotly.purge(gd);\n",
       "            observer.disconnect();\n",
       "        }}\n",
       "}});\n",
       "\n",
       "// Listen for the removal of the full notebook cells\n",
       "var notebookContainer = gd.closest('#notebook-container');\n",
       "if (notebookContainer) {{\n",
       "    x.observe(notebookContainer, {childList: true});\n",
       "}}\n",
       "\n",
       "// Listen for the clearing of the current output cell\n",
       "var outputEl = gd.closest('.output');\n",
       "if (outputEl) {{\n",
       "    x.observe(outputEl, {childList: true});\n",
       "}}\n",
       "\n",
       "                        })                };                });            </script>        </div>"
      ]
     },
     "metadata": {},
     "output_type": "display_data"
    }
   ],
   "source": [
    "#|hide\n",
    "plotly_dataarray(U3.array)"
   ]
  },
  {
   "cell_type": "code",
   "execution_count": null,
   "metadata": {},
   "outputs": [
    {
     "data": {
      "application/vnd.plotly.v1+json": {
       "config": {
        "plotlyServerURL": "https://plot.ly"
       },
       "data": [
        {
         "hovertemplate": "foo=aaaaaaaaaaaaaaaaaa<br>Part=Re<br>baz=%{x}<br>bar=%{y}<extra></extra>",
         "legendgroup": "aaaaaaaaaaaaaaaaaa, Re",
         "line": {
          "color": "#2fa1da",
          "dash": "solid"
         },
         "marker": {
          "symbol": "circle"
         },
         "mode": "lines",
         "name": "aaaaaaaaaaaaaaaaaa, Re",
         "orientation": "v",
         "showlegend": true,
         "type": "scatter",
         "x": [
          0,
          1,
          2,
          3,
          4
         ],
         "xaxis": "x",
         "y": [
          0.08115400042389931,
          0.49431453353461774,
          0.5521627033044271,
          0.22517766610554546,
          0.9948242136208678
         ],
         "yaxis": "y"
        },
        {
         "hovertemplate": "foo=aaaaaaaaaaaaaaaaaa<br>Part=Im<br>baz=%{x}<br>bar=%{y}<extra></extra>",
         "legendgroup": "aaaaaaaaaaaaaaaaaa, Im",
         "line": {
          "color": "#2fa1da",
          "dash": "dot"
         },
         "marker": {
          "symbol": "circle"
         },
         "mode": "lines",
         "name": "aaaaaaaaaaaaaaaaaa, Im",
         "orientation": "v",
         "showlegend": true,
         "type": "scatter",
         "x": [
          0,
          1,
          2,
          3,
          4
         ],
         "xaxis": "x",
         "y": [
          0.31434794262990484,
          0.6062993981927156,
          0.5570017818814502,
          0.19518552981865567,
          0.4028796085076296
         ],
         "yaxis": "y"
        },
        {
         "hovertemplate": "foo=b<br>Part=Re<br>baz=%{x}<br>bar=%{y}<extra></extra>",
         "legendgroup": "b, Re",
         "line": {
          "color": "#fb4f2f",
          "dash": "solid"
         },
         "marker": {
          "symbol": "circle"
         },
         "mode": "lines",
         "name": "b, Re",
         "orientation": "v",
         "showlegend": true,
         "type": "scatter",
         "x": [
          0,
          1,
          2,
          3,
          4
         ],
         "xaxis": "x",
         "y": [
          0.015805555440133845,
          0.4073623878629723,
          0.836613041032693,
          0.7930049789596304,
          0.8729120163870842
         ],
         "yaxis": "y"
        },
        {
         "hovertemplate": "foo=b<br>Part=Im<br>baz=%{x}<br>bar=%{y}<extra></extra>",
         "legendgroup": "b, Im",
         "line": {
          "color": "#fb4f2f",
          "dash": "dot"
         },
         "marker": {
          "symbol": "circle"
         },
         "mode": "lines",
         "name": "b, Im",
         "orientation": "v",
         "showlegend": true,
         "type": "scatter",
         "x": [
          0,
          1,
          2,
          3,
          4
         ],
         "xaxis": "x",
         "y": [
          0.4016616340093764,
          0.9388053542070384,
          0.29629963045348506,
          0.05794534453812994,
          0.8341208920021081
         ],
         "yaxis": "y"
        },
        {
         "hovertemplate": "foo=c<br>Part=Re<br>baz=%{x}<br>bar=%{y}<extra></extra>",
         "legendgroup": "c, Re",
         "line": {
          "color": "#e4ae38",
          "dash": "solid"
         },
         "marker": {
          "symbol": "circle"
         },
         "mode": "lines",
         "name": "c, Re",
         "orientation": "v",
         "showlegend": true,
         "type": "scatter",
         "x": [
          0,
          1,
          2,
          3,
          4
         ],
         "xaxis": "x",
         "y": [
          0.4772006332829246,
          0.5681673512913645,
          0.10865710326226241,
          0.8478368672236546,
          0.889899007072331
         ],
         "yaxis": "y"
        },
        {
         "hovertemplate": "foo=c<br>Part=Im<br>baz=%{x}<br>bar=%{y}<extra></extra>",
         "legendgroup": "c, Im",
         "line": {
          "color": "#e4ae38",
          "dash": "dot"
         },
         "marker": {
          "symbol": "circle"
         },
         "mode": "lines",
         "name": "c, Im",
         "orientation": "v",
         "showlegend": true,
         "type": "scatter",
         "x": [
          0,
          1,
          2,
          3,
          4
         ],
         "xaxis": "x",
         "y": [
          0.26808510482055103,
          0.34464088651161773,
          0.1697999737727075,
          0.9492935230092574,
          0.6813294726896911
         ],
         "yaxis": "y"
        }
       ],
       "layout": {
        "height": 360,
        "legend": {
         "title": {},
         "tracegroupgap": 0
        },
        "margin": {
         "t": 60
        },
        "template": {
         "data": {
          "bar": [
           {
            "error_x": {
             "color": "#2a3f5f"
            },
            "error_y": {
             "color": "#2a3f5f"
            },
            "marker": {
             "line": {
              "color": "white",
              "width": 0.5
             },
             "pattern": {
              "fillmode": "overlay",
              "size": 10,
              "solidity": 0.2
             }
            },
            "type": "bar"
           }
          ],
          "barpolar": [
           {
            "marker": {
             "line": {
              "color": "white",
              "width": 0.5
             },
             "pattern": {
              "fillmode": "overlay",
              "size": 10,
              "solidity": 0.2
             }
            },
            "type": "barpolar"
           }
          ],
          "carpet": [
           {
            "aaxis": {
             "endlinecolor": "#2a3f5f",
             "gridcolor": "#C8D4E3",
             "linecolor": "#C8D4E3",
             "minorgridcolor": "#C8D4E3",
             "startlinecolor": "#2a3f5f"
            },
            "baxis": {
             "endlinecolor": "#2a3f5f",
             "gridcolor": "#C8D4E3",
             "linecolor": "#C8D4E3",
             "minorgridcolor": "#C8D4E3",
             "startlinecolor": "#2a3f5f"
            },
            "type": "carpet"
           }
          ],
          "choropleth": [
           {
            "colorbar": {
             "outlinewidth": 0,
             "ticks": ""
            },
            "type": "choropleth"
           }
          ],
          "contour": [
           {
            "colorbar": {
             "outlinewidth": 0,
             "ticks": ""
            },
            "colorscale": [
             [
              0,
              "#0d0887"
             ],
             [
              0.1111111111111111,
              "#46039f"
             ],
             [
              0.2222222222222222,
              "#7201a8"
             ],
             [
              0.3333333333333333,
              "#9c179e"
             ],
             [
              0.4444444444444444,
              "#bd3786"
             ],
             [
              0.5555555555555556,
              "#d8576b"
             ],
             [
              0.6666666666666666,
              "#ed7953"
             ],
             [
              0.7777777777777778,
              "#fb9f3a"
             ],
             [
              0.8888888888888888,
              "#fdca26"
             ],
             [
              1,
              "#f0f921"
             ]
            ],
            "type": "contour"
           }
          ],
          "contourcarpet": [
           {
            "colorbar": {
             "outlinewidth": 0,
             "ticks": ""
            },
            "type": "contourcarpet"
           }
          ],
          "heatmap": [
           {
            "colorbar": {
             "outlinewidth": 0,
             "ticks": ""
            },
            "colorscale": [
             [
              0,
              "#0d0887"
             ],
             [
              0.1111111111111111,
              "#46039f"
             ],
             [
              0.2222222222222222,
              "#7201a8"
             ],
             [
              0.3333333333333333,
              "#9c179e"
             ],
             [
              0.4444444444444444,
              "#bd3786"
             ],
             [
              0.5555555555555556,
              "#d8576b"
             ],
             [
              0.6666666666666666,
              "#ed7953"
             ],
             [
              0.7777777777777778,
              "#fb9f3a"
             ],
             [
              0.8888888888888888,
              "#fdca26"
             ],
             [
              1,
              "#f0f921"
             ]
            ],
            "type": "heatmap"
           }
          ],
          "heatmapgl": [
           {
            "colorbar": {
             "outlinewidth": 0,
             "ticks": ""
            },
            "colorscale": [
             [
              0,
              "#0d0887"
             ],
             [
              0.1111111111111111,
              "#46039f"
             ],
             [
              0.2222222222222222,
              "#7201a8"
             ],
             [
              0.3333333333333333,
              "#9c179e"
             ],
             [
              0.4444444444444444,
              "#bd3786"
             ],
             [
              0.5555555555555556,
              "#d8576b"
             ],
             [
              0.6666666666666666,
              "#ed7953"
             ],
             [
              0.7777777777777778,
              "#fb9f3a"
             ],
             [
              0.8888888888888888,
              "#fdca26"
             ],
             [
              1,
              "#f0f921"
             ]
            ],
            "type": "heatmapgl"
           }
          ],
          "histogram": [
           {
            "marker": {
             "pattern": {
              "fillmode": "overlay",
              "size": 10,
              "solidity": 0.2
             }
            },
            "type": "histogram"
           }
          ],
          "histogram2d": [
           {
            "colorbar": {
             "outlinewidth": 0,
             "ticks": ""
            },
            "colorscale": [
             [
              0,
              "#0d0887"
             ],
             [
              0.1111111111111111,
              "#46039f"
             ],
             [
              0.2222222222222222,
              "#7201a8"
             ],
             [
              0.3333333333333333,
              "#9c179e"
             ],
             [
              0.4444444444444444,
              "#bd3786"
             ],
             [
              0.5555555555555556,
              "#d8576b"
             ],
             [
              0.6666666666666666,
              "#ed7953"
             ],
             [
              0.7777777777777778,
              "#fb9f3a"
             ],
             [
              0.8888888888888888,
              "#fdca26"
             ],
             [
              1,
              "#f0f921"
             ]
            ],
            "type": "histogram2d"
           }
          ],
          "histogram2dcontour": [
           {
            "colorbar": {
             "outlinewidth": 0,
             "ticks": ""
            },
            "colorscale": [
             [
              0,
              "#0d0887"
             ],
             [
              0.1111111111111111,
              "#46039f"
             ],
             [
              0.2222222222222222,
              "#7201a8"
             ],
             [
              0.3333333333333333,
              "#9c179e"
             ],
             [
              0.4444444444444444,
              "#bd3786"
             ],
             [
              0.5555555555555556,
              "#d8576b"
             ],
             [
              0.6666666666666666,
              "#ed7953"
             ],
             [
              0.7777777777777778,
              "#fb9f3a"
             ],
             [
              0.8888888888888888,
              "#fdca26"
             ],
             [
              1,
              "#f0f921"
             ]
            ],
            "type": "histogram2dcontour"
           }
          ],
          "mesh3d": [
           {
            "colorbar": {
             "outlinewidth": 0,
             "ticks": ""
            },
            "type": "mesh3d"
           }
          ],
          "parcoords": [
           {
            "line": {
             "colorbar": {
              "outlinewidth": 0,
              "ticks": ""
             }
            },
            "type": "parcoords"
           }
          ],
          "pie": [
           {
            "automargin": true,
            "type": "pie"
           }
          ],
          "scatter": [
           {
            "fillpattern": {
             "fillmode": "overlay",
             "size": 10,
             "solidity": 0.2
            },
            "type": "scatter"
           }
          ],
          "scatter3d": [
           {
            "line": {
             "colorbar": {
              "outlinewidth": 0,
              "ticks": ""
             }
            },
            "marker": {
             "colorbar": {
              "outlinewidth": 0,
              "ticks": ""
             }
            },
            "type": "scatter3d"
           }
          ],
          "scattercarpet": [
           {
            "marker": {
             "colorbar": {
              "outlinewidth": 0,
              "ticks": ""
             }
            },
            "type": "scattercarpet"
           }
          ],
          "scattergeo": [
           {
            "marker": {
             "colorbar": {
              "outlinewidth": 0,
              "ticks": ""
             }
            },
            "type": "scattergeo"
           }
          ],
          "scattergl": [
           {
            "marker": {
             "colorbar": {
              "outlinewidth": 0,
              "ticks": ""
             }
            },
            "type": "scattergl"
           }
          ],
          "scattermapbox": [
           {
            "marker": {
             "colorbar": {
              "outlinewidth": 0,
              "ticks": ""
             }
            },
            "type": "scattermapbox"
           }
          ],
          "scatterpolar": [
           {
            "marker": {
             "colorbar": {
              "outlinewidth": 0,
              "ticks": ""
             }
            },
            "type": "scatterpolar"
           }
          ],
          "scatterpolargl": [
           {
            "marker": {
             "colorbar": {
              "outlinewidth": 0,
              "ticks": ""
             }
            },
            "type": "scatterpolargl"
           }
          ],
          "scatterternary": [
           {
            "marker": {
             "colorbar": {
              "outlinewidth": 0,
              "ticks": ""
             }
            },
            "type": "scatterternary"
           }
          ],
          "surface": [
           {
            "colorbar": {
             "outlinewidth": 0,
             "ticks": ""
            },
            "colorscale": [
             [
              0,
              "#0d0887"
             ],
             [
              0.1111111111111111,
              "#46039f"
             ],
             [
              0.2222222222222222,
              "#7201a8"
             ],
             [
              0.3333333333333333,
              "#9c179e"
             ],
             [
              0.4444444444444444,
              "#bd3786"
             ],
             [
              0.5555555555555556,
              "#d8576b"
             ],
             [
              0.6666666666666666,
              "#ed7953"
             ],
             [
              0.7777777777777778,
              "#fb9f3a"
             ],
             [
              0.8888888888888888,
              "#fdca26"
             ],
             [
              1,
              "#f0f921"
             ]
            ],
            "type": "surface"
           }
          ],
          "table": [
           {
            "cells": {
             "fill": {
              "color": "#EBF0F8"
             },
             "line": {
              "color": "white"
             }
            },
            "header": {
             "fill": {
              "color": "#C8D4E3"
             },
             "line": {
              "color": "white"
             }
            },
            "type": "table"
           }
          ]
         },
         "layout": {
          "annotationdefaults": {
           "arrowcolor": "#2a3f5f",
           "arrowhead": 0,
           "arrowwidth": 1
          },
          "autosize": false,
          "autotypenumbers": "strict",
          "coloraxis": {
           "colorbar": {
            "outlinewidth": 0,
            "ticks": ""
           }
          },
          "colorscale": {
           "diverging": [
            [
             0,
             "#8e0152"
            ],
            [
             0.1,
             "#c51b7d"
            ],
            [
             0.2,
             "#de77ae"
            ],
            [
             0.3,
             "#f1b6da"
            ],
            [
             0.4,
             "#fde0ef"
            ],
            [
             0.5,
             "#f7f7f7"
            ],
            [
             0.6,
             "#e6f5d0"
            ],
            [
             0.7,
             "#b8e186"
            ],
            [
             0.8,
             "#7fbc41"
            ],
            [
             0.9,
             "#4d9221"
            ],
            [
             1,
             "#276419"
            ]
           ],
           "sequential": [
            [
             0,
             "#0d0887"
            ],
            [
             0.1111111111111111,
             "#46039f"
            ],
            [
             0.2222222222222222,
             "#7201a8"
            ],
            [
             0.3333333333333333,
             "#9c179e"
            ],
            [
             0.4444444444444444,
             "#bd3786"
            ],
            [
             0.5555555555555556,
             "#d8576b"
            ],
            [
             0.6666666666666666,
             "#ed7953"
            ],
            [
             0.7777777777777778,
             "#fb9f3a"
            ],
            [
             0.8888888888888888,
             "#fdca26"
            ],
            [
             1,
             "#f0f921"
            ]
           ],
           "sequentialminus": [
            [
             0,
             "#0d0887"
            ],
            [
             0.1111111111111111,
             "#46039f"
            ],
            [
             0.2222222222222222,
             "#7201a8"
            ],
            [
             0.3333333333333333,
             "#9c179e"
            ],
            [
             0.4444444444444444,
             "#bd3786"
            ],
            [
             0.5555555555555556,
             "#d8576b"
            ],
            [
             0.6666666666666666,
             "#ed7953"
            ],
            [
             0.7777777777777778,
             "#fb9f3a"
            ],
            [
             0.8888888888888888,
             "#fdca26"
            ],
            [
             1,
             "#f0f921"
            ]
           ]
          },
          "colorway": [
           "#2fa1da",
           "#fb4f2f",
           "#e4ae38",
           "#6d904f",
           "#8a8a8a",
           "#16bdcf",
           "#9367bc",
           "#d62628",
           "#1f77b3",
           "#e277c1",
           "#8c564b",
           "#bcbc21",
           "#3a0182",
           "#004200",
           "#0fffa8",
           "#5d003f",
           "#c6bcff",
           "#424f52",
           "#b80080",
           "#ffb6b3",
           "#7c0100",
           "#6026ff",
           "#ffff9a",
           "#aec8aa",
           "#00857c",
           "#543a00",
           "#93fbff",
           "#00bf00",
           "#7c00a0",
           "#aa7200",
           "#90ff00",
           "#01bd89",
           "#00447b",
           "#c8826e",
           "#ff1f82",
           "#dd00ff",
           "#057400",
           "#644460",
           "#878eff",
           "#ffb5f4",
           "#526236",
           "#cd85ff",
           "#676983",
           "#bdb3bd",
           "#a56089",
           "#95d3ff",
           "#0100f7",
           "#ff8001",
           "#8a2844",
           "#aca06d",
           "#52448a",
           "#c8ffd8",
           "#aa4600",
           "#ff798e",
           "#82d370",
           "#909ebf",
           "#9300f4",
           "#ebcf9a",
           "#ac8ab1",
           "#006249",
           "#ffdb00",
           "#877750",
           "#7eaaa3",
           "#000097",
           "#f400c6",
           "#643328",
           "#006677",
           "#03e2c8",
           "#a736ae",
           "#c4dbe1",
           "#4d6eff",
           "#9a9301",
           "#cd576b",
           "#efddfd",
           "#795900",
           "#5e879a",
           "#b3ff91",
           "#5d726b",
           "#520066",
           "#058750",
           "#831f6e",
           "#3b9505",
           "#647200",
           "#f0a06b",
           "#5e4f44",
           "#bc0049",
           "#cf6726",
           "#d695aa",
           "#895dff",
           "#826b75",
           "#2a54b8",
           "#6e7cba",
           "#e6d4d3",
           "#5d0018",
           "#7c3b01",
           "#80b17c",
           "#c8d87c",
           "#00e83b",
           "#7cb1ff",
           "#ff54ff",
           "#a32621",
           "#1ce4ff",
           "#7caf3b",
           "#7b4b90",
           "#dfff48",
           "#6b00c3",
           "#cda897",
           "#bd62c3",
           "#89cdcd",
           "#4603c8",
           "#5d9179",
           "#414901",
           "#05a79c",
           "#cf8c36",
           "#fff7cf",
           "#425470",
           "#b544ff",
           "#cf4993",
           "#cfa3df",
           "#93d400",
           "#a793da",
           "#2da557",
           "#8ce2b5",
           "#a3a89c",
           "#6b5bb6",
           "#ff7e5d",
           "#a78289",
           "#afbdd8",
           "#2ac3ff",
           "#a5673d",
           "#f690fd",
           "#874b64",
           "#ff0c4b",
           "#215d23",
           "#4291ff",
           "#87829c",
           "#672d44",
           "#b14f41",
           "#004d52",
           "#5e1a00",
           "#ac4167",
           "#4f3167",
           "#d6fffd",
           "#7eb5d1",
           "#a8b869",
           "#ff95ca",
           "#c87495",
           "#364f38",
           "#ffcf62",
           "#5d5762",
           "#879375",
           "#a877ff",
           "#03c862",
           "#e6bdd4",
           "#d4e2cf",
           "#876790",
           "#897c26",
           "#cddbff",
           "#aa676b",
           "#313474",
           "#ff5da8",
           "#009aaf",
           "#70ffdd",
           "#775b38",
           "#4f649a",
           "#cc00b3",
           "#567b54",
           "#506e7b",
           "#015e91",
           "#aabcbd",
           "#017e99",
           "#03dd97",
           "#873a2b",
           "#ef958e",
           "#75c6aa",
           "#70695d",
           "#ccdb08",
           "#af8556",
           "#d80075",
           "#9c3f80",
           "#d84400",
           "#dd6754",
           "#5eff79",
           "#d4b172",
           "#62265d",
           "#baa13d",
           "#d8f2b3",
           "#56018e",
           "#a19aaa",
           "#4d4926",
           "#a3a8ff",
           "#ace8db",
           "#995901",
           "#ac00e2",
           "#46822f",
           "#cac3ac",
           "#00c4b5",
           "#605277",
           "#336d67",
           "#a59180",
           "#8399a1",
           "#fd5664",
           "#7095d1",
           "#728c07",
           "#7e004b",
           "#152fa0",
           "#d1c1e2",
           "#c885cf",
           "#6b444b",
           "#7e0023",
           "#00a179",
           "#b1a8cf",
           "#f90000",
           "#afe8ff",
           "#939e4f",
           "#727982",
           "#d82d54",
           "#466001",
           "#0059ff",
           "#773fb5",
           "#ace460",
           "#674424",
           "#525d50",
           "#957267",
           "#a8e49a",
           "#a30057",
           "#d862f6",
           "#8e7ccf",
           "#ffbc93",
           "#a30091",
           "#9affb8",
           "#a7c1ff",
           "#f46200",
           "#e4efff",
           "#b89ca3",
           "#609593",
           "#ff9e34",
           "#8c2800",
           "#726b31",
           "#df824d",
           "#af7bd4",
           "#bc2d00",
           "#7b6ea3",
           "#484262",
           "#c6a3ff",
           "#004d28",
           "#c3c68e",
           "#df48d6",
           "#e6e864",
           "#e4c10a",
           "#00f4f0",
           "#9e5ba1",
           "#4b41b6",
           "#64338e",
           "#757e6b",
           "#a88936"
          ],
          "font": {
           "color": "#2a3f5f"
          },
          "geo": {
           "bgcolor": "white",
           "lakecolor": "white",
           "landcolor": "white",
           "showlakes": true,
           "showland": true,
           "subunitcolor": "#C8D4E3"
          },
          "height": 400,
          "hoverlabel": {
           "align": "left"
          },
          "hovermode": "closest",
          "legend": {
           "tracegroupgap": 0
          },
          "mapbox": {
           "style": "light"
          },
          "paper_bgcolor": "white",
          "plot_bgcolor": "white",
          "polar": {
           "angularaxis": {
            "gridcolor": "#EBF0F8",
            "linecolor": "#EBF0F8",
            "ticks": ""
           },
           "bgcolor": "white",
           "radialaxis": {
            "gridcolor": "#EBF0F8",
            "linecolor": "#EBF0F8",
            "ticks": ""
           }
          },
          "scene": {
           "xaxis": {
            "backgroundcolor": "white",
            "gridcolor": "#DFE8F3",
            "gridwidth": 2,
            "linecolor": "#EBF0F8",
            "showbackground": true,
            "ticks": "",
            "zerolinecolor": "#EBF0F8"
           },
           "yaxis": {
            "backgroundcolor": "white",
            "gridcolor": "#DFE8F3",
            "gridwidth": 2,
            "linecolor": "#EBF0F8",
            "showbackground": true,
            "ticks": "",
            "zerolinecolor": "#EBF0F8"
           },
           "zaxis": {
            "backgroundcolor": "white",
            "gridcolor": "#DFE8F3",
            "gridwidth": 2,
            "linecolor": "#EBF0F8",
            "showbackground": true,
            "ticks": "",
            "zerolinecolor": "#EBF0F8"
           }
          },
          "shapedefaults": {
           "line": {
            "color": "#2a3f5f"
           }
          },
          "ternary": {
           "aaxis": {
            "gridcolor": "#DFE8F3",
            "linecolor": "#A2B1C6",
            "ticks": ""
           },
           "baxis": {
            "gridcolor": "#DFE8F3",
            "linecolor": "#A2B1C6",
            "ticks": ""
           },
           "bgcolor": "white",
           "caxis": {
            "gridcolor": "#DFE8F3",
            "linecolor": "#A2B1C6",
            "ticks": ""
           }
          },
          "title": {
           "x": 0.05
          },
          "width": 700,
          "xaxis": {
           "automargin": true,
           "gridcolor": "#EBF0F8",
           "linecolor": "#EBF0F8",
           "ticks": "",
           "title": {
            "standoff": 15
           },
           "zerolinecolor": "#EBF0F8",
           "zerolinewidth": 2
          },
          "yaxis": {
           "automargin": true,
           "gridcolor": "#EBF0F8",
           "linecolor": "#EBF0F8",
           "ticks": "",
           "title": {
            "standoff": 15
           },
           "zerolinecolor": "#EBF0F8",
           "zerolinewidth": 2
          }
         }
        },
        "width": 700,
        "xaxis": {
         "anchor": "y",
         "autorange": true,
         "domain": [
          0,
          1
         ],
         "range": [
          0,
          4
         ],
         "title": {
          "text": "baz"
         },
         "type": "linear"
        },
        "yaxis": {
         "anchor": "x",
         "autorange": true,
         "domain": [
          0,
          1
         ],
         "range": [
          -0.038584370014351374,
          1.049214139075353
         ],
         "title": {
          "text": "bar"
         },
         "type": "linear"
        }
       }
      },
      "text/html": [
       "<div>                            <div id=\"b6dbac57-7aec-4971-b6ca-992138739508\" class=\"plotly-graph-div\" style=\"height:400px; width:700px;\"></div>            <script type=\"text/javascript\">                require([\"plotly\"], function(Plotly) {                    window.PLOTLYENV=window.PLOTLYENV || {};                                    if (document.getElementById(\"b6dbac57-7aec-4971-b6ca-992138739508\")) {                    Plotly.newPlot(                        \"b6dbac57-7aec-4971-b6ca-992138739508\",                        [{\"hovertemplate\":\"foo=aaaaaaaaaaaaaaaaaa\\u003cbr\\u003ePart=Re\\u003cbr\\u003ebaz=%{x}\\u003cbr\\u003ebar=%{y}\\u003cextra\\u003e\\u003c\\u002fextra\\u003e\",\"legendgroup\":\"aaaaaaaaaaaaaaaaaa, Re\",\"line\":{\"color\":\"#2fa1da\",\"dash\":\"solid\"},\"marker\":{\"symbol\":\"circle\"},\"mode\":\"lines\",\"name\":\"aaaaaaaaaaaaaaaaaa, Re\",\"orientation\":\"v\",\"showlegend\":true,\"x\":[0,1,2,3,4],\"xaxis\":\"x\",\"y\":[0.08115400042389931,0.49431453353461774,0.5521627033044271,0.22517766610554546,0.9948242136208678],\"yaxis\":\"y\",\"type\":\"scatter\"},{\"hovertemplate\":\"foo=aaaaaaaaaaaaaaaaaa\\u003cbr\\u003ePart=Im\\u003cbr\\u003ebaz=%{x}\\u003cbr\\u003ebar=%{y}\\u003cextra\\u003e\\u003c\\u002fextra\\u003e\",\"legendgroup\":\"aaaaaaaaaaaaaaaaaa, Im\",\"line\":{\"color\":\"#2fa1da\",\"dash\":\"dot\"},\"marker\":{\"symbol\":\"circle\"},\"mode\":\"lines\",\"name\":\"aaaaaaaaaaaaaaaaaa, Im\",\"orientation\":\"v\",\"showlegend\":true,\"x\":[0,1,2,3,4],\"xaxis\":\"x\",\"y\":[0.31434794262990484,0.6062993981927156,0.5570017818814502,0.19518552981865567,0.4028796085076296],\"yaxis\":\"y\",\"type\":\"scatter\"},{\"hovertemplate\":\"foo=b\\u003cbr\\u003ePart=Re\\u003cbr\\u003ebaz=%{x}\\u003cbr\\u003ebar=%{y}\\u003cextra\\u003e\\u003c\\u002fextra\\u003e\",\"legendgroup\":\"b, Re\",\"line\":{\"color\":\"#fb4f2f\",\"dash\":\"solid\"},\"marker\":{\"symbol\":\"circle\"},\"mode\":\"lines\",\"name\":\"b, Re\",\"orientation\":\"v\",\"showlegend\":true,\"x\":[0,1,2,3,4],\"xaxis\":\"x\",\"y\":[0.015805555440133845,0.4073623878629723,0.836613041032693,0.7930049789596304,0.8729120163870842],\"yaxis\":\"y\",\"type\":\"scatter\"},{\"hovertemplate\":\"foo=b\\u003cbr\\u003ePart=Im\\u003cbr\\u003ebaz=%{x}\\u003cbr\\u003ebar=%{y}\\u003cextra\\u003e\\u003c\\u002fextra\\u003e\",\"legendgroup\":\"b, Im\",\"line\":{\"color\":\"#fb4f2f\",\"dash\":\"dot\"},\"marker\":{\"symbol\":\"circle\"},\"mode\":\"lines\",\"name\":\"b, Im\",\"orientation\":\"v\",\"showlegend\":true,\"x\":[0,1,2,3,4],\"xaxis\":\"x\",\"y\":[0.4016616340093764,0.9388053542070384,0.29629963045348506,0.05794534453812994,0.8341208920021081],\"yaxis\":\"y\",\"type\":\"scatter\"},{\"hovertemplate\":\"foo=c\\u003cbr\\u003ePart=Re\\u003cbr\\u003ebaz=%{x}\\u003cbr\\u003ebar=%{y}\\u003cextra\\u003e\\u003c\\u002fextra\\u003e\",\"legendgroup\":\"c, Re\",\"line\":{\"color\":\"#e4ae38\",\"dash\":\"solid\"},\"marker\":{\"symbol\":\"circle\"},\"mode\":\"lines\",\"name\":\"c, Re\",\"orientation\":\"v\",\"showlegend\":true,\"x\":[0,1,2,3,4],\"xaxis\":\"x\",\"y\":[0.4772006332829246,0.5681673512913645,0.10865710326226241,0.8478368672236546,0.889899007072331],\"yaxis\":\"y\",\"type\":\"scatter\"},{\"hovertemplate\":\"foo=c\\u003cbr\\u003ePart=Im\\u003cbr\\u003ebaz=%{x}\\u003cbr\\u003ebar=%{y}\\u003cextra\\u003e\\u003c\\u002fextra\\u003e\",\"legendgroup\":\"c, Im\",\"line\":{\"color\":\"#e4ae38\",\"dash\":\"dot\"},\"marker\":{\"symbol\":\"circle\"},\"mode\":\"lines\",\"name\":\"c, Im\",\"orientation\":\"v\",\"showlegend\":true,\"x\":[0,1,2,3,4],\"xaxis\":\"x\",\"y\":[0.26808510482055103,0.34464088651161773,0.1697999737727075,0.9492935230092574,0.6813294726896911],\"yaxis\":\"y\",\"type\":\"scatter\"}],                        {\"template\":{\"data\":{\"histogram2dcontour\":[{\"type\":\"histogram2dcontour\",\"colorbar\":{\"outlinewidth\":0,\"ticks\":\"\"},\"colorscale\":[[0.0,\"#0d0887\"],[0.1111111111111111,\"#46039f\"],[0.2222222222222222,\"#7201a8\"],[0.3333333333333333,\"#9c179e\"],[0.4444444444444444,\"#bd3786\"],[0.5555555555555556,\"#d8576b\"],[0.6666666666666666,\"#ed7953\"],[0.7777777777777778,\"#fb9f3a\"],[0.8888888888888888,\"#fdca26\"],[1.0,\"#f0f921\"]]}],\"choropleth\":[{\"type\":\"choropleth\",\"colorbar\":{\"outlinewidth\":0,\"ticks\":\"\"}}],\"histogram2d\":[{\"type\":\"histogram2d\",\"colorbar\":{\"outlinewidth\":0,\"ticks\":\"\"},\"colorscale\":[[0.0,\"#0d0887\"],[0.1111111111111111,\"#46039f\"],[0.2222222222222222,\"#7201a8\"],[0.3333333333333333,\"#9c179e\"],[0.4444444444444444,\"#bd3786\"],[0.5555555555555556,\"#d8576b\"],[0.6666666666666666,\"#ed7953\"],[0.7777777777777778,\"#fb9f3a\"],[0.8888888888888888,\"#fdca26\"],[1.0,\"#f0f921\"]]}],\"heatmap\":[{\"type\":\"heatmap\",\"colorbar\":{\"outlinewidth\":0,\"ticks\":\"\"},\"colorscale\":[[0.0,\"#0d0887\"],[0.1111111111111111,\"#46039f\"],[0.2222222222222222,\"#7201a8\"],[0.3333333333333333,\"#9c179e\"],[0.4444444444444444,\"#bd3786\"],[0.5555555555555556,\"#d8576b\"],[0.6666666666666666,\"#ed7953\"],[0.7777777777777778,\"#fb9f3a\"],[0.8888888888888888,\"#fdca26\"],[1.0,\"#f0f921\"]]}],\"heatmapgl\":[{\"type\":\"heatmapgl\",\"colorbar\":{\"outlinewidth\":0,\"ticks\":\"\"},\"colorscale\":[[0.0,\"#0d0887\"],[0.1111111111111111,\"#46039f\"],[0.2222222222222222,\"#7201a8\"],[0.3333333333333333,\"#9c179e\"],[0.4444444444444444,\"#bd3786\"],[0.5555555555555556,\"#d8576b\"],[0.6666666666666666,\"#ed7953\"],[0.7777777777777778,\"#fb9f3a\"],[0.8888888888888888,\"#fdca26\"],[1.0,\"#f0f921\"]]}],\"contourcarpet\":[{\"type\":\"contourcarpet\",\"colorbar\":{\"outlinewidth\":0,\"ticks\":\"\"}}],\"contour\":[{\"type\":\"contour\",\"colorbar\":{\"outlinewidth\":0,\"ticks\":\"\"},\"colorscale\":[[0.0,\"#0d0887\"],[0.1111111111111111,\"#46039f\"],[0.2222222222222222,\"#7201a8\"],[0.3333333333333333,\"#9c179e\"],[0.4444444444444444,\"#bd3786\"],[0.5555555555555556,\"#d8576b\"],[0.6666666666666666,\"#ed7953\"],[0.7777777777777778,\"#fb9f3a\"],[0.8888888888888888,\"#fdca26\"],[1.0,\"#f0f921\"]]}],\"surface\":[{\"type\":\"surface\",\"colorbar\":{\"outlinewidth\":0,\"ticks\":\"\"},\"colorscale\":[[0.0,\"#0d0887\"],[0.1111111111111111,\"#46039f\"],[0.2222222222222222,\"#7201a8\"],[0.3333333333333333,\"#9c179e\"],[0.4444444444444444,\"#bd3786\"],[0.5555555555555556,\"#d8576b\"],[0.6666666666666666,\"#ed7953\"],[0.7777777777777778,\"#fb9f3a\"],[0.8888888888888888,\"#fdca26\"],[1.0,\"#f0f921\"]]}],\"mesh3d\":[{\"type\":\"mesh3d\",\"colorbar\":{\"outlinewidth\":0,\"ticks\":\"\"}}],\"scatter\":[{\"fillpattern\":{\"fillmode\":\"overlay\",\"size\":10,\"solidity\":0.2},\"type\":\"scatter\"}],\"parcoords\":[{\"type\":\"parcoords\",\"line\":{\"colorbar\":{\"outlinewidth\":0,\"ticks\":\"\"}}}],\"scatterpolargl\":[{\"type\":\"scatterpolargl\",\"marker\":{\"colorbar\":{\"outlinewidth\":0,\"ticks\":\"\"}}}],\"bar\":[{\"error_x\":{\"color\":\"#2a3f5f\"},\"error_y\":{\"color\":\"#2a3f5f\"},\"marker\":{\"line\":{\"color\":\"white\",\"width\":0.5},\"pattern\":{\"fillmode\":\"overlay\",\"size\":10,\"solidity\":0.2}},\"type\":\"bar\"}],\"scattergeo\":[{\"type\":\"scattergeo\",\"marker\":{\"colorbar\":{\"outlinewidth\":0,\"ticks\":\"\"}}}],\"scatterpolar\":[{\"type\":\"scatterpolar\",\"marker\":{\"colorbar\":{\"outlinewidth\":0,\"ticks\":\"\"}}}],\"histogram\":[{\"marker\":{\"pattern\":{\"fillmode\":\"overlay\",\"size\":10,\"solidity\":0.2}},\"type\":\"histogram\"}],\"scattergl\":[{\"type\":\"scattergl\",\"marker\":{\"colorbar\":{\"outlinewidth\":0,\"ticks\":\"\"}}}],\"scatter3d\":[{\"type\":\"scatter3d\",\"line\":{\"colorbar\":{\"outlinewidth\":0,\"ticks\":\"\"}},\"marker\":{\"colorbar\":{\"outlinewidth\":0,\"ticks\":\"\"}}}],\"scattermapbox\":[{\"type\":\"scattermapbox\",\"marker\":{\"colorbar\":{\"outlinewidth\":0,\"ticks\":\"\"}}}],\"scatterternary\":[{\"type\":\"scatterternary\",\"marker\":{\"colorbar\":{\"outlinewidth\":0,\"ticks\":\"\"}}}],\"scattercarpet\":[{\"type\":\"scattercarpet\",\"marker\":{\"colorbar\":{\"outlinewidth\":0,\"ticks\":\"\"}}}],\"carpet\":[{\"aaxis\":{\"endlinecolor\":\"#2a3f5f\",\"gridcolor\":\"#C8D4E3\",\"linecolor\":\"#C8D4E3\",\"minorgridcolor\":\"#C8D4E3\",\"startlinecolor\":\"#2a3f5f\"},\"baxis\":{\"endlinecolor\":\"#2a3f5f\",\"gridcolor\":\"#C8D4E3\",\"linecolor\":\"#C8D4E3\",\"minorgridcolor\":\"#C8D4E3\",\"startlinecolor\":\"#2a3f5f\"},\"type\":\"carpet\"}],\"table\":[{\"cells\":{\"fill\":{\"color\":\"#EBF0F8\"},\"line\":{\"color\":\"white\"}},\"header\":{\"fill\":{\"color\":\"#C8D4E3\"},\"line\":{\"color\":\"white\"}},\"type\":\"table\"}],\"barpolar\":[{\"marker\":{\"line\":{\"color\":\"white\",\"width\":0.5},\"pattern\":{\"fillmode\":\"overlay\",\"size\":10,\"solidity\":0.2}},\"type\":\"barpolar\"}],\"pie\":[{\"automargin\":true,\"type\":\"pie\"}]},\"layout\":{\"autotypenumbers\":\"strict\",\"colorway\":[\"#2fa1da\",\"#fb4f2f\",\"#e4ae38\",\"#6d904f\",\"#8a8a8a\",\"#16bdcf\",\"#9367bc\",\"#d62628\",\"#1f77b3\",\"#e277c1\",\"#8c564b\",\"#bcbc21\",\"#3a0182\",\"#004200\",\"#0fffa8\",\"#5d003f\",\"#c6bcff\",\"#424f52\",\"#b80080\",\"#ffb6b3\",\"#7c0100\",\"#6026ff\",\"#ffff9a\",\"#aec8aa\",\"#00857c\",\"#543a00\",\"#93fbff\",\"#00bf00\",\"#7c00a0\",\"#aa7200\",\"#90ff00\",\"#01bd89\",\"#00447b\",\"#c8826e\",\"#ff1f82\",\"#dd00ff\",\"#057400\",\"#644460\",\"#878eff\",\"#ffb5f4\",\"#526236\",\"#cd85ff\",\"#676983\",\"#bdb3bd\",\"#a56089\",\"#95d3ff\",\"#0100f7\",\"#ff8001\",\"#8a2844\",\"#aca06d\",\"#52448a\",\"#c8ffd8\",\"#aa4600\",\"#ff798e\",\"#82d370\",\"#909ebf\",\"#9300f4\",\"#ebcf9a\",\"#ac8ab1\",\"#006249\",\"#ffdb00\",\"#877750\",\"#7eaaa3\",\"#000097\",\"#f400c6\",\"#643328\",\"#006677\",\"#03e2c8\",\"#a736ae\",\"#c4dbe1\",\"#4d6eff\",\"#9a9301\",\"#cd576b\",\"#efddfd\",\"#795900\",\"#5e879a\",\"#b3ff91\",\"#5d726b\",\"#520066\",\"#058750\",\"#831f6e\",\"#3b9505\",\"#647200\",\"#f0a06b\",\"#5e4f44\",\"#bc0049\",\"#cf6726\",\"#d695aa\",\"#895dff\",\"#826b75\",\"#2a54b8\",\"#6e7cba\",\"#e6d4d3\",\"#5d0018\",\"#7c3b01\",\"#80b17c\",\"#c8d87c\",\"#00e83b\",\"#7cb1ff\",\"#ff54ff\",\"#a32621\",\"#1ce4ff\",\"#7caf3b\",\"#7b4b90\",\"#dfff48\",\"#6b00c3\",\"#cda897\",\"#bd62c3\",\"#89cdcd\",\"#4603c8\",\"#5d9179\",\"#414901\",\"#05a79c\",\"#cf8c36\",\"#fff7cf\",\"#425470\",\"#b544ff\",\"#cf4993\",\"#cfa3df\",\"#93d400\",\"#a793da\",\"#2da557\",\"#8ce2b5\",\"#a3a89c\",\"#6b5bb6\",\"#ff7e5d\",\"#a78289\",\"#afbdd8\",\"#2ac3ff\",\"#a5673d\",\"#f690fd\",\"#874b64\",\"#ff0c4b\",\"#215d23\",\"#4291ff\",\"#87829c\",\"#672d44\",\"#b14f41\",\"#004d52\",\"#5e1a00\",\"#ac4167\",\"#4f3167\",\"#d6fffd\",\"#7eb5d1\",\"#a8b869\",\"#ff95ca\",\"#c87495\",\"#364f38\",\"#ffcf62\",\"#5d5762\",\"#879375\",\"#a877ff\",\"#03c862\",\"#e6bdd4\",\"#d4e2cf\",\"#876790\",\"#897c26\",\"#cddbff\",\"#aa676b\",\"#313474\",\"#ff5da8\",\"#009aaf\",\"#70ffdd\",\"#775b38\",\"#4f649a\",\"#cc00b3\",\"#567b54\",\"#506e7b\",\"#015e91\",\"#aabcbd\",\"#017e99\",\"#03dd97\",\"#873a2b\",\"#ef958e\",\"#75c6aa\",\"#70695d\",\"#ccdb08\",\"#af8556\",\"#d80075\",\"#9c3f80\",\"#d84400\",\"#dd6754\",\"#5eff79\",\"#d4b172\",\"#62265d\",\"#baa13d\",\"#d8f2b3\",\"#56018e\",\"#a19aaa\",\"#4d4926\",\"#a3a8ff\",\"#ace8db\",\"#995901\",\"#ac00e2\",\"#46822f\",\"#cac3ac\",\"#00c4b5\",\"#605277\",\"#336d67\",\"#a59180\",\"#8399a1\",\"#fd5664\",\"#7095d1\",\"#728c07\",\"#7e004b\",\"#152fa0\",\"#d1c1e2\",\"#c885cf\",\"#6b444b\",\"#7e0023\",\"#00a179\",\"#b1a8cf\",\"#f90000\",\"#afe8ff\",\"#939e4f\",\"#727982\",\"#d82d54\",\"#466001\",\"#0059ff\",\"#773fb5\",\"#ace460\",\"#674424\",\"#525d50\",\"#957267\",\"#a8e49a\",\"#a30057\",\"#d862f6\",\"#8e7ccf\",\"#ffbc93\",\"#a30091\",\"#9affb8\",\"#a7c1ff\",\"#f46200\",\"#e4efff\",\"#b89ca3\",\"#609593\",\"#ff9e34\",\"#8c2800\",\"#726b31\",\"#df824d\",\"#af7bd4\",\"#bc2d00\",\"#7b6ea3\",\"#484262\",\"#c6a3ff\",\"#004d28\",\"#c3c68e\",\"#df48d6\",\"#e6e864\",\"#e4c10a\",\"#00f4f0\",\"#9e5ba1\",\"#4b41b6\",\"#64338e\",\"#757e6b\",\"#a88936\"],\"font\":{\"color\":\"#2a3f5f\"},\"hovermode\":\"closest\",\"hoverlabel\":{\"align\":\"left\"},\"paper_bgcolor\":\"white\",\"plot_bgcolor\":\"white\",\"polar\":{\"bgcolor\":\"white\",\"angularaxis\":{\"gridcolor\":\"#EBF0F8\",\"linecolor\":\"#EBF0F8\",\"ticks\":\"\"},\"radialaxis\":{\"gridcolor\":\"#EBF0F8\",\"linecolor\":\"#EBF0F8\",\"ticks\":\"\"}},\"ternary\":{\"bgcolor\":\"white\",\"aaxis\":{\"gridcolor\":\"#DFE8F3\",\"linecolor\":\"#A2B1C6\",\"ticks\":\"\"},\"baxis\":{\"gridcolor\":\"#DFE8F3\",\"linecolor\":\"#A2B1C6\",\"ticks\":\"\"},\"caxis\":{\"gridcolor\":\"#DFE8F3\",\"linecolor\":\"#A2B1C6\",\"ticks\":\"\"}},\"coloraxis\":{\"colorbar\":{\"outlinewidth\":0,\"ticks\":\"\"}},\"colorscale\":{\"sequential\":[[0.0,\"#0d0887\"],[0.1111111111111111,\"#46039f\"],[0.2222222222222222,\"#7201a8\"],[0.3333333333333333,\"#9c179e\"],[0.4444444444444444,\"#bd3786\"],[0.5555555555555556,\"#d8576b\"],[0.6666666666666666,\"#ed7953\"],[0.7777777777777778,\"#fb9f3a\"],[0.8888888888888888,\"#fdca26\"],[1.0,\"#f0f921\"]],\"sequentialminus\":[[0.0,\"#0d0887\"],[0.1111111111111111,\"#46039f\"],[0.2222222222222222,\"#7201a8\"],[0.3333333333333333,\"#9c179e\"],[0.4444444444444444,\"#bd3786\"],[0.5555555555555556,\"#d8576b\"],[0.6666666666666666,\"#ed7953\"],[0.7777777777777778,\"#fb9f3a\"],[0.8888888888888888,\"#fdca26\"],[1.0,\"#f0f921\"]],\"diverging\":[[0,\"#8e0152\"],[0.1,\"#c51b7d\"],[0.2,\"#de77ae\"],[0.3,\"#f1b6da\"],[0.4,\"#fde0ef\"],[0.5,\"#f7f7f7\"],[0.6,\"#e6f5d0\"],[0.7,\"#b8e186\"],[0.8,\"#7fbc41\"],[0.9,\"#4d9221\"],[1,\"#276419\"]]},\"xaxis\":{\"gridcolor\":\"#EBF0F8\",\"linecolor\":\"#EBF0F8\",\"ticks\":\"\",\"title\":{\"standoff\":15},\"zerolinecolor\":\"#EBF0F8\",\"automargin\":true,\"zerolinewidth\":2},\"yaxis\":{\"gridcolor\":\"#EBF0F8\",\"linecolor\":\"#EBF0F8\",\"ticks\":\"\",\"title\":{\"standoff\":15},\"zerolinecolor\":\"#EBF0F8\",\"automargin\":true,\"zerolinewidth\":2},\"scene\":{\"xaxis\":{\"backgroundcolor\":\"white\",\"gridcolor\":\"#DFE8F3\",\"linecolor\":\"#EBF0F8\",\"showbackground\":true,\"ticks\":\"\",\"zerolinecolor\":\"#EBF0F8\",\"gridwidth\":2},\"yaxis\":{\"backgroundcolor\":\"white\",\"gridcolor\":\"#DFE8F3\",\"linecolor\":\"#EBF0F8\",\"showbackground\":true,\"ticks\":\"\",\"zerolinecolor\":\"#EBF0F8\",\"gridwidth\":2},\"zaxis\":{\"backgroundcolor\":\"white\",\"gridcolor\":\"#DFE8F3\",\"linecolor\":\"#EBF0F8\",\"showbackground\":true,\"ticks\":\"\",\"zerolinecolor\":\"#EBF0F8\",\"gridwidth\":2}},\"shapedefaults\":{\"line\":{\"color\":\"#2a3f5f\"}},\"annotationdefaults\":{\"arrowcolor\":\"#2a3f5f\",\"arrowhead\":0,\"arrowwidth\":1},\"geo\":{\"bgcolor\":\"white\",\"landcolor\":\"white\",\"subunitcolor\":\"#C8D4E3\",\"showland\":true,\"showlakes\":true,\"lakecolor\":\"white\"},\"title\":{\"x\":0.05},\"mapbox\":{\"style\":\"light\"},\"legend\":{\"tracegroupgap\":0},\"width\":700,\"height\":400,\"autosize\":false}},\"xaxis\":{\"anchor\":\"y\",\"domain\":[0.0,1.0],\"title\":{\"text\":\"baz\"}},\"yaxis\":{\"anchor\":\"x\",\"domain\":[0.0,1.0],\"title\":{\"text\":\"bar\"}},\"legend\":{\"title\":{},\"tracegroupgap\":0},\"margin\":{\"t\":60}},                        {\"responsive\": true}                    ).then(function(){\n",
       "                            \n",
       "var gd = document.getElementById('b6dbac57-7aec-4971-b6ca-992138739508');\n",
       "var x = new MutationObserver(function (mutations, observer) {{\n",
       "        var display = window.getComputedStyle(gd).display;\n",
       "        if (!display || display === 'none') {{\n",
       "            console.log([gd, 'removed!']);\n",
       "            Plotly.purge(gd);\n",
       "            observer.disconnect();\n",
       "        }}\n",
       "}});\n",
       "\n",
       "// Listen for the removal of the full notebook cells\n",
       "var notebookContainer = gd.closest('#notebook-container');\n",
       "if (notebookContainer) {{\n",
       "    x.observe(notebookContainer, {childList: true});\n",
       "}}\n",
       "\n",
       "// Listen for the clearing of the current output cell\n",
       "var outputEl = gd.closest('.output');\n",
       "if (outputEl) {{\n",
       "    x.observe(outputEl, {childList: true});\n",
       "}}\n",
       "\n",
       "                        })                };                });            </script>        </div>"
      ]
     },
     "metadata": {},
     "output_type": "display_data"
    }
   ],
   "source": [
    "#|hide\n",
    "plotly_dataarray(U3.array + U4.array)"
   ]
  },
  {
   "cell_type": "code",
   "execution_count": null,
   "metadata": {},
   "outputs": [
    {
     "data": {
      "application/vnd.plotly.v1+json": {
       "config": {
        "plotlyServerURL": "https://plot.ly"
       },
       "data": [
        {
         "hovertemplate": "foo=aaaaaaaaaaaaaaaaaa<br>bing=0.0<br>baz=%{x}<br>bar=%{y}<extra></extra>",
         "legendgroup": "aaaaaaaaaaaaaaaaaa",
         "line": {
          "color": "#2fa1da",
          "dash": "solid"
         },
         "marker": {
          "symbol": "circle"
         },
         "mode": "lines",
         "name": "aaaaaaaaaaaaaaaaaa",
         "orientation": "v",
         "showlegend": true,
         "type": "scatter",
         "x": [
          0,
          1,
          2,
          3,
          4
         ],
         "xaxis": "x",
         "y": [
          0.6777086144544695,
          0.20799807370846057,
          0.24587558700505863,
          0.22468947454587374,
          0.7808383545190479
         ],
         "yaxis": "y"
        },
        {
         "hovertemplate": "foo=b<br>bing=0.0<br>baz=%{x}<br>bar=%{y}<extra></extra>",
         "legendgroup": "b",
         "line": {
          "color": "#fb4f2f",
          "dash": "solid"
         },
         "marker": {
          "symbol": "circle"
         },
         "mode": "lines",
         "name": "b",
         "orientation": "v",
         "showlegend": true,
         "type": "scatter",
         "x": [
          0,
          1,
          2,
          3,
          4
         ],
         "xaxis": "x",
         "y": [
          0.8144738760309339,
          0.5189146424870842,
          0.7298152463028666,
          0.8466710505082435,
          0.9385114589610658
         ],
         "yaxis": "y"
        },
        {
         "hovertemplate": "foo=c<br>bing=0.0<br>baz=%{x}<br>bar=%{y}<extra></extra>",
         "legendgroup": "c",
         "line": {
          "color": "#e4ae38",
          "dash": "solid"
         },
         "marker": {
          "symbol": "circle"
         },
         "mode": "lines",
         "name": "c",
         "orientation": "v",
         "showlegend": true,
         "type": "scatter",
         "x": [
          0,
          1,
          2,
          3,
          4
         ],
         "xaxis": "x",
         "y": [
          0.235256388415645,
          0.8099407364448706,
          0.7545731382181347,
          0.39919530265779046,
          0.728374965746409
         ],
         "yaxis": "y"
        }
       ],
       "frames": [
        {
         "data": [
          {
           "hovertemplate": "foo=aaaaaaaaaaaaaaaaaa<br>bing=0.0<br>baz=%{x}<br>bar=%{y}<extra></extra>",
           "legendgroup": "aaaaaaaaaaaaaaaaaa",
           "line": {
            "color": "#2fa1da",
            "dash": "solid"
           },
           "marker": {
            "symbol": "circle"
           },
           "mode": "lines",
           "name": "aaaaaaaaaaaaaaaaaa",
           "orientation": "v",
           "showlegend": true,
           "type": "scatter",
           "x": [
            0,
            1,
            2,
            3,
            4
           ],
           "xaxis": "x",
           "y": [
            0.1919211614110854,
            0.8351257910807337,
            0.6422524185679935,
            0.26603087262166525,
            0.050535988650057706
           ],
           "yaxis": "y"
          },
          {
           "hovertemplate": "foo=b<br>bing=0.0<br>baz=%{x}<br>bar=%{y}<extra></extra>",
           "legendgroup": "b",
           "line": {
            "color": "#fb4f2f",
            "dash": "solid"
           },
           "marker": {
            "symbol": "circle"
           },
           "mode": "lines",
           "name": "b",
           "orientation": "v",
           "showlegend": true,
           "type": "scatter",
           "x": [
            0,
            1,
            2,
            3,
            4
           ],
           "xaxis": "x",
           "y": [
            0.17546224657908782,
            0.21307493439900238,
            0.6904019545155015,
            0.27413439368860837,
            0.8674235394825837
           ],
           "yaxis": "y"
          },
          {
           "hovertemplate": "foo=c<br>bing=0.0<br>baz=%{x}<br>bar=%{y}<extra></extra>",
           "legendgroup": "c",
           "line": {
            "color": "#e4ae38",
            "dash": "solid"
           },
           "marker": {
            "symbol": "circle"
           },
           "mode": "lines",
           "name": "c",
           "orientation": "v",
           "showlegend": true,
           "type": "scatter",
           "x": [
            0,
            1,
            2,
            3,
            4
           ],
           "xaxis": "x",
           "y": [
            0.8119882015105448,
            0.004305775667678646,
            0.982987171535907,
            0.2547283501174674,
            0.3058002287385674
           ],
           "yaxis": "y"
          }
         ],
         "name": "0.0"
        },
        {
         "data": [
          {
           "hovertemplate": "foo=aaaaaaaaaaaaaaaaaa<br>bing=0.000123456<br>baz=%{x}<br>bar=%{y}<extra></extra>",
           "legendgroup": "aaaaaaaaaaaaaaaaaa",
           "line": {
            "color": "#2fa1da",
            "dash": "solid"
           },
           "marker": {
            "symbol": "circle"
           },
           "mode": "lines",
           "name": "aaaaaaaaaaaaaaaaaa",
           "orientation": "v",
           "showlegend": true,
           "type": "scatter",
           "x": [
            0,
            1,
            2,
            3,
            4
           ],
           "xaxis": "x",
           "y": [
            0.26471171061953735,
            0.571167362055741,
            0.41184344030097375,
            0.13503809605623607,
            0.6189163811735259
           ],
           "yaxis": "y"
          },
          {
           "hovertemplate": "foo=b<br>bing=0.000123456<br>baz=%{x}<br>bar=%{y}<extra></extra>",
           "legendgroup": "b",
           "line": {
            "color": "#fb4f2f",
            "dash": "solid"
           },
           "marker": {
            "symbol": "circle"
           },
           "mode": "lines",
           "name": "b",
           "orientation": "v",
           "showlegend": true,
           "type": "scatter",
           "x": [
            0,
            1,
            2,
            3,
            4
           ],
           "xaxis": "x",
           "y": [
            0.9132851837019758,
            0.9940777724523785,
            0.4033544032491283,
            0.9437983681037112,
            0.7599668837007301
           ],
           "yaxis": "y"
          },
          {
           "hovertemplate": "foo=c<br>bing=0.000123456<br>baz=%{x}<br>bar=%{y}<extra></extra>",
           "legendgroup": "c",
           "line": {
            "color": "#e4ae38",
            "dash": "solid"
           },
           "marker": {
            "symbol": "circle"
           },
           "mode": "lines",
           "name": "c",
           "orientation": "v",
           "showlegend": true,
           "type": "scatter",
           "x": [
            0,
            1,
            2,
            3,
            4
           ],
           "xaxis": "x",
           "y": [
            0.14005540468949063,
            0.038644309826884604,
            0.9233469677258123,
            0.40204779815706937,
            0.12829325851112017
           ],
           "yaxis": "y"
          }
         ],
         "name": "0.000123456"
        },
        {
         "data": [
          {
           "hovertemplate": "foo=aaaaaaaaaaaaaaaaaa<br>bing=0.000246912<br>baz=%{x}<br>bar=%{y}<extra></extra>",
           "legendgroup": "aaaaaaaaaaaaaaaaaa",
           "line": {
            "color": "#2fa1da",
            "dash": "solid"
           },
           "marker": {
            "symbol": "circle"
           },
           "mode": "lines",
           "name": "aaaaaaaaaaaaaaaaaa",
           "orientation": "v",
           "showlegend": true,
           "type": "scatter",
           "x": [
            0,
            1,
            2,
            3,
            4
           ],
           "xaxis": "x",
           "y": [
            0.6777086144544695,
            0.20799807370846057,
            0.24587558700505863,
            0.22468947454587374,
            0.7808383545190479
           ],
           "yaxis": "y"
          },
          {
           "hovertemplate": "foo=b<br>bing=0.000246912<br>baz=%{x}<br>bar=%{y}<extra></extra>",
           "legendgroup": "b",
           "line": {
            "color": "#fb4f2f",
            "dash": "solid"
           },
           "marker": {
            "symbol": "circle"
           },
           "mode": "lines",
           "name": "b",
           "orientation": "v",
           "showlegend": true,
           "type": "scatter",
           "x": [
            0,
            1,
            2,
            3,
            4
           ],
           "xaxis": "x",
           "y": [
            0.8144738760309339,
            0.5189146424870842,
            0.7298152463028666,
            0.8466710505082435,
            0.9385114589610658
           ],
           "yaxis": "y"
          },
          {
           "hovertemplate": "foo=c<br>bing=0.000246912<br>baz=%{x}<br>bar=%{y}<extra></extra>",
           "legendgroup": "c",
           "line": {
            "color": "#e4ae38",
            "dash": "solid"
           },
           "marker": {
            "symbol": "circle"
           },
           "mode": "lines",
           "name": "c",
           "orientation": "v",
           "showlegend": true,
           "type": "scatter",
           "x": [
            0,
            1,
            2,
            3,
            4
           ],
           "xaxis": "x",
           "y": [
            0.235256388415645,
            0.8099407364448706,
            0.7545731382181347,
            0.39919530265779046,
            0.728374965746409
           ],
           "yaxis": "y"
          }
         ],
         "name": "0.000246912"
        },
        {
         "data": [
          {
           "hovertemplate": "foo=aaaaaaaaaaaaaaaaaa<br>bing=0.00037036800000000004<br>baz=%{x}<br>bar=%{y}<extra></extra>",
           "legendgroup": "aaaaaaaaaaaaaaaaaa",
           "line": {
            "color": "#2fa1da",
            "dash": "solid"
           },
           "marker": {
            "symbol": "circle"
           },
           "mode": "lines",
           "name": "aaaaaaaaaaaaaaaaaa",
           "orientation": "v",
           "showlegend": true,
           "type": "scatter",
           "x": [
            0,
            1,
            2,
            3,
            4
           ],
           "xaxis": "x",
           "y": [
            0.27620736345656605,
            0.08904200507505322,
            0.09778799744544309,
            0.03511681110966658,
            0.4412227484805581
           ],
           "yaxis": "y"
          },
          {
           "hovertemplate": "foo=b<br>bing=0.00037036800000000004<br>baz=%{x}<br>bar=%{y}<extra></extra>",
           "legendgroup": "b",
           "line": {
            "color": "#fb4f2f",
            "dash": "solid"
           },
           "marker": {
            "symbol": "circle"
           },
           "mode": "lines",
           "name": "b",
           "orientation": "v",
           "showlegend": true,
           "type": "scatter",
           "x": [
            0,
            1,
            2,
            3,
            4
           ],
           "xaxis": "x",
           "y": [
            0.9645188861392017,
            0.3952346537588943,
            0.468231405693584,
            0.16194157024963118,
            0.8766781387517029
           ],
           "yaxis": "y"
          },
          {
           "hovertemplate": "foo=c<br>bing=0.00037036800000000004<br>baz=%{x}<br>bar=%{y}<extra></extra>",
           "legendgroup": "c",
           "line": {
            "color": "#e4ae38",
            "dash": "solid"
           },
           "marker": {
            "symbol": "circle"
           },
           "mode": "lines",
           "name": "c",
           "orientation": "v",
           "showlegend": true,
           "type": "scatter",
           "x": [
            0,
            1,
            2,
            3,
            4
           ],
           "xaxis": "x",
           "y": [
            0.2645976053461583,
            0.7470758006298863,
            0.20056247132155403,
            0.63925034035617,
            0.527457630072559
           ],
           "yaxis": "y"
          }
         ],
         "name": "0.00037036800000000004"
        },
        {
         "data": [
          {
           "hovertemplate": "foo=aaaaaaaaaaaaaaaaaa<br>bing=0.000493824<br>baz=%{x}<br>bar=%{y}<extra></extra>",
           "legendgroup": "aaaaaaaaaaaaaaaaaa",
           "line": {
            "color": "#2fa1da",
            "dash": "solid"
           },
           "marker": {
            "symbol": "circle"
           },
           "mode": "lines",
           "name": "aaaaaaaaaaaaaaaaaa",
           "orientation": "v",
           "showlegend": true,
           "type": "scatter",
           "x": [
            0,
            1,
            2,
            3,
            4
           ],
           "xaxis": "x",
           "y": [
            0.4299570499000478,
            0.37154320840636157,
            0.18537527280248567,
            0.782905274171724,
            0.7447709278167541
           ],
           "yaxis": "y"
          },
          {
           "hovertemplate": "foo=b<br>bing=0.000493824<br>baz=%{x}<br>bar=%{y}<extra></extra>",
           "legendgroup": "b",
           "line": {
            "color": "#fb4f2f",
            "dash": "solid"
           },
           "marker": {
            "symbol": "circle"
           },
           "mode": "lines",
           "name": "b",
           "orientation": "v",
           "showlegend": true,
           "type": "scatter",
           "x": [
            0,
            1,
            2,
            3,
            4
           ],
           "xaxis": "x",
           "y": [
            0.4325155932423661,
            0.18883642047563898,
            0.4638281104628762,
            0.21093438848871293,
            0.8205059438586041
           ],
           "yaxis": "y"
          },
          {
           "hovertemplate": "foo=c<br>bing=0.000493824<br>baz=%{x}<br>bar=%{y}<extra></extra>",
           "legendgroup": "c",
           "line": {
            "color": "#e4ae38",
            "dash": "solid"
           },
           "marker": {
            "symbol": "circle"
           },
           "mode": "lines",
           "name": "c",
           "orientation": "v",
           "showlegend": true,
           "type": "scatter",
           "x": [
            0,
            1,
            2,
            3,
            4
           ],
           "xaxis": "x",
           "y": [
            0.25303474992968356,
            0.19549582739658733,
            0.28942970750806496,
            0.9173955892661422,
            0.749352861699006
           ],
           "yaxis": "y"
          }
         ],
         "name": "0.000493824"
        },
        {
         "data": [
          {
           "hovertemplate": "foo=aaaaaaaaaaaaaaaaaa<br>bing=0.00061728<br>baz=%{x}<br>bar=%{y}<extra></extra>",
           "legendgroup": "aaaaaaaaaaaaaaaaaa",
           "line": {
            "color": "#2fa1da",
            "dash": "solid"
           },
           "marker": {
            "symbol": "circle"
           },
           "mode": "lines",
           "name": "aaaaaaaaaaaaaaaaaa",
           "orientation": "v",
           "showlegend": true,
           "type": "scatter",
           "x": [
            0,
            1,
            2,
            3,
            4
           ],
           "xaxis": "x",
           "y": [
            0.7757910864370905,
            0.41004878691499425,
            0.7960604476258709,
            0.8509971200521644,
            0.28785487604815396
           ],
           "yaxis": "y"
          },
          {
           "hovertemplate": "foo=b<br>bing=0.00061728<br>baz=%{x}<br>bar=%{y}<extra></extra>",
           "legendgroup": "b",
           "line": {
            "color": "#fb4f2f",
            "dash": "solid"
           },
           "marker": {
            "symbol": "circle"
           },
           "mode": "lines",
           "name": "b",
           "orientation": "v",
           "showlegend": true,
           "type": "scatter",
           "x": [
            0,
            1,
            2,
            3,
            4
           ],
           "xaxis": "x",
           "y": [
            0.7718493432291552,
            0.47941707480589113,
            0.9076048913904824,
            0.8483807540610809,
            0.11784390090583108
           ],
           "yaxis": "y"
          },
          {
           "hovertemplate": "foo=c<br>bing=0.00061728<br>baz=%{x}<br>bar=%{y}<extra></extra>",
           "legendgroup": "c",
           "line": {
            "color": "#e4ae38",
            "dash": "solid"
           },
           "marker": {
            "symbol": "circle"
           },
           "mode": "lines",
           "name": "c",
           "orientation": "v",
           "showlegend": true,
           "type": "scatter",
           "x": [
            0,
            1,
            2,
            3,
            4
           ],
           "xaxis": "x",
           "y": [
            0.37831801422378564,
            0.861814417816014,
            0.8027206052883656,
            0.22766114679921412,
            0.23833852936206013
           ],
           "yaxis": "y"
          }
         ],
         "name": "0.00061728"
        }
       ],
       "layout": {
        "height": 360,
        "legend": {
         "title": {},
         "tracegroupgap": 0
        },
        "margin": {
         "t": 60
        },
        "sliders": [
         {
          "active": 2,
          "currentvalue": {
           "prefix": "bing="
          },
          "len": 0.9,
          "pad": {
           "b": 10,
           "t": 60
          },
          "steps": [
           {
            "args": [
             [
              "0.0"
             ],
             {
              "frame": {
               "duration": 0,
               "redraw": false
              },
              "fromcurrent": true,
              "mode": "immediate",
              "transition": {
               "duration": 0,
               "easing": "linear"
              }
             }
            ],
            "label": "0.0",
            "method": "animate"
           },
           {
            "args": [
             [
              "0.000123456"
             ],
             {
              "frame": {
               "duration": 0,
               "redraw": false
              },
              "fromcurrent": true,
              "mode": "immediate",
              "transition": {
               "duration": 0,
               "easing": "linear"
              }
             }
            ],
            "label": "0.12m",
            "method": "animate"
           },
           {
            "args": [
             [
              "0.000246912"
             ],
             {
              "frame": {
               "duration": 0,
               "redraw": false
              },
              "fromcurrent": true,
              "mode": "immediate",
              "transition": {
               "duration": 0,
               "easing": "linear"
              }
             }
            ],
            "label": "0.25m",
            "method": "animate"
           },
           {
            "args": [
             [
              "0.00037036800000000004"
             ],
             {
              "frame": {
               "duration": 0,
               "redraw": false
              },
              "fromcurrent": true,
              "mode": "immediate",
              "transition": {
               "duration": 0,
               "easing": "linear"
              }
             }
            ],
            "label": "0.37m",
            "method": "animate"
           },
           {
            "args": [
             [
              "0.000493824"
             ],
             {
              "frame": {
               "duration": 0,
               "redraw": false
              },
              "fromcurrent": true,
              "mode": "immediate",
              "transition": {
               "duration": 0,
               "easing": "linear"
              }
             }
            ],
            "label": "0.49m",
            "method": "animate"
           },
           {
            "args": [
             [
              "0.00061728"
             ],
             {
              "frame": {
               "duration": 0,
               "redraw": false
              },
              "fromcurrent": true,
              "mode": "immediate",
              "transition": {
               "duration": 0,
               "easing": "linear"
              }
             }
            ],
            "label": "0.62m",
            "method": "animate"
           }
          ],
          "x": 0.1,
          "xanchor": "left",
          "y": 0,
          "yanchor": "top"
         }
        ],
        "template": {
         "data": {
          "bar": [
           {
            "error_x": {
             "color": "#2a3f5f"
            },
            "error_y": {
             "color": "#2a3f5f"
            },
            "marker": {
             "line": {
              "color": "white",
              "width": 0.5
             },
             "pattern": {
              "fillmode": "overlay",
              "size": 10,
              "solidity": 0.2
             }
            },
            "type": "bar"
           }
          ],
          "barpolar": [
           {
            "marker": {
             "line": {
              "color": "white",
              "width": 0.5
             },
             "pattern": {
              "fillmode": "overlay",
              "size": 10,
              "solidity": 0.2
             }
            },
            "type": "barpolar"
           }
          ],
          "carpet": [
           {
            "aaxis": {
             "endlinecolor": "#2a3f5f",
             "gridcolor": "#C8D4E3",
             "linecolor": "#C8D4E3",
             "minorgridcolor": "#C8D4E3",
             "startlinecolor": "#2a3f5f"
            },
            "baxis": {
             "endlinecolor": "#2a3f5f",
             "gridcolor": "#C8D4E3",
             "linecolor": "#C8D4E3",
             "minorgridcolor": "#C8D4E3",
             "startlinecolor": "#2a3f5f"
            },
            "type": "carpet"
           }
          ],
          "choropleth": [
           {
            "colorbar": {
             "outlinewidth": 0,
             "ticks": ""
            },
            "type": "choropleth"
           }
          ],
          "contour": [
           {
            "colorbar": {
             "outlinewidth": 0,
             "ticks": ""
            },
            "colorscale": [
             [
              0,
              "#0d0887"
             ],
             [
              0.1111111111111111,
              "#46039f"
             ],
             [
              0.2222222222222222,
              "#7201a8"
             ],
             [
              0.3333333333333333,
              "#9c179e"
             ],
             [
              0.4444444444444444,
              "#bd3786"
             ],
             [
              0.5555555555555556,
              "#d8576b"
             ],
             [
              0.6666666666666666,
              "#ed7953"
             ],
             [
              0.7777777777777778,
              "#fb9f3a"
             ],
             [
              0.8888888888888888,
              "#fdca26"
             ],
             [
              1,
              "#f0f921"
             ]
            ],
            "type": "contour"
           }
          ],
          "contourcarpet": [
           {
            "colorbar": {
             "outlinewidth": 0,
             "ticks": ""
            },
            "type": "contourcarpet"
           }
          ],
          "heatmap": [
           {
            "colorbar": {
             "outlinewidth": 0,
             "ticks": ""
            },
            "colorscale": [
             [
              0,
              "#0d0887"
             ],
             [
              0.1111111111111111,
              "#46039f"
             ],
             [
              0.2222222222222222,
              "#7201a8"
             ],
             [
              0.3333333333333333,
              "#9c179e"
             ],
             [
              0.4444444444444444,
              "#bd3786"
             ],
             [
              0.5555555555555556,
              "#d8576b"
             ],
             [
              0.6666666666666666,
              "#ed7953"
             ],
             [
              0.7777777777777778,
              "#fb9f3a"
             ],
             [
              0.8888888888888888,
              "#fdca26"
             ],
             [
              1,
              "#f0f921"
             ]
            ],
            "type": "heatmap"
           }
          ],
          "heatmapgl": [
           {
            "colorbar": {
             "outlinewidth": 0,
             "ticks": ""
            },
            "colorscale": [
             [
              0,
              "#0d0887"
             ],
             [
              0.1111111111111111,
              "#46039f"
             ],
             [
              0.2222222222222222,
              "#7201a8"
             ],
             [
              0.3333333333333333,
              "#9c179e"
             ],
             [
              0.4444444444444444,
              "#bd3786"
             ],
             [
              0.5555555555555556,
              "#d8576b"
             ],
             [
              0.6666666666666666,
              "#ed7953"
             ],
             [
              0.7777777777777778,
              "#fb9f3a"
             ],
             [
              0.8888888888888888,
              "#fdca26"
             ],
             [
              1,
              "#f0f921"
             ]
            ],
            "type": "heatmapgl"
           }
          ],
          "histogram": [
           {
            "marker": {
             "pattern": {
              "fillmode": "overlay",
              "size": 10,
              "solidity": 0.2
             }
            },
            "type": "histogram"
           }
          ],
          "histogram2d": [
           {
            "colorbar": {
             "outlinewidth": 0,
             "ticks": ""
            },
            "colorscale": [
             [
              0,
              "#0d0887"
             ],
             [
              0.1111111111111111,
              "#46039f"
             ],
             [
              0.2222222222222222,
              "#7201a8"
             ],
             [
              0.3333333333333333,
              "#9c179e"
             ],
             [
              0.4444444444444444,
              "#bd3786"
             ],
             [
              0.5555555555555556,
              "#d8576b"
             ],
             [
              0.6666666666666666,
              "#ed7953"
             ],
             [
              0.7777777777777778,
              "#fb9f3a"
             ],
             [
              0.8888888888888888,
              "#fdca26"
             ],
             [
              1,
              "#f0f921"
             ]
            ],
            "type": "histogram2d"
           }
          ],
          "histogram2dcontour": [
           {
            "colorbar": {
             "outlinewidth": 0,
             "ticks": ""
            },
            "colorscale": [
             [
              0,
              "#0d0887"
             ],
             [
              0.1111111111111111,
              "#46039f"
             ],
             [
              0.2222222222222222,
              "#7201a8"
             ],
             [
              0.3333333333333333,
              "#9c179e"
             ],
             [
              0.4444444444444444,
              "#bd3786"
             ],
             [
              0.5555555555555556,
              "#d8576b"
             ],
             [
              0.6666666666666666,
              "#ed7953"
             ],
             [
              0.7777777777777778,
              "#fb9f3a"
             ],
             [
              0.8888888888888888,
              "#fdca26"
             ],
             [
              1,
              "#f0f921"
             ]
            ],
            "type": "histogram2dcontour"
           }
          ],
          "mesh3d": [
           {
            "colorbar": {
             "outlinewidth": 0,
             "ticks": ""
            },
            "type": "mesh3d"
           }
          ],
          "parcoords": [
           {
            "line": {
             "colorbar": {
              "outlinewidth": 0,
              "ticks": ""
             }
            },
            "type": "parcoords"
           }
          ],
          "pie": [
           {
            "automargin": true,
            "type": "pie"
           }
          ],
          "scatter": [
           {
            "fillpattern": {
             "fillmode": "overlay",
             "size": 10,
             "solidity": 0.2
            },
            "type": "scatter"
           }
          ],
          "scatter3d": [
           {
            "line": {
             "colorbar": {
              "outlinewidth": 0,
              "ticks": ""
             }
            },
            "marker": {
             "colorbar": {
              "outlinewidth": 0,
              "ticks": ""
             }
            },
            "type": "scatter3d"
           }
          ],
          "scattercarpet": [
           {
            "marker": {
             "colorbar": {
              "outlinewidth": 0,
              "ticks": ""
             }
            },
            "type": "scattercarpet"
           }
          ],
          "scattergeo": [
           {
            "marker": {
             "colorbar": {
              "outlinewidth": 0,
              "ticks": ""
             }
            },
            "type": "scattergeo"
           }
          ],
          "scattergl": [
           {
            "marker": {
             "colorbar": {
              "outlinewidth": 0,
              "ticks": ""
             }
            },
            "type": "scattergl"
           }
          ],
          "scattermapbox": [
           {
            "marker": {
             "colorbar": {
              "outlinewidth": 0,
              "ticks": ""
             }
            },
            "type": "scattermapbox"
           }
          ],
          "scatterpolar": [
           {
            "marker": {
             "colorbar": {
              "outlinewidth": 0,
              "ticks": ""
             }
            },
            "type": "scatterpolar"
           }
          ],
          "scatterpolargl": [
           {
            "marker": {
             "colorbar": {
              "outlinewidth": 0,
              "ticks": ""
             }
            },
            "type": "scatterpolargl"
           }
          ],
          "scatterternary": [
           {
            "marker": {
             "colorbar": {
              "outlinewidth": 0,
              "ticks": ""
             }
            },
            "type": "scatterternary"
           }
          ],
          "surface": [
           {
            "colorbar": {
             "outlinewidth": 0,
             "ticks": ""
            },
            "colorscale": [
             [
              0,
              "#0d0887"
             ],
             [
              0.1111111111111111,
              "#46039f"
             ],
             [
              0.2222222222222222,
              "#7201a8"
             ],
             [
              0.3333333333333333,
              "#9c179e"
             ],
             [
              0.4444444444444444,
              "#bd3786"
             ],
             [
              0.5555555555555556,
              "#d8576b"
             ],
             [
              0.6666666666666666,
              "#ed7953"
             ],
             [
              0.7777777777777778,
              "#fb9f3a"
             ],
             [
              0.8888888888888888,
              "#fdca26"
             ],
             [
              1,
              "#f0f921"
             ]
            ],
            "type": "surface"
           }
          ],
          "table": [
           {
            "cells": {
             "fill": {
              "color": "#EBF0F8"
             },
             "line": {
              "color": "white"
             }
            },
            "header": {
             "fill": {
              "color": "#C8D4E3"
             },
             "line": {
              "color": "white"
             }
            },
            "type": "table"
           }
          ]
         },
         "layout": {
          "annotationdefaults": {
           "arrowcolor": "#2a3f5f",
           "arrowhead": 0,
           "arrowwidth": 1
          },
          "autosize": false,
          "autotypenumbers": "strict",
          "coloraxis": {
           "colorbar": {
            "outlinewidth": 0,
            "ticks": ""
           }
          },
          "colorscale": {
           "diverging": [
            [
             0,
             "#8e0152"
            ],
            [
             0.1,
             "#c51b7d"
            ],
            [
             0.2,
             "#de77ae"
            ],
            [
             0.3,
             "#f1b6da"
            ],
            [
             0.4,
             "#fde0ef"
            ],
            [
             0.5,
             "#f7f7f7"
            ],
            [
             0.6,
             "#e6f5d0"
            ],
            [
             0.7,
             "#b8e186"
            ],
            [
             0.8,
             "#7fbc41"
            ],
            [
             0.9,
             "#4d9221"
            ],
            [
             1,
             "#276419"
            ]
           ],
           "sequential": [
            [
             0,
             "#0d0887"
            ],
            [
             0.1111111111111111,
             "#46039f"
            ],
            [
             0.2222222222222222,
             "#7201a8"
            ],
            [
             0.3333333333333333,
             "#9c179e"
            ],
            [
             0.4444444444444444,
             "#bd3786"
            ],
            [
             0.5555555555555556,
             "#d8576b"
            ],
            [
             0.6666666666666666,
             "#ed7953"
            ],
            [
             0.7777777777777778,
             "#fb9f3a"
            ],
            [
             0.8888888888888888,
             "#fdca26"
            ],
            [
             1,
             "#f0f921"
            ]
           ],
           "sequentialminus": [
            [
             0,
             "#0d0887"
            ],
            [
             0.1111111111111111,
             "#46039f"
            ],
            [
             0.2222222222222222,
             "#7201a8"
            ],
            [
             0.3333333333333333,
             "#9c179e"
            ],
            [
             0.4444444444444444,
             "#bd3786"
            ],
            [
             0.5555555555555556,
             "#d8576b"
            ],
            [
             0.6666666666666666,
             "#ed7953"
            ],
            [
             0.7777777777777778,
             "#fb9f3a"
            ],
            [
             0.8888888888888888,
             "#fdca26"
            ],
            [
             1,
             "#f0f921"
            ]
           ]
          },
          "colorway": [
           "#2fa1da",
           "#fb4f2f",
           "#e4ae38",
           "#6d904f",
           "#8a8a8a",
           "#16bdcf",
           "#9367bc",
           "#d62628",
           "#1f77b3",
           "#e277c1",
           "#8c564b",
           "#bcbc21",
           "#3a0182",
           "#004200",
           "#0fffa8",
           "#5d003f",
           "#c6bcff",
           "#424f52",
           "#b80080",
           "#ffb6b3",
           "#7c0100",
           "#6026ff",
           "#ffff9a",
           "#aec8aa",
           "#00857c",
           "#543a00",
           "#93fbff",
           "#00bf00",
           "#7c00a0",
           "#aa7200",
           "#90ff00",
           "#01bd89",
           "#00447b",
           "#c8826e",
           "#ff1f82",
           "#dd00ff",
           "#057400",
           "#644460",
           "#878eff",
           "#ffb5f4",
           "#526236",
           "#cd85ff",
           "#676983",
           "#bdb3bd",
           "#a56089",
           "#95d3ff",
           "#0100f7",
           "#ff8001",
           "#8a2844",
           "#aca06d",
           "#52448a",
           "#c8ffd8",
           "#aa4600",
           "#ff798e",
           "#82d370",
           "#909ebf",
           "#9300f4",
           "#ebcf9a",
           "#ac8ab1",
           "#006249",
           "#ffdb00",
           "#877750",
           "#7eaaa3",
           "#000097",
           "#f400c6",
           "#643328",
           "#006677",
           "#03e2c8",
           "#a736ae",
           "#c4dbe1",
           "#4d6eff",
           "#9a9301",
           "#cd576b",
           "#efddfd",
           "#795900",
           "#5e879a",
           "#b3ff91",
           "#5d726b",
           "#520066",
           "#058750",
           "#831f6e",
           "#3b9505",
           "#647200",
           "#f0a06b",
           "#5e4f44",
           "#bc0049",
           "#cf6726",
           "#d695aa",
           "#895dff",
           "#826b75",
           "#2a54b8",
           "#6e7cba",
           "#e6d4d3",
           "#5d0018",
           "#7c3b01",
           "#80b17c",
           "#c8d87c",
           "#00e83b",
           "#7cb1ff",
           "#ff54ff",
           "#a32621",
           "#1ce4ff",
           "#7caf3b",
           "#7b4b90",
           "#dfff48",
           "#6b00c3",
           "#cda897",
           "#bd62c3",
           "#89cdcd",
           "#4603c8",
           "#5d9179",
           "#414901",
           "#05a79c",
           "#cf8c36",
           "#fff7cf",
           "#425470",
           "#b544ff",
           "#cf4993",
           "#cfa3df",
           "#93d400",
           "#a793da",
           "#2da557",
           "#8ce2b5",
           "#a3a89c",
           "#6b5bb6",
           "#ff7e5d",
           "#a78289",
           "#afbdd8",
           "#2ac3ff",
           "#a5673d",
           "#f690fd",
           "#874b64",
           "#ff0c4b",
           "#215d23",
           "#4291ff",
           "#87829c",
           "#672d44",
           "#b14f41",
           "#004d52",
           "#5e1a00",
           "#ac4167",
           "#4f3167",
           "#d6fffd",
           "#7eb5d1",
           "#a8b869",
           "#ff95ca",
           "#c87495",
           "#364f38",
           "#ffcf62",
           "#5d5762",
           "#879375",
           "#a877ff",
           "#03c862",
           "#e6bdd4",
           "#d4e2cf",
           "#876790",
           "#897c26",
           "#cddbff",
           "#aa676b",
           "#313474",
           "#ff5da8",
           "#009aaf",
           "#70ffdd",
           "#775b38",
           "#4f649a",
           "#cc00b3",
           "#567b54",
           "#506e7b",
           "#015e91",
           "#aabcbd",
           "#017e99",
           "#03dd97",
           "#873a2b",
           "#ef958e",
           "#75c6aa",
           "#70695d",
           "#ccdb08",
           "#af8556",
           "#d80075",
           "#9c3f80",
           "#d84400",
           "#dd6754",
           "#5eff79",
           "#d4b172",
           "#62265d",
           "#baa13d",
           "#d8f2b3",
           "#56018e",
           "#a19aaa",
           "#4d4926",
           "#a3a8ff",
           "#ace8db",
           "#995901",
           "#ac00e2",
           "#46822f",
           "#cac3ac",
           "#00c4b5",
           "#605277",
           "#336d67",
           "#a59180",
           "#8399a1",
           "#fd5664",
           "#7095d1",
           "#728c07",
           "#7e004b",
           "#152fa0",
           "#d1c1e2",
           "#c885cf",
           "#6b444b",
           "#7e0023",
           "#00a179",
           "#b1a8cf",
           "#f90000",
           "#afe8ff",
           "#939e4f",
           "#727982",
           "#d82d54",
           "#466001",
           "#0059ff",
           "#773fb5",
           "#ace460",
           "#674424",
           "#525d50",
           "#957267",
           "#a8e49a",
           "#a30057",
           "#d862f6",
           "#8e7ccf",
           "#ffbc93",
           "#a30091",
           "#9affb8",
           "#a7c1ff",
           "#f46200",
           "#e4efff",
           "#b89ca3",
           "#609593",
           "#ff9e34",
           "#8c2800",
           "#726b31",
           "#df824d",
           "#af7bd4",
           "#bc2d00",
           "#7b6ea3",
           "#484262",
           "#c6a3ff",
           "#004d28",
           "#c3c68e",
           "#df48d6",
           "#e6e864",
           "#e4c10a",
           "#00f4f0",
           "#9e5ba1",
           "#4b41b6",
           "#64338e",
           "#757e6b",
           "#a88936"
          ],
          "font": {
           "color": "#2a3f5f"
          },
          "geo": {
           "bgcolor": "white",
           "lakecolor": "white",
           "landcolor": "white",
           "showlakes": true,
           "showland": true,
           "subunitcolor": "#C8D4E3"
          },
          "height": 400,
          "hoverlabel": {
           "align": "left"
          },
          "hovermode": "closest",
          "legend": {
           "tracegroupgap": 0
          },
          "mapbox": {
           "style": "light"
          },
          "paper_bgcolor": "white",
          "plot_bgcolor": "white",
          "polar": {
           "angularaxis": {
            "gridcolor": "#EBF0F8",
            "linecolor": "#EBF0F8",
            "ticks": ""
           },
           "bgcolor": "white",
           "radialaxis": {
            "gridcolor": "#EBF0F8",
            "linecolor": "#EBF0F8",
            "ticks": ""
           }
          },
          "scene": {
           "xaxis": {
            "backgroundcolor": "white",
            "gridcolor": "#DFE8F3",
            "gridwidth": 2,
            "linecolor": "#EBF0F8",
            "showbackground": true,
            "ticks": "",
            "zerolinecolor": "#EBF0F8"
           },
           "yaxis": {
            "backgroundcolor": "white",
            "gridcolor": "#DFE8F3",
            "gridwidth": 2,
            "linecolor": "#EBF0F8",
            "showbackground": true,
            "ticks": "",
            "zerolinecolor": "#EBF0F8"
           },
           "zaxis": {
            "backgroundcolor": "white",
            "gridcolor": "#DFE8F3",
            "gridwidth": 2,
            "linecolor": "#EBF0F8",
            "showbackground": true,
            "ticks": "",
            "zerolinecolor": "#EBF0F8"
           }
          },
          "shapedefaults": {
           "line": {
            "color": "#2a3f5f"
           }
          },
          "ternary": {
           "aaxis": {
            "gridcolor": "#DFE8F3",
            "linecolor": "#A2B1C6",
            "ticks": ""
           },
           "baxis": {
            "gridcolor": "#DFE8F3",
            "linecolor": "#A2B1C6",
            "ticks": ""
           },
           "bgcolor": "white",
           "caxis": {
            "gridcolor": "#DFE8F3",
            "linecolor": "#A2B1C6",
            "ticks": ""
           }
          },
          "title": {
           "x": 0.05
          },
          "width": 700,
          "xaxis": {
           "automargin": true,
           "gridcolor": "#EBF0F8",
           "linecolor": "#EBF0F8",
           "ticks": "",
           "title": {
            "standoff": 15
           },
           "zerolinecolor": "#EBF0F8",
           "zerolinewidth": 2
          },
          "yaxis": {
           "automargin": true,
           "gridcolor": "#EBF0F8",
           "linecolor": "#EBF0F8",
           "ticks": "",
           "title": {
            "standoff": 15
           },
           "zerolinecolor": "#EBF0F8",
           "zerolinewidth": 2
          }
         }
        },
        "updatemenus": [
         {
          "buttons": [
           {
            "args": [
             null,
             {
              "frame": {
               "duration": 500,
               "redraw": false
              },
              "fromcurrent": true,
              "mode": "immediate",
              "transition": {
               "duration": 0,
               "easing": "linear"
              }
             }
            ],
            "label": "&#9654;",
            "method": "animate"
           },
           {
            "args": [
             [
              null
             ],
             {
              "frame": {
               "duration": 0,
               "redraw": false
              },
              "fromcurrent": true,
              "mode": "immediate",
              "transition": {
               "duration": 0,
               "easing": "linear"
              }
             }
            ],
            "label": "&#9724;",
            "method": "animate"
           }
          ],
          "direction": "left",
          "pad": {
           "r": 10,
           "t": 70
          },
          "showactive": false,
          "type": "buttons",
          "x": 0.1,
          "xanchor": "right",
          "y": 0,
          "yanchor": "top"
         }
        ],
        "width": 700,
        "xaxis": {
         "anchor": "y",
         "autorange": true,
         "domain": [
          0,
          1
         ],
         "range": [
          0,
          4
         ],
         "title": {
          "text": "baz"
         },
         "type": "linear"
        },
        "yaxis": {
         "anchor": "x",
         "domain": [
          0,
          1
         ],
         "range": [
          -0.04518282417155635,
          1.0435663722916135
         ],
         "title": {
          "text": "bar"
         },
         "type": "linear"
        }
       }
      },
      "text/html": [
       "<div>                            <div id=\"fd286476-3cad-47fb-a90f-b4c00c13b6e0\" class=\"plotly-graph-div\" style=\"height:400px; width:700px;\"></div>            <script type=\"text/javascript\">                require([\"plotly\"], function(Plotly) {                    window.PLOTLYENV=window.PLOTLYENV || {};                                    if (document.getElementById(\"fd286476-3cad-47fb-a90f-b4c00c13b6e0\")) {                    Plotly.newPlot(                        \"fd286476-3cad-47fb-a90f-b4c00c13b6e0\",                        [{\"hovertemplate\":\"foo=aaaaaaaaaaaaaaaaaa\\u003cbr\\u003ebing=0.0\\u003cbr\\u003ebaz=%{x}\\u003cbr\\u003ebar=%{y}\\u003cextra\\u003e\\u003c\\u002fextra\\u003e\",\"legendgroup\":\"aaaaaaaaaaaaaaaaaa\",\"line\":{\"color\":\"#2fa1da\",\"dash\":\"solid\"},\"marker\":{\"symbol\":\"circle\"},\"mode\":\"lines\",\"name\":\"aaaaaaaaaaaaaaaaaa\",\"orientation\":\"v\",\"showlegend\":true,\"x\":[0,1,2,3,4],\"xaxis\":\"x\",\"y\":[0.6777086144544695,0.20799807370846057,0.24587558700505863,0.22468947454587374,0.7808383545190479],\"yaxis\":\"y\",\"type\":\"scatter\"},{\"hovertemplate\":\"foo=b\\u003cbr\\u003ebing=0.0\\u003cbr\\u003ebaz=%{x}\\u003cbr\\u003ebar=%{y}\\u003cextra\\u003e\\u003c\\u002fextra\\u003e\",\"legendgroup\":\"b\",\"line\":{\"color\":\"#fb4f2f\",\"dash\":\"solid\"},\"marker\":{\"symbol\":\"circle\"},\"mode\":\"lines\",\"name\":\"b\",\"orientation\":\"v\",\"showlegend\":true,\"x\":[0,1,2,3,4],\"xaxis\":\"x\",\"y\":[0.8144738760309339,0.5189146424870842,0.7298152463028666,0.8466710505082435,0.9385114589610658],\"yaxis\":\"y\",\"type\":\"scatter\"},{\"hovertemplate\":\"foo=c\\u003cbr\\u003ebing=0.0\\u003cbr\\u003ebaz=%{x}\\u003cbr\\u003ebar=%{y}\\u003cextra\\u003e\\u003c\\u002fextra\\u003e\",\"legendgroup\":\"c\",\"line\":{\"color\":\"#e4ae38\",\"dash\":\"solid\"},\"marker\":{\"symbol\":\"circle\"},\"mode\":\"lines\",\"name\":\"c\",\"orientation\":\"v\",\"showlegend\":true,\"x\":[0,1,2,3,4],\"xaxis\":\"x\",\"y\":[0.235256388415645,0.8099407364448706,0.7545731382181347,0.39919530265779046,0.728374965746409],\"yaxis\":\"y\",\"type\":\"scatter\"}],                        {\"template\":{\"data\":{\"histogram2dcontour\":[{\"type\":\"histogram2dcontour\",\"colorbar\":{\"outlinewidth\":0,\"ticks\":\"\"},\"colorscale\":[[0.0,\"#0d0887\"],[0.1111111111111111,\"#46039f\"],[0.2222222222222222,\"#7201a8\"],[0.3333333333333333,\"#9c179e\"],[0.4444444444444444,\"#bd3786\"],[0.5555555555555556,\"#d8576b\"],[0.6666666666666666,\"#ed7953\"],[0.7777777777777778,\"#fb9f3a\"],[0.8888888888888888,\"#fdca26\"],[1.0,\"#f0f921\"]]}],\"choropleth\":[{\"type\":\"choropleth\",\"colorbar\":{\"outlinewidth\":0,\"ticks\":\"\"}}],\"histogram2d\":[{\"type\":\"histogram2d\",\"colorbar\":{\"outlinewidth\":0,\"ticks\":\"\"},\"colorscale\":[[0.0,\"#0d0887\"],[0.1111111111111111,\"#46039f\"],[0.2222222222222222,\"#7201a8\"],[0.3333333333333333,\"#9c179e\"],[0.4444444444444444,\"#bd3786\"],[0.5555555555555556,\"#d8576b\"],[0.6666666666666666,\"#ed7953\"],[0.7777777777777778,\"#fb9f3a\"],[0.8888888888888888,\"#fdca26\"],[1.0,\"#f0f921\"]]}],\"heatmap\":[{\"type\":\"heatmap\",\"colorbar\":{\"outlinewidth\":0,\"ticks\":\"\"},\"colorscale\":[[0.0,\"#0d0887\"],[0.1111111111111111,\"#46039f\"],[0.2222222222222222,\"#7201a8\"],[0.3333333333333333,\"#9c179e\"],[0.4444444444444444,\"#bd3786\"],[0.5555555555555556,\"#d8576b\"],[0.6666666666666666,\"#ed7953\"],[0.7777777777777778,\"#fb9f3a\"],[0.8888888888888888,\"#fdca26\"],[1.0,\"#f0f921\"]]}],\"heatmapgl\":[{\"type\":\"heatmapgl\",\"colorbar\":{\"outlinewidth\":0,\"ticks\":\"\"},\"colorscale\":[[0.0,\"#0d0887\"],[0.1111111111111111,\"#46039f\"],[0.2222222222222222,\"#7201a8\"],[0.3333333333333333,\"#9c179e\"],[0.4444444444444444,\"#bd3786\"],[0.5555555555555556,\"#d8576b\"],[0.6666666666666666,\"#ed7953\"],[0.7777777777777778,\"#fb9f3a\"],[0.8888888888888888,\"#fdca26\"],[1.0,\"#f0f921\"]]}],\"contourcarpet\":[{\"type\":\"contourcarpet\",\"colorbar\":{\"outlinewidth\":0,\"ticks\":\"\"}}],\"contour\":[{\"type\":\"contour\",\"colorbar\":{\"outlinewidth\":0,\"ticks\":\"\"},\"colorscale\":[[0.0,\"#0d0887\"],[0.1111111111111111,\"#46039f\"],[0.2222222222222222,\"#7201a8\"],[0.3333333333333333,\"#9c179e\"],[0.4444444444444444,\"#bd3786\"],[0.5555555555555556,\"#d8576b\"],[0.6666666666666666,\"#ed7953\"],[0.7777777777777778,\"#fb9f3a\"],[0.8888888888888888,\"#fdca26\"],[1.0,\"#f0f921\"]]}],\"surface\":[{\"type\":\"surface\",\"colorbar\":{\"outlinewidth\":0,\"ticks\":\"\"},\"colorscale\":[[0.0,\"#0d0887\"],[0.1111111111111111,\"#46039f\"],[0.2222222222222222,\"#7201a8\"],[0.3333333333333333,\"#9c179e\"],[0.4444444444444444,\"#bd3786\"],[0.5555555555555556,\"#d8576b\"],[0.6666666666666666,\"#ed7953\"],[0.7777777777777778,\"#fb9f3a\"],[0.8888888888888888,\"#fdca26\"],[1.0,\"#f0f921\"]]}],\"mesh3d\":[{\"type\":\"mesh3d\",\"colorbar\":{\"outlinewidth\":0,\"ticks\":\"\"}}],\"scatter\":[{\"fillpattern\":{\"fillmode\":\"overlay\",\"size\":10,\"solidity\":0.2},\"type\":\"scatter\"}],\"parcoords\":[{\"type\":\"parcoords\",\"line\":{\"colorbar\":{\"outlinewidth\":0,\"ticks\":\"\"}}}],\"scatterpolargl\":[{\"type\":\"scatterpolargl\",\"marker\":{\"colorbar\":{\"outlinewidth\":0,\"ticks\":\"\"}}}],\"bar\":[{\"error_x\":{\"color\":\"#2a3f5f\"},\"error_y\":{\"color\":\"#2a3f5f\"},\"marker\":{\"line\":{\"color\":\"white\",\"width\":0.5},\"pattern\":{\"fillmode\":\"overlay\",\"size\":10,\"solidity\":0.2}},\"type\":\"bar\"}],\"scattergeo\":[{\"type\":\"scattergeo\",\"marker\":{\"colorbar\":{\"outlinewidth\":0,\"ticks\":\"\"}}}],\"scatterpolar\":[{\"type\":\"scatterpolar\",\"marker\":{\"colorbar\":{\"outlinewidth\":0,\"ticks\":\"\"}}}],\"histogram\":[{\"marker\":{\"pattern\":{\"fillmode\":\"overlay\",\"size\":10,\"solidity\":0.2}},\"type\":\"histogram\"}],\"scattergl\":[{\"type\":\"scattergl\",\"marker\":{\"colorbar\":{\"outlinewidth\":0,\"ticks\":\"\"}}}],\"scatter3d\":[{\"type\":\"scatter3d\",\"line\":{\"colorbar\":{\"outlinewidth\":0,\"ticks\":\"\"}},\"marker\":{\"colorbar\":{\"outlinewidth\":0,\"ticks\":\"\"}}}],\"scattermapbox\":[{\"type\":\"scattermapbox\",\"marker\":{\"colorbar\":{\"outlinewidth\":0,\"ticks\":\"\"}}}],\"scatterternary\":[{\"type\":\"scatterternary\",\"marker\":{\"colorbar\":{\"outlinewidth\":0,\"ticks\":\"\"}}}],\"scattercarpet\":[{\"type\":\"scattercarpet\",\"marker\":{\"colorbar\":{\"outlinewidth\":0,\"ticks\":\"\"}}}],\"carpet\":[{\"aaxis\":{\"endlinecolor\":\"#2a3f5f\",\"gridcolor\":\"#C8D4E3\",\"linecolor\":\"#C8D4E3\",\"minorgridcolor\":\"#C8D4E3\",\"startlinecolor\":\"#2a3f5f\"},\"baxis\":{\"endlinecolor\":\"#2a3f5f\",\"gridcolor\":\"#C8D4E3\",\"linecolor\":\"#C8D4E3\",\"minorgridcolor\":\"#C8D4E3\",\"startlinecolor\":\"#2a3f5f\"},\"type\":\"carpet\"}],\"table\":[{\"cells\":{\"fill\":{\"color\":\"#EBF0F8\"},\"line\":{\"color\":\"white\"}},\"header\":{\"fill\":{\"color\":\"#C8D4E3\"},\"line\":{\"color\":\"white\"}},\"type\":\"table\"}],\"barpolar\":[{\"marker\":{\"line\":{\"color\":\"white\",\"width\":0.5},\"pattern\":{\"fillmode\":\"overlay\",\"size\":10,\"solidity\":0.2}},\"type\":\"barpolar\"}],\"pie\":[{\"automargin\":true,\"type\":\"pie\"}]},\"layout\":{\"autotypenumbers\":\"strict\",\"colorway\":[\"#2fa1da\",\"#fb4f2f\",\"#e4ae38\",\"#6d904f\",\"#8a8a8a\",\"#16bdcf\",\"#9367bc\",\"#d62628\",\"#1f77b3\",\"#e277c1\",\"#8c564b\",\"#bcbc21\",\"#3a0182\",\"#004200\",\"#0fffa8\",\"#5d003f\",\"#c6bcff\",\"#424f52\",\"#b80080\",\"#ffb6b3\",\"#7c0100\",\"#6026ff\",\"#ffff9a\",\"#aec8aa\",\"#00857c\",\"#543a00\",\"#93fbff\",\"#00bf00\",\"#7c00a0\",\"#aa7200\",\"#90ff00\",\"#01bd89\",\"#00447b\",\"#c8826e\",\"#ff1f82\",\"#dd00ff\",\"#057400\",\"#644460\",\"#878eff\",\"#ffb5f4\",\"#526236\",\"#cd85ff\",\"#676983\",\"#bdb3bd\",\"#a56089\",\"#95d3ff\",\"#0100f7\",\"#ff8001\",\"#8a2844\",\"#aca06d\",\"#52448a\",\"#c8ffd8\",\"#aa4600\",\"#ff798e\",\"#82d370\",\"#909ebf\",\"#9300f4\",\"#ebcf9a\",\"#ac8ab1\",\"#006249\",\"#ffdb00\",\"#877750\",\"#7eaaa3\",\"#000097\",\"#f400c6\",\"#643328\",\"#006677\",\"#03e2c8\",\"#a736ae\",\"#c4dbe1\",\"#4d6eff\",\"#9a9301\",\"#cd576b\",\"#efddfd\",\"#795900\",\"#5e879a\",\"#b3ff91\",\"#5d726b\",\"#520066\",\"#058750\",\"#831f6e\",\"#3b9505\",\"#647200\",\"#f0a06b\",\"#5e4f44\",\"#bc0049\",\"#cf6726\",\"#d695aa\",\"#895dff\",\"#826b75\",\"#2a54b8\",\"#6e7cba\",\"#e6d4d3\",\"#5d0018\",\"#7c3b01\",\"#80b17c\",\"#c8d87c\",\"#00e83b\",\"#7cb1ff\",\"#ff54ff\",\"#a32621\",\"#1ce4ff\",\"#7caf3b\",\"#7b4b90\",\"#dfff48\",\"#6b00c3\",\"#cda897\",\"#bd62c3\",\"#89cdcd\",\"#4603c8\",\"#5d9179\",\"#414901\",\"#05a79c\",\"#cf8c36\",\"#fff7cf\",\"#425470\",\"#b544ff\",\"#cf4993\",\"#cfa3df\",\"#93d400\",\"#a793da\",\"#2da557\",\"#8ce2b5\",\"#a3a89c\",\"#6b5bb6\",\"#ff7e5d\",\"#a78289\",\"#afbdd8\",\"#2ac3ff\",\"#a5673d\",\"#f690fd\",\"#874b64\",\"#ff0c4b\",\"#215d23\",\"#4291ff\",\"#87829c\",\"#672d44\",\"#b14f41\",\"#004d52\",\"#5e1a00\",\"#ac4167\",\"#4f3167\",\"#d6fffd\",\"#7eb5d1\",\"#a8b869\",\"#ff95ca\",\"#c87495\",\"#364f38\",\"#ffcf62\",\"#5d5762\",\"#879375\",\"#a877ff\",\"#03c862\",\"#e6bdd4\",\"#d4e2cf\",\"#876790\",\"#897c26\",\"#cddbff\",\"#aa676b\",\"#313474\",\"#ff5da8\",\"#009aaf\",\"#70ffdd\",\"#775b38\",\"#4f649a\",\"#cc00b3\",\"#567b54\",\"#506e7b\",\"#015e91\",\"#aabcbd\",\"#017e99\",\"#03dd97\",\"#873a2b\",\"#ef958e\",\"#75c6aa\",\"#70695d\",\"#ccdb08\",\"#af8556\",\"#d80075\",\"#9c3f80\",\"#d84400\",\"#dd6754\",\"#5eff79\",\"#d4b172\",\"#62265d\",\"#baa13d\",\"#d8f2b3\",\"#56018e\",\"#a19aaa\",\"#4d4926\",\"#a3a8ff\",\"#ace8db\",\"#995901\",\"#ac00e2\",\"#46822f\",\"#cac3ac\",\"#00c4b5\",\"#605277\",\"#336d67\",\"#a59180\",\"#8399a1\",\"#fd5664\",\"#7095d1\",\"#728c07\",\"#7e004b\",\"#152fa0\",\"#d1c1e2\",\"#c885cf\",\"#6b444b\",\"#7e0023\",\"#00a179\",\"#b1a8cf\",\"#f90000\",\"#afe8ff\",\"#939e4f\",\"#727982\",\"#d82d54\",\"#466001\",\"#0059ff\",\"#773fb5\",\"#ace460\",\"#674424\",\"#525d50\",\"#957267\",\"#a8e49a\",\"#a30057\",\"#d862f6\",\"#8e7ccf\",\"#ffbc93\",\"#a30091\",\"#9affb8\",\"#a7c1ff\",\"#f46200\",\"#e4efff\",\"#b89ca3\",\"#609593\",\"#ff9e34\",\"#8c2800\",\"#726b31\",\"#df824d\",\"#af7bd4\",\"#bc2d00\",\"#7b6ea3\",\"#484262\",\"#c6a3ff\",\"#004d28\",\"#c3c68e\",\"#df48d6\",\"#e6e864\",\"#e4c10a\",\"#00f4f0\",\"#9e5ba1\",\"#4b41b6\",\"#64338e\",\"#757e6b\",\"#a88936\"],\"font\":{\"color\":\"#2a3f5f\"},\"hovermode\":\"closest\",\"hoverlabel\":{\"align\":\"left\"},\"paper_bgcolor\":\"white\",\"plot_bgcolor\":\"white\",\"polar\":{\"bgcolor\":\"white\",\"angularaxis\":{\"gridcolor\":\"#EBF0F8\",\"linecolor\":\"#EBF0F8\",\"ticks\":\"\"},\"radialaxis\":{\"gridcolor\":\"#EBF0F8\",\"linecolor\":\"#EBF0F8\",\"ticks\":\"\"}},\"ternary\":{\"bgcolor\":\"white\",\"aaxis\":{\"gridcolor\":\"#DFE8F3\",\"linecolor\":\"#A2B1C6\",\"ticks\":\"\"},\"baxis\":{\"gridcolor\":\"#DFE8F3\",\"linecolor\":\"#A2B1C6\",\"ticks\":\"\"},\"caxis\":{\"gridcolor\":\"#DFE8F3\",\"linecolor\":\"#A2B1C6\",\"ticks\":\"\"}},\"coloraxis\":{\"colorbar\":{\"outlinewidth\":0,\"ticks\":\"\"}},\"colorscale\":{\"sequential\":[[0.0,\"#0d0887\"],[0.1111111111111111,\"#46039f\"],[0.2222222222222222,\"#7201a8\"],[0.3333333333333333,\"#9c179e\"],[0.4444444444444444,\"#bd3786\"],[0.5555555555555556,\"#d8576b\"],[0.6666666666666666,\"#ed7953\"],[0.7777777777777778,\"#fb9f3a\"],[0.8888888888888888,\"#fdca26\"],[1.0,\"#f0f921\"]],\"sequentialminus\":[[0.0,\"#0d0887\"],[0.1111111111111111,\"#46039f\"],[0.2222222222222222,\"#7201a8\"],[0.3333333333333333,\"#9c179e\"],[0.4444444444444444,\"#bd3786\"],[0.5555555555555556,\"#d8576b\"],[0.6666666666666666,\"#ed7953\"],[0.7777777777777778,\"#fb9f3a\"],[0.8888888888888888,\"#fdca26\"],[1.0,\"#f0f921\"]],\"diverging\":[[0,\"#8e0152\"],[0.1,\"#c51b7d\"],[0.2,\"#de77ae\"],[0.3,\"#f1b6da\"],[0.4,\"#fde0ef\"],[0.5,\"#f7f7f7\"],[0.6,\"#e6f5d0\"],[0.7,\"#b8e186\"],[0.8,\"#7fbc41\"],[0.9,\"#4d9221\"],[1,\"#276419\"]]},\"xaxis\":{\"gridcolor\":\"#EBF0F8\",\"linecolor\":\"#EBF0F8\",\"ticks\":\"\",\"title\":{\"standoff\":15},\"zerolinecolor\":\"#EBF0F8\",\"automargin\":true,\"zerolinewidth\":2},\"yaxis\":{\"gridcolor\":\"#EBF0F8\",\"linecolor\":\"#EBF0F8\",\"ticks\":\"\",\"title\":{\"standoff\":15},\"zerolinecolor\":\"#EBF0F8\",\"automargin\":true,\"zerolinewidth\":2},\"scene\":{\"xaxis\":{\"backgroundcolor\":\"white\",\"gridcolor\":\"#DFE8F3\",\"linecolor\":\"#EBF0F8\",\"showbackground\":true,\"ticks\":\"\",\"zerolinecolor\":\"#EBF0F8\",\"gridwidth\":2},\"yaxis\":{\"backgroundcolor\":\"white\",\"gridcolor\":\"#DFE8F3\",\"linecolor\":\"#EBF0F8\",\"showbackground\":true,\"ticks\":\"\",\"zerolinecolor\":\"#EBF0F8\",\"gridwidth\":2},\"zaxis\":{\"backgroundcolor\":\"white\",\"gridcolor\":\"#DFE8F3\",\"linecolor\":\"#EBF0F8\",\"showbackground\":true,\"ticks\":\"\",\"zerolinecolor\":\"#EBF0F8\",\"gridwidth\":2}},\"shapedefaults\":{\"line\":{\"color\":\"#2a3f5f\"}},\"annotationdefaults\":{\"arrowcolor\":\"#2a3f5f\",\"arrowhead\":0,\"arrowwidth\":1},\"geo\":{\"bgcolor\":\"white\",\"landcolor\":\"white\",\"subunitcolor\":\"#C8D4E3\",\"showland\":true,\"showlakes\":true,\"lakecolor\":\"white\"},\"title\":{\"x\":0.05},\"mapbox\":{\"style\":\"light\"},\"legend\":{\"tracegroupgap\":0},\"width\":700,\"height\":400,\"autosize\":false}},\"xaxis\":{\"anchor\":\"y\",\"domain\":[0.0,1.0],\"title\":{\"text\":\"baz\"}},\"yaxis\":{\"anchor\":\"x\",\"domain\":[0.0,1.0],\"title\":{\"text\":\"bar\"},\"range\":[-0.04518282417155635,1.0435663722916135]},\"legend\":{\"title\":{},\"tracegroupgap\":0},\"margin\":{\"t\":60},\"updatemenus\":[{\"buttons\":[{\"args\":[null,{\"frame\":{\"duration\":500.0,\"redraw\":false},\"mode\":\"immediate\",\"fromcurrent\":true,\"transition\":{\"duration\":0,\"easing\":\"linear\"}}],\"label\":\"&#9654;\",\"method\":\"animate\"},{\"args\":[[null],{\"frame\":{\"duration\":0,\"redraw\":false},\"mode\":\"immediate\",\"fromcurrent\":true,\"transition\":{\"duration\":0,\"easing\":\"linear\"}}],\"label\":\"&#9724;\",\"method\":\"animate\"}],\"direction\":\"left\",\"pad\":{\"r\":10,\"t\":70},\"showactive\":false,\"type\":\"buttons\",\"x\":0.1,\"xanchor\":\"right\",\"y\":0,\"yanchor\":\"top\"}],\"sliders\":[{\"active\":2,\"currentvalue\":{\"prefix\":\"bing=\"},\"len\":0.9,\"pad\":{\"b\":10,\"t\":60},\"steps\":[{\"args\":[[\"0.0\"],{\"frame\":{\"duration\":0,\"redraw\":false},\"mode\":\"immediate\",\"fromcurrent\":true,\"transition\":{\"duration\":0,\"easing\":\"linear\"}}],\"label\":\"0.0\",\"method\":\"animate\"},{\"args\":[[\"0.000123456\"],{\"frame\":{\"duration\":0,\"redraw\":false},\"mode\":\"immediate\",\"fromcurrent\":true,\"transition\":{\"duration\":0,\"easing\":\"linear\"}}],\"label\":\"0.12m\",\"method\":\"animate\"},{\"args\":[[\"0.000246912\"],{\"frame\":{\"duration\":0,\"redraw\":false},\"mode\":\"immediate\",\"fromcurrent\":true,\"transition\":{\"duration\":0,\"easing\":\"linear\"}}],\"label\":\"0.25m\",\"method\":\"animate\"},{\"args\":[[\"0.00037036800000000004\"],{\"frame\":{\"duration\":0,\"redraw\":false},\"mode\":\"immediate\",\"fromcurrent\":true,\"transition\":{\"duration\":0,\"easing\":\"linear\"}}],\"label\":\"0.37m\",\"method\":\"animate\"},{\"args\":[[\"0.000493824\"],{\"frame\":{\"duration\":0,\"redraw\":false},\"mode\":\"immediate\",\"fromcurrent\":true,\"transition\":{\"duration\":0,\"easing\":\"linear\"}}],\"label\":\"0.49m\",\"method\":\"animate\"},{\"args\":[[\"0.00061728\"],{\"frame\":{\"duration\":0,\"redraw\":false},\"mode\":\"immediate\",\"fromcurrent\":true,\"transition\":{\"duration\":0,\"easing\":\"linear\"}}],\"label\":\"0.62m\",\"method\":\"animate\"}],\"x\":0.1,\"xanchor\":\"left\",\"y\":0,\"yanchor\":\"top\"}]},                        {\"responsive\": true}                    ).then(function(){\n",
       "                            Plotly.addFrames('fd286476-3cad-47fb-a90f-b4c00c13b6e0', [{\"data\":[{\"hovertemplate\":\"foo=aaaaaaaaaaaaaaaaaa\\u003cbr\\u003ebing=0.0\\u003cbr\\u003ebaz=%{x}\\u003cbr\\u003ebar=%{y}\\u003cextra\\u003e\\u003c\\u002fextra\\u003e\",\"legendgroup\":\"aaaaaaaaaaaaaaaaaa\",\"line\":{\"color\":\"#2fa1da\",\"dash\":\"solid\"},\"marker\":{\"symbol\":\"circle\"},\"mode\":\"lines\",\"name\":\"aaaaaaaaaaaaaaaaaa\",\"orientation\":\"v\",\"showlegend\":true,\"x\":[0,1,2,3,4],\"xaxis\":\"x\",\"y\":[0.1919211614110854,0.8351257910807337,0.6422524185679935,0.26603087262166525,0.050535988650057706],\"yaxis\":\"y\",\"type\":\"scatter\"},{\"hovertemplate\":\"foo=b\\u003cbr\\u003ebing=0.0\\u003cbr\\u003ebaz=%{x}\\u003cbr\\u003ebar=%{y}\\u003cextra\\u003e\\u003c\\u002fextra\\u003e\",\"legendgroup\":\"b\",\"line\":{\"color\":\"#fb4f2f\",\"dash\":\"solid\"},\"marker\":{\"symbol\":\"circle\"},\"mode\":\"lines\",\"name\":\"b\",\"orientation\":\"v\",\"showlegend\":true,\"x\":[0,1,2,3,4],\"xaxis\":\"x\",\"y\":[0.17546224657908782,0.21307493439900238,0.6904019545155015,0.27413439368860837,0.8674235394825837],\"yaxis\":\"y\",\"type\":\"scatter\"},{\"hovertemplate\":\"foo=c\\u003cbr\\u003ebing=0.0\\u003cbr\\u003ebaz=%{x}\\u003cbr\\u003ebar=%{y}\\u003cextra\\u003e\\u003c\\u002fextra\\u003e\",\"legendgroup\":\"c\",\"line\":{\"color\":\"#e4ae38\",\"dash\":\"solid\"},\"marker\":{\"symbol\":\"circle\"},\"mode\":\"lines\",\"name\":\"c\",\"orientation\":\"v\",\"showlegend\":true,\"x\":[0,1,2,3,4],\"xaxis\":\"x\",\"y\":[0.8119882015105448,0.004305775667678646,0.982987171535907,0.2547283501174674,0.3058002287385674],\"yaxis\":\"y\",\"type\":\"scatter\"}],\"name\":\"0.0\"},{\"data\":[{\"hovertemplate\":\"foo=aaaaaaaaaaaaaaaaaa\\u003cbr\\u003ebing=0.000123456\\u003cbr\\u003ebaz=%{x}\\u003cbr\\u003ebar=%{y}\\u003cextra\\u003e\\u003c\\u002fextra\\u003e\",\"legendgroup\":\"aaaaaaaaaaaaaaaaaa\",\"line\":{\"color\":\"#2fa1da\",\"dash\":\"solid\"},\"marker\":{\"symbol\":\"circle\"},\"mode\":\"lines\",\"name\":\"aaaaaaaaaaaaaaaaaa\",\"orientation\":\"v\",\"showlegend\":true,\"x\":[0,1,2,3,4],\"xaxis\":\"x\",\"y\":[0.26471171061953735,0.571167362055741,0.41184344030097375,0.13503809605623607,0.6189163811735259],\"yaxis\":\"y\",\"type\":\"scatter\"},{\"hovertemplate\":\"foo=b\\u003cbr\\u003ebing=0.000123456\\u003cbr\\u003ebaz=%{x}\\u003cbr\\u003ebar=%{y}\\u003cextra\\u003e\\u003c\\u002fextra\\u003e\",\"legendgroup\":\"b\",\"line\":{\"color\":\"#fb4f2f\",\"dash\":\"solid\"},\"marker\":{\"symbol\":\"circle\"},\"mode\":\"lines\",\"name\":\"b\",\"orientation\":\"v\",\"showlegend\":true,\"x\":[0,1,2,3,4],\"xaxis\":\"x\",\"y\":[0.9132851837019758,0.9940777724523785,0.4033544032491283,0.9437983681037112,0.7599668837007301],\"yaxis\":\"y\",\"type\":\"scatter\"},{\"hovertemplate\":\"foo=c\\u003cbr\\u003ebing=0.000123456\\u003cbr\\u003ebaz=%{x}\\u003cbr\\u003ebar=%{y}\\u003cextra\\u003e\\u003c\\u002fextra\\u003e\",\"legendgroup\":\"c\",\"line\":{\"color\":\"#e4ae38\",\"dash\":\"solid\"},\"marker\":{\"symbol\":\"circle\"},\"mode\":\"lines\",\"name\":\"c\",\"orientation\":\"v\",\"showlegend\":true,\"x\":[0,1,2,3,4],\"xaxis\":\"x\",\"y\":[0.14005540468949063,0.038644309826884604,0.9233469677258123,0.40204779815706937,0.12829325851112017],\"yaxis\":\"y\",\"type\":\"scatter\"}],\"name\":\"0.000123456\"},{\"data\":[{\"hovertemplate\":\"foo=aaaaaaaaaaaaaaaaaa\\u003cbr\\u003ebing=0.000246912\\u003cbr\\u003ebaz=%{x}\\u003cbr\\u003ebar=%{y}\\u003cextra\\u003e\\u003c\\u002fextra\\u003e\",\"legendgroup\":\"aaaaaaaaaaaaaaaaaa\",\"line\":{\"color\":\"#2fa1da\",\"dash\":\"solid\"},\"marker\":{\"symbol\":\"circle\"},\"mode\":\"lines\",\"name\":\"aaaaaaaaaaaaaaaaaa\",\"orientation\":\"v\",\"showlegend\":true,\"x\":[0,1,2,3,4],\"xaxis\":\"x\",\"y\":[0.6777086144544695,0.20799807370846057,0.24587558700505863,0.22468947454587374,0.7808383545190479],\"yaxis\":\"y\",\"type\":\"scatter\"},{\"hovertemplate\":\"foo=b\\u003cbr\\u003ebing=0.000246912\\u003cbr\\u003ebaz=%{x}\\u003cbr\\u003ebar=%{y}\\u003cextra\\u003e\\u003c\\u002fextra\\u003e\",\"legendgroup\":\"b\",\"line\":{\"color\":\"#fb4f2f\",\"dash\":\"solid\"},\"marker\":{\"symbol\":\"circle\"},\"mode\":\"lines\",\"name\":\"b\",\"orientation\":\"v\",\"showlegend\":true,\"x\":[0,1,2,3,4],\"xaxis\":\"x\",\"y\":[0.8144738760309339,0.5189146424870842,0.7298152463028666,0.8466710505082435,0.9385114589610658],\"yaxis\":\"y\",\"type\":\"scatter\"},{\"hovertemplate\":\"foo=c\\u003cbr\\u003ebing=0.000246912\\u003cbr\\u003ebaz=%{x}\\u003cbr\\u003ebar=%{y}\\u003cextra\\u003e\\u003c\\u002fextra\\u003e\",\"legendgroup\":\"c\",\"line\":{\"color\":\"#e4ae38\",\"dash\":\"solid\"},\"marker\":{\"symbol\":\"circle\"},\"mode\":\"lines\",\"name\":\"c\",\"orientation\":\"v\",\"showlegend\":true,\"x\":[0,1,2,3,4],\"xaxis\":\"x\",\"y\":[0.235256388415645,0.8099407364448706,0.7545731382181347,0.39919530265779046,0.728374965746409],\"yaxis\":\"y\",\"type\":\"scatter\"}],\"name\":\"0.000246912\"},{\"data\":[{\"hovertemplate\":\"foo=aaaaaaaaaaaaaaaaaa\\u003cbr\\u003ebing=0.00037036800000000004\\u003cbr\\u003ebaz=%{x}\\u003cbr\\u003ebar=%{y}\\u003cextra\\u003e\\u003c\\u002fextra\\u003e\",\"legendgroup\":\"aaaaaaaaaaaaaaaaaa\",\"line\":{\"color\":\"#2fa1da\",\"dash\":\"solid\"},\"marker\":{\"symbol\":\"circle\"},\"mode\":\"lines\",\"name\":\"aaaaaaaaaaaaaaaaaa\",\"orientation\":\"v\",\"showlegend\":true,\"x\":[0,1,2,3,4],\"xaxis\":\"x\",\"y\":[0.27620736345656605,0.08904200507505322,0.09778799744544309,0.03511681110966658,0.4412227484805581],\"yaxis\":\"y\",\"type\":\"scatter\"},{\"hovertemplate\":\"foo=b\\u003cbr\\u003ebing=0.00037036800000000004\\u003cbr\\u003ebaz=%{x}\\u003cbr\\u003ebar=%{y}\\u003cextra\\u003e\\u003c\\u002fextra\\u003e\",\"legendgroup\":\"b\",\"line\":{\"color\":\"#fb4f2f\",\"dash\":\"solid\"},\"marker\":{\"symbol\":\"circle\"},\"mode\":\"lines\",\"name\":\"b\",\"orientation\":\"v\",\"showlegend\":true,\"x\":[0,1,2,3,4],\"xaxis\":\"x\",\"y\":[0.9645188861392017,0.3952346537588943,0.468231405693584,0.16194157024963118,0.8766781387517029],\"yaxis\":\"y\",\"type\":\"scatter\"},{\"hovertemplate\":\"foo=c\\u003cbr\\u003ebing=0.00037036800000000004\\u003cbr\\u003ebaz=%{x}\\u003cbr\\u003ebar=%{y}\\u003cextra\\u003e\\u003c\\u002fextra\\u003e\",\"legendgroup\":\"c\",\"line\":{\"color\":\"#e4ae38\",\"dash\":\"solid\"},\"marker\":{\"symbol\":\"circle\"},\"mode\":\"lines\",\"name\":\"c\",\"orientation\":\"v\",\"showlegend\":true,\"x\":[0,1,2,3,4],\"xaxis\":\"x\",\"y\":[0.2645976053461583,0.7470758006298863,0.20056247132155403,0.63925034035617,0.527457630072559],\"yaxis\":\"y\",\"type\":\"scatter\"}],\"name\":\"0.00037036800000000004\"},{\"data\":[{\"hovertemplate\":\"foo=aaaaaaaaaaaaaaaaaa\\u003cbr\\u003ebing=0.000493824\\u003cbr\\u003ebaz=%{x}\\u003cbr\\u003ebar=%{y}\\u003cextra\\u003e\\u003c\\u002fextra\\u003e\",\"legendgroup\":\"aaaaaaaaaaaaaaaaaa\",\"line\":{\"color\":\"#2fa1da\",\"dash\":\"solid\"},\"marker\":{\"symbol\":\"circle\"},\"mode\":\"lines\",\"name\":\"aaaaaaaaaaaaaaaaaa\",\"orientation\":\"v\",\"showlegend\":true,\"x\":[0,1,2,3,4],\"xaxis\":\"x\",\"y\":[0.4299570499000478,0.37154320840636157,0.18537527280248567,0.782905274171724,0.7447709278167541],\"yaxis\":\"y\",\"type\":\"scatter\"},{\"hovertemplate\":\"foo=b\\u003cbr\\u003ebing=0.000493824\\u003cbr\\u003ebaz=%{x}\\u003cbr\\u003ebar=%{y}\\u003cextra\\u003e\\u003c\\u002fextra\\u003e\",\"legendgroup\":\"b\",\"line\":{\"color\":\"#fb4f2f\",\"dash\":\"solid\"},\"marker\":{\"symbol\":\"circle\"},\"mode\":\"lines\",\"name\":\"b\",\"orientation\":\"v\",\"showlegend\":true,\"x\":[0,1,2,3,4],\"xaxis\":\"x\",\"y\":[0.4325155932423661,0.18883642047563898,0.4638281104628762,0.21093438848871293,0.8205059438586041],\"yaxis\":\"y\",\"type\":\"scatter\"},{\"hovertemplate\":\"foo=c\\u003cbr\\u003ebing=0.000493824\\u003cbr\\u003ebaz=%{x}\\u003cbr\\u003ebar=%{y}\\u003cextra\\u003e\\u003c\\u002fextra\\u003e\",\"legendgroup\":\"c\",\"line\":{\"color\":\"#e4ae38\",\"dash\":\"solid\"},\"marker\":{\"symbol\":\"circle\"},\"mode\":\"lines\",\"name\":\"c\",\"orientation\":\"v\",\"showlegend\":true,\"x\":[0,1,2,3,4],\"xaxis\":\"x\",\"y\":[0.25303474992968356,0.19549582739658733,0.28942970750806496,0.9173955892661422,0.749352861699006],\"yaxis\":\"y\",\"type\":\"scatter\"}],\"name\":\"0.000493824\"},{\"data\":[{\"hovertemplate\":\"foo=aaaaaaaaaaaaaaaaaa\\u003cbr\\u003ebing=0.00061728\\u003cbr\\u003ebaz=%{x}\\u003cbr\\u003ebar=%{y}\\u003cextra\\u003e\\u003c\\u002fextra\\u003e\",\"legendgroup\":\"aaaaaaaaaaaaaaaaaa\",\"line\":{\"color\":\"#2fa1da\",\"dash\":\"solid\"},\"marker\":{\"symbol\":\"circle\"},\"mode\":\"lines\",\"name\":\"aaaaaaaaaaaaaaaaaa\",\"orientation\":\"v\",\"showlegend\":true,\"x\":[0,1,2,3,4],\"xaxis\":\"x\",\"y\":[0.7757910864370905,0.41004878691499425,0.7960604476258709,0.8509971200521644,0.28785487604815396],\"yaxis\":\"y\",\"type\":\"scatter\"},{\"hovertemplate\":\"foo=b\\u003cbr\\u003ebing=0.00061728\\u003cbr\\u003ebaz=%{x}\\u003cbr\\u003ebar=%{y}\\u003cextra\\u003e\\u003c\\u002fextra\\u003e\",\"legendgroup\":\"b\",\"line\":{\"color\":\"#fb4f2f\",\"dash\":\"solid\"},\"marker\":{\"symbol\":\"circle\"},\"mode\":\"lines\",\"name\":\"b\",\"orientation\":\"v\",\"showlegend\":true,\"x\":[0,1,2,3,4],\"xaxis\":\"x\",\"y\":[0.7718493432291552,0.47941707480589113,0.9076048913904824,0.8483807540610809,0.11784390090583108],\"yaxis\":\"y\",\"type\":\"scatter\"},{\"hovertemplate\":\"foo=c\\u003cbr\\u003ebing=0.00061728\\u003cbr\\u003ebaz=%{x}\\u003cbr\\u003ebar=%{y}\\u003cextra\\u003e\\u003c\\u002fextra\\u003e\",\"legendgroup\":\"c\",\"line\":{\"color\":\"#e4ae38\",\"dash\":\"solid\"},\"marker\":{\"symbol\":\"circle\"},\"mode\":\"lines\",\"name\":\"c\",\"orientation\":\"v\",\"showlegend\":true,\"x\":[0,1,2,3,4],\"xaxis\":\"x\",\"y\":[0.37831801422378564,0.861814417816014,0.8027206052883656,0.22766114679921412,0.23833852936206013],\"yaxis\":\"y\",\"type\":\"scatter\"}],\"name\":\"0.00061728\"}]);\n",
       "                        }).then(function(){\n",
       "                            \n",
       "var gd = document.getElementById('fd286476-3cad-47fb-a90f-b4c00c13b6e0');\n",
       "var x = new MutationObserver(function (mutations, observer) {{\n",
       "        var display = window.getComputedStyle(gd).display;\n",
       "        if (!display || display === 'none') {{\n",
       "            console.log([gd, 'removed!']);\n",
       "            Plotly.purge(gd);\n",
       "            observer.disconnect();\n",
       "        }}\n",
       "}});\n",
       "\n",
       "// Listen for the removal of the full notebook cells\n",
       "var notebookContainer = gd.closest('#notebook-container');\n",
       "if (notebookContainer) {{\n",
       "    x.observe(notebookContainer, {childList: true});\n",
       "}}\n",
       "\n",
       "// Listen for the clearing of the current output cell\n",
       "var outputEl = gd.closest('.output');\n",
       "if (outputEl) {{\n",
       "    x.observe(outputEl, {childList: true});\n",
       "}}\n",
       "\n",
       "                        })                };                });            </script>        </div>"
      ]
     },
     "metadata": {},
     "output_type": "display_data"
    }
   ],
   "source": [
    "#|hide\n",
    "plotly_dataarray(U5.array)"
   ]
  },
  {
   "cell_type": "markdown",
   "metadata": {},
   "source": [
    "### visualize -"
   ]
  },
  {
   "cell_type": "code",
   "execution_count": null,
   "metadata": {},
   "outputs": [],
   "source": [
    "#| export\n",
    "## Could put plotting hints in the attrs of the coordinates inside the model\n",
    "@patch\n",
    "@delegates(plotly_dataarray)\n",
    "def visualize(self:XarrayVectorArray, **kwargs):\n",
    "    \"\"\"Visualize the data contained in the `XarrayVectorArray`.\n",
    "    Put the first dimension with numerical coordinates on the x axis, and include a scrubber if there is a second numerical dimension.\n",
    "    Atomic velocity is prioritized to be on the x axis, time is prioritized to be on the scrubber.\n",
    "    Put categorical dimensions in the legend. If the data are complex, add the real and imaginary parts as a categorical dimension.\n",
    "    If there are no numerical dimensions, plot the categorical dimension(s) as a horizontal bar plot.\n",
    "    \"\"\"\n",
    "    return plotly_dataarray(self.array, **kwargs)"
   ]
  },
  {
   "cell_type": "code",
   "execution_count": null,
   "metadata": {},
   "outputs": [],
   "source": [
    "space = XarrayVectorSpace(coords={'foo': ['aaaaaaaaaaaaaaaaaa', 'b', 'c']})\n",
    "U1 = space.random(name='bar')\n",
    "U2 = 1j * space.random(name='bar')\n",
    "U3 = space.random({'baz': np.arange(5)}, name='bar')\n",
    "U4 = 1j * space.random({'baz': np.arange(5)}, name='bar')\n",
    "U5 = space.random({'baz': np.arange(5), 'bing': .000123456 * np.linspace(0, 5, 6)}, name='bar')"
   ]
  },
  {
   "cell_type": "code",
   "execution_count": null,
   "metadata": {},
   "outputs": [
    {
     "data": {
      "application/vnd.plotly.v1+json": {
       "config": {
        "plotlyServerURL": "https://plot.ly"
       },
       "data": [
        {
         "alignmentgroup": "True",
         "hovertemplate": "bar=%{x}<br>foo=%{y}<extra></extra>",
         "legendgroup": "",
         "marker": {
          "color": "#2fa1da",
          "pattern": {
           "shape": ""
          }
         },
         "name": "",
         "offsetgroup": "",
         "orientation": "h",
         "showlegend": false,
         "textposition": "auto",
         "type": "bar",
         "x": [
          0.5028749369803532,
          0.5052769222930958,
          0.5826443493145376
         ],
         "xaxis": "x",
         "y": [
          "aaaaaaaaaaaaaaaaaa",
          "b",
          "c"
         ],
         "yaxis": "y"
        }
       ],
       "layout": {
        "barmode": "relative",
        "height": 360,
        "legend": {
         "title": {},
         "tracegroupgap": 0
        },
        "margin": {
         "t": 60
        },
        "template": {
         "data": {
          "bar": [
           {
            "error_x": {
             "color": "#2a3f5f"
            },
            "error_y": {
             "color": "#2a3f5f"
            },
            "marker": {
             "line": {
              "color": "white",
              "width": 0.5
             },
             "pattern": {
              "fillmode": "overlay",
              "size": 10,
              "solidity": 0.2
             }
            },
            "type": "bar"
           }
          ],
          "barpolar": [
           {
            "marker": {
             "line": {
              "color": "white",
              "width": 0.5
             },
             "pattern": {
              "fillmode": "overlay",
              "size": 10,
              "solidity": 0.2
             }
            },
            "type": "barpolar"
           }
          ],
          "carpet": [
           {
            "aaxis": {
             "endlinecolor": "#2a3f5f",
             "gridcolor": "#C8D4E3",
             "linecolor": "#C8D4E3",
             "minorgridcolor": "#C8D4E3",
             "startlinecolor": "#2a3f5f"
            },
            "baxis": {
             "endlinecolor": "#2a3f5f",
             "gridcolor": "#C8D4E3",
             "linecolor": "#C8D4E3",
             "minorgridcolor": "#C8D4E3",
             "startlinecolor": "#2a3f5f"
            },
            "type": "carpet"
           }
          ],
          "choropleth": [
           {
            "colorbar": {
             "outlinewidth": 0,
             "ticks": ""
            },
            "type": "choropleth"
           }
          ],
          "contour": [
           {
            "colorbar": {
             "outlinewidth": 0,
             "ticks": ""
            },
            "colorscale": [
             [
              0,
              "#0d0887"
             ],
             [
              0.1111111111111111,
              "#46039f"
             ],
             [
              0.2222222222222222,
              "#7201a8"
             ],
             [
              0.3333333333333333,
              "#9c179e"
             ],
             [
              0.4444444444444444,
              "#bd3786"
             ],
             [
              0.5555555555555556,
              "#d8576b"
             ],
             [
              0.6666666666666666,
              "#ed7953"
             ],
             [
              0.7777777777777778,
              "#fb9f3a"
             ],
             [
              0.8888888888888888,
              "#fdca26"
             ],
             [
              1,
              "#f0f921"
             ]
            ],
            "type": "contour"
           }
          ],
          "contourcarpet": [
           {
            "colorbar": {
             "outlinewidth": 0,
             "ticks": ""
            },
            "type": "contourcarpet"
           }
          ],
          "heatmap": [
           {
            "colorbar": {
             "outlinewidth": 0,
             "ticks": ""
            },
            "colorscale": [
             [
              0,
              "#0d0887"
             ],
             [
              0.1111111111111111,
              "#46039f"
             ],
             [
              0.2222222222222222,
              "#7201a8"
             ],
             [
              0.3333333333333333,
              "#9c179e"
             ],
             [
              0.4444444444444444,
              "#bd3786"
             ],
             [
              0.5555555555555556,
              "#d8576b"
             ],
             [
              0.6666666666666666,
              "#ed7953"
             ],
             [
              0.7777777777777778,
              "#fb9f3a"
             ],
             [
              0.8888888888888888,
              "#fdca26"
             ],
             [
              1,
              "#f0f921"
             ]
            ],
            "type": "heatmap"
           }
          ],
          "heatmapgl": [
           {
            "colorbar": {
             "outlinewidth": 0,
             "ticks": ""
            },
            "colorscale": [
             [
              0,
              "#0d0887"
             ],
             [
              0.1111111111111111,
              "#46039f"
             ],
             [
              0.2222222222222222,
              "#7201a8"
             ],
             [
              0.3333333333333333,
              "#9c179e"
             ],
             [
              0.4444444444444444,
              "#bd3786"
             ],
             [
              0.5555555555555556,
              "#d8576b"
             ],
             [
              0.6666666666666666,
              "#ed7953"
             ],
             [
              0.7777777777777778,
              "#fb9f3a"
             ],
             [
              0.8888888888888888,
              "#fdca26"
             ],
             [
              1,
              "#f0f921"
             ]
            ],
            "type": "heatmapgl"
           }
          ],
          "histogram": [
           {
            "marker": {
             "pattern": {
              "fillmode": "overlay",
              "size": 10,
              "solidity": 0.2
             }
            },
            "type": "histogram"
           }
          ],
          "histogram2d": [
           {
            "colorbar": {
             "outlinewidth": 0,
             "ticks": ""
            },
            "colorscale": [
             [
              0,
              "#0d0887"
             ],
             [
              0.1111111111111111,
              "#46039f"
             ],
             [
              0.2222222222222222,
              "#7201a8"
             ],
             [
              0.3333333333333333,
              "#9c179e"
             ],
             [
              0.4444444444444444,
              "#bd3786"
             ],
             [
              0.5555555555555556,
              "#d8576b"
             ],
             [
              0.6666666666666666,
              "#ed7953"
             ],
             [
              0.7777777777777778,
              "#fb9f3a"
             ],
             [
              0.8888888888888888,
              "#fdca26"
             ],
             [
              1,
              "#f0f921"
             ]
            ],
            "type": "histogram2d"
           }
          ],
          "histogram2dcontour": [
           {
            "colorbar": {
             "outlinewidth": 0,
             "ticks": ""
            },
            "colorscale": [
             [
              0,
              "#0d0887"
             ],
             [
              0.1111111111111111,
              "#46039f"
             ],
             [
              0.2222222222222222,
              "#7201a8"
             ],
             [
              0.3333333333333333,
              "#9c179e"
             ],
             [
              0.4444444444444444,
              "#bd3786"
             ],
             [
              0.5555555555555556,
              "#d8576b"
             ],
             [
              0.6666666666666666,
              "#ed7953"
             ],
             [
              0.7777777777777778,
              "#fb9f3a"
             ],
             [
              0.8888888888888888,
              "#fdca26"
             ],
             [
              1,
              "#f0f921"
             ]
            ],
            "type": "histogram2dcontour"
           }
          ],
          "mesh3d": [
           {
            "colorbar": {
             "outlinewidth": 0,
             "ticks": ""
            },
            "type": "mesh3d"
           }
          ],
          "parcoords": [
           {
            "line": {
             "colorbar": {
              "outlinewidth": 0,
              "ticks": ""
             }
            },
            "type": "parcoords"
           }
          ],
          "pie": [
           {
            "automargin": true,
            "type": "pie"
           }
          ],
          "scatter": [
           {
            "fillpattern": {
             "fillmode": "overlay",
             "size": 10,
             "solidity": 0.2
            },
            "type": "scatter"
           }
          ],
          "scatter3d": [
           {
            "line": {
             "colorbar": {
              "outlinewidth": 0,
              "ticks": ""
             }
            },
            "marker": {
             "colorbar": {
              "outlinewidth": 0,
              "ticks": ""
             }
            },
            "type": "scatter3d"
           }
          ],
          "scattercarpet": [
           {
            "marker": {
             "colorbar": {
              "outlinewidth": 0,
              "ticks": ""
             }
            },
            "type": "scattercarpet"
           }
          ],
          "scattergeo": [
           {
            "marker": {
             "colorbar": {
              "outlinewidth": 0,
              "ticks": ""
             }
            },
            "type": "scattergeo"
           }
          ],
          "scattergl": [
           {
            "marker": {
             "colorbar": {
              "outlinewidth": 0,
              "ticks": ""
             }
            },
            "type": "scattergl"
           }
          ],
          "scattermapbox": [
           {
            "marker": {
             "colorbar": {
              "outlinewidth": 0,
              "ticks": ""
             }
            },
            "type": "scattermapbox"
           }
          ],
          "scatterpolar": [
           {
            "marker": {
             "colorbar": {
              "outlinewidth": 0,
              "ticks": ""
             }
            },
            "type": "scatterpolar"
           }
          ],
          "scatterpolargl": [
           {
            "marker": {
             "colorbar": {
              "outlinewidth": 0,
              "ticks": ""
             }
            },
            "type": "scatterpolargl"
           }
          ],
          "scatterternary": [
           {
            "marker": {
             "colorbar": {
              "outlinewidth": 0,
              "ticks": ""
             }
            },
            "type": "scatterternary"
           }
          ],
          "surface": [
           {
            "colorbar": {
             "outlinewidth": 0,
             "ticks": ""
            },
            "colorscale": [
             [
              0,
              "#0d0887"
             ],
             [
              0.1111111111111111,
              "#46039f"
             ],
             [
              0.2222222222222222,
              "#7201a8"
             ],
             [
              0.3333333333333333,
              "#9c179e"
             ],
             [
              0.4444444444444444,
              "#bd3786"
             ],
             [
              0.5555555555555556,
              "#d8576b"
             ],
             [
              0.6666666666666666,
              "#ed7953"
             ],
             [
              0.7777777777777778,
              "#fb9f3a"
             ],
             [
              0.8888888888888888,
              "#fdca26"
             ],
             [
              1,
              "#f0f921"
             ]
            ],
            "type": "surface"
           }
          ],
          "table": [
           {
            "cells": {
             "fill": {
              "color": "#EBF0F8"
             },
             "line": {
              "color": "white"
             }
            },
            "header": {
             "fill": {
              "color": "#C8D4E3"
             },
             "line": {
              "color": "white"
             }
            },
            "type": "table"
           }
          ]
         },
         "layout": {
          "annotationdefaults": {
           "arrowcolor": "#2a3f5f",
           "arrowhead": 0,
           "arrowwidth": 1
          },
          "autosize": false,
          "autotypenumbers": "strict",
          "coloraxis": {
           "colorbar": {
            "outlinewidth": 0,
            "ticks": ""
           }
          },
          "colorscale": {
           "diverging": [
            [
             0,
             "#8e0152"
            ],
            [
             0.1,
             "#c51b7d"
            ],
            [
             0.2,
             "#de77ae"
            ],
            [
             0.3,
             "#f1b6da"
            ],
            [
             0.4,
             "#fde0ef"
            ],
            [
             0.5,
             "#f7f7f7"
            ],
            [
             0.6,
             "#e6f5d0"
            ],
            [
             0.7,
             "#b8e186"
            ],
            [
             0.8,
             "#7fbc41"
            ],
            [
             0.9,
             "#4d9221"
            ],
            [
             1,
             "#276419"
            ]
           ],
           "sequential": [
            [
             0,
             "#0d0887"
            ],
            [
             0.1111111111111111,
             "#46039f"
            ],
            [
             0.2222222222222222,
             "#7201a8"
            ],
            [
             0.3333333333333333,
             "#9c179e"
            ],
            [
             0.4444444444444444,
             "#bd3786"
            ],
            [
             0.5555555555555556,
             "#d8576b"
            ],
            [
             0.6666666666666666,
             "#ed7953"
            ],
            [
             0.7777777777777778,
             "#fb9f3a"
            ],
            [
             0.8888888888888888,
             "#fdca26"
            ],
            [
             1,
             "#f0f921"
            ]
           ],
           "sequentialminus": [
            [
             0,
             "#0d0887"
            ],
            [
             0.1111111111111111,
             "#46039f"
            ],
            [
             0.2222222222222222,
             "#7201a8"
            ],
            [
             0.3333333333333333,
             "#9c179e"
            ],
            [
             0.4444444444444444,
             "#bd3786"
            ],
            [
             0.5555555555555556,
             "#d8576b"
            ],
            [
             0.6666666666666666,
             "#ed7953"
            ],
            [
             0.7777777777777778,
             "#fb9f3a"
            ],
            [
             0.8888888888888888,
             "#fdca26"
            ],
            [
             1,
             "#f0f921"
            ]
           ]
          },
          "colorway": [
           "#2fa1da",
           "#fb4f2f",
           "#e4ae38",
           "#6d904f",
           "#8a8a8a",
           "#16bdcf",
           "#9367bc",
           "#d62628",
           "#1f77b3",
           "#e277c1",
           "#8c564b",
           "#bcbc21",
           "#3a0182",
           "#004200",
           "#0fffa8",
           "#5d003f",
           "#c6bcff",
           "#424f52",
           "#b80080",
           "#ffb6b3",
           "#7c0100",
           "#6026ff",
           "#ffff9a",
           "#aec8aa",
           "#00857c",
           "#543a00",
           "#93fbff",
           "#00bf00",
           "#7c00a0",
           "#aa7200",
           "#90ff00",
           "#01bd89",
           "#00447b",
           "#c8826e",
           "#ff1f82",
           "#dd00ff",
           "#057400",
           "#644460",
           "#878eff",
           "#ffb5f4",
           "#526236",
           "#cd85ff",
           "#676983",
           "#bdb3bd",
           "#a56089",
           "#95d3ff",
           "#0100f7",
           "#ff8001",
           "#8a2844",
           "#aca06d",
           "#52448a",
           "#c8ffd8",
           "#aa4600",
           "#ff798e",
           "#82d370",
           "#909ebf",
           "#9300f4",
           "#ebcf9a",
           "#ac8ab1",
           "#006249",
           "#ffdb00",
           "#877750",
           "#7eaaa3",
           "#000097",
           "#f400c6",
           "#643328",
           "#006677",
           "#03e2c8",
           "#a736ae",
           "#c4dbe1",
           "#4d6eff",
           "#9a9301",
           "#cd576b",
           "#efddfd",
           "#795900",
           "#5e879a",
           "#b3ff91",
           "#5d726b",
           "#520066",
           "#058750",
           "#831f6e",
           "#3b9505",
           "#647200",
           "#f0a06b",
           "#5e4f44",
           "#bc0049",
           "#cf6726",
           "#d695aa",
           "#895dff",
           "#826b75",
           "#2a54b8",
           "#6e7cba",
           "#e6d4d3",
           "#5d0018",
           "#7c3b01",
           "#80b17c",
           "#c8d87c",
           "#00e83b",
           "#7cb1ff",
           "#ff54ff",
           "#a32621",
           "#1ce4ff",
           "#7caf3b",
           "#7b4b90",
           "#dfff48",
           "#6b00c3",
           "#cda897",
           "#bd62c3",
           "#89cdcd",
           "#4603c8",
           "#5d9179",
           "#414901",
           "#05a79c",
           "#cf8c36",
           "#fff7cf",
           "#425470",
           "#b544ff",
           "#cf4993",
           "#cfa3df",
           "#93d400",
           "#a793da",
           "#2da557",
           "#8ce2b5",
           "#a3a89c",
           "#6b5bb6",
           "#ff7e5d",
           "#a78289",
           "#afbdd8",
           "#2ac3ff",
           "#a5673d",
           "#f690fd",
           "#874b64",
           "#ff0c4b",
           "#215d23",
           "#4291ff",
           "#87829c",
           "#672d44",
           "#b14f41",
           "#004d52",
           "#5e1a00",
           "#ac4167",
           "#4f3167",
           "#d6fffd",
           "#7eb5d1",
           "#a8b869",
           "#ff95ca",
           "#c87495",
           "#364f38",
           "#ffcf62",
           "#5d5762",
           "#879375",
           "#a877ff",
           "#03c862",
           "#e6bdd4",
           "#d4e2cf",
           "#876790",
           "#897c26",
           "#cddbff",
           "#aa676b",
           "#313474",
           "#ff5da8",
           "#009aaf",
           "#70ffdd",
           "#775b38",
           "#4f649a",
           "#cc00b3",
           "#567b54",
           "#506e7b",
           "#015e91",
           "#aabcbd",
           "#017e99",
           "#03dd97",
           "#873a2b",
           "#ef958e",
           "#75c6aa",
           "#70695d",
           "#ccdb08",
           "#af8556",
           "#d80075",
           "#9c3f80",
           "#d84400",
           "#dd6754",
           "#5eff79",
           "#d4b172",
           "#62265d",
           "#baa13d",
           "#d8f2b3",
           "#56018e",
           "#a19aaa",
           "#4d4926",
           "#a3a8ff",
           "#ace8db",
           "#995901",
           "#ac00e2",
           "#46822f",
           "#cac3ac",
           "#00c4b5",
           "#605277",
           "#336d67",
           "#a59180",
           "#8399a1",
           "#fd5664",
           "#7095d1",
           "#728c07",
           "#7e004b",
           "#152fa0",
           "#d1c1e2",
           "#c885cf",
           "#6b444b",
           "#7e0023",
           "#00a179",
           "#b1a8cf",
           "#f90000",
           "#afe8ff",
           "#939e4f",
           "#727982",
           "#d82d54",
           "#466001",
           "#0059ff",
           "#773fb5",
           "#ace460",
           "#674424",
           "#525d50",
           "#957267",
           "#a8e49a",
           "#a30057",
           "#d862f6",
           "#8e7ccf",
           "#ffbc93",
           "#a30091",
           "#9affb8",
           "#a7c1ff",
           "#f46200",
           "#e4efff",
           "#b89ca3",
           "#609593",
           "#ff9e34",
           "#8c2800",
           "#726b31",
           "#df824d",
           "#af7bd4",
           "#bc2d00",
           "#7b6ea3",
           "#484262",
           "#c6a3ff",
           "#004d28",
           "#c3c68e",
           "#df48d6",
           "#e6e864",
           "#e4c10a",
           "#00f4f0",
           "#9e5ba1",
           "#4b41b6",
           "#64338e",
           "#757e6b",
           "#a88936"
          ],
          "font": {
           "color": "#2a3f5f"
          },
          "geo": {
           "bgcolor": "white",
           "lakecolor": "white",
           "landcolor": "white",
           "showlakes": true,
           "showland": true,
           "subunitcolor": "#C8D4E3"
          },
          "height": 400,
          "hoverlabel": {
           "align": "left"
          },
          "hovermode": "closest",
          "legend": {
           "tracegroupgap": 0
          },
          "mapbox": {
           "style": "light"
          },
          "paper_bgcolor": "white",
          "plot_bgcolor": "white",
          "polar": {
           "angularaxis": {
            "gridcolor": "#EBF0F8",
            "linecolor": "#EBF0F8",
            "ticks": ""
           },
           "bgcolor": "white",
           "radialaxis": {
            "gridcolor": "#EBF0F8",
            "linecolor": "#EBF0F8",
            "ticks": ""
           }
          },
          "scene": {
           "xaxis": {
            "backgroundcolor": "white",
            "gridcolor": "#DFE8F3",
            "gridwidth": 2,
            "linecolor": "#EBF0F8",
            "showbackground": true,
            "ticks": "",
            "zerolinecolor": "#EBF0F8"
           },
           "yaxis": {
            "backgroundcolor": "white",
            "gridcolor": "#DFE8F3",
            "gridwidth": 2,
            "linecolor": "#EBF0F8",
            "showbackground": true,
            "ticks": "",
            "zerolinecolor": "#EBF0F8"
           },
           "zaxis": {
            "backgroundcolor": "white",
            "gridcolor": "#DFE8F3",
            "gridwidth": 2,
            "linecolor": "#EBF0F8",
            "showbackground": true,
            "ticks": "",
            "zerolinecolor": "#EBF0F8"
           }
          },
          "shapedefaults": {
           "line": {
            "color": "#2a3f5f"
           }
          },
          "ternary": {
           "aaxis": {
            "gridcolor": "#DFE8F3",
            "linecolor": "#A2B1C6",
            "ticks": ""
           },
           "baxis": {
            "gridcolor": "#DFE8F3",
            "linecolor": "#A2B1C6",
            "ticks": ""
           },
           "bgcolor": "white",
           "caxis": {
            "gridcolor": "#DFE8F3",
            "linecolor": "#A2B1C6",
            "ticks": ""
           }
          },
          "title": {
           "x": 0.05
          },
          "width": 700,
          "xaxis": {
           "automargin": true,
           "gridcolor": "#EBF0F8",
           "linecolor": "#EBF0F8",
           "ticks": "",
           "title": {
            "standoff": 15
           },
           "zerolinecolor": "#EBF0F8",
           "zerolinewidth": 2
          },
          "yaxis": {
           "automargin": true,
           "gridcolor": "#EBF0F8",
           "linecolor": "#EBF0F8",
           "ticks": "",
           "title": {
            "standoff": 15
           },
           "zerolinecolor": "#EBF0F8",
           "zerolinewidth": 2
          }
         }
        },
        "width": 700,
        "xaxis": {
         "anchor": "y",
         "autorange": true,
         "domain": [
          0,
          1
         ],
         "range": [
          0,
          0.6133098413837238
         ],
         "title": {
          "text": "bar"
         },
         "type": "linear"
        },
        "yaxis": {
         "anchor": "x",
         "autorange": true,
         "domain": [
          0,
          1
         ],
         "range": [
          -0.5,
          2.5
         ],
         "title": {
          "text": "foo"
         },
         "type": "category"
        }
       }
      },
      "text/html": [
       "<div>                            <div id=\"066baaa9-b428-451e-b18f-dfdbf7fccd1b\" class=\"plotly-graph-div\" style=\"height:400px; width:700px;\"></div>            <script type=\"text/javascript\">                require([\"plotly\"], function(Plotly) {                    window.PLOTLYENV=window.PLOTLYENV || {};                                    if (document.getElementById(\"066baaa9-b428-451e-b18f-dfdbf7fccd1b\")) {                    Plotly.newPlot(                        \"066baaa9-b428-451e-b18f-dfdbf7fccd1b\",                        [{\"alignmentgroup\":\"True\",\"hovertemplate\":\"bar=%{x}\\u003cbr\\u003efoo=%{y}\\u003cextra\\u003e\\u003c\\u002fextra\\u003e\",\"legendgroup\":\"\",\"marker\":{\"color\":\"#2fa1da\",\"pattern\":{\"shape\":\"\"}},\"name\":\"\",\"offsetgroup\":\"\",\"orientation\":\"h\",\"showlegend\":false,\"textposition\":\"auto\",\"x\":[0.5028749369803532,0.5052769222930958,0.5826443493145376],\"xaxis\":\"x\",\"y\":[\"aaaaaaaaaaaaaaaaaa\",\"b\",\"c\"],\"yaxis\":\"y\",\"type\":\"bar\"}],                        {\"template\":{\"data\":{\"histogram2dcontour\":[{\"type\":\"histogram2dcontour\",\"colorbar\":{\"outlinewidth\":0,\"ticks\":\"\"},\"colorscale\":[[0.0,\"#0d0887\"],[0.1111111111111111,\"#46039f\"],[0.2222222222222222,\"#7201a8\"],[0.3333333333333333,\"#9c179e\"],[0.4444444444444444,\"#bd3786\"],[0.5555555555555556,\"#d8576b\"],[0.6666666666666666,\"#ed7953\"],[0.7777777777777778,\"#fb9f3a\"],[0.8888888888888888,\"#fdca26\"],[1.0,\"#f0f921\"]]}],\"choropleth\":[{\"type\":\"choropleth\",\"colorbar\":{\"outlinewidth\":0,\"ticks\":\"\"}}],\"histogram2d\":[{\"type\":\"histogram2d\",\"colorbar\":{\"outlinewidth\":0,\"ticks\":\"\"},\"colorscale\":[[0.0,\"#0d0887\"],[0.1111111111111111,\"#46039f\"],[0.2222222222222222,\"#7201a8\"],[0.3333333333333333,\"#9c179e\"],[0.4444444444444444,\"#bd3786\"],[0.5555555555555556,\"#d8576b\"],[0.6666666666666666,\"#ed7953\"],[0.7777777777777778,\"#fb9f3a\"],[0.8888888888888888,\"#fdca26\"],[1.0,\"#f0f921\"]]}],\"heatmap\":[{\"type\":\"heatmap\",\"colorbar\":{\"outlinewidth\":0,\"ticks\":\"\"},\"colorscale\":[[0.0,\"#0d0887\"],[0.1111111111111111,\"#46039f\"],[0.2222222222222222,\"#7201a8\"],[0.3333333333333333,\"#9c179e\"],[0.4444444444444444,\"#bd3786\"],[0.5555555555555556,\"#d8576b\"],[0.6666666666666666,\"#ed7953\"],[0.7777777777777778,\"#fb9f3a\"],[0.8888888888888888,\"#fdca26\"],[1.0,\"#f0f921\"]]}],\"heatmapgl\":[{\"type\":\"heatmapgl\",\"colorbar\":{\"outlinewidth\":0,\"ticks\":\"\"},\"colorscale\":[[0.0,\"#0d0887\"],[0.1111111111111111,\"#46039f\"],[0.2222222222222222,\"#7201a8\"],[0.3333333333333333,\"#9c179e\"],[0.4444444444444444,\"#bd3786\"],[0.5555555555555556,\"#d8576b\"],[0.6666666666666666,\"#ed7953\"],[0.7777777777777778,\"#fb9f3a\"],[0.8888888888888888,\"#fdca26\"],[1.0,\"#f0f921\"]]}],\"contourcarpet\":[{\"type\":\"contourcarpet\",\"colorbar\":{\"outlinewidth\":0,\"ticks\":\"\"}}],\"contour\":[{\"type\":\"contour\",\"colorbar\":{\"outlinewidth\":0,\"ticks\":\"\"},\"colorscale\":[[0.0,\"#0d0887\"],[0.1111111111111111,\"#46039f\"],[0.2222222222222222,\"#7201a8\"],[0.3333333333333333,\"#9c179e\"],[0.4444444444444444,\"#bd3786\"],[0.5555555555555556,\"#d8576b\"],[0.6666666666666666,\"#ed7953\"],[0.7777777777777778,\"#fb9f3a\"],[0.8888888888888888,\"#fdca26\"],[1.0,\"#f0f921\"]]}],\"surface\":[{\"type\":\"surface\",\"colorbar\":{\"outlinewidth\":0,\"ticks\":\"\"},\"colorscale\":[[0.0,\"#0d0887\"],[0.1111111111111111,\"#46039f\"],[0.2222222222222222,\"#7201a8\"],[0.3333333333333333,\"#9c179e\"],[0.4444444444444444,\"#bd3786\"],[0.5555555555555556,\"#d8576b\"],[0.6666666666666666,\"#ed7953\"],[0.7777777777777778,\"#fb9f3a\"],[0.8888888888888888,\"#fdca26\"],[1.0,\"#f0f921\"]]}],\"mesh3d\":[{\"type\":\"mesh3d\",\"colorbar\":{\"outlinewidth\":0,\"ticks\":\"\"}}],\"scatter\":[{\"fillpattern\":{\"fillmode\":\"overlay\",\"size\":10,\"solidity\":0.2},\"type\":\"scatter\"}],\"parcoords\":[{\"type\":\"parcoords\",\"line\":{\"colorbar\":{\"outlinewidth\":0,\"ticks\":\"\"}}}],\"scatterpolargl\":[{\"type\":\"scatterpolargl\",\"marker\":{\"colorbar\":{\"outlinewidth\":0,\"ticks\":\"\"}}}],\"bar\":[{\"error_x\":{\"color\":\"#2a3f5f\"},\"error_y\":{\"color\":\"#2a3f5f\"},\"marker\":{\"line\":{\"color\":\"white\",\"width\":0.5},\"pattern\":{\"fillmode\":\"overlay\",\"size\":10,\"solidity\":0.2}},\"type\":\"bar\"}],\"scattergeo\":[{\"type\":\"scattergeo\",\"marker\":{\"colorbar\":{\"outlinewidth\":0,\"ticks\":\"\"}}}],\"scatterpolar\":[{\"type\":\"scatterpolar\",\"marker\":{\"colorbar\":{\"outlinewidth\":0,\"ticks\":\"\"}}}],\"histogram\":[{\"marker\":{\"pattern\":{\"fillmode\":\"overlay\",\"size\":10,\"solidity\":0.2}},\"type\":\"histogram\"}],\"scattergl\":[{\"type\":\"scattergl\",\"marker\":{\"colorbar\":{\"outlinewidth\":0,\"ticks\":\"\"}}}],\"scatter3d\":[{\"type\":\"scatter3d\",\"line\":{\"colorbar\":{\"outlinewidth\":0,\"ticks\":\"\"}},\"marker\":{\"colorbar\":{\"outlinewidth\":0,\"ticks\":\"\"}}}],\"scattermapbox\":[{\"type\":\"scattermapbox\",\"marker\":{\"colorbar\":{\"outlinewidth\":0,\"ticks\":\"\"}}}],\"scatterternary\":[{\"type\":\"scatterternary\",\"marker\":{\"colorbar\":{\"outlinewidth\":0,\"ticks\":\"\"}}}],\"scattercarpet\":[{\"type\":\"scattercarpet\",\"marker\":{\"colorbar\":{\"outlinewidth\":0,\"ticks\":\"\"}}}],\"carpet\":[{\"aaxis\":{\"endlinecolor\":\"#2a3f5f\",\"gridcolor\":\"#C8D4E3\",\"linecolor\":\"#C8D4E3\",\"minorgridcolor\":\"#C8D4E3\",\"startlinecolor\":\"#2a3f5f\"},\"baxis\":{\"endlinecolor\":\"#2a3f5f\",\"gridcolor\":\"#C8D4E3\",\"linecolor\":\"#C8D4E3\",\"minorgridcolor\":\"#C8D4E3\",\"startlinecolor\":\"#2a3f5f\"},\"type\":\"carpet\"}],\"table\":[{\"cells\":{\"fill\":{\"color\":\"#EBF0F8\"},\"line\":{\"color\":\"white\"}},\"header\":{\"fill\":{\"color\":\"#C8D4E3\"},\"line\":{\"color\":\"white\"}},\"type\":\"table\"}],\"barpolar\":[{\"marker\":{\"line\":{\"color\":\"white\",\"width\":0.5},\"pattern\":{\"fillmode\":\"overlay\",\"size\":10,\"solidity\":0.2}},\"type\":\"barpolar\"}],\"pie\":[{\"automargin\":true,\"type\":\"pie\"}]},\"layout\":{\"autotypenumbers\":\"strict\",\"colorway\":[\"#2fa1da\",\"#fb4f2f\",\"#e4ae38\",\"#6d904f\",\"#8a8a8a\",\"#16bdcf\",\"#9367bc\",\"#d62628\",\"#1f77b3\",\"#e277c1\",\"#8c564b\",\"#bcbc21\",\"#3a0182\",\"#004200\",\"#0fffa8\",\"#5d003f\",\"#c6bcff\",\"#424f52\",\"#b80080\",\"#ffb6b3\",\"#7c0100\",\"#6026ff\",\"#ffff9a\",\"#aec8aa\",\"#00857c\",\"#543a00\",\"#93fbff\",\"#00bf00\",\"#7c00a0\",\"#aa7200\",\"#90ff00\",\"#01bd89\",\"#00447b\",\"#c8826e\",\"#ff1f82\",\"#dd00ff\",\"#057400\",\"#644460\",\"#878eff\",\"#ffb5f4\",\"#526236\",\"#cd85ff\",\"#676983\",\"#bdb3bd\",\"#a56089\",\"#95d3ff\",\"#0100f7\",\"#ff8001\",\"#8a2844\",\"#aca06d\",\"#52448a\",\"#c8ffd8\",\"#aa4600\",\"#ff798e\",\"#82d370\",\"#909ebf\",\"#9300f4\",\"#ebcf9a\",\"#ac8ab1\",\"#006249\",\"#ffdb00\",\"#877750\",\"#7eaaa3\",\"#000097\",\"#f400c6\",\"#643328\",\"#006677\",\"#03e2c8\",\"#a736ae\",\"#c4dbe1\",\"#4d6eff\",\"#9a9301\",\"#cd576b\",\"#efddfd\",\"#795900\",\"#5e879a\",\"#b3ff91\",\"#5d726b\",\"#520066\",\"#058750\",\"#831f6e\",\"#3b9505\",\"#647200\",\"#f0a06b\",\"#5e4f44\",\"#bc0049\",\"#cf6726\",\"#d695aa\",\"#895dff\",\"#826b75\",\"#2a54b8\",\"#6e7cba\",\"#e6d4d3\",\"#5d0018\",\"#7c3b01\",\"#80b17c\",\"#c8d87c\",\"#00e83b\",\"#7cb1ff\",\"#ff54ff\",\"#a32621\",\"#1ce4ff\",\"#7caf3b\",\"#7b4b90\",\"#dfff48\",\"#6b00c3\",\"#cda897\",\"#bd62c3\",\"#89cdcd\",\"#4603c8\",\"#5d9179\",\"#414901\",\"#05a79c\",\"#cf8c36\",\"#fff7cf\",\"#425470\",\"#b544ff\",\"#cf4993\",\"#cfa3df\",\"#93d400\",\"#a793da\",\"#2da557\",\"#8ce2b5\",\"#a3a89c\",\"#6b5bb6\",\"#ff7e5d\",\"#a78289\",\"#afbdd8\",\"#2ac3ff\",\"#a5673d\",\"#f690fd\",\"#874b64\",\"#ff0c4b\",\"#215d23\",\"#4291ff\",\"#87829c\",\"#672d44\",\"#b14f41\",\"#004d52\",\"#5e1a00\",\"#ac4167\",\"#4f3167\",\"#d6fffd\",\"#7eb5d1\",\"#a8b869\",\"#ff95ca\",\"#c87495\",\"#364f38\",\"#ffcf62\",\"#5d5762\",\"#879375\",\"#a877ff\",\"#03c862\",\"#e6bdd4\",\"#d4e2cf\",\"#876790\",\"#897c26\",\"#cddbff\",\"#aa676b\",\"#313474\",\"#ff5da8\",\"#009aaf\",\"#70ffdd\",\"#775b38\",\"#4f649a\",\"#cc00b3\",\"#567b54\",\"#506e7b\",\"#015e91\",\"#aabcbd\",\"#017e99\",\"#03dd97\",\"#873a2b\",\"#ef958e\",\"#75c6aa\",\"#70695d\",\"#ccdb08\",\"#af8556\",\"#d80075\",\"#9c3f80\",\"#d84400\",\"#dd6754\",\"#5eff79\",\"#d4b172\",\"#62265d\",\"#baa13d\",\"#d8f2b3\",\"#56018e\",\"#a19aaa\",\"#4d4926\",\"#a3a8ff\",\"#ace8db\",\"#995901\",\"#ac00e2\",\"#46822f\",\"#cac3ac\",\"#00c4b5\",\"#605277\",\"#336d67\",\"#a59180\",\"#8399a1\",\"#fd5664\",\"#7095d1\",\"#728c07\",\"#7e004b\",\"#152fa0\",\"#d1c1e2\",\"#c885cf\",\"#6b444b\",\"#7e0023\",\"#00a179\",\"#b1a8cf\",\"#f90000\",\"#afe8ff\",\"#939e4f\",\"#727982\",\"#d82d54\",\"#466001\",\"#0059ff\",\"#773fb5\",\"#ace460\",\"#674424\",\"#525d50\",\"#957267\",\"#a8e49a\",\"#a30057\",\"#d862f6\",\"#8e7ccf\",\"#ffbc93\",\"#a30091\",\"#9affb8\",\"#a7c1ff\",\"#f46200\",\"#e4efff\",\"#b89ca3\",\"#609593\",\"#ff9e34\",\"#8c2800\",\"#726b31\",\"#df824d\",\"#af7bd4\",\"#bc2d00\",\"#7b6ea3\",\"#484262\",\"#c6a3ff\",\"#004d28\",\"#c3c68e\",\"#df48d6\",\"#e6e864\",\"#e4c10a\",\"#00f4f0\",\"#9e5ba1\",\"#4b41b6\",\"#64338e\",\"#757e6b\",\"#a88936\"],\"font\":{\"color\":\"#2a3f5f\"},\"hovermode\":\"closest\",\"hoverlabel\":{\"align\":\"left\"},\"paper_bgcolor\":\"white\",\"plot_bgcolor\":\"white\",\"polar\":{\"bgcolor\":\"white\",\"angularaxis\":{\"gridcolor\":\"#EBF0F8\",\"linecolor\":\"#EBF0F8\",\"ticks\":\"\"},\"radialaxis\":{\"gridcolor\":\"#EBF0F8\",\"linecolor\":\"#EBF0F8\",\"ticks\":\"\"}},\"ternary\":{\"bgcolor\":\"white\",\"aaxis\":{\"gridcolor\":\"#DFE8F3\",\"linecolor\":\"#A2B1C6\",\"ticks\":\"\"},\"baxis\":{\"gridcolor\":\"#DFE8F3\",\"linecolor\":\"#A2B1C6\",\"ticks\":\"\"},\"caxis\":{\"gridcolor\":\"#DFE8F3\",\"linecolor\":\"#A2B1C6\",\"ticks\":\"\"}},\"coloraxis\":{\"colorbar\":{\"outlinewidth\":0,\"ticks\":\"\"}},\"colorscale\":{\"sequential\":[[0.0,\"#0d0887\"],[0.1111111111111111,\"#46039f\"],[0.2222222222222222,\"#7201a8\"],[0.3333333333333333,\"#9c179e\"],[0.4444444444444444,\"#bd3786\"],[0.5555555555555556,\"#d8576b\"],[0.6666666666666666,\"#ed7953\"],[0.7777777777777778,\"#fb9f3a\"],[0.8888888888888888,\"#fdca26\"],[1.0,\"#f0f921\"]],\"sequentialminus\":[[0.0,\"#0d0887\"],[0.1111111111111111,\"#46039f\"],[0.2222222222222222,\"#7201a8\"],[0.3333333333333333,\"#9c179e\"],[0.4444444444444444,\"#bd3786\"],[0.5555555555555556,\"#d8576b\"],[0.6666666666666666,\"#ed7953\"],[0.7777777777777778,\"#fb9f3a\"],[0.8888888888888888,\"#fdca26\"],[1.0,\"#f0f921\"]],\"diverging\":[[0,\"#8e0152\"],[0.1,\"#c51b7d\"],[0.2,\"#de77ae\"],[0.3,\"#f1b6da\"],[0.4,\"#fde0ef\"],[0.5,\"#f7f7f7\"],[0.6,\"#e6f5d0\"],[0.7,\"#b8e186\"],[0.8,\"#7fbc41\"],[0.9,\"#4d9221\"],[1,\"#276419\"]]},\"xaxis\":{\"gridcolor\":\"#EBF0F8\",\"linecolor\":\"#EBF0F8\",\"ticks\":\"\",\"title\":{\"standoff\":15},\"zerolinecolor\":\"#EBF0F8\",\"automargin\":true,\"zerolinewidth\":2},\"yaxis\":{\"gridcolor\":\"#EBF0F8\",\"linecolor\":\"#EBF0F8\",\"ticks\":\"\",\"title\":{\"standoff\":15},\"zerolinecolor\":\"#EBF0F8\",\"automargin\":true,\"zerolinewidth\":2},\"scene\":{\"xaxis\":{\"backgroundcolor\":\"white\",\"gridcolor\":\"#DFE8F3\",\"linecolor\":\"#EBF0F8\",\"showbackground\":true,\"ticks\":\"\",\"zerolinecolor\":\"#EBF0F8\",\"gridwidth\":2},\"yaxis\":{\"backgroundcolor\":\"white\",\"gridcolor\":\"#DFE8F3\",\"linecolor\":\"#EBF0F8\",\"showbackground\":true,\"ticks\":\"\",\"zerolinecolor\":\"#EBF0F8\",\"gridwidth\":2},\"zaxis\":{\"backgroundcolor\":\"white\",\"gridcolor\":\"#DFE8F3\",\"linecolor\":\"#EBF0F8\",\"showbackground\":true,\"ticks\":\"\",\"zerolinecolor\":\"#EBF0F8\",\"gridwidth\":2}},\"shapedefaults\":{\"line\":{\"color\":\"#2a3f5f\"}},\"annotationdefaults\":{\"arrowcolor\":\"#2a3f5f\",\"arrowhead\":0,\"arrowwidth\":1},\"geo\":{\"bgcolor\":\"white\",\"landcolor\":\"white\",\"subunitcolor\":\"#C8D4E3\",\"showland\":true,\"showlakes\":true,\"lakecolor\":\"white\"},\"title\":{\"x\":0.05},\"mapbox\":{\"style\":\"light\"},\"legend\":{\"tracegroupgap\":0},\"width\":700,\"height\":400,\"autosize\":false}},\"xaxis\":{\"anchor\":\"y\",\"domain\":[0.0,1.0],\"title\":{\"text\":\"bar\"}},\"yaxis\":{\"anchor\":\"x\",\"domain\":[0.0,1.0],\"title\":{\"text\":\"foo\"}},\"legend\":{\"tracegroupgap\":0,\"title\":{}},\"margin\":{\"t\":60},\"barmode\":\"relative\"},                        {\"responsive\": true}                    ).then(function(){\n",
       "                            \n",
       "var gd = document.getElementById('066baaa9-b428-451e-b18f-dfdbf7fccd1b');\n",
       "var x = new MutationObserver(function (mutations, observer) {{\n",
       "        var display = window.getComputedStyle(gd).display;\n",
       "        if (!display || display === 'none') {{\n",
       "            console.log([gd, 'removed!']);\n",
       "            Plotly.purge(gd);\n",
       "            observer.disconnect();\n",
       "        }}\n",
       "}});\n",
       "\n",
       "// Listen for the removal of the full notebook cells\n",
       "var notebookContainer = gd.closest('#notebook-container');\n",
       "if (notebookContainer) {{\n",
       "    x.observe(notebookContainer, {childList: true});\n",
       "}}\n",
       "\n",
       "// Listen for the clearing of the current output cell\n",
       "var outputEl = gd.closest('.output');\n",
       "if (outputEl) {{\n",
       "    x.observe(outputEl, {childList: true});\n",
       "}}\n",
       "\n",
       "                        })                };                });            </script>        </div>"
      ]
     },
     "metadata": {},
     "output_type": "display_data"
    }
   ],
   "source": [
    "U1.visualize()"
   ]
  },
  {
   "cell_type": "code",
   "execution_count": null,
   "metadata": {},
   "outputs": [
    {
     "data": {
      "application/vnd.plotly.v1+json": {
       "config": {
        "plotlyServerURL": "https://plot.ly"
       },
       "data": [
        {
         "alignmentgroup": "True",
         "hovertemplate": "Part=Re<br>bar=%{x}<br>foo=%{y}<extra></extra>",
         "legendgroup": "Re",
         "marker": {
          "color": "#2fa1da",
          "pattern": {
           "shape": ""
          }
         },
         "name": "Re",
         "offsetgroup": "Re",
         "orientation": "h",
         "showlegend": true,
         "textposition": "auto",
         "type": "bar",
         "x": [
          0.5028749369803532,
          0.5052769222930958,
          0.5826443493145376
         ],
         "xaxis": "x",
         "y": [
          "aaaaaaaaaaaaaaaaaa",
          "b",
          "c"
         ],
         "yaxis": "y"
        },
        {
         "alignmentgroup": "True",
         "hovertemplate": "Part=Im<br>bar=%{x}<br>foo=%{y}<extra></extra>",
         "legendgroup": "Im",
         "marker": {
          "color": "#fb4f2f",
          "pattern": {
           "shape": ""
          }
         },
         "name": "Im",
         "offsetgroup": "Im",
         "orientation": "h",
         "showlegend": true,
         "textposition": "auto",
         "type": "bar",
         "x": [
          0.39510183754789086,
          0.7868913814500277,
          0.9131537503472078
         ],
         "xaxis": "x",
         "y": [
          "aaaaaaaaaaaaaaaaaa",
          "b",
          "c"
         ],
         "yaxis": "y"
        }
       ],
       "layout": {
        "barmode": "relative",
        "height": 360,
        "legend": {
         "title": {},
         "tracegroupgap": 0
        },
        "margin": {
         "t": 60
        },
        "template": {
         "data": {
          "bar": [
           {
            "error_x": {
             "color": "#2a3f5f"
            },
            "error_y": {
             "color": "#2a3f5f"
            },
            "marker": {
             "line": {
              "color": "white",
              "width": 0.5
             },
             "pattern": {
              "fillmode": "overlay",
              "size": 10,
              "solidity": 0.2
             }
            },
            "type": "bar"
           }
          ],
          "barpolar": [
           {
            "marker": {
             "line": {
              "color": "white",
              "width": 0.5
             },
             "pattern": {
              "fillmode": "overlay",
              "size": 10,
              "solidity": 0.2
             }
            },
            "type": "barpolar"
           }
          ],
          "carpet": [
           {
            "aaxis": {
             "endlinecolor": "#2a3f5f",
             "gridcolor": "#C8D4E3",
             "linecolor": "#C8D4E3",
             "minorgridcolor": "#C8D4E3",
             "startlinecolor": "#2a3f5f"
            },
            "baxis": {
             "endlinecolor": "#2a3f5f",
             "gridcolor": "#C8D4E3",
             "linecolor": "#C8D4E3",
             "minorgridcolor": "#C8D4E3",
             "startlinecolor": "#2a3f5f"
            },
            "type": "carpet"
           }
          ],
          "choropleth": [
           {
            "colorbar": {
             "outlinewidth": 0,
             "ticks": ""
            },
            "type": "choropleth"
           }
          ],
          "contour": [
           {
            "colorbar": {
             "outlinewidth": 0,
             "ticks": ""
            },
            "colorscale": [
             [
              0,
              "#0d0887"
             ],
             [
              0.1111111111111111,
              "#46039f"
             ],
             [
              0.2222222222222222,
              "#7201a8"
             ],
             [
              0.3333333333333333,
              "#9c179e"
             ],
             [
              0.4444444444444444,
              "#bd3786"
             ],
             [
              0.5555555555555556,
              "#d8576b"
             ],
             [
              0.6666666666666666,
              "#ed7953"
             ],
             [
              0.7777777777777778,
              "#fb9f3a"
             ],
             [
              0.8888888888888888,
              "#fdca26"
             ],
             [
              1,
              "#f0f921"
             ]
            ],
            "type": "contour"
           }
          ],
          "contourcarpet": [
           {
            "colorbar": {
             "outlinewidth": 0,
             "ticks": ""
            },
            "type": "contourcarpet"
           }
          ],
          "heatmap": [
           {
            "colorbar": {
             "outlinewidth": 0,
             "ticks": ""
            },
            "colorscale": [
             [
              0,
              "#0d0887"
             ],
             [
              0.1111111111111111,
              "#46039f"
             ],
             [
              0.2222222222222222,
              "#7201a8"
             ],
             [
              0.3333333333333333,
              "#9c179e"
             ],
             [
              0.4444444444444444,
              "#bd3786"
             ],
             [
              0.5555555555555556,
              "#d8576b"
             ],
             [
              0.6666666666666666,
              "#ed7953"
             ],
             [
              0.7777777777777778,
              "#fb9f3a"
             ],
             [
              0.8888888888888888,
              "#fdca26"
             ],
             [
              1,
              "#f0f921"
             ]
            ],
            "type": "heatmap"
           }
          ],
          "heatmapgl": [
           {
            "colorbar": {
             "outlinewidth": 0,
             "ticks": ""
            },
            "colorscale": [
             [
              0,
              "#0d0887"
             ],
             [
              0.1111111111111111,
              "#46039f"
             ],
             [
              0.2222222222222222,
              "#7201a8"
             ],
             [
              0.3333333333333333,
              "#9c179e"
             ],
             [
              0.4444444444444444,
              "#bd3786"
             ],
             [
              0.5555555555555556,
              "#d8576b"
             ],
             [
              0.6666666666666666,
              "#ed7953"
             ],
             [
              0.7777777777777778,
              "#fb9f3a"
             ],
             [
              0.8888888888888888,
              "#fdca26"
             ],
             [
              1,
              "#f0f921"
             ]
            ],
            "type": "heatmapgl"
           }
          ],
          "histogram": [
           {
            "marker": {
             "pattern": {
              "fillmode": "overlay",
              "size": 10,
              "solidity": 0.2
             }
            },
            "type": "histogram"
           }
          ],
          "histogram2d": [
           {
            "colorbar": {
             "outlinewidth": 0,
             "ticks": ""
            },
            "colorscale": [
             [
              0,
              "#0d0887"
             ],
             [
              0.1111111111111111,
              "#46039f"
             ],
             [
              0.2222222222222222,
              "#7201a8"
             ],
             [
              0.3333333333333333,
              "#9c179e"
             ],
             [
              0.4444444444444444,
              "#bd3786"
             ],
             [
              0.5555555555555556,
              "#d8576b"
             ],
             [
              0.6666666666666666,
              "#ed7953"
             ],
             [
              0.7777777777777778,
              "#fb9f3a"
             ],
             [
              0.8888888888888888,
              "#fdca26"
             ],
             [
              1,
              "#f0f921"
             ]
            ],
            "type": "histogram2d"
           }
          ],
          "histogram2dcontour": [
           {
            "colorbar": {
             "outlinewidth": 0,
             "ticks": ""
            },
            "colorscale": [
             [
              0,
              "#0d0887"
             ],
             [
              0.1111111111111111,
              "#46039f"
             ],
             [
              0.2222222222222222,
              "#7201a8"
             ],
             [
              0.3333333333333333,
              "#9c179e"
             ],
             [
              0.4444444444444444,
              "#bd3786"
             ],
             [
              0.5555555555555556,
              "#d8576b"
             ],
             [
              0.6666666666666666,
              "#ed7953"
             ],
             [
              0.7777777777777778,
              "#fb9f3a"
             ],
             [
              0.8888888888888888,
              "#fdca26"
             ],
             [
              1,
              "#f0f921"
             ]
            ],
            "type": "histogram2dcontour"
           }
          ],
          "mesh3d": [
           {
            "colorbar": {
             "outlinewidth": 0,
             "ticks": ""
            },
            "type": "mesh3d"
           }
          ],
          "parcoords": [
           {
            "line": {
             "colorbar": {
              "outlinewidth": 0,
              "ticks": ""
             }
            },
            "type": "parcoords"
           }
          ],
          "pie": [
           {
            "automargin": true,
            "type": "pie"
           }
          ],
          "scatter": [
           {
            "fillpattern": {
             "fillmode": "overlay",
             "size": 10,
             "solidity": 0.2
            },
            "type": "scatter"
           }
          ],
          "scatter3d": [
           {
            "line": {
             "colorbar": {
              "outlinewidth": 0,
              "ticks": ""
             }
            },
            "marker": {
             "colorbar": {
              "outlinewidth": 0,
              "ticks": ""
             }
            },
            "type": "scatter3d"
           }
          ],
          "scattercarpet": [
           {
            "marker": {
             "colorbar": {
              "outlinewidth": 0,
              "ticks": ""
             }
            },
            "type": "scattercarpet"
           }
          ],
          "scattergeo": [
           {
            "marker": {
             "colorbar": {
              "outlinewidth": 0,
              "ticks": ""
             }
            },
            "type": "scattergeo"
           }
          ],
          "scattergl": [
           {
            "marker": {
             "colorbar": {
              "outlinewidth": 0,
              "ticks": ""
             }
            },
            "type": "scattergl"
           }
          ],
          "scattermapbox": [
           {
            "marker": {
             "colorbar": {
              "outlinewidth": 0,
              "ticks": ""
             }
            },
            "type": "scattermapbox"
           }
          ],
          "scatterpolar": [
           {
            "marker": {
             "colorbar": {
              "outlinewidth": 0,
              "ticks": ""
             }
            },
            "type": "scatterpolar"
           }
          ],
          "scatterpolargl": [
           {
            "marker": {
             "colorbar": {
              "outlinewidth": 0,
              "ticks": ""
             }
            },
            "type": "scatterpolargl"
           }
          ],
          "scatterternary": [
           {
            "marker": {
             "colorbar": {
              "outlinewidth": 0,
              "ticks": ""
             }
            },
            "type": "scatterternary"
           }
          ],
          "surface": [
           {
            "colorbar": {
             "outlinewidth": 0,
             "ticks": ""
            },
            "colorscale": [
             [
              0,
              "#0d0887"
             ],
             [
              0.1111111111111111,
              "#46039f"
             ],
             [
              0.2222222222222222,
              "#7201a8"
             ],
             [
              0.3333333333333333,
              "#9c179e"
             ],
             [
              0.4444444444444444,
              "#bd3786"
             ],
             [
              0.5555555555555556,
              "#d8576b"
             ],
             [
              0.6666666666666666,
              "#ed7953"
             ],
             [
              0.7777777777777778,
              "#fb9f3a"
             ],
             [
              0.8888888888888888,
              "#fdca26"
             ],
             [
              1,
              "#f0f921"
             ]
            ],
            "type": "surface"
           }
          ],
          "table": [
           {
            "cells": {
             "fill": {
              "color": "#EBF0F8"
             },
             "line": {
              "color": "white"
             }
            },
            "header": {
             "fill": {
              "color": "#C8D4E3"
             },
             "line": {
              "color": "white"
             }
            },
            "type": "table"
           }
          ]
         },
         "layout": {
          "annotationdefaults": {
           "arrowcolor": "#2a3f5f",
           "arrowhead": 0,
           "arrowwidth": 1
          },
          "autosize": false,
          "autotypenumbers": "strict",
          "coloraxis": {
           "colorbar": {
            "outlinewidth": 0,
            "ticks": ""
           }
          },
          "colorscale": {
           "diverging": [
            [
             0,
             "#8e0152"
            ],
            [
             0.1,
             "#c51b7d"
            ],
            [
             0.2,
             "#de77ae"
            ],
            [
             0.3,
             "#f1b6da"
            ],
            [
             0.4,
             "#fde0ef"
            ],
            [
             0.5,
             "#f7f7f7"
            ],
            [
             0.6,
             "#e6f5d0"
            ],
            [
             0.7,
             "#b8e186"
            ],
            [
             0.8,
             "#7fbc41"
            ],
            [
             0.9,
             "#4d9221"
            ],
            [
             1,
             "#276419"
            ]
           ],
           "sequential": [
            [
             0,
             "#0d0887"
            ],
            [
             0.1111111111111111,
             "#46039f"
            ],
            [
             0.2222222222222222,
             "#7201a8"
            ],
            [
             0.3333333333333333,
             "#9c179e"
            ],
            [
             0.4444444444444444,
             "#bd3786"
            ],
            [
             0.5555555555555556,
             "#d8576b"
            ],
            [
             0.6666666666666666,
             "#ed7953"
            ],
            [
             0.7777777777777778,
             "#fb9f3a"
            ],
            [
             0.8888888888888888,
             "#fdca26"
            ],
            [
             1,
             "#f0f921"
            ]
           ],
           "sequentialminus": [
            [
             0,
             "#0d0887"
            ],
            [
             0.1111111111111111,
             "#46039f"
            ],
            [
             0.2222222222222222,
             "#7201a8"
            ],
            [
             0.3333333333333333,
             "#9c179e"
            ],
            [
             0.4444444444444444,
             "#bd3786"
            ],
            [
             0.5555555555555556,
             "#d8576b"
            ],
            [
             0.6666666666666666,
             "#ed7953"
            ],
            [
             0.7777777777777778,
             "#fb9f3a"
            ],
            [
             0.8888888888888888,
             "#fdca26"
            ],
            [
             1,
             "#f0f921"
            ]
           ]
          },
          "colorway": [
           "#2fa1da",
           "#fb4f2f",
           "#e4ae38",
           "#6d904f",
           "#8a8a8a",
           "#16bdcf",
           "#9367bc",
           "#d62628",
           "#1f77b3",
           "#e277c1",
           "#8c564b",
           "#bcbc21",
           "#3a0182",
           "#004200",
           "#0fffa8",
           "#5d003f",
           "#c6bcff",
           "#424f52",
           "#b80080",
           "#ffb6b3",
           "#7c0100",
           "#6026ff",
           "#ffff9a",
           "#aec8aa",
           "#00857c",
           "#543a00",
           "#93fbff",
           "#00bf00",
           "#7c00a0",
           "#aa7200",
           "#90ff00",
           "#01bd89",
           "#00447b",
           "#c8826e",
           "#ff1f82",
           "#dd00ff",
           "#057400",
           "#644460",
           "#878eff",
           "#ffb5f4",
           "#526236",
           "#cd85ff",
           "#676983",
           "#bdb3bd",
           "#a56089",
           "#95d3ff",
           "#0100f7",
           "#ff8001",
           "#8a2844",
           "#aca06d",
           "#52448a",
           "#c8ffd8",
           "#aa4600",
           "#ff798e",
           "#82d370",
           "#909ebf",
           "#9300f4",
           "#ebcf9a",
           "#ac8ab1",
           "#006249",
           "#ffdb00",
           "#877750",
           "#7eaaa3",
           "#000097",
           "#f400c6",
           "#643328",
           "#006677",
           "#03e2c8",
           "#a736ae",
           "#c4dbe1",
           "#4d6eff",
           "#9a9301",
           "#cd576b",
           "#efddfd",
           "#795900",
           "#5e879a",
           "#b3ff91",
           "#5d726b",
           "#520066",
           "#058750",
           "#831f6e",
           "#3b9505",
           "#647200",
           "#f0a06b",
           "#5e4f44",
           "#bc0049",
           "#cf6726",
           "#d695aa",
           "#895dff",
           "#826b75",
           "#2a54b8",
           "#6e7cba",
           "#e6d4d3",
           "#5d0018",
           "#7c3b01",
           "#80b17c",
           "#c8d87c",
           "#00e83b",
           "#7cb1ff",
           "#ff54ff",
           "#a32621",
           "#1ce4ff",
           "#7caf3b",
           "#7b4b90",
           "#dfff48",
           "#6b00c3",
           "#cda897",
           "#bd62c3",
           "#89cdcd",
           "#4603c8",
           "#5d9179",
           "#414901",
           "#05a79c",
           "#cf8c36",
           "#fff7cf",
           "#425470",
           "#b544ff",
           "#cf4993",
           "#cfa3df",
           "#93d400",
           "#a793da",
           "#2da557",
           "#8ce2b5",
           "#a3a89c",
           "#6b5bb6",
           "#ff7e5d",
           "#a78289",
           "#afbdd8",
           "#2ac3ff",
           "#a5673d",
           "#f690fd",
           "#874b64",
           "#ff0c4b",
           "#215d23",
           "#4291ff",
           "#87829c",
           "#672d44",
           "#b14f41",
           "#004d52",
           "#5e1a00",
           "#ac4167",
           "#4f3167",
           "#d6fffd",
           "#7eb5d1",
           "#a8b869",
           "#ff95ca",
           "#c87495",
           "#364f38",
           "#ffcf62",
           "#5d5762",
           "#879375",
           "#a877ff",
           "#03c862",
           "#e6bdd4",
           "#d4e2cf",
           "#876790",
           "#897c26",
           "#cddbff",
           "#aa676b",
           "#313474",
           "#ff5da8",
           "#009aaf",
           "#70ffdd",
           "#775b38",
           "#4f649a",
           "#cc00b3",
           "#567b54",
           "#506e7b",
           "#015e91",
           "#aabcbd",
           "#017e99",
           "#03dd97",
           "#873a2b",
           "#ef958e",
           "#75c6aa",
           "#70695d",
           "#ccdb08",
           "#af8556",
           "#d80075",
           "#9c3f80",
           "#d84400",
           "#dd6754",
           "#5eff79",
           "#d4b172",
           "#62265d",
           "#baa13d",
           "#d8f2b3",
           "#56018e",
           "#a19aaa",
           "#4d4926",
           "#a3a8ff",
           "#ace8db",
           "#995901",
           "#ac00e2",
           "#46822f",
           "#cac3ac",
           "#00c4b5",
           "#605277",
           "#336d67",
           "#a59180",
           "#8399a1",
           "#fd5664",
           "#7095d1",
           "#728c07",
           "#7e004b",
           "#152fa0",
           "#d1c1e2",
           "#c885cf",
           "#6b444b",
           "#7e0023",
           "#00a179",
           "#b1a8cf",
           "#f90000",
           "#afe8ff",
           "#939e4f",
           "#727982",
           "#d82d54",
           "#466001",
           "#0059ff",
           "#773fb5",
           "#ace460",
           "#674424",
           "#525d50",
           "#957267",
           "#a8e49a",
           "#a30057",
           "#d862f6",
           "#8e7ccf",
           "#ffbc93",
           "#a30091",
           "#9affb8",
           "#a7c1ff",
           "#f46200",
           "#e4efff",
           "#b89ca3",
           "#609593",
           "#ff9e34",
           "#8c2800",
           "#726b31",
           "#df824d",
           "#af7bd4",
           "#bc2d00",
           "#7b6ea3",
           "#484262",
           "#c6a3ff",
           "#004d28",
           "#c3c68e",
           "#df48d6",
           "#e6e864",
           "#e4c10a",
           "#00f4f0",
           "#9e5ba1",
           "#4b41b6",
           "#64338e",
           "#757e6b",
           "#a88936"
          ],
          "font": {
           "color": "#2a3f5f"
          },
          "geo": {
           "bgcolor": "white",
           "lakecolor": "white",
           "landcolor": "white",
           "showlakes": true,
           "showland": true,
           "subunitcolor": "#C8D4E3"
          },
          "height": 400,
          "hoverlabel": {
           "align": "left"
          },
          "hovermode": "closest",
          "legend": {
           "tracegroupgap": 0
          },
          "mapbox": {
           "style": "light"
          },
          "paper_bgcolor": "white",
          "plot_bgcolor": "white",
          "polar": {
           "angularaxis": {
            "gridcolor": "#EBF0F8",
            "linecolor": "#EBF0F8",
            "ticks": ""
           },
           "bgcolor": "white",
           "radialaxis": {
            "gridcolor": "#EBF0F8",
            "linecolor": "#EBF0F8",
            "ticks": ""
           }
          },
          "scene": {
           "xaxis": {
            "backgroundcolor": "white",
            "gridcolor": "#DFE8F3",
            "gridwidth": 2,
            "linecolor": "#EBF0F8",
            "showbackground": true,
            "ticks": "",
            "zerolinecolor": "#EBF0F8"
           },
           "yaxis": {
            "backgroundcolor": "white",
            "gridcolor": "#DFE8F3",
            "gridwidth": 2,
            "linecolor": "#EBF0F8",
            "showbackground": true,
            "ticks": "",
            "zerolinecolor": "#EBF0F8"
           },
           "zaxis": {
            "backgroundcolor": "white",
            "gridcolor": "#DFE8F3",
            "gridwidth": 2,
            "linecolor": "#EBF0F8",
            "showbackground": true,
            "ticks": "",
            "zerolinecolor": "#EBF0F8"
           }
          },
          "shapedefaults": {
           "line": {
            "color": "#2a3f5f"
           }
          },
          "ternary": {
           "aaxis": {
            "gridcolor": "#DFE8F3",
            "linecolor": "#A2B1C6",
            "ticks": ""
           },
           "baxis": {
            "gridcolor": "#DFE8F3",
            "linecolor": "#A2B1C6",
            "ticks": ""
           },
           "bgcolor": "white",
           "caxis": {
            "gridcolor": "#DFE8F3",
            "linecolor": "#A2B1C6",
            "ticks": ""
           }
          },
          "title": {
           "x": 0.05
          },
          "width": 700,
          "xaxis": {
           "automargin": true,
           "gridcolor": "#EBF0F8",
           "linecolor": "#EBF0F8",
           "ticks": "",
           "title": {
            "standoff": 15
           },
           "zerolinecolor": "#EBF0F8",
           "zerolinewidth": 2
          },
          "yaxis": {
           "automargin": true,
           "gridcolor": "#EBF0F8",
           "linecolor": "#EBF0F8",
           "ticks": "",
           "title": {
            "standoff": 15
           },
           "zerolinecolor": "#EBF0F8",
           "zerolinewidth": 2
          }
         }
        },
        "width": 700,
        "xaxis": {
         "anchor": "y",
         "autorange": true,
         "domain": [
          0,
          1
         ],
         "range": [
          0,
          1.574524315433416
         ],
         "title": {
          "text": "bar"
         },
         "type": "linear"
        },
        "yaxis": {
         "anchor": "x",
         "autorange": true,
         "domain": [
          0,
          1
         ],
         "range": [
          -0.5,
          2.5
         ],
         "title": {
          "text": "foo"
         },
         "type": "category"
        }
       }
      },
      "text/html": [
       "<div>                            <div id=\"44afd1aa-ef98-463f-8669-112714842d8b\" class=\"plotly-graph-div\" style=\"height:400px; width:700px;\"></div>            <script type=\"text/javascript\">                require([\"plotly\"], function(Plotly) {                    window.PLOTLYENV=window.PLOTLYENV || {};                                    if (document.getElementById(\"44afd1aa-ef98-463f-8669-112714842d8b\")) {                    Plotly.newPlot(                        \"44afd1aa-ef98-463f-8669-112714842d8b\",                        [{\"alignmentgroup\":\"True\",\"hovertemplate\":\"Part=Re\\u003cbr\\u003ebar=%{x}\\u003cbr\\u003efoo=%{y}\\u003cextra\\u003e\\u003c\\u002fextra\\u003e\",\"legendgroup\":\"Re\",\"marker\":{\"color\":\"#2fa1da\",\"pattern\":{\"shape\":\"\"}},\"name\":\"Re\",\"offsetgroup\":\"Re\",\"orientation\":\"h\",\"showlegend\":true,\"textposition\":\"auto\",\"x\":[0.5028749369803532,0.5052769222930958,0.5826443493145376],\"xaxis\":\"x\",\"y\":[\"aaaaaaaaaaaaaaaaaa\",\"b\",\"c\"],\"yaxis\":\"y\",\"type\":\"bar\"},{\"alignmentgroup\":\"True\",\"hovertemplate\":\"Part=Im\\u003cbr\\u003ebar=%{x}\\u003cbr\\u003efoo=%{y}\\u003cextra\\u003e\\u003c\\u002fextra\\u003e\",\"legendgroup\":\"Im\",\"marker\":{\"color\":\"#fb4f2f\",\"pattern\":{\"shape\":\"\"}},\"name\":\"Im\",\"offsetgroup\":\"Im\",\"orientation\":\"h\",\"showlegend\":true,\"textposition\":\"auto\",\"x\":[0.39510183754789086,0.7868913814500277,0.9131537503472078],\"xaxis\":\"x\",\"y\":[\"aaaaaaaaaaaaaaaaaa\",\"b\",\"c\"],\"yaxis\":\"y\",\"type\":\"bar\"}],                        {\"template\":{\"data\":{\"histogram2dcontour\":[{\"type\":\"histogram2dcontour\",\"colorbar\":{\"outlinewidth\":0,\"ticks\":\"\"},\"colorscale\":[[0.0,\"#0d0887\"],[0.1111111111111111,\"#46039f\"],[0.2222222222222222,\"#7201a8\"],[0.3333333333333333,\"#9c179e\"],[0.4444444444444444,\"#bd3786\"],[0.5555555555555556,\"#d8576b\"],[0.6666666666666666,\"#ed7953\"],[0.7777777777777778,\"#fb9f3a\"],[0.8888888888888888,\"#fdca26\"],[1.0,\"#f0f921\"]]}],\"choropleth\":[{\"type\":\"choropleth\",\"colorbar\":{\"outlinewidth\":0,\"ticks\":\"\"}}],\"histogram2d\":[{\"type\":\"histogram2d\",\"colorbar\":{\"outlinewidth\":0,\"ticks\":\"\"},\"colorscale\":[[0.0,\"#0d0887\"],[0.1111111111111111,\"#46039f\"],[0.2222222222222222,\"#7201a8\"],[0.3333333333333333,\"#9c179e\"],[0.4444444444444444,\"#bd3786\"],[0.5555555555555556,\"#d8576b\"],[0.6666666666666666,\"#ed7953\"],[0.7777777777777778,\"#fb9f3a\"],[0.8888888888888888,\"#fdca26\"],[1.0,\"#f0f921\"]]}],\"heatmap\":[{\"type\":\"heatmap\",\"colorbar\":{\"outlinewidth\":0,\"ticks\":\"\"},\"colorscale\":[[0.0,\"#0d0887\"],[0.1111111111111111,\"#46039f\"],[0.2222222222222222,\"#7201a8\"],[0.3333333333333333,\"#9c179e\"],[0.4444444444444444,\"#bd3786\"],[0.5555555555555556,\"#d8576b\"],[0.6666666666666666,\"#ed7953\"],[0.7777777777777778,\"#fb9f3a\"],[0.8888888888888888,\"#fdca26\"],[1.0,\"#f0f921\"]]}],\"heatmapgl\":[{\"type\":\"heatmapgl\",\"colorbar\":{\"outlinewidth\":0,\"ticks\":\"\"},\"colorscale\":[[0.0,\"#0d0887\"],[0.1111111111111111,\"#46039f\"],[0.2222222222222222,\"#7201a8\"],[0.3333333333333333,\"#9c179e\"],[0.4444444444444444,\"#bd3786\"],[0.5555555555555556,\"#d8576b\"],[0.6666666666666666,\"#ed7953\"],[0.7777777777777778,\"#fb9f3a\"],[0.8888888888888888,\"#fdca26\"],[1.0,\"#f0f921\"]]}],\"contourcarpet\":[{\"type\":\"contourcarpet\",\"colorbar\":{\"outlinewidth\":0,\"ticks\":\"\"}}],\"contour\":[{\"type\":\"contour\",\"colorbar\":{\"outlinewidth\":0,\"ticks\":\"\"},\"colorscale\":[[0.0,\"#0d0887\"],[0.1111111111111111,\"#46039f\"],[0.2222222222222222,\"#7201a8\"],[0.3333333333333333,\"#9c179e\"],[0.4444444444444444,\"#bd3786\"],[0.5555555555555556,\"#d8576b\"],[0.6666666666666666,\"#ed7953\"],[0.7777777777777778,\"#fb9f3a\"],[0.8888888888888888,\"#fdca26\"],[1.0,\"#f0f921\"]]}],\"surface\":[{\"type\":\"surface\",\"colorbar\":{\"outlinewidth\":0,\"ticks\":\"\"},\"colorscale\":[[0.0,\"#0d0887\"],[0.1111111111111111,\"#46039f\"],[0.2222222222222222,\"#7201a8\"],[0.3333333333333333,\"#9c179e\"],[0.4444444444444444,\"#bd3786\"],[0.5555555555555556,\"#d8576b\"],[0.6666666666666666,\"#ed7953\"],[0.7777777777777778,\"#fb9f3a\"],[0.8888888888888888,\"#fdca26\"],[1.0,\"#f0f921\"]]}],\"mesh3d\":[{\"type\":\"mesh3d\",\"colorbar\":{\"outlinewidth\":0,\"ticks\":\"\"}}],\"scatter\":[{\"fillpattern\":{\"fillmode\":\"overlay\",\"size\":10,\"solidity\":0.2},\"type\":\"scatter\"}],\"parcoords\":[{\"type\":\"parcoords\",\"line\":{\"colorbar\":{\"outlinewidth\":0,\"ticks\":\"\"}}}],\"scatterpolargl\":[{\"type\":\"scatterpolargl\",\"marker\":{\"colorbar\":{\"outlinewidth\":0,\"ticks\":\"\"}}}],\"bar\":[{\"error_x\":{\"color\":\"#2a3f5f\"},\"error_y\":{\"color\":\"#2a3f5f\"},\"marker\":{\"line\":{\"color\":\"white\",\"width\":0.5},\"pattern\":{\"fillmode\":\"overlay\",\"size\":10,\"solidity\":0.2}},\"type\":\"bar\"}],\"scattergeo\":[{\"type\":\"scattergeo\",\"marker\":{\"colorbar\":{\"outlinewidth\":0,\"ticks\":\"\"}}}],\"scatterpolar\":[{\"type\":\"scatterpolar\",\"marker\":{\"colorbar\":{\"outlinewidth\":0,\"ticks\":\"\"}}}],\"histogram\":[{\"marker\":{\"pattern\":{\"fillmode\":\"overlay\",\"size\":10,\"solidity\":0.2}},\"type\":\"histogram\"}],\"scattergl\":[{\"type\":\"scattergl\",\"marker\":{\"colorbar\":{\"outlinewidth\":0,\"ticks\":\"\"}}}],\"scatter3d\":[{\"type\":\"scatter3d\",\"line\":{\"colorbar\":{\"outlinewidth\":0,\"ticks\":\"\"}},\"marker\":{\"colorbar\":{\"outlinewidth\":0,\"ticks\":\"\"}}}],\"scattermapbox\":[{\"type\":\"scattermapbox\",\"marker\":{\"colorbar\":{\"outlinewidth\":0,\"ticks\":\"\"}}}],\"scatterternary\":[{\"type\":\"scatterternary\",\"marker\":{\"colorbar\":{\"outlinewidth\":0,\"ticks\":\"\"}}}],\"scattercarpet\":[{\"type\":\"scattercarpet\",\"marker\":{\"colorbar\":{\"outlinewidth\":0,\"ticks\":\"\"}}}],\"carpet\":[{\"aaxis\":{\"endlinecolor\":\"#2a3f5f\",\"gridcolor\":\"#C8D4E3\",\"linecolor\":\"#C8D4E3\",\"minorgridcolor\":\"#C8D4E3\",\"startlinecolor\":\"#2a3f5f\"},\"baxis\":{\"endlinecolor\":\"#2a3f5f\",\"gridcolor\":\"#C8D4E3\",\"linecolor\":\"#C8D4E3\",\"minorgridcolor\":\"#C8D4E3\",\"startlinecolor\":\"#2a3f5f\"},\"type\":\"carpet\"}],\"table\":[{\"cells\":{\"fill\":{\"color\":\"#EBF0F8\"},\"line\":{\"color\":\"white\"}},\"header\":{\"fill\":{\"color\":\"#C8D4E3\"},\"line\":{\"color\":\"white\"}},\"type\":\"table\"}],\"barpolar\":[{\"marker\":{\"line\":{\"color\":\"white\",\"width\":0.5},\"pattern\":{\"fillmode\":\"overlay\",\"size\":10,\"solidity\":0.2}},\"type\":\"barpolar\"}],\"pie\":[{\"automargin\":true,\"type\":\"pie\"}]},\"layout\":{\"autotypenumbers\":\"strict\",\"colorway\":[\"#2fa1da\",\"#fb4f2f\",\"#e4ae38\",\"#6d904f\",\"#8a8a8a\",\"#16bdcf\",\"#9367bc\",\"#d62628\",\"#1f77b3\",\"#e277c1\",\"#8c564b\",\"#bcbc21\",\"#3a0182\",\"#004200\",\"#0fffa8\",\"#5d003f\",\"#c6bcff\",\"#424f52\",\"#b80080\",\"#ffb6b3\",\"#7c0100\",\"#6026ff\",\"#ffff9a\",\"#aec8aa\",\"#00857c\",\"#543a00\",\"#93fbff\",\"#00bf00\",\"#7c00a0\",\"#aa7200\",\"#90ff00\",\"#01bd89\",\"#00447b\",\"#c8826e\",\"#ff1f82\",\"#dd00ff\",\"#057400\",\"#644460\",\"#878eff\",\"#ffb5f4\",\"#526236\",\"#cd85ff\",\"#676983\",\"#bdb3bd\",\"#a56089\",\"#95d3ff\",\"#0100f7\",\"#ff8001\",\"#8a2844\",\"#aca06d\",\"#52448a\",\"#c8ffd8\",\"#aa4600\",\"#ff798e\",\"#82d370\",\"#909ebf\",\"#9300f4\",\"#ebcf9a\",\"#ac8ab1\",\"#006249\",\"#ffdb00\",\"#877750\",\"#7eaaa3\",\"#000097\",\"#f400c6\",\"#643328\",\"#006677\",\"#03e2c8\",\"#a736ae\",\"#c4dbe1\",\"#4d6eff\",\"#9a9301\",\"#cd576b\",\"#efddfd\",\"#795900\",\"#5e879a\",\"#b3ff91\",\"#5d726b\",\"#520066\",\"#058750\",\"#831f6e\",\"#3b9505\",\"#647200\",\"#f0a06b\",\"#5e4f44\",\"#bc0049\",\"#cf6726\",\"#d695aa\",\"#895dff\",\"#826b75\",\"#2a54b8\",\"#6e7cba\",\"#e6d4d3\",\"#5d0018\",\"#7c3b01\",\"#80b17c\",\"#c8d87c\",\"#00e83b\",\"#7cb1ff\",\"#ff54ff\",\"#a32621\",\"#1ce4ff\",\"#7caf3b\",\"#7b4b90\",\"#dfff48\",\"#6b00c3\",\"#cda897\",\"#bd62c3\",\"#89cdcd\",\"#4603c8\",\"#5d9179\",\"#414901\",\"#05a79c\",\"#cf8c36\",\"#fff7cf\",\"#425470\",\"#b544ff\",\"#cf4993\",\"#cfa3df\",\"#93d400\",\"#a793da\",\"#2da557\",\"#8ce2b5\",\"#a3a89c\",\"#6b5bb6\",\"#ff7e5d\",\"#a78289\",\"#afbdd8\",\"#2ac3ff\",\"#a5673d\",\"#f690fd\",\"#874b64\",\"#ff0c4b\",\"#215d23\",\"#4291ff\",\"#87829c\",\"#672d44\",\"#b14f41\",\"#004d52\",\"#5e1a00\",\"#ac4167\",\"#4f3167\",\"#d6fffd\",\"#7eb5d1\",\"#a8b869\",\"#ff95ca\",\"#c87495\",\"#364f38\",\"#ffcf62\",\"#5d5762\",\"#879375\",\"#a877ff\",\"#03c862\",\"#e6bdd4\",\"#d4e2cf\",\"#876790\",\"#897c26\",\"#cddbff\",\"#aa676b\",\"#313474\",\"#ff5da8\",\"#009aaf\",\"#70ffdd\",\"#775b38\",\"#4f649a\",\"#cc00b3\",\"#567b54\",\"#506e7b\",\"#015e91\",\"#aabcbd\",\"#017e99\",\"#03dd97\",\"#873a2b\",\"#ef958e\",\"#75c6aa\",\"#70695d\",\"#ccdb08\",\"#af8556\",\"#d80075\",\"#9c3f80\",\"#d84400\",\"#dd6754\",\"#5eff79\",\"#d4b172\",\"#62265d\",\"#baa13d\",\"#d8f2b3\",\"#56018e\",\"#a19aaa\",\"#4d4926\",\"#a3a8ff\",\"#ace8db\",\"#995901\",\"#ac00e2\",\"#46822f\",\"#cac3ac\",\"#00c4b5\",\"#605277\",\"#336d67\",\"#a59180\",\"#8399a1\",\"#fd5664\",\"#7095d1\",\"#728c07\",\"#7e004b\",\"#152fa0\",\"#d1c1e2\",\"#c885cf\",\"#6b444b\",\"#7e0023\",\"#00a179\",\"#b1a8cf\",\"#f90000\",\"#afe8ff\",\"#939e4f\",\"#727982\",\"#d82d54\",\"#466001\",\"#0059ff\",\"#773fb5\",\"#ace460\",\"#674424\",\"#525d50\",\"#957267\",\"#a8e49a\",\"#a30057\",\"#d862f6\",\"#8e7ccf\",\"#ffbc93\",\"#a30091\",\"#9affb8\",\"#a7c1ff\",\"#f46200\",\"#e4efff\",\"#b89ca3\",\"#609593\",\"#ff9e34\",\"#8c2800\",\"#726b31\",\"#df824d\",\"#af7bd4\",\"#bc2d00\",\"#7b6ea3\",\"#484262\",\"#c6a3ff\",\"#004d28\",\"#c3c68e\",\"#df48d6\",\"#e6e864\",\"#e4c10a\",\"#00f4f0\",\"#9e5ba1\",\"#4b41b6\",\"#64338e\",\"#757e6b\",\"#a88936\"],\"font\":{\"color\":\"#2a3f5f\"},\"hovermode\":\"closest\",\"hoverlabel\":{\"align\":\"left\"},\"paper_bgcolor\":\"white\",\"plot_bgcolor\":\"white\",\"polar\":{\"bgcolor\":\"white\",\"angularaxis\":{\"gridcolor\":\"#EBF0F8\",\"linecolor\":\"#EBF0F8\",\"ticks\":\"\"},\"radialaxis\":{\"gridcolor\":\"#EBF0F8\",\"linecolor\":\"#EBF0F8\",\"ticks\":\"\"}},\"ternary\":{\"bgcolor\":\"white\",\"aaxis\":{\"gridcolor\":\"#DFE8F3\",\"linecolor\":\"#A2B1C6\",\"ticks\":\"\"},\"baxis\":{\"gridcolor\":\"#DFE8F3\",\"linecolor\":\"#A2B1C6\",\"ticks\":\"\"},\"caxis\":{\"gridcolor\":\"#DFE8F3\",\"linecolor\":\"#A2B1C6\",\"ticks\":\"\"}},\"coloraxis\":{\"colorbar\":{\"outlinewidth\":0,\"ticks\":\"\"}},\"colorscale\":{\"sequential\":[[0.0,\"#0d0887\"],[0.1111111111111111,\"#46039f\"],[0.2222222222222222,\"#7201a8\"],[0.3333333333333333,\"#9c179e\"],[0.4444444444444444,\"#bd3786\"],[0.5555555555555556,\"#d8576b\"],[0.6666666666666666,\"#ed7953\"],[0.7777777777777778,\"#fb9f3a\"],[0.8888888888888888,\"#fdca26\"],[1.0,\"#f0f921\"]],\"sequentialminus\":[[0.0,\"#0d0887\"],[0.1111111111111111,\"#46039f\"],[0.2222222222222222,\"#7201a8\"],[0.3333333333333333,\"#9c179e\"],[0.4444444444444444,\"#bd3786\"],[0.5555555555555556,\"#d8576b\"],[0.6666666666666666,\"#ed7953\"],[0.7777777777777778,\"#fb9f3a\"],[0.8888888888888888,\"#fdca26\"],[1.0,\"#f0f921\"]],\"diverging\":[[0,\"#8e0152\"],[0.1,\"#c51b7d\"],[0.2,\"#de77ae\"],[0.3,\"#f1b6da\"],[0.4,\"#fde0ef\"],[0.5,\"#f7f7f7\"],[0.6,\"#e6f5d0\"],[0.7,\"#b8e186\"],[0.8,\"#7fbc41\"],[0.9,\"#4d9221\"],[1,\"#276419\"]]},\"xaxis\":{\"gridcolor\":\"#EBF0F8\",\"linecolor\":\"#EBF0F8\",\"ticks\":\"\",\"title\":{\"standoff\":15},\"zerolinecolor\":\"#EBF0F8\",\"automargin\":true,\"zerolinewidth\":2},\"yaxis\":{\"gridcolor\":\"#EBF0F8\",\"linecolor\":\"#EBF0F8\",\"ticks\":\"\",\"title\":{\"standoff\":15},\"zerolinecolor\":\"#EBF0F8\",\"automargin\":true,\"zerolinewidth\":2},\"scene\":{\"xaxis\":{\"backgroundcolor\":\"white\",\"gridcolor\":\"#DFE8F3\",\"linecolor\":\"#EBF0F8\",\"showbackground\":true,\"ticks\":\"\",\"zerolinecolor\":\"#EBF0F8\",\"gridwidth\":2},\"yaxis\":{\"backgroundcolor\":\"white\",\"gridcolor\":\"#DFE8F3\",\"linecolor\":\"#EBF0F8\",\"showbackground\":true,\"ticks\":\"\",\"zerolinecolor\":\"#EBF0F8\",\"gridwidth\":2},\"zaxis\":{\"backgroundcolor\":\"white\",\"gridcolor\":\"#DFE8F3\",\"linecolor\":\"#EBF0F8\",\"showbackground\":true,\"ticks\":\"\",\"zerolinecolor\":\"#EBF0F8\",\"gridwidth\":2}},\"shapedefaults\":{\"line\":{\"color\":\"#2a3f5f\"}},\"annotationdefaults\":{\"arrowcolor\":\"#2a3f5f\",\"arrowhead\":0,\"arrowwidth\":1},\"geo\":{\"bgcolor\":\"white\",\"landcolor\":\"white\",\"subunitcolor\":\"#C8D4E3\",\"showland\":true,\"showlakes\":true,\"lakecolor\":\"white\"},\"title\":{\"x\":0.05},\"mapbox\":{\"style\":\"light\"},\"legend\":{\"tracegroupgap\":0},\"width\":700,\"height\":400,\"autosize\":false}},\"xaxis\":{\"anchor\":\"y\",\"domain\":[0.0,1.0],\"title\":{\"text\":\"bar\"}},\"yaxis\":{\"anchor\":\"x\",\"domain\":[0.0,1.0],\"title\":{\"text\":\"foo\"}},\"legend\":{\"title\":{},\"tracegroupgap\":0},\"margin\":{\"t\":60},\"barmode\":\"relative\"},                        {\"responsive\": true}                    ).then(function(){\n",
       "                            \n",
       "var gd = document.getElementById('44afd1aa-ef98-463f-8669-112714842d8b');\n",
       "var x = new MutationObserver(function (mutations, observer) {{\n",
       "        var display = window.getComputedStyle(gd).display;\n",
       "        if (!display || display === 'none') {{\n",
       "            console.log([gd, 'removed!']);\n",
       "            Plotly.purge(gd);\n",
       "            observer.disconnect();\n",
       "        }}\n",
       "}});\n",
       "\n",
       "// Listen for the removal of the full notebook cells\n",
       "var notebookContainer = gd.closest('#notebook-container');\n",
       "if (notebookContainer) {{\n",
       "    x.observe(notebookContainer, {childList: true});\n",
       "}}\n",
       "\n",
       "// Listen for the clearing of the current output cell\n",
       "var outputEl = gd.closest('.output');\n",
       "if (outputEl) {{\n",
       "    x.observe(outputEl, {childList: true});\n",
       "}}\n",
       "\n",
       "                        })                };                });            </script>        </div>"
      ]
     },
     "metadata": {},
     "output_type": "display_data"
    }
   ],
   "source": [
    "(U1 + U2).visualize()"
   ]
  },
  {
   "cell_type": "code",
   "execution_count": null,
   "metadata": {},
   "outputs": [
    {
     "data": {
      "application/vnd.plotly.v1+json": {
       "config": {
        "plotlyServerURL": "https://plot.ly"
       },
       "data": [
        {
         "hovertemplate": "foo=aaaaaaaaaaaaaaaaaa<br>baz=%{x}<br>bar=%{y}<extra></extra>",
         "legendgroup": "aaaaaaaaaaaaaaaaaa",
         "line": {
          "color": "#2fa1da",
          "dash": "solid",
          "width": 10
         },
         "marker": {
          "symbol": "circle"
         },
         "mode": "lines",
         "name": "aaaaaaaaaaaaaaaaaa",
         "orientation": "v",
         "showlegend": true,
         "type": "scatter",
         "x": [
          0,
          1,
          2,
          3,
          4
         ],
         "xaxis": "x",
         "y": [
          0.24672505347947127,
          0.523090499279315,
          0.9606262856288327,
          0.9841852649479997,
          0.47393273763807797
         ],
         "yaxis": "y"
        },
        {
         "hovertemplate": "foo=b<br>baz=%{x}<br>bar=%{y}<extra></extra>",
         "legendgroup": "b",
         "line": {
          "color": "#fb4f2f",
          "dash": "solid",
          "width": 10
         },
         "marker": {
          "symbol": "circle"
         },
         "mode": "lines",
         "name": "b",
         "orientation": "v",
         "showlegend": true,
         "type": "scatter",
         "x": [
          0,
          1,
          2,
          3,
          4
         ],
         "xaxis": "x",
         "y": [
          0.736523217701888,
          0.18853023387416024,
          0.7218363322336134,
          0.3520506742392382,
          0.9866287468632301
         ],
         "yaxis": "y"
        },
        {
         "hovertemplate": "foo=c<br>baz=%{x}<br>bar=%{y}<extra></extra>",
         "legendgroup": "c",
         "line": {
          "color": "#e4ae38",
          "dash": "solid",
          "width": 10
         },
         "marker": {
          "symbol": "circle"
         },
         "mode": "lines",
         "name": "c",
         "orientation": "v",
         "showlegend": true,
         "type": "scatter",
         "x": [
          0,
          1,
          2,
          3,
          4
         ],
         "xaxis": "x",
         "y": [
          0.6779718525450447,
          0.7952322585827095,
          0.917859996625734,
          0.6382235529263369,
          0.09380782400772492
         ],
         "yaxis": "y"
        }
       ],
       "layout": {
        "height": 360,
        "legend": {
         "title": {},
         "tracegroupgap": 0
        },
        "margin": {
         "t": 60
        },
        "template": {
         "data": {
          "bar": [
           {
            "error_x": {
             "color": "#2a3f5f"
            },
            "error_y": {
             "color": "#2a3f5f"
            },
            "marker": {
             "line": {
              "color": "white",
              "width": 0.5
             },
             "pattern": {
              "fillmode": "overlay",
              "size": 10,
              "solidity": 0.2
             }
            },
            "type": "bar"
           }
          ],
          "barpolar": [
           {
            "marker": {
             "line": {
              "color": "white",
              "width": 0.5
             },
             "pattern": {
              "fillmode": "overlay",
              "size": 10,
              "solidity": 0.2
             }
            },
            "type": "barpolar"
           }
          ],
          "carpet": [
           {
            "aaxis": {
             "endlinecolor": "#2a3f5f",
             "gridcolor": "#C8D4E3",
             "linecolor": "#C8D4E3",
             "minorgridcolor": "#C8D4E3",
             "startlinecolor": "#2a3f5f"
            },
            "baxis": {
             "endlinecolor": "#2a3f5f",
             "gridcolor": "#C8D4E3",
             "linecolor": "#C8D4E3",
             "minorgridcolor": "#C8D4E3",
             "startlinecolor": "#2a3f5f"
            },
            "type": "carpet"
           }
          ],
          "choropleth": [
           {
            "colorbar": {
             "outlinewidth": 0,
             "ticks": ""
            },
            "type": "choropleth"
           }
          ],
          "contour": [
           {
            "colorbar": {
             "outlinewidth": 0,
             "ticks": ""
            },
            "colorscale": [
             [
              0,
              "#0d0887"
             ],
             [
              0.1111111111111111,
              "#46039f"
             ],
             [
              0.2222222222222222,
              "#7201a8"
             ],
             [
              0.3333333333333333,
              "#9c179e"
             ],
             [
              0.4444444444444444,
              "#bd3786"
             ],
             [
              0.5555555555555556,
              "#d8576b"
             ],
             [
              0.6666666666666666,
              "#ed7953"
             ],
             [
              0.7777777777777778,
              "#fb9f3a"
             ],
             [
              0.8888888888888888,
              "#fdca26"
             ],
             [
              1,
              "#f0f921"
             ]
            ],
            "type": "contour"
           }
          ],
          "contourcarpet": [
           {
            "colorbar": {
             "outlinewidth": 0,
             "ticks": ""
            },
            "type": "contourcarpet"
           }
          ],
          "heatmap": [
           {
            "colorbar": {
             "outlinewidth": 0,
             "ticks": ""
            },
            "colorscale": [
             [
              0,
              "#0d0887"
             ],
             [
              0.1111111111111111,
              "#46039f"
             ],
             [
              0.2222222222222222,
              "#7201a8"
             ],
             [
              0.3333333333333333,
              "#9c179e"
             ],
             [
              0.4444444444444444,
              "#bd3786"
             ],
             [
              0.5555555555555556,
              "#d8576b"
             ],
             [
              0.6666666666666666,
              "#ed7953"
             ],
             [
              0.7777777777777778,
              "#fb9f3a"
             ],
             [
              0.8888888888888888,
              "#fdca26"
             ],
             [
              1,
              "#f0f921"
             ]
            ],
            "type": "heatmap"
           }
          ],
          "heatmapgl": [
           {
            "colorbar": {
             "outlinewidth": 0,
             "ticks": ""
            },
            "colorscale": [
             [
              0,
              "#0d0887"
             ],
             [
              0.1111111111111111,
              "#46039f"
             ],
             [
              0.2222222222222222,
              "#7201a8"
             ],
             [
              0.3333333333333333,
              "#9c179e"
             ],
             [
              0.4444444444444444,
              "#bd3786"
             ],
             [
              0.5555555555555556,
              "#d8576b"
             ],
             [
              0.6666666666666666,
              "#ed7953"
             ],
             [
              0.7777777777777778,
              "#fb9f3a"
             ],
             [
              0.8888888888888888,
              "#fdca26"
             ],
             [
              1,
              "#f0f921"
             ]
            ],
            "type": "heatmapgl"
           }
          ],
          "histogram": [
           {
            "marker": {
             "pattern": {
              "fillmode": "overlay",
              "size": 10,
              "solidity": 0.2
             }
            },
            "type": "histogram"
           }
          ],
          "histogram2d": [
           {
            "colorbar": {
             "outlinewidth": 0,
             "ticks": ""
            },
            "colorscale": [
             [
              0,
              "#0d0887"
             ],
             [
              0.1111111111111111,
              "#46039f"
             ],
             [
              0.2222222222222222,
              "#7201a8"
             ],
             [
              0.3333333333333333,
              "#9c179e"
             ],
             [
              0.4444444444444444,
              "#bd3786"
             ],
             [
              0.5555555555555556,
              "#d8576b"
             ],
             [
              0.6666666666666666,
              "#ed7953"
             ],
             [
              0.7777777777777778,
              "#fb9f3a"
             ],
             [
              0.8888888888888888,
              "#fdca26"
             ],
             [
              1,
              "#f0f921"
             ]
            ],
            "type": "histogram2d"
           }
          ],
          "histogram2dcontour": [
           {
            "colorbar": {
             "outlinewidth": 0,
             "ticks": ""
            },
            "colorscale": [
             [
              0,
              "#0d0887"
             ],
             [
              0.1111111111111111,
              "#46039f"
             ],
             [
              0.2222222222222222,
              "#7201a8"
             ],
             [
              0.3333333333333333,
              "#9c179e"
             ],
             [
              0.4444444444444444,
              "#bd3786"
             ],
             [
              0.5555555555555556,
              "#d8576b"
             ],
             [
              0.6666666666666666,
              "#ed7953"
             ],
             [
              0.7777777777777778,
              "#fb9f3a"
             ],
             [
              0.8888888888888888,
              "#fdca26"
             ],
             [
              1,
              "#f0f921"
             ]
            ],
            "type": "histogram2dcontour"
           }
          ],
          "mesh3d": [
           {
            "colorbar": {
             "outlinewidth": 0,
             "ticks": ""
            },
            "type": "mesh3d"
           }
          ],
          "parcoords": [
           {
            "line": {
             "colorbar": {
              "outlinewidth": 0,
              "ticks": ""
             }
            },
            "type": "parcoords"
           }
          ],
          "pie": [
           {
            "automargin": true,
            "type": "pie"
           }
          ],
          "scatter": [
           {
            "fillpattern": {
             "fillmode": "overlay",
             "size": 10,
             "solidity": 0.2
            },
            "type": "scatter"
           }
          ],
          "scatter3d": [
           {
            "line": {
             "colorbar": {
              "outlinewidth": 0,
              "ticks": ""
             }
            },
            "marker": {
             "colorbar": {
              "outlinewidth": 0,
              "ticks": ""
             }
            },
            "type": "scatter3d"
           }
          ],
          "scattercarpet": [
           {
            "marker": {
             "colorbar": {
              "outlinewidth": 0,
              "ticks": ""
             }
            },
            "type": "scattercarpet"
           }
          ],
          "scattergeo": [
           {
            "marker": {
             "colorbar": {
              "outlinewidth": 0,
              "ticks": ""
             }
            },
            "type": "scattergeo"
           }
          ],
          "scattergl": [
           {
            "marker": {
             "colorbar": {
              "outlinewidth": 0,
              "ticks": ""
             }
            },
            "type": "scattergl"
           }
          ],
          "scattermapbox": [
           {
            "marker": {
             "colorbar": {
              "outlinewidth": 0,
              "ticks": ""
             }
            },
            "type": "scattermapbox"
           }
          ],
          "scatterpolar": [
           {
            "marker": {
             "colorbar": {
              "outlinewidth": 0,
              "ticks": ""
             }
            },
            "type": "scatterpolar"
           }
          ],
          "scatterpolargl": [
           {
            "marker": {
             "colorbar": {
              "outlinewidth": 0,
              "ticks": ""
             }
            },
            "type": "scatterpolargl"
           }
          ],
          "scatterternary": [
           {
            "marker": {
             "colorbar": {
              "outlinewidth": 0,
              "ticks": ""
             }
            },
            "type": "scatterternary"
           }
          ],
          "surface": [
           {
            "colorbar": {
             "outlinewidth": 0,
             "ticks": ""
            },
            "colorscale": [
             [
              0,
              "#0d0887"
             ],
             [
              0.1111111111111111,
              "#46039f"
             ],
             [
              0.2222222222222222,
              "#7201a8"
             ],
             [
              0.3333333333333333,
              "#9c179e"
             ],
             [
              0.4444444444444444,
              "#bd3786"
             ],
             [
              0.5555555555555556,
              "#d8576b"
             ],
             [
              0.6666666666666666,
              "#ed7953"
             ],
             [
              0.7777777777777778,
              "#fb9f3a"
             ],
             [
              0.8888888888888888,
              "#fdca26"
             ],
             [
              1,
              "#f0f921"
             ]
            ],
            "type": "surface"
           }
          ],
          "table": [
           {
            "cells": {
             "fill": {
              "color": "#EBF0F8"
             },
             "line": {
              "color": "white"
             }
            },
            "header": {
             "fill": {
              "color": "#C8D4E3"
             },
             "line": {
              "color": "white"
             }
            },
            "type": "table"
           }
          ]
         },
         "layout": {
          "annotationdefaults": {
           "arrowcolor": "#2a3f5f",
           "arrowhead": 0,
           "arrowwidth": 1
          },
          "autosize": false,
          "autotypenumbers": "strict",
          "coloraxis": {
           "colorbar": {
            "outlinewidth": 0,
            "ticks": ""
           }
          },
          "colorscale": {
           "diverging": [
            [
             0,
             "#8e0152"
            ],
            [
             0.1,
             "#c51b7d"
            ],
            [
             0.2,
             "#de77ae"
            ],
            [
             0.3,
             "#f1b6da"
            ],
            [
             0.4,
             "#fde0ef"
            ],
            [
             0.5,
             "#f7f7f7"
            ],
            [
             0.6,
             "#e6f5d0"
            ],
            [
             0.7,
             "#b8e186"
            ],
            [
             0.8,
             "#7fbc41"
            ],
            [
             0.9,
             "#4d9221"
            ],
            [
             1,
             "#276419"
            ]
           ],
           "sequential": [
            [
             0,
             "#0d0887"
            ],
            [
             0.1111111111111111,
             "#46039f"
            ],
            [
             0.2222222222222222,
             "#7201a8"
            ],
            [
             0.3333333333333333,
             "#9c179e"
            ],
            [
             0.4444444444444444,
             "#bd3786"
            ],
            [
             0.5555555555555556,
             "#d8576b"
            ],
            [
             0.6666666666666666,
             "#ed7953"
            ],
            [
             0.7777777777777778,
             "#fb9f3a"
            ],
            [
             0.8888888888888888,
             "#fdca26"
            ],
            [
             1,
             "#f0f921"
            ]
           ],
           "sequentialminus": [
            [
             0,
             "#0d0887"
            ],
            [
             0.1111111111111111,
             "#46039f"
            ],
            [
             0.2222222222222222,
             "#7201a8"
            ],
            [
             0.3333333333333333,
             "#9c179e"
            ],
            [
             0.4444444444444444,
             "#bd3786"
            ],
            [
             0.5555555555555556,
             "#d8576b"
            ],
            [
             0.6666666666666666,
             "#ed7953"
            ],
            [
             0.7777777777777778,
             "#fb9f3a"
            ],
            [
             0.8888888888888888,
             "#fdca26"
            ],
            [
             1,
             "#f0f921"
            ]
           ]
          },
          "colorway": [
           "#2fa1da",
           "#fb4f2f",
           "#e4ae38",
           "#6d904f",
           "#8a8a8a",
           "#16bdcf",
           "#9367bc",
           "#d62628",
           "#1f77b3",
           "#e277c1",
           "#8c564b",
           "#bcbc21",
           "#3a0182",
           "#004200",
           "#0fffa8",
           "#5d003f",
           "#c6bcff",
           "#424f52",
           "#b80080",
           "#ffb6b3",
           "#7c0100",
           "#6026ff",
           "#ffff9a",
           "#aec8aa",
           "#00857c",
           "#543a00",
           "#93fbff",
           "#00bf00",
           "#7c00a0",
           "#aa7200",
           "#90ff00",
           "#01bd89",
           "#00447b",
           "#c8826e",
           "#ff1f82",
           "#dd00ff",
           "#057400",
           "#644460",
           "#878eff",
           "#ffb5f4",
           "#526236",
           "#cd85ff",
           "#676983",
           "#bdb3bd",
           "#a56089",
           "#95d3ff",
           "#0100f7",
           "#ff8001",
           "#8a2844",
           "#aca06d",
           "#52448a",
           "#c8ffd8",
           "#aa4600",
           "#ff798e",
           "#82d370",
           "#909ebf",
           "#9300f4",
           "#ebcf9a",
           "#ac8ab1",
           "#006249",
           "#ffdb00",
           "#877750",
           "#7eaaa3",
           "#000097",
           "#f400c6",
           "#643328",
           "#006677",
           "#03e2c8",
           "#a736ae",
           "#c4dbe1",
           "#4d6eff",
           "#9a9301",
           "#cd576b",
           "#efddfd",
           "#795900",
           "#5e879a",
           "#b3ff91",
           "#5d726b",
           "#520066",
           "#058750",
           "#831f6e",
           "#3b9505",
           "#647200",
           "#f0a06b",
           "#5e4f44",
           "#bc0049",
           "#cf6726",
           "#d695aa",
           "#895dff",
           "#826b75",
           "#2a54b8",
           "#6e7cba",
           "#e6d4d3",
           "#5d0018",
           "#7c3b01",
           "#80b17c",
           "#c8d87c",
           "#00e83b",
           "#7cb1ff",
           "#ff54ff",
           "#a32621",
           "#1ce4ff",
           "#7caf3b",
           "#7b4b90",
           "#dfff48",
           "#6b00c3",
           "#cda897",
           "#bd62c3",
           "#89cdcd",
           "#4603c8",
           "#5d9179",
           "#414901",
           "#05a79c",
           "#cf8c36",
           "#fff7cf",
           "#425470",
           "#b544ff",
           "#cf4993",
           "#cfa3df",
           "#93d400",
           "#a793da",
           "#2da557",
           "#8ce2b5",
           "#a3a89c",
           "#6b5bb6",
           "#ff7e5d",
           "#a78289",
           "#afbdd8",
           "#2ac3ff",
           "#a5673d",
           "#f690fd",
           "#874b64",
           "#ff0c4b",
           "#215d23",
           "#4291ff",
           "#87829c",
           "#672d44",
           "#b14f41",
           "#004d52",
           "#5e1a00",
           "#ac4167",
           "#4f3167",
           "#d6fffd",
           "#7eb5d1",
           "#a8b869",
           "#ff95ca",
           "#c87495",
           "#364f38",
           "#ffcf62",
           "#5d5762",
           "#879375",
           "#a877ff",
           "#03c862",
           "#e6bdd4",
           "#d4e2cf",
           "#876790",
           "#897c26",
           "#cddbff",
           "#aa676b",
           "#313474",
           "#ff5da8",
           "#009aaf",
           "#70ffdd",
           "#775b38",
           "#4f649a",
           "#cc00b3",
           "#567b54",
           "#506e7b",
           "#015e91",
           "#aabcbd",
           "#017e99",
           "#03dd97",
           "#873a2b",
           "#ef958e",
           "#75c6aa",
           "#70695d",
           "#ccdb08",
           "#af8556",
           "#d80075",
           "#9c3f80",
           "#d84400",
           "#dd6754",
           "#5eff79",
           "#d4b172",
           "#62265d",
           "#baa13d",
           "#d8f2b3",
           "#56018e",
           "#a19aaa",
           "#4d4926",
           "#a3a8ff",
           "#ace8db",
           "#995901",
           "#ac00e2",
           "#46822f",
           "#cac3ac",
           "#00c4b5",
           "#605277",
           "#336d67",
           "#a59180",
           "#8399a1",
           "#fd5664",
           "#7095d1",
           "#728c07",
           "#7e004b",
           "#152fa0",
           "#d1c1e2",
           "#c885cf",
           "#6b444b",
           "#7e0023",
           "#00a179",
           "#b1a8cf",
           "#f90000",
           "#afe8ff",
           "#939e4f",
           "#727982",
           "#d82d54",
           "#466001",
           "#0059ff",
           "#773fb5",
           "#ace460",
           "#674424",
           "#525d50",
           "#957267",
           "#a8e49a",
           "#a30057",
           "#d862f6",
           "#8e7ccf",
           "#ffbc93",
           "#a30091",
           "#9affb8",
           "#a7c1ff",
           "#f46200",
           "#e4efff",
           "#b89ca3",
           "#609593",
           "#ff9e34",
           "#8c2800",
           "#726b31",
           "#df824d",
           "#af7bd4",
           "#bc2d00",
           "#7b6ea3",
           "#484262",
           "#c6a3ff",
           "#004d28",
           "#c3c68e",
           "#df48d6",
           "#e6e864",
           "#e4c10a",
           "#00f4f0",
           "#9e5ba1",
           "#4b41b6",
           "#64338e",
           "#757e6b",
           "#a88936"
          ],
          "font": {
           "color": "#2a3f5f"
          },
          "geo": {
           "bgcolor": "white",
           "lakecolor": "white",
           "landcolor": "white",
           "showlakes": true,
           "showland": true,
           "subunitcolor": "#C8D4E3"
          },
          "height": 400,
          "hoverlabel": {
           "align": "left"
          },
          "hovermode": "closest",
          "legend": {
           "tracegroupgap": 0
          },
          "mapbox": {
           "style": "light"
          },
          "paper_bgcolor": "white",
          "plot_bgcolor": "white",
          "polar": {
           "angularaxis": {
            "gridcolor": "#EBF0F8",
            "linecolor": "#EBF0F8",
            "ticks": ""
           },
           "bgcolor": "white",
           "radialaxis": {
            "gridcolor": "#EBF0F8",
            "linecolor": "#EBF0F8",
            "ticks": ""
           }
          },
          "scene": {
           "xaxis": {
            "backgroundcolor": "white",
            "gridcolor": "#DFE8F3",
            "gridwidth": 2,
            "linecolor": "#EBF0F8",
            "showbackground": true,
            "ticks": "",
            "zerolinecolor": "#EBF0F8"
           },
           "yaxis": {
            "backgroundcolor": "white",
            "gridcolor": "#DFE8F3",
            "gridwidth": 2,
            "linecolor": "#EBF0F8",
            "showbackground": true,
            "ticks": "",
            "zerolinecolor": "#EBF0F8"
           },
           "zaxis": {
            "backgroundcolor": "white",
            "gridcolor": "#DFE8F3",
            "gridwidth": 2,
            "linecolor": "#EBF0F8",
            "showbackground": true,
            "ticks": "",
            "zerolinecolor": "#EBF0F8"
           }
          },
          "shapedefaults": {
           "line": {
            "color": "#2a3f5f"
           }
          },
          "ternary": {
           "aaxis": {
            "gridcolor": "#DFE8F3",
            "linecolor": "#A2B1C6",
            "ticks": ""
           },
           "baxis": {
            "gridcolor": "#DFE8F3",
            "linecolor": "#A2B1C6",
            "ticks": ""
           },
           "bgcolor": "white",
           "caxis": {
            "gridcolor": "#DFE8F3",
            "linecolor": "#A2B1C6",
            "ticks": ""
           }
          },
          "title": {
           "x": 0.05
          },
          "width": 700,
          "xaxis": {
           "automargin": true,
           "gridcolor": "#EBF0F8",
           "linecolor": "#EBF0F8",
           "ticks": "",
           "title": {
            "standoff": 15
           },
           "zerolinecolor": "#EBF0F8",
           "zerolinewidth": 2
          },
          "yaxis": {
           "automargin": true,
           "gridcolor": "#EBF0F8",
           "linecolor": "#EBF0F8",
           "ticks": "",
           "title": {
            "standoff": 15
           },
           "zerolinecolor": "#EBF0F8",
           "zerolinewidth": 2
          }
         }
        },
        "width": 700,
        "xaxis": {
         "anchor": "y",
         "autorange": true,
         "domain": [
          0,
          1
         ],
         "range": [
          0,
          4
         ],
         "title": {
          "text": "baz"
         },
         "type": "linear"
        },
        "yaxis": {
         "anchor": "x",
         "autorange": true,
         "domain": [
          0,
          1
         ],
         "range": [
          0.044206661626863514,
          1.0362299092440914
         ],
         "title": {
          "text": "bar"
         },
         "type": "linear"
        }
       }
      },
      "text/html": [
       "<div>                            <div id=\"aa5286a3-d58e-4768-b938-2d2c7454117f\" class=\"plotly-graph-div\" style=\"height:400px; width:700px;\"></div>            <script type=\"text/javascript\">                require([\"plotly\"], function(Plotly) {                    window.PLOTLYENV=window.PLOTLYENV || {};                                    if (document.getElementById(\"aa5286a3-d58e-4768-b938-2d2c7454117f\")) {                    Plotly.newPlot(                        \"aa5286a3-d58e-4768-b938-2d2c7454117f\",                        [{\"hovertemplate\":\"foo=aaaaaaaaaaaaaaaaaa\\u003cbr\\u003ebaz=%{x}\\u003cbr\\u003ebar=%{y}\\u003cextra\\u003e\\u003c\\u002fextra\\u003e\",\"legendgroup\":\"aaaaaaaaaaaaaaaaaa\",\"line\":{\"color\":\"#2fa1da\",\"dash\":\"solid\",\"width\":10},\"marker\":{\"symbol\":\"circle\"},\"mode\":\"lines\",\"name\":\"aaaaaaaaaaaaaaaaaa\",\"orientation\":\"v\",\"showlegend\":true,\"x\":[0,1,2,3,4],\"xaxis\":\"x\",\"y\":[0.24672505347947127,0.523090499279315,0.9606262856288327,0.9841852649479997,0.47393273763807797],\"yaxis\":\"y\",\"type\":\"scatter\"},{\"hovertemplate\":\"foo=b\\u003cbr\\u003ebaz=%{x}\\u003cbr\\u003ebar=%{y}\\u003cextra\\u003e\\u003c\\u002fextra\\u003e\",\"legendgroup\":\"b\",\"line\":{\"color\":\"#fb4f2f\",\"dash\":\"solid\",\"width\":10},\"marker\":{\"symbol\":\"circle\"},\"mode\":\"lines\",\"name\":\"b\",\"orientation\":\"v\",\"showlegend\":true,\"x\":[0,1,2,3,4],\"xaxis\":\"x\",\"y\":[0.736523217701888,0.18853023387416024,0.7218363322336134,0.3520506742392382,0.9866287468632301],\"yaxis\":\"y\",\"type\":\"scatter\"},{\"hovertemplate\":\"foo=c\\u003cbr\\u003ebaz=%{x}\\u003cbr\\u003ebar=%{y}\\u003cextra\\u003e\\u003c\\u002fextra\\u003e\",\"legendgroup\":\"c\",\"line\":{\"color\":\"#e4ae38\",\"dash\":\"solid\",\"width\":10},\"marker\":{\"symbol\":\"circle\"},\"mode\":\"lines\",\"name\":\"c\",\"orientation\":\"v\",\"showlegend\":true,\"x\":[0,1,2,3,4],\"xaxis\":\"x\",\"y\":[0.6779718525450447,0.7952322585827095,0.917859996625734,0.6382235529263369,0.09380782400772492],\"yaxis\":\"y\",\"type\":\"scatter\"}],                        {\"template\":{\"data\":{\"histogram2dcontour\":[{\"type\":\"histogram2dcontour\",\"colorbar\":{\"outlinewidth\":0,\"ticks\":\"\"},\"colorscale\":[[0.0,\"#0d0887\"],[0.1111111111111111,\"#46039f\"],[0.2222222222222222,\"#7201a8\"],[0.3333333333333333,\"#9c179e\"],[0.4444444444444444,\"#bd3786\"],[0.5555555555555556,\"#d8576b\"],[0.6666666666666666,\"#ed7953\"],[0.7777777777777778,\"#fb9f3a\"],[0.8888888888888888,\"#fdca26\"],[1.0,\"#f0f921\"]]}],\"choropleth\":[{\"type\":\"choropleth\",\"colorbar\":{\"outlinewidth\":0,\"ticks\":\"\"}}],\"histogram2d\":[{\"type\":\"histogram2d\",\"colorbar\":{\"outlinewidth\":0,\"ticks\":\"\"},\"colorscale\":[[0.0,\"#0d0887\"],[0.1111111111111111,\"#46039f\"],[0.2222222222222222,\"#7201a8\"],[0.3333333333333333,\"#9c179e\"],[0.4444444444444444,\"#bd3786\"],[0.5555555555555556,\"#d8576b\"],[0.6666666666666666,\"#ed7953\"],[0.7777777777777778,\"#fb9f3a\"],[0.8888888888888888,\"#fdca26\"],[1.0,\"#f0f921\"]]}],\"heatmap\":[{\"type\":\"heatmap\",\"colorbar\":{\"outlinewidth\":0,\"ticks\":\"\"},\"colorscale\":[[0.0,\"#0d0887\"],[0.1111111111111111,\"#46039f\"],[0.2222222222222222,\"#7201a8\"],[0.3333333333333333,\"#9c179e\"],[0.4444444444444444,\"#bd3786\"],[0.5555555555555556,\"#d8576b\"],[0.6666666666666666,\"#ed7953\"],[0.7777777777777778,\"#fb9f3a\"],[0.8888888888888888,\"#fdca26\"],[1.0,\"#f0f921\"]]}],\"heatmapgl\":[{\"type\":\"heatmapgl\",\"colorbar\":{\"outlinewidth\":0,\"ticks\":\"\"},\"colorscale\":[[0.0,\"#0d0887\"],[0.1111111111111111,\"#46039f\"],[0.2222222222222222,\"#7201a8\"],[0.3333333333333333,\"#9c179e\"],[0.4444444444444444,\"#bd3786\"],[0.5555555555555556,\"#d8576b\"],[0.6666666666666666,\"#ed7953\"],[0.7777777777777778,\"#fb9f3a\"],[0.8888888888888888,\"#fdca26\"],[1.0,\"#f0f921\"]]}],\"contourcarpet\":[{\"type\":\"contourcarpet\",\"colorbar\":{\"outlinewidth\":0,\"ticks\":\"\"}}],\"contour\":[{\"type\":\"contour\",\"colorbar\":{\"outlinewidth\":0,\"ticks\":\"\"},\"colorscale\":[[0.0,\"#0d0887\"],[0.1111111111111111,\"#46039f\"],[0.2222222222222222,\"#7201a8\"],[0.3333333333333333,\"#9c179e\"],[0.4444444444444444,\"#bd3786\"],[0.5555555555555556,\"#d8576b\"],[0.6666666666666666,\"#ed7953\"],[0.7777777777777778,\"#fb9f3a\"],[0.8888888888888888,\"#fdca26\"],[1.0,\"#f0f921\"]]}],\"surface\":[{\"type\":\"surface\",\"colorbar\":{\"outlinewidth\":0,\"ticks\":\"\"},\"colorscale\":[[0.0,\"#0d0887\"],[0.1111111111111111,\"#46039f\"],[0.2222222222222222,\"#7201a8\"],[0.3333333333333333,\"#9c179e\"],[0.4444444444444444,\"#bd3786\"],[0.5555555555555556,\"#d8576b\"],[0.6666666666666666,\"#ed7953\"],[0.7777777777777778,\"#fb9f3a\"],[0.8888888888888888,\"#fdca26\"],[1.0,\"#f0f921\"]]}],\"mesh3d\":[{\"type\":\"mesh3d\",\"colorbar\":{\"outlinewidth\":0,\"ticks\":\"\"}}],\"scatter\":[{\"fillpattern\":{\"fillmode\":\"overlay\",\"size\":10,\"solidity\":0.2},\"type\":\"scatter\"}],\"parcoords\":[{\"type\":\"parcoords\",\"line\":{\"colorbar\":{\"outlinewidth\":0,\"ticks\":\"\"}}}],\"scatterpolargl\":[{\"type\":\"scatterpolargl\",\"marker\":{\"colorbar\":{\"outlinewidth\":0,\"ticks\":\"\"}}}],\"bar\":[{\"error_x\":{\"color\":\"#2a3f5f\"},\"error_y\":{\"color\":\"#2a3f5f\"},\"marker\":{\"line\":{\"color\":\"white\",\"width\":0.5},\"pattern\":{\"fillmode\":\"overlay\",\"size\":10,\"solidity\":0.2}},\"type\":\"bar\"}],\"scattergeo\":[{\"type\":\"scattergeo\",\"marker\":{\"colorbar\":{\"outlinewidth\":0,\"ticks\":\"\"}}}],\"scatterpolar\":[{\"type\":\"scatterpolar\",\"marker\":{\"colorbar\":{\"outlinewidth\":0,\"ticks\":\"\"}}}],\"histogram\":[{\"marker\":{\"pattern\":{\"fillmode\":\"overlay\",\"size\":10,\"solidity\":0.2}},\"type\":\"histogram\"}],\"scattergl\":[{\"type\":\"scattergl\",\"marker\":{\"colorbar\":{\"outlinewidth\":0,\"ticks\":\"\"}}}],\"scatter3d\":[{\"type\":\"scatter3d\",\"line\":{\"colorbar\":{\"outlinewidth\":0,\"ticks\":\"\"}},\"marker\":{\"colorbar\":{\"outlinewidth\":0,\"ticks\":\"\"}}}],\"scattermapbox\":[{\"type\":\"scattermapbox\",\"marker\":{\"colorbar\":{\"outlinewidth\":0,\"ticks\":\"\"}}}],\"scatterternary\":[{\"type\":\"scatterternary\",\"marker\":{\"colorbar\":{\"outlinewidth\":0,\"ticks\":\"\"}}}],\"scattercarpet\":[{\"type\":\"scattercarpet\",\"marker\":{\"colorbar\":{\"outlinewidth\":0,\"ticks\":\"\"}}}],\"carpet\":[{\"aaxis\":{\"endlinecolor\":\"#2a3f5f\",\"gridcolor\":\"#C8D4E3\",\"linecolor\":\"#C8D4E3\",\"minorgridcolor\":\"#C8D4E3\",\"startlinecolor\":\"#2a3f5f\"},\"baxis\":{\"endlinecolor\":\"#2a3f5f\",\"gridcolor\":\"#C8D4E3\",\"linecolor\":\"#C8D4E3\",\"minorgridcolor\":\"#C8D4E3\",\"startlinecolor\":\"#2a3f5f\"},\"type\":\"carpet\"}],\"table\":[{\"cells\":{\"fill\":{\"color\":\"#EBF0F8\"},\"line\":{\"color\":\"white\"}},\"header\":{\"fill\":{\"color\":\"#C8D4E3\"},\"line\":{\"color\":\"white\"}},\"type\":\"table\"}],\"barpolar\":[{\"marker\":{\"line\":{\"color\":\"white\",\"width\":0.5},\"pattern\":{\"fillmode\":\"overlay\",\"size\":10,\"solidity\":0.2}},\"type\":\"barpolar\"}],\"pie\":[{\"automargin\":true,\"type\":\"pie\"}]},\"layout\":{\"autotypenumbers\":\"strict\",\"colorway\":[\"#2fa1da\",\"#fb4f2f\",\"#e4ae38\",\"#6d904f\",\"#8a8a8a\",\"#16bdcf\",\"#9367bc\",\"#d62628\",\"#1f77b3\",\"#e277c1\",\"#8c564b\",\"#bcbc21\",\"#3a0182\",\"#004200\",\"#0fffa8\",\"#5d003f\",\"#c6bcff\",\"#424f52\",\"#b80080\",\"#ffb6b3\",\"#7c0100\",\"#6026ff\",\"#ffff9a\",\"#aec8aa\",\"#00857c\",\"#543a00\",\"#93fbff\",\"#00bf00\",\"#7c00a0\",\"#aa7200\",\"#90ff00\",\"#01bd89\",\"#00447b\",\"#c8826e\",\"#ff1f82\",\"#dd00ff\",\"#057400\",\"#644460\",\"#878eff\",\"#ffb5f4\",\"#526236\",\"#cd85ff\",\"#676983\",\"#bdb3bd\",\"#a56089\",\"#95d3ff\",\"#0100f7\",\"#ff8001\",\"#8a2844\",\"#aca06d\",\"#52448a\",\"#c8ffd8\",\"#aa4600\",\"#ff798e\",\"#82d370\",\"#909ebf\",\"#9300f4\",\"#ebcf9a\",\"#ac8ab1\",\"#006249\",\"#ffdb00\",\"#877750\",\"#7eaaa3\",\"#000097\",\"#f400c6\",\"#643328\",\"#006677\",\"#03e2c8\",\"#a736ae\",\"#c4dbe1\",\"#4d6eff\",\"#9a9301\",\"#cd576b\",\"#efddfd\",\"#795900\",\"#5e879a\",\"#b3ff91\",\"#5d726b\",\"#520066\",\"#058750\",\"#831f6e\",\"#3b9505\",\"#647200\",\"#f0a06b\",\"#5e4f44\",\"#bc0049\",\"#cf6726\",\"#d695aa\",\"#895dff\",\"#826b75\",\"#2a54b8\",\"#6e7cba\",\"#e6d4d3\",\"#5d0018\",\"#7c3b01\",\"#80b17c\",\"#c8d87c\",\"#00e83b\",\"#7cb1ff\",\"#ff54ff\",\"#a32621\",\"#1ce4ff\",\"#7caf3b\",\"#7b4b90\",\"#dfff48\",\"#6b00c3\",\"#cda897\",\"#bd62c3\",\"#89cdcd\",\"#4603c8\",\"#5d9179\",\"#414901\",\"#05a79c\",\"#cf8c36\",\"#fff7cf\",\"#425470\",\"#b544ff\",\"#cf4993\",\"#cfa3df\",\"#93d400\",\"#a793da\",\"#2da557\",\"#8ce2b5\",\"#a3a89c\",\"#6b5bb6\",\"#ff7e5d\",\"#a78289\",\"#afbdd8\",\"#2ac3ff\",\"#a5673d\",\"#f690fd\",\"#874b64\",\"#ff0c4b\",\"#215d23\",\"#4291ff\",\"#87829c\",\"#672d44\",\"#b14f41\",\"#004d52\",\"#5e1a00\",\"#ac4167\",\"#4f3167\",\"#d6fffd\",\"#7eb5d1\",\"#a8b869\",\"#ff95ca\",\"#c87495\",\"#364f38\",\"#ffcf62\",\"#5d5762\",\"#879375\",\"#a877ff\",\"#03c862\",\"#e6bdd4\",\"#d4e2cf\",\"#876790\",\"#897c26\",\"#cddbff\",\"#aa676b\",\"#313474\",\"#ff5da8\",\"#009aaf\",\"#70ffdd\",\"#775b38\",\"#4f649a\",\"#cc00b3\",\"#567b54\",\"#506e7b\",\"#015e91\",\"#aabcbd\",\"#017e99\",\"#03dd97\",\"#873a2b\",\"#ef958e\",\"#75c6aa\",\"#70695d\",\"#ccdb08\",\"#af8556\",\"#d80075\",\"#9c3f80\",\"#d84400\",\"#dd6754\",\"#5eff79\",\"#d4b172\",\"#62265d\",\"#baa13d\",\"#d8f2b3\",\"#56018e\",\"#a19aaa\",\"#4d4926\",\"#a3a8ff\",\"#ace8db\",\"#995901\",\"#ac00e2\",\"#46822f\",\"#cac3ac\",\"#00c4b5\",\"#605277\",\"#336d67\",\"#a59180\",\"#8399a1\",\"#fd5664\",\"#7095d1\",\"#728c07\",\"#7e004b\",\"#152fa0\",\"#d1c1e2\",\"#c885cf\",\"#6b444b\",\"#7e0023\",\"#00a179\",\"#b1a8cf\",\"#f90000\",\"#afe8ff\",\"#939e4f\",\"#727982\",\"#d82d54\",\"#466001\",\"#0059ff\",\"#773fb5\",\"#ace460\",\"#674424\",\"#525d50\",\"#957267\",\"#a8e49a\",\"#a30057\",\"#d862f6\",\"#8e7ccf\",\"#ffbc93\",\"#a30091\",\"#9affb8\",\"#a7c1ff\",\"#f46200\",\"#e4efff\",\"#b89ca3\",\"#609593\",\"#ff9e34\",\"#8c2800\",\"#726b31\",\"#df824d\",\"#af7bd4\",\"#bc2d00\",\"#7b6ea3\",\"#484262\",\"#c6a3ff\",\"#004d28\",\"#c3c68e\",\"#df48d6\",\"#e6e864\",\"#e4c10a\",\"#00f4f0\",\"#9e5ba1\",\"#4b41b6\",\"#64338e\",\"#757e6b\",\"#a88936\"],\"font\":{\"color\":\"#2a3f5f\"},\"hovermode\":\"closest\",\"hoverlabel\":{\"align\":\"left\"},\"paper_bgcolor\":\"white\",\"plot_bgcolor\":\"white\",\"polar\":{\"bgcolor\":\"white\",\"angularaxis\":{\"gridcolor\":\"#EBF0F8\",\"linecolor\":\"#EBF0F8\",\"ticks\":\"\"},\"radialaxis\":{\"gridcolor\":\"#EBF0F8\",\"linecolor\":\"#EBF0F8\",\"ticks\":\"\"}},\"ternary\":{\"bgcolor\":\"white\",\"aaxis\":{\"gridcolor\":\"#DFE8F3\",\"linecolor\":\"#A2B1C6\",\"ticks\":\"\"},\"baxis\":{\"gridcolor\":\"#DFE8F3\",\"linecolor\":\"#A2B1C6\",\"ticks\":\"\"},\"caxis\":{\"gridcolor\":\"#DFE8F3\",\"linecolor\":\"#A2B1C6\",\"ticks\":\"\"}},\"coloraxis\":{\"colorbar\":{\"outlinewidth\":0,\"ticks\":\"\"}},\"colorscale\":{\"sequential\":[[0.0,\"#0d0887\"],[0.1111111111111111,\"#46039f\"],[0.2222222222222222,\"#7201a8\"],[0.3333333333333333,\"#9c179e\"],[0.4444444444444444,\"#bd3786\"],[0.5555555555555556,\"#d8576b\"],[0.6666666666666666,\"#ed7953\"],[0.7777777777777778,\"#fb9f3a\"],[0.8888888888888888,\"#fdca26\"],[1.0,\"#f0f921\"]],\"sequentialminus\":[[0.0,\"#0d0887\"],[0.1111111111111111,\"#46039f\"],[0.2222222222222222,\"#7201a8\"],[0.3333333333333333,\"#9c179e\"],[0.4444444444444444,\"#bd3786\"],[0.5555555555555556,\"#d8576b\"],[0.6666666666666666,\"#ed7953\"],[0.7777777777777778,\"#fb9f3a\"],[0.8888888888888888,\"#fdca26\"],[1.0,\"#f0f921\"]],\"diverging\":[[0,\"#8e0152\"],[0.1,\"#c51b7d\"],[0.2,\"#de77ae\"],[0.3,\"#f1b6da\"],[0.4,\"#fde0ef\"],[0.5,\"#f7f7f7\"],[0.6,\"#e6f5d0\"],[0.7,\"#b8e186\"],[0.8,\"#7fbc41\"],[0.9,\"#4d9221\"],[1,\"#276419\"]]},\"xaxis\":{\"gridcolor\":\"#EBF0F8\",\"linecolor\":\"#EBF0F8\",\"ticks\":\"\",\"title\":{\"standoff\":15},\"zerolinecolor\":\"#EBF0F8\",\"automargin\":true,\"zerolinewidth\":2},\"yaxis\":{\"gridcolor\":\"#EBF0F8\",\"linecolor\":\"#EBF0F8\",\"ticks\":\"\",\"title\":{\"standoff\":15},\"zerolinecolor\":\"#EBF0F8\",\"automargin\":true,\"zerolinewidth\":2},\"scene\":{\"xaxis\":{\"backgroundcolor\":\"white\",\"gridcolor\":\"#DFE8F3\",\"linecolor\":\"#EBF0F8\",\"showbackground\":true,\"ticks\":\"\",\"zerolinecolor\":\"#EBF0F8\",\"gridwidth\":2},\"yaxis\":{\"backgroundcolor\":\"white\",\"gridcolor\":\"#DFE8F3\",\"linecolor\":\"#EBF0F8\",\"showbackground\":true,\"ticks\":\"\",\"zerolinecolor\":\"#EBF0F8\",\"gridwidth\":2},\"zaxis\":{\"backgroundcolor\":\"white\",\"gridcolor\":\"#DFE8F3\",\"linecolor\":\"#EBF0F8\",\"showbackground\":true,\"ticks\":\"\",\"zerolinecolor\":\"#EBF0F8\",\"gridwidth\":2}},\"shapedefaults\":{\"line\":{\"color\":\"#2a3f5f\"}},\"annotationdefaults\":{\"arrowcolor\":\"#2a3f5f\",\"arrowhead\":0,\"arrowwidth\":1},\"geo\":{\"bgcolor\":\"white\",\"landcolor\":\"white\",\"subunitcolor\":\"#C8D4E3\",\"showland\":true,\"showlakes\":true,\"lakecolor\":\"white\"},\"title\":{\"x\":0.05},\"mapbox\":{\"style\":\"light\"},\"legend\":{\"tracegroupgap\":0},\"width\":700,\"height\":400,\"autosize\":false}},\"xaxis\":{\"anchor\":\"y\",\"domain\":[0.0,1.0],\"title\":{\"text\":\"baz\"}},\"yaxis\":{\"anchor\":\"x\",\"domain\":[0.0,1.0],\"title\":{\"text\":\"bar\"}},\"legend\":{\"title\":{},\"tracegroupgap\":0},\"margin\":{\"t\":60}},                        {\"responsive\": true}                    ).then(function(){\n",
       "                            \n",
       "var gd = document.getElementById('aa5286a3-d58e-4768-b938-2d2c7454117f');\n",
       "var x = new MutationObserver(function (mutations, observer) {{\n",
       "        var display = window.getComputedStyle(gd).display;\n",
       "        if (!display || display === 'none') {{\n",
       "            console.log([gd, 'removed!']);\n",
       "            Plotly.purge(gd);\n",
       "            observer.disconnect();\n",
       "        }}\n",
       "}});\n",
       "\n",
       "// Listen for the removal of the full notebook cells\n",
       "var notebookContainer = gd.closest('#notebook-container');\n",
       "if (notebookContainer) {{\n",
       "    x.observe(notebookContainer, {childList: true});\n",
       "}}\n",
       "\n",
       "// Listen for the clearing of the current output cell\n",
       "var outputEl = gd.closest('.output');\n",
       "if (outputEl) {{\n",
       "    x.observe(outputEl, {childList: true});\n",
       "}}\n",
       "\n",
       "                        })                };                });            </script>        </div>"
      ]
     },
     "metadata": {},
     "output_type": "display_data"
    }
   ],
   "source": [
    "U3.visualize(line_width=10)"
   ]
  },
  {
   "cell_type": "code",
   "execution_count": null,
   "metadata": {},
   "outputs": [
    {
     "data": {
      "application/vnd.plotly.v1+json": {
       "config": {
        "plotlyServerURL": "https://plot.ly"
       },
       "data": [
        {
         "hovertemplate": "foo=aaaaaaaaaaaaaaaaaa<br>baz=%{x}<br>bar=%{y}<extra></extra>",
         "legendgroup": "aaaaaaaaaaaaaaaaaa",
         "line": {
          "color": "#2fa1da",
          "dash": "solid",
          "width": 0
         },
         "marker": {
          "symbol": "circle"
         },
         "mode": "lines+markers",
         "name": "aaaaaaaaaaaaaaaaaa",
         "orientation": "v",
         "showlegend": true,
         "type": "scatter",
         "x": [
          0,
          1,
          2,
          3,
          4
         ],
         "xaxis": "x",
         "y": [
          0.24672505347947127,
          0.523090499279315,
          0.9606262856288327,
          0.9841852649479997,
          0.47393273763807797
         ],
         "yaxis": "y"
        },
        {
         "hovertemplate": "foo=b<br>baz=%{x}<br>bar=%{y}<extra></extra>",
         "legendgroup": "b",
         "line": {
          "color": "#fb4f2f",
          "dash": "solid",
          "width": 0
         },
         "marker": {
          "symbol": "circle"
         },
         "mode": "lines+markers",
         "name": "b",
         "orientation": "v",
         "showlegend": true,
         "type": "scatter",
         "x": [
          0,
          1,
          2,
          3,
          4
         ],
         "xaxis": "x",
         "y": [
          0.736523217701888,
          0.18853023387416024,
          0.7218363322336134,
          0.3520506742392382,
          0.9866287468632301
         ],
         "yaxis": "y"
        },
        {
         "hovertemplate": "foo=c<br>baz=%{x}<br>bar=%{y}<extra></extra>",
         "legendgroup": "c",
         "line": {
          "color": "#e4ae38",
          "dash": "solid",
          "width": 0
         },
         "marker": {
          "symbol": "circle"
         },
         "mode": "lines+markers",
         "name": "c",
         "orientation": "v",
         "showlegend": true,
         "type": "scatter",
         "x": [
          0,
          1,
          2,
          3,
          4
         ],
         "xaxis": "x",
         "y": [
          0.6779718525450447,
          0.7952322585827095,
          0.917859996625734,
          0.6382235529263369,
          0.09380782400772492
         ],
         "yaxis": "y"
        }
       ],
       "layout": {
        "height": 360,
        "legend": {
         "title": {},
         "tracegroupgap": 0
        },
        "template": {
         "data": {
          "bar": [
           {
            "error_x": {
             "color": "#2a3f5f"
            },
            "error_y": {
             "color": "#2a3f5f"
            },
            "marker": {
             "line": {
              "color": "white",
              "width": 0.5
             },
             "pattern": {
              "fillmode": "overlay",
              "size": 10,
              "solidity": 0.2
             }
            },
            "type": "bar"
           }
          ],
          "barpolar": [
           {
            "marker": {
             "line": {
              "color": "white",
              "width": 0.5
             },
             "pattern": {
              "fillmode": "overlay",
              "size": 10,
              "solidity": 0.2
             }
            },
            "type": "barpolar"
           }
          ],
          "carpet": [
           {
            "aaxis": {
             "endlinecolor": "#2a3f5f",
             "gridcolor": "#C8D4E3",
             "linecolor": "#C8D4E3",
             "minorgridcolor": "#C8D4E3",
             "startlinecolor": "#2a3f5f"
            },
            "baxis": {
             "endlinecolor": "#2a3f5f",
             "gridcolor": "#C8D4E3",
             "linecolor": "#C8D4E3",
             "minorgridcolor": "#C8D4E3",
             "startlinecolor": "#2a3f5f"
            },
            "type": "carpet"
           }
          ],
          "choropleth": [
           {
            "colorbar": {
             "outlinewidth": 0,
             "ticks": ""
            },
            "type": "choropleth"
           }
          ],
          "contour": [
           {
            "colorbar": {
             "outlinewidth": 0,
             "ticks": ""
            },
            "colorscale": [
             [
              0,
              "#0d0887"
             ],
             [
              0.1111111111111111,
              "#46039f"
             ],
             [
              0.2222222222222222,
              "#7201a8"
             ],
             [
              0.3333333333333333,
              "#9c179e"
             ],
             [
              0.4444444444444444,
              "#bd3786"
             ],
             [
              0.5555555555555556,
              "#d8576b"
             ],
             [
              0.6666666666666666,
              "#ed7953"
             ],
             [
              0.7777777777777778,
              "#fb9f3a"
             ],
             [
              0.8888888888888888,
              "#fdca26"
             ],
             [
              1,
              "#f0f921"
             ]
            ],
            "type": "contour"
           }
          ],
          "contourcarpet": [
           {
            "colorbar": {
             "outlinewidth": 0,
             "ticks": ""
            },
            "type": "contourcarpet"
           }
          ],
          "heatmap": [
           {
            "colorbar": {
             "outlinewidth": 0,
             "ticks": ""
            },
            "colorscale": [
             [
              0,
              "#0d0887"
             ],
             [
              0.1111111111111111,
              "#46039f"
             ],
             [
              0.2222222222222222,
              "#7201a8"
             ],
             [
              0.3333333333333333,
              "#9c179e"
             ],
             [
              0.4444444444444444,
              "#bd3786"
             ],
             [
              0.5555555555555556,
              "#d8576b"
             ],
             [
              0.6666666666666666,
              "#ed7953"
             ],
             [
              0.7777777777777778,
              "#fb9f3a"
             ],
             [
              0.8888888888888888,
              "#fdca26"
             ],
             [
              1,
              "#f0f921"
             ]
            ],
            "type": "heatmap"
           }
          ],
          "heatmapgl": [
           {
            "colorbar": {
             "outlinewidth": 0,
             "ticks": ""
            },
            "colorscale": [
             [
              0,
              "#0d0887"
             ],
             [
              0.1111111111111111,
              "#46039f"
             ],
             [
              0.2222222222222222,
              "#7201a8"
             ],
             [
              0.3333333333333333,
              "#9c179e"
             ],
             [
              0.4444444444444444,
              "#bd3786"
             ],
             [
              0.5555555555555556,
              "#d8576b"
             ],
             [
              0.6666666666666666,
              "#ed7953"
             ],
             [
              0.7777777777777778,
              "#fb9f3a"
             ],
             [
              0.8888888888888888,
              "#fdca26"
             ],
             [
              1,
              "#f0f921"
             ]
            ],
            "type": "heatmapgl"
           }
          ],
          "histogram": [
           {
            "marker": {
             "pattern": {
              "fillmode": "overlay",
              "size": 10,
              "solidity": 0.2
             }
            },
            "type": "histogram"
           }
          ],
          "histogram2d": [
           {
            "colorbar": {
             "outlinewidth": 0,
             "ticks": ""
            },
            "colorscale": [
             [
              0,
              "#0d0887"
             ],
             [
              0.1111111111111111,
              "#46039f"
             ],
             [
              0.2222222222222222,
              "#7201a8"
             ],
             [
              0.3333333333333333,
              "#9c179e"
             ],
             [
              0.4444444444444444,
              "#bd3786"
             ],
             [
              0.5555555555555556,
              "#d8576b"
             ],
             [
              0.6666666666666666,
              "#ed7953"
             ],
             [
              0.7777777777777778,
              "#fb9f3a"
             ],
             [
              0.8888888888888888,
              "#fdca26"
             ],
             [
              1,
              "#f0f921"
             ]
            ],
            "type": "histogram2d"
           }
          ],
          "histogram2dcontour": [
           {
            "colorbar": {
             "outlinewidth": 0,
             "ticks": ""
            },
            "colorscale": [
             [
              0,
              "#0d0887"
             ],
             [
              0.1111111111111111,
              "#46039f"
             ],
             [
              0.2222222222222222,
              "#7201a8"
             ],
             [
              0.3333333333333333,
              "#9c179e"
             ],
             [
              0.4444444444444444,
              "#bd3786"
             ],
             [
              0.5555555555555556,
              "#d8576b"
             ],
             [
              0.6666666666666666,
              "#ed7953"
             ],
             [
              0.7777777777777778,
              "#fb9f3a"
             ],
             [
              0.8888888888888888,
              "#fdca26"
             ],
             [
              1,
              "#f0f921"
             ]
            ],
            "type": "histogram2dcontour"
           }
          ],
          "mesh3d": [
           {
            "colorbar": {
             "outlinewidth": 0,
             "ticks": ""
            },
            "type": "mesh3d"
           }
          ],
          "parcoords": [
           {
            "line": {
             "colorbar": {
              "outlinewidth": 0,
              "ticks": ""
             }
            },
            "type": "parcoords"
           }
          ],
          "pie": [
           {
            "automargin": true,
            "type": "pie"
           }
          ],
          "scatter": [
           {
            "fillpattern": {
             "fillmode": "overlay",
             "size": 10,
             "solidity": 0.2
            },
            "type": "scatter"
           }
          ],
          "scatter3d": [
           {
            "line": {
             "colorbar": {
              "outlinewidth": 0,
              "ticks": ""
             }
            },
            "marker": {
             "colorbar": {
              "outlinewidth": 0,
              "ticks": ""
             }
            },
            "type": "scatter3d"
           }
          ],
          "scattercarpet": [
           {
            "marker": {
             "colorbar": {
              "outlinewidth": 0,
              "ticks": ""
             }
            },
            "type": "scattercarpet"
           }
          ],
          "scattergeo": [
           {
            "marker": {
             "colorbar": {
              "outlinewidth": 0,
              "ticks": ""
             }
            },
            "type": "scattergeo"
           }
          ],
          "scattergl": [
           {
            "marker": {
             "colorbar": {
              "outlinewidth": 0,
              "ticks": ""
             }
            },
            "type": "scattergl"
           }
          ],
          "scattermapbox": [
           {
            "marker": {
             "colorbar": {
              "outlinewidth": 0,
              "ticks": ""
             }
            },
            "type": "scattermapbox"
           }
          ],
          "scatterpolar": [
           {
            "marker": {
             "colorbar": {
              "outlinewidth": 0,
              "ticks": ""
             }
            },
            "type": "scatterpolar"
           }
          ],
          "scatterpolargl": [
           {
            "marker": {
             "colorbar": {
              "outlinewidth": 0,
              "ticks": ""
             }
            },
            "type": "scatterpolargl"
           }
          ],
          "scatterternary": [
           {
            "marker": {
             "colorbar": {
              "outlinewidth": 0,
              "ticks": ""
             }
            },
            "type": "scatterternary"
           }
          ],
          "surface": [
           {
            "colorbar": {
             "outlinewidth": 0,
             "ticks": ""
            },
            "colorscale": [
             [
              0,
              "#0d0887"
             ],
             [
              0.1111111111111111,
              "#46039f"
             ],
             [
              0.2222222222222222,
              "#7201a8"
             ],
             [
              0.3333333333333333,
              "#9c179e"
             ],
             [
              0.4444444444444444,
              "#bd3786"
             ],
             [
              0.5555555555555556,
              "#d8576b"
             ],
             [
              0.6666666666666666,
              "#ed7953"
             ],
             [
              0.7777777777777778,
              "#fb9f3a"
             ],
             [
              0.8888888888888888,
              "#fdca26"
             ],
             [
              1,
              "#f0f921"
             ]
            ],
            "type": "surface"
           }
          ],
          "table": [
           {
            "cells": {
             "fill": {
              "color": "#EBF0F8"
             },
             "line": {
              "color": "white"
             }
            },
            "header": {
             "fill": {
              "color": "#C8D4E3"
             },
             "line": {
              "color": "white"
             }
            },
            "type": "table"
           }
          ]
         },
         "layout": {
          "annotationdefaults": {
           "arrowcolor": "#2a3f5f",
           "arrowhead": 0,
           "arrowwidth": 1
          },
          "autosize": false,
          "autotypenumbers": "strict",
          "coloraxis": {
           "colorbar": {
            "outlinewidth": 0,
            "ticks": ""
           }
          },
          "colorscale": {
           "diverging": [
            [
             0,
             "#8e0152"
            ],
            [
             0.1,
             "#c51b7d"
            ],
            [
             0.2,
             "#de77ae"
            ],
            [
             0.3,
             "#f1b6da"
            ],
            [
             0.4,
             "#fde0ef"
            ],
            [
             0.5,
             "#f7f7f7"
            ],
            [
             0.6,
             "#e6f5d0"
            ],
            [
             0.7,
             "#b8e186"
            ],
            [
             0.8,
             "#7fbc41"
            ],
            [
             0.9,
             "#4d9221"
            ],
            [
             1,
             "#276419"
            ]
           ],
           "sequential": [
            [
             0,
             "#0d0887"
            ],
            [
             0.1111111111111111,
             "#46039f"
            ],
            [
             0.2222222222222222,
             "#7201a8"
            ],
            [
             0.3333333333333333,
             "#9c179e"
            ],
            [
             0.4444444444444444,
             "#bd3786"
            ],
            [
             0.5555555555555556,
             "#d8576b"
            ],
            [
             0.6666666666666666,
             "#ed7953"
            ],
            [
             0.7777777777777778,
             "#fb9f3a"
            ],
            [
             0.8888888888888888,
             "#fdca26"
            ],
            [
             1,
             "#f0f921"
            ]
           ],
           "sequentialminus": [
            [
             0,
             "#0d0887"
            ],
            [
             0.1111111111111111,
             "#46039f"
            ],
            [
             0.2222222222222222,
             "#7201a8"
            ],
            [
             0.3333333333333333,
             "#9c179e"
            ],
            [
             0.4444444444444444,
             "#bd3786"
            ],
            [
             0.5555555555555556,
             "#d8576b"
            ],
            [
             0.6666666666666666,
             "#ed7953"
            ],
            [
             0.7777777777777778,
             "#fb9f3a"
            ],
            [
             0.8888888888888888,
             "#fdca26"
            ],
            [
             1,
             "#f0f921"
            ]
           ]
          },
          "colorway": [
           "#2fa1da",
           "#fb4f2f",
           "#e4ae38",
           "#6d904f",
           "#8a8a8a",
           "#16bdcf",
           "#9367bc",
           "#d62628",
           "#1f77b3",
           "#e277c1",
           "#8c564b",
           "#bcbc21",
           "#3a0182",
           "#004200",
           "#0fffa8",
           "#5d003f",
           "#c6bcff",
           "#424f52",
           "#b80080",
           "#ffb6b3",
           "#7c0100",
           "#6026ff",
           "#ffff9a",
           "#aec8aa",
           "#00857c",
           "#543a00",
           "#93fbff",
           "#00bf00",
           "#7c00a0",
           "#aa7200",
           "#90ff00",
           "#01bd89",
           "#00447b",
           "#c8826e",
           "#ff1f82",
           "#dd00ff",
           "#057400",
           "#644460",
           "#878eff",
           "#ffb5f4",
           "#526236",
           "#cd85ff",
           "#676983",
           "#bdb3bd",
           "#a56089",
           "#95d3ff",
           "#0100f7",
           "#ff8001",
           "#8a2844",
           "#aca06d",
           "#52448a",
           "#c8ffd8",
           "#aa4600",
           "#ff798e",
           "#82d370",
           "#909ebf",
           "#9300f4",
           "#ebcf9a",
           "#ac8ab1",
           "#006249",
           "#ffdb00",
           "#877750",
           "#7eaaa3",
           "#000097",
           "#f400c6",
           "#643328",
           "#006677",
           "#03e2c8",
           "#a736ae",
           "#c4dbe1",
           "#4d6eff",
           "#9a9301",
           "#cd576b",
           "#efddfd",
           "#795900",
           "#5e879a",
           "#b3ff91",
           "#5d726b",
           "#520066",
           "#058750",
           "#831f6e",
           "#3b9505",
           "#647200",
           "#f0a06b",
           "#5e4f44",
           "#bc0049",
           "#cf6726",
           "#d695aa",
           "#895dff",
           "#826b75",
           "#2a54b8",
           "#6e7cba",
           "#e6d4d3",
           "#5d0018",
           "#7c3b01",
           "#80b17c",
           "#c8d87c",
           "#00e83b",
           "#7cb1ff",
           "#ff54ff",
           "#a32621",
           "#1ce4ff",
           "#7caf3b",
           "#7b4b90",
           "#dfff48",
           "#6b00c3",
           "#cda897",
           "#bd62c3",
           "#89cdcd",
           "#4603c8",
           "#5d9179",
           "#414901",
           "#05a79c",
           "#cf8c36",
           "#fff7cf",
           "#425470",
           "#b544ff",
           "#cf4993",
           "#cfa3df",
           "#93d400",
           "#a793da",
           "#2da557",
           "#8ce2b5",
           "#a3a89c",
           "#6b5bb6",
           "#ff7e5d",
           "#a78289",
           "#afbdd8",
           "#2ac3ff",
           "#a5673d",
           "#f690fd",
           "#874b64",
           "#ff0c4b",
           "#215d23",
           "#4291ff",
           "#87829c",
           "#672d44",
           "#b14f41",
           "#004d52",
           "#5e1a00",
           "#ac4167",
           "#4f3167",
           "#d6fffd",
           "#7eb5d1",
           "#a8b869",
           "#ff95ca",
           "#c87495",
           "#364f38",
           "#ffcf62",
           "#5d5762",
           "#879375",
           "#a877ff",
           "#03c862",
           "#e6bdd4",
           "#d4e2cf",
           "#876790",
           "#897c26",
           "#cddbff",
           "#aa676b",
           "#313474",
           "#ff5da8",
           "#009aaf",
           "#70ffdd",
           "#775b38",
           "#4f649a",
           "#cc00b3",
           "#567b54",
           "#506e7b",
           "#015e91",
           "#aabcbd",
           "#017e99",
           "#03dd97",
           "#873a2b",
           "#ef958e",
           "#75c6aa",
           "#70695d",
           "#ccdb08",
           "#af8556",
           "#d80075",
           "#9c3f80",
           "#d84400",
           "#dd6754",
           "#5eff79",
           "#d4b172",
           "#62265d",
           "#baa13d",
           "#d8f2b3",
           "#56018e",
           "#a19aaa",
           "#4d4926",
           "#a3a8ff",
           "#ace8db",
           "#995901",
           "#ac00e2",
           "#46822f",
           "#cac3ac",
           "#00c4b5",
           "#605277",
           "#336d67",
           "#a59180",
           "#8399a1",
           "#fd5664",
           "#7095d1",
           "#728c07",
           "#7e004b",
           "#152fa0",
           "#d1c1e2",
           "#c885cf",
           "#6b444b",
           "#7e0023",
           "#00a179",
           "#b1a8cf",
           "#f90000",
           "#afe8ff",
           "#939e4f",
           "#727982",
           "#d82d54",
           "#466001",
           "#0059ff",
           "#773fb5",
           "#ace460",
           "#674424",
           "#525d50",
           "#957267",
           "#a8e49a",
           "#a30057",
           "#d862f6",
           "#8e7ccf",
           "#ffbc93",
           "#a30091",
           "#9affb8",
           "#a7c1ff",
           "#f46200",
           "#e4efff",
           "#b89ca3",
           "#609593",
           "#ff9e34",
           "#8c2800",
           "#726b31",
           "#df824d",
           "#af7bd4",
           "#bc2d00",
           "#7b6ea3",
           "#484262",
           "#c6a3ff",
           "#004d28",
           "#c3c68e",
           "#df48d6",
           "#e6e864",
           "#e4c10a",
           "#00f4f0",
           "#9e5ba1",
           "#4b41b6",
           "#64338e",
           "#757e6b",
           "#a88936"
          ],
          "font": {
           "color": "#2a3f5f"
          },
          "geo": {
           "bgcolor": "white",
           "lakecolor": "white",
           "landcolor": "white",
           "showlakes": true,
           "showland": true,
           "subunitcolor": "#C8D4E3"
          },
          "height": 400,
          "hoverlabel": {
           "align": "left"
          },
          "hovermode": "closest",
          "legend": {
           "tracegroupgap": 0
          },
          "mapbox": {
           "style": "light"
          },
          "paper_bgcolor": "white",
          "plot_bgcolor": "white",
          "polar": {
           "angularaxis": {
            "gridcolor": "#EBF0F8",
            "linecolor": "#EBF0F8",
            "ticks": ""
           },
           "bgcolor": "white",
           "radialaxis": {
            "gridcolor": "#EBF0F8",
            "linecolor": "#EBF0F8",
            "ticks": ""
           }
          },
          "scene": {
           "xaxis": {
            "backgroundcolor": "white",
            "gridcolor": "#DFE8F3",
            "gridwidth": 2,
            "linecolor": "#EBF0F8",
            "showbackground": true,
            "ticks": "",
            "zerolinecolor": "#EBF0F8"
           },
           "yaxis": {
            "backgroundcolor": "white",
            "gridcolor": "#DFE8F3",
            "gridwidth": 2,
            "linecolor": "#EBF0F8",
            "showbackground": true,
            "ticks": "",
            "zerolinecolor": "#EBF0F8"
           },
           "zaxis": {
            "backgroundcolor": "white",
            "gridcolor": "#DFE8F3",
            "gridwidth": 2,
            "linecolor": "#EBF0F8",
            "showbackground": true,
            "ticks": "",
            "zerolinecolor": "#EBF0F8"
           }
          },
          "shapedefaults": {
           "line": {
            "color": "#2a3f5f"
           }
          },
          "ternary": {
           "aaxis": {
            "gridcolor": "#DFE8F3",
            "linecolor": "#A2B1C6",
            "ticks": ""
           },
           "baxis": {
            "gridcolor": "#DFE8F3",
            "linecolor": "#A2B1C6",
            "ticks": ""
           },
           "bgcolor": "white",
           "caxis": {
            "gridcolor": "#DFE8F3",
            "linecolor": "#A2B1C6",
            "ticks": ""
           }
          },
          "title": {
           "x": 0.05
          },
          "width": 700,
          "xaxis": {
           "automargin": true,
           "gridcolor": "#EBF0F8",
           "linecolor": "#EBF0F8",
           "ticks": "",
           "title": {
            "standoff": 15
           },
           "zerolinecolor": "#EBF0F8",
           "zerolinewidth": 2
          },
          "yaxis": {
           "automargin": true,
           "gridcolor": "#EBF0F8",
           "linecolor": "#EBF0F8",
           "ticks": "",
           "title": {
            "standoff": 15
           },
           "zerolinecolor": "#EBF0F8",
           "zerolinewidth": 2
          }
         }
        },
        "title": {
         "text": "biz"
        },
        "width": 700,
        "xaxis": {
         "anchor": "y",
         "domain": [
          0,
          1
         ],
         "range": [
          0.5,
          3
         ],
         "title": {
          "text": "baz"
         },
         "type": "linear"
        },
        "yaxis": {
         "anchor": "x",
         "autorange": true,
         "domain": [
          0,
          1
         ],
         "range": [
          0.020128427461396814,
          1.0603081434095583
         ],
         "title": {
          "text": "bar"
         },
         "type": "linear"
        }
       }
      },
      "text/html": [
       "<div>                            <div id=\"3ea819bd-c57a-4791-88e7-56512d726dc6\" class=\"plotly-graph-div\" style=\"height:400px; width:700px;\"></div>            <script type=\"text/javascript\">                require([\"plotly\"], function(Plotly) {                    window.PLOTLYENV=window.PLOTLYENV || {};                                    if (document.getElementById(\"3ea819bd-c57a-4791-88e7-56512d726dc6\")) {                    Plotly.newPlot(                        \"3ea819bd-c57a-4791-88e7-56512d726dc6\",                        [{\"hovertemplate\":\"foo=aaaaaaaaaaaaaaaaaa\\u003cbr\\u003ebaz=%{x}\\u003cbr\\u003ebar=%{y}\\u003cextra\\u003e\\u003c\\u002fextra\\u003e\",\"legendgroup\":\"aaaaaaaaaaaaaaaaaa\",\"line\":{\"color\":\"#2fa1da\",\"dash\":\"solid\",\"width\":0},\"marker\":{\"symbol\":\"circle\"},\"mode\":\"lines+markers\",\"name\":\"aaaaaaaaaaaaaaaaaa\",\"orientation\":\"v\",\"showlegend\":true,\"x\":[0,1,2,3,4],\"xaxis\":\"x\",\"y\":[0.24672505347947127,0.523090499279315,0.9606262856288327,0.9841852649479997,0.47393273763807797],\"yaxis\":\"y\",\"type\":\"scatter\"},{\"hovertemplate\":\"foo=b\\u003cbr\\u003ebaz=%{x}\\u003cbr\\u003ebar=%{y}\\u003cextra\\u003e\\u003c\\u002fextra\\u003e\",\"legendgroup\":\"b\",\"line\":{\"color\":\"#fb4f2f\",\"dash\":\"solid\",\"width\":0},\"marker\":{\"symbol\":\"circle\"},\"mode\":\"lines+markers\",\"name\":\"b\",\"orientation\":\"v\",\"showlegend\":true,\"x\":[0,1,2,3,4],\"xaxis\":\"x\",\"y\":[0.736523217701888,0.18853023387416024,0.7218363322336134,0.3520506742392382,0.9866287468632301],\"yaxis\":\"y\",\"type\":\"scatter\"},{\"hovertemplate\":\"foo=c\\u003cbr\\u003ebaz=%{x}\\u003cbr\\u003ebar=%{y}\\u003cextra\\u003e\\u003c\\u002fextra\\u003e\",\"legendgroup\":\"c\",\"line\":{\"color\":\"#e4ae38\",\"dash\":\"solid\",\"width\":0},\"marker\":{\"symbol\":\"circle\"},\"mode\":\"lines+markers\",\"name\":\"c\",\"orientation\":\"v\",\"showlegend\":true,\"x\":[0,1,2,3,4],\"xaxis\":\"x\",\"y\":[0.6779718525450447,0.7952322585827095,0.917859996625734,0.6382235529263369,0.09380782400772492],\"yaxis\":\"y\",\"type\":\"scatter\"}],                        {\"template\":{\"data\":{\"histogram2dcontour\":[{\"type\":\"histogram2dcontour\",\"colorbar\":{\"outlinewidth\":0,\"ticks\":\"\"},\"colorscale\":[[0.0,\"#0d0887\"],[0.1111111111111111,\"#46039f\"],[0.2222222222222222,\"#7201a8\"],[0.3333333333333333,\"#9c179e\"],[0.4444444444444444,\"#bd3786\"],[0.5555555555555556,\"#d8576b\"],[0.6666666666666666,\"#ed7953\"],[0.7777777777777778,\"#fb9f3a\"],[0.8888888888888888,\"#fdca26\"],[1.0,\"#f0f921\"]]}],\"choropleth\":[{\"type\":\"choropleth\",\"colorbar\":{\"outlinewidth\":0,\"ticks\":\"\"}}],\"histogram2d\":[{\"type\":\"histogram2d\",\"colorbar\":{\"outlinewidth\":0,\"ticks\":\"\"},\"colorscale\":[[0.0,\"#0d0887\"],[0.1111111111111111,\"#46039f\"],[0.2222222222222222,\"#7201a8\"],[0.3333333333333333,\"#9c179e\"],[0.4444444444444444,\"#bd3786\"],[0.5555555555555556,\"#d8576b\"],[0.6666666666666666,\"#ed7953\"],[0.7777777777777778,\"#fb9f3a\"],[0.8888888888888888,\"#fdca26\"],[1.0,\"#f0f921\"]]}],\"heatmap\":[{\"type\":\"heatmap\",\"colorbar\":{\"outlinewidth\":0,\"ticks\":\"\"},\"colorscale\":[[0.0,\"#0d0887\"],[0.1111111111111111,\"#46039f\"],[0.2222222222222222,\"#7201a8\"],[0.3333333333333333,\"#9c179e\"],[0.4444444444444444,\"#bd3786\"],[0.5555555555555556,\"#d8576b\"],[0.6666666666666666,\"#ed7953\"],[0.7777777777777778,\"#fb9f3a\"],[0.8888888888888888,\"#fdca26\"],[1.0,\"#f0f921\"]]}],\"heatmapgl\":[{\"type\":\"heatmapgl\",\"colorbar\":{\"outlinewidth\":0,\"ticks\":\"\"},\"colorscale\":[[0.0,\"#0d0887\"],[0.1111111111111111,\"#46039f\"],[0.2222222222222222,\"#7201a8\"],[0.3333333333333333,\"#9c179e\"],[0.4444444444444444,\"#bd3786\"],[0.5555555555555556,\"#d8576b\"],[0.6666666666666666,\"#ed7953\"],[0.7777777777777778,\"#fb9f3a\"],[0.8888888888888888,\"#fdca26\"],[1.0,\"#f0f921\"]]}],\"contourcarpet\":[{\"type\":\"contourcarpet\",\"colorbar\":{\"outlinewidth\":0,\"ticks\":\"\"}}],\"contour\":[{\"type\":\"contour\",\"colorbar\":{\"outlinewidth\":0,\"ticks\":\"\"},\"colorscale\":[[0.0,\"#0d0887\"],[0.1111111111111111,\"#46039f\"],[0.2222222222222222,\"#7201a8\"],[0.3333333333333333,\"#9c179e\"],[0.4444444444444444,\"#bd3786\"],[0.5555555555555556,\"#d8576b\"],[0.6666666666666666,\"#ed7953\"],[0.7777777777777778,\"#fb9f3a\"],[0.8888888888888888,\"#fdca26\"],[1.0,\"#f0f921\"]]}],\"surface\":[{\"type\":\"surface\",\"colorbar\":{\"outlinewidth\":0,\"ticks\":\"\"},\"colorscale\":[[0.0,\"#0d0887\"],[0.1111111111111111,\"#46039f\"],[0.2222222222222222,\"#7201a8\"],[0.3333333333333333,\"#9c179e\"],[0.4444444444444444,\"#bd3786\"],[0.5555555555555556,\"#d8576b\"],[0.6666666666666666,\"#ed7953\"],[0.7777777777777778,\"#fb9f3a\"],[0.8888888888888888,\"#fdca26\"],[1.0,\"#f0f921\"]]}],\"mesh3d\":[{\"type\":\"mesh3d\",\"colorbar\":{\"outlinewidth\":0,\"ticks\":\"\"}}],\"scatter\":[{\"fillpattern\":{\"fillmode\":\"overlay\",\"size\":10,\"solidity\":0.2},\"type\":\"scatter\"}],\"parcoords\":[{\"type\":\"parcoords\",\"line\":{\"colorbar\":{\"outlinewidth\":0,\"ticks\":\"\"}}}],\"scatterpolargl\":[{\"type\":\"scatterpolargl\",\"marker\":{\"colorbar\":{\"outlinewidth\":0,\"ticks\":\"\"}}}],\"bar\":[{\"error_x\":{\"color\":\"#2a3f5f\"},\"error_y\":{\"color\":\"#2a3f5f\"},\"marker\":{\"line\":{\"color\":\"white\",\"width\":0.5},\"pattern\":{\"fillmode\":\"overlay\",\"size\":10,\"solidity\":0.2}},\"type\":\"bar\"}],\"scattergeo\":[{\"type\":\"scattergeo\",\"marker\":{\"colorbar\":{\"outlinewidth\":0,\"ticks\":\"\"}}}],\"scatterpolar\":[{\"type\":\"scatterpolar\",\"marker\":{\"colorbar\":{\"outlinewidth\":0,\"ticks\":\"\"}}}],\"histogram\":[{\"marker\":{\"pattern\":{\"fillmode\":\"overlay\",\"size\":10,\"solidity\":0.2}},\"type\":\"histogram\"}],\"scattergl\":[{\"type\":\"scattergl\",\"marker\":{\"colorbar\":{\"outlinewidth\":0,\"ticks\":\"\"}}}],\"scatter3d\":[{\"type\":\"scatter3d\",\"line\":{\"colorbar\":{\"outlinewidth\":0,\"ticks\":\"\"}},\"marker\":{\"colorbar\":{\"outlinewidth\":0,\"ticks\":\"\"}}}],\"scattermapbox\":[{\"type\":\"scattermapbox\",\"marker\":{\"colorbar\":{\"outlinewidth\":0,\"ticks\":\"\"}}}],\"scatterternary\":[{\"type\":\"scatterternary\",\"marker\":{\"colorbar\":{\"outlinewidth\":0,\"ticks\":\"\"}}}],\"scattercarpet\":[{\"type\":\"scattercarpet\",\"marker\":{\"colorbar\":{\"outlinewidth\":0,\"ticks\":\"\"}}}],\"carpet\":[{\"aaxis\":{\"endlinecolor\":\"#2a3f5f\",\"gridcolor\":\"#C8D4E3\",\"linecolor\":\"#C8D4E3\",\"minorgridcolor\":\"#C8D4E3\",\"startlinecolor\":\"#2a3f5f\"},\"baxis\":{\"endlinecolor\":\"#2a3f5f\",\"gridcolor\":\"#C8D4E3\",\"linecolor\":\"#C8D4E3\",\"minorgridcolor\":\"#C8D4E3\",\"startlinecolor\":\"#2a3f5f\"},\"type\":\"carpet\"}],\"table\":[{\"cells\":{\"fill\":{\"color\":\"#EBF0F8\"},\"line\":{\"color\":\"white\"}},\"header\":{\"fill\":{\"color\":\"#C8D4E3\"},\"line\":{\"color\":\"white\"}},\"type\":\"table\"}],\"barpolar\":[{\"marker\":{\"line\":{\"color\":\"white\",\"width\":0.5},\"pattern\":{\"fillmode\":\"overlay\",\"size\":10,\"solidity\":0.2}},\"type\":\"barpolar\"}],\"pie\":[{\"automargin\":true,\"type\":\"pie\"}]},\"layout\":{\"autotypenumbers\":\"strict\",\"colorway\":[\"#2fa1da\",\"#fb4f2f\",\"#e4ae38\",\"#6d904f\",\"#8a8a8a\",\"#16bdcf\",\"#9367bc\",\"#d62628\",\"#1f77b3\",\"#e277c1\",\"#8c564b\",\"#bcbc21\",\"#3a0182\",\"#004200\",\"#0fffa8\",\"#5d003f\",\"#c6bcff\",\"#424f52\",\"#b80080\",\"#ffb6b3\",\"#7c0100\",\"#6026ff\",\"#ffff9a\",\"#aec8aa\",\"#00857c\",\"#543a00\",\"#93fbff\",\"#00bf00\",\"#7c00a0\",\"#aa7200\",\"#90ff00\",\"#01bd89\",\"#00447b\",\"#c8826e\",\"#ff1f82\",\"#dd00ff\",\"#057400\",\"#644460\",\"#878eff\",\"#ffb5f4\",\"#526236\",\"#cd85ff\",\"#676983\",\"#bdb3bd\",\"#a56089\",\"#95d3ff\",\"#0100f7\",\"#ff8001\",\"#8a2844\",\"#aca06d\",\"#52448a\",\"#c8ffd8\",\"#aa4600\",\"#ff798e\",\"#82d370\",\"#909ebf\",\"#9300f4\",\"#ebcf9a\",\"#ac8ab1\",\"#006249\",\"#ffdb00\",\"#877750\",\"#7eaaa3\",\"#000097\",\"#f400c6\",\"#643328\",\"#006677\",\"#03e2c8\",\"#a736ae\",\"#c4dbe1\",\"#4d6eff\",\"#9a9301\",\"#cd576b\",\"#efddfd\",\"#795900\",\"#5e879a\",\"#b3ff91\",\"#5d726b\",\"#520066\",\"#058750\",\"#831f6e\",\"#3b9505\",\"#647200\",\"#f0a06b\",\"#5e4f44\",\"#bc0049\",\"#cf6726\",\"#d695aa\",\"#895dff\",\"#826b75\",\"#2a54b8\",\"#6e7cba\",\"#e6d4d3\",\"#5d0018\",\"#7c3b01\",\"#80b17c\",\"#c8d87c\",\"#00e83b\",\"#7cb1ff\",\"#ff54ff\",\"#a32621\",\"#1ce4ff\",\"#7caf3b\",\"#7b4b90\",\"#dfff48\",\"#6b00c3\",\"#cda897\",\"#bd62c3\",\"#89cdcd\",\"#4603c8\",\"#5d9179\",\"#414901\",\"#05a79c\",\"#cf8c36\",\"#fff7cf\",\"#425470\",\"#b544ff\",\"#cf4993\",\"#cfa3df\",\"#93d400\",\"#a793da\",\"#2da557\",\"#8ce2b5\",\"#a3a89c\",\"#6b5bb6\",\"#ff7e5d\",\"#a78289\",\"#afbdd8\",\"#2ac3ff\",\"#a5673d\",\"#f690fd\",\"#874b64\",\"#ff0c4b\",\"#215d23\",\"#4291ff\",\"#87829c\",\"#672d44\",\"#b14f41\",\"#004d52\",\"#5e1a00\",\"#ac4167\",\"#4f3167\",\"#d6fffd\",\"#7eb5d1\",\"#a8b869\",\"#ff95ca\",\"#c87495\",\"#364f38\",\"#ffcf62\",\"#5d5762\",\"#879375\",\"#a877ff\",\"#03c862\",\"#e6bdd4\",\"#d4e2cf\",\"#876790\",\"#897c26\",\"#cddbff\",\"#aa676b\",\"#313474\",\"#ff5da8\",\"#009aaf\",\"#70ffdd\",\"#775b38\",\"#4f649a\",\"#cc00b3\",\"#567b54\",\"#506e7b\",\"#015e91\",\"#aabcbd\",\"#017e99\",\"#03dd97\",\"#873a2b\",\"#ef958e\",\"#75c6aa\",\"#70695d\",\"#ccdb08\",\"#af8556\",\"#d80075\",\"#9c3f80\",\"#d84400\",\"#dd6754\",\"#5eff79\",\"#d4b172\",\"#62265d\",\"#baa13d\",\"#d8f2b3\",\"#56018e\",\"#a19aaa\",\"#4d4926\",\"#a3a8ff\",\"#ace8db\",\"#995901\",\"#ac00e2\",\"#46822f\",\"#cac3ac\",\"#00c4b5\",\"#605277\",\"#336d67\",\"#a59180\",\"#8399a1\",\"#fd5664\",\"#7095d1\",\"#728c07\",\"#7e004b\",\"#152fa0\",\"#d1c1e2\",\"#c885cf\",\"#6b444b\",\"#7e0023\",\"#00a179\",\"#b1a8cf\",\"#f90000\",\"#afe8ff\",\"#939e4f\",\"#727982\",\"#d82d54\",\"#466001\",\"#0059ff\",\"#773fb5\",\"#ace460\",\"#674424\",\"#525d50\",\"#957267\",\"#a8e49a\",\"#a30057\",\"#d862f6\",\"#8e7ccf\",\"#ffbc93\",\"#a30091\",\"#9affb8\",\"#a7c1ff\",\"#f46200\",\"#e4efff\",\"#b89ca3\",\"#609593\",\"#ff9e34\",\"#8c2800\",\"#726b31\",\"#df824d\",\"#af7bd4\",\"#bc2d00\",\"#7b6ea3\",\"#484262\",\"#c6a3ff\",\"#004d28\",\"#c3c68e\",\"#df48d6\",\"#e6e864\",\"#e4c10a\",\"#00f4f0\",\"#9e5ba1\",\"#4b41b6\",\"#64338e\",\"#757e6b\",\"#a88936\"],\"font\":{\"color\":\"#2a3f5f\"},\"hovermode\":\"closest\",\"hoverlabel\":{\"align\":\"left\"},\"paper_bgcolor\":\"white\",\"plot_bgcolor\":\"white\",\"polar\":{\"bgcolor\":\"white\",\"angularaxis\":{\"gridcolor\":\"#EBF0F8\",\"linecolor\":\"#EBF0F8\",\"ticks\":\"\"},\"radialaxis\":{\"gridcolor\":\"#EBF0F8\",\"linecolor\":\"#EBF0F8\",\"ticks\":\"\"}},\"ternary\":{\"bgcolor\":\"white\",\"aaxis\":{\"gridcolor\":\"#DFE8F3\",\"linecolor\":\"#A2B1C6\",\"ticks\":\"\"},\"baxis\":{\"gridcolor\":\"#DFE8F3\",\"linecolor\":\"#A2B1C6\",\"ticks\":\"\"},\"caxis\":{\"gridcolor\":\"#DFE8F3\",\"linecolor\":\"#A2B1C6\",\"ticks\":\"\"}},\"coloraxis\":{\"colorbar\":{\"outlinewidth\":0,\"ticks\":\"\"}},\"colorscale\":{\"sequential\":[[0.0,\"#0d0887\"],[0.1111111111111111,\"#46039f\"],[0.2222222222222222,\"#7201a8\"],[0.3333333333333333,\"#9c179e\"],[0.4444444444444444,\"#bd3786\"],[0.5555555555555556,\"#d8576b\"],[0.6666666666666666,\"#ed7953\"],[0.7777777777777778,\"#fb9f3a\"],[0.8888888888888888,\"#fdca26\"],[1.0,\"#f0f921\"]],\"sequentialminus\":[[0.0,\"#0d0887\"],[0.1111111111111111,\"#46039f\"],[0.2222222222222222,\"#7201a8\"],[0.3333333333333333,\"#9c179e\"],[0.4444444444444444,\"#bd3786\"],[0.5555555555555556,\"#d8576b\"],[0.6666666666666666,\"#ed7953\"],[0.7777777777777778,\"#fb9f3a\"],[0.8888888888888888,\"#fdca26\"],[1.0,\"#f0f921\"]],\"diverging\":[[0,\"#8e0152\"],[0.1,\"#c51b7d\"],[0.2,\"#de77ae\"],[0.3,\"#f1b6da\"],[0.4,\"#fde0ef\"],[0.5,\"#f7f7f7\"],[0.6,\"#e6f5d0\"],[0.7,\"#b8e186\"],[0.8,\"#7fbc41\"],[0.9,\"#4d9221\"],[1,\"#276419\"]]},\"xaxis\":{\"gridcolor\":\"#EBF0F8\",\"linecolor\":\"#EBF0F8\",\"ticks\":\"\",\"title\":{\"standoff\":15},\"zerolinecolor\":\"#EBF0F8\",\"automargin\":true,\"zerolinewidth\":2},\"yaxis\":{\"gridcolor\":\"#EBF0F8\",\"linecolor\":\"#EBF0F8\",\"ticks\":\"\",\"title\":{\"standoff\":15},\"zerolinecolor\":\"#EBF0F8\",\"automargin\":true,\"zerolinewidth\":2},\"scene\":{\"xaxis\":{\"backgroundcolor\":\"white\",\"gridcolor\":\"#DFE8F3\",\"linecolor\":\"#EBF0F8\",\"showbackground\":true,\"ticks\":\"\",\"zerolinecolor\":\"#EBF0F8\",\"gridwidth\":2},\"yaxis\":{\"backgroundcolor\":\"white\",\"gridcolor\":\"#DFE8F3\",\"linecolor\":\"#EBF0F8\",\"showbackground\":true,\"ticks\":\"\",\"zerolinecolor\":\"#EBF0F8\",\"gridwidth\":2},\"zaxis\":{\"backgroundcolor\":\"white\",\"gridcolor\":\"#DFE8F3\",\"linecolor\":\"#EBF0F8\",\"showbackground\":true,\"ticks\":\"\",\"zerolinecolor\":\"#EBF0F8\",\"gridwidth\":2}},\"shapedefaults\":{\"line\":{\"color\":\"#2a3f5f\"}},\"annotationdefaults\":{\"arrowcolor\":\"#2a3f5f\",\"arrowhead\":0,\"arrowwidth\":1},\"geo\":{\"bgcolor\":\"white\",\"landcolor\":\"white\",\"subunitcolor\":\"#C8D4E3\",\"showland\":true,\"showlakes\":true,\"lakecolor\":\"white\"},\"title\":{\"x\":0.05},\"mapbox\":{\"style\":\"light\"},\"legend\":{\"tracegroupgap\":0},\"width\":700,\"height\":400,\"autosize\":false}},\"xaxis\":{\"anchor\":\"y\",\"domain\":[0.0,1.0],\"title\":{\"text\":\"baz\"},\"range\":[0.5,3]},\"yaxis\":{\"anchor\":\"x\",\"domain\":[0.0,1.0],\"title\":{\"text\":\"bar\"}},\"legend\":{\"title\":{},\"tracegroupgap\":0},\"title\":{\"text\":\"biz\"}},                        {\"responsive\": true}                    ).then(function(){\n",
       "                            \n",
       "var gd = document.getElementById('3ea819bd-c57a-4791-88e7-56512d726dc6');\n",
       "var x = new MutationObserver(function (mutations, observer) {{\n",
       "        var display = window.getComputedStyle(gd).display;\n",
       "        if (!display || display === 'none') {{\n",
       "            console.log([gd, 'removed!']);\n",
       "            Plotly.purge(gd);\n",
       "            observer.disconnect();\n",
       "        }}\n",
       "}});\n",
       "\n",
       "// Listen for the removal of the full notebook cells\n",
       "var notebookContainer = gd.closest('#notebook-container');\n",
       "if (notebookContainer) {{\n",
       "    x.observe(notebookContainer, {childList: true});\n",
       "}}\n",
       "\n",
       "// Listen for the clearing of the current output cell\n",
       "var outputEl = gd.closest('.output');\n",
       "if (outputEl) {{\n",
       "    x.observe(outputEl, {childList: true});\n",
       "}}\n",
       "\n",
       "                        })                };                });            </script>        </div>"
      ]
     },
     "metadata": {},
     "output_type": "display_data"
    }
   ],
   "source": [
    "U3.visualize(title='biz', markers=True, xaxis_range=(.5, 3), line_width=0)"
   ]
  },
  {
   "cell_type": "code",
   "execution_count": null,
   "metadata": {},
   "outputs": [
    {
     "data": {
      "application/vnd.plotly.v1+json": {
       "config": {
        "plotlyServerURL": "https://plot.ly"
       },
       "data": [
        {
         "hovertemplate": "foo=aaaaaaaaaaaaaaaaaa<br>Part=Re<br>baz=%{x}<br>bar=%{y}<extra></extra>",
         "legendgroup": "aaaaaaaaaaaaaaaaaa, Re",
         "line": {
          "color": "#2fa1da",
          "dash": "solid"
         },
         "marker": {
          "symbol": "circle"
         },
         "mode": "lines",
         "name": "aaaaaaaaaaaaaaaaaa, Re",
         "orientation": "v",
         "showlegend": true,
         "type": "scatter",
         "x": [
          0,
          1,
          2,
          3,
          4
         ],
         "xaxis": "x",
         "y": [
          0.24672505347947127,
          0.523090499279315,
          0.9606262856288327,
          0.9841852649479997,
          0.47393273763807797
         ],
         "yaxis": "y"
        },
        {
         "hovertemplate": "foo=aaaaaaaaaaaaaaaaaa<br>Part=Im<br>baz=%{x}<br>bar=%{y}<extra></extra>",
         "legendgroup": "aaaaaaaaaaaaaaaaaa, Im",
         "line": {
          "color": "#2fa1da",
          "dash": "dot"
         },
         "marker": {
          "symbol": "circle"
         },
         "mode": "lines",
         "name": "aaaaaaaaaaaaaaaaaa, Im",
         "orientation": "v",
         "showlegend": true,
         "type": "scatter",
         "x": [
          0,
          1,
          2,
          3,
          4
         ],
         "xaxis": "x",
         "y": [
          0.4123749142972246,
          0.7877928506388727,
          0.8835298364237075,
          0.3368565438332687,
          0.829595409085705
         ],
         "yaxis": "y"
        },
        {
         "hovertemplate": "foo=b<br>Part=Re<br>baz=%{x}<br>bar=%{y}<extra></extra>",
         "legendgroup": "b, Re",
         "line": {
          "color": "#fb4f2f",
          "dash": "solid"
         },
         "marker": {
          "symbol": "circle"
         },
         "mode": "lines",
         "name": "b, Re",
         "orientation": "v",
         "showlegend": true,
         "type": "scatter",
         "x": [
          0,
          1,
          2,
          3,
          4
         ],
         "xaxis": "x",
         "y": [
          0.736523217701888,
          0.18853023387416024,
          0.7218363322336134,
          0.3520506742392382,
          0.9866287468632301
         ],
         "yaxis": "y"
        },
        {
         "hovertemplate": "foo=b<br>Part=Im<br>baz=%{x}<br>bar=%{y}<extra></extra>",
         "legendgroup": "b, Im",
         "line": {
          "color": "#fb4f2f",
          "dash": "dot"
         },
         "marker": {
          "symbol": "circle"
         },
         "mode": "lines",
         "name": "b, Im",
         "orientation": "v",
         "showlegend": true,
         "type": "scatter",
         "x": [
          0,
          1,
          2,
          3,
          4
         ],
         "xaxis": "x",
         "y": [
          0.8755390445272362,
          0.3827831627802557,
          0.30132035766261533,
          0.6063628402155351,
          0.02445084088201488
         ],
         "yaxis": "y"
        },
        {
         "hovertemplate": "foo=c<br>Part=Re<br>baz=%{x}<br>bar=%{y}<extra></extra>",
         "legendgroup": "c, Re",
         "line": {
          "color": "#e4ae38",
          "dash": "solid"
         },
         "marker": {
          "symbol": "circle"
         },
         "mode": "lines",
         "name": "c, Re",
         "orientation": "v",
         "showlegend": true,
         "type": "scatter",
         "x": [
          0,
          1,
          2,
          3,
          4
         ],
         "xaxis": "x",
         "y": [
          0.6779718525450447,
          0.7952322585827095,
          0.917859996625734,
          0.6382235529263369,
          0.09380782400772492
         ],
         "yaxis": "y"
        },
        {
         "hovertemplate": "foo=c<br>Part=Im<br>baz=%{x}<br>bar=%{y}<extra></extra>",
         "legendgroup": "c, Im",
         "line": {
          "color": "#e4ae38",
          "dash": "dot"
         },
         "marker": {
          "symbol": "circle"
         },
         "mode": "lines",
         "name": "c, Im",
         "orientation": "v",
         "showlegend": true,
         "type": "scatter",
         "x": [
          0,
          1,
          2,
          3,
          4
         ],
         "xaxis": "x",
         "y": [
          0.28405131052651544,
          0.9799785398901583,
          0.7701931135378551,
          0.658480768393292,
          0.22015789115229967
         ],
         "yaxis": "y"
        }
       ],
       "layout": {
        "height": 360,
        "legend": {
         "title": {},
         "tracegroupgap": 0
        },
        "margin": {
         "t": 60
        },
        "template": {
         "data": {
          "bar": [
           {
            "error_x": {
             "color": "#2a3f5f"
            },
            "error_y": {
             "color": "#2a3f5f"
            },
            "marker": {
             "line": {
              "color": "white",
              "width": 0.5
             },
             "pattern": {
              "fillmode": "overlay",
              "size": 10,
              "solidity": 0.2
             }
            },
            "type": "bar"
           }
          ],
          "barpolar": [
           {
            "marker": {
             "line": {
              "color": "white",
              "width": 0.5
             },
             "pattern": {
              "fillmode": "overlay",
              "size": 10,
              "solidity": 0.2
             }
            },
            "type": "barpolar"
           }
          ],
          "carpet": [
           {
            "aaxis": {
             "endlinecolor": "#2a3f5f",
             "gridcolor": "#C8D4E3",
             "linecolor": "#C8D4E3",
             "minorgridcolor": "#C8D4E3",
             "startlinecolor": "#2a3f5f"
            },
            "baxis": {
             "endlinecolor": "#2a3f5f",
             "gridcolor": "#C8D4E3",
             "linecolor": "#C8D4E3",
             "minorgridcolor": "#C8D4E3",
             "startlinecolor": "#2a3f5f"
            },
            "type": "carpet"
           }
          ],
          "choropleth": [
           {
            "colorbar": {
             "outlinewidth": 0,
             "ticks": ""
            },
            "type": "choropleth"
           }
          ],
          "contour": [
           {
            "colorbar": {
             "outlinewidth": 0,
             "ticks": ""
            },
            "colorscale": [
             [
              0,
              "#0d0887"
             ],
             [
              0.1111111111111111,
              "#46039f"
             ],
             [
              0.2222222222222222,
              "#7201a8"
             ],
             [
              0.3333333333333333,
              "#9c179e"
             ],
             [
              0.4444444444444444,
              "#bd3786"
             ],
             [
              0.5555555555555556,
              "#d8576b"
             ],
             [
              0.6666666666666666,
              "#ed7953"
             ],
             [
              0.7777777777777778,
              "#fb9f3a"
             ],
             [
              0.8888888888888888,
              "#fdca26"
             ],
             [
              1,
              "#f0f921"
             ]
            ],
            "type": "contour"
           }
          ],
          "contourcarpet": [
           {
            "colorbar": {
             "outlinewidth": 0,
             "ticks": ""
            },
            "type": "contourcarpet"
           }
          ],
          "heatmap": [
           {
            "colorbar": {
             "outlinewidth": 0,
             "ticks": ""
            },
            "colorscale": [
             [
              0,
              "#0d0887"
             ],
             [
              0.1111111111111111,
              "#46039f"
             ],
             [
              0.2222222222222222,
              "#7201a8"
             ],
             [
              0.3333333333333333,
              "#9c179e"
             ],
             [
              0.4444444444444444,
              "#bd3786"
             ],
             [
              0.5555555555555556,
              "#d8576b"
             ],
             [
              0.6666666666666666,
              "#ed7953"
             ],
             [
              0.7777777777777778,
              "#fb9f3a"
             ],
             [
              0.8888888888888888,
              "#fdca26"
             ],
             [
              1,
              "#f0f921"
             ]
            ],
            "type": "heatmap"
           }
          ],
          "heatmapgl": [
           {
            "colorbar": {
             "outlinewidth": 0,
             "ticks": ""
            },
            "colorscale": [
             [
              0,
              "#0d0887"
             ],
             [
              0.1111111111111111,
              "#46039f"
             ],
             [
              0.2222222222222222,
              "#7201a8"
             ],
             [
              0.3333333333333333,
              "#9c179e"
             ],
             [
              0.4444444444444444,
              "#bd3786"
             ],
             [
              0.5555555555555556,
              "#d8576b"
             ],
             [
              0.6666666666666666,
              "#ed7953"
             ],
             [
              0.7777777777777778,
              "#fb9f3a"
             ],
             [
              0.8888888888888888,
              "#fdca26"
             ],
             [
              1,
              "#f0f921"
             ]
            ],
            "type": "heatmapgl"
           }
          ],
          "histogram": [
           {
            "marker": {
             "pattern": {
              "fillmode": "overlay",
              "size": 10,
              "solidity": 0.2
             }
            },
            "type": "histogram"
           }
          ],
          "histogram2d": [
           {
            "colorbar": {
             "outlinewidth": 0,
             "ticks": ""
            },
            "colorscale": [
             [
              0,
              "#0d0887"
             ],
             [
              0.1111111111111111,
              "#46039f"
             ],
             [
              0.2222222222222222,
              "#7201a8"
             ],
             [
              0.3333333333333333,
              "#9c179e"
             ],
             [
              0.4444444444444444,
              "#bd3786"
             ],
             [
              0.5555555555555556,
              "#d8576b"
             ],
             [
              0.6666666666666666,
              "#ed7953"
             ],
             [
              0.7777777777777778,
              "#fb9f3a"
             ],
             [
              0.8888888888888888,
              "#fdca26"
             ],
             [
              1,
              "#f0f921"
             ]
            ],
            "type": "histogram2d"
           }
          ],
          "histogram2dcontour": [
           {
            "colorbar": {
             "outlinewidth": 0,
             "ticks": ""
            },
            "colorscale": [
             [
              0,
              "#0d0887"
             ],
             [
              0.1111111111111111,
              "#46039f"
             ],
             [
              0.2222222222222222,
              "#7201a8"
             ],
             [
              0.3333333333333333,
              "#9c179e"
             ],
             [
              0.4444444444444444,
              "#bd3786"
             ],
             [
              0.5555555555555556,
              "#d8576b"
             ],
             [
              0.6666666666666666,
              "#ed7953"
             ],
             [
              0.7777777777777778,
              "#fb9f3a"
             ],
             [
              0.8888888888888888,
              "#fdca26"
             ],
             [
              1,
              "#f0f921"
             ]
            ],
            "type": "histogram2dcontour"
           }
          ],
          "mesh3d": [
           {
            "colorbar": {
             "outlinewidth": 0,
             "ticks": ""
            },
            "type": "mesh3d"
           }
          ],
          "parcoords": [
           {
            "line": {
             "colorbar": {
              "outlinewidth": 0,
              "ticks": ""
             }
            },
            "type": "parcoords"
           }
          ],
          "pie": [
           {
            "automargin": true,
            "type": "pie"
           }
          ],
          "scatter": [
           {
            "fillpattern": {
             "fillmode": "overlay",
             "size": 10,
             "solidity": 0.2
            },
            "type": "scatter"
           }
          ],
          "scatter3d": [
           {
            "line": {
             "colorbar": {
              "outlinewidth": 0,
              "ticks": ""
             }
            },
            "marker": {
             "colorbar": {
              "outlinewidth": 0,
              "ticks": ""
             }
            },
            "type": "scatter3d"
           }
          ],
          "scattercarpet": [
           {
            "marker": {
             "colorbar": {
              "outlinewidth": 0,
              "ticks": ""
             }
            },
            "type": "scattercarpet"
           }
          ],
          "scattergeo": [
           {
            "marker": {
             "colorbar": {
              "outlinewidth": 0,
              "ticks": ""
             }
            },
            "type": "scattergeo"
           }
          ],
          "scattergl": [
           {
            "marker": {
             "colorbar": {
              "outlinewidth": 0,
              "ticks": ""
             }
            },
            "type": "scattergl"
           }
          ],
          "scattermapbox": [
           {
            "marker": {
             "colorbar": {
              "outlinewidth": 0,
              "ticks": ""
             }
            },
            "type": "scattermapbox"
           }
          ],
          "scatterpolar": [
           {
            "marker": {
             "colorbar": {
              "outlinewidth": 0,
              "ticks": ""
             }
            },
            "type": "scatterpolar"
           }
          ],
          "scatterpolargl": [
           {
            "marker": {
             "colorbar": {
              "outlinewidth": 0,
              "ticks": ""
             }
            },
            "type": "scatterpolargl"
           }
          ],
          "scatterternary": [
           {
            "marker": {
             "colorbar": {
              "outlinewidth": 0,
              "ticks": ""
             }
            },
            "type": "scatterternary"
           }
          ],
          "surface": [
           {
            "colorbar": {
             "outlinewidth": 0,
             "ticks": ""
            },
            "colorscale": [
             [
              0,
              "#0d0887"
             ],
             [
              0.1111111111111111,
              "#46039f"
             ],
             [
              0.2222222222222222,
              "#7201a8"
             ],
             [
              0.3333333333333333,
              "#9c179e"
             ],
             [
              0.4444444444444444,
              "#bd3786"
             ],
             [
              0.5555555555555556,
              "#d8576b"
             ],
             [
              0.6666666666666666,
              "#ed7953"
             ],
             [
              0.7777777777777778,
              "#fb9f3a"
             ],
             [
              0.8888888888888888,
              "#fdca26"
             ],
             [
              1,
              "#f0f921"
             ]
            ],
            "type": "surface"
           }
          ],
          "table": [
           {
            "cells": {
             "fill": {
              "color": "#EBF0F8"
             },
             "line": {
              "color": "white"
             }
            },
            "header": {
             "fill": {
              "color": "#C8D4E3"
             },
             "line": {
              "color": "white"
             }
            },
            "type": "table"
           }
          ]
         },
         "layout": {
          "annotationdefaults": {
           "arrowcolor": "#2a3f5f",
           "arrowhead": 0,
           "arrowwidth": 1
          },
          "autosize": false,
          "autotypenumbers": "strict",
          "coloraxis": {
           "colorbar": {
            "outlinewidth": 0,
            "ticks": ""
           }
          },
          "colorscale": {
           "diverging": [
            [
             0,
             "#8e0152"
            ],
            [
             0.1,
             "#c51b7d"
            ],
            [
             0.2,
             "#de77ae"
            ],
            [
             0.3,
             "#f1b6da"
            ],
            [
             0.4,
             "#fde0ef"
            ],
            [
             0.5,
             "#f7f7f7"
            ],
            [
             0.6,
             "#e6f5d0"
            ],
            [
             0.7,
             "#b8e186"
            ],
            [
             0.8,
             "#7fbc41"
            ],
            [
             0.9,
             "#4d9221"
            ],
            [
             1,
             "#276419"
            ]
           ],
           "sequential": [
            [
             0,
             "#0d0887"
            ],
            [
             0.1111111111111111,
             "#46039f"
            ],
            [
             0.2222222222222222,
             "#7201a8"
            ],
            [
             0.3333333333333333,
             "#9c179e"
            ],
            [
             0.4444444444444444,
             "#bd3786"
            ],
            [
             0.5555555555555556,
             "#d8576b"
            ],
            [
             0.6666666666666666,
             "#ed7953"
            ],
            [
             0.7777777777777778,
             "#fb9f3a"
            ],
            [
             0.8888888888888888,
             "#fdca26"
            ],
            [
             1,
             "#f0f921"
            ]
           ],
           "sequentialminus": [
            [
             0,
             "#0d0887"
            ],
            [
             0.1111111111111111,
             "#46039f"
            ],
            [
             0.2222222222222222,
             "#7201a8"
            ],
            [
             0.3333333333333333,
             "#9c179e"
            ],
            [
             0.4444444444444444,
             "#bd3786"
            ],
            [
             0.5555555555555556,
             "#d8576b"
            ],
            [
             0.6666666666666666,
             "#ed7953"
            ],
            [
             0.7777777777777778,
             "#fb9f3a"
            ],
            [
             0.8888888888888888,
             "#fdca26"
            ],
            [
             1,
             "#f0f921"
            ]
           ]
          },
          "colorway": [
           "#2fa1da",
           "#fb4f2f",
           "#e4ae38",
           "#6d904f",
           "#8a8a8a",
           "#16bdcf",
           "#9367bc",
           "#d62628",
           "#1f77b3",
           "#e277c1",
           "#8c564b",
           "#bcbc21",
           "#3a0182",
           "#004200",
           "#0fffa8",
           "#5d003f",
           "#c6bcff",
           "#424f52",
           "#b80080",
           "#ffb6b3",
           "#7c0100",
           "#6026ff",
           "#ffff9a",
           "#aec8aa",
           "#00857c",
           "#543a00",
           "#93fbff",
           "#00bf00",
           "#7c00a0",
           "#aa7200",
           "#90ff00",
           "#01bd89",
           "#00447b",
           "#c8826e",
           "#ff1f82",
           "#dd00ff",
           "#057400",
           "#644460",
           "#878eff",
           "#ffb5f4",
           "#526236",
           "#cd85ff",
           "#676983",
           "#bdb3bd",
           "#a56089",
           "#95d3ff",
           "#0100f7",
           "#ff8001",
           "#8a2844",
           "#aca06d",
           "#52448a",
           "#c8ffd8",
           "#aa4600",
           "#ff798e",
           "#82d370",
           "#909ebf",
           "#9300f4",
           "#ebcf9a",
           "#ac8ab1",
           "#006249",
           "#ffdb00",
           "#877750",
           "#7eaaa3",
           "#000097",
           "#f400c6",
           "#643328",
           "#006677",
           "#03e2c8",
           "#a736ae",
           "#c4dbe1",
           "#4d6eff",
           "#9a9301",
           "#cd576b",
           "#efddfd",
           "#795900",
           "#5e879a",
           "#b3ff91",
           "#5d726b",
           "#520066",
           "#058750",
           "#831f6e",
           "#3b9505",
           "#647200",
           "#f0a06b",
           "#5e4f44",
           "#bc0049",
           "#cf6726",
           "#d695aa",
           "#895dff",
           "#826b75",
           "#2a54b8",
           "#6e7cba",
           "#e6d4d3",
           "#5d0018",
           "#7c3b01",
           "#80b17c",
           "#c8d87c",
           "#00e83b",
           "#7cb1ff",
           "#ff54ff",
           "#a32621",
           "#1ce4ff",
           "#7caf3b",
           "#7b4b90",
           "#dfff48",
           "#6b00c3",
           "#cda897",
           "#bd62c3",
           "#89cdcd",
           "#4603c8",
           "#5d9179",
           "#414901",
           "#05a79c",
           "#cf8c36",
           "#fff7cf",
           "#425470",
           "#b544ff",
           "#cf4993",
           "#cfa3df",
           "#93d400",
           "#a793da",
           "#2da557",
           "#8ce2b5",
           "#a3a89c",
           "#6b5bb6",
           "#ff7e5d",
           "#a78289",
           "#afbdd8",
           "#2ac3ff",
           "#a5673d",
           "#f690fd",
           "#874b64",
           "#ff0c4b",
           "#215d23",
           "#4291ff",
           "#87829c",
           "#672d44",
           "#b14f41",
           "#004d52",
           "#5e1a00",
           "#ac4167",
           "#4f3167",
           "#d6fffd",
           "#7eb5d1",
           "#a8b869",
           "#ff95ca",
           "#c87495",
           "#364f38",
           "#ffcf62",
           "#5d5762",
           "#879375",
           "#a877ff",
           "#03c862",
           "#e6bdd4",
           "#d4e2cf",
           "#876790",
           "#897c26",
           "#cddbff",
           "#aa676b",
           "#313474",
           "#ff5da8",
           "#009aaf",
           "#70ffdd",
           "#775b38",
           "#4f649a",
           "#cc00b3",
           "#567b54",
           "#506e7b",
           "#015e91",
           "#aabcbd",
           "#017e99",
           "#03dd97",
           "#873a2b",
           "#ef958e",
           "#75c6aa",
           "#70695d",
           "#ccdb08",
           "#af8556",
           "#d80075",
           "#9c3f80",
           "#d84400",
           "#dd6754",
           "#5eff79",
           "#d4b172",
           "#62265d",
           "#baa13d",
           "#d8f2b3",
           "#56018e",
           "#a19aaa",
           "#4d4926",
           "#a3a8ff",
           "#ace8db",
           "#995901",
           "#ac00e2",
           "#46822f",
           "#cac3ac",
           "#00c4b5",
           "#605277",
           "#336d67",
           "#a59180",
           "#8399a1",
           "#fd5664",
           "#7095d1",
           "#728c07",
           "#7e004b",
           "#152fa0",
           "#d1c1e2",
           "#c885cf",
           "#6b444b",
           "#7e0023",
           "#00a179",
           "#b1a8cf",
           "#f90000",
           "#afe8ff",
           "#939e4f",
           "#727982",
           "#d82d54",
           "#466001",
           "#0059ff",
           "#773fb5",
           "#ace460",
           "#674424",
           "#525d50",
           "#957267",
           "#a8e49a",
           "#a30057",
           "#d862f6",
           "#8e7ccf",
           "#ffbc93",
           "#a30091",
           "#9affb8",
           "#a7c1ff",
           "#f46200",
           "#e4efff",
           "#b89ca3",
           "#609593",
           "#ff9e34",
           "#8c2800",
           "#726b31",
           "#df824d",
           "#af7bd4",
           "#bc2d00",
           "#7b6ea3",
           "#484262",
           "#c6a3ff",
           "#004d28",
           "#c3c68e",
           "#df48d6",
           "#e6e864",
           "#e4c10a",
           "#00f4f0",
           "#9e5ba1",
           "#4b41b6",
           "#64338e",
           "#757e6b",
           "#a88936"
          ],
          "font": {
           "color": "#2a3f5f"
          },
          "geo": {
           "bgcolor": "white",
           "lakecolor": "white",
           "landcolor": "white",
           "showlakes": true,
           "showland": true,
           "subunitcolor": "#C8D4E3"
          },
          "height": 400,
          "hoverlabel": {
           "align": "left"
          },
          "hovermode": "closest",
          "legend": {
           "tracegroupgap": 0
          },
          "mapbox": {
           "style": "light"
          },
          "paper_bgcolor": "white",
          "plot_bgcolor": "white",
          "polar": {
           "angularaxis": {
            "gridcolor": "#EBF0F8",
            "linecolor": "#EBF0F8",
            "ticks": ""
           },
           "bgcolor": "white",
           "radialaxis": {
            "gridcolor": "#EBF0F8",
            "linecolor": "#EBF0F8",
            "ticks": ""
           }
          },
          "scene": {
           "xaxis": {
            "backgroundcolor": "white",
            "gridcolor": "#DFE8F3",
            "gridwidth": 2,
            "linecolor": "#EBF0F8",
            "showbackground": true,
            "ticks": "",
            "zerolinecolor": "#EBF0F8"
           },
           "yaxis": {
            "backgroundcolor": "white",
            "gridcolor": "#DFE8F3",
            "gridwidth": 2,
            "linecolor": "#EBF0F8",
            "showbackground": true,
            "ticks": "",
            "zerolinecolor": "#EBF0F8"
           },
           "zaxis": {
            "backgroundcolor": "white",
            "gridcolor": "#DFE8F3",
            "gridwidth": 2,
            "linecolor": "#EBF0F8",
            "showbackground": true,
            "ticks": "",
            "zerolinecolor": "#EBF0F8"
           }
          },
          "shapedefaults": {
           "line": {
            "color": "#2a3f5f"
           }
          },
          "ternary": {
           "aaxis": {
            "gridcolor": "#DFE8F3",
            "linecolor": "#A2B1C6",
            "ticks": ""
           },
           "baxis": {
            "gridcolor": "#DFE8F3",
            "linecolor": "#A2B1C6",
            "ticks": ""
           },
           "bgcolor": "white",
           "caxis": {
            "gridcolor": "#DFE8F3",
            "linecolor": "#A2B1C6",
            "ticks": ""
           }
          },
          "title": {
           "x": 0.05
          },
          "width": 700,
          "xaxis": {
           "automargin": true,
           "gridcolor": "#EBF0F8",
           "linecolor": "#EBF0F8",
           "ticks": "",
           "title": {
            "standoff": 15
           },
           "zerolinecolor": "#EBF0F8",
           "zerolinewidth": 2
          },
          "yaxis": {
           "automargin": true,
           "gridcolor": "#EBF0F8",
           "linecolor": "#EBF0F8",
           "ticks": "",
           "title": {
            "standoff": 15
           },
           "zerolinecolor": "#EBF0F8",
           "zerolinewidth": 2
          }
         }
        },
        "width": 700,
        "xaxis": {
         "anchor": "y",
         "autorange": true,
         "domain": [
          0,
          1
         ],
         "range": [
          0,
          4
         ],
         "title": {
          "text": "baz"
         },
         "type": "linear"
        },
        "yaxis": {
         "anchor": "x",
         "autorange": true,
         "domain": [
          0,
          1
         ],
         "range": [
          -0.029003487228052634,
          1.0400830749732977
         ],
         "title": {
          "text": "bar"
         },
         "type": "linear"
        }
       }
      },
      "text/html": [
       "<div>                            <div id=\"f0aae821-7a03-4447-a28f-032c9ae7ecf8\" class=\"plotly-graph-div\" style=\"height:400px; width:700px;\"></div>            <script type=\"text/javascript\">                require([\"plotly\"], function(Plotly) {                    window.PLOTLYENV=window.PLOTLYENV || {};                                    if (document.getElementById(\"f0aae821-7a03-4447-a28f-032c9ae7ecf8\")) {                    Plotly.newPlot(                        \"f0aae821-7a03-4447-a28f-032c9ae7ecf8\",                        [{\"hovertemplate\":\"foo=aaaaaaaaaaaaaaaaaa\\u003cbr\\u003ePart=Re\\u003cbr\\u003ebaz=%{x}\\u003cbr\\u003ebar=%{y}\\u003cextra\\u003e\\u003c\\u002fextra\\u003e\",\"legendgroup\":\"aaaaaaaaaaaaaaaaaa, Re\",\"line\":{\"color\":\"#2fa1da\",\"dash\":\"solid\"},\"marker\":{\"symbol\":\"circle\"},\"mode\":\"lines\",\"name\":\"aaaaaaaaaaaaaaaaaa, Re\",\"orientation\":\"v\",\"showlegend\":true,\"x\":[0,1,2,3,4],\"xaxis\":\"x\",\"y\":[0.24672505347947127,0.523090499279315,0.9606262856288327,0.9841852649479997,0.47393273763807797],\"yaxis\":\"y\",\"type\":\"scatter\"},{\"hovertemplate\":\"foo=aaaaaaaaaaaaaaaaaa\\u003cbr\\u003ePart=Im\\u003cbr\\u003ebaz=%{x}\\u003cbr\\u003ebar=%{y}\\u003cextra\\u003e\\u003c\\u002fextra\\u003e\",\"legendgroup\":\"aaaaaaaaaaaaaaaaaa, Im\",\"line\":{\"color\":\"#2fa1da\",\"dash\":\"dot\"},\"marker\":{\"symbol\":\"circle\"},\"mode\":\"lines\",\"name\":\"aaaaaaaaaaaaaaaaaa, Im\",\"orientation\":\"v\",\"showlegend\":true,\"x\":[0,1,2,3,4],\"xaxis\":\"x\",\"y\":[0.4123749142972246,0.7877928506388727,0.8835298364237075,0.3368565438332687,0.829595409085705],\"yaxis\":\"y\",\"type\":\"scatter\"},{\"hovertemplate\":\"foo=b\\u003cbr\\u003ePart=Re\\u003cbr\\u003ebaz=%{x}\\u003cbr\\u003ebar=%{y}\\u003cextra\\u003e\\u003c\\u002fextra\\u003e\",\"legendgroup\":\"b, Re\",\"line\":{\"color\":\"#fb4f2f\",\"dash\":\"solid\"},\"marker\":{\"symbol\":\"circle\"},\"mode\":\"lines\",\"name\":\"b, Re\",\"orientation\":\"v\",\"showlegend\":true,\"x\":[0,1,2,3,4],\"xaxis\":\"x\",\"y\":[0.736523217701888,0.18853023387416024,0.7218363322336134,0.3520506742392382,0.9866287468632301],\"yaxis\":\"y\",\"type\":\"scatter\"},{\"hovertemplate\":\"foo=b\\u003cbr\\u003ePart=Im\\u003cbr\\u003ebaz=%{x}\\u003cbr\\u003ebar=%{y}\\u003cextra\\u003e\\u003c\\u002fextra\\u003e\",\"legendgroup\":\"b, Im\",\"line\":{\"color\":\"#fb4f2f\",\"dash\":\"dot\"},\"marker\":{\"symbol\":\"circle\"},\"mode\":\"lines\",\"name\":\"b, Im\",\"orientation\":\"v\",\"showlegend\":true,\"x\":[0,1,2,3,4],\"xaxis\":\"x\",\"y\":[0.8755390445272362,0.3827831627802557,0.30132035766261533,0.6063628402155351,0.02445084088201488],\"yaxis\":\"y\",\"type\":\"scatter\"},{\"hovertemplate\":\"foo=c\\u003cbr\\u003ePart=Re\\u003cbr\\u003ebaz=%{x}\\u003cbr\\u003ebar=%{y}\\u003cextra\\u003e\\u003c\\u002fextra\\u003e\",\"legendgroup\":\"c, Re\",\"line\":{\"color\":\"#e4ae38\",\"dash\":\"solid\"},\"marker\":{\"symbol\":\"circle\"},\"mode\":\"lines\",\"name\":\"c, Re\",\"orientation\":\"v\",\"showlegend\":true,\"x\":[0,1,2,3,4],\"xaxis\":\"x\",\"y\":[0.6779718525450447,0.7952322585827095,0.917859996625734,0.6382235529263369,0.09380782400772492],\"yaxis\":\"y\",\"type\":\"scatter\"},{\"hovertemplate\":\"foo=c\\u003cbr\\u003ePart=Im\\u003cbr\\u003ebaz=%{x}\\u003cbr\\u003ebar=%{y}\\u003cextra\\u003e\\u003c\\u002fextra\\u003e\",\"legendgroup\":\"c, Im\",\"line\":{\"color\":\"#e4ae38\",\"dash\":\"dot\"},\"marker\":{\"symbol\":\"circle\"},\"mode\":\"lines\",\"name\":\"c, Im\",\"orientation\":\"v\",\"showlegend\":true,\"x\":[0,1,2,3,4],\"xaxis\":\"x\",\"y\":[0.28405131052651544,0.9799785398901583,0.7701931135378551,0.658480768393292,0.22015789115229967],\"yaxis\":\"y\",\"type\":\"scatter\"}],                        {\"template\":{\"data\":{\"histogram2dcontour\":[{\"type\":\"histogram2dcontour\",\"colorbar\":{\"outlinewidth\":0,\"ticks\":\"\"},\"colorscale\":[[0.0,\"#0d0887\"],[0.1111111111111111,\"#46039f\"],[0.2222222222222222,\"#7201a8\"],[0.3333333333333333,\"#9c179e\"],[0.4444444444444444,\"#bd3786\"],[0.5555555555555556,\"#d8576b\"],[0.6666666666666666,\"#ed7953\"],[0.7777777777777778,\"#fb9f3a\"],[0.8888888888888888,\"#fdca26\"],[1.0,\"#f0f921\"]]}],\"choropleth\":[{\"type\":\"choropleth\",\"colorbar\":{\"outlinewidth\":0,\"ticks\":\"\"}}],\"histogram2d\":[{\"type\":\"histogram2d\",\"colorbar\":{\"outlinewidth\":0,\"ticks\":\"\"},\"colorscale\":[[0.0,\"#0d0887\"],[0.1111111111111111,\"#46039f\"],[0.2222222222222222,\"#7201a8\"],[0.3333333333333333,\"#9c179e\"],[0.4444444444444444,\"#bd3786\"],[0.5555555555555556,\"#d8576b\"],[0.6666666666666666,\"#ed7953\"],[0.7777777777777778,\"#fb9f3a\"],[0.8888888888888888,\"#fdca26\"],[1.0,\"#f0f921\"]]}],\"heatmap\":[{\"type\":\"heatmap\",\"colorbar\":{\"outlinewidth\":0,\"ticks\":\"\"},\"colorscale\":[[0.0,\"#0d0887\"],[0.1111111111111111,\"#46039f\"],[0.2222222222222222,\"#7201a8\"],[0.3333333333333333,\"#9c179e\"],[0.4444444444444444,\"#bd3786\"],[0.5555555555555556,\"#d8576b\"],[0.6666666666666666,\"#ed7953\"],[0.7777777777777778,\"#fb9f3a\"],[0.8888888888888888,\"#fdca26\"],[1.0,\"#f0f921\"]]}],\"heatmapgl\":[{\"type\":\"heatmapgl\",\"colorbar\":{\"outlinewidth\":0,\"ticks\":\"\"},\"colorscale\":[[0.0,\"#0d0887\"],[0.1111111111111111,\"#46039f\"],[0.2222222222222222,\"#7201a8\"],[0.3333333333333333,\"#9c179e\"],[0.4444444444444444,\"#bd3786\"],[0.5555555555555556,\"#d8576b\"],[0.6666666666666666,\"#ed7953\"],[0.7777777777777778,\"#fb9f3a\"],[0.8888888888888888,\"#fdca26\"],[1.0,\"#f0f921\"]]}],\"contourcarpet\":[{\"type\":\"contourcarpet\",\"colorbar\":{\"outlinewidth\":0,\"ticks\":\"\"}}],\"contour\":[{\"type\":\"contour\",\"colorbar\":{\"outlinewidth\":0,\"ticks\":\"\"},\"colorscale\":[[0.0,\"#0d0887\"],[0.1111111111111111,\"#46039f\"],[0.2222222222222222,\"#7201a8\"],[0.3333333333333333,\"#9c179e\"],[0.4444444444444444,\"#bd3786\"],[0.5555555555555556,\"#d8576b\"],[0.6666666666666666,\"#ed7953\"],[0.7777777777777778,\"#fb9f3a\"],[0.8888888888888888,\"#fdca26\"],[1.0,\"#f0f921\"]]}],\"surface\":[{\"type\":\"surface\",\"colorbar\":{\"outlinewidth\":0,\"ticks\":\"\"},\"colorscale\":[[0.0,\"#0d0887\"],[0.1111111111111111,\"#46039f\"],[0.2222222222222222,\"#7201a8\"],[0.3333333333333333,\"#9c179e\"],[0.4444444444444444,\"#bd3786\"],[0.5555555555555556,\"#d8576b\"],[0.6666666666666666,\"#ed7953\"],[0.7777777777777778,\"#fb9f3a\"],[0.8888888888888888,\"#fdca26\"],[1.0,\"#f0f921\"]]}],\"mesh3d\":[{\"type\":\"mesh3d\",\"colorbar\":{\"outlinewidth\":0,\"ticks\":\"\"}}],\"scatter\":[{\"fillpattern\":{\"fillmode\":\"overlay\",\"size\":10,\"solidity\":0.2},\"type\":\"scatter\"}],\"parcoords\":[{\"type\":\"parcoords\",\"line\":{\"colorbar\":{\"outlinewidth\":0,\"ticks\":\"\"}}}],\"scatterpolargl\":[{\"type\":\"scatterpolargl\",\"marker\":{\"colorbar\":{\"outlinewidth\":0,\"ticks\":\"\"}}}],\"bar\":[{\"error_x\":{\"color\":\"#2a3f5f\"},\"error_y\":{\"color\":\"#2a3f5f\"},\"marker\":{\"line\":{\"color\":\"white\",\"width\":0.5},\"pattern\":{\"fillmode\":\"overlay\",\"size\":10,\"solidity\":0.2}},\"type\":\"bar\"}],\"scattergeo\":[{\"type\":\"scattergeo\",\"marker\":{\"colorbar\":{\"outlinewidth\":0,\"ticks\":\"\"}}}],\"scatterpolar\":[{\"type\":\"scatterpolar\",\"marker\":{\"colorbar\":{\"outlinewidth\":0,\"ticks\":\"\"}}}],\"histogram\":[{\"marker\":{\"pattern\":{\"fillmode\":\"overlay\",\"size\":10,\"solidity\":0.2}},\"type\":\"histogram\"}],\"scattergl\":[{\"type\":\"scattergl\",\"marker\":{\"colorbar\":{\"outlinewidth\":0,\"ticks\":\"\"}}}],\"scatter3d\":[{\"type\":\"scatter3d\",\"line\":{\"colorbar\":{\"outlinewidth\":0,\"ticks\":\"\"}},\"marker\":{\"colorbar\":{\"outlinewidth\":0,\"ticks\":\"\"}}}],\"scattermapbox\":[{\"type\":\"scattermapbox\",\"marker\":{\"colorbar\":{\"outlinewidth\":0,\"ticks\":\"\"}}}],\"scatterternary\":[{\"type\":\"scatterternary\",\"marker\":{\"colorbar\":{\"outlinewidth\":0,\"ticks\":\"\"}}}],\"scattercarpet\":[{\"type\":\"scattercarpet\",\"marker\":{\"colorbar\":{\"outlinewidth\":0,\"ticks\":\"\"}}}],\"carpet\":[{\"aaxis\":{\"endlinecolor\":\"#2a3f5f\",\"gridcolor\":\"#C8D4E3\",\"linecolor\":\"#C8D4E3\",\"minorgridcolor\":\"#C8D4E3\",\"startlinecolor\":\"#2a3f5f\"},\"baxis\":{\"endlinecolor\":\"#2a3f5f\",\"gridcolor\":\"#C8D4E3\",\"linecolor\":\"#C8D4E3\",\"minorgridcolor\":\"#C8D4E3\",\"startlinecolor\":\"#2a3f5f\"},\"type\":\"carpet\"}],\"table\":[{\"cells\":{\"fill\":{\"color\":\"#EBF0F8\"},\"line\":{\"color\":\"white\"}},\"header\":{\"fill\":{\"color\":\"#C8D4E3\"},\"line\":{\"color\":\"white\"}},\"type\":\"table\"}],\"barpolar\":[{\"marker\":{\"line\":{\"color\":\"white\",\"width\":0.5},\"pattern\":{\"fillmode\":\"overlay\",\"size\":10,\"solidity\":0.2}},\"type\":\"barpolar\"}],\"pie\":[{\"automargin\":true,\"type\":\"pie\"}]},\"layout\":{\"autotypenumbers\":\"strict\",\"colorway\":[\"#2fa1da\",\"#fb4f2f\",\"#e4ae38\",\"#6d904f\",\"#8a8a8a\",\"#16bdcf\",\"#9367bc\",\"#d62628\",\"#1f77b3\",\"#e277c1\",\"#8c564b\",\"#bcbc21\",\"#3a0182\",\"#004200\",\"#0fffa8\",\"#5d003f\",\"#c6bcff\",\"#424f52\",\"#b80080\",\"#ffb6b3\",\"#7c0100\",\"#6026ff\",\"#ffff9a\",\"#aec8aa\",\"#00857c\",\"#543a00\",\"#93fbff\",\"#00bf00\",\"#7c00a0\",\"#aa7200\",\"#90ff00\",\"#01bd89\",\"#00447b\",\"#c8826e\",\"#ff1f82\",\"#dd00ff\",\"#057400\",\"#644460\",\"#878eff\",\"#ffb5f4\",\"#526236\",\"#cd85ff\",\"#676983\",\"#bdb3bd\",\"#a56089\",\"#95d3ff\",\"#0100f7\",\"#ff8001\",\"#8a2844\",\"#aca06d\",\"#52448a\",\"#c8ffd8\",\"#aa4600\",\"#ff798e\",\"#82d370\",\"#909ebf\",\"#9300f4\",\"#ebcf9a\",\"#ac8ab1\",\"#006249\",\"#ffdb00\",\"#877750\",\"#7eaaa3\",\"#000097\",\"#f400c6\",\"#643328\",\"#006677\",\"#03e2c8\",\"#a736ae\",\"#c4dbe1\",\"#4d6eff\",\"#9a9301\",\"#cd576b\",\"#efddfd\",\"#795900\",\"#5e879a\",\"#b3ff91\",\"#5d726b\",\"#520066\",\"#058750\",\"#831f6e\",\"#3b9505\",\"#647200\",\"#f0a06b\",\"#5e4f44\",\"#bc0049\",\"#cf6726\",\"#d695aa\",\"#895dff\",\"#826b75\",\"#2a54b8\",\"#6e7cba\",\"#e6d4d3\",\"#5d0018\",\"#7c3b01\",\"#80b17c\",\"#c8d87c\",\"#00e83b\",\"#7cb1ff\",\"#ff54ff\",\"#a32621\",\"#1ce4ff\",\"#7caf3b\",\"#7b4b90\",\"#dfff48\",\"#6b00c3\",\"#cda897\",\"#bd62c3\",\"#89cdcd\",\"#4603c8\",\"#5d9179\",\"#414901\",\"#05a79c\",\"#cf8c36\",\"#fff7cf\",\"#425470\",\"#b544ff\",\"#cf4993\",\"#cfa3df\",\"#93d400\",\"#a793da\",\"#2da557\",\"#8ce2b5\",\"#a3a89c\",\"#6b5bb6\",\"#ff7e5d\",\"#a78289\",\"#afbdd8\",\"#2ac3ff\",\"#a5673d\",\"#f690fd\",\"#874b64\",\"#ff0c4b\",\"#215d23\",\"#4291ff\",\"#87829c\",\"#672d44\",\"#b14f41\",\"#004d52\",\"#5e1a00\",\"#ac4167\",\"#4f3167\",\"#d6fffd\",\"#7eb5d1\",\"#a8b869\",\"#ff95ca\",\"#c87495\",\"#364f38\",\"#ffcf62\",\"#5d5762\",\"#879375\",\"#a877ff\",\"#03c862\",\"#e6bdd4\",\"#d4e2cf\",\"#876790\",\"#897c26\",\"#cddbff\",\"#aa676b\",\"#313474\",\"#ff5da8\",\"#009aaf\",\"#70ffdd\",\"#775b38\",\"#4f649a\",\"#cc00b3\",\"#567b54\",\"#506e7b\",\"#015e91\",\"#aabcbd\",\"#017e99\",\"#03dd97\",\"#873a2b\",\"#ef958e\",\"#75c6aa\",\"#70695d\",\"#ccdb08\",\"#af8556\",\"#d80075\",\"#9c3f80\",\"#d84400\",\"#dd6754\",\"#5eff79\",\"#d4b172\",\"#62265d\",\"#baa13d\",\"#d8f2b3\",\"#56018e\",\"#a19aaa\",\"#4d4926\",\"#a3a8ff\",\"#ace8db\",\"#995901\",\"#ac00e2\",\"#46822f\",\"#cac3ac\",\"#00c4b5\",\"#605277\",\"#336d67\",\"#a59180\",\"#8399a1\",\"#fd5664\",\"#7095d1\",\"#728c07\",\"#7e004b\",\"#152fa0\",\"#d1c1e2\",\"#c885cf\",\"#6b444b\",\"#7e0023\",\"#00a179\",\"#b1a8cf\",\"#f90000\",\"#afe8ff\",\"#939e4f\",\"#727982\",\"#d82d54\",\"#466001\",\"#0059ff\",\"#773fb5\",\"#ace460\",\"#674424\",\"#525d50\",\"#957267\",\"#a8e49a\",\"#a30057\",\"#d862f6\",\"#8e7ccf\",\"#ffbc93\",\"#a30091\",\"#9affb8\",\"#a7c1ff\",\"#f46200\",\"#e4efff\",\"#b89ca3\",\"#609593\",\"#ff9e34\",\"#8c2800\",\"#726b31\",\"#df824d\",\"#af7bd4\",\"#bc2d00\",\"#7b6ea3\",\"#484262\",\"#c6a3ff\",\"#004d28\",\"#c3c68e\",\"#df48d6\",\"#e6e864\",\"#e4c10a\",\"#00f4f0\",\"#9e5ba1\",\"#4b41b6\",\"#64338e\",\"#757e6b\",\"#a88936\"],\"font\":{\"color\":\"#2a3f5f\"},\"hovermode\":\"closest\",\"hoverlabel\":{\"align\":\"left\"},\"paper_bgcolor\":\"white\",\"plot_bgcolor\":\"white\",\"polar\":{\"bgcolor\":\"white\",\"angularaxis\":{\"gridcolor\":\"#EBF0F8\",\"linecolor\":\"#EBF0F8\",\"ticks\":\"\"},\"radialaxis\":{\"gridcolor\":\"#EBF0F8\",\"linecolor\":\"#EBF0F8\",\"ticks\":\"\"}},\"ternary\":{\"bgcolor\":\"white\",\"aaxis\":{\"gridcolor\":\"#DFE8F3\",\"linecolor\":\"#A2B1C6\",\"ticks\":\"\"},\"baxis\":{\"gridcolor\":\"#DFE8F3\",\"linecolor\":\"#A2B1C6\",\"ticks\":\"\"},\"caxis\":{\"gridcolor\":\"#DFE8F3\",\"linecolor\":\"#A2B1C6\",\"ticks\":\"\"}},\"coloraxis\":{\"colorbar\":{\"outlinewidth\":0,\"ticks\":\"\"}},\"colorscale\":{\"sequential\":[[0.0,\"#0d0887\"],[0.1111111111111111,\"#46039f\"],[0.2222222222222222,\"#7201a8\"],[0.3333333333333333,\"#9c179e\"],[0.4444444444444444,\"#bd3786\"],[0.5555555555555556,\"#d8576b\"],[0.6666666666666666,\"#ed7953\"],[0.7777777777777778,\"#fb9f3a\"],[0.8888888888888888,\"#fdca26\"],[1.0,\"#f0f921\"]],\"sequentialminus\":[[0.0,\"#0d0887\"],[0.1111111111111111,\"#46039f\"],[0.2222222222222222,\"#7201a8\"],[0.3333333333333333,\"#9c179e\"],[0.4444444444444444,\"#bd3786\"],[0.5555555555555556,\"#d8576b\"],[0.6666666666666666,\"#ed7953\"],[0.7777777777777778,\"#fb9f3a\"],[0.8888888888888888,\"#fdca26\"],[1.0,\"#f0f921\"]],\"diverging\":[[0,\"#8e0152\"],[0.1,\"#c51b7d\"],[0.2,\"#de77ae\"],[0.3,\"#f1b6da\"],[0.4,\"#fde0ef\"],[0.5,\"#f7f7f7\"],[0.6,\"#e6f5d0\"],[0.7,\"#b8e186\"],[0.8,\"#7fbc41\"],[0.9,\"#4d9221\"],[1,\"#276419\"]]},\"xaxis\":{\"gridcolor\":\"#EBF0F8\",\"linecolor\":\"#EBF0F8\",\"ticks\":\"\",\"title\":{\"standoff\":15},\"zerolinecolor\":\"#EBF0F8\",\"automargin\":true,\"zerolinewidth\":2},\"yaxis\":{\"gridcolor\":\"#EBF0F8\",\"linecolor\":\"#EBF0F8\",\"ticks\":\"\",\"title\":{\"standoff\":15},\"zerolinecolor\":\"#EBF0F8\",\"automargin\":true,\"zerolinewidth\":2},\"scene\":{\"xaxis\":{\"backgroundcolor\":\"white\",\"gridcolor\":\"#DFE8F3\",\"linecolor\":\"#EBF0F8\",\"showbackground\":true,\"ticks\":\"\",\"zerolinecolor\":\"#EBF0F8\",\"gridwidth\":2},\"yaxis\":{\"backgroundcolor\":\"white\",\"gridcolor\":\"#DFE8F3\",\"linecolor\":\"#EBF0F8\",\"showbackground\":true,\"ticks\":\"\",\"zerolinecolor\":\"#EBF0F8\",\"gridwidth\":2},\"zaxis\":{\"backgroundcolor\":\"white\",\"gridcolor\":\"#DFE8F3\",\"linecolor\":\"#EBF0F8\",\"showbackground\":true,\"ticks\":\"\",\"zerolinecolor\":\"#EBF0F8\",\"gridwidth\":2}},\"shapedefaults\":{\"line\":{\"color\":\"#2a3f5f\"}},\"annotationdefaults\":{\"arrowcolor\":\"#2a3f5f\",\"arrowhead\":0,\"arrowwidth\":1},\"geo\":{\"bgcolor\":\"white\",\"landcolor\":\"white\",\"subunitcolor\":\"#C8D4E3\",\"showland\":true,\"showlakes\":true,\"lakecolor\":\"white\"},\"title\":{\"x\":0.05},\"mapbox\":{\"style\":\"light\"},\"legend\":{\"tracegroupgap\":0},\"width\":700,\"height\":400,\"autosize\":false}},\"xaxis\":{\"anchor\":\"y\",\"domain\":[0.0,1.0],\"title\":{\"text\":\"baz\"}},\"yaxis\":{\"anchor\":\"x\",\"domain\":[0.0,1.0],\"title\":{\"text\":\"bar\"}},\"legend\":{\"title\":{},\"tracegroupgap\":0},\"margin\":{\"t\":60}},                        {\"responsive\": true}                    ).then(function(){\n",
       "                            \n",
       "var gd = document.getElementById('f0aae821-7a03-4447-a28f-032c9ae7ecf8');\n",
       "var x = new MutationObserver(function (mutations, observer) {{\n",
       "        var display = window.getComputedStyle(gd).display;\n",
       "        if (!display || display === 'none') {{\n",
       "            console.log([gd, 'removed!']);\n",
       "            Plotly.purge(gd);\n",
       "            observer.disconnect();\n",
       "        }}\n",
       "}});\n",
       "\n",
       "// Listen for the removal of the full notebook cells\n",
       "var notebookContainer = gd.closest('#notebook-container');\n",
       "if (notebookContainer) {{\n",
       "    x.observe(notebookContainer, {childList: true});\n",
       "}}\n",
       "\n",
       "// Listen for the clearing of the current output cell\n",
       "var outputEl = gd.closest('.output');\n",
       "if (outputEl) {{\n",
       "    x.observe(outputEl, {childList: true});\n",
       "}}\n",
       "\n",
       "                        })                };                });            </script>        </div>"
      ]
     },
     "metadata": {},
     "output_type": "display_data"
    }
   ],
   "source": [
    "(U3 + U4).visualize()"
   ]
  },
  {
   "cell_type": "code",
   "execution_count": null,
   "metadata": {},
   "outputs": [
    {
     "data": {
      "application/vnd.plotly.v1+json": {
       "config": {
        "plotlyServerURL": "https://plot.ly"
       },
       "data": [
        {
         "hovertemplate": "foo=aaaaaaaaaaaaaaaaaa<br>bing=0.0<br>baz=%{x}<br>bar=%{y}<extra></extra>",
         "legendgroup": "aaaaaaaaaaaaaaaaaa",
         "line": {
          "color": "#2fa1da",
          "dash": "solid"
         },
         "marker": {
          "symbol": "circle"
         },
         "mode": "lines",
         "name": "aaaaaaaaaaaaaaaaaa",
         "orientation": "v",
         "showlegend": true,
         "type": "scatter",
         "x": [
          0,
          1,
          2,
          3,
          4
         ],
         "xaxis": "x",
         "y": [
          0.030892837036032184,
          0.7439947226949909,
          0.12011063010138434,
          0.26070378133594463,
          0.6103353887901798
         ],
         "yaxis": "y"
        },
        {
         "hovertemplate": "foo=b<br>bing=0.0<br>baz=%{x}<br>bar=%{y}<extra></extra>",
         "legendgroup": "b",
         "line": {
          "color": "#fb4f2f",
          "dash": "solid"
         },
         "marker": {
          "symbol": "circle"
         },
         "mode": "lines",
         "name": "b",
         "orientation": "v",
         "showlegend": true,
         "type": "scatter",
         "x": [
          0,
          1,
          2,
          3,
          4
         ],
         "xaxis": "x",
         "y": [
          0.3964362353648121,
          0.5316129186954394,
          0.07130453418484539,
          0.15353154633704746,
          0.6235463696427459
         ],
         "yaxis": "y"
        },
        {
         "hovertemplate": "foo=c<br>bing=0.0<br>baz=%{x}<br>bar=%{y}<extra></extra>",
         "legendgroup": "c",
         "line": {
          "color": "#e4ae38",
          "dash": "solid"
         },
         "marker": {
          "symbol": "circle"
         },
         "mode": "lines",
         "name": "c",
         "orientation": "v",
         "showlegend": true,
         "type": "scatter",
         "x": [
          0,
          1,
          2,
          3,
          4
         ],
         "xaxis": "x",
         "y": [
          0.9451482876707726,
          0.47613382109041036,
          0.9898230692048735,
          0.2463522417832268,
          0.1350797922175241
         ],
         "yaxis": "y"
        }
       ],
       "frames": [
        {
         "data": [
          {
           "hovertemplate": "foo=aaaaaaaaaaaaaaaaaa<br>bing=0.0<br>baz=%{x}<br>bar=%{y}<extra></extra>",
           "legendgroup": "aaaaaaaaaaaaaaaaaa",
           "line": {
            "color": "#2fa1da",
            "dash": "solid"
           },
           "marker": {
            "symbol": "circle"
           },
           "mode": "lines",
           "name": "aaaaaaaaaaaaaaaaaa",
           "orientation": "v",
           "showlegend": true,
           "type": "scatter",
           "x": [
            0,
            1,
            2,
            3,
            4
           ],
           "xaxis": "x",
           "y": [
            0.7119178105885787,
            0.24569974299498099,
            0.9028926876302835,
            0.7127496937612997,
            0.9097966227332338
           ],
           "yaxis": "y"
          },
          {
           "hovertemplate": "foo=b<br>bing=0.0<br>baz=%{x}<br>bar=%{y}<extra></extra>",
           "legendgroup": "b",
           "line": {
            "color": "#fb4f2f",
            "dash": "solid"
           },
           "marker": {
            "symbol": "circle"
           },
           "mode": "lines",
           "name": "b",
           "orientation": "v",
           "showlegend": true,
           "type": "scatter",
           "x": [
            0,
            1,
            2,
            3,
            4
           ],
           "xaxis": "x",
           "y": [
            0.5635232369695373,
            0.23074630526721696,
            0.9218975064992004,
            0.44739275179210947,
            0.2950192087123954
           ],
           "yaxis": "y"
          },
          {
           "hovertemplate": "foo=c<br>bing=0.0<br>baz=%{x}<br>bar=%{y}<extra></extra>",
           "legendgroup": "c",
           "line": {
            "color": "#e4ae38",
            "dash": "solid"
           },
           "marker": {
            "symbol": "circle"
           },
           "mode": "lines",
           "name": "c",
           "orientation": "v",
           "showlegend": true,
           "type": "scatter",
           "x": [
            0,
            1,
            2,
            3,
            4
           ],
           "xaxis": "x",
           "y": [
            0.4956050782011431,
            0.027182133497585026,
            0.3321630477034516,
            0.3460638229047347,
            0.568833805384319
           ],
           "yaxis": "y"
          }
         ],
         "name": "0.0"
        },
        {
         "data": [
          {
           "hovertemplate": "foo=aaaaaaaaaaaaaaaaaa<br>bing=0.000123456<br>baz=%{x}<br>bar=%{y}<extra></extra>",
           "legendgroup": "aaaaaaaaaaaaaaaaaa",
           "line": {
            "color": "#2fa1da",
            "dash": "solid"
           },
           "marker": {
            "symbol": "circle"
           },
           "mode": "lines",
           "name": "aaaaaaaaaaaaaaaaaa",
           "orientation": "v",
           "showlegend": true,
           "type": "scatter",
           "x": [
            0,
            1,
            2,
            3,
            4
           ],
           "xaxis": "x",
           "y": [
            0.055209956707980457,
            0.9585152939754523,
            0.16913470738285574,
            0.4676524524502125,
            0.28983411384949154
           ],
           "yaxis": "y"
          },
          {
           "hovertemplate": "foo=b<br>bing=0.000123456<br>baz=%{x}<br>bar=%{y}<extra></extra>",
           "legendgroup": "b",
           "line": {
            "color": "#fb4f2f",
            "dash": "solid"
           },
           "marker": {
            "symbol": "circle"
           },
           "mode": "lines",
           "name": "b",
           "orientation": "v",
           "showlegend": true,
           "type": "scatter",
           "x": [
            0,
            1,
            2,
            3,
            4
           ],
           "xaxis": "x",
           "y": [
            0.3482758834614562,
            0.7100168800546234,
            0.21177216346631034,
            0.16971410509856066,
            0.5542855857264279
           ],
           "yaxis": "y"
          },
          {
           "hovertemplate": "foo=c<br>bing=0.000123456<br>baz=%{x}<br>bar=%{y}<extra></extra>",
           "legendgroup": "c",
           "line": {
            "color": "#e4ae38",
            "dash": "solid"
           },
           "marker": {
            "symbol": "circle"
           },
           "mode": "lines",
           "name": "c",
           "orientation": "v",
           "showlegend": true,
           "type": "scatter",
           "x": [
            0,
            1,
            2,
            3,
            4
           ],
           "xaxis": "x",
           "y": [
            0.8651002319106483,
            0.6355603540101848,
            0.09000139104508986,
            0.7965717298026914,
            0.6218620306543405
           ],
           "yaxis": "y"
          }
         ],
         "name": "0.000123456"
        },
        {
         "data": [
          {
           "hovertemplate": "foo=aaaaaaaaaaaaaaaaaa<br>bing=0.000246912<br>baz=%{x}<br>bar=%{y}<extra></extra>",
           "legendgroup": "aaaaaaaaaaaaaaaaaa",
           "line": {
            "color": "#2fa1da",
            "dash": "solid"
           },
           "marker": {
            "symbol": "circle"
           },
           "mode": "lines",
           "name": "aaaaaaaaaaaaaaaaaa",
           "orientation": "v",
           "showlegend": true,
           "type": "scatter",
           "x": [
            0,
            1,
            2,
            3,
            4
           ],
           "xaxis": "x",
           "y": [
            0.030892837036032184,
            0.7439947226949909,
            0.12011063010138434,
            0.26070378133594463,
            0.6103353887901798
           ],
           "yaxis": "y"
          },
          {
           "hovertemplate": "foo=b<br>bing=0.000246912<br>baz=%{x}<br>bar=%{y}<extra></extra>",
           "legendgroup": "b",
           "line": {
            "color": "#fb4f2f",
            "dash": "solid"
           },
           "marker": {
            "symbol": "circle"
           },
           "mode": "lines",
           "name": "b",
           "orientation": "v",
           "showlegend": true,
           "type": "scatter",
           "x": [
            0,
            1,
            2,
            3,
            4
           ],
           "xaxis": "x",
           "y": [
            0.3964362353648121,
            0.5316129186954394,
            0.07130453418484539,
            0.15353154633704746,
            0.6235463696427459
           ],
           "yaxis": "y"
          },
          {
           "hovertemplate": "foo=c<br>bing=0.000246912<br>baz=%{x}<br>bar=%{y}<extra></extra>",
           "legendgroup": "c",
           "line": {
            "color": "#e4ae38",
            "dash": "solid"
           },
           "marker": {
            "symbol": "circle"
           },
           "mode": "lines",
           "name": "c",
           "orientation": "v",
           "showlegend": true,
           "type": "scatter",
           "x": [
            0,
            1,
            2,
            3,
            4
           ],
           "xaxis": "x",
           "y": [
            0.9451482876707726,
            0.47613382109041036,
            0.9898230692048735,
            0.2463522417832268,
            0.1350797922175241
           ],
           "yaxis": "y"
          }
         ],
         "name": "0.000246912"
        },
        {
         "data": [
          {
           "hovertemplate": "foo=aaaaaaaaaaaaaaaaaa<br>bing=0.00037036800000000004<br>baz=%{x}<br>bar=%{y}<extra></extra>",
           "legendgroup": "aaaaaaaaaaaaaaaaaa",
           "line": {
            "color": "#2fa1da",
            "dash": "solid"
           },
           "marker": {
            "symbol": "circle"
           },
           "mode": "lines",
           "name": "aaaaaaaaaaaaaaaaaa",
           "orientation": "v",
           "showlegend": true,
           "type": "scatter",
           "x": [
            0,
            1,
            2,
            3,
            4
           ],
           "xaxis": "x",
           "y": [
            0.05088073454501463,
            0.44953224112352086,
            0.07405768336907359,
            0.8420701517722398,
            0.6935404695867196
           ],
           "yaxis": "y"
          },
          {
           "hovertemplate": "foo=b<br>bing=0.00037036800000000004<br>baz=%{x}<br>bar=%{y}<extra></extra>",
           "legendgroup": "b",
           "line": {
            "color": "#fb4f2f",
            "dash": "solid"
           },
           "marker": {
            "symbol": "circle"
           },
           "mode": "lines",
           "name": "b",
           "orientation": "v",
           "showlegend": true,
           "type": "scatter",
           "x": [
            0,
            1,
            2,
            3,
            4
           ],
           "xaxis": "x",
           "y": [
            0.7497057510446368,
            0.6404392121036413,
            0.13254208095141362,
            0.33020129559773137,
            0.6747503563802233
           ],
           "yaxis": "y"
          },
          {
           "hovertemplate": "foo=c<br>bing=0.00037036800000000004<br>baz=%{x}<br>bar=%{y}<extra></extra>",
           "legendgroup": "c",
           "line": {
            "color": "#e4ae38",
            "dash": "solid"
           },
           "marker": {
            "symbol": "circle"
           },
           "mode": "lines",
           "name": "c",
           "orientation": "v",
           "showlegend": true,
           "type": "scatter",
           "x": [
            0,
            1,
            2,
            3,
            4
           ],
           "xaxis": "x",
           "y": [
            0.25761261618203646,
            0.2015349753923832,
            0.8272545955907364,
            0.6860498695059002,
            0.6825881222168831
           ],
           "yaxis": "y"
          }
         ],
         "name": "0.00037036800000000004"
        },
        {
         "data": [
          {
           "hovertemplate": "foo=aaaaaaaaaaaaaaaaaa<br>bing=0.000493824<br>baz=%{x}<br>bar=%{y}<extra></extra>",
           "legendgroup": "aaaaaaaaaaaaaaaaaa",
           "line": {
            "color": "#2fa1da",
            "dash": "solid"
           },
           "marker": {
            "symbol": "circle"
           },
           "mode": "lines",
           "name": "aaaaaaaaaaaaaaaaaa",
           "orientation": "v",
           "showlegend": true,
           "type": "scatter",
           "x": [
            0,
            1,
            2,
            3,
            4
           ],
           "xaxis": "x",
           "y": [
            0.8666088321536725,
            0.8880586950148697,
            0.5802402167429431,
            0.8564096306557393,
            0.07407055273870633
           ],
           "yaxis": "y"
          },
          {
           "hovertemplate": "foo=b<br>bing=0.000493824<br>baz=%{x}<br>bar=%{y}<extra></extra>",
           "legendgroup": "b",
           "line": {
            "color": "#fb4f2f",
            "dash": "solid"
           },
           "marker": {
            "symbol": "circle"
           },
           "mode": "lines",
           "name": "b",
           "orientation": "v",
           "showlegend": true,
           "type": "scatter",
           "x": [
            0,
            1,
            2,
            3,
            4
           ],
           "xaxis": "x",
           "y": [
            0.746067978959365,
            0.8117523712192651,
            0.7744172045693324,
            0.07774466692504212,
            0.4468388424141526
           ],
           "yaxis": "y"
          },
          {
           "hovertemplate": "foo=c<br>bing=0.000493824<br>baz=%{x}<br>bar=%{y}<extra></extra>",
           "legendgroup": "c",
           "line": {
            "color": "#e4ae38",
            "dash": "solid"
           },
           "marker": {
            "symbol": "circle"
           },
           "mode": "lines",
           "name": "c",
           "orientation": "v",
           "showlegend": true,
           "type": "scatter",
           "x": [
            0,
            1,
            2,
            3,
            4
           ],
           "xaxis": "x",
           "y": [
            0.8857051708583629,
            0.34956361145203385,
            0.630912007772655,
            0.7650244051780429,
            0.4090351320457297
           ],
           "yaxis": "y"
          }
         ],
         "name": "0.000493824"
        },
        {
         "data": [
          {
           "hovertemplate": "foo=aaaaaaaaaaaaaaaaaa<br>bing=0.00061728<br>baz=%{x}<br>bar=%{y}<extra></extra>",
           "legendgroup": "aaaaaaaaaaaaaaaaaa",
           "line": {
            "color": "#2fa1da",
            "dash": "solid"
           },
           "marker": {
            "symbol": "circle"
           },
           "mode": "lines",
           "name": "aaaaaaaaaaaaaaaaaa",
           "orientation": "v",
           "showlegend": true,
           "type": "scatter",
           "x": [
            0,
            1,
            2,
            3,
            4
           ],
           "xaxis": "x",
           "y": [
            0.215924790431266,
            0.5786092968125244,
            0.882175070328948,
            0.30766546637903003,
            0.08671148364319914
           ],
           "yaxis": "y"
          },
          {
           "hovertemplate": "foo=b<br>bing=0.00061728<br>baz=%{x}<br>bar=%{y}<extra></extra>",
           "legendgroup": "b",
           "line": {
            "color": "#fb4f2f",
            "dash": "solid"
           },
           "marker": {
            "symbol": "circle"
           },
           "mode": "lines",
           "name": "b",
           "orientation": "v",
           "showlegend": true,
           "type": "scatter",
           "x": [
            0,
            1,
            2,
            3,
            4
           ],
           "xaxis": "x",
           "y": [
            0.5312927548186049,
            0.14102729995001462,
            0.6384675277647406,
            0.21662236418404268,
            0.2223679278968107
           ],
           "yaxis": "y"
          },
          {
           "hovertemplate": "foo=c<br>bing=0.00061728<br>baz=%{x}<br>bar=%{y}<extra></extra>",
           "legendgroup": "c",
           "line": {
            "color": "#e4ae38",
            "dash": "solid"
           },
           "marker": {
            "symbol": "circle"
           },
           "mode": "lines",
           "name": "c",
           "orientation": "v",
           "showlegend": true,
           "type": "scatter",
           "x": [
            0,
            1,
            2,
            3,
            4
           ],
           "xaxis": "x",
           "y": [
            0.7792699435748007,
            0.972346247933598,
            0.5221250929031509,
            0.6889014524529722,
            0.44096263179803674
           ],
           "yaxis": "y"
          }
         ],
         "name": "0.00061728"
        }
       ],
       "layout": {
        "height": 360,
        "legend": {
         "title": {},
         "tracegroupgap": 0
        },
        "margin": {
         "t": 60
        },
        "sliders": [
         {
          "active": 2,
          "currentvalue": {
           "prefix": "bing="
          },
          "len": 0.9,
          "pad": {
           "b": 10,
           "t": 60
          },
          "steps": [
           {
            "args": [
             [
              "0.0"
             ],
             {
              "frame": {
               "duration": 0,
               "redraw": false
              },
              "fromcurrent": true,
              "mode": "immediate",
              "transition": {
               "duration": 0,
               "easing": "linear"
              }
             }
            ],
            "label": "0.0",
            "method": "animate"
           },
           {
            "args": [
             [
              "0.000123456"
             ],
             {
              "frame": {
               "duration": 0,
               "redraw": false
              },
              "fromcurrent": true,
              "mode": "immediate",
              "transition": {
               "duration": 0,
               "easing": "linear"
              }
             }
            ],
            "label": "0.12346m",
            "method": "animate"
           },
           {
            "args": [
             [
              "0.000246912"
             ],
             {
              "frame": {
               "duration": 0,
               "redraw": false
              },
              "fromcurrent": true,
              "mode": "immediate",
              "transition": {
               "duration": 0,
               "easing": "linear"
              }
             }
            ],
            "label": "0.24691m",
            "method": "animate"
           },
           {
            "args": [
             [
              "0.00037036800000000004"
             ],
             {
              "frame": {
               "duration": 0,
               "redraw": false
              },
              "fromcurrent": true,
              "mode": "immediate",
              "transition": {
               "duration": 0,
               "easing": "linear"
              }
             }
            ],
            "label": "0.37037m",
            "method": "animate"
           },
           {
            "args": [
             [
              "0.000493824"
             ],
             {
              "frame": {
               "duration": 0,
               "redraw": false
              },
              "fromcurrent": true,
              "mode": "immediate",
              "transition": {
               "duration": 0,
               "easing": "linear"
              }
             }
            ],
            "label": "0.49382m",
            "method": "animate"
           },
           {
            "args": [
             [
              "0.00061728"
             ],
             {
              "frame": {
               "duration": 0,
               "redraw": false
              },
              "fromcurrent": true,
              "mode": "immediate",
              "transition": {
               "duration": 0,
               "easing": "linear"
              }
             }
            ],
            "label": "0.61728m",
            "method": "animate"
           }
          ],
          "x": 0.1,
          "xanchor": "left",
          "y": 0,
          "yanchor": "top"
         }
        ],
        "template": {
         "data": {
          "bar": [
           {
            "error_x": {
             "color": "#2a3f5f"
            },
            "error_y": {
             "color": "#2a3f5f"
            },
            "marker": {
             "line": {
              "color": "white",
              "width": 0.5
             },
             "pattern": {
              "fillmode": "overlay",
              "size": 10,
              "solidity": 0.2
             }
            },
            "type": "bar"
           }
          ],
          "barpolar": [
           {
            "marker": {
             "line": {
              "color": "white",
              "width": 0.5
             },
             "pattern": {
              "fillmode": "overlay",
              "size": 10,
              "solidity": 0.2
             }
            },
            "type": "barpolar"
           }
          ],
          "carpet": [
           {
            "aaxis": {
             "endlinecolor": "#2a3f5f",
             "gridcolor": "#C8D4E3",
             "linecolor": "#C8D4E3",
             "minorgridcolor": "#C8D4E3",
             "startlinecolor": "#2a3f5f"
            },
            "baxis": {
             "endlinecolor": "#2a3f5f",
             "gridcolor": "#C8D4E3",
             "linecolor": "#C8D4E3",
             "minorgridcolor": "#C8D4E3",
             "startlinecolor": "#2a3f5f"
            },
            "type": "carpet"
           }
          ],
          "choropleth": [
           {
            "colorbar": {
             "outlinewidth": 0,
             "ticks": ""
            },
            "type": "choropleth"
           }
          ],
          "contour": [
           {
            "colorbar": {
             "outlinewidth": 0,
             "ticks": ""
            },
            "colorscale": [
             [
              0,
              "#0d0887"
             ],
             [
              0.1111111111111111,
              "#46039f"
             ],
             [
              0.2222222222222222,
              "#7201a8"
             ],
             [
              0.3333333333333333,
              "#9c179e"
             ],
             [
              0.4444444444444444,
              "#bd3786"
             ],
             [
              0.5555555555555556,
              "#d8576b"
             ],
             [
              0.6666666666666666,
              "#ed7953"
             ],
             [
              0.7777777777777778,
              "#fb9f3a"
             ],
             [
              0.8888888888888888,
              "#fdca26"
             ],
             [
              1,
              "#f0f921"
             ]
            ],
            "type": "contour"
           }
          ],
          "contourcarpet": [
           {
            "colorbar": {
             "outlinewidth": 0,
             "ticks": ""
            },
            "type": "contourcarpet"
           }
          ],
          "heatmap": [
           {
            "colorbar": {
             "outlinewidth": 0,
             "ticks": ""
            },
            "colorscale": [
             [
              0,
              "#0d0887"
             ],
             [
              0.1111111111111111,
              "#46039f"
             ],
             [
              0.2222222222222222,
              "#7201a8"
             ],
             [
              0.3333333333333333,
              "#9c179e"
             ],
             [
              0.4444444444444444,
              "#bd3786"
             ],
             [
              0.5555555555555556,
              "#d8576b"
             ],
             [
              0.6666666666666666,
              "#ed7953"
             ],
             [
              0.7777777777777778,
              "#fb9f3a"
             ],
             [
              0.8888888888888888,
              "#fdca26"
             ],
             [
              1,
              "#f0f921"
             ]
            ],
            "type": "heatmap"
           }
          ],
          "heatmapgl": [
           {
            "colorbar": {
             "outlinewidth": 0,
             "ticks": ""
            },
            "colorscale": [
             [
              0,
              "#0d0887"
             ],
             [
              0.1111111111111111,
              "#46039f"
             ],
             [
              0.2222222222222222,
              "#7201a8"
             ],
             [
              0.3333333333333333,
              "#9c179e"
             ],
             [
              0.4444444444444444,
              "#bd3786"
             ],
             [
              0.5555555555555556,
              "#d8576b"
             ],
             [
              0.6666666666666666,
              "#ed7953"
             ],
             [
              0.7777777777777778,
              "#fb9f3a"
             ],
             [
              0.8888888888888888,
              "#fdca26"
             ],
             [
              1,
              "#f0f921"
             ]
            ],
            "type": "heatmapgl"
           }
          ],
          "histogram": [
           {
            "marker": {
             "pattern": {
              "fillmode": "overlay",
              "size": 10,
              "solidity": 0.2
             }
            },
            "type": "histogram"
           }
          ],
          "histogram2d": [
           {
            "colorbar": {
             "outlinewidth": 0,
             "ticks": ""
            },
            "colorscale": [
             [
              0,
              "#0d0887"
             ],
             [
              0.1111111111111111,
              "#46039f"
             ],
             [
              0.2222222222222222,
              "#7201a8"
             ],
             [
              0.3333333333333333,
              "#9c179e"
             ],
             [
              0.4444444444444444,
              "#bd3786"
             ],
             [
              0.5555555555555556,
              "#d8576b"
             ],
             [
              0.6666666666666666,
              "#ed7953"
             ],
             [
              0.7777777777777778,
              "#fb9f3a"
             ],
             [
              0.8888888888888888,
              "#fdca26"
             ],
             [
              1,
              "#f0f921"
             ]
            ],
            "type": "histogram2d"
           }
          ],
          "histogram2dcontour": [
           {
            "colorbar": {
             "outlinewidth": 0,
             "ticks": ""
            },
            "colorscale": [
             [
              0,
              "#0d0887"
             ],
             [
              0.1111111111111111,
              "#46039f"
             ],
             [
              0.2222222222222222,
              "#7201a8"
             ],
             [
              0.3333333333333333,
              "#9c179e"
             ],
             [
              0.4444444444444444,
              "#bd3786"
             ],
             [
              0.5555555555555556,
              "#d8576b"
             ],
             [
              0.6666666666666666,
              "#ed7953"
             ],
             [
              0.7777777777777778,
              "#fb9f3a"
             ],
             [
              0.8888888888888888,
              "#fdca26"
             ],
             [
              1,
              "#f0f921"
             ]
            ],
            "type": "histogram2dcontour"
           }
          ],
          "mesh3d": [
           {
            "colorbar": {
             "outlinewidth": 0,
             "ticks": ""
            },
            "type": "mesh3d"
           }
          ],
          "parcoords": [
           {
            "line": {
             "colorbar": {
              "outlinewidth": 0,
              "ticks": ""
             }
            },
            "type": "parcoords"
           }
          ],
          "pie": [
           {
            "automargin": true,
            "type": "pie"
           }
          ],
          "scatter": [
           {
            "fillpattern": {
             "fillmode": "overlay",
             "size": 10,
             "solidity": 0.2
            },
            "type": "scatter"
           }
          ],
          "scatter3d": [
           {
            "line": {
             "colorbar": {
              "outlinewidth": 0,
              "ticks": ""
             }
            },
            "marker": {
             "colorbar": {
              "outlinewidth": 0,
              "ticks": ""
             }
            },
            "type": "scatter3d"
           }
          ],
          "scattercarpet": [
           {
            "marker": {
             "colorbar": {
              "outlinewidth": 0,
              "ticks": ""
             }
            },
            "type": "scattercarpet"
           }
          ],
          "scattergeo": [
           {
            "marker": {
             "colorbar": {
              "outlinewidth": 0,
              "ticks": ""
             }
            },
            "type": "scattergeo"
           }
          ],
          "scattergl": [
           {
            "marker": {
             "colorbar": {
              "outlinewidth": 0,
              "ticks": ""
             }
            },
            "type": "scattergl"
           }
          ],
          "scattermapbox": [
           {
            "marker": {
             "colorbar": {
              "outlinewidth": 0,
              "ticks": ""
             }
            },
            "type": "scattermapbox"
           }
          ],
          "scatterpolar": [
           {
            "marker": {
             "colorbar": {
              "outlinewidth": 0,
              "ticks": ""
             }
            },
            "type": "scatterpolar"
           }
          ],
          "scatterpolargl": [
           {
            "marker": {
             "colorbar": {
              "outlinewidth": 0,
              "ticks": ""
             }
            },
            "type": "scatterpolargl"
           }
          ],
          "scatterternary": [
           {
            "marker": {
             "colorbar": {
              "outlinewidth": 0,
              "ticks": ""
             }
            },
            "type": "scatterternary"
           }
          ],
          "surface": [
           {
            "colorbar": {
             "outlinewidth": 0,
             "ticks": ""
            },
            "colorscale": [
             [
              0,
              "#0d0887"
             ],
             [
              0.1111111111111111,
              "#46039f"
             ],
             [
              0.2222222222222222,
              "#7201a8"
             ],
             [
              0.3333333333333333,
              "#9c179e"
             ],
             [
              0.4444444444444444,
              "#bd3786"
             ],
             [
              0.5555555555555556,
              "#d8576b"
             ],
             [
              0.6666666666666666,
              "#ed7953"
             ],
             [
              0.7777777777777778,
              "#fb9f3a"
             ],
             [
              0.8888888888888888,
              "#fdca26"
             ],
             [
              1,
              "#f0f921"
             ]
            ],
            "type": "surface"
           }
          ],
          "table": [
           {
            "cells": {
             "fill": {
              "color": "#EBF0F8"
             },
             "line": {
              "color": "white"
             }
            },
            "header": {
             "fill": {
              "color": "#C8D4E3"
             },
             "line": {
              "color": "white"
             }
            },
            "type": "table"
           }
          ]
         },
         "layout": {
          "annotationdefaults": {
           "arrowcolor": "#2a3f5f",
           "arrowhead": 0,
           "arrowwidth": 1
          },
          "autosize": false,
          "autotypenumbers": "strict",
          "coloraxis": {
           "colorbar": {
            "outlinewidth": 0,
            "ticks": ""
           }
          },
          "colorscale": {
           "diverging": [
            [
             0,
             "#8e0152"
            ],
            [
             0.1,
             "#c51b7d"
            ],
            [
             0.2,
             "#de77ae"
            ],
            [
             0.3,
             "#f1b6da"
            ],
            [
             0.4,
             "#fde0ef"
            ],
            [
             0.5,
             "#f7f7f7"
            ],
            [
             0.6,
             "#e6f5d0"
            ],
            [
             0.7,
             "#b8e186"
            ],
            [
             0.8,
             "#7fbc41"
            ],
            [
             0.9,
             "#4d9221"
            ],
            [
             1,
             "#276419"
            ]
           ],
           "sequential": [
            [
             0,
             "#0d0887"
            ],
            [
             0.1111111111111111,
             "#46039f"
            ],
            [
             0.2222222222222222,
             "#7201a8"
            ],
            [
             0.3333333333333333,
             "#9c179e"
            ],
            [
             0.4444444444444444,
             "#bd3786"
            ],
            [
             0.5555555555555556,
             "#d8576b"
            ],
            [
             0.6666666666666666,
             "#ed7953"
            ],
            [
             0.7777777777777778,
             "#fb9f3a"
            ],
            [
             0.8888888888888888,
             "#fdca26"
            ],
            [
             1,
             "#f0f921"
            ]
           ],
           "sequentialminus": [
            [
             0,
             "#0d0887"
            ],
            [
             0.1111111111111111,
             "#46039f"
            ],
            [
             0.2222222222222222,
             "#7201a8"
            ],
            [
             0.3333333333333333,
             "#9c179e"
            ],
            [
             0.4444444444444444,
             "#bd3786"
            ],
            [
             0.5555555555555556,
             "#d8576b"
            ],
            [
             0.6666666666666666,
             "#ed7953"
            ],
            [
             0.7777777777777778,
             "#fb9f3a"
            ],
            [
             0.8888888888888888,
             "#fdca26"
            ],
            [
             1,
             "#f0f921"
            ]
           ]
          },
          "colorway": [
           "#2fa1da",
           "#fb4f2f",
           "#e4ae38",
           "#6d904f",
           "#8a8a8a",
           "#16bdcf",
           "#9367bc",
           "#d62628",
           "#1f77b3",
           "#e277c1",
           "#8c564b",
           "#bcbc21",
           "#3a0182",
           "#004200",
           "#0fffa8",
           "#5d003f",
           "#c6bcff",
           "#424f52",
           "#b80080",
           "#ffb6b3",
           "#7c0100",
           "#6026ff",
           "#ffff9a",
           "#aec8aa",
           "#00857c",
           "#543a00",
           "#93fbff",
           "#00bf00",
           "#7c00a0",
           "#aa7200",
           "#90ff00",
           "#01bd89",
           "#00447b",
           "#c8826e",
           "#ff1f82",
           "#dd00ff",
           "#057400",
           "#644460",
           "#878eff",
           "#ffb5f4",
           "#526236",
           "#cd85ff",
           "#676983",
           "#bdb3bd",
           "#a56089",
           "#95d3ff",
           "#0100f7",
           "#ff8001",
           "#8a2844",
           "#aca06d",
           "#52448a",
           "#c8ffd8",
           "#aa4600",
           "#ff798e",
           "#82d370",
           "#909ebf",
           "#9300f4",
           "#ebcf9a",
           "#ac8ab1",
           "#006249",
           "#ffdb00",
           "#877750",
           "#7eaaa3",
           "#000097",
           "#f400c6",
           "#643328",
           "#006677",
           "#03e2c8",
           "#a736ae",
           "#c4dbe1",
           "#4d6eff",
           "#9a9301",
           "#cd576b",
           "#efddfd",
           "#795900",
           "#5e879a",
           "#b3ff91",
           "#5d726b",
           "#520066",
           "#058750",
           "#831f6e",
           "#3b9505",
           "#647200",
           "#f0a06b",
           "#5e4f44",
           "#bc0049",
           "#cf6726",
           "#d695aa",
           "#895dff",
           "#826b75",
           "#2a54b8",
           "#6e7cba",
           "#e6d4d3",
           "#5d0018",
           "#7c3b01",
           "#80b17c",
           "#c8d87c",
           "#00e83b",
           "#7cb1ff",
           "#ff54ff",
           "#a32621",
           "#1ce4ff",
           "#7caf3b",
           "#7b4b90",
           "#dfff48",
           "#6b00c3",
           "#cda897",
           "#bd62c3",
           "#89cdcd",
           "#4603c8",
           "#5d9179",
           "#414901",
           "#05a79c",
           "#cf8c36",
           "#fff7cf",
           "#425470",
           "#b544ff",
           "#cf4993",
           "#cfa3df",
           "#93d400",
           "#a793da",
           "#2da557",
           "#8ce2b5",
           "#a3a89c",
           "#6b5bb6",
           "#ff7e5d",
           "#a78289",
           "#afbdd8",
           "#2ac3ff",
           "#a5673d",
           "#f690fd",
           "#874b64",
           "#ff0c4b",
           "#215d23",
           "#4291ff",
           "#87829c",
           "#672d44",
           "#b14f41",
           "#004d52",
           "#5e1a00",
           "#ac4167",
           "#4f3167",
           "#d6fffd",
           "#7eb5d1",
           "#a8b869",
           "#ff95ca",
           "#c87495",
           "#364f38",
           "#ffcf62",
           "#5d5762",
           "#879375",
           "#a877ff",
           "#03c862",
           "#e6bdd4",
           "#d4e2cf",
           "#876790",
           "#897c26",
           "#cddbff",
           "#aa676b",
           "#313474",
           "#ff5da8",
           "#009aaf",
           "#70ffdd",
           "#775b38",
           "#4f649a",
           "#cc00b3",
           "#567b54",
           "#506e7b",
           "#015e91",
           "#aabcbd",
           "#017e99",
           "#03dd97",
           "#873a2b",
           "#ef958e",
           "#75c6aa",
           "#70695d",
           "#ccdb08",
           "#af8556",
           "#d80075",
           "#9c3f80",
           "#d84400",
           "#dd6754",
           "#5eff79",
           "#d4b172",
           "#62265d",
           "#baa13d",
           "#d8f2b3",
           "#56018e",
           "#a19aaa",
           "#4d4926",
           "#a3a8ff",
           "#ace8db",
           "#995901",
           "#ac00e2",
           "#46822f",
           "#cac3ac",
           "#00c4b5",
           "#605277",
           "#336d67",
           "#a59180",
           "#8399a1",
           "#fd5664",
           "#7095d1",
           "#728c07",
           "#7e004b",
           "#152fa0",
           "#d1c1e2",
           "#c885cf",
           "#6b444b",
           "#7e0023",
           "#00a179",
           "#b1a8cf",
           "#f90000",
           "#afe8ff",
           "#939e4f",
           "#727982",
           "#d82d54",
           "#466001",
           "#0059ff",
           "#773fb5",
           "#ace460",
           "#674424",
           "#525d50",
           "#957267",
           "#a8e49a",
           "#a30057",
           "#d862f6",
           "#8e7ccf",
           "#ffbc93",
           "#a30091",
           "#9affb8",
           "#a7c1ff",
           "#f46200",
           "#e4efff",
           "#b89ca3",
           "#609593",
           "#ff9e34",
           "#8c2800",
           "#726b31",
           "#df824d",
           "#af7bd4",
           "#bc2d00",
           "#7b6ea3",
           "#484262",
           "#c6a3ff",
           "#004d28",
           "#c3c68e",
           "#df48d6",
           "#e6e864",
           "#e4c10a",
           "#00f4f0",
           "#9e5ba1",
           "#4b41b6",
           "#64338e",
           "#757e6b",
           "#a88936"
          ],
          "font": {
           "color": "#2a3f5f"
          },
          "geo": {
           "bgcolor": "white",
           "lakecolor": "white",
           "landcolor": "white",
           "showlakes": true,
           "showland": true,
           "subunitcolor": "#C8D4E3"
          },
          "height": 400,
          "hoverlabel": {
           "align": "left"
          },
          "hovermode": "closest",
          "legend": {
           "tracegroupgap": 0
          },
          "mapbox": {
           "style": "light"
          },
          "paper_bgcolor": "white",
          "plot_bgcolor": "white",
          "polar": {
           "angularaxis": {
            "gridcolor": "#EBF0F8",
            "linecolor": "#EBF0F8",
            "ticks": ""
           },
           "bgcolor": "white",
           "radialaxis": {
            "gridcolor": "#EBF0F8",
            "linecolor": "#EBF0F8",
            "ticks": ""
           }
          },
          "scene": {
           "xaxis": {
            "backgroundcolor": "white",
            "gridcolor": "#DFE8F3",
            "gridwidth": 2,
            "linecolor": "#EBF0F8",
            "showbackground": true,
            "ticks": "",
            "zerolinecolor": "#EBF0F8"
           },
           "yaxis": {
            "backgroundcolor": "white",
            "gridcolor": "#DFE8F3",
            "gridwidth": 2,
            "linecolor": "#EBF0F8",
            "showbackground": true,
            "ticks": "",
            "zerolinecolor": "#EBF0F8"
           },
           "zaxis": {
            "backgroundcolor": "white",
            "gridcolor": "#DFE8F3",
            "gridwidth": 2,
            "linecolor": "#EBF0F8",
            "showbackground": true,
            "ticks": "",
            "zerolinecolor": "#EBF0F8"
           }
          },
          "shapedefaults": {
           "line": {
            "color": "#2a3f5f"
           }
          },
          "ternary": {
           "aaxis": {
            "gridcolor": "#DFE8F3",
            "linecolor": "#A2B1C6",
            "ticks": ""
           },
           "baxis": {
            "gridcolor": "#DFE8F3",
            "linecolor": "#A2B1C6",
            "ticks": ""
           },
           "bgcolor": "white",
           "caxis": {
            "gridcolor": "#DFE8F3",
            "linecolor": "#A2B1C6",
            "ticks": ""
           }
          },
          "title": {
           "x": 0.05
          },
          "width": 700,
          "xaxis": {
           "automargin": true,
           "gridcolor": "#EBF0F8",
           "linecolor": "#EBF0F8",
           "ticks": "",
           "title": {
            "standoff": 15
           },
           "zerolinecolor": "#EBF0F8",
           "zerolinewidth": 2
          },
          "yaxis": {
           "automargin": true,
           "gridcolor": "#EBF0F8",
           "linecolor": "#EBF0F8",
           "ticks": "",
           "title": {
            "standoff": 15
           },
           "zerolinecolor": "#EBF0F8",
           "zerolinewidth": 2
          }
         }
        },
        "updatemenus": [
         {
          "buttons": [
           {
            "args": [
             null,
             {
              "frame": {
               "duration": 500,
               "redraw": false
              },
              "fromcurrent": true,
              "mode": "immediate",
              "transition": {
               "duration": 0,
               "easing": "linear"
              }
             }
            ],
            "label": "&#9654;",
            "method": "animate"
           },
           {
            "args": [
             [
              null
             ],
             {
              "frame": {
               "duration": 0,
               "redraw": false
              },
              "fromcurrent": true,
              "mode": "immediate",
              "transition": {
               "duration": 0,
               "easing": "linear"
              }
             }
            ],
            "label": "&#9724;",
            "method": "animate"
           }
          ],
          "direction": "left",
          "pad": {
           "r": 10,
           "t": 70
          },
          "showactive": false,
          "type": "buttons",
          "x": 0.1,
          "xanchor": "right",
          "y": 0,
          "yanchor": "top"
         }
        ],
        "width": 700,
        "xaxis": {
         "anchor": "y",
         "autorange": true,
         "domain": [
          0,
          1
         ],
         "range": [
          0,
          4
         ],
         "title": {
          "text": "baz"
         },
         "type": "linear"
        },
        "yaxis": {
         "anchor": "x",
         "domain": [
          0,
          1
         ],
         "range": [
          -0.020949913287779398,
          1.037955115990238
         ],
         "title": {
          "text": "bar"
         },
         "type": "linear"
        }
       }
      },
      "text/html": [
       "<div>                            <div id=\"2d7dc1ea-16ac-4eab-8089-d7d04349ea5e\" class=\"plotly-graph-div\" style=\"height:400px; width:700px;\"></div>            <script type=\"text/javascript\">                require([\"plotly\"], function(Plotly) {                    window.PLOTLYENV=window.PLOTLYENV || {};                                    if (document.getElementById(\"2d7dc1ea-16ac-4eab-8089-d7d04349ea5e\")) {                    Plotly.newPlot(                        \"2d7dc1ea-16ac-4eab-8089-d7d04349ea5e\",                        [{\"hovertemplate\":\"foo=aaaaaaaaaaaaaaaaaa\\u003cbr\\u003ebing=0.0\\u003cbr\\u003ebaz=%{x}\\u003cbr\\u003ebar=%{y}\\u003cextra\\u003e\\u003c\\u002fextra\\u003e\",\"legendgroup\":\"aaaaaaaaaaaaaaaaaa\",\"line\":{\"color\":\"#2fa1da\",\"dash\":\"solid\"},\"marker\":{\"symbol\":\"circle\"},\"mode\":\"lines\",\"name\":\"aaaaaaaaaaaaaaaaaa\",\"orientation\":\"v\",\"showlegend\":true,\"x\":[0,1,2,3,4],\"xaxis\":\"x\",\"y\":[0.030892837036032184,0.7439947226949909,0.12011063010138434,0.26070378133594463,0.6103353887901798],\"yaxis\":\"y\",\"type\":\"scatter\"},{\"hovertemplate\":\"foo=b\\u003cbr\\u003ebing=0.0\\u003cbr\\u003ebaz=%{x}\\u003cbr\\u003ebar=%{y}\\u003cextra\\u003e\\u003c\\u002fextra\\u003e\",\"legendgroup\":\"b\",\"line\":{\"color\":\"#fb4f2f\",\"dash\":\"solid\"},\"marker\":{\"symbol\":\"circle\"},\"mode\":\"lines\",\"name\":\"b\",\"orientation\":\"v\",\"showlegend\":true,\"x\":[0,1,2,3,4],\"xaxis\":\"x\",\"y\":[0.3964362353648121,0.5316129186954394,0.07130453418484539,0.15353154633704746,0.6235463696427459],\"yaxis\":\"y\",\"type\":\"scatter\"},{\"hovertemplate\":\"foo=c\\u003cbr\\u003ebing=0.0\\u003cbr\\u003ebaz=%{x}\\u003cbr\\u003ebar=%{y}\\u003cextra\\u003e\\u003c\\u002fextra\\u003e\",\"legendgroup\":\"c\",\"line\":{\"color\":\"#e4ae38\",\"dash\":\"solid\"},\"marker\":{\"symbol\":\"circle\"},\"mode\":\"lines\",\"name\":\"c\",\"orientation\":\"v\",\"showlegend\":true,\"x\":[0,1,2,3,4],\"xaxis\":\"x\",\"y\":[0.9451482876707726,0.47613382109041036,0.9898230692048735,0.2463522417832268,0.1350797922175241],\"yaxis\":\"y\",\"type\":\"scatter\"}],                        {\"template\":{\"data\":{\"histogram2dcontour\":[{\"type\":\"histogram2dcontour\",\"colorbar\":{\"outlinewidth\":0,\"ticks\":\"\"},\"colorscale\":[[0.0,\"#0d0887\"],[0.1111111111111111,\"#46039f\"],[0.2222222222222222,\"#7201a8\"],[0.3333333333333333,\"#9c179e\"],[0.4444444444444444,\"#bd3786\"],[0.5555555555555556,\"#d8576b\"],[0.6666666666666666,\"#ed7953\"],[0.7777777777777778,\"#fb9f3a\"],[0.8888888888888888,\"#fdca26\"],[1.0,\"#f0f921\"]]}],\"choropleth\":[{\"type\":\"choropleth\",\"colorbar\":{\"outlinewidth\":0,\"ticks\":\"\"}}],\"histogram2d\":[{\"type\":\"histogram2d\",\"colorbar\":{\"outlinewidth\":0,\"ticks\":\"\"},\"colorscale\":[[0.0,\"#0d0887\"],[0.1111111111111111,\"#46039f\"],[0.2222222222222222,\"#7201a8\"],[0.3333333333333333,\"#9c179e\"],[0.4444444444444444,\"#bd3786\"],[0.5555555555555556,\"#d8576b\"],[0.6666666666666666,\"#ed7953\"],[0.7777777777777778,\"#fb9f3a\"],[0.8888888888888888,\"#fdca26\"],[1.0,\"#f0f921\"]]}],\"heatmap\":[{\"type\":\"heatmap\",\"colorbar\":{\"outlinewidth\":0,\"ticks\":\"\"},\"colorscale\":[[0.0,\"#0d0887\"],[0.1111111111111111,\"#46039f\"],[0.2222222222222222,\"#7201a8\"],[0.3333333333333333,\"#9c179e\"],[0.4444444444444444,\"#bd3786\"],[0.5555555555555556,\"#d8576b\"],[0.6666666666666666,\"#ed7953\"],[0.7777777777777778,\"#fb9f3a\"],[0.8888888888888888,\"#fdca26\"],[1.0,\"#f0f921\"]]}],\"heatmapgl\":[{\"type\":\"heatmapgl\",\"colorbar\":{\"outlinewidth\":0,\"ticks\":\"\"},\"colorscale\":[[0.0,\"#0d0887\"],[0.1111111111111111,\"#46039f\"],[0.2222222222222222,\"#7201a8\"],[0.3333333333333333,\"#9c179e\"],[0.4444444444444444,\"#bd3786\"],[0.5555555555555556,\"#d8576b\"],[0.6666666666666666,\"#ed7953\"],[0.7777777777777778,\"#fb9f3a\"],[0.8888888888888888,\"#fdca26\"],[1.0,\"#f0f921\"]]}],\"contourcarpet\":[{\"type\":\"contourcarpet\",\"colorbar\":{\"outlinewidth\":0,\"ticks\":\"\"}}],\"contour\":[{\"type\":\"contour\",\"colorbar\":{\"outlinewidth\":0,\"ticks\":\"\"},\"colorscale\":[[0.0,\"#0d0887\"],[0.1111111111111111,\"#46039f\"],[0.2222222222222222,\"#7201a8\"],[0.3333333333333333,\"#9c179e\"],[0.4444444444444444,\"#bd3786\"],[0.5555555555555556,\"#d8576b\"],[0.6666666666666666,\"#ed7953\"],[0.7777777777777778,\"#fb9f3a\"],[0.8888888888888888,\"#fdca26\"],[1.0,\"#f0f921\"]]}],\"surface\":[{\"type\":\"surface\",\"colorbar\":{\"outlinewidth\":0,\"ticks\":\"\"},\"colorscale\":[[0.0,\"#0d0887\"],[0.1111111111111111,\"#46039f\"],[0.2222222222222222,\"#7201a8\"],[0.3333333333333333,\"#9c179e\"],[0.4444444444444444,\"#bd3786\"],[0.5555555555555556,\"#d8576b\"],[0.6666666666666666,\"#ed7953\"],[0.7777777777777778,\"#fb9f3a\"],[0.8888888888888888,\"#fdca26\"],[1.0,\"#f0f921\"]]}],\"mesh3d\":[{\"type\":\"mesh3d\",\"colorbar\":{\"outlinewidth\":0,\"ticks\":\"\"}}],\"scatter\":[{\"fillpattern\":{\"fillmode\":\"overlay\",\"size\":10,\"solidity\":0.2},\"type\":\"scatter\"}],\"parcoords\":[{\"type\":\"parcoords\",\"line\":{\"colorbar\":{\"outlinewidth\":0,\"ticks\":\"\"}}}],\"scatterpolargl\":[{\"type\":\"scatterpolargl\",\"marker\":{\"colorbar\":{\"outlinewidth\":0,\"ticks\":\"\"}}}],\"bar\":[{\"error_x\":{\"color\":\"#2a3f5f\"},\"error_y\":{\"color\":\"#2a3f5f\"},\"marker\":{\"line\":{\"color\":\"white\",\"width\":0.5},\"pattern\":{\"fillmode\":\"overlay\",\"size\":10,\"solidity\":0.2}},\"type\":\"bar\"}],\"scattergeo\":[{\"type\":\"scattergeo\",\"marker\":{\"colorbar\":{\"outlinewidth\":0,\"ticks\":\"\"}}}],\"scatterpolar\":[{\"type\":\"scatterpolar\",\"marker\":{\"colorbar\":{\"outlinewidth\":0,\"ticks\":\"\"}}}],\"histogram\":[{\"marker\":{\"pattern\":{\"fillmode\":\"overlay\",\"size\":10,\"solidity\":0.2}},\"type\":\"histogram\"}],\"scattergl\":[{\"type\":\"scattergl\",\"marker\":{\"colorbar\":{\"outlinewidth\":0,\"ticks\":\"\"}}}],\"scatter3d\":[{\"type\":\"scatter3d\",\"line\":{\"colorbar\":{\"outlinewidth\":0,\"ticks\":\"\"}},\"marker\":{\"colorbar\":{\"outlinewidth\":0,\"ticks\":\"\"}}}],\"scattermapbox\":[{\"type\":\"scattermapbox\",\"marker\":{\"colorbar\":{\"outlinewidth\":0,\"ticks\":\"\"}}}],\"scatterternary\":[{\"type\":\"scatterternary\",\"marker\":{\"colorbar\":{\"outlinewidth\":0,\"ticks\":\"\"}}}],\"scattercarpet\":[{\"type\":\"scattercarpet\",\"marker\":{\"colorbar\":{\"outlinewidth\":0,\"ticks\":\"\"}}}],\"carpet\":[{\"aaxis\":{\"endlinecolor\":\"#2a3f5f\",\"gridcolor\":\"#C8D4E3\",\"linecolor\":\"#C8D4E3\",\"minorgridcolor\":\"#C8D4E3\",\"startlinecolor\":\"#2a3f5f\"},\"baxis\":{\"endlinecolor\":\"#2a3f5f\",\"gridcolor\":\"#C8D4E3\",\"linecolor\":\"#C8D4E3\",\"minorgridcolor\":\"#C8D4E3\",\"startlinecolor\":\"#2a3f5f\"},\"type\":\"carpet\"}],\"table\":[{\"cells\":{\"fill\":{\"color\":\"#EBF0F8\"},\"line\":{\"color\":\"white\"}},\"header\":{\"fill\":{\"color\":\"#C8D4E3\"},\"line\":{\"color\":\"white\"}},\"type\":\"table\"}],\"barpolar\":[{\"marker\":{\"line\":{\"color\":\"white\",\"width\":0.5},\"pattern\":{\"fillmode\":\"overlay\",\"size\":10,\"solidity\":0.2}},\"type\":\"barpolar\"}],\"pie\":[{\"automargin\":true,\"type\":\"pie\"}]},\"layout\":{\"autotypenumbers\":\"strict\",\"colorway\":[\"#2fa1da\",\"#fb4f2f\",\"#e4ae38\",\"#6d904f\",\"#8a8a8a\",\"#16bdcf\",\"#9367bc\",\"#d62628\",\"#1f77b3\",\"#e277c1\",\"#8c564b\",\"#bcbc21\",\"#3a0182\",\"#004200\",\"#0fffa8\",\"#5d003f\",\"#c6bcff\",\"#424f52\",\"#b80080\",\"#ffb6b3\",\"#7c0100\",\"#6026ff\",\"#ffff9a\",\"#aec8aa\",\"#00857c\",\"#543a00\",\"#93fbff\",\"#00bf00\",\"#7c00a0\",\"#aa7200\",\"#90ff00\",\"#01bd89\",\"#00447b\",\"#c8826e\",\"#ff1f82\",\"#dd00ff\",\"#057400\",\"#644460\",\"#878eff\",\"#ffb5f4\",\"#526236\",\"#cd85ff\",\"#676983\",\"#bdb3bd\",\"#a56089\",\"#95d3ff\",\"#0100f7\",\"#ff8001\",\"#8a2844\",\"#aca06d\",\"#52448a\",\"#c8ffd8\",\"#aa4600\",\"#ff798e\",\"#82d370\",\"#909ebf\",\"#9300f4\",\"#ebcf9a\",\"#ac8ab1\",\"#006249\",\"#ffdb00\",\"#877750\",\"#7eaaa3\",\"#000097\",\"#f400c6\",\"#643328\",\"#006677\",\"#03e2c8\",\"#a736ae\",\"#c4dbe1\",\"#4d6eff\",\"#9a9301\",\"#cd576b\",\"#efddfd\",\"#795900\",\"#5e879a\",\"#b3ff91\",\"#5d726b\",\"#520066\",\"#058750\",\"#831f6e\",\"#3b9505\",\"#647200\",\"#f0a06b\",\"#5e4f44\",\"#bc0049\",\"#cf6726\",\"#d695aa\",\"#895dff\",\"#826b75\",\"#2a54b8\",\"#6e7cba\",\"#e6d4d3\",\"#5d0018\",\"#7c3b01\",\"#80b17c\",\"#c8d87c\",\"#00e83b\",\"#7cb1ff\",\"#ff54ff\",\"#a32621\",\"#1ce4ff\",\"#7caf3b\",\"#7b4b90\",\"#dfff48\",\"#6b00c3\",\"#cda897\",\"#bd62c3\",\"#89cdcd\",\"#4603c8\",\"#5d9179\",\"#414901\",\"#05a79c\",\"#cf8c36\",\"#fff7cf\",\"#425470\",\"#b544ff\",\"#cf4993\",\"#cfa3df\",\"#93d400\",\"#a793da\",\"#2da557\",\"#8ce2b5\",\"#a3a89c\",\"#6b5bb6\",\"#ff7e5d\",\"#a78289\",\"#afbdd8\",\"#2ac3ff\",\"#a5673d\",\"#f690fd\",\"#874b64\",\"#ff0c4b\",\"#215d23\",\"#4291ff\",\"#87829c\",\"#672d44\",\"#b14f41\",\"#004d52\",\"#5e1a00\",\"#ac4167\",\"#4f3167\",\"#d6fffd\",\"#7eb5d1\",\"#a8b869\",\"#ff95ca\",\"#c87495\",\"#364f38\",\"#ffcf62\",\"#5d5762\",\"#879375\",\"#a877ff\",\"#03c862\",\"#e6bdd4\",\"#d4e2cf\",\"#876790\",\"#897c26\",\"#cddbff\",\"#aa676b\",\"#313474\",\"#ff5da8\",\"#009aaf\",\"#70ffdd\",\"#775b38\",\"#4f649a\",\"#cc00b3\",\"#567b54\",\"#506e7b\",\"#015e91\",\"#aabcbd\",\"#017e99\",\"#03dd97\",\"#873a2b\",\"#ef958e\",\"#75c6aa\",\"#70695d\",\"#ccdb08\",\"#af8556\",\"#d80075\",\"#9c3f80\",\"#d84400\",\"#dd6754\",\"#5eff79\",\"#d4b172\",\"#62265d\",\"#baa13d\",\"#d8f2b3\",\"#56018e\",\"#a19aaa\",\"#4d4926\",\"#a3a8ff\",\"#ace8db\",\"#995901\",\"#ac00e2\",\"#46822f\",\"#cac3ac\",\"#00c4b5\",\"#605277\",\"#336d67\",\"#a59180\",\"#8399a1\",\"#fd5664\",\"#7095d1\",\"#728c07\",\"#7e004b\",\"#152fa0\",\"#d1c1e2\",\"#c885cf\",\"#6b444b\",\"#7e0023\",\"#00a179\",\"#b1a8cf\",\"#f90000\",\"#afe8ff\",\"#939e4f\",\"#727982\",\"#d82d54\",\"#466001\",\"#0059ff\",\"#773fb5\",\"#ace460\",\"#674424\",\"#525d50\",\"#957267\",\"#a8e49a\",\"#a30057\",\"#d862f6\",\"#8e7ccf\",\"#ffbc93\",\"#a30091\",\"#9affb8\",\"#a7c1ff\",\"#f46200\",\"#e4efff\",\"#b89ca3\",\"#609593\",\"#ff9e34\",\"#8c2800\",\"#726b31\",\"#df824d\",\"#af7bd4\",\"#bc2d00\",\"#7b6ea3\",\"#484262\",\"#c6a3ff\",\"#004d28\",\"#c3c68e\",\"#df48d6\",\"#e6e864\",\"#e4c10a\",\"#00f4f0\",\"#9e5ba1\",\"#4b41b6\",\"#64338e\",\"#757e6b\",\"#a88936\"],\"font\":{\"color\":\"#2a3f5f\"},\"hovermode\":\"closest\",\"hoverlabel\":{\"align\":\"left\"},\"paper_bgcolor\":\"white\",\"plot_bgcolor\":\"white\",\"polar\":{\"bgcolor\":\"white\",\"angularaxis\":{\"gridcolor\":\"#EBF0F8\",\"linecolor\":\"#EBF0F8\",\"ticks\":\"\"},\"radialaxis\":{\"gridcolor\":\"#EBF0F8\",\"linecolor\":\"#EBF0F8\",\"ticks\":\"\"}},\"ternary\":{\"bgcolor\":\"white\",\"aaxis\":{\"gridcolor\":\"#DFE8F3\",\"linecolor\":\"#A2B1C6\",\"ticks\":\"\"},\"baxis\":{\"gridcolor\":\"#DFE8F3\",\"linecolor\":\"#A2B1C6\",\"ticks\":\"\"},\"caxis\":{\"gridcolor\":\"#DFE8F3\",\"linecolor\":\"#A2B1C6\",\"ticks\":\"\"}},\"coloraxis\":{\"colorbar\":{\"outlinewidth\":0,\"ticks\":\"\"}},\"colorscale\":{\"sequential\":[[0.0,\"#0d0887\"],[0.1111111111111111,\"#46039f\"],[0.2222222222222222,\"#7201a8\"],[0.3333333333333333,\"#9c179e\"],[0.4444444444444444,\"#bd3786\"],[0.5555555555555556,\"#d8576b\"],[0.6666666666666666,\"#ed7953\"],[0.7777777777777778,\"#fb9f3a\"],[0.8888888888888888,\"#fdca26\"],[1.0,\"#f0f921\"]],\"sequentialminus\":[[0.0,\"#0d0887\"],[0.1111111111111111,\"#46039f\"],[0.2222222222222222,\"#7201a8\"],[0.3333333333333333,\"#9c179e\"],[0.4444444444444444,\"#bd3786\"],[0.5555555555555556,\"#d8576b\"],[0.6666666666666666,\"#ed7953\"],[0.7777777777777778,\"#fb9f3a\"],[0.8888888888888888,\"#fdca26\"],[1.0,\"#f0f921\"]],\"diverging\":[[0,\"#8e0152\"],[0.1,\"#c51b7d\"],[0.2,\"#de77ae\"],[0.3,\"#f1b6da\"],[0.4,\"#fde0ef\"],[0.5,\"#f7f7f7\"],[0.6,\"#e6f5d0\"],[0.7,\"#b8e186\"],[0.8,\"#7fbc41\"],[0.9,\"#4d9221\"],[1,\"#276419\"]]},\"xaxis\":{\"gridcolor\":\"#EBF0F8\",\"linecolor\":\"#EBF0F8\",\"ticks\":\"\",\"title\":{\"standoff\":15},\"zerolinecolor\":\"#EBF0F8\",\"automargin\":true,\"zerolinewidth\":2},\"yaxis\":{\"gridcolor\":\"#EBF0F8\",\"linecolor\":\"#EBF0F8\",\"ticks\":\"\",\"title\":{\"standoff\":15},\"zerolinecolor\":\"#EBF0F8\",\"automargin\":true,\"zerolinewidth\":2},\"scene\":{\"xaxis\":{\"backgroundcolor\":\"white\",\"gridcolor\":\"#DFE8F3\",\"linecolor\":\"#EBF0F8\",\"showbackground\":true,\"ticks\":\"\",\"zerolinecolor\":\"#EBF0F8\",\"gridwidth\":2},\"yaxis\":{\"backgroundcolor\":\"white\",\"gridcolor\":\"#DFE8F3\",\"linecolor\":\"#EBF0F8\",\"showbackground\":true,\"ticks\":\"\",\"zerolinecolor\":\"#EBF0F8\",\"gridwidth\":2},\"zaxis\":{\"backgroundcolor\":\"white\",\"gridcolor\":\"#DFE8F3\",\"linecolor\":\"#EBF0F8\",\"showbackground\":true,\"ticks\":\"\",\"zerolinecolor\":\"#EBF0F8\",\"gridwidth\":2}},\"shapedefaults\":{\"line\":{\"color\":\"#2a3f5f\"}},\"annotationdefaults\":{\"arrowcolor\":\"#2a3f5f\",\"arrowhead\":0,\"arrowwidth\":1},\"geo\":{\"bgcolor\":\"white\",\"landcolor\":\"white\",\"subunitcolor\":\"#C8D4E3\",\"showland\":true,\"showlakes\":true,\"lakecolor\":\"white\"},\"title\":{\"x\":0.05},\"mapbox\":{\"style\":\"light\"},\"legend\":{\"tracegroupgap\":0},\"width\":700,\"height\":400,\"autosize\":false}},\"xaxis\":{\"anchor\":\"y\",\"domain\":[0.0,1.0],\"title\":{\"text\":\"baz\"}},\"yaxis\":{\"anchor\":\"x\",\"domain\":[0.0,1.0],\"title\":{\"text\":\"bar\"},\"range\":[-0.020949913287779398,1.037955115990238]},\"legend\":{\"title\":{},\"tracegroupgap\":0},\"margin\":{\"t\":60},\"updatemenus\":[{\"buttons\":[{\"args\":[null,{\"frame\":{\"duration\":500.0,\"redraw\":false},\"mode\":\"immediate\",\"fromcurrent\":true,\"transition\":{\"duration\":0,\"easing\":\"linear\"}}],\"label\":\"&#9654;\",\"method\":\"animate\"},{\"args\":[[null],{\"frame\":{\"duration\":0,\"redraw\":false},\"mode\":\"immediate\",\"fromcurrent\":true,\"transition\":{\"duration\":0,\"easing\":\"linear\"}}],\"label\":\"&#9724;\",\"method\":\"animate\"}],\"direction\":\"left\",\"pad\":{\"r\":10,\"t\":70},\"showactive\":false,\"type\":\"buttons\",\"x\":0.1,\"xanchor\":\"right\",\"y\":0,\"yanchor\":\"top\"}],\"sliders\":[{\"active\":2,\"currentvalue\":{\"prefix\":\"bing=\"},\"len\":0.9,\"pad\":{\"b\":10,\"t\":60},\"steps\":[{\"args\":[[\"0.0\"],{\"frame\":{\"duration\":0,\"redraw\":false},\"mode\":\"immediate\",\"fromcurrent\":true,\"transition\":{\"duration\":0,\"easing\":\"linear\"}}],\"label\":\"0.0\",\"method\":\"animate\"},{\"args\":[[\"0.000123456\"],{\"frame\":{\"duration\":0,\"redraw\":false},\"mode\":\"immediate\",\"fromcurrent\":true,\"transition\":{\"duration\":0,\"easing\":\"linear\"}}],\"label\":\"0.12346m\",\"method\":\"animate\"},{\"args\":[[\"0.000246912\"],{\"frame\":{\"duration\":0,\"redraw\":false},\"mode\":\"immediate\",\"fromcurrent\":true,\"transition\":{\"duration\":0,\"easing\":\"linear\"}}],\"label\":\"0.24691m\",\"method\":\"animate\"},{\"args\":[[\"0.00037036800000000004\"],{\"frame\":{\"duration\":0,\"redraw\":false},\"mode\":\"immediate\",\"fromcurrent\":true,\"transition\":{\"duration\":0,\"easing\":\"linear\"}}],\"label\":\"0.37037m\",\"method\":\"animate\"},{\"args\":[[\"0.000493824\"],{\"frame\":{\"duration\":0,\"redraw\":false},\"mode\":\"immediate\",\"fromcurrent\":true,\"transition\":{\"duration\":0,\"easing\":\"linear\"}}],\"label\":\"0.49382m\",\"method\":\"animate\"},{\"args\":[[\"0.00061728\"],{\"frame\":{\"duration\":0,\"redraw\":false},\"mode\":\"immediate\",\"fromcurrent\":true,\"transition\":{\"duration\":0,\"easing\":\"linear\"}}],\"label\":\"0.61728m\",\"method\":\"animate\"}],\"x\":0.1,\"xanchor\":\"left\",\"y\":0,\"yanchor\":\"top\"}]},                        {\"responsive\": true}                    ).then(function(){\n",
       "                            Plotly.addFrames('2d7dc1ea-16ac-4eab-8089-d7d04349ea5e', [{\"data\":[{\"hovertemplate\":\"foo=aaaaaaaaaaaaaaaaaa\\u003cbr\\u003ebing=0.0\\u003cbr\\u003ebaz=%{x}\\u003cbr\\u003ebar=%{y}\\u003cextra\\u003e\\u003c\\u002fextra\\u003e\",\"legendgroup\":\"aaaaaaaaaaaaaaaaaa\",\"line\":{\"color\":\"#2fa1da\",\"dash\":\"solid\"},\"marker\":{\"symbol\":\"circle\"},\"mode\":\"lines\",\"name\":\"aaaaaaaaaaaaaaaaaa\",\"orientation\":\"v\",\"showlegend\":true,\"x\":[0,1,2,3,4],\"xaxis\":\"x\",\"y\":[0.7119178105885787,0.24569974299498099,0.9028926876302835,0.7127496937612997,0.9097966227332338],\"yaxis\":\"y\",\"type\":\"scatter\"},{\"hovertemplate\":\"foo=b\\u003cbr\\u003ebing=0.0\\u003cbr\\u003ebaz=%{x}\\u003cbr\\u003ebar=%{y}\\u003cextra\\u003e\\u003c\\u002fextra\\u003e\",\"legendgroup\":\"b\",\"line\":{\"color\":\"#fb4f2f\",\"dash\":\"solid\"},\"marker\":{\"symbol\":\"circle\"},\"mode\":\"lines\",\"name\":\"b\",\"orientation\":\"v\",\"showlegend\":true,\"x\":[0,1,2,3,4],\"xaxis\":\"x\",\"y\":[0.5635232369695373,0.23074630526721696,0.9218975064992004,0.44739275179210947,0.2950192087123954],\"yaxis\":\"y\",\"type\":\"scatter\"},{\"hovertemplate\":\"foo=c\\u003cbr\\u003ebing=0.0\\u003cbr\\u003ebaz=%{x}\\u003cbr\\u003ebar=%{y}\\u003cextra\\u003e\\u003c\\u002fextra\\u003e\",\"legendgroup\":\"c\",\"line\":{\"color\":\"#e4ae38\",\"dash\":\"solid\"},\"marker\":{\"symbol\":\"circle\"},\"mode\":\"lines\",\"name\":\"c\",\"orientation\":\"v\",\"showlegend\":true,\"x\":[0,1,2,3,4],\"xaxis\":\"x\",\"y\":[0.4956050782011431,0.027182133497585026,0.3321630477034516,0.3460638229047347,0.568833805384319],\"yaxis\":\"y\",\"type\":\"scatter\"}],\"name\":\"0.0\"},{\"data\":[{\"hovertemplate\":\"foo=aaaaaaaaaaaaaaaaaa\\u003cbr\\u003ebing=0.000123456\\u003cbr\\u003ebaz=%{x}\\u003cbr\\u003ebar=%{y}\\u003cextra\\u003e\\u003c\\u002fextra\\u003e\",\"legendgroup\":\"aaaaaaaaaaaaaaaaaa\",\"line\":{\"color\":\"#2fa1da\",\"dash\":\"solid\"},\"marker\":{\"symbol\":\"circle\"},\"mode\":\"lines\",\"name\":\"aaaaaaaaaaaaaaaaaa\",\"orientation\":\"v\",\"showlegend\":true,\"x\":[0,1,2,3,4],\"xaxis\":\"x\",\"y\":[0.055209956707980457,0.9585152939754523,0.16913470738285574,0.4676524524502125,0.28983411384949154],\"yaxis\":\"y\",\"type\":\"scatter\"},{\"hovertemplate\":\"foo=b\\u003cbr\\u003ebing=0.000123456\\u003cbr\\u003ebaz=%{x}\\u003cbr\\u003ebar=%{y}\\u003cextra\\u003e\\u003c\\u002fextra\\u003e\",\"legendgroup\":\"b\",\"line\":{\"color\":\"#fb4f2f\",\"dash\":\"solid\"},\"marker\":{\"symbol\":\"circle\"},\"mode\":\"lines\",\"name\":\"b\",\"orientation\":\"v\",\"showlegend\":true,\"x\":[0,1,2,3,4],\"xaxis\":\"x\",\"y\":[0.3482758834614562,0.7100168800546234,0.21177216346631034,0.16971410509856066,0.5542855857264279],\"yaxis\":\"y\",\"type\":\"scatter\"},{\"hovertemplate\":\"foo=c\\u003cbr\\u003ebing=0.000123456\\u003cbr\\u003ebaz=%{x}\\u003cbr\\u003ebar=%{y}\\u003cextra\\u003e\\u003c\\u002fextra\\u003e\",\"legendgroup\":\"c\",\"line\":{\"color\":\"#e4ae38\",\"dash\":\"solid\"},\"marker\":{\"symbol\":\"circle\"},\"mode\":\"lines\",\"name\":\"c\",\"orientation\":\"v\",\"showlegend\":true,\"x\":[0,1,2,3,4],\"xaxis\":\"x\",\"y\":[0.8651002319106483,0.6355603540101848,0.09000139104508986,0.7965717298026914,0.6218620306543405],\"yaxis\":\"y\",\"type\":\"scatter\"}],\"name\":\"0.000123456\"},{\"data\":[{\"hovertemplate\":\"foo=aaaaaaaaaaaaaaaaaa\\u003cbr\\u003ebing=0.000246912\\u003cbr\\u003ebaz=%{x}\\u003cbr\\u003ebar=%{y}\\u003cextra\\u003e\\u003c\\u002fextra\\u003e\",\"legendgroup\":\"aaaaaaaaaaaaaaaaaa\",\"line\":{\"color\":\"#2fa1da\",\"dash\":\"solid\"},\"marker\":{\"symbol\":\"circle\"},\"mode\":\"lines\",\"name\":\"aaaaaaaaaaaaaaaaaa\",\"orientation\":\"v\",\"showlegend\":true,\"x\":[0,1,2,3,4],\"xaxis\":\"x\",\"y\":[0.030892837036032184,0.7439947226949909,0.12011063010138434,0.26070378133594463,0.6103353887901798],\"yaxis\":\"y\",\"type\":\"scatter\"},{\"hovertemplate\":\"foo=b\\u003cbr\\u003ebing=0.000246912\\u003cbr\\u003ebaz=%{x}\\u003cbr\\u003ebar=%{y}\\u003cextra\\u003e\\u003c\\u002fextra\\u003e\",\"legendgroup\":\"b\",\"line\":{\"color\":\"#fb4f2f\",\"dash\":\"solid\"},\"marker\":{\"symbol\":\"circle\"},\"mode\":\"lines\",\"name\":\"b\",\"orientation\":\"v\",\"showlegend\":true,\"x\":[0,1,2,3,4],\"xaxis\":\"x\",\"y\":[0.3964362353648121,0.5316129186954394,0.07130453418484539,0.15353154633704746,0.6235463696427459],\"yaxis\":\"y\",\"type\":\"scatter\"},{\"hovertemplate\":\"foo=c\\u003cbr\\u003ebing=0.000246912\\u003cbr\\u003ebaz=%{x}\\u003cbr\\u003ebar=%{y}\\u003cextra\\u003e\\u003c\\u002fextra\\u003e\",\"legendgroup\":\"c\",\"line\":{\"color\":\"#e4ae38\",\"dash\":\"solid\"},\"marker\":{\"symbol\":\"circle\"},\"mode\":\"lines\",\"name\":\"c\",\"orientation\":\"v\",\"showlegend\":true,\"x\":[0,1,2,3,4],\"xaxis\":\"x\",\"y\":[0.9451482876707726,0.47613382109041036,0.9898230692048735,0.2463522417832268,0.1350797922175241],\"yaxis\":\"y\",\"type\":\"scatter\"}],\"name\":\"0.000246912\"},{\"data\":[{\"hovertemplate\":\"foo=aaaaaaaaaaaaaaaaaa\\u003cbr\\u003ebing=0.00037036800000000004\\u003cbr\\u003ebaz=%{x}\\u003cbr\\u003ebar=%{y}\\u003cextra\\u003e\\u003c\\u002fextra\\u003e\",\"legendgroup\":\"aaaaaaaaaaaaaaaaaa\",\"line\":{\"color\":\"#2fa1da\",\"dash\":\"solid\"},\"marker\":{\"symbol\":\"circle\"},\"mode\":\"lines\",\"name\":\"aaaaaaaaaaaaaaaaaa\",\"orientation\":\"v\",\"showlegend\":true,\"x\":[0,1,2,3,4],\"xaxis\":\"x\",\"y\":[0.05088073454501463,0.44953224112352086,0.07405768336907359,0.8420701517722398,0.6935404695867196],\"yaxis\":\"y\",\"type\":\"scatter\"},{\"hovertemplate\":\"foo=b\\u003cbr\\u003ebing=0.00037036800000000004\\u003cbr\\u003ebaz=%{x}\\u003cbr\\u003ebar=%{y}\\u003cextra\\u003e\\u003c\\u002fextra\\u003e\",\"legendgroup\":\"b\",\"line\":{\"color\":\"#fb4f2f\",\"dash\":\"solid\"},\"marker\":{\"symbol\":\"circle\"},\"mode\":\"lines\",\"name\":\"b\",\"orientation\":\"v\",\"showlegend\":true,\"x\":[0,1,2,3,4],\"xaxis\":\"x\",\"y\":[0.7497057510446368,0.6404392121036413,0.13254208095141362,0.33020129559773137,0.6747503563802233],\"yaxis\":\"y\",\"type\":\"scatter\"},{\"hovertemplate\":\"foo=c\\u003cbr\\u003ebing=0.00037036800000000004\\u003cbr\\u003ebaz=%{x}\\u003cbr\\u003ebar=%{y}\\u003cextra\\u003e\\u003c\\u002fextra\\u003e\",\"legendgroup\":\"c\",\"line\":{\"color\":\"#e4ae38\",\"dash\":\"solid\"},\"marker\":{\"symbol\":\"circle\"},\"mode\":\"lines\",\"name\":\"c\",\"orientation\":\"v\",\"showlegend\":true,\"x\":[0,1,2,3,4],\"xaxis\":\"x\",\"y\":[0.25761261618203646,0.2015349753923832,0.8272545955907364,0.6860498695059002,0.6825881222168831],\"yaxis\":\"y\",\"type\":\"scatter\"}],\"name\":\"0.00037036800000000004\"},{\"data\":[{\"hovertemplate\":\"foo=aaaaaaaaaaaaaaaaaa\\u003cbr\\u003ebing=0.000493824\\u003cbr\\u003ebaz=%{x}\\u003cbr\\u003ebar=%{y}\\u003cextra\\u003e\\u003c\\u002fextra\\u003e\",\"legendgroup\":\"aaaaaaaaaaaaaaaaaa\",\"line\":{\"color\":\"#2fa1da\",\"dash\":\"solid\"},\"marker\":{\"symbol\":\"circle\"},\"mode\":\"lines\",\"name\":\"aaaaaaaaaaaaaaaaaa\",\"orientation\":\"v\",\"showlegend\":true,\"x\":[0,1,2,3,4],\"xaxis\":\"x\",\"y\":[0.8666088321536725,0.8880586950148697,0.5802402167429431,0.8564096306557393,0.07407055273870633],\"yaxis\":\"y\",\"type\":\"scatter\"},{\"hovertemplate\":\"foo=b\\u003cbr\\u003ebing=0.000493824\\u003cbr\\u003ebaz=%{x}\\u003cbr\\u003ebar=%{y}\\u003cextra\\u003e\\u003c\\u002fextra\\u003e\",\"legendgroup\":\"b\",\"line\":{\"color\":\"#fb4f2f\",\"dash\":\"solid\"},\"marker\":{\"symbol\":\"circle\"},\"mode\":\"lines\",\"name\":\"b\",\"orientation\":\"v\",\"showlegend\":true,\"x\":[0,1,2,3,4],\"xaxis\":\"x\",\"y\":[0.746067978959365,0.8117523712192651,0.7744172045693324,0.07774466692504212,0.4468388424141526],\"yaxis\":\"y\",\"type\":\"scatter\"},{\"hovertemplate\":\"foo=c\\u003cbr\\u003ebing=0.000493824\\u003cbr\\u003ebaz=%{x}\\u003cbr\\u003ebar=%{y}\\u003cextra\\u003e\\u003c\\u002fextra\\u003e\",\"legendgroup\":\"c\",\"line\":{\"color\":\"#e4ae38\",\"dash\":\"solid\"},\"marker\":{\"symbol\":\"circle\"},\"mode\":\"lines\",\"name\":\"c\",\"orientation\":\"v\",\"showlegend\":true,\"x\":[0,1,2,3,4],\"xaxis\":\"x\",\"y\":[0.8857051708583629,0.34956361145203385,0.630912007772655,0.7650244051780429,0.4090351320457297],\"yaxis\":\"y\",\"type\":\"scatter\"}],\"name\":\"0.000493824\"},{\"data\":[{\"hovertemplate\":\"foo=aaaaaaaaaaaaaaaaaa\\u003cbr\\u003ebing=0.00061728\\u003cbr\\u003ebaz=%{x}\\u003cbr\\u003ebar=%{y}\\u003cextra\\u003e\\u003c\\u002fextra\\u003e\",\"legendgroup\":\"aaaaaaaaaaaaaaaaaa\",\"line\":{\"color\":\"#2fa1da\",\"dash\":\"solid\"},\"marker\":{\"symbol\":\"circle\"},\"mode\":\"lines\",\"name\":\"aaaaaaaaaaaaaaaaaa\",\"orientation\":\"v\",\"showlegend\":true,\"x\":[0,1,2,3,4],\"xaxis\":\"x\",\"y\":[0.215924790431266,0.5786092968125244,0.882175070328948,0.30766546637903003,0.08671148364319914],\"yaxis\":\"y\",\"type\":\"scatter\"},{\"hovertemplate\":\"foo=b\\u003cbr\\u003ebing=0.00061728\\u003cbr\\u003ebaz=%{x}\\u003cbr\\u003ebar=%{y}\\u003cextra\\u003e\\u003c\\u002fextra\\u003e\",\"legendgroup\":\"b\",\"line\":{\"color\":\"#fb4f2f\",\"dash\":\"solid\"},\"marker\":{\"symbol\":\"circle\"},\"mode\":\"lines\",\"name\":\"b\",\"orientation\":\"v\",\"showlegend\":true,\"x\":[0,1,2,3,4],\"xaxis\":\"x\",\"y\":[0.5312927548186049,0.14102729995001462,0.6384675277647406,0.21662236418404268,0.2223679278968107],\"yaxis\":\"y\",\"type\":\"scatter\"},{\"hovertemplate\":\"foo=c\\u003cbr\\u003ebing=0.00061728\\u003cbr\\u003ebaz=%{x}\\u003cbr\\u003ebar=%{y}\\u003cextra\\u003e\\u003c\\u002fextra\\u003e\",\"legendgroup\":\"c\",\"line\":{\"color\":\"#e4ae38\",\"dash\":\"solid\"},\"marker\":{\"symbol\":\"circle\"},\"mode\":\"lines\",\"name\":\"c\",\"orientation\":\"v\",\"showlegend\":true,\"x\":[0,1,2,3,4],\"xaxis\":\"x\",\"y\":[0.7792699435748007,0.972346247933598,0.5221250929031509,0.6889014524529722,0.44096263179803674],\"yaxis\":\"y\",\"type\":\"scatter\"}],\"name\":\"0.00061728\"}]);\n",
       "                        }).then(function(){\n",
       "                            \n",
       "var gd = document.getElementById('2d7dc1ea-16ac-4eab-8089-d7d04349ea5e');\n",
       "var x = new MutationObserver(function (mutations, observer) {{\n",
       "        var display = window.getComputedStyle(gd).display;\n",
       "        if (!display || display === 'none') {{\n",
       "            console.log([gd, 'removed!']);\n",
       "            Plotly.purge(gd);\n",
       "            observer.disconnect();\n",
       "        }}\n",
       "}});\n",
       "\n",
       "// Listen for the removal of the full notebook cells\n",
       "var notebookContainer = gd.closest('#notebook-container');\n",
       "if (notebookContainer) {{\n",
       "    x.observe(notebookContainer, {childList: true});\n",
       "}}\n",
       "\n",
       "// Listen for the clearing of the current output cell\n",
       "var outputEl = gd.closest('.output');\n",
       "if (outputEl) {{\n",
       "    x.observe(outputEl, {childList: true});\n",
       "}}\n",
       "\n",
       "                        })                };                });            </script>        </div>"
      ]
     },
     "metadata": {},
     "output_type": "display_data"
    }
   ],
   "source": [
    "U5.visualize(slider_label_precision=5)"
   ]
  },
  {
   "cell_type": "markdown",
   "metadata": {},
   "source": [
    "## Export -"
   ]
  },
  {
   "cell_type": "code",
   "execution_count": null,
   "metadata": {},
   "outputs": [],
   "source": [
    "#| hide\n",
    "import nbdev; nbdev.nbdev_export()"
   ]
  },
  {
   "cell_type": "code",
   "execution_count": null,
   "metadata": {},
   "outputs": [],
   "source": [
    "# #| export\n",
    "# def _sort_varables(vars, head=set(), tail=set()):\n",
    "#     vars = set(vars)\n",
    "#     return (\n",
    "#         list(set.intersection(vars, head)) \n",
    "#         + list(vars - head - tail)\n",
    "#         + list(set.intersection(vars, tail))\n",
    "#     )"
   ]
  },
  {
   "cell_type": "code",
   "execution_count": null,
   "metadata": {},
   "outputs": [],
   "source": [
    "# #| export\n",
    "# def _apply_opts(obj, **opts):\n",
    "#     \"\"\"Traverse a holoviews object and apply `opts` to it or any child of it that accepts them.\"\"\"\n",
    "#     if hasattr(obj, 'opts'): obj = obj.opts(**opts)\n",
    "#     if hasattr(obj, 'object') and hasattr(obj.object, 'opts'): _apply_opts(obj.object, **opts)\n",
    "#     if hasattr(obj, 'objects'):\n",
    "#         for o in obj.objects:\n",
    "#             _apply_opts(o, **opts)"
   ]
  },
  {
   "cell_type": "code",
   "execution_count": null,
   "metadata": {},
   "outputs": [],
   "source": [
    "# #| export\n",
    "# def _plotly_trim_legend_label(plot, element):\n",
    "#     plot.state['data'][0]['name'] = ', '.join(s.split(': ')[1] for s in plot.state['data'][0]['name'].split(', '))"
   ]
  },
  {
   "cell_type": "code",
   "execution_count": null,
   "metadata": {},
   "outputs": [],
   "source": [
    "#|hide\n",
    "# import panel as pn\n",
    "# pn.extension('plotly')\n",
    "# import holoviews as hv\n",
    "# import hvplot.xarray\n",
    "# hvplot.extension('plotly')\n",
    "\n",
    "# #|export\n",
    "# def hvplot_dataarray(array:DataArray, embed=False, scrubber_initial_position=.35, **kwargs):\n",
    "#     \"\"\"Visualize the data contained in the `XarrayVectorArray`.\n",
    "#     Put the first dimension with numerical coordinates on the x axis, and include a scrubber if there is a second numerical dimension. \n",
    "#     Put categorical dimensions in the legend. If the data are complex, add the real and imaginary parts as a categorical dimension.\n",
    "#     If there are no numerical dimensions, plot the categorical dimension(s) as a horizontal bar plot.\n",
    "#     \"\"\"\n",
    "#     array = array.copy()\n",
    "#     if np.any(np.iscomplex(array)): array = _reim(array)\n",
    "#     if array.name is None: array = array.rename('Value')\n",
    "#     default = {}\n",
    "#     hooks = []\n",
    "#     if _categorical_dims(array):\n",
    "#         if array.ndim == 1: \n",
    "#             return pn.panel(\n",
    "#                 array.hvplot.barh(x=_categorical_dims(array)[0], y=array.name).opts(hooks=[_plotly_automargin] + hooks)\n",
    "#             )\n",
    "#         default.update(by=_categorical_dims(array))\n",
    "#     else:\n",
    "#         default.update(legend=False)\n",
    "#     if len(_numerical_dims(array)) > 0: default.update(x=first(_numerical_dims(array)))\n",
    "#     if len(_numerical_dims(array)) > 1: default.update(widget_type='scrubber', widget_location='bottom')\n",
    "#     else: default.update(title=\"\")\n",
    "#     ymin, ymax = array.min(), array.max()\n",
    "#     padding = .05\n",
    "#     default.update(ylim=(ymin - padding * (ymax - ymin), ymax + padding * (ymax - ymin)))\n",
    "#     plot = array.hvplot(**default | kwargs)\n",
    "#     if len(_numerical_dims(array)) > 1: _set_scrubber_fractional_value(plot, scrubber_initial_position)\n",
    "\n",
    "#     def _plotly_trim_legend_label(plot, element):\n",
    "#         plot.state['data'][0]['name'] = _delete(plot.state['data'][0]['name'], [s + ': ' for s in default['by']])\n",
    "        \n",
    "#     _apply_opts(plot, hooks=[_plotly_trim_legend_label] + hooks)\n",
    "#     if embed: return pn.panel(plot).embed()\n",
    "#     return pn.panel(plot)\n",
    "\n",
    "# #| export\n",
    "# ## Could put plotting hints in the attrs of the coordinates inside the model\n",
    "# @patch\n",
    "# @delegates(visualize_dataarray)\n",
    "# def visualize(self:XarrayVectorArray, **kwargs):\n",
    "#     \"\"\"Visualize the data contained in the `XarrayVectorArray`.\n",
    "#     Put the first dimension with numerical coordinates on the x axis, and include a scrubber if there is a second numerical dimension. \n",
    "#     Put categorical dimensions in the legend. If the data are complex, add the real and imaginary parts as a categorical dimension.\n",
    "#     If there are no numerical dimensions, plot the categorical dimension(s) as a horizontal bar plot.\n",
    "#     \"\"\"\n",
    "#     return hvplot_dataarray(self.array, **kwargs)\n",
    "\n",
    "# space = XarrayVectorSpace(coords={'foo': ['aaaaaaaaaaaaaaaaaa', 'b', 'c']})\n",
    "\n",
    "# space.random(name='bar').visualize()\n",
    "\n",
    "# space.random({'baz': np.arange(5)}, name='bar').visualize()\n",
    "\n",
    "# space.random({'baz': np.arange(5)}, name='bar').visualize(title='biz', kind='scatter')\n",
    "\n",
    "# (\n",
    "#     space.random({'baz': np.arange(5)}, name='bar') \n",
    "#     + 1j * space.random({'baz': np.arange(5)}, name='bar')\n",
    "# ).visualize()\n",
    "\n",
    "# space.random({'baz': np.arange(5), 'bing': np.linspace(0, 5, 6)}, name='bar').visualize()"
   ]
  },
  {
   "cell_type": "code",
   "execution_count": null,
   "metadata": {},
   "outputs": [],
   "source": []
  }
 ],
 "metadata": {
  "kernelspec": {
   "display_name": "python3",
   "language": "python",
   "name": "python3"
  }
 },
 "nbformat": 4,
 "nbformat_minor": 4
}
