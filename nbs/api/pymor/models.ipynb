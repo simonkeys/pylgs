{
 "cells": [
  {
   "cell_type": "code",
   "execution_count": null,
   "metadata": {},
   "outputs": [],
   "source": [
    "#| default_exp pymor.models"
   ]
  },
  {
   "cell_type": "markdown",
   "metadata": {},
   "source": [
    "# pymor.models\n",
    "\n",
    "> Extended functionality for [pyMOR](https://pymor.org/) models"
   ]
  },
  {
   "cell_type": "code",
   "execution_count": null,
   "metadata": {},
   "outputs": [],
   "source": [
    "#| export\n",
    "from fastcore.basics import patch, first\n",
    "\n",
    "from pymor.basic import StationaryModel, InstationaryModel, Mu\n",
    "from pymor.vectorarrays.interface import VectorArray\n",
    "from pylgs.utilities.sparse import sparse_diag, sparse_identity"
   ]
  },
  {
   "cell_type": "markdown",
   "metadata": {},
   "source": [
    "### _collapse_dicts -\n"
   ]
  },
  {
   "cell_type": "code",
   "execution_count": null,
   "metadata": {},
   "outputs": [],
   "source": [
    "#| export\n",
    "def _collapse_dicts(dicts):\n",
    "    return {k: [d[k] for d in dicts] for k in dicts[0]}"
   ]
  },
  {
   "cell_type": "markdown",
   "metadata": {},
   "source": [
    "### StationaryModel -"
   ]
  },
  {
   "cell_type": "code",
   "execution_count": null,
   "metadata": {},
   "outputs": [],
   "source": [
    "#| export\n",
    "class StationaryModel(StationaryModel):\n",
    "    \"\"\"Extend pyMOR's `StationaryModel` to include a `data` attribute for storing, e.g., the model's grid.\"\"\"\n",
    "    def __init__(\n",
    "        self,\n",
    "        operator,\n",
    "        rhs,\n",
    "        output_functional=None,\n",
    "        products=None,\n",
    "        error_estimator=None,\n",
    "        visualizer=None,\n",
    "        name=None,\n",
    "        data=None\n",
    "    ):\n",
    "        self.data = data\n",
    "        if products:\n",
    "            for k, v in products.items():\n",
    "                setattr(self, k, lambda u, mu=None, v=v: v.apply(u, Mu(mu) if mu is not None else None) if isinstance(u, VectorArray) else v.apply(self.solve(u), mu=Mu(u)))\n",
    "        super().__init__(\n",
    "            operator,\n",
    "            rhs,\n",
    "            output_functional=output_functional,\n",
    "            products=products,\n",
    "            error_estimator=error_estimator,\n",
    "            visualizer=visualizer,\n",
    "            name=name,\n",
    "        )"
   ]
  },
  {
   "cell_type": "markdown",
   "metadata": {},
   "source": [
    "### solve -\n"
   ]
  },
  {
   "cell_type": "code",
   "execution_count": null,
   "metadata": {},
   "outputs": [],
   "source": [
    "#| export\n",
    "@patch\n",
    "def solve(self:StationaryModel, mu=None, input=None, return_error_estimate=False, **kwargs):\n",
    "    \"\"\"Extend `StationaryModel.solve` to solve over a range of parameters.\"\"\"\n",
    "    if not isinstance(mu, (list, tuple)):\n",
    "        data = self.compute(\n",
    "            solution=True,\n",
    "            solution_error_estimate=return_error_estimate,\n",
    "            mu=mu,\n",
    "            input=input,\n",
    "            **kwargs\n",
    "        )\n",
    "        if return_error_estimate:\n",
    "            return data['solution'], data['solution_error_estimate']\n",
    "        else:\n",
    "            return data['solution']\n",
    "    else:\n",
    "        fixed_mu, var_mu = mu\n",
    "        n = len(first(var_mu.values()))\n",
    "        if not all(len(v) == n for v in var_mu.values()): raise ValueError(f'All varying parameter lists {var_mu} must be the same length.')\n",
    "        sol = [self.solve(fixed_mu | {k: v[i] for k, v in var_mu.items()}, input=input, return_error_estimate=False, **kwargs) for i in range(n)]\n",
    "        return self.operator.source.concatenate(sol, var_mu)"
   ]
  },
  {
   "cell_type": "markdown",
   "metadata": {},
   "source": [
    "### InstationaryModel -"
   ]
  },
  {
   "cell_type": "code",
   "execution_count": null,
   "metadata": {},
   "outputs": [],
   "source": [
    "#| export\n",
    "class InstationaryModel(InstationaryModel):\n",
    "    \"\"\"Extend pyMOR's `InstationaryModel` to include a `data` attribute for storing, e.g., the model's grid.\"\"\"\n",
    "    def __init__(\n",
    "        self,\n",
    "        T,\n",
    "        initial_data,\n",
    "        operator,\n",
    "        rhs,\n",
    "        mass=None,\n",
    "        time_stepper=None,\n",
    "        num_values=None,\n",
    "        output_functional=None,\n",
    "        products=None,\n",
    "        error_estimator=None,\n",
    "        visualizer=None,\n",
    "        name=None,\n",
    "        data=None\n",
    "    ):\n",
    "        self.data = data\n",
    "        if products:\n",
    "            for k, v in products.items():\n",
    "                setattr(self, k, lambda u, mu=None, v=v: v.apply(u, mu))\n",
    "        super().__init__(\n",
    "        T,\n",
    "        initial_data,\n",
    "        operator,\n",
    "        rhs,\n",
    "        mass=mass,\n",
    "        time_stepper=time_stepper,\n",
    "        num_values=num_values,\n",
    "        output_functional=output_functional,\n",
    "        products=products,\n",
    "        error_estimator=error_estimator,\n",
    "        visualizer=visualizer,\n",
    "        name=name,\n",
    "    )"
   ]
  },
  {
   "cell_type": "markdown",
   "metadata": {},
   "source": [
    "### StationaryFloquetModel -\n"
   ]
  },
  {
   "cell_type": "code",
   "execution_count": null,
   "metadata": {},
   "outputs": [],
   "source": [
    "#| export\n",
    "from pylgs.utilities.numpy import sym_range\n",
    "from pylgs.utilities.sparse import sparse_toeplitz\n",
    "from pylgs.pymor.parameters import simplify_functionals\n",
    "from pylgs.pymor.vectorarrays import XarrayVectorSpace\n",
    "from pylgs.pymor.operators import XarrayMatrixOperator, XarrayFunctionalOperator\n",
    "from pymor.basic import ExpressionParameterFunctional, GenericParameterFunctional\n",
    "from pymor.algorithms.simplify import expand\n",
    "from xarray import Coordinates, DataArray\n",
    "import numpy as np\n",
    "from numpy import array\n",
    "import sympy as sy\n",
    "from sympy.parsing.sympy_parser import parse_expr"
   ]
  },
  {
   "cell_type": "markdown",
   "metadata": {},
   "source": [
    "### _fourier_coefficients -\n"
   ]
  },
  {
   "cell_type": "code",
   "execution_count": null,
   "metadata": {},
   "outputs": [],
   "source": [
    "#| export\n",
    "def _fourier_coefficients(expr:ExpressionParameterFunctional, n:int, mu=None, t:str='t', nu:str='nu'):\n",
    "    \"\"\"Coefficients of complex Fourier series of expr in variable `t` at frequency `nu`.\"\"\"\n",
    "    if isinstance(expr, ExpressionParameterFunctional): expr = expr.expression\n",
    "    expr = parse_expr(expr)\n",
    "    if mu is not None: expr = expr.subs(mu)\n",
    "    t = sy.Symbol(t)\n",
    "    series = sy.fourier_series(expr.subs(nu, 1), (t, -sy.pi, sy.pi)).truncate(n=n+1).rewrite(sy.exp).expand()\n",
    "    return array([series.coeff(sy.exp(sy.I*t), n=k) if k != 0 else series.coeff(t, n=0) for k in range(-n, n+1)]).astype(complex)"
   ]
  },
  {
   "cell_type": "markdown",
   "metadata": {},
   "source": [
    "### _fourier_range_coord -\n"
   ]
  },
  {
   "cell_type": "code",
   "execution_count": null,
   "metadata": {},
   "outputs": [],
   "source": [
    "#| export\n",
    "def _fourier_range_coord(n): return first(Coordinates({'Fourier coefficient (range)': sym_range(n)}).values())\n",
    "def _fourier_source_coord(n): return first(Coordinates({'Fourier coefficient': sym_range(n)}).values())\n",
    "def _fourier_operator_coords(n): return (_fourier_range_coord(n) * _fourier_source_coord(n)).coords\n",
    "def _fourier_range_space(n): return XarrayVectorSpace(_fourier_range_coord(n))\n",
    "def _fourier_source_space(n): return XarrayVectorSpace(_fourier_source_coord(n))"
   ]
  },
  {
   "cell_type": "code",
   "execution_count": null,
   "metadata": {},
   "outputs": [
    {
     "data": {
      "text/plain": [
       "Coordinates:\n",
       "  * Fourier coefficient (range)  (Fourier coefficient (range)) int64 56B -3 ....\n",
       "  * Fourier coefficient          (Fourier coefficient) int64 56B -3 -2 ... 2 3"
      ]
     },
     "execution_count": null,
     "metadata": {},
     "output_type": "execute_result"
    }
   ],
   "source": [
    "#| hide\n",
    "_fourier_operator_coords(3)"
   ]
  },
  {
   "cell_type": "markdown",
   "metadata": {},
   "source": [
    "### _fourier_expansion_operator -\n"
   ]
  },
  {
   "cell_type": "code",
   "execution_count": null,
   "metadata": {},
   "outputs": [],
   "source": [
    "#| export\n",
    "def _fourier_expansion_operator(coefficient, n_operator, n_vector, mu=None, t:str='t', nu:str='nu'):\n",
    "    return XarrayMatrixOperator(\n",
    "        DataArray(\n",
    "            sparse_toeplitz(np.pad(_fourier_coefficients(coefficient, n=n_operator, mu=mu), n_vector + 1)), \n",
    "            coords=_fourier_operator_coords(n_vector)\n",
    "        )\n",
    "    )"
   ]
  },
  {
   "cell_type": "markdown",
   "metadata": {},
   "source": [
    "### _fourier_identity_operator -\n"
   ]
  },
  {
   "cell_type": "code",
   "execution_count": null,
   "metadata": {},
   "outputs": [],
   "source": [
    "#| export\n",
    "def _fourier_identity_operator(n_vector):\n",
    "    return XarrayMatrixOperator(\n",
    "        DataArray(\n",
    "            sparse_identity(2*n_vector+1), \n",
    "            coords=_fourier_operator_coords(n_vector)\n",
    "        )\n",
    "    )    "
   ]
  },
  {
   "cell_type": "code",
   "execution_count": null,
   "metadata": {},
   "outputs": [
    {
     "data": {
      "text/html": [
       "X{FC(5)} → {FC(5)}"
      ],
      "text/plain": [
       "XarrayMatrixOperator(\n",
       "    <xarray.DataArray (Fourier coefficient (range): 5, Fourier coefficient: 5)> Size: 120B\n",
       "    <COO: shape=(5, 5), dtype=float64, nnz=5, fill_value=0.0>\n",
       "    Coordinates:\n",
       "      * Fourier coefficient (range)  (Fourier coefficient (range)) int64 40B -2 ....\n",
       "      * Fourier coefficient          (Fourier coefficient) int64 40B -2 -1 0 1 2,\n",
       "    source=XarrayVectorSpace(\n",
       "               coords=Coordinates:\n",
       "                        * Fourier coefficient  (Fourier coefficient) int64 40B -2 -1 0 1 2,\n",
       "               dims=('Fourier coefficient')),\n",
       "    range=XarrayVectorSpace(\n",
       "              coords=Coordinates:\n",
       "                       * Fourier coefficient (range)  (Fourier coefficient (range)) int64 40B -2 ....,\n",
       "              dims=('Fourier coefficient (range)')))"
      ]
     },
     "execution_count": null,
     "metadata": {},
     "output_type": "execute_result"
    }
   ],
   "source": [
    "#| hide\n",
    "_fourier_identity_operator(2)"
   ]
  },
  {
   "cell_type": "markdown",
   "metadata": {},
   "source": [
    "### _fourier_diagonal_operator -\n"
   ]
  },
  {
   "cell_type": "code",
   "execution_count": null,
   "metadata": {},
   "outputs": [],
   "source": [
    "#| export\n",
    "def _fourier_diagonal_operator(vec):\n",
    "    return XarrayMatrixOperator(\n",
    "        DataArray(\n",
    "            sparse_diag(vec),\n",
    "            coords=_fourier_operator_coords((len(vec)-1)//2)\n",
    "        )\n",
    "    )    "
   ]
  },
  {
   "cell_type": "code",
   "execution_count": null,
   "metadata": {},
   "outputs": [
    {
     "data": {
      "text/html": [
       "X{FC(5)} → {FC(5)}"
      ],
      "text/plain": [
       "XarrayMatrixOperator(\n",
       "    <xarray.DataArray (Fourier coefficient (range): 5, Fourier coefficient: 5)> Size: 64B\n",
       "    <COO: shape=(5, 5), dtype=float64, nnz=4, fill_value=0.0>\n",
       "    Coordinates:\n",
       "      * Fourier coefficient (range)  (Fourier coefficient (range)) int64 40B -2 ....\n",
       "      * Fourier coefficient          (Fourier coefficient) int64 40B -2 -1 0 1 2,\n",
       "    source=XarrayVectorSpace(\n",
       "               coords=Coordinates:\n",
       "                        * Fourier coefficient  (Fourier coefficient) int64 40B -2 -1 0 1 2,\n",
       "               dims=('Fourier coefficient')),\n",
       "    range=XarrayVectorSpace(\n",
       "              coords=Coordinates:\n",
       "                       * Fourier coefficient (range)  (Fourier coefficient (range)) int64 40B -2 ....,\n",
       "              dims=('Fourier coefficient (range)')))"
      ]
     },
     "execution_count": null,
     "metadata": {},
     "output_type": "execute_result"
    }
   ],
   "source": [
    "#| hide\n",
    "_fourier_diagonal_operator(sym_range(2))"
   ]
  },
  {
   "cell_type": "markdown",
   "metadata": {},
   "source": [
    "### _dm_identity_operator -\n"
   ]
  },
  {
   "cell_type": "code",
   "execution_count": null,
   "metadata": {},
   "outputs": [],
   "source": [
    "#| export\n",
    "def _dm_identity_operator(lgs): \n",
    "    return XarrayMatrixOperator(DataArray(sparse_identity(lgs.n_variables), lgs.A_ind.operators[0].matrix.coords))"
   ]
  },
  {
   "cell_type": "code",
   "execution_count": null,
   "metadata": {},
   "outputs": [],
   "source": [
    "#| export\n",
    "def _dm_identity_operator(lgs): \n",
    "    return XarrayMatrixOperator(DataArray(sparse_identity(lgs.n_variables), lgs.A_ind.operators[0].matrix.coords))"
   ]
  },
  {
   "cell_type": "code",
   "execution_count": null,
   "metadata": {},
   "outputs": [],
   "source": [
    "#| export\n",
    "def _da_identity(range_coord, source_coord):\n",
    "    return DataArray(sparse_identity(len(source_coord)), coords=((range_coord.name, range_coord.data), (source_coord.name, source_coord.data)))"
   ]
  },
  {
   "cell_type": "code",
   "execution_count": null,
   "metadata": {},
   "outputs": [],
   "source": [
    "#| export\n",
    "import math"
   ]
  },
  {
   "cell_type": "code",
   "execution_count": null,
   "metadata": {},
   "outputs": [],
   "source": [
    "#| export\n",
    "def _identity_operator(range, source):\n",
    "    return math.prod(XarrayMatrixOperator(_da_identity(r, s)) for r, s in zip(range.coords.values(), source.coords.values()))"
   ]
  },
  {
   "cell_type": "markdown",
   "metadata": {},
   "source": [
    "### _kron_vector -"
   ]
  },
  {
   "cell_type": "code",
   "execution_count": null,
   "metadata": {},
   "outputs": [],
   "source": [
    "#| export\n",
    "def _kron_vector(space): return space.from_numpy((sym_range((space.dim - 1)//2) == 0).astype(int))"
   ]
  },
  {
   "cell_type": "markdown",
   "metadata": {},
   "source": [
    "### _floquet_reconstruction_array -\n"
   ]
  },
  {
   "cell_type": "code",
   "execution_count": null,
   "metadata": {},
   "outputs": [],
   "source": [
    "#| export\n",
    "def _time_coord(time): return first(Coordinates({'Time': time}).values())\n",
    "def _time_space(time): return XarrayVectorSpace(_time_coord(time))"
   ]
  },
  {
   "cell_type": "code",
   "execution_count": null,
   "metadata": {},
   "outputs": [],
   "source": [
    "#| export\n",
    "def _floquet_reconstruction_array(n_vector, time, mu):\n",
    "    return np.exp(\n",
    "            1j * ExpressionParameterFunctional('nu', {'nu': 1}).evaluate(mu)\n",
    "            * _time_coord(time)\n",
    "            * _fourier_source_coord(n_vector)\n",
    "        )"
   ]
  },
  {
   "cell_type": "code",
   "execution_count": null,
   "metadata": {},
   "outputs": [
    {
     "data": {
      "text/html": [
       "<div><svg style=\"position: absolute; width: 0; height: 0; overflow: hidden\">\n",
       "<defs>\n",
       "<symbol id=\"icon-database\" viewBox=\"0 0 32 32\">\n",
       "<path d=\"M16 0c-8.837 0-16 2.239-16 5v4c0 2.761 7.163 5 16 5s16-2.239 16-5v-4c0-2.761-7.163-5-16-5z\"></path>\n",
       "<path d=\"M16 17c-8.837 0-16-2.239-16-5v6c0 2.761 7.163 5 16 5s16-2.239 16-5v-6c0 2.761-7.163 5-16 5z\"></path>\n",
       "<path d=\"M16 26c-8.837 0-16-2.239-16-5v6c0 2.761 7.163 5 16 5s16-2.239 16-5v-6c0 2.761-7.163 5-16 5z\"></path>\n",
       "</symbol>\n",
       "<symbol id=\"icon-file-text2\" viewBox=\"0 0 32 32\">\n",
       "<path d=\"M28.681 7.159c-0.694-0.947-1.662-2.053-2.724-3.116s-2.169-2.030-3.116-2.724c-1.612-1.182-2.393-1.319-2.841-1.319h-15.5c-1.378 0-2.5 1.121-2.5 2.5v27c0 1.378 1.122 2.5 2.5 2.5h23c1.378 0 2.5-1.122 2.5-2.5v-19.5c0-0.448-0.137-1.23-1.319-2.841zM24.543 5.457c0.959 0.959 1.712 1.825 2.268 2.543h-4.811v-4.811c0.718 0.556 1.584 1.309 2.543 2.268zM28 29.5c0 0.271-0.229 0.5-0.5 0.5h-23c-0.271 0-0.5-0.229-0.5-0.5v-27c0-0.271 0.229-0.5 0.5-0.5 0 0 15.499-0 15.5 0v7c0 0.552 0.448 1 1 1h7v19.5z\"></path>\n",
       "<path d=\"M23 26h-14c-0.552 0-1-0.448-1-1s0.448-1 1-1h14c0.552 0 1 0.448 1 1s-0.448 1-1 1z\"></path>\n",
       "<path d=\"M23 22h-14c-0.552 0-1-0.448-1-1s0.448-1 1-1h14c0.552 0 1 0.448 1 1s-0.448 1-1 1z\"></path>\n",
       "<path d=\"M23 18h-14c-0.552 0-1-0.448-1-1s0.448-1 1-1h14c0.552 0 1 0.448 1 1s-0.448 1-1 1z\"></path>\n",
       "</symbol>\n",
       "</defs>\n",
       "</svg>\n",
       "<style>/* CSS stylesheet for displaying xarray objects in jupyterlab.\n",
       " *\n",
       " */\n",
       "\n",
       ":root {\n",
       "  --xr-font-color0: var(--jp-content-font-color0, rgba(0, 0, 0, 1));\n",
       "  --xr-font-color2: var(--jp-content-font-color2, rgba(0, 0, 0, 0.54));\n",
       "  --xr-font-color3: var(--jp-content-font-color3, rgba(0, 0, 0, 0.38));\n",
       "  --xr-border-color: var(--jp-border-color2, #e0e0e0);\n",
       "  --xr-disabled-color: var(--jp-layout-color3, #bdbdbd);\n",
       "  --xr-background-color: var(--jp-layout-color0, white);\n",
       "  --xr-background-color-row-even: var(--jp-layout-color1, white);\n",
       "  --xr-background-color-row-odd: var(--jp-layout-color2, #eeeeee);\n",
       "}\n",
       "\n",
       "html[theme=dark],\n",
       "body[data-theme=dark],\n",
       "body.vscode-dark {\n",
       "  --xr-font-color0: rgba(255, 255, 255, 1);\n",
       "  --xr-font-color2: rgba(255, 255, 255, 0.54);\n",
       "  --xr-font-color3: rgba(255, 255, 255, 0.38);\n",
       "  --xr-border-color: #1F1F1F;\n",
       "  --xr-disabled-color: #515151;\n",
       "  --xr-background-color: #111111;\n",
       "  --xr-background-color-row-even: #111111;\n",
       "  --xr-background-color-row-odd: #313131;\n",
       "}\n",
       "\n",
       ".xr-wrap {\n",
       "  display: block !important;\n",
       "  min-width: 300px;\n",
       "  max-width: 700px;\n",
       "}\n",
       "\n",
       ".xr-text-repr-fallback {\n",
       "  /* fallback to plain text repr when CSS is not injected (untrusted notebook) */\n",
       "  display: none;\n",
       "}\n",
       "\n",
       ".xr-header {\n",
       "  padding-top: 6px;\n",
       "  padding-bottom: 6px;\n",
       "  margin-bottom: 4px;\n",
       "  border-bottom: solid 1px var(--xr-border-color);\n",
       "}\n",
       "\n",
       ".xr-header > div,\n",
       ".xr-header > ul {\n",
       "  display: inline;\n",
       "  margin-top: 0;\n",
       "  margin-bottom: 0;\n",
       "}\n",
       "\n",
       ".xr-obj-type,\n",
       ".xr-array-name {\n",
       "  margin-left: 2px;\n",
       "  margin-right: 10px;\n",
       "}\n",
       "\n",
       ".xr-obj-type {\n",
       "  color: var(--xr-font-color2);\n",
       "}\n",
       "\n",
       ".xr-sections {\n",
       "  padding-left: 0 !important;\n",
       "  display: grid;\n",
       "  grid-template-columns: 150px auto auto 1fr 20px 20px;\n",
       "}\n",
       "\n",
       ".xr-section-item {\n",
       "  display: contents;\n",
       "}\n",
       "\n",
       ".xr-section-item input {\n",
       "  display: none;\n",
       "}\n",
       "\n",
       ".xr-section-item input + label {\n",
       "  color: var(--xr-disabled-color);\n",
       "}\n",
       "\n",
       ".xr-section-item input:enabled + label {\n",
       "  cursor: pointer;\n",
       "  color: var(--xr-font-color2);\n",
       "}\n",
       "\n",
       ".xr-section-item input:enabled + label:hover {\n",
       "  color: var(--xr-font-color0);\n",
       "}\n",
       "\n",
       ".xr-section-summary {\n",
       "  grid-column: 1;\n",
       "  color: var(--xr-font-color2);\n",
       "  font-weight: 500;\n",
       "}\n",
       "\n",
       ".xr-section-summary > span {\n",
       "  display: inline-block;\n",
       "  padding-left: 0.5em;\n",
       "}\n",
       "\n",
       ".xr-section-summary-in:disabled + label {\n",
       "  color: var(--xr-font-color2);\n",
       "}\n",
       "\n",
       ".xr-section-summary-in + label:before {\n",
       "  display: inline-block;\n",
       "  content: '►';\n",
       "  font-size: 11px;\n",
       "  width: 15px;\n",
       "  text-align: center;\n",
       "}\n",
       "\n",
       ".xr-section-summary-in:disabled + label:before {\n",
       "  color: var(--xr-disabled-color);\n",
       "}\n",
       "\n",
       ".xr-section-summary-in:checked + label:before {\n",
       "  content: '▼';\n",
       "}\n",
       "\n",
       ".xr-section-summary-in:checked + label > span {\n",
       "  display: none;\n",
       "}\n",
       "\n",
       ".xr-section-summary,\n",
       ".xr-section-inline-details {\n",
       "  padding-top: 4px;\n",
       "  padding-bottom: 4px;\n",
       "}\n",
       "\n",
       ".xr-section-inline-details {\n",
       "  grid-column: 2 / -1;\n",
       "}\n",
       "\n",
       ".xr-section-details {\n",
       "  display: none;\n",
       "  grid-column: 1 / -1;\n",
       "  margin-bottom: 5px;\n",
       "}\n",
       "\n",
       ".xr-section-summary-in:checked ~ .xr-section-details {\n",
       "  display: contents;\n",
       "}\n",
       "\n",
       ".xr-array-wrap {\n",
       "  grid-column: 1 / -1;\n",
       "  display: grid;\n",
       "  grid-template-columns: 20px auto;\n",
       "}\n",
       "\n",
       ".xr-array-wrap > label {\n",
       "  grid-column: 1;\n",
       "  vertical-align: top;\n",
       "}\n",
       "\n",
       ".xr-preview {\n",
       "  color: var(--xr-font-color3);\n",
       "}\n",
       "\n",
       ".xr-array-preview,\n",
       ".xr-array-data {\n",
       "  padding: 0 5px !important;\n",
       "  grid-column: 2;\n",
       "}\n",
       "\n",
       ".xr-array-data,\n",
       ".xr-array-in:checked ~ .xr-array-preview {\n",
       "  display: none;\n",
       "}\n",
       "\n",
       ".xr-array-in:checked ~ .xr-array-data,\n",
       ".xr-array-preview {\n",
       "  display: inline-block;\n",
       "}\n",
       "\n",
       ".xr-dim-list {\n",
       "  display: inline-block !important;\n",
       "  list-style: none;\n",
       "  padding: 0 !important;\n",
       "  margin: 0;\n",
       "}\n",
       "\n",
       ".xr-dim-list li {\n",
       "  display: inline-block;\n",
       "  padding: 0;\n",
       "  margin: 0;\n",
       "}\n",
       "\n",
       ".xr-dim-list:before {\n",
       "  content: '(';\n",
       "}\n",
       "\n",
       ".xr-dim-list:after {\n",
       "  content: ')';\n",
       "}\n",
       "\n",
       ".xr-dim-list li:not(:last-child):after {\n",
       "  content: ',';\n",
       "  padding-right: 5px;\n",
       "}\n",
       "\n",
       ".xr-has-index {\n",
       "  font-weight: bold;\n",
       "}\n",
       "\n",
       ".xr-var-list,\n",
       ".xr-var-item {\n",
       "  display: contents;\n",
       "}\n",
       "\n",
       ".xr-var-item > div,\n",
       ".xr-var-item label,\n",
       ".xr-var-item > .xr-var-name span {\n",
       "  background-color: var(--xr-background-color-row-even);\n",
       "  margin-bottom: 0;\n",
       "}\n",
       "\n",
       ".xr-var-item > .xr-var-name:hover span {\n",
       "  padding-right: 5px;\n",
       "}\n",
       "\n",
       ".xr-var-list > li:nth-child(odd) > div,\n",
       ".xr-var-list > li:nth-child(odd) > label,\n",
       ".xr-var-list > li:nth-child(odd) > .xr-var-name span {\n",
       "  background-color: var(--xr-background-color-row-odd);\n",
       "}\n",
       "\n",
       ".xr-var-name {\n",
       "  grid-column: 1;\n",
       "}\n",
       "\n",
       ".xr-var-dims {\n",
       "  grid-column: 2;\n",
       "}\n",
       "\n",
       ".xr-var-dtype {\n",
       "  grid-column: 3;\n",
       "  text-align: right;\n",
       "  color: var(--xr-font-color2);\n",
       "}\n",
       "\n",
       ".xr-var-preview {\n",
       "  grid-column: 4;\n",
       "}\n",
       "\n",
       ".xr-index-preview {\n",
       "  grid-column: 2 / 5;\n",
       "  color: var(--xr-font-color2);\n",
       "}\n",
       "\n",
       ".xr-var-name,\n",
       ".xr-var-dims,\n",
       ".xr-var-dtype,\n",
       ".xr-preview,\n",
       ".xr-attrs dt {\n",
       "  white-space: nowrap;\n",
       "  overflow: hidden;\n",
       "  text-overflow: ellipsis;\n",
       "  padding-right: 10px;\n",
       "}\n",
       "\n",
       ".xr-var-name:hover,\n",
       ".xr-var-dims:hover,\n",
       ".xr-var-dtype:hover,\n",
       ".xr-attrs dt:hover {\n",
       "  overflow: visible;\n",
       "  width: auto;\n",
       "  z-index: 1;\n",
       "}\n",
       "\n",
       ".xr-var-attrs,\n",
       ".xr-var-data,\n",
       ".xr-index-data {\n",
       "  display: none;\n",
       "  background-color: var(--xr-background-color) !important;\n",
       "  padding-bottom: 5px !important;\n",
       "}\n",
       "\n",
       ".xr-var-attrs-in:checked ~ .xr-var-attrs,\n",
       ".xr-var-data-in:checked ~ .xr-var-data,\n",
       ".xr-index-data-in:checked ~ .xr-index-data {\n",
       "  display: block;\n",
       "}\n",
       "\n",
       ".xr-var-data > table {\n",
       "  float: right;\n",
       "}\n",
       "\n",
       ".xr-var-name span,\n",
       ".xr-var-data,\n",
       ".xr-index-name div,\n",
       ".xr-index-data,\n",
       ".xr-attrs {\n",
       "  padding-left: 25px !important;\n",
       "}\n",
       "\n",
       ".xr-attrs,\n",
       ".xr-var-attrs,\n",
       ".xr-var-data,\n",
       ".xr-index-data {\n",
       "  grid-column: 1 / -1;\n",
       "}\n",
       "\n",
       "dl.xr-attrs {\n",
       "  padding: 0;\n",
       "  margin: 0;\n",
       "  display: grid;\n",
       "  grid-template-columns: 125px auto;\n",
       "}\n",
       "\n",
       ".xr-attrs dt,\n",
       ".xr-attrs dd {\n",
       "  padding: 0;\n",
       "  margin: 0;\n",
       "  float: left;\n",
       "  padding-right: 10px;\n",
       "  width: auto;\n",
       "}\n",
       "\n",
       ".xr-attrs dt {\n",
       "  font-weight: normal;\n",
       "  grid-column: 1;\n",
       "}\n",
       "\n",
       ".xr-attrs dt:hover span {\n",
       "  display: inline-block;\n",
       "  background: var(--xr-background-color);\n",
       "  padding-right: 10px;\n",
       "}\n",
       "\n",
       ".xr-attrs dd {\n",
       "  grid-column: 2;\n",
       "  white-space: pre-wrap;\n",
       "  word-break: break-all;\n",
       "}\n",
       "\n",
       ".xr-icon-database,\n",
       ".xr-icon-file-text2,\n",
       ".xr-no-icon {\n",
       "  display: inline-block;\n",
       "  vertical-align: middle;\n",
       "  width: 1em;\n",
       "  height: 1.5em !important;\n",
       "  stroke-width: 0;\n",
       "  stroke: currentColor;\n",
       "  fill: currentColor;\n",
       "}\n",
       "</style><pre class='xr-text-repr-fallback'>&lt;xarray.DataArray (Time: 3, Fourier coefficient: 5)&gt; Size: 240B\n",
       "array([[ 1.        +0.j        ,  1.        +0.j        ,\n",
       "         1.        +0.j        ,  1.        +0.j        ,\n",
       "         1.        +0.j        ],\n",
       "       [ 0.54030231-0.84147098j,  0.87758256-0.47942554j,\n",
       "         1.        +0.j        ,  0.87758256+0.47942554j,\n",
       "         0.54030231+0.84147098j],\n",
       "       [-0.41614684-0.90929743j,  0.54030231-0.84147098j,\n",
       "         1.        +0.j        ,  0.54030231+0.84147098j,\n",
       "        -0.41614684+0.90929743j]])\n",
       "Coordinates:\n",
       "  * Time                 (Time) float64 24B 0.0 0.5 1.0\n",
       "  * Fourier coefficient  (Fourier coefficient) int64 40B -2 -1 0 1 2</pre><div class='xr-wrap' style='display:none'><div class='xr-header'><div class='xr-obj-type'>xarray.DataArray</div><div class='xr-array-name'></div><ul class='xr-dim-list'><li><span class='xr-has-index'>Time</span>: 3</li><li><span class='xr-has-index'>Fourier coefficient</span>: 5</li></ul></div><ul class='xr-sections'><li class='xr-section-item'><div class='xr-array-wrap'><input id='section-2af7550d-3344-42a1-a137-3412234ec7be' class='xr-array-in' type='checkbox' checked><label for='section-2af7550d-3344-42a1-a137-3412234ec7be' title='Show/hide data repr'><svg class='icon xr-icon-database'><use xlink:href='#icon-database'></use></svg></label><div class='xr-array-preview xr-preview'><span>(1+0j) (1+0j) ... (-0.4161468365471424+0.9092974268256817j)</span></div><div class='xr-array-data'><pre>array([[ 1.        +0.j        ,  1.        +0.j        ,\n",
       "         1.        +0.j        ,  1.        +0.j        ,\n",
       "         1.        +0.j        ],\n",
       "       [ 0.54030231-0.84147098j,  0.87758256-0.47942554j,\n",
       "         1.        +0.j        ,  0.87758256+0.47942554j,\n",
       "         0.54030231+0.84147098j],\n",
       "       [-0.41614684-0.90929743j,  0.54030231-0.84147098j,\n",
       "         1.        +0.j        ,  0.54030231+0.84147098j,\n",
       "        -0.41614684+0.90929743j]])</pre></div></div></li><li class='xr-section-item'><input id='section-ded415c8-4391-4535-b874-54859dc79040' class='xr-section-summary-in' type='checkbox'  checked><label for='section-ded415c8-4391-4535-b874-54859dc79040' class='xr-section-summary' >Coordinates: <span>(2)</span></label><div class='xr-section-inline-details'></div><div class='xr-section-details'><ul class='xr-var-list'><li class='xr-var-item'><div class='xr-var-name'><span class='xr-has-index'>Time</span></div><div class='xr-var-dims'>(Time)</div><div class='xr-var-dtype'>float64</div><div class='xr-var-preview xr-preview'>0.0 0.5 1.0</div><input id='attrs-7da62e4f-b782-4879-ace5-ea54a8d93510' class='xr-var-attrs-in' type='checkbox' disabled><label for='attrs-7da62e4f-b782-4879-ace5-ea54a8d93510' title='Show/Hide attributes'><svg class='icon xr-icon-file-text2'><use xlink:href='#icon-file-text2'></use></svg></label><input id='data-656702bb-bf26-4300-a546-abb1cf3b7104' class='xr-var-data-in' type='checkbox'><label for='data-656702bb-bf26-4300-a546-abb1cf3b7104' title='Show/Hide data repr'><svg class='icon xr-icon-database'><use xlink:href='#icon-database'></use></svg></label><div class='xr-var-attrs'><dl class='xr-attrs'></dl></div><div class='xr-var-data'><pre>array([0. , 0.5, 1. ])</pre></div></li><li class='xr-var-item'><div class='xr-var-name'><span class='xr-has-index'>Fourier coefficient</span></div><div class='xr-var-dims'>(Fourier coefficient)</div><div class='xr-var-dtype'>int64</div><div class='xr-var-preview xr-preview'>-2 -1 0 1 2</div><input id='attrs-abac073e-3e14-4c44-b2c8-84b6cb09cd55' class='xr-var-attrs-in' type='checkbox' disabled><label for='attrs-abac073e-3e14-4c44-b2c8-84b6cb09cd55' title='Show/Hide attributes'><svg class='icon xr-icon-file-text2'><use xlink:href='#icon-file-text2'></use></svg></label><input id='data-55591940-472d-458f-a8cc-3a50ac8d4b0a' class='xr-var-data-in' type='checkbox'><label for='data-55591940-472d-458f-a8cc-3a50ac8d4b0a' title='Show/Hide data repr'><svg class='icon xr-icon-database'><use xlink:href='#icon-database'></use></svg></label><div class='xr-var-attrs'><dl class='xr-attrs'></dl></div><div class='xr-var-data'><pre>array([-2, -1,  0,  1,  2])</pre></div></li></ul></div></li><li class='xr-section-item'><input id='section-33e803d5-a42c-4b4e-91e3-52a84d916344' class='xr-section-summary-in' type='checkbox'  ><label for='section-33e803d5-a42c-4b4e-91e3-52a84d916344' class='xr-section-summary' >Indexes: <span>(2)</span></label><div class='xr-section-inline-details'></div><div class='xr-section-details'><ul class='xr-var-list'><li class='xr-var-item'><div class='xr-index-name'><div>Time</div></div><div class='xr-index-preview'>PandasIndex</div><div></div><input id='index-9152dda5-04c9-4f9b-8d91-30ea7f601fa7' class='xr-index-data-in' type='checkbox'/><label for='index-9152dda5-04c9-4f9b-8d91-30ea7f601fa7' title='Show/Hide index repr'><svg class='icon xr-icon-database'><use xlink:href='#icon-database'></use></svg></label><div class='xr-index-data'><pre>PandasIndex(Index([0.0, 0.5, 1.0], dtype=&#x27;float64&#x27;, name=&#x27;Time&#x27;))</pre></div></li><li class='xr-var-item'><div class='xr-index-name'><div>Fourier coefficient</div></div><div class='xr-index-preview'>PandasIndex</div><div></div><input id='index-7e38f96c-5a37-4602-9807-85965182b6db' class='xr-index-data-in' type='checkbox'/><label for='index-7e38f96c-5a37-4602-9807-85965182b6db' title='Show/Hide index repr'><svg class='icon xr-icon-database'><use xlink:href='#icon-database'></use></svg></label><div class='xr-index-data'><pre>PandasIndex(Index([-2, -1, 0, 1, 2], dtype=&#x27;int64&#x27;, name=&#x27;Fourier coefficient&#x27;))</pre></div></li></ul></div></li><li class='xr-section-item'><input id='section-f0db2ee7-23a2-44fe-afba-7a8d79219e67' class='xr-section-summary-in' type='checkbox' disabled ><label for='section-f0db2ee7-23a2-44fe-afba-7a8d79219e67' class='xr-section-summary'  title='Expand/collapse section'>Attributes: <span>(0)</span></label><div class='xr-section-inline-details'></div><div class='xr-section-details'><dl class='xr-attrs'></dl></div></li></ul></div></div>"
      ],
      "text/plain": [
       "<xarray.DataArray (Time: 3, Fourier coefficient: 5)> Size: 240B\n",
       "array([[ 1.        +0.j        ,  1.        +0.j        ,\n",
       "         1.        +0.j        ,  1.        +0.j        ,\n",
       "         1.        +0.j        ],\n",
       "       [ 0.54030231-0.84147098j,  0.87758256-0.47942554j,\n",
       "         1.        +0.j        ,  0.87758256+0.47942554j,\n",
       "         0.54030231+0.84147098j],\n",
       "       [-0.41614684-0.90929743j,  0.54030231-0.84147098j,\n",
       "         1.        +0.j        ,  0.54030231+0.84147098j,\n",
       "        -0.41614684+0.90929743j]])\n",
       "Coordinates:\n",
       "  * Time                 (Time) float64 24B 0.0 0.5 1.0\n",
       "  * Fourier coefficient  (Fourier coefficient) int64 40B -2 -1 0 1 2"
      ]
     },
     "execution_count": null,
     "metadata": {},
     "output_type": "execute_result"
    }
   ],
   "source": [
    "#| hide\n",
    "_floquet_reconstruction_array(2, np.linspace(0, 1, 3), Mu(nu=1.))"
   ]
  },
  {
   "cell_type": "markdown",
   "metadata": {},
   "source": [
    "### _floquet_reconstruction -\n"
   ]
  },
  {
   "cell_type": "code",
   "execution_count": null,
   "metadata": {},
   "outputs": [],
   "source": [
    "#| export\n",
    "def floquet_reconstruction(n_vector, time):\n",
    "    return XarrayFunctionalOperator(\n",
    "        GenericParameterFunctional(lambda mu: _floquet_reconstruction_array(n_vector, time, mu), {'nu': 1}),\n",
    "        range=_time_space(time),\n",
    "        source=_fourier_source_space(n_vector),\n",
    "    )"
   ]
  },
  {
   "cell_type": "code",
   "execution_count": null,
   "metadata": {},
   "outputs": [],
   "source": [
    "#| export\n",
    "class StationaryFloquetModel(StationaryModel):\n",
    "    \"\"\"A model that solves for the Fourier coefficients of the periodic state of a modulated system.\"\"\"\n",
    "\n",
    "    def __init__(\n",
    "        self,\n",
    "        operator, # System evolution operator\n",
    "        rhs, # System right-hand side vector\n",
    "        mu, # Parameter specification for parameters modulated at a frequency `nu` \n",
    "        n_vector, # Number of terms in the system Fourier series\n",
    "        nu:'nu', # Name of the frequency variable\n",
    "        n_operator=None, # Number of terms in the operator Fourier series. `None` defaults to `n_vector` - 1\n",
    "        products=None,\n",
    "        name=None,\n",
    "        data=None\n",
    "    ):\n",
    "        if n_operator is None: n_operator = n_vector - 1\n",
    "        operator = expand(operator)\n",
    "        A = sum(term for term in operator.terms if not set(mu).intersection(term.parameters))\n",
    "        B = sum(term for term in operator.terms if     set(mu).intersection(term.parameters))\n",
    "        B = simplify_functionals(B)\n",
    "        B_expanded = sum(_fourier_expansion_operator(c, n_operator, n_vector, mu=mu) * o for c, o in zip(B.coefficients, B.operators))\n",
    "        A_expanded = _fourier_identity_operator(n_vector) * A \n",
    "        D_expanded = (\n",
    "            ExpressionParameterFunctional(f'-(1j)*{nu}', {nu: 1})\n",
    "            * (_fourier_diagonal_operator(sym_range(n_vector)) \n",
    "               * _identity_operator(operator.range, operator.source)\n",
    "              )\n",
    "        )\n",
    "        operator_expanded = (D_expanded + A_expanded + B_expanded).with_(solver_options=operator.solver_options)\n",
    "        rhs_expanded = _kron_vector(_fourier_range_space(n_vector)) * rhs\n",
    "        self.mu, self.n_vector, self.nu, self.n_operator = mu, n_vector, nu, n_operator\n",
    "        super().__init__(\n",
    "            operator_expanded,\n",
    "            rhs_expanded,\n",
    "            products=products,\n",
    "            data=data\n",
    "        )"
   ]
  },
  {
   "cell_type": "markdown",
   "metadata": {},
   "source": [
    "## Export -"
   ]
  },
  {
   "cell_type": "code",
   "execution_count": null,
   "metadata": {},
   "outputs": [],
   "source": [
    "#| hide\n",
    "import nbdev; nbdev.nbdev_export()"
   ]
  },
  {
   "cell_type": "code",
   "execution_count": null,
   "metadata": {},
   "outputs": [],
   "source": []
  }
 ],
 "metadata": {
  "kernelspec": {
   "display_name": "python3",
   "language": "python",
   "name": "python3"
  }
 },
 "nbformat": 4,
 "nbformat_minor": 4
}
