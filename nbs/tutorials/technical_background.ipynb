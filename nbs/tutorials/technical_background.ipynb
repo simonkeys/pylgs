{
 "cells": [
  {
   "cell_type": "code",
   "execution_count": null,
   "id": "7cbee71b-548b-47c3-9a8f-d841b38ae34b",
   "metadata": {},
   "outputs": [],
   "source": [
    "#| hide\n",
    "from pylgs.utilities.testing import test_array"
   ]
  },
  {
   "cell_type": "markdown",
   "id": "ead7c32d-c4af-4dfb-bc83-83131e3fe5de",
   "metadata": {},
   "source": [
    "# Technical background\n",
    "> "
   ]
  },
  {
   "cell_type": "markdown",
   "id": "049d276f-47f4-4a7c-9801-df7b6a04b691",
   "metadata": {},
   "source": [
    "## The Liouville-von Neumann equation"
   ]
  },
  {
   "cell_type": "markdown",
   "id": "32abb409-9e62-440b-9750-b241c912267c",
   "metadata": {},
   "source": [
    "The state of an atomic ensemble is described by the density matrix $\\rho_{nm}$, where the indices $n$ and $m$ represent attainable eigenstates of the atomic system. The Hamiltonian evolution of the density matrix is given by the Liouville–von Neumann equation \n",
    "$$i\\hbar\\dot\\rho = [H,\\rho]$$ {#eq-liouville}\n",
    "with additional phenomenological terms added to the right-hand side to account for relaxation and repopulation processes resulting from external interactions."
   ]
  },
  {
   "cell_type": "markdown",
   "id": "268564ea-2a73-43df-9917-e169268bdcf2",
   "metadata": {},
   "source": [
    "Writing the $N_\\rho$ matrix elements of $\\rho$ as a vector $\\rho_i$ with a single index $i$, the density-matrix evolution equation can be written as a linear matrix equation \n",
    "    $$\\dot\\rho_i = A_{ij}\\rho_j + b_i,$$ {#eq-matrix_eq}\n",
    "where $\\rho$, $A$, and $b$ may all depend on time. (Here and below we use Einstein summation notation, in which repeated indices are assumed to be summed over.)"
   ]
  },
  {
   "cell_type": "markdown",
   "id": "cdc12e6c-d16a-4f78-8070-b27643b48ab4",
   "metadata": {},
   "source": [
    "## The laser guide star system"
   ]
  },
  {
   "cell_type": "markdown",
   "id": "54f15782-cd54-4eef-a615-3533099fc985",
   "metadata": {},
   "source": [
    "## Velocity dependence and discretization"
   ]
  },
  {
   "cell_type": "markdown",
   "id": "17d39a5e-cc37-4bec-a6f9-af153287523f",
   "metadata": {},
   "source": [
    "Because of the Doppler shift for atoms with nonzero velocity along the direction of the laser beam, it is important to distinguish between atoms with different longitudinal velocities -- $\\rho(v)$, $A(v)$, and $b(v)$ are all functions of longitudinal velocity $v$. The constant term $b(v)$ describes the effect of transit repopulation, while the $A(v)$ includes the effect of several physical processes, of which Doppler shift, velocity-changing collisions (vcc), and recoil depend on velocity, each in a different manner."
   ]
  },
  {
   "cell_type": "markdown",
   "id": "46490344-dc0d-4cd1-a81a-e4564cc2f703",
   "metadata": {},
   "source": [
    "The Doppler shift of the pump light is proportional to $v$, so the term describing the Doppler shift can be written\n",
    "    $$\\dot\\rho_i(v)|_\\text{dop}=vA^\\text{dop}_{ij}\\rho_j(v).$$\n",
    "Velocity-changing collisions (vcc) are assumed to change the velocity of an atom to any other velocity with probability given by the Maxwell-Boltzmann distribution $n(v)$, so this term is proportional to $n(v)$ and is multiplied by the integral of $\\rho$ over all velocities, $\\int\\rho_j(v')dv'$:\n",
    "    $$\\dot\\rho_i(v)|_\\text{vcc}=A^\\text{vcc}_{ij}n(v)\\int\\rho_j(v')dv'.$$\n",
    "Atoms undergoing recoil have their velocities increased, transferring them to a neighboring velocity group, so this term is proportional to the derivative of $\\rho(v)$:\n",
    "    $$\\dot\\rho_i(v)|_\\text{rec}=A^\\text{rec}_{ij}\\frac{d\\rho_j}{dv}.$$\n",
    "Atoms entering the illuminated region have the Maxwell-Boltzmann velocity distribution, so this term is proportional to $n(v)$:\n",
    "    $$\\dot\\rho_i(v)|_\\text{trans}=n(v)b_i.$$\n",
    "Finally, there is also a term that is independent of the atomic velocity:\n",
    "    $$\\dot\\rho_i(v)|_\\text{ind}=A^\\text{ind}_{ij}\\rho_j(v).$$"
   ]
  },
  {
   "attachments": {},
   "cell_type": "markdown",
   "id": "c677c6e8-38c0-43f8-989a-68a2ac5c27b7",
   "metadata": {},
   "source": [
    "Corresponding equations for the density matrices $\\rho_{vi}$ for a discretized velocity distribution with $N_v$ velocity bins can be obtained by integrating the terms over each bin with mean velocities $v$, widths $\\Delta v$, and fractional densities $n_v\\Delta v$. This results in the terms\n",
    "    $$\\dot\\rho_{vi}|_\\text{dop}=vA^\\text{dop}_{ij}\\rho_{vj}=(v\\delta_{vv'})A^\\text{dop}_{ij}\\rho_{v'j}, $$\n",
    "    $$\\dot\\rho_{vi}|_\\text{vcc}=A^\\text{vcc}_{ij}n_v\\sum_{v'}\\rho_{v'j}=(n_v1_{v'})A^\\text{vcc}_{ij}\\rho_{v'j},$$\n",
    "    $$\\dot\\rho_{vi}|_\\text{rec}=A^\\text{rec}_{ij}\\frac{\\rho_{v+1,j}-\\rho_{vj}}{\\Delta v}=\\frac{\\delta_{v+1,v'}-\\delta_{vv'}}{\\Delta v}A^\\text{rec}_{ij}\\rho_{v'j},$$\n",
    "    $$\\dot\\rho_{vi}|_\\text{trans}=n_vb_i,$$\n",
    "    $$\\dot\\rho_{vi}|_\\text{ind}=A^\\text{ind}_{ij}\\rho_{vj}=\\delta_{vv'}A^\\text{ind}_{ij}\\rho_{v'j},$$\n",
    "where we have inserted operators on velocity space ($\\delta_{vv'}$ is the Kronecker delta function, i.e., identity matrix, and $1_{v'}$ is 1 for all values of $v'$) to make it explicit that we now have a linear equation for the $(N_v\\times N_\\rho)$ matrix $\\rho_{vi}$ in terms of four-dimensional $(N_v\\times N_v \\times N_\\rho\\times N_\\rho)$ matrices. The combined equation now reads\n",
    "$$\n",
    "    \\dot\\rho_{vi} \n",
    "        = \\left[\n",
    "            \\delta_{vv'}A^\\text{ind}_{ij} \n",
    "            + (v\\delta_{vv'})A^\\text{dop}_{ij} \n",
    "            + (n_v1_{v'})A^\\text{vcc}_{ij}\n",
    "            + \\frac{\\delta_{v+1,v'}-\\delta_{vv'}}{\\Delta v}A^\\text{rec}_{ij}\n",
    "        \\right]\\rho_{v'j} \n",
    "        + n_vb_i.\n",
    "$$ {#eq-discretized}"
   ]
  },
  {
   "cell_type": "markdown",
   "id": "d47af59f-ffe4-4d28-a98e-d49d46a9e041",
   "metadata": {},
   "source": [
    "## Representation in the pyMOR framework"
   ]
  },
  {
   "cell_type": "markdown",
   "id": "b8f861fa-7e17-4eda-a117-1b267af79ce6",
   "metadata": {},
   "source": [
    "In the pyMOR framework, vectors of independent variables such as $\\rho_{vi}$ are represented by `VectorArray` objects, and the matrices that connect them are represented by `Operator` objects. The pyLGS `LGSSystem` object can generate the objects corresponding to the terms in @eq-discretized."
   ]
  },
  {
   "cell_type": "markdown",
   "id": "a2a1f7e6-98da-469f-b630-3b926b1e83f1",
   "metadata": {},
   "source": [
    "Import the package:"
   ]
  },
  {
   "cell_type": "code",
   "execution_count": null,
   "id": "b97aef11-e4e4-4ea9-9d35-f475218f7778",
   "metadata": {},
   "outputs": [],
   "source": [
    "from pylgs.lgssystem import LGSSystem\n",
    "from pylgs.velocitygroups import VelocityGroups\n",
    "from pymor.algorithms.simplify import contract\n",
    "from pymor.algorithms.to_matrix import to_matrix\n",
    "import numpy as np"
   ]
  },
  {
   "cell_type": "markdown",
   "id": "1aecfd8e-83f6-4351-ab3c-18bda482c76c",
   "metadata": {},
   "source": [
    "Set numpy print options:"
   ]
  },
  {
   "cell_type": "code",
   "execution_count": null,
   "id": "161325f6-0b89-4131-9f88-42e1bdddf63d",
   "metadata": {},
   "outputs": [],
   "source": [
    "np.set_printoptions(formatter={'float': lambda x: f'{x:^ 8.2}' if x else f'{0:^ 8}'}, linewidth=140)"
   ]
  },
  {
   "cell_type": "markdown",
   "id": "7bebdf23-ee81-4f57-a3cb-e6c34b33b0e0",
   "metadata": {},
   "source": [
    "For simplicity, select a toy LGS atomic system with no angular momentum and fix all parameters:"
   ]
  },
  {
   "cell_type": "code",
   "execution_count": null,
   "id": "206e6e1a-dd64-4787-a8a5-feeaa331cd07",
   "metadata": {},
   "outputs": [],
   "source": [
    "lgs = LGSSystem(\n",
    "    'NaD1_Toy',\n",
    "    fixed_params={'IntensitySI1': 46.,\n",
    "                  'EllipticityDegrees1': 45.0,\n",
    "                  'PolarizationAngleDegrees1': 0,\n",
    "                  'DetuningHz1': -6.268e8,\n",
    "                  'LaserWidthHz1': 10.0e6,\n",
    "                  'BFieldG': 0.5,\n",
    "                  'MagneticZenithDegrees': 45.0,\n",
    "                  'MagneticAzimuthDegrees': 45.0,\n",
    "                  'SDampingCollisionRatePerS': 4081.63,\n",
    "                  'BeamTransitRatePerS': 131.944,\n",
    "                  'VccRatePerS': 28571.42,\n",
    "                  'TemperatureK': 185.0,\n",
    "                  'RecoilParameter': 1,\n",
    "                 }\n",
    ")"
   ]
  },
  {
   "cell_type": "markdown",
   "id": "2331ff00-bc8e-43b2-928c-1d31b1eb5100",
   "metadata": {},
   "source": [
    "The $A^\\text{ind}_{ij}$ operator is given by `lgs.A_ind`:"
   ]
  },
  {
   "cell_type": "code",
   "execution_count": null,
   "id": "d6d89077-7475-4ccb-ae43-5aeaf443872d",
   "metadata": {},
   "outputs": [
    {
     "data": {
      "text/html": [
       "A_ind{DM(4)} → {DM(4)}"
      ],
      "text/plain": [
       "XarrayMatrixOperator(\n",
       "    <xarray.DataArray 'A_ind' (Density matrix (range): 4, Density matrix (source): 4)> Size: 264B\n",
       "    <COO: shape=(4, 4), dtype=float64, nnz=11, fill_value=0.0>\n",
       "    Coordinates:\n",
       "      * Density matrix (range)   (Density matrix (range)) <U50 800B 'ρ<sub>Re, 3S...\n",
       "      * Density matrix (source)  (Density matrix (source)) <U50 800B 'ρ<sub>Re, 3...,\n",
       "    source=XarrayVectorSpace(\n",
       "               coords=Coordinates:\n",
       "                        * Density matrix (source)  (Density matrix (source)) <U50 800B 'ρ<sub>Re, 3...),\n",
       "    range=XarrayVectorSpace(\n",
       "              coords=Coordinates:\n",
       "                       * Density matrix (range)  (Density matrix (range)) <U50 800B 'ρ<sub>Re, 3S<...,\n",
       "              name='A_ind'),\n",
       "    name='A_ind')"
      ]
     },
     "execution_count": null,
     "metadata": {},
     "output_type": "execute_result"
    }
   ],
   "source": [
    "lgs.A_ind"
   ]
  },
  {
   "cell_type": "markdown",
   "id": "b2285f1b-cf54-4a64-84e5-43ef3462f070",
   "metadata": {},
   "source": [
    "The toy atomic system has only two states and four density-matrix elements, so $A^\\text{ind}_{ij}$ is a $4\\times4$ matrix. We can see it explicitly using `to_numpy()`:"
   ]
  },
  {
   "cell_type": "code",
   "execution_count": null,
   "id": "33ffea6d-df88-4013-9b44-9b04373e881f",
   "metadata": {},
   "outputs": [
    {
     "data": {
      "text/plain": [
       "array([[-2.9e+04,     0   ,  2.6e+07,  6.1e+07],\n",
       "       [    0   , -6.2e+07, -3.9e+09,     0   ],\n",
       "       [-1.3e+07,  3.9e+09, -6.2e+07,  1.3e+07],\n",
       "       [    0   ,     0   , -2.6e+07, -6.1e+07]])"
      ]
     },
     "execution_count": null,
     "metadata": {},
     "output_type": "execute_result"
    }
   ],
   "source": [
    "lgs.A_ind.to_numpy()"
   ]
  },
  {
   "cell_type": "code",
   "execution_count": null,
   "id": "9c09445b-76eb-4fb4-87e2-b0d7b58549c5",
   "metadata": {},
   "outputs": [],
   "source": [
    "#| hide\n",
    "test_array('tutorials', 'A_ind', _)"
   ]
  },
  {
   "cell_type": "markdown",
   "id": "b6369bd5-8735-4558-80be-4fdbe0d43ceb",
   "metadata": {},
   "source": [
    "We can similarly view $A^\\text{dop}_{ij}$:"
   ]
  },
  {
   "cell_type": "code",
   "execution_count": null,
   "id": "d0f0132b-12eb-41dc-a0bd-96f39648ad38",
   "metadata": {},
   "outputs": [
    {
     "data": {
      "text/plain": [
       "array([[    0   ,     0   ,     0   ,     0   ],\n",
       "       [    0   ,     0   , -3.9e+09,     0   ],\n",
       "       [    0   ,  3.9e+09,     0   ,     0   ],\n",
       "       [    0   ,     0   ,     0   ,     0   ]])"
      ]
     },
     "execution_count": null,
     "metadata": {},
     "output_type": "execute_result"
    }
   ],
   "source": [
    "lgs.A_dop.to_numpy()"
   ]
  },
  {
   "cell_type": "code",
   "execution_count": null,
   "id": "5c40fab6-e105-46bb-8623-c8933840c725",
   "metadata": {},
   "outputs": [],
   "source": [
    "#| hide\n",
    "test_array('tutorials', 'A_dop', _)"
   ]
  },
  {
   "cell_type": "markdown",
   "id": "531253ac-545c-4441-9ddd-02ccf1b8925d",
   "metadata": {},
   "source": [
    "$A^\\text{vcc}_{ij}$:"
   ]
  },
  {
   "cell_type": "code",
   "execution_count": null,
   "id": "0ec84bd5-905c-4b07-a9ad-65731211ee16",
   "metadata": {},
   "outputs": [
    {
     "data": {
      "text/plain": [
       "array([[ 2.9e+04,     0   ,     0   ,     0   ],\n",
       "       [    0   ,     0   ,     0   ,     0   ],\n",
       "       [    0   ,     0   ,     0   ,     0   ],\n",
       "       [    0   ,     0   ,     0   ,  2.9e+04]])"
      ]
     },
     "execution_count": null,
     "metadata": {},
     "output_type": "execute_result"
    }
   ],
   "source": [
    "lgs.A_vcc.to_numpy()"
   ]
  },
  {
   "cell_type": "code",
   "execution_count": null,
   "id": "9412cbd2-2a39-46f2-ab13-ccb830e096ce",
   "metadata": {},
   "outputs": [],
   "source": [
    "#| hide\n",
    "test_array('tutorials', 'A_vcc', _)"
   ]
  },
  {
   "cell_type": "markdown",
   "id": "9d3ba1e6-675e-4c57-b5bf-b40730edca36",
   "metadata": {},
   "source": [
    "$A^\\text{rec}_{ij}$:"
   ]
  },
  {
   "cell_type": "code",
   "execution_count": null,
   "id": "bbc54218-74e0-42ef-8126-5f472a9562db",
   "metadata": {},
   "outputs": [
    {
     "data": {
      "text/plain": [
       "array([[    0   ,     0   ,     0   , -4.9e+03],\n",
       "       [    0   ,     0   ,     0   ,     0   ],\n",
       "       [    0   ,     0   ,     0   ,     0   ],\n",
       "       [    0   ,     0   ,     0   ,     0   ]])"
      ]
     },
     "execution_count": null,
     "metadata": {},
     "output_type": "execute_result"
    }
   ],
   "source": [
    "lgs.A_rec.to_numpy()"
   ]
  },
  {
   "cell_type": "code",
   "execution_count": null,
   "id": "05a7d0bf-4a66-4fa3-a6ca-9558b2c2b143",
   "metadata": {},
   "outputs": [],
   "source": [
    "#| hide\n",
    "test_array('tutorials', 'A_rec', _)"
   ]
  },
  {
   "cell_type": "markdown",
   "id": "15109d69-d6d4-4a5b-a34c-cb52e16ec4cd",
   "metadata": {},
   "source": [
    "And $b_{i}$:"
   ]
  },
  {
   "cell_type": "code",
   "execution_count": null,
   "id": "1e0c0b4b-7bf4-4457-8061-baacc8d9576e",
   "metadata": {},
   "outputs": [
    {
     "data": {
      "text/plain": [
       "array([[ 1.3e+02],\n",
       "       [    0   ],\n",
       "       [    0   ],\n",
       "       [    0   ]])"
      ]
     },
     "execution_count": null,
     "metadata": {},
     "output_type": "execute_result"
    }
   ],
   "source": [
    "lgs.b.to_numpy()"
   ]
  },
  {
   "cell_type": "code",
   "execution_count": null,
   "id": "c538ab34-e2db-4177-8339-b3908de3db3b",
   "metadata": {},
   "outputs": [],
   "source": [
    "#| hide\n",
    "test_array('tutorials', 'b', _)"
   ]
  },
  {
   "cell_type": "markdown",
   "id": "f1a5f788-3289-4d3f-954e-02bfb99b2309",
   "metadata": {},
   "source": [
    "To form the velocity-space operators from @eq-discretized, we first define a set of velocity groups, here three evenly spaced groups:"
   ]
  },
  {
   "cell_type": "code",
   "execution_count": null,
   "id": "b0f0f951-e370-44e6-9a28-18c93769b735",
   "metadata": {},
   "outputs": [],
   "source": [
    "vg = VelocityGroups(3)"
   ]
  },
  {
   "cell_type": "markdown",
   "id": "8eddbe4d-3999-4424-908b-3cd317aaeb1e",
   "metadata": {},
   "source": [
    "The explicit form of $\\delta_{vv'}$ is"
   ]
  },
  {
   "cell_type": "code",
   "execution_count": null,
   "id": "025f40df-b21f-43c1-82d5-147ac67db8af",
   "metadata": {},
   "outputs": [
    {
     "data": {
      "text/plain": [
       "array([[   1.0  ,     0   ,     0   ],\n",
       "       [    0   ,    1.0  ,     0   ],\n",
       "       [    0   ,     0   ,    1.0  ]])"
      ]
     },
     "execution_count": null,
     "metadata": {},
     "output_type": "execute_result"
    }
   ],
   "source": [
    "vg.identity().to_numpy()"
   ]
  },
  {
   "cell_type": "code",
   "execution_count": null,
   "id": "154eab94-c714-4935-9cf8-28b7920e86d1",
   "metadata": {},
   "outputs": [],
   "source": [
    "#| hide\n",
    "test_array('tutorials', 'vg_identity', _)"
   ]
  },
  {
   "cell_type": "markdown",
   "id": "26b0e698-a4d6-46ec-8a24-31650f151b5a",
   "metadata": {},
   "source": [
    "$v\\delta_{vv'}$:"
   ]
  },
  {
   "cell_type": "code",
   "execution_count": null,
   "id": "133acffb-d06b-45e1-9037-36323fedd604",
   "metadata": {},
   "outputs": [
    {
     "data": {
      "text/plain": [
       "array([[  -2.0  ,     0   ,     0   ],\n",
       "       [    0   ,     0   ,     0   ],\n",
       "       [    0   ,     0   ,    2.0  ]])"
      ]
     },
     "execution_count": null,
     "metadata": {},
     "output_type": "execute_result"
    }
   ],
   "source": [
    "vg.velocity_diagonal().to_numpy()"
   ]
  },
  {
   "cell_type": "code",
   "execution_count": null,
   "id": "96673396-41ce-4953-91af-5aba1b621367",
   "metadata": {},
   "outputs": [],
   "source": [
    "#| hide\n",
    "test_array('tutorials', 'velocity_diagonal', _)"
   ]
  },
  {
   "cell_type": "markdown",
   "id": "9c044e44-27ab-4394-a81a-11f9cd1edc79",
   "metadata": {},
   "source": [
    "$n_v1_{v'}$:"
   ]
  },
  {
   "cell_type": "code",
   "execution_count": null,
   "id": "606703d3-9dba-4091-a972-6275792dec13",
   "metadata": {},
   "outputs": [
    {
     "data": {
      "text/plain": [
       "array([[  0.079 ,   0.079 ,   0.079 ],\n",
       "       [  0.84  ,   0.84  ,   0.84  ],\n",
       "       [  0.079 ,   0.079 ,   0.079 ]])"
      ]
     },
     "execution_count": null,
     "metadata": {},
     "output_type": "execute_result"
    }
   ],
   "source": [
    "vg.n_times_1().to_numpy()"
   ]
  },
  {
   "cell_type": "code",
   "execution_count": null,
   "id": "4a1bf8a3-4ffd-44e6-bc3b-ec117e164fb5",
   "metadata": {},
   "outputs": [],
   "source": [
    "#| hide\n",
    "test_array('tutorials', 'n_times_1', _)"
   ]
  },
  {
   "cell_type": "markdown",
   "id": "da005759-ec01-4870-99ec-328328ed972b",
   "metadata": {},
   "source": [
    "And $(\\delta_{v+1,v'}-\\delta_{vv'})/\\Delta v$:"
   ]
  },
  {
   "cell_type": "code",
   "execution_count": null,
   "id": "bf237b7e-6ecc-4aa0-98b1-3990aad6d5a4",
   "metadata": {},
   "outputs": [
    {
     "data": {
      "text/plain": [
       "array([[   0.5  ,     0   ,     0   ],\n",
       "       [  -0.5  ,    0.5  ,     0   ],\n",
       "       [    0   ,   -0.5  ,    0.5  ]])"
      ]
     },
     "execution_count": null,
     "metadata": {},
     "output_type": "execute_result"
    }
   ],
   "source": [
    "vg.drho_dv().to_numpy()"
   ]
  },
  {
   "cell_type": "code",
   "execution_count": null,
   "id": "ab70aef1-b9c0-42c4-8697-372bea8754c7",
   "metadata": {},
   "outputs": [],
   "source": [
    "#| hide\n",
    "test_array('tutorials', 'drho_dv', _)"
   ]
  },
  {
   "cell_type": "markdown",
   "id": "65d1f66a-a9f3-4423-afce-5e1c0ffb4b2d",
   "metadata": {},
   "source": [
    "The combined operator $A$, including both density-matrix and velocity-group factors, can be constructed with"
   ]
  },
  {
   "cell_type": "code",
   "execution_count": null,
   "id": "00c8231e-343e-4a5e-a9cf-78a3dc04014e",
   "metadata": {},
   "outputs": [
    {
     "data": {
      "text/html": [
       "X{AV(3) ⨉ DM(4)} → {AV(3) ⨉ DM(4)}"
      ],
      "text/plain": [
       "XarrayMatrixOperator(\n",
       "    <xarray.DataArray (Atomic velocity (range): 3, Atomic velocity: 3,\n",
       "                       Density matrix (range): 4, Density matrix (source): 4)> Size: 2kB\n",
       "    <COO: shape=(3, 3, 4, 4), dtype=float64, nnz=47, fill_value=-0.0>\n",
       "    Coordinates:\n",
       "      * Atomic velocity (range)  (Atomic velocity (range)) float64 24B -2.0 0.0 2.0\n",
       "      * Atomic velocity          (Atomic velocity) float64 24B -2.0 0.0 2.0\n",
       "      * Density matrix (range)   (Density matrix (range)) <U50 800B 'ρ<sub>Re, 3S...\n",
       "      * Density matrix (source)  (Density matrix (source)) <U50 800B 'ρ<sub>Re, 3...,\n",
       "    source=XarrayVectorSpace(\n",
       "               coords=Coordinates:\n",
       "                        * Atomic velocity          (Atomic velocity) float64 24B -2.0 0.0 2.0\n",
       "                        * Density matrix (source)  (Density matrix (source)) <U50 800B 'ρ<sub>Re, 3...),\n",
       "    range=XarrayVectorSpace(\n",
       "              coords=Coordinates:\n",
       "                       * Atomic velocity (range)  (Atomic velocity (range)) float64 24B -2.0 0.0 2.0\n",
       "                       * Density matrix (range)   (Density matrix (range)) <U50 800B 'ρ<sub>Re, 3S...))"
      ]
     },
     "execution_count": null,
     "metadata": {},
     "output_type": "execute_result"
    }
   ],
   "source": [
    "A = contract(lgs.operator(vg))\n",
    "A"
   ]
  },
  {
   "cell_type": "markdown",
   "id": "1ce754b8-4f99-46e4-a0b9-ecabbde7a667",
   "metadata": {},
   "source": [
    "Internally, it is represented by a 4-dimensional xarray `DataArray`:"
   ]
  },
  {
   "cell_type": "code",
   "execution_count": null,
   "id": "882054dc-14d4-4ad0-af51-fb4eaa8fca9b",
   "metadata": {},
   "outputs": [
    {
     "data": {
      "text/html": [
       "<div><svg style=\"position: absolute; width: 0; height: 0; overflow: hidden\">\n",
       "<defs>\n",
       "<symbol id=\"icon-database\" viewBox=\"0 0 32 32\">\n",
       "<path d=\"M16 0c-8.837 0-16 2.239-16 5v4c0 2.761 7.163 5 16 5s16-2.239 16-5v-4c0-2.761-7.163-5-16-5z\"></path>\n",
       "<path d=\"M16 17c-8.837 0-16-2.239-16-5v6c0 2.761 7.163 5 16 5s16-2.239 16-5v-6c0 2.761-7.163 5-16 5z\"></path>\n",
       "<path d=\"M16 26c-8.837 0-16-2.239-16-5v6c0 2.761 7.163 5 16 5s16-2.239 16-5v-6c0 2.761-7.163 5-16 5z\"></path>\n",
       "</symbol>\n",
       "<symbol id=\"icon-file-text2\" viewBox=\"0 0 32 32\">\n",
       "<path d=\"M28.681 7.159c-0.694-0.947-1.662-2.053-2.724-3.116s-2.169-2.030-3.116-2.724c-1.612-1.182-2.393-1.319-2.841-1.319h-15.5c-1.378 0-2.5 1.121-2.5 2.5v27c0 1.378 1.122 2.5 2.5 2.5h23c1.378 0 2.5-1.122 2.5-2.5v-19.5c0-0.448-0.137-1.23-1.319-2.841zM24.543 5.457c0.959 0.959 1.712 1.825 2.268 2.543h-4.811v-4.811c0.718 0.556 1.584 1.309 2.543 2.268zM28 29.5c0 0.271-0.229 0.5-0.5 0.5h-23c-0.271 0-0.5-0.229-0.5-0.5v-27c0-0.271 0.229-0.5 0.5-0.5 0 0 15.499-0 15.5 0v7c0 0.552 0.448 1 1 1h7v19.5z\"></path>\n",
       "<path d=\"M23 26h-14c-0.552 0-1-0.448-1-1s0.448-1 1-1h14c0.552 0 1 0.448 1 1s-0.448 1-1 1z\"></path>\n",
       "<path d=\"M23 22h-14c-0.552 0-1-0.448-1-1s0.448-1 1-1h14c0.552 0 1 0.448 1 1s-0.448 1-1 1z\"></path>\n",
       "<path d=\"M23 18h-14c-0.552 0-1-0.448-1-1s0.448-1 1-1h14c0.552 0 1 0.448 1 1s-0.448 1-1 1z\"></path>\n",
       "</symbol>\n",
       "</defs>\n",
       "</svg>\n",
       "<style>/* CSS stylesheet for displaying xarray objects in jupyterlab.\n",
       " *\n",
       " */\n",
       "\n",
       ":root {\n",
       "  --xr-font-color0: var(--jp-content-font-color0, rgba(0, 0, 0, 1));\n",
       "  --xr-font-color2: var(--jp-content-font-color2, rgba(0, 0, 0, 0.54));\n",
       "  --xr-font-color3: var(--jp-content-font-color3, rgba(0, 0, 0, 0.38));\n",
       "  --xr-border-color: var(--jp-border-color2, #e0e0e0);\n",
       "  --xr-disabled-color: var(--jp-layout-color3, #bdbdbd);\n",
       "  --xr-background-color: var(--jp-layout-color0, white);\n",
       "  --xr-background-color-row-even: var(--jp-layout-color1, white);\n",
       "  --xr-background-color-row-odd: var(--jp-layout-color2, #eeeeee);\n",
       "}\n",
       "\n",
       "html[theme=dark],\n",
       "html[data-theme=dark],\n",
       "body[data-theme=dark],\n",
       "body.vscode-dark {\n",
       "  --xr-font-color0: rgba(255, 255, 255, 1);\n",
       "  --xr-font-color2: rgba(255, 255, 255, 0.54);\n",
       "  --xr-font-color3: rgba(255, 255, 255, 0.38);\n",
       "  --xr-border-color: #1F1F1F;\n",
       "  --xr-disabled-color: #515151;\n",
       "  --xr-background-color: #111111;\n",
       "  --xr-background-color-row-even: #111111;\n",
       "  --xr-background-color-row-odd: #313131;\n",
       "}\n",
       "\n",
       ".xr-wrap {\n",
       "  display: block !important;\n",
       "  min-width: 300px;\n",
       "  max-width: 700px;\n",
       "}\n",
       "\n",
       ".xr-text-repr-fallback {\n",
       "  /* fallback to plain text repr when CSS is not injected (untrusted notebook) */\n",
       "  display: none;\n",
       "}\n",
       "\n",
       ".xr-header {\n",
       "  padding-top: 6px;\n",
       "  padding-bottom: 6px;\n",
       "  margin-bottom: 4px;\n",
       "  border-bottom: solid 1px var(--xr-border-color);\n",
       "}\n",
       "\n",
       ".xr-header > div,\n",
       ".xr-header > ul {\n",
       "  display: inline;\n",
       "  margin-top: 0;\n",
       "  margin-bottom: 0;\n",
       "}\n",
       "\n",
       ".xr-obj-type,\n",
       ".xr-array-name {\n",
       "  margin-left: 2px;\n",
       "  margin-right: 10px;\n",
       "}\n",
       "\n",
       ".xr-obj-type {\n",
       "  color: var(--xr-font-color2);\n",
       "}\n",
       "\n",
       ".xr-sections {\n",
       "  padding-left: 0 !important;\n",
       "  display: grid;\n",
       "  grid-template-columns: 150px auto auto 1fr 0 20px 0 20px;\n",
       "}\n",
       "\n",
       ".xr-section-item {\n",
       "  display: contents;\n",
       "}\n",
       "\n",
       ".xr-section-item input {\n",
       "  display: inline-block;\n",
       "  opacity: 0;\n",
       "}\n",
       "\n",
       ".xr-section-item input + label {\n",
       "  color: var(--xr-disabled-color);\n",
       "}\n",
       "\n",
       ".xr-section-item input:enabled + label {\n",
       "  cursor: pointer;\n",
       "  color: var(--xr-font-color2);\n",
       "}\n",
       "\n",
       ".xr-section-item input:focus + label {\n",
       "  border: 2px solid var(--xr-font-color0);\n",
       "}\n",
       "\n",
       ".xr-section-item input:enabled + label:hover {\n",
       "  color: var(--xr-font-color0);\n",
       "}\n",
       "\n",
       ".xr-section-summary {\n",
       "  grid-column: 1;\n",
       "  color: var(--xr-font-color2);\n",
       "  font-weight: 500;\n",
       "}\n",
       "\n",
       ".xr-section-summary > span {\n",
       "  display: inline-block;\n",
       "  padding-left: 0.5em;\n",
       "}\n",
       "\n",
       ".xr-section-summary-in:disabled + label {\n",
       "  color: var(--xr-font-color2);\n",
       "}\n",
       "\n",
       ".xr-section-summary-in + label:before {\n",
       "  display: inline-block;\n",
       "  content: '►';\n",
       "  font-size: 11px;\n",
       "  width: 15px;\n",
       "  text-align: center;\n",
       "}\n",
       "\n",
       ".xr-section-summary-in:disabled + label:before {\n",
       "  color: var(--xr-disabled-color);\n",
       "}\n",
       "\n",
       ".xr-section-summary-in:checked + label:before {\n",
       "  content: '▼';\n",
       "}\n",
       "\n",
       ".xr-section-summary-in:checked + label > span {\n",
       "  display: none;\n",
       "}\n",
       "\n",
       ".xr-section-summary,\n",
       ".xr-section-inline-details {\n",
       "  padding-top: 4px;\n",
       "  padding-bottom: 4px;\n",
       "}\n",
       "\n",
       ".xr-section-inline-details {\n",
       "  grid-column: 2 / -1;\n",
       "}\n",
       "\n",
       ".xr-section-details {\n",
       "  display: none;\n",
       "  grid-column: 1 / -1;\n",
       "  margin-bottom: 5px;\n",
       "}\n",
       "\n",
       ".xr-section-summary-in:checked ~ .xr-section-details {\n",
       "  display: contents;\n",
       "}\n",
       "\n",
       ".xr-array-wrap {\n",
       "  grid-column: 1 / -1;\n",
       "  display: grid;\n",
       "  grid-template-columns: 20px auto;\n",
       "}\n",
       "\n",
       ".xr-array-wrap > label {\n",
       "  grid-column: 1;\n",
       "  vertical-align: top;\n",
       "}\n",
       "\n",
       ".xr-preview {\n",
       "  color: var(--xr-font-color3);\n",
       "}\n",
       "\n",
       ".xr-array-preview,\n",
       ".xr-array-data {\n",
       "  padding: 0 5px !important;\n",
       "  grid-column: 2;\n",
       "}\n",
       "\n",
       ".xr-array-data,\n",
       ".xr-array-in:checked ~ .xr-array-preview {\n",
       "  display: none;\n",
       "}\n",
       "\n",
       ".xr-array-in:checked ~ .xr-array-data,\n",
       ".xr-array-preview {\n",
       "  display: inline-block;\n",
       "}\n",
       "\n",
       ".xr-dim-list {\n",
       "  display: inline-block !important;\n",
       "  list-style: none;\n",
       "  padding: 0 !important;\n",
       "  margin: 0;\n",
       "}\n",
       "\n",
       ".xr-dim-list li {\n",
       "  display: inline-block;\n",
       "  padding: 0;\n",
       "  margin: 0;\n",
       "}\n",
       "\n",
       ".xr-dim-list:before {\n",
       "  content: '(';\n",
       "}\n",
       "\n",
       ".xr-dim-list:after {\n",
       "  content: ')';\n",
       "}\n",
       "\n",
       ".xr-dim-list li:not(:last-child):after {\n",
       "  content: ',';\n",
       "  padding-right: 5px;\n",
       "}\n",
       "\n",
       ".xr-has-index {\n",
       "  font-weight: bold;\n",
       "}\n",
       "\n",
       ".xr-var-list,\n",
       ".xr-var-item {\n",
       "  display: contents;\n",
       "}\n",
       "\n",
       ".xr-var-item > div,\n",
       ".xr-var-item label,\n",
       ".xr-var-item > .xr-var-name span {\n",
       "  background-color: var(--xr-background-color-row-even);\n",
       "  margin-bottom: 0;\n",
       "}\n",
       "\n",
       ".xr-var-item > .xr-var-name:hover span {\n",
       "  padding-right: 5px;\n",
       "}\n",
       "\n",
       ".xr-var-list > li:nth-child(odd) > div,\n",
       ".xr-var-list > li:nth-child(odd) > label,\n",
       ".xr-var-list > li:nth-child(odd) > .xr-var-name span {\n",
       "  background-color: var(--xr-background-color-row-odd);\n",
       "}\n",
       "\n",
       ".xr-var-name {\n",
       "  grid-column: 1;\n",
       "}\n",
       "\n",
       ".xr-var-dims {\n",
       "  grid-column: 2;\n",
       "}\n",
       "\n",
       ".xr-var-dtype {\n",
       "  grid-column: 3;\n",
       "  text-align: right;\n",
       "  color: var(--xr-font-color2);\n",
       "}\n",
       "\n",
       ".xr-var-preview {\n",
       "  grid-column: 4;\n",
       "}\n",
       "\n",
       ".xr-index-preview {\n",
       "  grid-column: 2 / 5;\n",
       "  color: var(--xr-font-color2);\n",
       "}\n",
       "\n",
       ".xr-var-name,\n",
       ".xr-var-dims,\n",
       ".xr-var-dtype,\n",
       ".xr-preview,\n",
       ".xr-attrs dt {\n",
       "  white-space: nowrap;\n",
       "  overflow: hidden;\n",
       "  text-overflow: ellipsis;\n",
       "  padding-right: 10px;\n",
       "}\n",
       "\n",
       ".xr-var-name:hover,\n",
       ".xr-var-dims:hover,\n",
       ".xr-var-dtype:hover,\n",
       ".xr-attrs dt:hover {\n",
       "  overflow: visible;\n",
       "  width: auto;\n",
       "  z-index: 1;\n",
       "}\n",
       "\n",
       ".xr-var-attrs,\n",
       ".xr-var-data,\n",
       ".xr-index-data {\n",
       "  display: none;\n",
       "  background-color: var(--xr-background-color) !important;\n",
       "  padding-bottom: 5px !important;\n",
       "}\n",
       "\n",
       ".xr-var-attrs-in:checked ~ .xr-var-attrs,\n",
       ".xr-var-data-in:checked ~ .xr-var-data,\n",
       ".xr-index-data-in:checked ~ .xr-index-data {\n",
       "  display: block;\n",
       "}\n",
       "\n",
       ".xr-var-data > table {\n",
       "  float: right;\n",
       "}\n",
       "\n",
       ".xr-var-name span,\n",
       ".xr-var-data,\n",
       ".xr-index-name div,\n",
       ".xr-index-data,\n",
       ".xr-attrs {\n",
       "  padding-left: 25px !important;\n",
       "}\n",
       "\n",
       ".xr-attrs,\n",
       ".xr-var-attrs,\n",
       ".xr-var-data,\n",
       ".xr-index-data {\n",
       "  grid-column: 1 / -1;\n",
       "}\n",
       "\n",
       "dl.xr-attrs {\n",
       "  padding: 0;\n",
       "  margin: 0;\n",
       "  display: grid;\n",
       "  grid-template-columns: 125px auto;\n",
       "}\n",
       "\n",
       ".xr-attrs dt,\n",
       ".xr-attrs dd {\n",
       "  padding: 0;\n",
       "  margin: 0;\n",
       "  float: left;\n",
       "  padding-right: 10px;\n",
       "  width: auto;\n",
       "}\n",
       "\n",
       ".xr-attrs dt {\n",
       "  font-weight: normal;\n",
       "  grid-column: 1;\n",
       "}\n",
       "\n",
       ".xr-attrs dt:hover span {\n",
       "  display: inline-block;\n",
       "  background: var(--xr-background-color);\n",
       "  padding-right: 10px;\n",
       "}\n",
       "\n",
       ".xr-attrs dd {\n",
       "  grid-column: 2;\n",
       "  white-space: pre-wrap;\n",
       "  word-break: break-all;\n",
       "}\n",
       "\n",
       ".xr-icon-database,\n",
       ".xr-icon-file-text2,\n",
       ".xr-no-icon {\n",
       "  display: inline-block;\n",
       "  vertical-align: middle;\n",
       "  width: 1em;\n",
       "  height: 1.5em !important;\n",
       "  stroke-width: 0;\n",
       "  stroke: currentColor;\n",
       "  fill: currentColor;\n",
       "}\n",
       "</style><pre class='xr-text-repr-fallback'>&lt;xarray.DataArray (Atomic velocity (range): 3, Atomic velocity: 3,\n",
       "                   Density matrix (range): 4, Density matrix (source): 4)&gt; Size: 2kB\n",
       "&lt;COO: shape=(3, 3, 4, 4), dtype=float64, nnz=47, fill_value=-0.0&gt;\n",
       "Coordinates:\n",
       "  * Atomic velocity (range)  (Atomic velocity (range)) float64 24B -2.0 0.0 2.0\n",
       "  * Atomic velocity          (Atomic velocity) float64 24B -2.0 0.0 2.0\n",
       "  * Density matrix (range)   (Density matrix (range)) &lt;U50 800B &#x27;ρ&lt;sub&gt;Re, 3S...\n",
       "  * Density matrix (source)  (Density matrix (source)) &lt;U50 800B &#x27;ρ&lt;sub&gt;Re, 3...</pre><div class='xr-wrap' style='display:none'><div class='xr-header'><div class='xr-obj-type'>xarray.DataArray</div><div class='xr-array-name'></div><ul class='xr-dim-list'><li><span class='xr-has-index'>Atomic velocity (range)</span>: 3</li><li><span class='xr-has-index'>Atomic velocity</span>: 3</li><li><span class='xr-has-index'>Density matrix (range)</span>: 4</li><li><span class='xr-has-index'>Density matrix (source)</span>: 4</li></ul></div><ul class='xr-sections'><li class='xr-section-item'><div class='xr-array-wrap'><input id='section-9c3bcd63-3238-440e-8b3b-dc436828e2b8' class='xr-array-in' type='checkbox' checked><label for='section-9c3bcd63-3238-440e-8b3b-dc436828e2b8' title='Show/hide data repr'><svg class='icon xr-icon-database'><use xlink:href='#icon-database'></use></svg></label><div class='xr-array-preview xr-preview'><span>&lt;COO: nnz=47, fill_value=-0.0&gt;</span></div><div class='xr-array-data'><table><tbody><tr><th style=\"text-align: left\">Format</th><td style=\"text-align: left\">coo</td></tr><tr><th style=\"text-align: left\">Data Type</th><td style=\"text-align: left\">float64</td></tr><tr><th style=\"text-align: left\">Shape</th><td style=\"text-align: left\">(3, 3, 4, 4)</td></tr><tr><th style=\"text-align: left\">nnz</th><td style=\"text-align: left\">47</td></tr><tr><th style=\"text-align: left\">Density</th><td style=\"text-align: left\">0.3263888888888889</td></tr><tr><th style=\"text-align: left\">Read-only</th><td style=\"text-align: left\">True</td></tr><tr><th style=\"text-align: left\">Size</th><td style=\"text-align: left\">1.8K</td></tr><tr><th style=\"text-align: left\">Storage ratio</th><td style=\"text-align: left\">1.63</td></tr></tbody></table></div></div></li><li class='xr-section-item'><input id='section-5ac56bb2-57c1-497b-9f6d-05dc015298fe' class='xr-section-summary-in' type='checkbox'  checked><label for='section-5ac56bb2-57c1-497b-9f6d-05dc015298fe' class='xr-section-summary' >Coordinates: <span>(4)</span></label><div class='xr-section-inline-details'></div><div class='xr-section-details'><ul class='xr-var-list'><li class='xr-var-item'><div class='xr-var-name'><span class='xr-has-index'>Atomic velocity (range)</span></div><div class='xr-var-dims'>(Atomic velocity (range))</div><div class='xr-var-dtype'>float64</div><div class='xr-var-preview xr-preview'>-2.0 0.0 2.0</div><input id='attrs-5314e65f-0409-4f08-b958-b63b93264afc' class='xr-var-attrs-in' type='checkbox' disabled><label for='attrs-5314e65f-0409-4f08-b958-b63b93264afc' title='Show/Hide attributes'><svg class='icon xr-icon-file-text2'><use xlink:href='#icon-file-text2'></use></svg></label><input id='data-44299e91-3860-4e84-bb0a-ab418b319d6b' class='xr-var-data-in' type='checkbox'><label for='data-44299e91-3860-4e84-bb0a-ab418b319d6b' title='Show/Hide data repr'><svg class='icon xr-icon-database'><use xlink:href='#icon-database'></use></svg></label><div class='xr-var-attrs'><dl class='xr-attrs'></dl></div><div class='xr-var-data'><pre>array([-2.,  0.,  2.])</pre></div></li><li class='xr-var-item'><div class='xr-var-name'><span class='xr-has-index'>Atomic velocity</span></div><div class='xr-var-dims'>(Atomic velocity)</div><div class='xr-var-dtype'>float64</div><div class='xr-var-preview xr-preview'>-2.0 0.0 2.0</div><input id='attrs-75dfbce9-b884-4126-bc5d-f4c9d77938a2' class='xr-var-attrs-in' type='checkbox' disabled><label for='attrs-75dfbce9-b884-4126-bc5d-f4c9d77938a2' title='Show/Hide attributes'><svg class='icon xr-icon-file-text2'><use xlink:href='#icon-file-text2'></use></svg></label><input id='data-fb9203da-4a7e-4a08-b3d5-4d39b93af66e' class='xr-var-data-in' type='checkbox'><label for='data-fb9203da-4a7e-4a08-b3d5-4d39b93af66e' title='Show/Hide data repr'><svg class='icon xr-icon-database'><use xlink:href='#icon-database'></use></svg></label><div class='xr-var-attrs'><dl class='xr-attrs'></dl></div><div class='xr-var-data'><pre>array([-2.,  0.,  2.])</pre></div></li><li class='xr-var-item'><div class='xr-var-name'><span class='xr-has-index'>Density matrix (range)</span></div><div class='xr-var-dims'>(Density matrix (range))</div><div class='xr-var-dtype'>&lt;U50</div><div class='xr-var-preview xr-preview'>&#x27;ρ&lt;sub&gt;Re, 3S&lt;sub&gt;1/2&lt;/sub&gt;, 3S&lt;...</div><input id='attrs-b38761e6-27c8-4932-bfa8-86d4e259a096' class='xr-var-attrs-in' type='checkbox' disabled><label for='attrs-b38761e6-27c8-4932-bfa8-86d4e259a096' title='Show/Hide attributes'><svg class='icon xr-icon-file-text2'><use xlink:href='#icon-file-text2'></use></svg></label><input id='data-4d66d1bb-c9d9-414d-87b9-fecf29da967f' class='xr-var-data-in' type='checkbox'><label for='data-4d66d1bb-c9d9-414d-87b9-fecf29da967f' title='Show/Hide data repr'><svg class='icon xr-icon-database'><use xlink:href='#icon-database'></use></svg></label><div class='xr-var-attrs'><dl class='xr-attrs'></dl></div><div class='xr-var-data'><pre>array([&#x27;ρ&lt;sub&gt;Re, 3S&lt;sub&gt;1/2&lt;/sub&gt;, 3S&lt;sub&gt;1/2&lt;/sub&gt;&lt;/sub&gt;&#x27;,\n",
       "       &#x27;ρ&lt;sub&gt;Re, 3S&lt;sub&gt;1/2&lt;/sub&gt;, 3P&lt;sub&gt;1/2&lt;/sub&gt;&lt;/sub&gt;&#x27;,\n",
       "       &#x27;ρ&lt;sub&gt;Im, 3S&lt;sub&gt;1/2&lt;/sub&gt;, 3P&lt;sub&gt;1/2&lt;/sub&gt;&lt;/sub&gt;&#x27;,\n",
       "       &#x27;ρ&lt;sub&gt;Re, 3P&lt;sub&gt;1/2&lt;/sub&gt;, 3P&lt;sub&gt;1/2&lt;/sub&gt;&lt;/sub&gt;&#x27;], dtype=&#x27;&lt;U50&#x27;)</pre></div></li><li class='xr-var-item'><div class='xr-var-name'><span class='xr-has-index'>Density matrix (source)</span></div><div class='xr-var-dims'>(Density matrix (source))</div><div class='xr-var-dtype'>&lt;U50</div><div class='xr-var-preview xr-preview'>&#x27;ρ&lt;sub&gt;Re, 3S&lt;sub&gt;1/2&lt;/sub&gt;, 3S&lt;...</div><input id='attrs-2977b7ff-3649-4448-9c6d-3a636095849f' class='xr-var-attrs-in' type='checkbox' disabled><label for='attrs-2977b7ff-3649-4448-9c6d-3a636095849f' title='Show/Hide attributes'><svg class='icon xr-icon-file-text2'><use xlink:href='#icon-file-text2'></use></svg></label><input id='data-d0fb42bc-8bee-4a09-a331-8717205d63be' class='xr-var-data-in' type='checkbox'><label for='data-d0fb42bc-8bee-4a09-a331-8717205d63be' title='Show/Hide data repr'><svg class='icon xr-icon-database'><use xlink:href='#icon-database'></use></svg></label><div class='xr-var-attrs'><dl class='xr-attrs'></dl></div><div class='xr-var-data'><pre>array([&#x27;ρ&lt;sub&gt;Re, 3S&lt;sub&gt;1/2&lt;/sub&gt;, 3S&lt;sub&gt;1/2&lt;/sub&gt;&lt;/sub&gt;&#x27;,\n",
       "       &#x27;ρ&lt;sub&gt;Re, 3S&lt;sub&gt;1/2&lt;/sub&gt;, 3P&lt;sub&gt;1/2&lt;/sub&gt;&lt;/sub&gt;&#x27;,\n",
       "       &#x27;ρ&lt;sub&gt;Im, 3S&lt;sub&gt;1/2&lt;/sub&gt;, 3P&lt;sub&gt;1/2&lt;/sub&gt;&lt;/sub&gt;&#x27;,\n",
       "       &#x27;ρ&lt;sub&gt;Re, 3P&lt;sub&gt;1/2&lt;/sub&gt;, 3P&lt;sub&gt;1/2&lt;/sub&gt;&lt;/sub&gt;&#x27;], dtype=&#x27;&lt;U50&#x27;)</pre></div></li></ul></div></li><li class='xr-section-item'><input id='section-150a64e2-cdac-49a5-8b18-cfdc0ed7b892' class='xr-section-summary-in' type='checkbox'  ><label for='section-150a64e2-cdac-49a5-8b18-cfdc0ed7b892' class='xr-section-summary' >Indexes: <span>(4)</span></label><div class='xr-section-inline-details'></div><div class='xr-section-details'><ul class='xr-var-list'><li class='xr-var-item'><div class='xr-index-name'><div>Atomic velocity (range)</div></div><div class='xr-index-preview'>PandasIndex</div><div></div><input id='index-25c2bb7b-9831-4789-97a2-5f2bcffe3b3f' class='xr-index-data-in' type='checkbox'/><label for='index-25c2bb7b-9831-4789-97a2-5f2bcffe3b3f' title='Show/Hide index repr'><svg class='icon xr-icon-database'><use xlink:href='#icon-database'></use></svg></label><div class='xr-index-data'><pre>PandasIndex(Index([-2.0, 0.0, 2.0], dtype=&#x27;float64&#x27;, name=&#x27;Atomic velocity (range)&#x27;))</pre></div></li><li class='xr-var-item'><div class='xr-index-name'><div>Atomic velocity</div></div><div class='xr-index-preview'>PandasIndex</div><div></div><input id='index-a027a21b-5ec5-428a-93ac-d8a929446772' class='xr-index-data-in' type='checkbox'/><label for='index-a027a21b-5ec5-428a-93ac-d8a929446772' title='Show/Hide index repr'><svg class='icon xr-icon-database'><use xlink:href='#icon-database'></use></svg></label><div class='xr-index-data'><pre>PandasIndex(Index([-2.0, 0.0, 2.0], dtype=&#x27;float64&#x27;, name=&#x27;Atomic velocity&#x27;))</pre></div></li><li class='xr-var-item'><div class='xr-index-name'><div>Density matrix (range)</div></div><div class='xr-index-preview'>PandasIndex</div><div></div><input id='index-13892714-5957-459c-9da3-3f4253bd1f9d' class='xr-index-data-in' type='checkbox'/><label for='index-13892714-5957-459c-9da3-3f4253bd1f9d' title='Show/Hide index repr'><svg class='icon xr-icon-database'><use xlink:href='#icon-database'></use></svg></label><div class='xr-index-data'><pre>PandasIndex(Index([&#x27;ρ&lt;sub&gt;Re, 3S&lt;sub&gt;1/2&lt;/sub&gt;, 3S&lt;sub&gt;1/2&lt;/sub&gt;&lt;/sub&gt;&#x27;,\n",
       "       &#x27;ρ&lt;sub&gt;Re, 3S&lt;sub&gt;1/2&lt;/sub&gt;, 3P&lt;sub&gt;1/2&lt;/sub&gt;&lt;/sub&gt;&#x27;,\n",
       "       &#x27;ρ&lt;sub&gt;Im, 3S&lt;sub&gt;1/2&lt;/sub&gt;, 3P&lt;sub&gt;1/2&lt;/sub&gt;&lt;/sub&gt;&#x27;,\n",
       "       &#x27;ρ&lt;sub&gt;Re, 3P&lt;sub&gt;1/2&lt;/sub&gt;, 3P&lt;sub&gt;1/2&lt;/sub&gt;&lt;/sub&gt;&#x27;],\n",
       "      dtype=&#x27;object&#x27;, name=&#x27;Density matrix (range)&#x27;))</pre></div></li><li class='xr-var-item'><div class='xr-index-name'><div>Density matrix (source)</div></div><div class='xr-index-preview'>PandasIndex</div><div></div><input id='index-2cb8d16c-f66d-423e-b848-e9c490ac453e' class='xr-index-data-in' type='checkbox'/><label for='index-2cb8d16c-f66d-423e-b848-e9c490ac453e' title='Show/Hide index repr'><svg class='icon xr-icon-database'><use xlink:href='#icon-database'></use></svg></label><div class='xr-index-data'><pre>PandasIndex(Index([&#x27;ρ&lt;sub&gt;Re, 3S&lt;sub&gt;1/2&lt;/sub&gt;, 3S&lt;sub&gt;1/2&lt;/sub&gt;&lt;/sub&gt;&#x27;,\n",
       "       &#x27;ρ&lt;sub&gt;Re, 3S&lt;sub&gt;1/2&lt;/sub&gt;, 3P&lt;sub&gt;1/2&lt;/sub&gt;&lt;/sub&gt;&#x27;,\n",
       "       &#x27;ρ&lt;sub&gt;Im, 3S&lt;sub&gt;1/2&lt;/sub&gt;, 3P&lt;sub&gt;1/2&lt;/sub&gt;&lt;/sub&gt;&#x27;,\n",
       "       &#x27;ρ&lt;sub&gt;Re, 3P&lt;sub&gt;1/2&lt;/sub&gt;, 3P&lt;sub&gt;1/2&lt;/sub&gt;&lt;/sub&gt;&#x27;],\n",
       "      dtype=&#x27;object&#x27;, name=&#x27;Density matrix (source)&#x27;))</pre></div></li></ul></div></li><li class='xr-section-item'><input id='section-1641e212-f9c0-42b6-9887-70ca9a352711' class='xr-section-summary-in' type='checkbox' disabled ><label for='section-1641e212-f9c0-42b6-9887-70ca9a352711' class='xr-section-summary'  title='Expand/collapse section'>Attributes: <span>(0)</span></label><div class='xr-section-inline-details'></div><div class='xr-section-details'><dl class='xr-attrs'></dl></div></li></ul></div></div>"
      ],
      "text/plain": [
       "<xarray.DataArray (Atomic velocity (range): 3, Atomic velocity: 3,\n",
       "                   Density matrix (range): 4, Density matrix (source): 4)> Size: 2kB\n",
       "<COO: shape=(3, 3, 4, 4), dtype=float64, nnz=47, fill_value=-0.0>\n",
       "Coordinates:\n",
       "  * Atomic velocity (range)  (Atomic velocity (range)) float64 24B -2.0 0.0 2.0\n",
       "  * Atomic velocity          (Atomic velocity) float64 24B -2.0 0.0 2.0\n",
       "  * Density matrix (range)   (Density matrix (range)) <U50 800B 'ρ<sub>Re, 3S...\n",
       "  * Density matrix (source)  (Density matrix (source)) <U50 800B 'ρ<sub>Re, 3..."
      ]
     },
     "execution_count": null,
     "metadata": {},
     "output_type": "execute_result"
    }
   ],
   "source": [
    "A.matrix"
   ]
  },
  {
   "cell_type": "markdown",
   "id": "629c7be6-8137-4ea9-bbae-d2ed6675483f",
   "metadata": {},
   "source": [
    "We can also express it as a $12\\times12$ block matrix with the $4\\times4$ elements of each block referring to density-matrix elements, and each of the $3\\times3$ array of blocks referring to a pair of velocity groups:"
   ]
  },
  {
   "cell_type": "code",
   "execution_count": null,
   "id": "73d94584-f11b-426b-830d-d4595d74f023",
   "metadata": {},
   "outputs": [
    {
     "data": {
      "text/plain": [
       "array([[ 2.6e+04,     0   , -2.6e+07, -6.1e+07, -2.2e+03,     0   ,     0   ,     0   , -2.2e+03,     0   ,     0   ,     0   ],\n",
       "       [    0   ,  6.2e+07, -3.9e+09,     0   ,     0   ,     0   ,     0   ,     0   ,     0   ,     0   ,     0   ,     0   ],\n",
       "       [ 1.3e+07,  3.9e+09,  6.2e+07, -1.3e+07,     0   ,     0   ,     0   ,     0   ,     0   ,     0   ,     0   ,     0   ],\n",
       "       [    0   ,     0   ,  2.6e+07,  6.1e+07,     0   ,     0   ,     0   , -2.2e+03,     0   ,     0   ,     0   , -2.2e+03],\n",
       "       [-2.4e+04,     0   ,     0   , -2.5e+03,  4.6e+03,     0   , -2.6e+07, -6.1e+07, -2.4e+04,     0   ,     0   ,     0   ],\n",
       "       [    0   ,     0   ,     0   ,     0   ,     0   ,  6.2e+07,  3.9e+09,     0   ,     0   ,     0   ,     0   ,     0   ],\n",
       "       [    0   ,     0   ,     0   ,     0   ,  1.3e+07, -3.9e+09,  6.2e+07, -1.3e+07,     0   ,     0   ,     0   ,     0   ],\n",
       "       [    0   ,     0   ,     0   , -2.4e+04,     0   ,     0   ,  2.6e+07,  6.1e+07,     0   ,     0   ,     0   , -2.4e+04],\n",
       "       [-2.2e+03,     0   ,     0   ,     0   , -2.2e+03,     0   ,     0   , -2.5e+03,  2.6e+04,     0   , -2.6e+07, -6.1e+07],\n",
       "       [    0   ,     0   ,     0   ,     0   ,     0   ,     0   ,     0   ,     0   ,     0   ,  6.2e+07,  1.2e+10,     0   ],\n",
       "       [    0   ,     0   ,     0   ,     0   ,     0   ,     0   ,     0   ,     0   ,  1.3e+07, -1.2e+10,  6.2e+07, -1.3e+07],\n",
       "       [    0   ,     0   ,     0   , -2.2e+03,     0   ,     0   ,     0   , -2.2e+03,     0   ,     0   ,  2.6e+07,  6.1e+07]])"
      ]
     },
     "execution_count": null,
     "metadata": {},
     "output_type": "execute_result"
    }
   ],
   "source": [
    "to_matrix(A).toarray()"
   ]
  },
  {
   "cell_type": "code",
   "execution_count": null,
   "id": "b7856018-6f4d-4b88-bb30-1c612c398c7a",
   "metadata": {},
   "outputs": [],
   "source": [
    "#| hide\n",
    "test_array('tutorials', 'A', _)"
   ]
  },
  {
   "cell_type": "markdown",
   "id": "5bfe9f98-3f87-4830-a997-8bd8a4934ef6",
   "metadata": {},
   "source": [
    "The expanded form is used when the solver needs an explicit form of the matrix for sparse ILU factorization."
   ]
  },
  {
   "cell_type": "markdown",
   "id": "9a829f8e-ca46-4d37-b8eb-bd42c9ea8517",
   "metadata": {},
   "source": [
    "## Solving the stationary model"
   ]
  },
  {
   "cell_type": "markdown",
   "id": "be3a00f4-197d-40d3-8d20-0cbe85c87ebd",
   "metadata": {},
   "source": [
    "## Solving the instationary model"
   ]
  },
  {
   "cell_type": "markdown",
   "id": "0913d8b6-937c-49e4-9eb7-5c6728b0ab99",
   "metadata": {},
   "source": [
    "## Solving the Floquet model"
   ]
  },
  {
   "cell_type": "code",
   "execution_count": null,
   "id": "b1c2cd37-13f6-4103-a220-94ce0103c22c",
   "metadata": {},
   "outputs": [],
   "source": []
  }
 ],
 "metadata": {
  "kernelspec": {
   "display_name": "python3",
   "language": "python",
   "name": "python3"
  }
 },
 "nbformat": 4,
 "nbformat_minor": 5
}
